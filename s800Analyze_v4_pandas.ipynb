{
  "nbformat": 4,
  "nbformat_minor": 0,
  "metadata": {
    "colab": {
      "name": "s800Analyze_v4_pandas.ipynb",
      "provenance": [],
      "collapsed_sections": [
        "Dn8F8MC50v8-",
        "ZsxmUc1r1kMz",
        "3_caTSXm13OF",
        "Fz2WRo1r3A1H",
        "mjCESP1t3JbU",
        "fU5ZEi6vn4et",
        "n1VeFx6gmRvN",
        "RR-KKABjTe0k",
        "i5SyNzfgTNaw",
        "OY4N-PzoSUPU",
        "Z0hJ_NO4UGMp",
        "2mS2OW9qXX4H",
        "4l9QsjmTGfHh",
        "RzR8ubqAdWZh",
        "D9Eyh3dgW3sG",
        "-qQnJWG9eN6n",
        "zvtsOQD-lHye",
        "VFTMCUmylfLv",
        "XiE0lRGD4C4v",
        "qN-2S5dt41NQ",
        "C-okeYnV0OPq",
        "3ZNggbNZF4JS",
        "4nYSClGSGKEd",
        "lEfsTvGuGmFu",
        "mOdKd7YnHFlG",
        "6F1x4BPNGDWm",
        "fOzxCthtlkoy",
        "zJ4XLQXbmzzt",
        "uk3OquCG3avB",
        "t9WOIED_285-",
        "7QQMpAzgZrvF",
        "enlBkP1cbAfB",
        "GTXEe1ndoDdW",
        "6uTMWK1QpILx",
        "8gOX5wZdhnFx",
        "_O0Eq9wLD_zT",
        "KPh6jjfMh3AP",
        "G3vaOVX7iIqx",
        "edMiB7hY1XZu"
      ],
      "authorship_tag": "ABX9TyNqzC3ZQL/AZSAoe2pj2eyo",
      "include_colab_link": true
    },
    "kernelspec": {
      "name": "python3",
      "display_name": "Python 3"
    }
  },
  "cells": [
    {
      "cell_type": "markdown",
      "metadata": {
        "id": "view-in-github",
        "colab_type": "text"
      },
      "source": [
        "<a href=\"https://colab.research.google.com/github/harttu/annotation_consistency_checker/blob/main/s800Analyze_v4_pandas.ipynb\" target=\"_parent\"><img src=\"https://colab.research.google.com/assets/colab-badge.svg\" alt=\"Open In Colab\"/></a>"
      ]
    },
    {
      "cell_type": "markdown",
      "metadata": {
        "id": "yDYsDtMKrSTB"
      },
      "source": [
        "# S800 vs. LINNAEUS diff tool\n",
        "\n",
        "*   List item\n",
        "*   List item\n",
        "\n"
      ]
    },
    {
      "cell_type": "markdown",
      "metadata": {
        "id": "wB6CjQuBrapc"
      },
      "source": [
        "Generates HTML fiels for comparing S800 incorpus annotations "
      ]
    },
    {
      "cell_type": "markdown",
      "metadata": {
        "id": "p5FffqmCq9WE"
      },
      "source": [
        "## Import libraries\n"
      ]
    },
    {
      "cell_type": "code",
      "metadata": {
        "id": "ljScu8krhK70"
      },
      "source": [
        "import re\n",
        "from google.colab import files\n",
        "import csv\n",
        "import re\n",
        "import IPython\n",
        "import pandas as pd\n"
      ],
      "execution_count": 48,
      "outputs": []
    },
    {
      "cell_type": "code",
      "metadata": {
        "id": "cjgaB696ndmF",
        "colab": {
          "base_uri": "https://localhost:8080/"
        },
        "outputId": "f161c77d-b426-4230-958d-bfa91f2f5f6d"
      },
      "source": [
        "ls"
      ],
      "execution_count": 49,
      "outputs": [
        {
          "output_type": "stream",
          "text": [
            "common_names.txt  linnaeus.tar.gz  s800.tar.gz\n",
            "\u001b[0m\u001b[01;34mlinnaeus-corpus\u001b[0m/  \u001b[01;34ms800\u001b[0m/            \u001b[01;34msample_data\u001b[0m/\n"
          ],
          "name": "stdout"
        }
      ]
    },
    {
      "cell_type": "markdown",
      "metadata": {
        "id": "oN2zkHpZneEv"
      },
      "source": [
        "#Download Data\n"
      ]
    },
    {
      "cell_type": "markdown",
      "metadata": {
        "id": "CeZ33RwontKz"
      },
      "source": [
        "Download the LINNAEUS standoff data"
      ]
    },
    {
      "cell_type": "code",
      "metadata": {
        "id": "SKJrl8Lfr4U4",
        "colab": {
          "base_uri": "https://localhost:8080/"
        },
        "outputId": "42943990-54ea-404b-84f6-e749b359784b"
      },
      "source": [
        "cd /content/"
      ],
      "execution_count": 50,
      "outputs": [
        {
          "output_type": "stream",
          "text": [
            "/content\n"
          ],
          "name": "stdout"
        }
      ]
    },
    {
      "cell_type": "code",
      "metadata": {
        "id": "4U6WcRjAnknK",
        "colab": {
          "base_uri": "https://localhost:8080/"
        },
        "outputId": "58b7bff1-fb53-43f9-a644-f9a7fa812afd"
      },
      "source": [
        "!wget https://github.com/harttu/linneaus_s800_comparison/raw/master/linnaeus.tar.gz 1>/dev/null"
      ],
      "execution_count": 51,
      "outputs": [
        {
          "output_type": "stream",
          "text": [
            "--2021-06-01 17:42:34--  https://github.com/harttu/linneaus_s800_comparison/raw/master/linnaeus.tar.gz\n",
            "Resolving github.com (github.com)... 140.82.112.4\n",
            "Connecting to github.com (github.com)|140.82.112.4|:443... connected.\n",
            "HTTP request sent, awaiting response... 301 Moved Permanently\n",
            "Location: https://github.com/harttu/linnaeus_s800_comparison/raw/master/linnaeus.tar.gz [following]\n",
            "--2021-06-01 17:42:34--  https://github.com/harttu/linnaeus_s800_comparison/raw/master/linnaeus.tar.gz\n",
            "Reusing existing connection to github.com:443.\n",
            "HTTP request sent, awaiting response... 302 Found\n",
            "Location: https://raw.githubusercontent.com/harttu/linnaeus_s800_comparison/master/linnaeus.tar.gz [following]\n",
            "--2021-06-01 17:42:34--  https://raw.githubusercontent.com/harttu/linnaeus_s800_comparison/master/linnaeus.tar.gz\n",
            "Resolving raw.githubusercontent.com (raw.githubusercontent.com)... 185.199.108.133, 185.199.109.133, 185.199.110.133, ...\n",
            "Connecting to raw.githubusercontent.com (raw.githubusercontent.com)|185.199.108.133|:443... connected.\n",
            "HTTP request sent, awaiting response... 200 OK\n",
            "Length: 5097031 (4.9M) [application/octet-stream]\n",
            "Saving to: ‘linnaeus.tar.gz.1’\n",
            "\n",
            "linnaeus.tar.gz.1   100%[===================>]   4.86M  --.-KB/s    in 0.1s    \n",
            "\n",
            "2021-06-01 17:42:35 (41.7 MB/s) - ‘linnaeus.tar.gz.1’ saved [5097031/5097031]\n",
            "\n"
          ],
          "name": "stdout"
        }
      ]
    },
    {
      "cell_type": "markdown",
      "metadata": {
        "id": "i5UCLXmQn_7B"
      },
      "source": [
        "Unzip it and make some examinations"
      ]
    },
    {
      "cell_type": "code",
      "metadata": {
        "id": "8jzZakO0oAQC"
      },
      "source": [
        "!tar zxvf linnaeus.tar.gz 1>/dev/null"
      ],
      "execution_count": 52,
      "outputs": []
    },
    {
      "cell_type": "markdown",
      "metadata": {
        "id": "S3bOU3vLDC4Y"
      },
      "source": [
        "###Download the s800 standoff data\n"
      ]
    },
    {
      "cell_type": "code",
      "metadata": {
        "id": "mM9w3hsZhKM6",
        "colab": {
          "base_uri": "https://localhost:8080/"
        },
        "outputId": "58655d44-4813-4381-f221-7b082441ff52"
      },
      "source": [
        "!wget https://github.com/harttu/LINNEAUS_s800_comparison/raw/master/s800.tar.gz 1>/dev/null"
      ],
      "execution_count": 53,
      "outputs": [
        {
          "output_type": "stream",
          "text": [
            "--2021-06-01 17:42:35--  https://github.com/harttu/LINNEAUS_s800_comparison/raw/master/s800.tar.gz\n",
            "Resolving github.com (github.com)... 140.82.113.4\n",
            "Connecting to github.com (github.com)|140.82.113.4|:443... connected.\n",
            "HTTP request sent, awaiting response... 301 Moved Permanently\n",
            "Location: https://github.com/harttu/linnaeus_s800_comparison/raw/master/s800.tar.gz [following]\n",
            "--2021-06-01 17:42:35--  https://github.com/harttu/linnaeus_s800_comparison/raw/master/s800.tar.gz\n",
            "Reusing existing connection to github.com:443.\n",
            "HTTP request sent, awaiting response... 302 Found\n",
            "Location: https://raw.githubusercontent.com/harttu/linnaeus_s800_comparison/master/s800.tar.gz [following]\n",
            "--2021-06-01 17:42:36--  https://raw.githubusercontent.com/harttu/linnaeus_s800_comparison/master/s800.tar.gz\n",
            "Resolving raw.githubusercontent.com (raw.githubusercontent.com)... 185.199.108.133, 185.199.109.133, 185.199.110.133, ...\n",
            "Connecting to raw.githubusercontent.com (raw.githubusercontent.com)|185.199.108.133|:443... connected.\n",
            "HTTP request sent, awaiting response... 200 OK\n",
            "Length: 4718082 (4.5M) [application/octet-stream]\n",
            "Saving to: ‘s800.tar.gz.1’\n",
            "\n",
            "s800.tar.gz.1       100%[===================>]   4.50M  --.-KB/s    in 0.1s    \n",
            "\n",
            "2021-06-01 17:42:36 (35.1 MB/s) - ‘s800.tar.gz.1’ saved [4718082/4718082]\n",
            "\n"
          ],
          "name": "stdout"
        }
      ]
    },
    {
      "cell_type": "code",
      "metadata": {
        "id": "SMyjsy-zh_xE"
      },
      "source": [
        "!tar zxvf s800.tar.gz 1>/dev/null\n"
      ],
      "execution_count": 54,
      "outputs": []
    },
    {
      "cell_type": "code",
      "metadata": {
        "id": "h1uWhUasiQGE",
        "colab": {
          "base_uri": "https://localhost:8080/"
        },
        "outputId": "a4eaf95a-39f3-403a-f206-2e9f2ba78cb0"
      },
      "source": [
        "!ls s800/split-standoff/train | head -3"
      ],
      "execution_count": 55,
      "outputs": [
        {
          "output_type": "stream",
          "text": [
            "19667393.ann\n",
            "19667393.txt\n",
            "20044015.ann\n"
          ],
          "name": "stdout"
        }
      ]
    },
    {
      "cell_type": "code",
      "metadata": {
        "colab": {
          "base_uri": "https://localhost:8080/"
        },
        "id": "07mbQvHfi4xX",
        "outputId": "bfad39a8-dbb8-410d-ce99-44adf63fa267"
      },
      "source": [
        "!ls linnaeus-corpus/split-standoff/train | head -3"
      ],
      "execution_count": 56,
      "outputs": [
        {
          "output_type": "stream",
          "text": [
            "pmcA102792.ann\n",
            "pmcA102792.txt\n",
            "pmcA1131934.ann\n"
          ],
          "name": "stdout"
        }
      ]
    },
    {
      "cell_type": "code",
      "metadata": {
        "colab": {
          "base_uri": "https://localhost:8080/"
        },
        "id": "WnIox7mPpgBp",
        "outputId": "8586186d-c4a1-4e86-f1ff-61975e1b7cba"
      },
      "source": [
        "!ls s800"
      ],
      "execution_count": 57,
      "outputs": [
        {
          "output_type": "stream",
          "text": [
            "conll\t\t README.md\t  split_s800.sh   standoff2conll\n",
            "convert_s800.sh  S800-1.0.tar.gz  split-standoff  tools\n",
            "original-data\t split\t\t  standoff\n"
          ],
          "name": "stdout"
        }
      ]
    },
    {
      "cell_type": "markdown",
      "metadata": {
        "id": "57h2NjssqD1I"
      },
      "source": [
        "###Download common names, which is a list of general names\n"
      ]
    },
    {
      "cell_type": "code",
      "metadata": {
        "colab": {
          "base_uri": "https://localhost:8080/"
        },
        "id": "OEsaen6tqD1K",
        "outputId": "fc8073ba-3559-4bfc-812a-548e43322184"
      },
      "source": [
        "!wget https://github.com/harttu/linneaus_s800_comparison/raw/master/common_names.txt 1>/dev/null"
      ],
      "execution_count": 58,
      "outputs": [
        {
          "output_type": "stream",
          "text": [
            "--2021-06-01 17:42:37--  https://github.com/harttu/linneaus_s800_comparison/raw/master/common_names.txt\n",
            "Resolving github.com (github.com)... 140.82.113.4\n",
            "Connecting to github.com (github.com)|140.82.113.4|:443... connected.\n",
            "HTTP request sent, awaiting response... 301 Moved Permanently\n",
            "Location: https://github.com/harttu/linnaeus_s800_comparison/raw/master/common_names.txt [following]\n",
            "--2021-06-01 17:42:38--  https://github.com/harttu/linnaeus_s800_comparison/raw/master/common_names.txt\n",
            "Reusing existing connection to github.com:443.\n",
            "HTTP request sent, awaiting response... 302 Found\n",
            "Location: https://raw.githubusercontent.com/harttu/linnaeus_s800_comparison/master/common_names.txt [following]\n",
            "--2021-06-01 17:42:38--  https://raw.githubusercontent.com/harttu/linnaeus_s800_comparison/master/common_names.txt\n",
            "Resolving raw.githubusercontent.com (raw.githubusercontent.com)... 185.199.108.133, 185.199.109.133, 185.199.110.133, ...\n",
            "Connecting to raw.githubusercontent.com (raw.githubusercontent.com)|185.199.108.133|:443... connected.\n",
            "HTTP request sent, awaiting response... 200 OK\n",
            "Length: 792190 (774K) [text/plain]\n",
            "Saving to: ‘common_names.txt.1’\n",
            "\n",
            "common_names.txt.1  100%[===================>] 773.62K  --.-KB/s    in 0.05s   \n",
            "\n",
            "2021-06-01 17:42:38 (14.3 MB/s) - ‘common_names.txt.1’ saved [792190/792190]\n",
            "\n"
          ],
          "name": "stdout"
        }
      ]
    },
    {
      "cell_type": "code",
      "metadata": {
        "id": "o6wsnfsLqD1O"
      },
      "source": [
        "common_names = []\n",
        "common_names_file = open(\"common_names.txt\",\"r\")\n",
        "common_names = [ i for i in common_names_file.readlines() ]\n",
        "common_names_file.close()"
      ],
      "execution_count": 59,
      "outputs": []
    },
    {
      "cell_type": "code",
      "metadata": {
        "id": "2IYWHZQZqD1P"
      },
      "source": [
        "species_set_common_names = set([ name.strip() for name in common_names ])"
      ],
      "execution_count": 60,
      "outputs": []
    },
    {
      "cell_type": "code",
      "metadata": {
        "colab": {
          "base_uri": "https://localhost:8080/"
        },
        "id": "3NgB0c_FqD1Q",
        "outputId": "67b056b1-33b0-4641-c3e8-a46d1c6c8169"
      },
      "source": [
        "len(species_set_common_names)"
      ],
      "execution_count": 61,
      "outputs": [
        {
          "output_type": "execute_result",
          "data": {
            "text/plain": [
              "43499"
            ]
          },
          "metadata": {
            "tags": []
          },
          "execution_count": 61
        }
      ]
    },
    {
      "cell_type": "markdown",
      "metadata": {
        "id": "cxqCP8Pnp-4w"
      },
      "source": [
        "## Get annos of all the files"
      ]
    },
    {
      "cell_type": "code",
      "metadata": {
        "id": "qqDG05x-rs8d"
      },
      "source": [
        "def create_document_data(dir):\n",
        "  splits = {\"train\":dir+\"/split/train.txt\",\"test\":dir+\"/split/test.txt\",\"devel\":dir+\"/split/devel.txt\"}\n",
        "  dir_to_standoff = dir+\"/standoff/\"\n",
        "\n",
        "  Data = {};\n",
        "\n",
        "  for split_name in [\"train\", \"test\", \"devel\"]:\n",
        "    a_file = open(splits[split_name])\n",
        "    for sample_number in a_file.readlines()[0:]:\n",
        "      sample_number = sample_number.strip()\n",
        "      a_txt_file = open(dir_to_standoff+sample_number+\".txt\")\n",
        "      an_ann_file = open(dir_to_standoff+sample_number+\".ann\")\n",
        "\n",
        "      file_content = a_txt_file.read()\n",
        "      Data[sample_number] = {\"text\": file_content, \"annotations\":[]}#, \"unannotations\":[]} \n",
        "\n",
        "      for ann_iter in an_ann_file.readlines():\n",
        "        species_match = re.search(\"Species (\\d+) (\\d+)\\t(.*)$\", ann_iter, flags = 0) \n",
        "        if species_match != None:\n",
        "          species_match_begin = int(species_match.group(1)) \n",
        "          species_match_end = int(species_match.group(2))\n",
        "          species_match_str = str(species_match.group(3))\n",
        "          #if sample_number not in s800Data.keys():\n",
        "          Data[sample_number][\"annotations\"].append({\"NCBI\":species_match_str,\"species\":file_content[species_match_begin:species_match_end],\"begin\":species_match_begin,\"end\":species_match_end})  \n",
        "      \n",
        "      a_txt_file.close()\n",
        "      an_ann_file.close()\n",
        "\n",
        "    a_file.close()\n",
        "    return Data"
      ],
      "execution_count": 62,
      "outputs": []
    },
    {
      "cell_type": "code",
      "metadata": {
        "id": "JrAVbX14hzE_"
      },
      "source": [
        "def get_annotations(dir):\n",
        "  # splits have information, which file begins to which category\n",
        "  splits = {\"train\":dir+\"/split/train.txt\",\"test\":dir+\"/split/test.txt\",\"devel\":dir+\"/split/devel.txt\"}\n",
        "  dir_to_standoff = dir+\"/standoff/\"\n",
        "\n",
        "  species_set = set();\n",
        "\n",
        "  for split_name in [\"train\", \"test\", \"devel\"]:\n",
        "    a_file = open(splits[split_name])\n",
        "    for filename_begin in a_file.readlines()[0:]:\n",
        "      a_txt_file = open(dir_to_standoff+filename_begin.strip()+\".txt\")\n",
        "      an_ann_file = open(dir_to_standoff+filename_begin.strip()+\".ann\")\n",
        "\n",
        "      file_content = a_txt_file.read()\n",
        "      species_for_ann_file = {}\n",
        "      for ann_iter in an_ann_file.readlines():\n",
        "        #return ann_iter\n",
        "        species_match = re.search(\"Species (\\d+) (\\d+)\\t(.*)$\", ann_iter, flags = 0) \n",
        "        if species_match != None:\n",
        "          species_match_begin = int(species_match.group(1)) \n",
        "          species_match_end = int(species_match.group(2)) \n",
        "          species_match_string = str(species_match.group(3))\n",
        "          #print(species_match_string)\n",
        "          #return 0\n",
        "          species_set.add(species_match_string)\n",
        "          #if file_content[species_match_begin:species_match_end] not in species_for_ann_file.keys():\n",
        "          #  species_for_ann_file[file_content[species_match_begin:species_match_end]] = {'O':0,'Species':0}\n",
        "          #species_for_ann_file[file_content[species_match_begin:species_match_end]]['Species'] += 1\n",
        "      #for species_elem in species_for_ann_file:\n",
        "        #if species_elem not in species_LINNAEUS.keys():\n",
        "            #species_LINNAEUS[species_elem] = {'O':0,'Species':0}\n",
        "        #species_LINNAEUS[species_elem]['Species'] += species_for_ann_file[species_elem]['Species']\n",
        "      a_txt_file.close()\n",
        "      an_ann_file.close()\n",
        "\n",
        "    a_file.close()\n",
        "\n",
        "    return species_set"
      ],
      "execution_count": 63,
      "outputs": []
    },
    {
      "cell_type": "markdown",
      "metadata": {
        "id": "1eF7JmQVoXQS"
      },
      "source": [
        "species_linnaeus dictionary - contains species name as keyword and 'O' and 'Species' tags to refer how many words were annotated as them in the corpus. Such as species_LINNAEUS['yeast'] is {'O': 0, 'Species': 96}."
      ]
    },
    {
      "cell_type": "code",
      "metadata": {
        "id": "IPBkdeFpkAJZ"
      },
      "source": [
        "species_set_LINNAEUS = get_annotations(\"linnaeus-corpus\")\n",
        "species_set_S800 = get_annotations(\"s800\")\n"
      ],
      "execution_count": 64,
      "outputs": []
    },
    {
      "cell_type": "code",
      "metadata": {
        "colab": {
          "base_uri": "https://localhost:8080/"
        },
        "id": "EAlxW893nKFJ",
        "outputId": "d9896c1d-421c-410e-e58c-d303da7e5bee"
      },
      "source": [
        "len(species_set_LINNAEUS.intersection(species_set_S800))"
      ],
      "execution_count": 65,
      "outputs": [
        {
          "output_type": "execute_result",
          "data": {
            "text/plain": [
              "57"
            ]
          },
          "metadata": {
            "tags": []
          },
          "execution_count": 65
        }
      ]
    },
    {
      "cell_type": "code",
      "metadata": {
        "colab": {
          "base_uri": "https://localhost:8080/"
        },
        "id": "ZFL_vp3cqtso",
        "outputId": "f0e7b77b-b42a-4a15-ab25-d3a85082b4e6"
      },
      "source": [
        "len(species_set_S800.intersection(species_set_common_names))"
      ],
      "execution_count": 66,
      "outputs": [
        {
          "output_type": "execute_result",
          "data": {
            "text/plain": [
              "90"
            ]
          },
          "metadata": {
            "tags": []
          },
          "execution_count": 66
        }
      ]
    },
    {
      "cell_type": "code",
      "metadata": {
        "id": "A2DYfFz9sVAq"
      },
      "source": [
        "documents_S800 = create_document_data(\"s800\")\n",
        "documents_LINNAEUS = create_document_data(\"linnaeus-corpus\")"
      ],
      "execution_count": 67,
      "outputs": []
    },
    {
      "cell_type": "code",
      "metadata": {
        "id": "3--Uys7rs48D"
      },
      "source": [
        "#documents_S800"
      ],
      "execution_count": 68,
      "outputs": []
    },
    {
      "cell_type": "code",
      "metadata": {
        "colab": {
          "base_uri": "https://localhost:8080/"
        },
        "id": "EzNhWlscstxY",
        "outputId": "1a6eab26-6de8-4ca5-8e0a-362eba174402"
      },
      "source": [
        "list(documents_S800.keys())[0:2]"
      ],
      "execution_count": 69,
      "outputs": [
        {
          "output_type": "execute_result",
          "data": {
            "text/plain": [
              "['19667393', '20044015']"
            ]
          },
          "metadata": {
            "tags": []
          },
          "execution_count": 69
        }
      ]
    },
    {
      "cell_type": "code",
      "metadata": {
        "id": "LIo2xHD9H9ij"
      },
      "source": [
        "species_set_union = species_set_S800.union(species_set_LINNAEUS)"
      ],
      "execution_count": 70,
      "outputs": []
    },
    {
      "cell_type": "code",
      "metadata": {
        "id": "uNAFV_-Q6C0g"
      },
      "source": [
        "if False:\n",
        "  i = 0\n",
        "  for char in doc[\"text\"]:\n",
        "    print(str(i)+\"\\t\"+char+\"\\t\"+str(annos[i]))\n",
        "    i += 1"
      ],
      "execution_count": 71,
      "outputs": []
    },
    {
      "cell_type": "code",
      "metadata": {
        "id": "Gzf2eEovlU8N"
      },
      "source": [
        "#speciesDict"
      ],
      "execution_count": 72,
      "outputs": []
    },
    {
      "cell_type": "code",
      "metadata": {
        "id": "Zmdm2nq7j3gm"
      },
      "source": [
        "#for doc in documents__S800:\n",
        "#  print(doc)\n",
        "#  break"
      ],
      "execution_count": 73,
      "outputs": []
    },
    {
      "cell_type": "code",
      "metadata": {
        "id": "1VzY3rFIIb5O"
      },
      "source": [
        "# go through all the species key \n",
        "#   for every document\n",
        "#     find all instances of species key in doc\n",
        "#       if it is not in the range of any annotation, increase species variable, if not increase 'O' varible\n",
        "\n",
        "def form_info(speciesDict,documentList,documentName):\n",
        "  speciesList = list(speciesDict.keys())\n",
        "  keySpecies = documentName+\"_Species\"\n",
        "  keyO = documentName+\"_O\"\n",
        "  for species in speciesDict.keys():\n",
        "    speciesDict[species][keySpecies] = 0\n",
        "    speciesDict[species][keyO] = 0\n",
        "  counter_species = 0\n",
        "  for species in speciesList:\n",
        "    counter_species += 1\n",
        "    print('\\r'+str(counter_species)+\" of \"+str(len(speciesList)), end='', flush=True)\n",
        "    #print(str(counter_species)+\" of \"+str(len(speciesList)), sep=' ', end='\\r', flush=True)\n",
        "    for documentKey in list(documentList.keys()):\n",
        "      #print(\"document:\"+documentKey)\n",
        "      document = documentList[documentKey]\n",
        "      #print(document[\"text\"])\n",
        "      # make a list of zeros and ones, indicating whether there is a species in certain place\n",
        "      #annos = [0] * len(document[\"text\"]);\n",
        "      #for anno in document[\"annotations\"]:\n",
        "      #  begin = anno[\"begin\"]\n",
        "      #  end = anno[\"end\"]\n",
        "      #  annos[begin:end] = [1] * (end - begin)\n",
        "      annos = [ {\"begin\":x[\"begin\"],\"end\":x[\"end\"] } for x in document[\"annotations\"] ]\n",
        "      for match in re.finditer(\"(^| |\\\\()(\"+re.escape(species)+\")[\\\\ \\\\. \\\\,\\\\(\\\\)]\",document[\"text\"]):\n",
        "        ##print(\"Match - start:\"+str(match.start(2))+\" end:\"+str(match.end(2)))\n",
        "        ##print(document[\"text\"][match.start(2):match.end(2)])\n",
        "        start = match.start(2)\n",
        "        end = match.end(2)\n",
        "        inList = False\n",
        "        for anno in annos:\n",
        "          ##print(\"anno\"+str(anno[\"begin\"]))\n",
        "          ##print(\"\\t\"+str(start))\n",
        "          if start == anno[\"begin\"] and end == anno[\"end\"]:\n",
        "            speciesDict[species][keySpecies] += 1\n",
        "            inList = True\n",
        "            ##print(\"\\t\\tIt is a match\")\n",
        "            break\n",
        "          elif anno[\"begin\"] <= start and end <= anno[\"end\"]:\n",
        "            #speciesDict[species][keySpecies] += 1\n",
        "            inList = True\n",
        "            ##print(\"\\t\\tMatches in already tagged\")\n",
        "            break\n",
        "          if end < anno[\"end\"]:\n",
        "            ##print(\"\\t\\tSkipping\")\n",
        "            break\n",
        "        if inList == False:\n",
        "          ##print(\"\\tDiscarded\")\n",
        "          speciesDict[species][keyO] += 1  \n",
        "        #continue\n",
        "\n",
        "  return speciesDict\n"
      ],
      "execution_count": 74,
      "outputs": []
    },
    {
      "cell_type": "code",
      "metadata": {
        "colab": {
          "base_uri": "https://localhost:8080/"
        },
        "id": "yg4Qp-MiZbam",
        "outputId": "da4aaf41-1b34-4d96-a6d7-0ff494531b7c"
      },
      "source": [
        "speciesDict = {}\n",
        "for species in species_set_union:\n",
        "  speciesDict[species] = {}\n",
        "\n",
        "speciesDict = form_info(speciesDict,documents_S800,\"S800\")"
      ],
      "execution_count": 75,
      "outputs": [
        {
          "output_type": "stream",
          "text": [
            "1266 of 1266"
          ],
          "name": "stdout"
        }
      ]
    },
    {
      "cell_type": "code",
      "metadata": {
        "colab": {
          "base_uri": "https://localhost:8080/"
        },
        "id": "Y6D8Dp4MrVU2",
        "outputId": "c3f4341b-81b8-4553-9e5d-abd941a9f70c"
      },
      "source": [
        "speciesDict = form_info(speciesDict,documents_LINNAEUS,\"LINNAEUS\")"
      ],
      "execution_count": 76,
      "outputs": [
        {
          "output_type": "stream",
          "text": [
            "1266 of 1266"
          ],
          "name": "stdout"
        }
      ]
    },
    {
      "cell_type": "code",
      "metadata": {
        "id": "rnuYXcobrO4i"
      },
      "source": [
        "speciesDictForPandas = {}\n",
        "\n",
        "for species in speciesDict:\n",
        "  S = speciesDict[species]\n",
        "  speciesDictForPandas[species] = [S[\"S800_Species\"],S[\"S800_O\"],S[\"LINNAEUS_Species\"],S[\"LINNAEUS_O\"]]\n"
      ],
      "execution_count": 77,
      "outputs": []
    },
    {
      "cell_type": "code",
      "metadata": {
        "colab": {
          "base_uri": "https://localhost:8080/"
        },
        "id": "ZUYEXJW5znE-",
        "outputId": "52b7815e-8039-4ee9-a3a5-a5bc52e10eb6"
      },
      "source": [
        "speciesDict[\"Potato leaf roll virus\"]"
      ],
      "execution_count": 78,
      "outputs": [
        {
          "output_type": "execute_result",
          "data": {
            "text/plain": [
              "{'LINNAEUS_O': 0, 'LINNAEUS_Species': 0, 'S800_O': 0, 'S800_Species': 1}"
            ]
          },
          "metadata": {
            "tags": []
          },
          "execution_count": 78
        }
      ]
    },
    {
      "cell_type": "code",
      "metadata": {
        "id": "6NbLAo17ri7F"
      },
      "source": [
        " data = pd.DataFrame.from_dict(speciesDictForPandas, orient='index',\n",
        "                       columns=['S800_S', 'S800_O', 'LIN_S', 'LIN_O'])"
      ],
      "execution_count": 79,
      "outputs": []
    },
    {
      "cell_type": "code",
      "metadata": {
        "colab": {
          "base_uri": "https://localhost:8080/",
          "height": 282
        },
        "id": "3gJjIjGVokFV",
        "outputId": "18032dae-7669-4b4f-dc3f-e81addaeca59"
      },
      "source": [
        "import matplotlib.pyplot as plt\n",
        "from math import sin\n",
        "import numpy\n",
        "\n",
        "x = 1\n",
        "x = numpy.arange(0,1,0.01)\n",
        "\n",
        "function = [1 - abs( i - 0.5 ) for i in numpy.arange(0, 1, 0.001)]\n",
        "#plt.xlim(0,1)\n",
        "#plt.plot([x in range(0,1,0.01)],function)\n",
        "plt.plot(x, 1 - 2*abs( x - 0.5))"
      ],
      "execution_count": 112,
      "outputs": [
        {
          "output_type": "execute_result",
          "data": {
            "text/plain": [
              "[<matplotlib.lines.Line2D at 0x7f252cbd5550>]"
            ]
          },
          "metadata": {
            "tags": []
          },
          "execution_count": 112
        },
        {
          "output_type": "display_data",
          "data": {
            "image/png": "[encoded data removed]",
            "text/plain": [
              "<Figure size 432x288 with 1 Axes>"
            ]
          },
          "metadata": {
            "tags": [],
            "needs_background": "light"
          }
        }
      ]
    },
    {
      "cell_type": "code",
      "metadata": {
        "colab": {
          "base_uri": "https://localhost:8080/"
        },
        "id": "UURitgfbspSE",
        "outputId": "72233d11-1e85-4864-f604-763076fb8f16"
      },
      "source": [
        "data.iloc[1]"
      ],
      "execution_count": 93,
      "outputs": [
        {
          "output_type": "execute_result",
          "data": {
            "text/plain": [
              "S800_S               1.0\n",
              "S800_O               0.0\n",
              "LIN_S                0.0\n",
              "LIN_O                0.0\n",
              "S800_O_per_SplusO    0.0\n",
              "S800_SplusO          1.0\n",
              "S800_StimesO         0.0\n",
              "S800_Oimp            0.0\n",
              "S800_Oimp_05         0.5\n",
              "S800_Oimp_05_2       0.5\n",
              "Name: Diabrotica virgifera virgifera (LeConte), dtype: float64"
            ]
          },
          "metadata": {
            "tags": []
          },
          "execution_count": 93
        }
      ]
    },
    {
      "cell_type": "code",
      "metadata": {
        "id": "JFXy88d2uefy"
      },
      "source": [
        "Report_Card.loc[(Data[\"Name\"]==\"Benjamin Duran\") & (Report_Card[\"Lectures\"] == \"Mathematics\")]"
      ],
      "execution_count": null,
      "outputs": []
    },
    {
      "cell_type": "code",
      "metadata": {
        "colab": {
          "base_uri": "https://localhost:8080/"
        },
        "id": "memkNTbVuoL3",
        "outputId": "f96d7a9c-8524-4800-9e22-3b3222021d28"
      },
      "source": [
        "data.index"
      ],
      "execution_count": 106,
      "outputs": [
        {
          "output_type": "execute_result",
          "data": {
            "text/plain": [
              "Index(['Grapholita molesta', 'Diabrotica virgifera virgifera (LeConte)',\n",
              "       'D. melanogaster', 'Oramoeba fumarolia', 'Lucilia sericata', 'Mink',\n",
              "       'Ebola virus', 'housefly', 'SINV', 'adenoviral',\n",
              "       ...\n",
              "       'Matricaria chamomilla', 'Aspergillus fumigatuscyp51A',\n",
              "       'S. richteri Forel', 'Geleia sinica spec. nov.',\n",
              "       'Aureococcus anophagefferens',\n",
              "       'Flavobacterium gelidilacus LMG 21477(T)', 'black truffle',\n",
              "       'white spot syndrome virus', 'Sindbis', 'Rumex palustris'],\n",
              "      dtype='object', length=1266)"
            ]
          },
          "metadata": {
            "tags": []
          },
          "execution_count": 106
        }
      ]
    },
    {
      "cell_type": "code",
      "metadata": {
        "colab": {
          "base_uri": "https://localhost:8080/",
          "height": 77
        },
        "id": "LFAAotB5vnrW",
        "outputId": "0d2bd3d7-5f36-4e3c-f897-c28c8f4cafac"
      },
      "source": [
        "data.loc[data.index == \"patient\"]"
      ],
      "execution_count": 114,
      "outputs": [
        {
          "output_type": "execute_result",
          "data": {
            "text/html": [
              "<div>\n",
              "<style scoped>\n",
              "    .dataframe tbody tr th:only-of-type {\n",
              "        vertical-align: middle;\n",
              "    }\n",
              "\n",
              "    .dataframe tbody tr th {\n",
              "        vertical-align: top;\n",
              "    }\n",
              "\n",
              "    .dataframe thead th {\n",
              "        text-align: right;\n",
              "    }\n",
              "</style>\n",
              "<table border=\"1\" class=\"dataframe\">\n",
              "  <thead>\n",
              "    <tr style=\"text-align: right;\">\n",
              "      <th></th>\n",
              "      <th>S800_S</th>\n",
              "      <th>S800_O</th>\n",
              "      <th>LIN_S</th>\n",
              "      <th>LIN_O</th>\n",
              "      <th>S800_O_per_SplusO</th>\n",
              "      <th>S800_SplusO</th>\n",
              "      <th>S800_StimesO</th>\n",
              "      <th>S800_Oimp</th>\n",
              "      <th>S800_Oimp_05</th>\n",
              "      <th>S800_Oimp_05_2</th>\n",
              "    </tr>\n",
              "  </thead>\n",
              "  <tbody>\n",
              "    <tr>\n",
              "      <th>patient</th>\n",
              "      <td>0</td>\n",
              "      <td>12</td>\n",
              "      <td>36</td>\n",
              "      <td>0</td>\n",
              "      <td>1.0</td>\n",
              "      <td>12.0</td>\n",
              "      <td>0.0</td>\n",
              "      <td>0.0</td>\n",
              "      <td>0.0</td>\n",
              "      <td>0.0</td>\n",
              "    </tr>\n",
              "  </tbody>\n",
              "</table>\n",
              "</div>"
            ],
            "text/plain": [
              "         S800_S  S800_O  LIN_S  ...  S800_Oimp  S800_Oimp_05  S800_Oimp_05_2\n",
              "patient       0      12     36  ...        0.0           0.0             0.0\n",
              "\n",
              "[1 rows x 10 columns]"
            ]
          },
          "metadata": {
            "tags": []
          },
          "execution_count": 114
        }
      ]
    },
    {
      "cell_type": "code",
      "metadata": {
        "colab": {
          "base_uri": "https://localhost:8080/"
        },
        "id": "bIxhI8o3z8IO",
        "outputId": "0f48b7a5-1715-4913-f57d-f58acd6ac985"
      },
      "source": [
        "data['S800_O_per_SplusO'] = data.apply(lambda row: row.S800_O / (row.S800_S + row.S800_O), axis=1)\n",
        "data['LIN_O_per_SplusO'] = data.apply(lambda row: row.LIN_O / (row.LIN_S + row.LIN_O), axis=1)\n",
        "\n",
        "data['S800_SplusO'] = data.apply(lambda row: (row.S800_S + row.S800_O), axis=1)\n",
        "data['LIN_SplusO'] = data.apply(lambda row: (row.LIN_S + row.LIN_O), axis=1)\n",
        "\n",
        "data['S800_StimesO'] = data.apply(lambda row: (row.S800_S * row.S800_O), axis=1)\n",
        "#data['S800_Oimp'] = data.apply(lambda row: ( 1.0 if row.S800_S > 0 else 0.0 ) * ( float(row.S800_O_per_SplusO) * row.S800_O ), axis=1).astype('float64')\n",
        "data['S800_Oimp_05'] = data.apply(lambda row: ( 1 - 2 * abs(row.S800_O_per_SplusO - 0.5)) * row.S800_SplusO , axis=1).astype('float64')\n",
        "data['LIN_Oimp_05'] = data.apply(lambda row: ( 1 - 2 * abs(row.LIN_O_per_SplusO - 0.5)) * row.LIN_SplusO  , axis=1).astype('float64')\n",
        "\n",
        "#data.sort_values(by=['S800_Oimp_05'],ascending=False, na_position='last').head(50)\n",
        "data.sort_values(by=['LIN_Oimp_05'],ascending=False, na_position='last').head(50)\n",
        "\n",
        "print(data['LIN_Oimp_05'].sum() / data['LIN_S'].sum())\n",
        "\n",
        "print(data['S800_Oimp_05'].sum() / data['S800_S'].sum())\n",
        "\n",
        "#data.search(\"patient\")"
      ],
      "execution_count": 128,
      "outputs": [
        {
          "output_type": "stream",
          "text": [
            "0.025303643724696356\n",
            "0.13546487168700042\n"
          ],
          "name": "stdout"
        },
        {
          "output_type": "stream",
          "text": [
            "/usr/local/lib/python3.7/dist-packages/ipykernel_launcher.py:1: RuntimeWarning: invalid value encountered in double_scalars\n",
            "  \"\"\"Entry point for launching an IPython kernel.\n",
            "/usr/local/lib/python3.7/dist-packages/ipykernel_launcher.py:2: RuntimeWarning: invalid value encountered in double_scalars\n",
            "  \n"
          ],
          "name": "stderr"
        }
      ]
    },
    {
      "cell_type": "code",
      "metadata": {
        "id": "n0MBynbjL7YS"
      },
      "source": [
        "for annos in documents_S800[\"21441069\"][\"annotations\"]:\n",
        "  print(annos[\"species\"])"
      ],
      "execution_count": 35,
      "outputs": []
    },
    {
      "cell_type": "code",
      "metadata": {
        "colab": {
          "base_uri": "https://localhost:8080/"
        },
        "id": "46anWuqLMRPy",
        "outputId": "9ad7a3c3-5e52-4a01-d83d-8b9a28bd29b0"
      },
      "source": [
        "for species in speciesDict.keys():\n",
        "  Species = speciesDict[species]\n",
        "  if Species[\"S800_Species\"] > 0 or Species[\"S800_O\"] > 0:\n",
        "    print(\"Species:\"+species+\" - \"+str(Species[\"S800_Species\"])+\" - \"+str(Species[\"S800_O\"]))\n",
        "#print(speciesDict[\"SMSP(T)\"])\n",
        "#print(speciesDict[\"Methanoregula formicica\"])\n",
        "#print(speciesDict[\"Methanoregula boonei\"])\n",
        "#print(speciesDict[\"Methanoregula boonei 6A8\"])"
      ],
      "execution_count": 36,
      "outputs": [
        {
          "output_type": "stream",
          "text": [
            "Species:Grapholita molesta - 1 - 0\n",
            "Species:Diabrotica virgifera virgifera (LeConte) - 1 - 0\n",
            "Species:D. melanogaster - 4 - 0\n",
            "Species:Oramoeba fumarolia - 2 - 0\n",
            "Species:Lucilia sericata - 2 - 0\n",
            "Species:Mink - 1 - 0\n",
            "Species:Ebola virus - 3 - 0\n",
            "Species:housefly - 3 - 0\n",
            "Species:adenoviral - 1 - 0\n",
            "Species:yellow morels - 1 - 0\n",
            "Species:human - 51 - 6\n",
            "Species:yeasts - 2 - 3\n",
            "Species:Auricularia auricula-judae - 1 - 0\n",
            "Species:Marinobacterium maritimum - 1 - 0\n",
            "Species:H. werneckii - 1 - 0\n",
            "Species:F. oxysporum transformant - 1 - 0\n",
            "Species:mice - 22 - 10\n",
            "Species:A/AV88(L) - 1 - 0\n",
            "Species:Maribacter sp. strain HTCC2170 - 1 - 0\n",
            "Species:baculoviruses - 1 - 0\n",
            "Species:Pseudomonas syringae pv. tomato - 1 - 0\n",
            "Species:B. mori - 2 - 0\n",
            "Species:murine leukemia virus (F-MuLV) - 1 - 0\n",
            "Species:varicella-zoster virus - 1 - 0\n",
            "Species:Spirochaeta litoralis - 1 - 0\n",
            "Species:Pectinophora gossypiella - 2 - 0\n",
            "Species:Triticum durum - 1 - 0\n",
            "Species:Parvularcula bermudensis - 2 - 0\n",
            "Species:PLRV - 1 - 0\n",
            "Species:RCNMV - 3 - 0\n",
            "Species:silkworm - 6 - 0\n",
            "Species:Saccharophagus degradans 2-40 - 1 - 0\n",
            "Species:Penicillium chrysogenum - 2 - 0\n",
            "Species:C. desouzai - 1 - 0\n",
            "Species:Thlaspi caerulescens - 1 - 0\n",
            "Species:Amoebophrya sp. - 2 - 0\n",
            "Species:Sula nebouxii - 1 - 0\n",
            "Species:long-tailed finches - 3 - 0\n",
            "Species:Phaeodactylum tricornutum - 2 - 0\n",
            "Species:Neisseria shayeganii - 2 - 0\n",
            "Species:Geleia simplex (Faure-Fremiet, 1951) - 1 - 0\n",
            "Species:hepatitis C virus - 1 - 1\n",
            "Species:Botryotinia fuckeliana - 1 - 0\n",
            "Species:M. acetivorans - 1 - 0\n",
            "Species:OsSPR1 - 3 - 0\n",
            "Species:tick-borne encephalitis virus - 1 - 0\n",
            "Species:human body lice - 1 - 0\n",
            "Species:CBSV - 5 - 0\n",
            "Species:strains with the pga1(G42R) allele - 1 - 0\n",
            "Species:Friend retrovirus - 1 - 0\n",
            "Species:corn planthopper - 1 - 0\n",
            "Species:Kentrophoros gracilis Raikov, 1963 - 1 - 0\n",
            "Species:FV - 2 - 3\n",
            "Species:D. algensis n. sp. - 1 - 0\n",
            "Species:P. syringae - 2 - 0\n",
            "Species:Chrysodeixis chalcites - 1 - 0\n",
            "Species:virus SIVmac239 - 1 - 1\n",
            "Species:Thamnophis elegans - 2 - 0\n",
            "Species:Turnip yellows virus - 1 - 0\n",
            "Species:Tetrahymena tropicalis - 1 - 0\n",
            "Species:Nothofagus pumilio - 2 - 0\n",
            "Species:serotype D C. neoformans - 1 - 0\n",
            "Species:E. abietinum - 3 - 0\n",
            "Species:infectious hypodermal and hematopoietic necrosis virus - 1 - 0\n",
            "Species:PV - 5 - 0\n",
            "Species:HIV - 20 - 4\n",
            "Species:predatory bug - 2 - 0\n",
            "Species:Crithidia oncopelti - 1 - 0\n",
            "Species:Scardovia wiggsiae - 2 - 0\n",
            "Species:rats - 0 - 2\n",
            "Species:Synechocystis sp. strain PCC 6803 - 2 - 0\n",
            "Species:B. tabaci - 11 - 2\n",
            "Species:crab - 0 - 1\n",
            "Species:F. oxysporum - 2 - 0\n",
            "Species:pandemic H1N1 influenza virus - 1 - 0\n",
            "Species:Gymnodinium myriopyrenoides - 2 - 0\n",
            "Species:Heliconius erato - 2 - 0\n",
            "Species:root voles - 1 - 0\n",
            "Species:papaya - 1 - 0\n",
            "Species:Asian rice gall midge - 2 - 0\n",
            "Species:Prasinoderma coloniale - 1 - 0\n",
            "Species:human immunodeficiency virus - 1 - 0\n",
            "Species:Falco rusticolus - 1 - 0\n",
            "Species:black truffles - 1 - 0\n",
            "Species:Phytophthora sojae - 2 - 0\n",
            "Species:man - 0 - 4\n",
            "Species:Spodoptera littoralis - 2 - 0\n",
            "Species:gyrfalcons - 2 - 0\n",
            "Species:L. chlorophorum - 2 - 0\n",
            "Species:Formica aquilonia - 1 - 0\n",
            "Species:Cassava brown streak virus - 1 - 0\n",
            "Species:monkeypox virus - 1 - 0\n",
            "Species:Sulfolobus solfataricus - 1 - 0\n",
            "Species:Tribolium castaneum (Herbst) - 1 - 0\n",
            "Species:SMSP(T) - 5 - 0\n",
            "Species:variola virus - 1 - 0\n",
            "Species:cv Cho-Ko-Koku - 1 - 0\n",
            "Species:Agrobacterium tumefsciens - 1 - 0\n",
            "Species:N. dentiae - 2 - 0\n",
            "Species:mud crab dicistrovirus - 1 - 0\n",
            "Species:Burkholderia cenocepacia - 1 - 0\n",
            "Species:sugarcane - 2 - 0\n",
            "Species:P. mirabilis - 1 - 0\n",
            "Species:narcissus bulb fly - 1 - 0\n",
            "Species:F. verticillioides - 2 - 0\n",
            "Species:A. whisleri - 3 - 0\n",
            "Species:hepatitis C viruses - 1 - 0\n",
            "Species:CpBV - 1 - 0\n",
            "Species:F. gelidilacus - 4 - 0\n",
            "Species:Turk rahvan horses - 2 - 0\n",
            "Species:canine - 2 - 0\n",
            "Species:RCMV - 6 - 0\n",
            "Species:Marek's disease virus type 1 - 1 - 0\n",
            "Species:native galaxias - 1 - 1\n",
            "Species:C. bombi - 2 - 0\n",
            "Species:infants - 0 - 2\n",
            "Species:Nudifila producta - 1 - 0\n",
            "Species:human papillomavirus type 8 - 1 - 0\n",
            "Species:SbDV - 1 - 0\n",
            "Species:Vrihiamoeba italica - 1 - 0\n",
            "Species:Bacillus subtilis - 11 - 0\n",
            "Species:plum curculios - 1 - 0\n",
            "Species:Colorado potato beetles - 1 - 0\n",
            "Species:Barbarea vulgaris - 1 - 0\n",
            "Species:potato - 2 - 0\n",
            "Species:MCDV - 6 - 0\n",
            "Species:U. maydis - 5 - 1\n",
            "Species:human cytomegalovirus - 1 - 0\n",
            "Species:tomato plants - 1 - 5\n",
            "Species:Geocoris bullatus (Say) - 1 - 0\n",
            "Species:LSDV - 1 - 0\n",
            "Species:duck hepatitis A virus - 1 - 0\n",
            "Species:Metallosphaera sedula - 2 - 0\n",
            "Species:NDV09-034 - 1 - 0\n",
            "Species:Bacillus cereus group species - 1 - 0\n",
            "Species:newman - 1 - 0\n",
            "Species:A. annua plants - 1 - 0\n",
            "Species:HTCC2503T - 1 - 0\n",
            "Species:B. dermatitidis - 1 - 0\n",
            "Species:Nilaparvata lugens - 3 - 0\n",
            "Species:871 - 1 - 0\n",
            "Species:T. nigriceps - 4 - 0\n",
            "Species:Blastocladiella emersonii - 2 - 0\n",
            "Species:VarV - 2 - 0\n",
            "Species:maize weevil - 1 - 0\n",
            "Species:human bocavirus - 1 - 0\n",
            "Species:CRF01_AE - 3 - 0\n",
            "Species:P. brassicae - 1 - 0\n",
            "Species:STEC - 2 - 0\n",
            "Species:Musca domestica - 6 - 0\n",
            "Species:Potato leafroll virus - 1 - 0\n",
            "Species:A. oryzae - 1 - 0\n",
            "Species:SIVmac239 - 0 - 2\n",
            "Species:P. aeruginosa - 3 - 0\n",
            "Species:Streptomyces hyderabadensis sp. nov. - 2 - 0\n",
            "Species:Medicago sativa - 1 - 0\n",
            "Species:P. brasiliensis species complex - 2 - 0\n",
            "Species:N. zoodegmatis - 1 - 0\n",
            "Species:Parvularcula bermudensis HTCC2503(T) - 1 - 0\n",
            "Species:P. gingivalis - 2 - 0\n",
            "Species:HIV-1 - 15 - 0\n",
            "Species:O. cornuta - 1 - 0\n",
            "Species:Solenopsis invicta Buren - 1 - 1\n",
            "Species:common cuckoos - 1 - 0\n",
            "Species:fire ants - 1 - 3\n",
            "Species:Ad - 0 - 1\n",
            "Species:Diplonema papillatum - 1 - 0\n",
            "Species:Nicotiana tabacum - 1 - 0\n",
            "Species:E. faecium E1162 - 1 - 0\n",
            "Species:Chlorella vulgaris - 1 - 0\n",
            "Species:Ignicoccus hospitalis - 1 - 0\n",
            "Species:MPX - 3 - 0\n",
            "Species:Trichoderma brevicompactum - 1 - 0\n",
            "Species:tobacco budworm - 2 - 0\n",
            "Species:Aspergillus parasiticus - 1 - 0\n",
            "Species:Casaurina glauca - 1 - 0\n",
            "Species:Pseudomonas syringae - 1 - 0\n",
            "Species:Escherichia coli - 33 - 1\n",
            "Species:T. ekebladella - 3 - 0\n",
            "Species:Paramecium pentaurelia - 1 - 0\n",
            "Species:S. virgatus - 2 - 0\n",
            "Species:Saccharomyces cerevisiae - 15 - 0\n",
            "Species:Auritidibacter ignavus gen. nov., sp. nov. - 2 - 0\n",
            "Species:S. morookaense - 1 - 0\n",
            "Species:CYDV-RPV - 1 - 0\n",
            "Species:A/turkey/OH/313053/04 (H3N2) - 1 - 0\n",
            "Species:P. tricornutum - 2 - 0\n",
            "Species:Amoebophrya spp. - 1 - 0\n",
            "Species:H. nuttallii - 2 - 0\n",
            "Species:Equus caballus - 1 - 0\n",
            "Species:Copromyxa protea - 1 - 0\n",
            "Species:D. algensis - 1 - 0\n",
            "Species:Coccinella septempunctata L. - 1 - 0\n",
            "Species:Crithidia bombi - 1 - 0\n",
            "Species:Venezuelan equine encephalitis virus - 1 - 0\n",
            "Species:respiratory syncytial virus - 2 - 0\n",
            "Species:Pst DC3000 - 4 - 0\n",
            "Species:Newman - 6 - 0\n",
            "Species:serotype A - 1 - 2\n",
            "Species:Ostrinia nubilalis - 2 - 0\n",
            "Species:Chelonia mydas - 1 - 0\n",
            "Species:Human - 3 - 0\n",
            "Species:P. bombycina - 1 - 0\n",
            "Species:Micrometopion nutans - 1 - 0\n",
            "Species:Legionella pneumophila - 2 - 0\n",
            "Species:Apis mellifera - 2 - 0\n",
            "Species:Verticillium dahliae - 1 - 0\n",
            "Species:Cryptococcus neoformans - 7 - 1\n",
            "Species:Neisseria wadsworthii - 2 - 0\n",
            "Species:A/GS/LX/66 - 1 - 0\n",
            "Species:Cronartium quercuum f.sp. fusiforme - 2 - 0\n",
            "Species:Bacillus anthracis - 5 - 0\n",
            "Species:Lanius collurio - 1 - 0\n",
            "Species:hordei - 1 - 0\n",
            "Species:JC polyomaviruses - 2 - 1\n",
            "Species:type A H1N1 - 3 - 0\n",
            "Species:TuYV - 1 - 0\n",
            "Species:P. striolata - 2 - 0\n",
            "Species:Eurasian sparrowhawks - 1 - 0\n",
            "Species:Leptogium saturninum - 2 - 0\n",
            "Species:Elatobium abietinum - 1 - 1\n",
            "Species:Pichiapastoris - 1 - 0\n",
            "Species:chicken - 5 - 0\n",
            "Species:Blastomyces dermatitidis - 1 - 0\n",
            "Species:FGSC 9935 - 1 - 0\n",
            "Species:plum curculio - 2 - 0\n",
            "Species:Tremula longifila - 1 - 0\n",
            "Species:horses - 1 - 0\n",
            "Species:sweetpotato whitefly - 1 - 0\n",
            "Species:NDV-H - 3 - 0\n",
            "Species:A. annua - 1 - 0\n",
            "Species:Acrocephalus sechellensis - 2 - 0\n",
            "Species:Paramecium caudatum - 3 - 0\n",
            "Species:Methanoregula boonei - 1 - 0\n",
            "Species:P. tricuspis - 5 - 0\n",
            "Species:Cuban laurel thrips - 1 - 0\n",
            "Species:Scytosiphon lomentaria - 1 - 0\n",
            "Species:Trichoplusia ni - 2 - 0\n",
            "Species:blue tits - 1 - 0\n",
            "Species:Rana limnocharis - 1 - 0\n",
            "Species:truffle - 3 - 1\n",
            "Species:Sinorhizobium meliloti - 3 - 2\n",
            "Species:H. cantabrigiensis - 0 - 1\n",
            "Species:B.g. tritici - 5 - 0\n",
            "Species:tomato - 20 - 1\n",
            "Species:Oryza sativa short postembryonic roots 1 - 1 - 0\n",
            "Species:Streptomyces morookaense - 1 - 0\n",
            "Species:Quercus robur - 2 - 0\n",
            "Species:Corynebacterium pseudotuberculosis I19 - 2 - 0\n",
            "Species:cotton - 3 - 2\n",
            "Species:Fusarium spp - 1 - 0\n",
            "Species:Trichogramma minutum (Riley) - 1 - 0\n",
            "Species:K-12 strain - 1 - 0\n",
            "Species:E-112 - 7 - 0\n",
            "Species:Ae. aegypti - 6 - 0\n",
            "Species:Neisseria gonorrhoeae - 1 - 0\n",
            "Species:Erythrura gouldiae - 1 - 0\n",
            "Species:Picea glauca - 1 - 0\n",
            "Species:voles - 1 - 0\n",
            "Species:A. niger ATCC strain 1015 - 1 - 0\n",
            "Species:Phyllotreta striolata - 1 - 0\n",
            "Species:bovine - 0 - 1\n",
            "Species:C. luttrellii - 11 - 0\n",
            "Species:serotype A foot-and-mouth disease virus - 1 - 0\n",
            "Species:Aedes aegypti - 7 - 0\n",
            "Species:Artemisia annua plants - 2 - 0\n",
            "Species:MutSL knockout strain - 1 - 0\n",
            "Species:SARS-CoV - 3 - 0\n",
            "Species:Clostridiisalibacter paucivorans - 2 - 0\n",
            "Species:M. esculenta - 5 - 0\n",
            "Species:ATCC 13306(T) - 1 - 0\n",
            "Species:Zea mays - 5 - 0\n",
            "Species:pandemic influenza virus - 1 - 0\n",
            "Species:Puma concolor coryi - 1 - 0\n",
            "Species:K. flavus - 1 - 0\n",
            "Species:S. spontaneum - 1 - 0\n",
            "Species:Methanoregula formicica - 2 - 0\n",
            "Species:rice - 25 - 10\n",
            "Species:LASV - 4 - 0\n",
            "Species:Chikungunya virus - 1 - 0\n",
            "Species:X. campestris pv. campestris - 2 - 0\n",
            "Species:Stichococcus bacillaris - 2 - 0\n",
            "Species:S. chloranthus - 2 - 0\n",
            "Species:E. parva - 1 - 0\n",
            "Species:Flavobacterium frigoris LMG 21922(T) - 1 - 0\n",
            "Species:Serinicoccus profundi sp. nov - 1 - 0\n",
            "Species:H99 - 2 - 0\n",
            "Species:Penaeus vannamei - 1 - 1\n",
            "Species:human lice - 1 - 0\n",
            "Species:Paracoccidioides lutzii - 1 - 0\n",
            "Species:Gryllus bimaculatus - 1 - 0\n",
            "Species:B. cereus - 1 - 0\n",
            "Species:infectious myonecrosis virus - 2 - 0\n",
            "Species:Peregrinus maidis - 2 - 0\n",
            "Species:class II strains of Newcastle disease virus (NDV) - 1 - 0\n",
            "Species:Datisca glomerata - 1 - 0\n",
            "Species:Rhabdomys pumilio - 1 - 0\n",
            "Species:moth - 0 - 3\n",
            "Species:IHHNV - 2 - 0\n",
            "Species:Stachyamoeba sp. ATCC50324 - 1 - 0\n",
            "Species:Galeocerdo cuvier - 1 - 0\n",
            "Species:Salana multivorans - 1 - 0\n",
            "Species:Antheraea assamensis - 1 - 0\n",
            "Species:Merodon equestris - 1 - 0\n",
            "Species:S. sanguinis - 2 - 0\n",
            "Species:Serinicoccus marinus - 1 - 0\n",
            "Species:Fusarium verticillioides - 1 - 0\n",
            "Species:Culex pipiens - 2 - 0\n",
            "Species:A. assamensis - 1 - 0\n",
            "Species:HIV-1 CRF01_AE - 1 - 0\n",
            "Species:H. virescens - 3 - 0\n",
            "Species:red-backed shrike - 2 - 0\n",
            "Species:TBRV - 3 - 0\n",
            "Species:Cryptococcus neoformans JEC21 - 1 - 0\n",
            "Species:Serinibacter salmoneus - 1 - 0\n",
            "Species:Newcastle disease virus - 5 - 0\n",
            "Species:Adenovirus - 1 - 0\n",
            "Species:JUNV - 4 - 0\n",
            "Species:Potato leaf roll virus - 1 - 0\n",
            "Species:Tuber melanosporum - 7 - 0\n",
            "Species:Bdellovibrio bacteriovorus - 2 - 0\n",
            "Species:Methanoregula boonei 6A8 - 2 - 0\n",
            "Species:B. cucurbitae - 7 - 0\n",
            "Species:Morels - 1 - 0\n",
            "Species:class I - 4 - 1\n",
            "Species:Norway spruce - 2 - 0\n",
            "Species:Oscillochloris trichoides subsp. DG-6 - 2 - 0\n",
            "Species:N. weaveri - 1 - 0\n",
            "Species:Tetrahymena hegewischi - 1 - 0\n",
            "Species:Tetrahymena thermophila - 2 - 0\n",
            "Species:M. tuberculosis - 8 - 0\n",
            "Species:Atlantic salmon - 3 - 0\n",
            "Species:Penaeus monodon nucleopolyhedrovirus - 1 - 0\n",
            "Species:Baetis rhodani - 1 - 0\n",
            "Species:B. anthracis strain - 1 - 0\n",
            "Species:Thermohalobacter berrensis - 1 - 0\n",
            "Species:Orseolia oryzae - 2 - 0\n",
            "Species:strain Bacillus subtilis YB955 (hisC952 metB5 leuC427) - 1 - 0\n",
            "Species:Bti - 5 - 0\n",
            "Species:Tischeria ekebladella - 1 - 0\n",
            "Species:Callosobruchus maculatus - 1 - 0\n",
            "Species:2009 pandemic virus - 1 - 0\n",
            "Species:SIV(agmTan-1) - 1 - 0\n",
            "Species:Glossinia pallidipes - 1 - 0\n",
            "Species:cucumber - 2 - 0\n",
            "Species:Heteractis magnifica - 1 - 0\n",
            "Species:Mussismilia hispida - 2 - 0\n",
            "Species:HCMV - 7 - 0\n",
            "Species:cabbage - 1 - 0\n",
            "Species:C. difficile - 7 - 0\n",
            "Species:bull sharks - 3 - 0\n",
            "Species:Sarcophaga crassipalpis - 1 - 0\n",
            "Species:stink bug - 2 - 0\n",
            "Species:mouse cytomegalovirus - 1 - 0\n",
            "Species:Helianthus annuus - 3 - 0\n",
            "Species:Anopheles gambiae - 3 - 0\n",
            "Species:[Picea glauca (Moench) Voss] - 1 - 0\n",
            "Species:Neosartorya fischeri - 1 - 0\n",
            "Species:oriental fruit fly - 1 - 0\n",
            "Species:hepatitis delta viruses - 1 - 0\n",
            "Species:Tiaris bicolor - 2 - 0\n",
            "Species:foot-and-mouth disease virus - 1 - 0\n",
            "Species:striped plateau lizards - 2 - 0\n",
            "Species:peach - 3 - 1\n",
            "Species:Sordaria macrospora - 2 - 0\n",
            "Species:Vibrio cholerae - 1 - 0\n",
            "Species:Scardovia inopinata - 2 - 0\n",
            "Species:K. subtilissimum - 2 - 0\n",
            "Species:Larrea tridentata - 2 - 0\n",
            "Species:Oryza sativa - 4 - 0\n",
            "Species:VacV - 3 - 0\n",
            "Species:Diabrotica virgifera - 2 - 0\n",
            "Species:H1N1 viruses - 2 - 0\n",
            "Species:Seychelles warbler - 2 - 0\n",
            "Species:P. curvatus - 2 - 0\n",
            "Species:Ni. lugens - 1 - 0\n",
            "Species:Debaryomyces hansenii - 1 - 0\n",
            "Species:Panonychus citri - 2 - 0\n",
            "Species:class II Newcastle disease viruses - 1 - 0\n",
            "Species:barley - 6 - 0\n",
            "Species:Hypocrea jecorina - 2 - 0\n",
            "Species:Histoplasma capsulatum - 1 - 0\n",
            "Species:Notiomystis cincta - 1 - 0\n",
            "Species:roundhead galaxias - 2 - 0\n",
            "Species:M. smegmatis - 4 - 0\n",
            "Species:Citrus volkameriana - 1 - 0\n",
            "Species:Bacillus thuringiensis variety israelensis - 1 - 0\n",
            "Species:Somateria mollissima - 1 - 0\n",
            "Species:American alligators - 2 - 0\n",
            "Species:Aeropyrum pernix - 3 - 0\n",
            "Species:Plasmodium relictum - 1 - 0\n",
            "Species:Fusariumgraminearum species complex - 1 - 0\n",
            "Species:rodent - 0 - 6\n",
            "Species:H1 - 2 - 0\n",
            "Species:H. annuus - 3 - 0\n",
            "Species:Rupicapra rupicapra - 1 - 0\n",
            "Species:duck reovirus - 1 - 0\n",
            "Species:M. truncatula - 2 - 0\n",
            "Species:T. castaneum - 1 - 0\n",
            "Species:Bemisia tabaci - 4 - 0\n",
            "Species:Aspergillus fumigatus - 17 - 0\n",
            "Species:Pseudomonas fluorescens Q8r1-96 - 1 - 0\n",
            "Species:Horseradish - 1 - 0\n",
            "Species:murine - 0 - 4\n",
            "Species:Hartmannella sp. 4/3Da/10 - 1 - 0\n",
            "Species:S. symbiotica - 4 - 0\n",
            "Species:oaks - 1 - 0\n",
            "Species:Ugandan cassava brown streak virus - 1 - 0\n",
            "Species:Chaetomium globosum - 1 - 0\n",
            "Species:Colpodella edax - 1 - 0\n",
            "Species:Amphiprion percula - 1 - 0\n",
            "Species:Leifsonia ginsengi wged11(T) - 1 - 0\n",
            "Species:AMDV - 2 - 0\n",
            "Species:Omegastrombidium elegans - 1 - 0\n",
            "Species:Kentrophoros flavus Raikov and Kovaleva, 1968 - 1 - 0\n",
            "Species:tobacco - 7 - 0\n",
            "Species:L. tridentata - 1 - 0\n",
            "Species:Chromera velia - 1 - 0\n",
            "Species:Anopheles quadrimaculatus - 1 - 0\n",
            "Species:Bactrocera cucurbitae - 2 - 0\n",
            "Species:Fusarium graminearum - 2 - 0\n",
            "Species:Trichosurus vulpecula - 1 - 0\n",
            "Species:Potato virus X - 1 - 0\n",
            "Species:M. maripaludis - 3 - 0\n",
            "Species:charr - 3 - 0\n",
            "Species:severe acute respiratory syndrome coronavirus - 2 - 0\n",
            "Species:women - 0 - 13\n",
            "Species:porcine circovirus type 2 (PCV2) - 1 - 0\n",
            "Species:D. derouxi - 1 - 0\n",
            "Species:Ochromonas danica - 1 - 0\n",
            "Species:goatpox - 1 - 0\n",
            "Species:swine-origin influenza A (H1N1) virus - 1 - 0\n",
            "Species:P. maidis - 7 - 0\n",
            "Species:subtype B - 2 - 0\n",
            "Species:A. niger - 5 - 0\n",
            "Species:Apis cerana cerana (Acc) - 1 - 0\n",
            "Species:Cucurbit aphid-borne yellows virus - 1 - 0\n",
            "Species:S. negevensis - 2 - 0\n",
            "Species:Rhipicephalus (Boophilus) microplus - 1 - 0\n",
            "Species:Q8r1-96 - 5 - 0\n",
            "Species:Bacillus thuringiensis - 1 - 0\n",
            "Species:Pseudomonas syringae pv. tomato DC3000 - 1 - 0\n",
            "Species:Bombus terrestris - 5 - 0\n",
            "Species:infant - 0 - 2\n",
            "Species:mouse - 13 - 2\n",
            "Species:UAMS-1 - 4 - 0\n",
            "Species:Riemerella anatipestifer 12/19 - 1 - 0\n",
            "Species:monkeypox viruses - 1 - 0\n",
            "Species:T4 - 1 - 1\n",
            "Species:Candida glabrata - 2 - 0\n",
            "Species:R. communis - 1 - 0\n",
            "Species:Ginkgo biloba - 2 - 0\n",
            "Species:V. cholerae - 3 - 0\n",
            "Species:Toxoneuron nigriceps - 2 - 0\n",
            "Species:anthrax - 1 - 0\n",
            "Species:DBM - 3 - 0\n",
            "Species:rice plants - 2 - 0\n",
            "Species:B.g. hordei - 5 - 0\n",
            "Species:Turk rahvan horse - 1 - 0\n",
            "Species:Sitka spruce - 1 - 0\n",
            "Species:HTCC2170 - 3 - 0\n",
            "Species:Soybean dwarf virus - 1 - 0\n",
            "Species:Mycobacterium tuberculosis - 3 - 1\n",
            "Species:mink - 2 - 0\n",
            "Species:anti-HCV - 1 - 4\n",
            "Species:Redshanks - 1 - 0\n",
            "Species:YM18-15 - 6 - 0\n",
            "Species:Streptomyces pactum - 1 - 0\n",
            "Species:Bombyx mori - 7 - 0\n",
            "Species:white spruce - 3 - 0\n",
            "Species:Asia 1/CHN/05 - 1 - 0\n",
            "Species:N. pumilio - 1 - 0\n",
            "Species:Riptortus pedestris - 2 - 0\n",
            "Species:Paracercomonas marina - 1 - 0\n",
            "Species:E1162 - 0 - 2\n",
            "Species:foot-and-mouth disease virus O - 1 - 0\n",
            "Species:C. pipiens - 1 - 0\n",
            "Species:Thermoproteus neutrophilus - 1 - 0\n",
            "Species:castor bean - 2 - 0\n",
            "Species:G. mellonella - 2 - 0\n",
            "Species:Streptococcus sanguinis - 1 - 0\n",
            "Species:Nocardia farcinica - 1 - 0\n",
            "Species:red foxes - 3 - 0\n",
            "Species:Pichia membranifaciens - 2 - 0\n",
            "Species:Agaricus brasiliensis - 1 - 0\n",
            "Species:rat - 1 - 0\n",
            "Species:TBE virus - 5 - 0\n",
            "Species:Shigella boydii - 3 - 0\n",
            "Species:Staphylococcus aureus - 3 - 0\n",
            "Species:cuckoos - 1 - 0\n",
            "Species:UCBSV - 5 - 0\n",
            "Species:Cochliomyia hominivorax - 2 - 0\n",
            "Species:C. plutellae - 1 - 0\n",
            "Species:Sceloporus virgatus - 2 - 0\n",
            "Species:H3 influenza virus - 1 - 0\n",
            "Species:lsaria (=Paecilomyces) sp. - 1 - 0\n",
            "Species:P. fluorescens strains - 1 - 0\n",
            "Species:type B human influenza virus - 2 - 0\n",
            "Species:adenovirus - 2 - 4\n",
            "Species:N. farcinica - 1 - 0\n",
            "Species:B. rhodani - 1 - 0\n",
            "Species:Pseudacteon tricuspis - 2 - 0\n",
            "Species:Pirum gemmata - 1 - 0\n",
            "Species:N. lugens - 5 - 0\n",
            "Species:redshank - 2 - 0\n",
            "Species:Marinobacterium sediminicola - 1 - 0\n",
            "Species:Penicillium marneffei - 1 - 0\n",
            "Species:Ch. velia - 6 - 0\n",
            "Species:C. albicans - 10 - 1\n",
            "Species:bean bug - 2 - 0\n",
            "Species:pink bollworm - 1 - 0\n",
            "Species:A. castellanii - 7 - 0\n",
            "Species:O/CHA/99 - 1 - 0\n",
            "Species:Paracoccidioides brasiliensis - 3 - 0\n",
            "Species:Anoxybacillus tengchongensis - 2 - 0\n",
            "Species:Hartmannella cantabrigiensis - 1 - 0\n",
            "Species:Alligator mississippiensis - 1 - 0\n",
            "Species:Labedella gwakjiensis KSW2-17(T) - 1 - 0\n",
            "Species:Simkania negevensis strain Z - 1 - 0\n",
            "Species:poultry - 1 - 3\n",
            "Species:H. pauciflorus - 2 - 0\n",
            "Species:Patients - 0 - 1\n",
            "Species:Ploesoma hudsoni - 1 - 0\n",
            "Species:vaccinia virus strain Copenhagen - 1 - 0\n",
            "Species:Phytophthora nicotianae - 2 - 0\n",
            "Species:rabbits - 2 - 0\n",
            "Species:pneumococcal - 7 - 0\n",
            "Species:Lotus japonicus - 2 - 0\n",
            "Species:Hepatitis delta virus - 1 - 0\n",
            "Species:Plutella xylostella - 2 - 0\n",
            "Species:Ad5 - 5 - 0\n",
            "Species:pea aphid - 2 - 0\n",
            "Species:Tenebrio molitor - 1 - 0\n",
            "Species:O157:H7 - 1 - 0\n",
            "Species:CABYV - 1 - 0\n",
            "Species:FMD - 2 - 0\n",
            "Species:Ustilago maydis - 6 - 0\n",
            "Species:western corn rootworms - 1 - 0\n",
            "Species:children - 0 - 11\n",
            "Species:Paramecium bursaria - 2 - 0\n",
            "Species:Kluyveromyces marxianus - 1 - 0\n",
            "Species:Ovulinata parva - 1 - 0\n",
            "Species:A. areolatum - 1 - 0\n",
            "Species:Streptomyces parvulus - 1 - 0\n",
            "Species:S. cerevisiae - 7 - 0\n",
            "Species:maize - 14 - 2\n",
            "Species:strains with an active Pga1 - 1 - 0\n",
            "Species:Amnibacterium kyonggiense gen. nov., sp. nov. - 2 - 0\n",
            "Species:L. monopetala - 1 - 0\n",
            "Species:Lolium perenne - 1 - 0\n",
            "Species:HCV - 15 - 3\n",
            "Species:yeast - 31 - 14\n",
            "Species:Blastocrithidia culicis - 1 - 0\n",
            "Species:Perigord black truffle - 2 - 0\n",
            "Species:hepatitis D - 1 - 0\n",
            "Species:N. canis - 1 - 0\n",
            "Species:L. crassa - 1 - 1\n",
            "Species:Baikalospongia recta - 1 - 0\n",
            "Species:lettuce - 4 - 0\n",
            "Species:sheep - 2 - 0\n",
            "Species:cyanobacterial - 0 - 7\n",
            "Species:meningococcal - 1 - 0\n",
            "Species:Bt - 1 - 1\n",
            "Species:Gymnodinium acidotum - 1 - 0\n",
            "Species:Streptomyces lavenduligriseus - 1 - 0\n",
            "Species:Solenopsis invicta - 3 - 0\n",
            "Species:MV - 5 - 0\n",
            "Species:N. animaloris - 1 - 0\n",
            "Species:willow ptarmigan - 2 - 0\n",
            "Species:FtsZ-I374V strain - 1 - 0\n",
            "Species:honey bee - 3 - 0\n",
            "Species:Beet mild yellowing virus - 1 - 0\n",
            "Species:Carica papaya - 1 - 0\n",
            "Species:Beta human papillomavirus (HPV) type 8 - 1 - 0\n",
            "Species:WSSV - 1 - 0\n",
            "Species:Hortaea werneckii - 2 - 0\n",
            "Species:P. coloniale - 4 - 0\n",
            "Species:G. biloba - 1 - 0\n",
            "Species:cassava - 7 - 0\n",
            "Species:house fly - 1 - 0\n",
            "Species:cow - 2 - 0\n",
            "Species:Malus baccata jackii - 1 - 0\n",
            "Species:9715 - 1 - 0\n",
            "Species:Yeast - 1 - 1\n",
            "Species:Venturia inaequalis - 1 - 1\n",
            "Species:West Nile virus - 1 - 0\n",
            "Species:Caloranaerobacter azorensis - 1 - 0\n",
            "Species:Gordonia hydrophobica - 1 - 0\n",
            "Species:Neisseria meningitidis - 3 - 0\n",
            "Species:Synechocystis sp. strain PCC6803 - 2 - 0\n",
            "Species:pea aphids - 1 - 0\n",
            "Species:RSV - 11 - 0\n",
            "Species:Taura syndrome virus - 1 - 0\n",
            "Species:rainbowfish - 1 - 0\n",
            "Species:A. nigeralbA - 1 - 0\n",
            "Species:A. thaliana - 4 - 0\n",
            "Species:Pelargonium x hortorum - 2 - 0\n",
            "Species:swine - 1 - 0\n",
            "Species:citrus red mite - 1 - 0\n",
            "Species:Silkworm - 1 - 0\n",
            "Species:Neisseria canis - 1 - 0\n",
            "Species:Influenza A virus - 1 - 0\n",
            "Species:Vorticella infusionum - 1 - 0\n",
            "Species:Thermasporomyces composti gen. nov., sp. nov. - 2 - 0\n",
            "Species:Drosophila - 8 - 4\n",
            "Species:Lassa virus AV - 1 - 0\n",
            "Species:P. circumflexum - 1 - 0\n",
            "Species:human adenoviruses - 2 - 1\n",
            "Species:Bacillus thuringiensis var. israelensis - 1 - 0\n",
            "Species:Paulinella chromatophora - 1 - 0\n",
            "Species:green turtles - 2 - 0\n",
            "Species:greenhouse whitefly - 1 - 0\n",
            "Species:Arabidopsis thaliana - 9 - 0\n",
            "Species:S. macrospora - 1 - 0\n",
            "Species:Leptinotarsa decemlineata (Say) - 1 - 0\n",
            "Species:B. amyloliquefaciens FZB42 - 1 - 0\n",
            "Species:P. gemmata - 3 - 0\n",
            "Species:loblolly pine - 1 - 0\n",
            "Species:EHEC O157:H7 - 2 - 0\n",
            "Species:2009 H1N1 A/CA/04/09 virus - 1 - 0\n",
            "Species:Methanocaldococcus jannaschii - 1 - 0\n",
            "Species:C. heterostrophus - 7 - 0\n",
            "Species:MCCC 1A05965 - 3 - 0\n",
            "Species:Neurospora crassa - 7 - 0\n",
            "Species:redshanks - 1 - 0\n",
            "Species:Abeoforma whisleri - 1 - 0\n",
            "Species:C. guilliermondii - 6 - 0\n",
            "Species:Osspr1 - 1 - 1\n",
            "Species:rat cytomegalovirus - 1 - 0\n",
            "Species:diamondback moth - 1 - 0\n",
            "Species:P. caudatum - 2 - 0\n",
            "Species:baculovirus - 2 - 0\n",
            "Species:Marek's disease virus 1 - 1 - 0\n",
            "Species:hepatitis B virus - 4 - 0\n",
            "Species:Penaeus stylirostris - 1 - 1\n",
            "Species:ATCC 19166(T) - 1 - 0\n",
            "Species:Pseudomonas aeruginosa - 4 - 0\n",
            "Species:sunflower - 3 - 10\n",
            "Species:ORSV - 6 - 0\n",
            "Species:Cuculus canorus - 1 - 0\n",
            "Species:DAstV - 4 - 1\n",
            "Species:Mesorhizobium loti - 2 - 0\n",
            "Species:Coereba flaveola - 1 - 0\n",
            "Species:Spodoptera litura GV - 1 - 0\n",
            "Species:B. subtilis - 7 - 0\n",
            "Species:L. sericata - 4 - 0\n",
            "Species:Populus trichocarpa x deltoides - 1 - 0\n",
            "Species:Streptococcus pneumoniae - 1 - 0\n",
            "Species:Candida guilliermondii - 1 - 0\n",
            "Species:E. faecium - 1 - 0\n",
            "Species:human immunodeficiency - 1 - 0\n",
            "Species:Trichoderma reesei - 2 - 0\n",
            "Species:blue-footed boobies - 2 - 0\n",
            "Species:F. graminearum - 4 - 0\n",
            "Species:GTPV - 1 - 0\n",
            "Species:Bean leafroll virus - 1 - 0\n",
            "Species:red fox - 1 - 0\n",
            "Species:measles virus - 1 - 0\n",
            "Species:N. tetrasperma - 1 - 0\n",
            "Species:Fusariumsacchari - 1 - 0\n",
            "Species:blue-footed booby - 1 - 0\n",
            "Species:Solanum lycopersicum - 1 - 0\n",
            "Species:Serinicoccus profundi sp. nov. - 1 - 1\n",
            "Species:Tomato black ring virus - 2 - 0\n",
            "Species:Enterococcus faecium - 2 - 0\n",
            "Species:humans - 10 - 0\n",
            "Species:house flies - 2 - 0\n",
            "Species:Saccharum spp. - 1 - 0\n",
            "Species:poliovirus - 3 - 0\n",
            "Species:YHV - 1 - 0\n",
            "Species:TBE viruses - 1 - 0\n",
            "Species:CHIKV - 6 - 0\n",
            "Species:NDV isolates - 1 - 1\n",
            "Species:Bifidobacterium bifidum - 1 - 0\n",
            "Species:Trialeurodes vaporariorum - 5 - 0\n",
            "Species:Neurosporacrassa - 1 - 0\n",
            "Species:Marinobacterium coralli sp. nov. - 2 - 0\n",
            "Species:H5N1 viruses - 1 - 0\n",
            "Species:bread wheat - 2 - 0\n",
            "Species:Strains G203R-T - 1 - 0\n",
            "Species:charr's - 1 - 0\n",
            "Species:honeybees - 1 - 0\n",
            "Species:Penicillium citrinum - 1 - 0\n",
            "Species:P. curvatus Borgmeier - 1 - 0\n",
            "Species:black - 1 - 7\n",
            "Species:TBE - 3 - 0\n",
            "Species:simian immunodeficiency virus - 4 - 0\n",
            "Species:Corynebacterium glutamicum R - 1 - 0\n",
            "Species:Bacillus amyloliquefaciens FZB42 - 2 - 0\n",
            "Species:Reston Ebola virus - 1 - 0\n",
            "Species:E. coli - 9 - 0\n",
            "Species:Osmia cornuta - 1 - 0\n",
            "Species:chickens - 3 - 0\n",
            "Species:6A8 - 3 - 0\n",
            "Species:A. fumigatus - 13 - 0\n",
            "Species:hepatitis B - 1 - 0\n",
            "Species:Cereal yellow dwarf virus-RPV - 1 - 0\n",
            "Species:Clostridium difficile - 2 - 0\n",
            "Species:Miniimonas arenae - 2 - 0\n",
            "Species:Candida albicans - 12 - 0\n",
            "Species:Spodoptera exigua - 1 - 0\n",
            "Species:methanogenic archaea - 3 - 0\n",
            "Species:Ammophila arenaria - 1 - 0\n",
            "Species:melon fly - 2 - 0\n",
            "Species:Manihot esculenta - 1 - 0\n",
            "Species:corn smut - 1 - 1\n",
            "Species:C. cantabrigiensis - 1 - 0\n",
            "Species:Dendropsophus ebraccatus - 1 - 0\n",
            "Species:PVX - 1 - 0\n",
            "Species:S aureus - 4 - 0\n",
            "Species:VZV - 2 - 0\n",
            "Species:Odontoglossum ringspot virus - 1 - 0\n",
            "Species:Beet western yellows virus - 1 - 0\n",
            "Species:Arctic charr - 9 - 0\n",
            "Species:H. petiolaris - 3 - 0\n",
            "Species:Myrmica rubra - 1 - 0\n",
            "Species:Cyphorhinus phaeocephalus - 1 - 0\n",
            "Species:Cinclus cinclus - 2 - 0\n",
            "Species:K. gracilis - 1 - 0\n",
            "Species:lumpy skin disease virus - 1 - 0\n",
            "Species:Friend virus - 1 - 1\n",
            "Species:SPPV - 1 - 0\n",
            "Species:HPV8 - 5 - 0\n",
            "Species:Aedes aegypti mosquitoes - 1 - 0\n",
            "Species:Song Wrens - 2 - 0\n",
            "Species:EHEC - 2 - 0\n",
            "Species:Schizosaccharomyces pombe - 3 - 0\n",
            "Species:Pilophorus typicus - 1 - 0\n",
            "Species:TSV - 1 - 0\n",
            "Species:Cyanidioschyzon merolae - 1 - 0\n",
            "Species:Crithidia deanei - 1 - 0\n",
            "Species:red deer - 1 - 0\n",
            "Species:26/51 - 1 - 0\n",
            "Species:Apis cerana cerana - 1 - 0\n",
            "Species:western rainbowfish - 1 - 0\n",
            "Species:Blumeria graminis f. sp. tritici - 1 - 0\n",
            "Species:O - 3 - 14\n",
            "Species:Fusarium oxysporum - 1 - 0\n",
            "Species:S. meliloti - 3 - 1\n",
            "Species:hepatitis delta virus - 1 - 0\n",
            "Species:Cochliobolus heterostrophus - 1 - 0\n",
            "Species:N. bacilliformis - 1 - 0\n",
            "Species:M. loti - 1 - 0\n",
            "Species:G. myriopyrenoides - 3 - 0\n",
            "Species:E. crassipes - 1 - 0\n",
            "Species:L. pneumophila - 3 - 0\n",
            "Species:Spilocaea pomi - 1 - 0\n",
            "Species:C. protea - 3 - 0\n",
            "Species:duck astrovirus - 1 - 0\n",
            "Species:great tit - 2 - 0\n",
            "Species:worker honeybees - 1 - 0\n",
            "Species:Pinus sylvestris - 1 - 0\n",
            "Species:Lagopus lagopus - 1 - 0\n",
            "Species:marine bacterium - 1 - 2\n",
            "Species:H1N1 influenza - 1 - 0\n",
            "Species:Tribolium castaneum - 3 - 0\n",
            "Species:mud crab - 1 - 0\n",
            "Species:Oriental fruit fly - 1 - 0\n",
            "Species:Tuber melanosporum Vittad. - 1 - 0\n",
            "Species:Gouldian - 1 - 0\n",
            "Species:T. brevicompactum - 3 - 0\n",
            "Species:TBSV - 6 - 0\n",
            "Species:S. littoralis - 2 - 0\n",
            "Species:IMNV - 2 - 0\n",
            "Species:Manihot glaziovii - 2 - 0\n",
            "Species:H. erato - 1 - 0\n",
            "Species:B strain - 2 - 0\n",
            "Species:B. dorsalis - 4 - 0\n",
            "Species:IMMIB L-1656(T) - 5 - 0\n",
            "Species:Lassa virus - 4 - 0\n",
            "Species:BMYV - 1 - 0\n",
            "Species:black morels - 1 - 0\n",
            "Species:pigs - 1 - 2\n",
            "Species:Nicotiana benthamiana - 3 - 0\n",
            "Species:Red clover necrotic mosaic virus - 1 - 0\n",
            "Species:Phycicoccus dokdonensis DS-8(T) - 1 - 0\n",
            "Species:Methanothermobacter thermoautotrophicus - 1 - 0\n",
            "Species:Galleria mellonella - 2 - 0\n",
            "Species:N. meningitidis - 1 - 0\n",
            "Species:A. nidulans - 13 - 0\n",
            "Species:Morchella rufobrunnea - 1 - 0\n",
            "Species:HPV16 - 1 - 0\n",
            "Species:A - 4 - 144\n",
            "Species:Poephila acuticauda - 1 - 0\n",
            "Species:MDV1 - 2 - 0\n",
            "Species:galaxias - 7 - 0\n",
            "Species:Myxococcus xanthus - 2 - 0\n",
            "Species:Litsea monopetala - 1 - 0\n",
            "Species:threshers - 1 - 0\n",
            "Species:dengue virus - 3 - 0\n",
            "Species:Asia 1/YNBS/58 - 1 - 0\n",
            "Species:Geocoris - 4 - 0\n",
            "Species:Proteus mirabilis - 2 - 0\n",
            "Species:Pseudacteon tricuspis Borgmeier - 1 - 1\n",
            "Species:Beauveria bassiana - 1 - 0\n",
            "Species:VVCop - 1 - 0\n",
            "Species:tiger sharks - 4 - 0\n",
            "Species:Tringa totanus - 1 - 0\n",
            "Species:S. pneumoniae - 1 - 0\n",
            "Species:S. isovalerica - 1 - 0\n",
            "Species:oriental fruit moth - 1 - 0\n",
            "Species:B. anthracis - 11 - 0\n",
            "Species:Sparrowhawk - 2 - 0\n",
            "Species:SIVagmTan-1 - 1 - 0\n",
            "Species:trout - 6 - 4\n",
            "Species:Ricinus communis - 1 - 0\n",
            "Species:Rhipicephalus appendiculatus - 2 - 0\n",
            "Species:Bombyx mori L - 1 - 0\n",
            "Species:Dermamoeba algensis n. sp. - 1 - 0\n",
            "Species:porcine circovirus type 2 - 1 - 0\n",
            "Species:Abeoforma whisleri, gen. nov., sp. nov. - 1 - 0\n",
            "Species:B. terrestris - 2 - 0\n",
            "Species:Variola - 1 - 0\n",
            "Species:participants - 0 - 4\n",
            "Species:Filoreta japonica - 1 - 0\n",
            "Species:Lubomirskia incrustans - 1 - 0\n",
            "Species:fire ant - 2 - 11\n",
            "Species:T. ni - 2 - 0\n",
            "Species:Medicago truncatula - 1 - 0\n",
            "Species:S. invicta - 1 - 0\n",
            "Species:P. typicus - 4 - 0\n",
            "Species:S. aureus - 2 - 0\n",
            "Species:honey bees - 2 - 0\n",
            "Species:Phycicoccus bigeumensis DSM 19264(T) - 1 - 0\n",
            "Species:Eichhornia crassipes - 1 - 0\n",
            "Species:Salmo trutta - 1 - 0\n",
            "Species:Candida krusei - 1 - 0\n",
            "Species:R. appendiculatus - 1 - 0\n",
            "Species:Klebsormidium flaccidum - 2 - 0\n",
            "Species:Colpoda cucullus - 2 - 0\n",
            "Species:R. etli - 1 - 0\n",
            "Species:PemoNPV - 1 - 0\n",
            "Species:Neurospora tetrasperma - 1 - 0\n",
            "Species:African striped mouse - 1 - 0\n",
            "Species:people - 0 - 14\n",
            "Species:Accipiter nisus - 1 - 0\n",
            "Species:soybean - 1 - 0\n",
            "Species:M. australis - 5 - 0\n",
            "Species:corn - 6 - 0\n",
            "Species:durum wheat - 1 - 0\n",
            "Species:Beet chlorosis virus - 1 - 0\n",
            "Species:F. aquilonia - 5 - 0\n",
            "Species:B. bassiana - 3 - 1\n",
            "Species:Melanotaenia australis - 2 - 0\n",
            "Species:Tetranychus urticae - 2 - 0\n",
            "Species:Dunaliella tertiolecta - 1 - 0\n",
            "Species:M. anisopliae - 2 - 1\n",
            "Species:FMDV - 2 - 0\n",
            "Species:genus Beta HPV - 1 - 0\n",
            "Species:human metapneumovirus - 1 - 0\n",
            "Species:NDV - 12 - 0\n",
            "Species:Tetrahymena canadensis - 1 - 0\n",
            "Species:JEC21 - 6 - 1\n",
            "Species:Candida tropicalis - 1 - 0\n",
            "Species:goats - 2 - 0\n",
            "Species:cuckoo - 6 - 0\n",
            "Species:An. peditaeniatus - 1 - 0\n",
            "Species:Auritidibacter ignavus - 1 - 0\n",
            "Species:C. hominivorax - 1 - 0\n",
            "Species:Eciton burchellii - 1 - 0\n",
            "Species:Carcharhinus leucas - 1 - 0\n",
            "Species:retroviral - 1 - 0\n",
            "Species:coxsackievirus A9 - 1 - 0\n",
            "Species:type B influenza viruses - 1 - 0\n",
            "Species:AMDV strains - 2 - 0\n",
            "Species:G. molesta - 4 - 1\n",
            "Species:KSL51201-037(T) - 5 - 0\n",
            "Species:patient - 0 - 12\n",
            "Species:Arabidopsis - 14 - 15\n",
            "Species:A. niger strain - 1 - 1\n",
            "Species:S. cerevisae - 1 - 0\n",
            "Species:northern house mosquito - 2 - 0\n",
            "Species:Acanthamoeba castellanii - 1 - 0\n",
            "Species:Thalassiosira pseudonana - 1 - 0\n",
            "Species:Persea bombycina - 1 - 0\n",
            "Species:wheat - 6 - 4\n",
            "Species:ectromelia virus - 1 - 0\n",
            "Species:New World screw-worm - 1 - 0\n",
            "Species:STEC O84:H4 strain 4795/97 - 1 - 0\n",
            "Species:Gouldian finch - 4 - 0\n",
            "Species:Amphidinium poecilochroum - 1 - 0\n",
            "Species:reindeer - 2 - 0\n",
            "Species:Rhizoctonia solani - 1 - 0\n",
            "Species:Indian rhesus macaques - 1 - 0\n",
            "Species:M. domestica - 2 - 0\n",
            "Species:Gordonia humi sp. nov. - 2 - 0\n",
            "Species:T. melanosporum - 9 - 0\n",
            "Species:Hippodamia convergens Guerin-Meneville - 1 - 0\n",
            "Species:vaccinia virus - 8 - 0\n",
            "Species:Minimassisteria diva - 1 - 0\n",
            "Species:human adenovirus - 1 - 1\n",
            "Species:Florida panthers - 1 - 0\n",
            "Species:Scrippsiella trochoidea - 2 - 0\n",
            "Species:P. citri - 1 - 0\n",
            "Species:Cochliobolus luttrellii - 1 - 0\n",
            "Species:Flock House virus B2 - 1 - 0\n",
            "Species:Tomato bushy stunt virus - 1 - 0\n",
            "Species:Salmonella enterica serovar Typhimurium - 2 - 0\n",
            "Species:Parus major - 1 - 0\n",
            "Species:Colorado potato beetle - 1 - 0\n",
            "Species:Maize mosaic rhabdovirus (MMV) - 1 - 0\n",
            "Species:Flavobacterium johnsoniae - 2 - 0\n",
            "Species:Conotrachelus nenuphar (Herbst) - 1 - 0\n",
            "Species:BWYV - 1 - 0\n",
            "Species:Mice - 1 - 0\n",
            "Species:Anoxybacillus eryuanensis - 2 - 0\n",
            "Species:body lice - 1 - 0\n",
            "Species:VZV-induced - 1 - 0\n",
            "Species:pig - 3 - 0\n",
            "Species:Nocardia farcinica IFM 10152 - 1 - 0\n",
            "Species:O/AV99(L) - 1 - 0\n",
            "Species:Agrobacterium tumefaciens - 1 - 0\n",
            "Species:CAV9 - 3 - 0\n",
            "Species:shrimp - 0 - 4\n",
            "Species:European corn borer - 1 - 0\n",
            "Species:S. zeamais - 5 - 0\n",
            "Species:F. johnsoniae - 2 - 0\n",
            "Species:Escherichia coli O84:H4 strain 4795/97 - 1 - 0\n",
            "Species:Tetrahymena pyriformis - 1 - 0\n",
            "Species:Cotesia plutellae bracovirus - 2 - 0\n",
            "Species:T-11 - 7 - 0\n",
            "Species:BLRV - 1 - 0\n",
            "Species:Acyrthosiphon pisum - 2 - 0\n",
            "Species:Peach - 1 - 0\n",
            "Species:HDV - 10 - 1\n",
            "Species:Emmonsia parva - 1 - 0\n",
            "Species:M. micromalus - 1 - 0\n",
            "Species:An. gambiae - 3 - 0\n",
            "Species:garter snake - 2 - 0\n",
            "Species:V. inaequalis - 1 - 1\n",
            "Species:Deltapga1 - 1 - 0\n",
            "Species:brown planthopper - 3 - 0\n",
            "Species:long-tailed finch - 1 - 0\n",
            "Species:A. tumefaciens - 1 - 0\n",
            "Species:N. crassa - 5 - 0\n",
            "Species:Bifidobacterium bifidum S17 - 1 - 0\n",
            "Species:Anopheles peditaeniatus - 2 - 0\n",
            "Species:lethal 2009 pandemic H1N1 influenza virus - 1 - 0\n",
            "Species:Tetrahymena rostrata - 1 - 0\n",
            "Species:persons - 0 - 1\n",
            "Species:Turnip mosaic virus - 1 - 0\n",
            "Species:S. officinarum - 1 - 0\n",
            "Species:C. neoformans - 8 - 1\n",
            "Species:duck plague herpesvirus - 1 - 0\n",
            "Species:VEE - 2 - 0\n",
            "Species:Rhizobium etli - 1 - 0\n",
            "Species:Methanococcus maripaludis - 2 - 0\n",
            "Species:Flavobacterium terrae R2A1-13(T) - 1 - 0\n",
            "Species:Aleutian mink disease virus - 1 - 0\n",
            "Species:Amylostereum areolatum - 2 - 0\n",
            "Species:MMV - 2 - 0\n",
            "Species:Streptomyces olivaceus - 1 - 0\n",
            "Species:Heliothis virescens - 4 - 0\n",
            "Species:D. papillatum - 1 - 0\n",
            "Species:H1N1 - 1 - 2\n",
            "Species:SIV - 2 - 1\n",
            "Species:A. arenaria - 1 - 0\n",
            "Species:M. rubra - 2 - 0\n",
            "Species:Aspergillus niger - 4 - 0\n",
            "Species:L. japonicus - 2 - 0\n",
            "Species:Camponotus herculeanus - 1 - 0\n",
            "Species:morels - 2 - 0\n",
            "Species:guinea pigs - 0 - 1\n",
            "Species:Baikalospongia intermedia - 1 - 0\n",
            "Species:BChV - 1 - 0\n",
            "Species:brown trout - 15 - 0\n",
            "Species:sheeppox viruses - 1 - 0\n",
            "Species:Microtus oeconomus - 1 - 0\n",
            "Species:OU-40 - 5 - 0\n",
            "Species:Aspergillus oryzae - 4 - 0\n",
            "Species:white-throated dipper - 2 - 0\n",
            "Species:Metarhizium anisopliae - 1 - 0\n",
            "Species:Flavobacterium gelidilacus - 1 - 0\n",
            "Species:Junin virus - 1 - 0\n",
            "Species:Gordonia amarae - 1 - 0\n",
            "Species:Drosophila melanogaster - 8 - 0\n",
            "Species:Galaxias anomalus - 1 - 0\n",
            "Species:Polysphondylium pallidum - 2 - 0\n",
            "Species:F. oxysporum f. sp. lycopersici isolate FGSC 9935 - 1 - 0\n",
            "Species:P. bursaria - 1 - 0\n",
            "Species:CC-12301(T) - 6 - 0\n",
            "Species:dengue - 3 - 0\n",
            "Species:influenza virus - 5 - 7\n",
            "Species:Coxsackievirus A16 - 2 - 0\n",
            "Species:Sitophilus zeamais - 2 - 0\n",
            "Species:Gryllus bimaculatus DeGeer - 1 - 0\n",
            "Species:FMDV type Asia 1 - 1 - 0\n",
            "Species:Baculovirus - 1 - 0\n",
            "Species:black-legged kittiwake - 1 - 0\n",
            "Species:B. bifidum S17 - 1 - 0\n",
            "Species:CA16 - 5 - 0\n",
            "Species:sheep poxvirus - 1 - 0\n",
            "Species:T. weissflogii - 1 - 0\n",
            "Species:Penaeus monodon - 0 - 1\n",
            "Species:BL21 E. coli - 1 - 0\n",
            "Species:Gordonia malaquae - 1 - 0\n",
            "Species:VV - 4 - 1\n",
            "Species:vibrio cholerae - 1 - 0\n",
            "Species:L. niger - 1 - 0\n",
            "Species:A. percula - 1 - 0\n",
            "Species:Asia 1 - 4 - 0\n",
            "Species:Flavobacterium ponti sp. nov. - 2 - 0\n",
            "Species:Pirum gemmata gen. nov., sp. nov. - 1 - 0\n",
            "Species:T. vaporariorum - 14 - 0\n",
            "Species:Aspergillus nidulans - 21 - 0\n",
            "Species:Poliovirus - 2 - 0\n",
            "Species:P. pentaurelia - 1 - 0\n",
            "Species:hihi - 2 - 0\n",
            "Species:Lasius niger - 1 - 0\n",
            "Species:Klebsiella pneumoniae - 2 - 0\n",
            "Species:Microterricola viridarii KV-677(T) - 1 - 0\n",
            "Species:H5N1 - 1 - 1\n",
            "Species:rabbit - 2 - 0\n",
            "Species:Gordonia terrae - 1 - 0\n",
            "Species:D. hansenii - 1 - 0\n",
            "Species:Beutenbergia cavernae - 1 - 0\n",
            "Species:patients - 0 - 97\n",
            "Species:Peregrinia clavideferens - 1 - 0\n",
            "Species:Thlaspi caerulescens (Ganges ecotype) - 1 - 0\n",
            "Species:P. c. stanleyana - 1 - 0\n",
            "Species:greater wax moth - 1 - 0\n",
            "Species:western corn rootworm - 2 - 0\n",
            "Species:yellow head virus - 1 - 0\n",
            "Species:Methanoregula boonei gen. nov., sp. nov. - 2 - 0\n",
            "Species:apple - 3 - 0\n",
            "Species:Blacktip reef sharks - 1 - 0\n",
            "Species:R-40509 - 3 - 0\n",
            "Species:red imported fire ants - 2 - 0\n",
            "Species:HBV - 11 - 2\n",
            "Species:H9N2 virus - 1 - 0\n",
            "Species:Simkania negevensis - 1 - 0\n",
            "Species:S. cellobiosiphila - 1 - 0\n",
            "Species:class II NDV isolates - 1 - 0\n",
            "Species:cattle - 2 - 0\n",
            "Species:goat poxvirus - 1 - 0\n",
            "Species:GSW-R14 - 10 - 0\n",
            "Species:chamois - 3 - 0\n",
            "Species:Porphyromonas gingivalis - 2 - 0\n",
            "Species:Aspergillus fumigatuscyp51A - 1 - 0\n",
            "Species:S. richteri Forel - 1 - 0\n",
            "Species:Geleia sinica spec. nov. - 2 - 0\n",
            "Species:Aureococcus anophagefferens - 1 - 0\n",
            "Species:Flavobacterium gelidilacus LMG 21477(T) - 1 - 1\n",
            "Species:black truffle - 1 - 0\n",
            "Species:white spot syndrome virus - 1 - 0\n",
            "Species:Sindbis - 1 - 0\n",
            "Species:Rumex palustris - 1 - 0\n"
          ],
          "name": "stdout"
        }
      ]
    },
    {
      "cell_type": "code",
      "metadata": {
        "colab": {
          "base_uri": "https://localhost:8080/",
          "height": 120
        },
        "id": "gOa0w_oGO1ZW",
        "outputId": "f3d29ce6-6ace-43a4-c5bc-5e1d2bd9f76c"
      },
      "source": [
        "documents_S800[\"21441069\"][\"text\"]"
      ],
      "execution_count": 37,
      "outputs": [
        {
          "output_type": "execute_result",
          "data": {
            "application/vnd.google.colaboratory.intrinsic+json": {
              "type": "string"
            },
            "text/plain": [
              "'Preventive therapy for breast cancer: a consensus statement.\\n\\nIn March, 2010, a group of breast cancer experts met to develop a consensus statement on breast cancer prevention, with a focus on medical and therapeutic interventions. We present the conclusions in this Review. First we agreed that the term chemoprevention is inappropriate and suggested that the term preventive therapy better represents this feature of management. Two selective oestrogen-receptor modulators--tamoxifen and raloxifene--are so far the only medical options approved by the US Food and Drug Administration for preventive therapy. Of these tamoxifen has greater efficacy and can be used in premenopausal women, but raloxifene has fewer side-effects. Two newer drugs in this class, lasofoxifene and arzoxifene, also show efficacy and possibly a better overall risk-benefit profile, but need further assessment. Aromatase inhibitors might be more efficacious, and results of prevention trials are eagerly awaited. Newer agents, notably bisphosphonates and metformin, have shown promise in observational studies and need to be assessed in randomised prevention trials. Other agents, such as aspirin, other non-steroidal anti-inflammatory drugs, COX-2 inhibitors, retinoids, rexinoids, and dietary components have limited effects or are in the early phases of investigation. New contralateral tumours in women with breast cancer might be generally useful as a model for prevention, as has been seen for tamoxifen. If valid such a model would facilitate the design of simpler, cheaper, and better-focused trials for assessing new agents. \\n'"
            ]
          },
          "metadata": {
            "tags": []
          },
          "execution_count": 37
        }
      ]
    },
    {
      "cell_type": "code",
      "metadata": {
        "id": "FzV_5b6joYZF",
        "colab": {
          "base_uri": "https://localhost:8080/",
          "height": 229
        },
        "outputId": "e77412a3-0f9f-4b66-aaa5-abfe73869e44"
      },
      "source": [
        "splits = {\"train\":\"split/train.txt\",\"test\":\"split/test.txt\",\"devel\":\"split/devel.txt\"}\n",
        "dir_to_standoff = \"standoff/\"\n",
        "\n",
        "species_LINNAEUS = {};\n",
        "\n",
        "for split_name in [\"train\", \"test\", \"devel\"]:\n",
        "  a_file = open(splits[split_name])\n",
        "  for filename_begin in a_file.readlines()[0:]:\n",
        "    a_txt_file = open(dir_to_standoff+filename_begin.strip()+\".txt\")\n",
        "    an_ann_file = open(dir_to_standoff+filename_begin.strip()+\".ann\")\n",
        "\n",
        "    file_content = a_txt_file.read()\n",
        "    species_for_ann_file = {}\n",
        "    for ann_iter in an_ann_file.readlines():\n",
        "      species_match = re.search(\"Species (\\d+) (\\d+)\", ann_iter, flags = 0) \n",
        "      if species_match != None:\n",
        "        species_match_begin = int(species_match.group(1)) \n",
        "        species_match_end = int(species_match.group(2)) \n",
        "        if file_content[species_match_begin:species_match_end] not in species_for_ann_file.keys():\n",
        "          species_for_ann_file[file_content[species_match_begin:species_match_end]] = {'O':0,'Species':0}\n",
        "        species_for_ann_file[file_content[species_match_begin:species_match_end]]['Species'] += 1\n",
        "    for species_elem in species_for_ann_file:\n",
        "      if species_elem not in species_LINNAEUS.keys():\n",
        "          species_LINNAEUS[species_elem] = {'O':0,'Species':0}\n",
        "      species_LINNAEUS[species_elem]['Species'] += species_for_ann_file[species_elem]['Species']\n",
        "    a_txt_file.close()\n",
        "    an_ann_file.close()\n",
        "\n",
        "  a_file.close()"
      ],
      "execution_count": 38,
      "outputs": [
        {
          "output_type": "error",
          "ename": "FileNotFoundError",
          "evalue": "ignored",
          "traceback": [
            "\u001b[0;31m---------------------------------------------------------------------------\u001b[0m",
            "\u001b[0;31mFileNotFoundError\u001b[0m                         Traceback (most recent call last)",
            "\u001b[0;32m<ipython-input-38-790ab058c91d>\u001b[0m in \u001b[0;36m<module>\u001b[0;34m()\u001b[0m\n\u001b[1;32m      5\u001b[0m \u001b[0;34m\u001b[0m\u001b[0m\n\u001b[1;32m      6\u001b[0m \u001b[0;32mfor\u001b[0m \u001b[0msplit_name\u001b[0m \u001b[0;32min\u001b[0m \u001b[0;34m[\u001b[0m\u001b[0;34m\"train\"\u001b[0m\u001b[0;34m,\u001b[0m \u001b[0;34m\"test\"\u001b[0m\u001b[0;34m,\u001b[0m \u001b[0;34m\"devel\"\u001b[0m\u001b[0;34m]\u001b[0m\u001b[0;34m:\u001b[0m\u001b[0;34m\u001b[0m\u001b[0;34m\u001b[0m\u001b[0m\n\u001b[0;32m----> 7\u001b[0;31m   \u001b[0ma_file\u001b[0m \u001b[0;34m=\u001b[0m \u001b[0mopen\u001b[0m\u001b[0;34m(\u001b[0m\u001b[0msplits\u001b[0m\u001b[0;34m[\u001b[0m\u001b[0msplit_name\u001b[0m\u001b[0;34m]\u001b[0m\u001b[0;34m)\u001b[0m\u001b[0;34m\u001b[0m\u001b[0;34m\u001b[0m\u001b[0m\n\u001b[0m\u001b[1;32m      8\u001b[0m   \u001b[0;32mfor\u001b[0m \u001b[0mfilename_begin\u001b[0m \u001b[0;32min\u001b[0m \u001b[0ma_file\u001b[0m\u001b[0;34m.\u001b[0m\u001b[0mreadlines\u001b[0m\u001b[0;34m(\u001b[0m\u001b[0;34m)\u001b[0m\u001b[0;34m[\u001b[0m\u001b[0;36m0\u001b[0m\u001b[0;34m:\u001b[0m\u001b[0;34m]\u001b[0m\u001b[0;34m:\u001b[0m\u001b[0;34m\u001b[0m\u001b[0;34m\u001b[0m\u001b[0m\n\u001b[1;32m      9\u001b[0m     \u001b[0ma_txt_file\u001b[0m \u001b[0;34m=\u001b[0m \u001b[0mopen\u001b[0m\u001b[0;34m(\u001b[0m\u001b[0mdir_to_standoff\u001b[0m\u001b[0;34m+\u001b[0m\u001b[0mfilename_begin\u001b[0m\u001b[0;34m.\u001b[0m\u001b[0mstrip\u001b[0m\u001b[0;34m(\u001b[0m\u001b[0;34m)\u001b[0m\u001b[0;34m+\u001b[0m\u001b[0;34m\".txt\"\u001b[0m\u001b[0;34m)\u001b[0m\u001b[0;34m\u001b[0m\u001b[0;34m\u001b[0m\u001b[0m\n",
            "\u001b[0;31mFileNotFoundError\u001b[0m: [Errno 2] No such file or directory: 'split/train.txt'"
          ]
        }
      ]
    },
    {
      "cell_type": "code",
      "metadata": {
        "id": "AWB3Op39uKxp"
      },
      "source": [
        "list(species_LINNAEUS.keys())[0:5]"
      ],
      "execution_count": null,
      "outputs": []
    },
    {
      "cell_type": "code",
      "metadata": {
        "id": "PUYmKaOes5xC"
      },
      "source": [
        "species_LINNAEUS['yeast']"
      ],
      "execution_count": null,
      "outputs": []
    },
    {
      "cell_type": "markdown",
      "metadata": {
        "id": "7vv7Fzb6opFd"
      },
      "source": [
        "LINNAEUS\n",
        "Data - contains sample numbers, text and annotations. Such as LINNAEUSData[\"pmcA102792\"] contains list, which contains following elements: 'annotations' ( list of e.g {'begin': 1851,\n",
        "   'end': 1873,\n",
        "   'is_annotated': True,\n",
        "   'species': 'Caenorhabditis elegans'}, ... ) and 'text': 'Scp160p, a multiple KH-domain protein, is a component of mRNP complexes in yeast\\nAb..."
      ]
    },
    {
      "cell_type": "code",
      "metadata": {
        "id": "CvW-Ll47ofBe"
      },
      "source": [
        "splits = {\"train\":\"split/train.txt\",\"test\":\"split/test.txt\",\"devel\":\"split/devel.txt\"}\n",
        "dir_to_standoff = \"standoff/\"\n",
        "\n",
        "LINNAEUSData = {};\n",
        "\n",
        "\n",
        "for split_name in [\"train\", \"test\", \"devel\"]:\n",
        "  a_file = open(splits[split_name])\n",
        "  for sample_number in a_file.readlines()[0:]:\n",
        "    sample_number = sample_number.strip()\n",
        "    a_txt_file = open(dir_to_standoff+sample_number+\".txt\")\n",
        "    an_ann_file = open(dir_to_standoff+sample_number+\".ann\")\n",
        "\n",
        "    file_content = a_txt_file.read()\n",
        "    LINNAEUSData[sample_number] = {\"text\": file_content, \"annotations\":[]}#, \"unannotations\":[]} \n",
        "\n",
        "    for ann_iter in an_ann_file.readlines():\n",
        "      species_match = re.search(\"Species (\\d+) (\\d+)\", ann_iter, flags = 0) \n",
        "      if species_match != None:\n",
        "        species_match_begin = int(species_match.group(1)) \n",
        "        species_match_end = int(species_match.group(2))\n",
        "        #if sample_number not in s800Data.keys():\n",
        "        LINNAEUSData[sample_number][\"annotations\"].append({\"is_annotated\":True,\"species\":file_content[species_match_begin:species_match_end],\"begin\":species_match_begin,\"end\":species_match_end})  \n",
        "    \n",
        "    a_txt_file.close()\n",
        "    an_ann_file.close()\n",
        "\n",
        "  a_file.close()"
      ],
      "execution_count": null,
      "outputs": []
    },
    {
      "cell_type": "markdown",
      "metadata": {
        "id": "8UDt319jXc4Y"
      },
      "source": [
        "A quick demo of LINNAEUSData"
      ]
    },
    {
      "cell_type": "code",
      "metadata": {
        "id": "U5xXFpHvvl8f"
      },
      "source": [
        "LINNAEUSData[\"pmcA102792\"][\"annotations\"][-1]"
      ],
      "execution_count": null,
      "outputs": []
    },
    {
      "cell_type": "code",
      "metadata": {
        "id": "ipc_rRrAZURZ"
      },
      "source": [
        "LINNAEUSData[\"pmcA102792\"][\"annotations\"][1]"
      ],
      "execution_count": null,
      "outputs": []
    },
    {
      "cell_type": "code",
      "metadata": {
        "id": "w0xY3416ZiJT"
      },
      "source": [
        "LINNAEUSData[\"pmcA102792\"][\"text\"][126:131]"
      ],
      "execution_count": null,
      "outputs": []
    },
    {
      "cell_type": "code",
      "metadata": {
        "id": "prTZvUENXBjB"
      },
      "source": [
        "LINNAEUSData[\"pmcA102792\"][\"text\"]"
      ],
      "execution_count": null,
      "outputs": []
    },
    {
      "cell_type": "code",
      "metadata": {
        "id": "R_A9ZiUmXV4F"
      },
      "source": [
        "LINNAEUSData[\"pmcA102792\"][\"text\"][32625:32637]"
      ],
      "execution_count": null,
      "outputs": []
    },
    {
      "cell_type": "code",
      "metadata": {
        "id": "dbim1fqDa65B"
      },
      "source": [
        " LINNAEUSData[\"pmcA102792\"][\"text\"][32287:32292]"
      ],
      "execution_count": null,
      "outputs": []
    },
    {
      "cell_type": "code",
      "metadata": {
        "id": "KIeHw2pIYEpM"
      },
      "source": [
        ""
      ],
      "execution_count": null,
      "outputs": []
    },
    {
      "cell_type": "markdown",
      "metadata": {
        "id": "I5cHUaPeoujZ"
      },
      "source": [
        "To get unannotated species we must for travel through every document and find species that are not within the already tagged entities"
      ]
    },
    {
      "cell_type": "code",
      "metadata": {
        "id": "H4DgtjRxbdYE"
      },
      "source": [
        "re.escape(\" \"+\"S.cerevisiae\")+\"[\\\\ \\\\. \\\\,]\""
      ],
      "execution_count": null,
      "outputs": []
    },
    {
      "cell_type": "code",
      "metadata": {
        "id": "QBDykyGhda7_"
      },
      "source": [
        "# for further analysis\n",
        "#[{\"is_annotated\":False,\"species\":specie,\"begin\":m.start(0)+1,\"end\":m.end(0)-1} for m in re.finditer(re.escape(\" \"+'S.cerevisiae')+\"[\\\\ \\\\. \\\\,]\", tmp92)]"
      ],
      "execution_count": null,
      "outputs": []
    },
    {
      "cell_type": "code",
      "metadata": {
        "id": "o_sbbCF3wHMu"
      },
      "source": [
        "splits = {\"train\":\"split/train.txt\",\"test\":\"split/test.txt\",\"devel\":\"split/devel.txt\"}\n",
        "dir_to_standoff = \"standoff/\"\n",
        "matches_in_doc = [];\n",
        "\n",
        "\n",
        "for split_name in [\"train\", \"test\", \"devel\"]:\n",
        "  a_file = open(splits[split_name])\n",
        "  # for each document\n",
        "  for sample_number in a_file.readlines()[0:]:\n",
        "    sample_number = sample_number.strip()\n",
        "    a_txt_file = open(dir_to_standoff+sample_number+\".txt\")\n",
        "    an_ann_file = open(dir_to_standoff+sample_number+\".ann\")\n",
        "\n",
        "    file_content = a_txt_file.read()\n",
        "    #print(file_content);\n",
        "    #break;\n",
        "    not_annotated_species = []\n",
        "    # for each tagged species in species_LINNAEUS( 'yeast', 'Saccharo...', ...)\n",
        "    for specie in species_LINNAEUS:\n",
        "      # this is tough, matches_in_doc e.g. \n",
        "      # for sample pmcA102792 and species 'yeast':\n",
        "      # [{'is_annotated': False, 'species': ['yeast', 'begin': 126, 'end': 131}, ... ,{'is_annotated': False, 'species': 'yeast', 'begin': 32287, 'end': 32292}]        \n",
        "      # so it finds all the species that are annotated in LINNAEUS altogether and sets is_annotated flag by default to be False\n",
        "      matches_in_doc = [{\"is_annotated\":False,\"species\":specie,\"begin\":m.start(0)+1,\"end\":m.end(0)-1} for m in re.finditer(re.escape(\" \"+specie)+\"[\\\\ \\\\. \\\\,]\", file_content)]\n",
        "      # a small test\n",
        "      # test if the last species of the first article is \n",
        "      if sample_number == \"pmcA102792\" and 1 == 0:\n",
        "        if specie == \"S.cerevisiae\":\n",
        "          print(matches_in_doc[-1][\"begin\"]);\n",
        "          print(LINNAEUSData[\"pmcA102792\"][\"annotations\"][-1][\"begin\"]);\n",
        "          assert matches_in_doc[-1][\"begin\"] == LINNAEUSData[\"pmcA102792\"][\"annotations\"][-1][\"begin\"];\n",
        "          assert matches_in_doc[-1][\"end\"] == LINNAEUSData[\"pmcA102792\"][\"annotations\"][-1][\"end\"];\n",
        "          print(\"Test pmcA102792 S.cerevisiae test passed\");\n",
        "\n",
        "      # a test hack\n",
        "      #matches_in_doc.append({\"is_annotated\":False,\"species\":\"yeast\",\"begin\":5,\"end\":10});\n",
        "      # now we go through every element in matches_in_doc\n",
        "      # LINNAEUSData already contains tagged species in a document, such as : {'begin': 32625, 'end': 32637, 'is_annotated': True, 'species': 'S.cerevisiae'}\n",
        "      for false_candidate in matches_in_doc:\n",
        "        validTillEnd = True\n",
        "        for annotation in LINNAEUSData[sample_number][\"annotations\"]:\n",
        "          if annotation[\"is_annotated\"] == False:\n",
        "            break;\n",
        "          # for example\n",
        "          # 'Drosophila' is not added in the following case as it is in the range. So if there is any overlap, between existing annotation, nothing is added\n",
        "          # {'begin': 3756, 'end': 3779, 'is_annotated': True,  'species': 'Drosophila melanogaster'},\n",
        "          # where as {'is_annotated': False, 'species': 'Drosophila', 'begin': 4426, 'end': 4436} validates since\n",
        "          # LINNAEUSData[\"pmcA102792\"][\"annotations\"] contains\n",
        "          # ...\n",
        "          # {'begin': 4085, 'end': 4090, 'is_annotated': True, 'species': 'human'},\n",
        "          # {'begin': 4760, 'end': 4765, 'is_annotated': True, 'species': 'yeast'},\n",
        "          # ...\n",
        "          if annotation[\"begin\"] <= false_candidate[\"begin\"] and false_candidate[\"end\"] <= annotation[\"end\"]:\n",
        "            validTillEnd = False\n",
        "            #break\n",
        "        if validTillEnd:\n",
        "          #print(\"Added\");\n",
        "          #print(false_candidate);\n",
        "          LINNAEUSData[sample_number][\"annotations\"].append(false_candidate)\n",
        "    break;\n",
        "    a_txt_file.close()\n",
        "    an_ann_file.close()\n",
        "\n",
        "  a_file.close()"
      ],
      "execution_count": null,
      "outputs": []
    },
    {
      "cell_type": "code",
      "metadata": {
        "id": "kdlvDAdIlFkC"
      },
      "source": [
        "LINNAEUSData[\"pmcA102792\"][\"annotations\"];"
      ],
      "execution_count": null,
      "outputs": []
    },
    {
      "cell_type": "code",
      "metadata": {
        "id": "TYnu5IkglzCB"
      },
      "source": [
        ""
      ],
      "execution_count": null,
      "outputs": []
    },
    {
      "cell_type": "markdown",
      "metadata": {
        "id": "UqmRm4j-zubA"
      },
      "source": [
        "Get 'O' to species_LINNAEUS dict"
      ]
    },
    {
      "cell_type": "code",
      "metadata": {
        "id": "zyDuimi9z2en"
      },
      "source": [
        "for LINNAEUS_key in LINNAEUSData.keys():\n",
        "  for ann in LINNAEUSData[LINNAEUS_key][\"annotations\"]:\n",
        "    if ann[\"is_annotated\"] == False:\n",
        "      species_LINNAEUS[ann[\"species\"]]['O'] += 1"
      ],
      "execution_count": null,
      "outputs": []
    },
    {
      "cell_type": "markdown",
      "metadata": {
        "id": "Dn8F8MC50v8-"
      },
      "source": [
        "### Make HTML files for better viewing\n"
      ]
    },
    {
      "cell_type": "code",
      "metadata": {
        "id": "uOxs0ksO0h4Y"
      },
      "source": [
        "LINNAEUS_ambiguous_html=\"LINNAEUS_ambiguous_html\"\n",
        "!rm -rf LINNAEUS_ambiguous_html/\n",
        "!mkdir -p LINNAEUS_ambiguous_html"
      ],
      "execution_count": null,
      "outputs": []
    },
    {
      "cell_type": "markdown",
      "metadata": {
        "id": "ZsxmUc1r1kMz"
      },
      "source": [
        "#### HTML pages formatting"
      ]
    },
    {
      "cell_type": "code",
      "metadata": {
        "id": "9tbMl8qo1BxB"
      },
      "source": [
        "afterHTML=\"\"\"\n",
        "<!doctype html><html lang=\\\"en\\\"> <head><meta charset=\\\"utf-8\\\"> \n",
        "<title>LINNAEUS inconsistencies</title> \n",
        "<style>  \n",
        ".yellow { background-color:rgba(50, 180, 180, 0.5); } \n",
        ".red { background-color:rgba(214, 75, 79, 0.5); } \n",
        ".blue { background-color:rgba(75, 75, 214, 0.5); } \n",
        "table { border-collapse: collapse; } \n",
        "th, td { border: 1px solid black; padding: 4px; } \n",
        "th {  cursor: pointer; } \n",
        "th:hover { background: yellow; }\n",
        "</style></head><body>\n",
        "\"\"\"\n",
        "\n",
        "linkPagecontent=\"\"\"\n",
        "<small><b>Press header for sorting</b></small>\n",
        "<table id=\\\"grid\\\"> \n",
        "    <thead> \n",
        "      <tr> \n",
        "        <th data-type=\\\"string\\\">Tagged entity</th> \n",
        "        <th data-type=\\\"number\\\">'Species' tags</th> \n",
        "        <th data-type=\\\"number\\\">'O' tags</th> \n",
        "      </tr> \n",
        "    </thead> \n",
        "    <tbody>\n",
        "\"\"\"\n",
        "#\"<table><tr><th>Tagged entity</th><th>'Species' tags</th><th>'O' tags</th></tr>\"\n",
        "linkPagecontent_end = \"\"\"\n",
        "</tbody>\n",
        "</body> \n",
        "  <script>  \n",
        "\n",
        "    grid.onclick = function(e) {\n",
        "      if (e.target.tagName != 'TH') return;\n",
        "\n",
        "      let th = e.target;\n",
        "      // if TH, then sort\n",
        "      // cellIndex is the number of th:\n",
        "      //   0 for the first column\n",
        "      //   1 for the second column, etc\n",
        "      sortGrid(th.cellIndex, th.dataset.type);\n",
        "    };\n",
        "\n",
        "    function sortGrid(colNum, type) {\n",
        "      let tbody = grid.querySelector('tbody');\n",
        "\n",
        "      let rowsArray = Array.from(tbody.rows);\n",
        "\n",
        "      // compare(a, b) compares two rows, need for sorting\n",
        "      let compare;\n",
        "\n",
        "      switch (type) {\n",
        "        case 'number':\n",
        "          compare = function(rowA, rowB) {\n",
        "            return rowA.cells[colNum].innerHTML - rowB.cells[colNum].innerHTML;\n",
        "          };\n",
        "          break;\n",
        "        case 'string':\n",
        "          compare = function(rowA, rowB) {\n",
        "            return rowA.cells[colNum].innerHTML > rowB.cells[colNum].innerHTML ? 1 : -1;\n",
        "          };\n",
        "          break;\n",
        "      }\n",
        "\n",
        "      // sort\n",
        "      rowsArray.sort(compare);\n",
        "\n",
        "      tbody.append(...rowsArray);\n",
        "    }\n",
        "  </script>\n",
        "</html>\n",
        "\"\"\"\n",
        "\n",
        "endHTML=\"</body></html>\"\n"
      ],
      "execution_count": null,
      "outputs": []
    },
    {
      "cell_type": "markdown",
      "metadata": {
        "id": "3_caTSXm13OF"
      },
      "source": [
        "##### Make HTML files"
      ]
    },
    {
      "cell_type": "code",
      "metadata": {
        "id": "DcAm3-iC12Ku"
      },
      "source": [
        "\n",
        "#s800_ambiguous_html = \"s800_ambiguous_html\"\n",
        "\n",
        "\n",
        "for species_key in species_LINNAEUS.keys():\n",
        "  species_html_content = \"<h2>\"+species_key+\"</h2>\"\n",
        "  species_html_content += \"<span class=\\\"red\\\">Not tagged name</span> - <span class=\\\"blue\\\">Tagged name</span> - <span class=\\\"yellow\\\">Other name</span><br><hr>\"\n",
        "  nameInLinkPage = species_key\n",
        "  trigger = False\n",
        "  for document_key in LINNAEUSData.keys():\n",
        "      filtered_species = []\n",
        "      for candidate in LINNAEUSData[document_key][\"annotations\"]:\n",
        "        if candidate['species'] == species_key:\n",
        "          filtered_species.append(candidate)\n",
        "      if len(list(filtered_species)) > 0:\n",
        "        trigger = True\n",
        "        species_html_content += \"<h3>\"+document_key+\"</h3>\"\n",
        "        species_to_html = sorted(LINNAEUSData[document_key][\"annotations\"], key = lambda i: i['begin'])\n",
        "        tmp_begin = 0\n",
        "        if document_key == \"20173005\" and species_key == \"yeast\":\n",
        "          print(species_to_html)\n",
        "        for current in species_to_html:\n",
        "          if current[\"species\"] == species_key:\n",
        "            if current[\"is_annotated\"] == True:\n",
        "              species_html_content += LINNAEUSData[document_key][\"text\"][tmp_begin:current[\"begin\"]] + \"<span class=\\\"blue\\\">\" + current[\"species\"] + \"</span>\"\n",
        "            else:\n",
        "              species_html_content += LINNAEUSData[document_key][\"text\"][tmp_begin:current[\"begin\"]] + \"<span class=\\\"red\\\">\" + current[\"species\"] + \"</span>\"\n",
        "          else:\n",
        "            species_html_content += LINNAEUSData[document_key][\"text\"][tmp_begin:current[\"begin\"]] + \"<span class=\\\"yellow\\\">\" + current[\"species\"] + \"</span>\"\n",
        "          tmp_begin = current[\"end\"]\n",
        "        species_html_content += LINNAEUSData[document_key][\"text\"][tmp_begin:]\n",
        "  if trigger == True:\n",
        "    filename = \"\".join(x for x in species_key if x.isalnum())+\".html\"\n",
        "    f = open(LINNAEUS_ambiguous_html+\"/\"+filename, \"w\")\n",
        "    # make the headline of each document on its own line\n",
        "    species_html_content = re.sub(\"\\n\\n\",\"<br><br>\",species_html_content)\n",
        "    f.write(afterHTML+species_html_content+endHTML)\n",
        "    f.close()\n",
        "    nameInLinkPage = \"<a href=\\\"\"+filename+\"\\\">\"+species_key+\"</a>\"\n",
        "  linkPagecontent += \"<tr><td>\"+nameInLinkPage+\"</td><td>\"+str(species_LINNAEUS[species_key]['Species'])+\"</td><td>\"+str(species_LINNAEUS[species_key]['O'])+\"</td></tr>\\n\"\n",
        "  #key+\"<br />\\n\"\n",
        "linkPagecontent += \"</table>\"\n",
        "f = open(LINNAEUS_ambiguous_html+\"/index.html\", \"w\")\n",
        "f.write(afterHTML+linkPagecontent+linkPagecontent_end)\n",
        "f.close()"
      ],
      "execution_count": null,
      "outputs": []
    },
    {
      "cell_type": "code",
      "metadata": {
        "id": "Xbm5rWDcC2tf",
        "colab": {
          "base_uri": "https://localhost:8080/"
        },
        "outputId": "1d0a5d89-4c4c-4883-ac21-2320b8d45377"
      },
      "source": [
        "ls LINNAEUS_ambiguous_html"
      ],
      "execution_count": null,
      "outputs": [
        {
          "output_type": "stream",
          "text": [
            "adenovirus.html                         men.html\n",
            "Alliumsativum.html                      Men.html\n",
            "Aloevera.html                           Mgrisea.html\n",
            "Ancylostomacaninum.html                 mice.html\n",
            "Ancylostomaceylanicum.html              Mice.html\n",
            "Ancylostomaduodenale.html               Mleprae.html\n",
            "Anisakissimplex.html                    MMTV.html\n",
            "Anophelesgambiae.html                   moth.html\n",
            "anthrax.html                            mouse.html\n",
            "Arabidopsis.html                        Mouse.html\n",
            "Arabidopsisthaliana.html                MRSA.html\n",
            "Armenianhamster.html                    Msmegmatis.html\n",
            "Ascarissuum.html                        Mtb.html\n",
            "Ashbyagossypii.html                     Mtuberculosis.html\n",
            "Aspergillusnidulans.html                mules.html\n",
            "Asuum.html                              murine.html\n",
            "Athaliana.html                          Murine.html\n",
            "Atlanticsalmon.html                     Musmusculus.html\n",
            "avianmyeloblastosisvirus.html           Mycobacteriumafricanum.html\n",
            "Bacilluscereusgroup.html                Mycobacteriumbovis.html\n",
            "Bacilluslicheniformis.html              Mycobacteriummicroti.html\n",
            "bacteriophage.html                      Mycobacteriumtuberculosis.html\n",
            "bacteriophageM13.html                   Myristicafragrans.html\n",
            "bananas.html                            Myrothamnusflabellifolia.html\n",
            "Banthracis.html                         Myxoboluscerebralis.html\n",
            "barley.html                             myxomavirus.html\n",
            "barleystripemosaicvirus.html            Necatoramericanus.html\n",
            "bayleaf.html                            Neisseriagonorrhoeae.html\n",
            "Bburgdorferi.html                       Neisseriameningitidis.html\n",
            "Bcereusgroup.html                       Neurosporacrassa.html\n",
            "Bcereus.html                            Nmeningitidis.html\n",
            "Bcinerea.html                           nudemice.html\n",
            "blacksage.html                          nutmeg.html\n",
            "Blumeriagraminis.html                   Ocimumgratissimum.html\n",
            "Bmallei.html                            Oncorhynchusclarki.html\n",
            "Bombyxmori.html                         Oncorhynchusmykiss.html\n",
            "Boophilusdecoloratus.html               onion.html\n",
            "Boophilusmicroplus.html                 Orzziaslatipes.html\n",
            "Borreliaburgdorferi.html                Paeruginosa.html\n",
            "Bostaurus.html                          Paralichthysolivaceous.html\n",
            "Botrytiscinerea.html                    participant.html\n",
            "bovine.html                             Participant.html\n",
            "Bovine.html                             participants.html\n",
            "boy.html                                Participants.html\n",
            "boys.html                               patient.html\n",
            "Bpseudomallei.html                      Patient.html\n",
            "browntrout.html                         patients.html\n",
            "Bthuringiensis.html                     Patients.html\n",
            "Buchneraaphidicola.html                 pea.html\n",
            "bulltrout.html                          Penaeusmonodon.html\n",
            "Burkholderiamallei.html                 people.html\n",
            "Burkholderiapseudomallei.html           People.html\n",
            "Bweihenstephanensis.html                peoples.html\n",
            "Caenorhabditiselegans.html              person.html\n",
            "Caenorhabdselegans.html                 Person.html\n",
            "calf.html                               persons.html\n",
            "Calf.html                               Persons.html\n",
            "calves.html                             Phanerochaetechrysosporium.html\n",
            "Calves.html                             Photobacteriumprofundum3TCK.html\n",
            "Campephilusprincipalis.html             Photobacteriumprofundum.html\n",
            "Campylobacterjejuni.html                PhotobacteriumprofundumSS9.html\n",
            "caninehookworm.html                     Phytophthorainfestans.html\n",
            "Canisfamiliaris.html                    Phytophthoraramorum.html\n",
            "Cannulus.html                           Phytophthorasojae.html\n",
            "cattle.html                             Pichiapastoris.html\n",
            "Cbriggsae.html                          pig.html\n",
            "Celegans.html                           pigs.html\n",
            "Chaetomiumglobosum.html                 Pileated.html\n",
            "Chamomile.html                          PileatedWoodpecker.html\n",
            "chicken.html                            Pileatedwoodpeckers.html\n",
            "chick.html                              PileatedWoodpeckers.html\n",
            "child.html                              Podosporaanserina.html\n",
            "Child.html                              potato.html\n",
            "children.html                           Potato.html\n",
            "Children.html                           PprofundumSS9.html\n",
            "Chinesehamster.html                     Pseudomonasaeruginosa.html\n",
            "Chironomusthummi.html                   rabbit.html\n",
            "Chlorobiumlimicola.html                 Rabbit.html\n",
            "cinchona.html                           rabbits.html\n",
            "Cohosalmon.html                         rainbowtrout.html\n",
            "Colwelliapsychrerythraea34H.html        Rainbowtrout.html\n",
            "Cordiacurassavica.html                  rat.html\n",
            "corn.html                               Rat.html\n",
            "cotton.html                             rats.html\n",
            "cow.html                                Rats.html\n",
            "cows.html                               rhesusmacaque.html\n",
            "Cpipens.html                            Rhipicephalusappendiculatus.html\n",
            "Cpipiens.html                           Rhipicephaluscamicasi.html\n",
            "Cpseudovishnui.html                     Rhipicephalusevertsi.html\n",
            "Cquinquefasciatus.html                  Rhipicephaluspumilio.html\n",
            "Cquiquefasciatus.html                   Rhipicephalussanguineus.html\n",
            "crab.html                               Rhipicephaluszambesiensis.html\n",
            "Cryptococcusneoformans.html             rhubarb.html\n",
            "Ctarsalis.html                          riceblastfungus.html\n",
            "Ctritaeniorhynchus.html                 rice.html\n",
            "Ctritaeniorhyncus.html                  rodent.html\n",
            "cucumbermosaicvirus.html                Saccharomycescerevisiae.html\n",
            "cutthroattrout.html                     Salmonellaenterica.html\n",
            "Cvishnui.html                           Salmonellatyphimurium.html\n",
            "cyanobacterial.html                     salmon.html\n",
            "CYANOBACTERIAL.html                     Salmontrutta.html\n",
            "Cymbopogoncitratus.html                 Salvelinusconfluentus.html\n",
            "Deinococcusradiodurans.html             Saureus.html\n",
            "DesulfitobacteriumhafnienseY51.html     Sbicolor.html\n",
            "Dictyosteliumdiscoideum.html            Scerevisiae.html\n",
            "Dmelanogaster.html                      Schistosomamansoni.html\n",
            "dogs.html                               Schizosaccharomycespombe.html\n",
            "donkey.html                             schoolchildren.html\n",
            "donkeys.html                            Sclerotiniasclerotiorum.html\n",
            "Dradiodurans.html                       Scylla.html\n",
            "Drosophila.html                         Scyllaserrata.html\n",
            "Drosophilamelanogaster.html             Sdurans.html\n",
            "Dryocopuspileatus.html                  Sepidermidis.html\n",
            "Dsimulans.html                          Sfaecalis.html\n",
            "Echinacea.html                          Sfaecium.html\n",
            "Echinaceapurpurea.html                  SFAECIUM.html\n",
            "EcoliBL21.html                          shadonbeni.html\n",
            "Ecoli.html                              Shaemolyticus.html\n",
            "EcolistrainBL21.html                    shandileer.html\n",
            "Ecuniculi.html                          sheep.html\n",
            "Encephalitozooncuniculi.html            Shewanellaoneidensis.html\n",
            "Enterococcusfaecium.html                shrimp.html\n",
            "Entomaphagamaimaiga.html                Simianimmunodeficiencyvirus.html\n",
            "Eremotheciumgossypii.html               SIVmac239.html\n",
            "Eryngiumfoetidium.html                  smallpox.html\n",
            "EscherichiacoliBL21DE3.html             Snodorum.html\n",
            "Escherichiacoli.html                    Solanumtuberosum.html\n",
            "Eucalyptus.html                         sootymangabey.html\n",
            "fissionyeast.html                       Sordariamacrospora.html\n",
            "flies.html                              Sorghumbicolor.html\n",
            "fly.html                                sorghum.html\n",
            "FMDV.html                               Spombe.html\n",
            "FMDVs.html                              SpragueDawleyrats.html\n",
            "footandmouthdiseasevirus.html           Ssaprophyticus.html\n",
            "Fremyelladiplosiphon.html               Ssclerotiorum.html\n",
            "fruitfly.html                           Stagonosporanodorum.html\n",
            "garlic.html                             Staphylococcusaureus.html\n",
            "Garlic.html                             steelhead.html\n",
            "Gibberellazeae.html                     Stigmatellaaurantiaca.html\n",
            "ginger.html                             Streptococcusfaecalis.html\n",
            "Ginger.html                             Streptococcusfaecium.html\n",
            "girl.html                               StreptococcusFaecium.html\n",
            "girls.html                              Streptococcuspneumoniae.html\n",
            "goat.html                               Streptococcuspyogenes.html\n",
            "Goat.html                               Streptococcussanguis.html\n",
            "GoldenSeal.html                         Stuberosum.html\n",
            "guineapig.html                          Susscrofa.html\n",
            "Guineapig.html                          SV40.html\n",
            "guineapigs.html                         SynechococcusstrainTx20.html\n",
            "Guineapigs.html                         SynechococcusTX20.html\n",
            "Gzeae.html                              Syriangoldenhamsters.html\n",
            "Haemogogus.html                         Taestivum.html\n",
            "Haemophilusinfluenzae.html              TaestivumvarFortal.html\n",
            "hamster.html                            Tcani.html\n",
            "Hcontortus.html                         Tcanis.html\n",
            "Helicobacterpylori.html                 teleostfish.html\n",
            "Heligmosomoidespolygyrus.html           Tetrastigmavoinierianum.html\n",
            "HIV1.html                               tobacco.html\n",
            "HIV.html                                Toxocaracanis.html\n",
            "Homosapiens.html                        Trichinellaspiralis.html\n",
            "horse.html                              Trichodermareesei.html\n",
            "horseradish.html                        Trichuristrichiura.html\n",
            "horses.html                             Triticumtimopheevi.html\n",
            "Horses.html                             Ttubifex.html\n",
            "Hpylori.html                            Tubifextubifex.html\n",
            "humancytomegalovirus.html               tulsi.html\n",
            "human.html                              Tvoinierianum.html\n",
            "Human.html                              Umaydis.html\n",
            "humanimmunodeficiencyvirustype1.html    Ustilagomaydis.html\n",
            "humanrhinovirus.html                    Vcholerae.html\n",
            "humans.html                             VcholeraeN16961.html\n",
            "Hydrastiscanadensis.html                VfischeriES114.html\n",
            "Hymenocallistubiflora.html              Vfischeri.html\n",
            "index.html                              VHSV.html\n",
            "infant.html                             Vibriocholerae0395.html\n",
            "infants.html                            VibriocholeraeMO10.html\n",
            "infectiouspancreaticnecrosisvirus.html  VibriocholeraeRC385.html\n",
            "infectioussalmonanaemiavirus.html       VibriocholeraeV51.html\n",
            "IvorybilledWoodpecker.html              VibriocholeraeV52.html\n",
            "IvorybilledWoodpeckers.html             VibrioMED222.html\n",
            "Ivorybill.html                          Vibriosplendidus12B01.html\n",
            "jalap.html                              ViralHemorrhagicSepticemiaVirus.html\n",
            "Klebsiellapneumoniae.html               Vparahaemoliticus.html\n",
            "lemongrass.html                         Vparahaemolyticus.html\n",
            "lemon.html                              Vsplendiduds12B01.html\n",
            "Leonotisnepetifolia.html                VvulnificusCMCP6.html\n",
            "Lintermedia.html                        Vvulnificus.html\n",
            "Llongipalpis.html                       VvulnificusYJ016.html\n",
            "Lumbratilis.html                        wheat.html\n",
            "Lutzomyiaintermedia.html                WhitetailedDeer.html\n",
            "Lutzomyialongipalpis.html               woman.html\n",
            "Lutzomyianeivai.html                    women.html\n",
            "Lutzomyiawhitmani.html                  Women.html\n",
            "Lwhitmani.html                          worms.html\n",
            "Lymantriadispar.html                    Xenopuslaevis.html\n",
            "Magnaporthegrisea.html                  Xenopustropicalis.html\n",
            "maize.html                              yeast.html\n",
            "man.html                                Yeast.html\n",
            "Man.html                                YJ016.html\n",
            "Matricariachamomilla.html               zebrafish.html\n",
            "Mavium.html                             Zebrafish.html\n",
            "MbovisBCG.html                          Zingibeofficinale.html\n",
            "Mcerebralis.html                        Zingiberofficinale.html\n"
          ],
          "name": "stdout"
        }
      ]
    },
    {
      "cell_type": "markdown",
      "metadata": {
        "id": "Fz2WRo1r3A1H"
      },
      "source": [
        "##### Some examinations of newly created data"
      ]
    },
    {
      "cell_type": "code",
      "metadata": {
        "id": "BVwIYbyc3IML"
      },
      "source": [
        "#IPython.display.HTML(filename='LINNAEUS_ambiguous_html/human.html')"
      ],
      "execution_count": null,
      "outputs": []
    },
    {
      "cell_type": "markdown",
      "metadata": {
        "id": "mjCESP1t3JbU"
      },
      "source": [
        "#####Prepare a gzip and download"
      ]
    },
    {
      "cell_type": "code",
      "metadata": {
        "id": "__2cQIT63BTx"
      },
      "source": [
        "html_tar_file = LINNAEUS_ambiguous_html+\".tar.gz\"\n",
        "!tar -czvf $html_tar_file LINNAEUS_ambiguous_html 1>/dev/null"
      ],
      "execution_count": null,
      "outputs": []
    },
    {
      "cell_type": "code",
      "metadata": {
        "id": "HzxGWXy785HU",
        "colab": {
          "base_uri": "https://localhost:8080/",
          "height": 34
        },
        "outputId": "487a3823-7848-47af-a29a-500e4a25ab2f"
      },
      "source": [
        "files.download(html_tar_file)"
      ],
      "execution_count": null,
      "outputs": [
        {
          "output_type": "display_data",
          "data": {
            "application/javascript": [
              "\n",
              "    async function download(id, filename, size) {\n",
              "      if (!google.colab.kernel.accessAllowed) {\n",
              "        return;\n",
              "      }\n",
              "      const div = document.createElement('div');\n",
              "      const label = document.createElement('label');\n",
              "      label.textContent = `Downloading \"${filename}\": `;\n",
              "      div.appendChild(label);\n",
              "      const progress = document.createElement('progress');\n",
              "      progress.max = size;\n",
              "      div.appendChild(progress);\n",
              "      document.body.appendChild(div);\n",
              "\n",
              "      const buffers = [];\n",
              "      let downloaded = 0;\n",
              "\n",
              "      const channel = await google.colab.kernel.comms.open(id);\n",
              "      // Send a message to notify the kernel that we're ready.\n",
              "      channel.send({})\n",
              "\n",
              "      for await (const message of channel.messages) {\n",
              "        // Send a message to notify the kernel that we're ready.\n",
              "        channel.send({})\n",
              "        if (message.buffers) {\n",
              "          for (const buffer of message.buffers) {\n",
              "            buffers.push(buffer);\n",
              "            downloaded += buffer.byteLength;\n",
              "            progress.value = downloaded;\n",
              "          }\n",
              "        }\n",
              "      }\n",
              "      const blob = new Blob(buffers, {type: 'application/binary'});\n",
              "      const a = document.createElement('a');\n",
              "      a.href = window.URL.createObjectURL(blob);\n",
              "      a.download = filename;\n",
              "      div.appendChild(a);\n",
              "      a.click();\n",
              "      div.remove();\n",
              "    }\n",
              "  "
            ],
            "text/plain": [
              "<IPython.core.display.Javascript object>"
            ]
          },
          "metadata": {
            "tags": []
          }
        },
        {
          "output_type": "display_data",
          "data": {
            "application/javascript": [
              "download(\"download_270b5713-bf76-4b5d-aea4-4f502508f283\", \"LINNAEUS_ambiguous_html.tar.gz\", 8729126)"
            ],
            "text/plain": [
              "<IPython.core.display.Javascript object>"
            ]
          },
          "metadata": {
            "tags": []
          }
        }
      ]
    },
    {
      "cell_type": "markdown",
      "metadata": {
        "id": "fU5ZEi6vn4et"
      },
      "source": [
        "#S800 PART\n"
      ]
    },
    {
      "cell_type": "markdown",
      "metadata": {
        "id": "n1VeFx6gmRvN"
      },
      "source": [
        "##Data preparation"
      ]
    },
    {
      "cell_type": "markdown",
      "metadata": {
        "id": "RR-KKABjTe0k"
      },
      "source": [
        "###species dictionary - contain species name as key and 'O' and 'Species' tags to refer how many words were annotated as them in the corpus\n"
      ]
    },
    {
      "cell_type": "code",
      "metadata": {
        "id": "8tENjl8WopyS"
      },
      "source": [
        "splits = {\"train\":\"split/train.txt\",\"test\":\"split/test.txt\",\"devel\":\"split/devel.txt\"}\n",
        "dir_to_standoff = \"standoff/\"\n",
        "\n",
        "species = {};\n",
        "\n",
        "#s800SpeciesMarkedData = []\n",
        "\n",
        "for split_name in [\"train\", \"test\", \"devel\"]:\n",
        "  a_file = open(splits[split_name])\n",
        "  for filename_begin in a_file.readlines()[0:]:\n",
        "    a_txt_file = open(dir_to_standoff+filename_begin.strip()+\".txt\")\n",
        "    an_ann_file = open(dir_to_standoff+filename_begin.strip()+\".ann\")\n",
        "\n",
        "    file_content = a_txt_file.read()\n",
        "    species_for_ann_file = {}\n",
        "    #\n",
        "    # We want to add species in a file, to a dict and if they are already present in the dict as a key, increase the value associated with the key\n",
        "    # The aim is to find all the species and in the second loop form a set of them\n",
        "    for ann_iter in an_ann_file.readlines():\n",
        "      species_match = re.search(\"Species (\\d+) (\\d+)\", ann_iter, flags = 0) \n",
        "      if species_match != None:\n",
        "        species_match_begin = int(species_match.group(1)) \n",
        "        species_match_end = int(species_match.group(2))\n",
        "        # check if Species has been already added\n",
        "        if file_content[species_match_begin:species_match_end] not in species_for_ann_file.keys():\n",
        "          # no, init dict\n",
        "          species_for_ann_file[file_content[species_match_begin:species_match_end]] = {'O':0,'Species':0}\n",
        "        # yes, increase counter\n",
        "        species_for_ann_file[file_content[species_match_begin:species_match_end]]['Species'] += 1\n",
        "    # \n",
        "    # now add them to the super list containing all the species mentioned so far\n",
        "    for species_elem in species_for_ann_file:\n",
        "      # a new species found, init its values\n",
        "      if species_elem not in species.keys():\n",
        "          species[species_elem] = {'O':0,'Species':0,'Species_LINNAEUS':0}\n",
        "      #print(len(re.findall(re.escape(species_elem),file_content)))\n",
        "      #species[species_elem]['O'] += len(re.findall(re.escape(species_elem),file_content)) - species_for_ann_file[species_elem]['Species']\n",
        "      #\n",
        "      # Add how many were present in the file\n",
        "      species[species_elem]['Species'] += species_for_ann_file[species_elem]['Species']\n",
        "    a_txt_file.close()\n",
        "    an_ann_file.close()\n",
        "\n",
        "  a_file.close()"
      ],
      "execution_count": null,
      "outputs": []
    },
    {
      "cell_type": "code",
      "metadata": {
        "id": "kXiyjDgBDeRE",
        "colab": {
          "base_uri": "https://localhost:8080/"
        },
        "outputId": "5e56d252-22e4-4cc0-a889-589fdaad0b3c"
      },
      "source": [
        "species[\"fire ant\"]"
      ],
      "execution_count": null,
      "outputs": [
        {
          "output_type": "execute_result",
          "data": {
            "text/plain": [
              "{'O': 0, 'Species': 5, 'Species_LINNAEUS': 0}"
            ]
          },
          "metadata": {
            "tags": []
          },
          "execution_count": 111
        }
      ]
    },
    {
      "cell_type": "markdown",
      "metadata": {
        "id": "5xt4GZZfcNuu"
      },
      "source": [
        "Before adding LINNAEUS tags, remember the tags"
      ]
    },
    {
      "cell_type": "code",
      "metadata": {
        "id": "XN9tO6zMcNQ3"
      },
      "source": [
        "species_set_S800 = set(species.keys())"
      ],
      "execution_count": null,
      "outputs": []
    },
    {
      "cell_type": "code",
      "metadata": {
        "id": "UC3D6G3LclCY"
      },
      "source": [
        ""
      ],
      "execution_count": null,
      "outputs": []
    },
    {
      "cell_type": "code",
      "metadata": {
        "colab": {
          "base_uri": "https://localhost:8080/"
        },
        "id": "uV1wRcTfclH9",
        "outputId": "e93eac2a-d8c2-490d-cb88-2ff0125055df"
      },
      "source": [
        "list(species_set_S800)[0:5]"
      ],
      "execution_count": null,
      "outputs": [
        {
          "output_type": "execute_result",
          "data": {
            "text/plain": [
              "['S. richteri Forel',\n",
              " 'Acer pseudoplatanus',\n",
              " 'Methanothermobacter thermoautotrophicus',\n",
              " 'anthrax',\n",
              " 'G. biloba']"
            ]
          },
          "metadata": {
            "tags": []
          },
          "execution_count": 114
        }
      ]
    },
    {
      "cell_type": "markdown",
      "metadata": {
        "id": "i5SyNzfgTNaw"
      },
      "source": [
        "###s800Data - contains sample numbers, text and annotations"
      ]
    },
    {
      "cell_type": "code",
      "metadata": {
        "id": "1zWK32SdDABa"
      },
      "source": [
        "splits = {\"train\":\"split/train.txt\",\"test\":\"split/test.txt\",\"devel\":\"split/devel.txt\"}\n",
        "dir_to_standoff = \"standoff/\"\n",
        "\n",
        "s800Data = {};\n",
        "\n",
        "\n",
        "for split_name in [\"train\", \"test\", \"devel\"]:\n",
        "  a_file = open(splits[split_name])\n",
        "  for sample_number in a_file.readlines()[0:]:\n",
        "    sample_number = sample_number.strip()\n",
        "    a_txt_file = open(dir_to_standoff+sample_number+\".txt\")\n",
        "    an_ann_file = open(dir_to_standoff+sample_number+\".ann\")\n",
        "\n",
        "    file_content = a_txt_file.read()\n",
        "    s800Data[sample_number] = {\"text\": file_content, \"annotations\":[]}#, \"unannotations\":[]} \n",
        "\n",
        "    for ann_iter in an_ann_file.readlines():\n",
        "      species_match = re.search(\"Species (\\d+) (\\d+)\", ann_iter, flags = 0) \n",
        "      if species_match != None:\n",
        "        species_match_begin = int(species_match.group(1)) \n",
        "        species_match_end = int(species_match.group(2))\n",
        "        #if sample_number not in s800Data.keys():\n",
        "        s800Data[sample_number][\"annotations\"].append({\"is_annotated\":True,\"only_in_LINNAEUS\":False,\"species\":file_content[species_match_begin:species_match_end],\"begin\":species_match_begin,\"end\":species_match_end})  \n",
        "    \n",
        "    a_txt_file.close()\n",
        "    an_ann_file.close()\n",
        "\n",
        "  a_file.close()"
      ],
      "execution_count": null,
      "outputs": []
    },
    {
      "cell_type": "code",
      "metadata": {
        "id": "GLGICPDEEFpe",
        "colab": {
          "base_uri": "https://localhost:8080/"
        },
        "outputId": "6d826845-d75e-4e82-f528-0de663f9aa4a"
      },
      "source": [
        "s800Data[\"21029750\"][\"annotations\"][0]"
      ],
      "execution_count": null,
      "outputs": [
        {
          "output_type": "execute_result",
          "data": {
            "text/plain": [
              "{'begin': 13,\n",
              " 'end': 41,\n",
              " 'is_annotated': True,\n",
              " 'only_in_LINNAEUS': False,\n",
              " 'species': 'infectious myonecrosis virus'}"
            ]
          },
          "metadata": {
            "tags": []
          },
          "execution_count": 116
        }
      ]
    },
    {
      "cell_type": "code",
      "metadata": {
        "id": "Vi3SWFP-yNEW",
        "colab": {
          "base_uri": "https://localhost:8080/",
          "height": 120
        },
        "outputId": "20aa810b-eb6e-45ab-e090-fbc555b31f97"
      },
      "source": [
        "s800Data[\"21029750\"][\"text\"]"
      ],
      "execution_count": null,
      "outputs": [
        {
          "output_type": "execute_result",
          "data": {
            "application/vnd.google.colaboratory.intrinsic+json": {
              "type": "string"
            },
            "text/plain": [
              "'Detection of infectious myonecrosis virus using monoclonal antibody specific to N and C fragments of the capsid protein expressed heterologously. \\n\\nThe gene encoding the capsid protein in ORF1 of the genome of infectious myonecrosis virus (IMNV) (GenBank AY570982) was amplified into three parts named CP-N (nucleotides 2248-3045), CP-I (nucleotides 3046-3954) and CP-C (nucleotides 3955-4953). The CP-N fragment was inserted into expression vector pTYB1 while CP-I and CP-C were each inserted into expression vector pGEX-6P-1 for transformation of BL21 E. coli strain. After induction, intein-CP-N (84 kDa), glutathione-S-transferase (GST)-CP-I (60 kDa) and GST-CP-C (62 kDa) fusion proteins were produced. They were separated by SDS-PAGE and electroeluted before immunization of Swiss mice for monoclonal antibody (MAb) production. Two MAbs specific to CP-N and one MAb specific to CP-C were selected for use for detection of natural IMNV infections in Penaeus vannamei by dot blotting, Western blotting and immunohistochemistry. There was no cross-reaction with shrimp tissues or common shrimp viruses including white spot syndrome virus (WSSV), yellow head virus (YHV), Taura syndrome virus (TSV), Penaeus monodon nucleopolyhedrovirus (PemoNPV), Penaeus stylirostris densovirus (PstDNV) and Penaeus monodon densovirus (PmDNV). The detection sensitivities of the MAbs were approximately 6 fmol/spot of purified recombinant intein-CP-N protein and 8 fmol/spot of GST-CP-C as determined by dot blotting. A combination of all three MAbs resulted in a twofold increase in sensitivity over use of any single MAb. However, this sensitivity was approximately 10 times lower than that of one-step RT-PCR using the same sample. Immunohistochemical analysis using MAbs specific to CP-N and CP-C in IMNV-infected shrimp revealed intense staining patterns in muscles, the lymphoid organ, gills, the heart, hemocytes and connective tissue. \\n'"
            ]
          },
          "metadata": {
            "tags": []
          },
          "execution_count": 117
        }
      ]
    },
    {
      "cell_type": "markdown",
      "metadata": {
        "id": "OY4N-PzoSUPU"
      },
      "source": [
        "#### Compare entities that are not s800 but in LINNAEUS"
      ]
    },
    {
      "cell_type": "code",
      "metadata": {
        "id": "OJVN0MTASf8f"
      },
      "source": [
        "keys_only_in_LINNAEUS = []\n",
        "for candidate_key in species_LINNAEUS.keys():\n",
        "  if candidate_key not in species.keys():\n",
        "    keys_only_in_LINNAEUS.append(candidate_key)"
      ],
      "execution_count": null,
      "outputs": []
    },
    {
      "cell_type": "code",
      "metadata": {
        "id": "CnKBjqRgUDVb",
        "colab": {
          "base_uri": "https://localhost:8080/"
        },
        "outputId": "9bf3c9fe-f22e-4dc9-a7ab-9671bebea461"
      },
      "source": [
        "keys_only_in_LINNAEUS[0:8]"
      ],
      "execution_count": null,
      "outputs": [
        {
          "output_type": "execute_result",
          "data": {
            "text/plain": [
              "['S.cerevisiae',\n",
              " 'Caenorhabditis elegans',\n",
              " 'Xenopus laevis',\n",
              " 'C.elegans',\n",
              " 'E.coli',\n",
              " 'bovine',\n",
              " 'Pichia pastoris',\n",
              " 'D.melanogaster']"
            ]
          },
          "metadata": {
            "tags": []
          },
          "execution_count": 119
        }
      ]
    },
    {
      "cell_type": "code",
      "metadata": {
        "id": "KoavbBdHqENm"
      },
      "source": [
        "#for key in species_LINNAEUS.keys():\n",
        "#  species[key][\"Species_LINNAEUS\"] = species_LINNAEUS[key]['Species']"
      ],
      "execution_count": null,
      "outputs": []
    },
    {
      "cell_type": "code",
      "metadata": {
        "id": "PRsfHSPSfgF_",
        "colab": {
          "base_uri": "https://localhost:8080/"
        },
        "outputId": "1c930d95-390f-4644-fca9-240b5df39bc8"
      },
      "source": [
        "species_LINNAEUS[\"Men\"]"
      ],
      "execution_count": null,
      "outputs": [
        {
          "output_type": "execute_result",
          "data": {
            "text/plain": [
              "{'O': 0, 'Species': 2}"
            ]
          },
          "metadata": {
            "tags": []
          },
          "execution_count": 121
        }
      ]
    },
    {
      "cell_type": "code",
      "metadata": {
        "id": "plTjvPNTueBv",
        "colab": {
          "base_uri": "https://localhost:8080/"
        },
        "outputId": "16bea973-19dc-4082-8f16-b6bfe8a4837b"
      },
      "source": [
        "species_LINNAEUS[\"E.coli\"]"
      ],
      "execution_count": null,
      "outputs": [
        {
          "output_type": "execute_result",
          "data": {
            "text/plain": [
              "{'O': 0, 'Species': 2}"
            ]
          },
          "metadata": {
            "tags": []
          },
          "execution_count": 122
        }
      ]
    },
    {
      "cell_type": "code",
      "metadata": {
        "id": "qYl2HB6vAp81"
      },
      "source": [
        "#species[\"E.coli\"] # this would fail"
      ],
      "execution_count": null,
      "outputs": []
    },
    {
      "cell_type": "code",
      "metadata": {
        "id": "BX6HZS1pqwn5",
        "colab": {
          "base_uri": "https://localhost:8080/"
        },
        "outputId": "1bb598b2-dd92-4a2d-ccfe-5c1c33bf9da3"
      },
      "source": [
        "species[\"E. coli\"]"
      ],
      "execution_count": null,
      "outputs": [
        {
          "output_type": "execute_result",
          "data": {
            "text/plain": [
              "{'O': 0, 'Species': 12, 'Species_LINNAEUS': 0}"
            ]
          },
          "metadata": {
            "tags": []
          },
          "execution_count": 124
        }
      ]
    },
    {
      "cell_type": "markdown",
      "metadata": {
        "id": "Z0hJ_NO4UGMp"
      },
      "source": [
        "###To get unannotated text we must for travel through every document and find species that are not within the already tagged entities"
      ]
    },
    {
      "cell_type": "code",
      "metadata": {
        "id": "zwsiXSVcR-Bt",
        "colab": {
          "base_uri": "https://localhost:8080/"
        },
        "outputId": "0fb19a60-6fde-4baf-d5cc-501f6193b970"
      },
      "source": [
        "# regex testing\n",
        "test = \"muggy rat-\"\n",
        "re.findall(re.escape(\" \"+\"rat\")+\"[\\\\ \\\\. \\\\, \\\\-]\", test)"
      ],
      "execution_count": null,
      "outputs": [
        {
          "output_type": "execute_result",
          "data": {
            "text/plain": [
              "[' rat-']"
            ]
          },
          "metadata": {
            "tags": []
          },
          "execution_count": 125
        }
      ]
    },
    {
      "cell_type": "code",
      "metadata": {
        "id": "tQK4y70ZUGrj"
      },
      "source": [
        "splits = {\"train\":\"split/train.txt\",\"test\":\"split/test.txt\",\"devel\":\"split/devel.txt\"}\n",
        "dir_to_standoff = \"standoff/\"\n",
        "\n",
        "\n",
        "for split_name in [\"train\", \"test\", \"devel\"]:\n",
        "  a_file = open(splits[split_name])\n",
        "  for sample_number in a_file.readlines()[0:]:\n",
        "    #if 1 == 1:\n",
        "      #sample_number = \"21047956\\n\"\n",
        "    sample_number = sample_number.strip()\n",
        "    a_txt_file = open(dir_to_standoff+sample_number+\".txt\")\n",
        "    an_ann_file = open(dir_to_standoff+sample_number+\".ann\")\n",
        "\n",
        "    file_content = a_txt_file.read()\n",
        "    not_annotated_species = []\n",
        "    for specie in species:\n",
        "      matches_in_doc = [{\"is_annotated\":False,\"only_in_LINNAEUS\":False,\"species\":specie,\"begin\":m.start(0)+1,\"end\":m.end(0)-1} for m in re.finditer(re.escape(\" \"+specie)+\"[\\\\ \\\\. \\\\, \\\\-]\", file_content)]\n",
        "      for false_candidate in matches_in_doc:\n",
        "        validTillEnd = True\n",
        "        #if specie == \"human\":\n",
        "        #  print(s800Data[sample_number][\"annotations\"])\n",
        "        for annotation in s800Data[sample_number][\"annotations\"]:\n",
        "          #if annotation[\"begin\"] <= false_candidate[\"begin\"] or false_candidate[\"end\"] <= annotation[\"end\"]:\n",
        "          if (annotation[\"begin\"] <= false_candidate[\"begin\"] and false_candidate[\"begin\"] <= annotation[\"end\"]) \\\n",
        "             or (annotation[\"begin\"] <= false_candidate[\"end\"] and false_candidate[\"end\"] <= annotation[\"end\"]):\n",
        "            validTillEnd = False\n",
        "            break\n",
        "        if validTillEnd:\n",
        "          #if false_candidate[\"species\"] == \"shrimp\":\n",
        "          #  print(\"Shrimp above\")\n",
        "          s800Data[sample_number][\"annotations\"].append(false_candidate)\n",
        "    \n",
        "    for specie in keys_only_in_LINNAEUS:\n",
        "      matches_in_doc = [{\"is_annotated\":False,\"only_in_LINNAEUS\":True,\"species\":specie,\"begin\":m.start(0)+1,\"end\":m.end(0)-1} for m in re.finditer(re.escape(\" \"+specie)+\"[\\\\ \\\\. \\\\,]\", file_content)]\n",
        "      for LINNAEUS_candidate in matches_in_doc:\n",
        "        validTillEnd = True\n",
        "        for annotation in s800Data[sample_number][\"annotations\"]:\n",
        "          # this is to say, that the candidate is within, but it should rather work when part of the candidate is within\n",
        "          #if annotation[\"begin\"] <= LINNAEUS_candidate[\"begin\"] and LINNAEUS_candidate[\"end\"] <= annotation[\"end\"]:\n",
        "          if (annotation[\"begin\"] <= LINNAEUS_candidate[\"begin\"] and LINNAEUS_candidate[\"begin\"] <= annotation[\"end\"]) \\\n",
        "             or (annotation[\"begin\"] <= LINNAEUS_candidate[\"end\"] and LINNAEUS_candidate[\"end\"] <= annotation[\"end\"]):\n",
        "            validTillEnd = False\n",
        "            break\n",
        "        if validTillEnd:\n",
        "          #if LINNAEUS_candidate[\"species\"] == \"shrimp\":\n",
        "          #  print(\"Shrimp below\")\n",
        "          s800Data[sample_number][\"annotations\"].append(LINNAEUS_candidate)\n",
        "          #print(\"Added \"+str(LINNAEUS_candidate))\n",
        "\n",
        "    a_txt_file.close()\n",
        "    an_ann_file.close()\n",
        "\n",
        "  a_file.close()"
      ],
      "execution_count": null,
      "outputs": []
    },
    {
      "cell_type": "code",
      "metadata": {
        "id": "ZPBwezp3whP1",
        "colab": {
          "base_uri": "https://localhost:8080/"
        },
        "outputId": "40916622-f04d-4a8b-d480-e8dfba574e01"
      },
      "source": [
        "species[\"HIV\"]"
      ],
      "execution_count": null,
      "outputs": [
        {
          "output_type": "execute_result",
          "data": {
            "text/plain": [
              "{'O': 0, 'Species': 38, 'Species_LINNAEUS': 0}"
            ]
          },
          "metadata": {
            "tags": []
          },
          "execution_count": 127
        }
      ]
    },
    {
      "cell_type": "markdown",
      "metadata": {
        "id": "2ulzCrwX06Tk"
      },
      "source": [
        "Now add the missing keys"
      ]
    },
    {
      "cell_type": "code",
      "metadata": {
        "id": "-n3pgt18gIMn"
      },
      "source": [
        "for key in keys_only_in_LINNAEUS:\n",
        "  species[key] = {'Species':0,'O':0,'Species_LINNAEUS':species_LINNAEUS[key]['Species']}"
      ],
      "execution_count": null,
      "outputs": []
    },
    {
      "cell_type": "code",
      "metadata": {
        "id": "gP4Yd6Xfgchy",
        "colab": {
          "base_uri": "https://localhost:8080/"
        },
        "outputId": "ff006497-9304-4ca1-de23-829844cc0484"
      },
      "source": [
        "species[\"Men\"]"
      ],
      "execution_count": null,
      "outputs": [
        {
          "output_type": "execute_result",
          "data": {
            "text/plain": [
              "{'O': 0, 'Species': 0, 'Species_LINNAEUS': 2}"
            ]
          },
          "metadata": {
            "tags": []
          },
          "execution_count": 129
        }
      ]
    },
    {
      "cell_type": "code",
      "metadata": {
        "id": "0mW1z3KceaC1",
        "colab": {
          "base_uri": "https://localhost:8080/"
        },
        "outputId": "70e90250-4e95-410b-de46-f39c7dabc5b9"
      },
      "source": [
        "species[\"HIV\"]"
      ],
      "execution_count": null,
      "outputs": [
        {
          "output_type": "execute_result",
          "data": {
            "text/plain": [
              "{'O': 0, 'Species': 38, 'Species_LINNAEUS': 0}"
            ]
          },
          "metadata": {
            "tags": []
          },
          "execution_count": 130
        }
      ]
    },
    {
      "cell_type": "code",
      "metadata": {
        "id": "we44O1uqeyxl",
        "colab": {
          "base_uri": "https://localhost:8080/"
        },
        "outputId": "9330a718-59db-49e0-b3fd-86ddc45f3a35"
      },
      "source": [
        "HIVspecies = 0\n",
        "HIVo = 0\n",
        "for key in list(s800Data.keys())[0:]:\n",
        "  for ann in list(s800Data[key][\"annotations\"]):\n",
        "    if ann['species'] == 'HIV':\n",
        "      if ann['is_annotated'] == True:\n",
        "        HIVspecies += 1\n",
        "      if ann['is_annotated'] == False:\n",
        "        HIVo += 1\n",
        "print(HIVspecies)\n",
        "print(HIVo)"
      ],
      "execution_count": null,
      "outputs": [
        {
          "output_type": "stream",
          "text": [
            "38\n",
            "13\n"
          ],
          "name": "stdout"
        }
      ]
    },
    {
      "cell_type": "markdown",
      "metadata": {
        "id": "2mS2OW9qXX4H"
      },
      "source": [
        "#### 'only_in_LINNAEUS' tagged species should be denoted by 'O' in the dataset"
      ]
    },
    {
      "cell_type": "code",
      "metadata": {
        "id": "ghTv4cr2XWdm"
      },
      "source": [
        "for sample in s800Data.keys():\n",
        "  for ann in s800Data[sample][\"annotations\"]:\n",
        "    if ann[\"only_in_LINNAEUS\"]:\n",
        "      #print(ann[\"species\"]+\" \"+sample)\n",
        "      species[ann[\"species\"]]['O'] += 1"
      ],
      "execution_count": null,
      "outputs": []
    },
    {
      "cell_type": "code",
      "metadata": {
        "colab": {
          "base_uri": "https://localhost:8080/"
        },
        "id": "_q4q91cnC8TO",
        "outputId": "e0b82cd7-256a-4754-dea8-ee6344845a3e"
      },
      "source": [
        "s800Data[list(s800Data.keys())[0]]"
      ],
      "execution_count": null,
      "outputs": [
        {
          "output_type": "execute_result",
          "data": {
            "text/plain": [
              "{'annotations': [{'begin': 0,\n",
              "   'end': 23,\n",
              "   'is_annotated': True,\n",
              "   'only_in_LINNAEUS': False,\n",
              "   'species': 'Methanoregula formicica'},\n",
              "  {'begin': 143,\n",
              "   'end': 150,\n",
              "   'is_annotated': True,\n",
              "   'only_in_LINNAEUS': False,\n",
              "   'species': 'SMSP(T)'},\n",
              "  {'begin': 1076,\n",
              "   'end': 1083,\n",
              "   'is_annotated': True,\n",
              "   'only_in_LINNAEUS': False,\n",
              "   'species': 'SMSP(T)'},\n",
              "  {'begin': 1225,\n",
              "   'end': 1249,\n",
              "   'is_annotated': True,\n",
              "   'only_in_LINNAEUS': False,\n",
              "   'species': 'Methanoregula boonei 6A8'},\n",
              "  {'begin': 1423,\n",
              "   'end': 1430,\n",
              "   'is_annotated': True,\n",
              "   'only_in_LINNAEUS': False,\n",
              "   'species': 'SMSP(T)'},\n",
              "  {'begin': 1435,\n",
              "   'end': 1459,\n",
              "   'is_annotated': True,\n",
              "   'only_in_LINNAEUS': False,\n",
              "   'species': 'Methanoregula boonei 6A8'},\n",
              "  {'begin': 1770,\n",
              "   'end': 1777,\n",
              "   'is_annotated': True,\n",
              "   'only_in_LINNAEUS': False,\n",
              "   'species': 'SMSP(T)'},\n",
              "  {'begin': 1863,\n",
              "   'end': 1886,\n",
              "   'is_annotated': True,\n",
              "   'only_in_LINNAEUS': False,\n",
              "   'species': 'Methanoregula formicica'},\n",
              "  {'begin': 1918,\n",
              "   'end': 1925,\n",
              "   'is_annotated': True,\n",
              "   'only_in_LINNAEUS': False,\n",
              "   'species': 'SMSP(T)'}],\n",
              " 'text': 'Methanoregula formicica sp. nov., a methane-producing archaeon isolated from methanogenic sludge. \\n\\nA novel methane-producing archaeon, strain SMSP(T), was isolated from an anaerobic, propionate-degrading enrichment culture that was originally obtained from granular sludge in a mesophilic upflow anaerobic sludge blanket (UASB) reactor used to treat a beer brewery effluent. Cells were non-motile, blunt-ended, straight rods, 1.0-2.6 mum long by 0.5 mum wide; cells were sometimes up to 7 mum long. Asymmetrical cell division was observed in rod-shaped cells. Coccoid cells (0.5-1.0 mum in diameter) were also observed in mid- to late-exponential phase cultures. Growth was observed between 10 and 40 ^0C (optimum, 30-33 ^0C) and pH 7.0 and 7.6 (optimum, pH 7.4). The G+C content of the genomic DNA was 56.2 mol%. The strain utilized formate and hydrogen for growth and methane production. Based on comparative sequence analyses of the 16S rRNA and mcrA (encoding the alpha subunit of methyl-coenzyme M reductase, a key enzyme in the methane-producing pathway) genes, strain SMSP(T) was affiliated with group E1/E2 within the order Methanomicrobiales. The closest relative based on both 16S rRNA and mcrA gene sequences was Methanoregula boonei 6A8(T) (96.3 % 16S rRNA gene sequence similarity, 85.4 % deduced McrA amino acid sequence similarity). The percentage of 16S rRNA gene sequence similarity indicates that strain SMSP(T) and Methanoregula boonei 6A8(T) represent different species within the same genus. This is supported by our findings of shared phenotypic properties, including cell morphology and growth temperature range, and phenotypic differences in substrate usage and pH range. Based on these genetic and phenotypic properties, we propose that strain SMSP(T) represents a novel species of the genus Methanoregula, for which we propose the name Methanoregula formicica sp. nov., with the type strain SMSP(T) (=NBRC 105244(T) =DSM 22288(T)). \\n'}"
            ]
          },
          "metadata": {
            "tags": []
          },
          "execution_count": 133
        }
      ]
    },
    {
      "cell_type": "code",
      "metadata": {
        "id": "yMA1NArMx5Ui",
        "colab": {
          "base_uri": "https://localhost:8080/"
        },
        "outputId": "c5b95e99-f88e-44ae-ff00-9eab385edb27"
      },
      "source": [
        "species['HIV']"
      ],
      "execution_count": null,
      "outputs": [
        {
          "output_type": "execute_result",
          "data": {
            "text/plain": [
              "{'O': 0, 'Species': 38, 'Species_LINNAEUS': 0}"
            ]
          },
          "metadata": {
            "tags": []
          },
          "execution_count": 134
        }
      ]
    },
    {
      "cell_type": "code",
      "metadata": {
        "id": "wNHKbbjmx_Eo",
        "colab": {
          "base_uri": "https://localhost:8080/"
        },
        "outputId": "81f74a21-dfab-46d5-bf85-a81ac057f780"
      },
      "source": [
        "species['men']"
      ],
      "execution_count": null,
      "outputs": [
        {
          "output_type": "execute_result",
          "data": {
            "text/plain": [
              "{'O': 1, 'Species': 0, 'Species_LINNAEUS': 80}"
            ]
          },
          "metadata": {
            "tags": []
          },
          "execution_count": 135
        }
      ]
    },
    {
      "cell_type": "markdown",
      "metadata": {
        "id": "4l9QsjmTGfHh"
      },
      "source": [
        "##### For reference"
      ]
    },
    {
      "cell_type": "markdown",
      "metadata": {
        "id": "RzR8ubqAdWZh"
      },
      "source": [
        "###Add 'O's to species dictionary simply looping through the previously found \n"
      ]
    },
    {
      "cell_type": "code",
      "metadata": {
        "id": "9eTIkd1j_08I"
      },
      "source": [
        "for species_key in species.keys():\n",
        "  species[species_key]['O'] = 0\n",
        "\n",
        "for s800_key in s800Data.keys():\n",
        "  for ann in s800Data[s800_key][\"annotations\"]:\n",
        "    if ann[\"is_annotated\"] == False and ann[\"only_in_LINNAEUS\"] == False :\n",
        "      species[ann[\"species\"]]['O'] += 1"
      ],
      "execution_count": null,
      "outputs": []
    },
    {
      "cell_type": "code",
      "metadata": {
        "id": "q6FRE6EqimNu",
        "colab": {
          "base_uri": "https://localhost:8080/"
        },
        "outputId": "0f6deb49-e7aa-4d2a-f2fb-b893a8782c7a"
      },
      "source": [
        "species[\"HIV\"]"
      ],
      "execution_count": null,
      "outputs": [
        {
          "output_type": "execute_result",
          "data": {
            "text/plain": [
              "{'O': 13, 'Species': 38, 'Species_LINNAEUS': 0}"
            ]
          },
          "metadata": {
            "tags": []
          },
          "execution_count": 137
        }
      ]
    },
    {
      "cell_type": "code",
      "metadata": {
        "id": "ITGIT2HcrQvt",
        "colab": {
          "base_uri": "https://localhost:8080/"
        },
        "outputId": "be5643db-35b9-4c24-b0c6-f507515326f9"
      },
      "source": [
        "ls"
      ],
      "execution_count": null,
      "outputs": [
        {
          "output_type": "stream",
          "text": [
            "common_names.txt  \u001b[0m\u001b[01;34moriginal-data\u001b[0m/   \u001b[01;34msplit\u001b[0m/           \u001b[01;34mstandoff\u001b[0m/\n",
            "\u001b[01;34mconll\u001b[0m/            README.md        \u001b[01;32msplit_s800.sh\u001b[0m*   \u001b[01;34mstandoff2conll\u001b[0m/\n",
            "\u001b[01;32mconvert_s800.sh\u001b[0m*  S800-1.0.tar.gz  \u001b[01;34msplit-standoff\u001b[0m/  \u001b[01;34mtools\u001b[0m/\n"
          ],
          "name": "stdout"
        }
      ]
    },
    {
      "cell_type": "markdown",
      "metadata": {
        "id": "8ZAbakCmyKq1"
      },
      "source": [
        "Is this already done?"
      ]
    },
    {
      "cell_type": "code",
      "metadata": {
        "id": "VAoPEdRWduvK"
      },
      "source": [
        "for s800_key in s800Data.keys():\n",
        "  for ann in s800Data[s800_key][\"annotations\"]:\n",
        "    #if ann[\"species\"] == \"men\":\n",
        "    #  print(s800_key)\n",
        "    if ann[\"is_annotated\"] == False and ann[\"only_in_LINNAEUS\"] == True :\n",
        "      species[ann[\"species\"]]['O'] += 1\n",
        "\n"
      ],
      "execution_count": null,
      "outputs": []
    },
    {
      "cell_type": "code",
      "metadata": {
        "id": "obtgD_RiyKD4",
        "colab": {
          "base_uri": "https://localhost:8080/"
        },
        "outputId": "e48f4973-9bba-4040-c944-a1cf5906e5e8"
      },
      "source": [
        "species[\"men\"]"
      ],
      "execution_count": null,
      "outputs": [
        {
          "output_type": "execute_result",
          "data": {
            "text/plain": [
              "{'O': 1, 'Species': 0, 'Species_LINNAEUS': 80}"
            ]
          },
          "metadata": {
            "tags": []
          },
          "execution_count": 140
        }
      ]
    },
    {
      "cell_type": "code",
      "metadata": {
        "id": "TJzbtqFny0F2",
        "colab": {
          "base_uri": "https://localhost:8080/"
        },
        "outputId": "cfab3539-9b52-497d-8d2a-758be01cfd78"
      },
      "source": [
        "s800Data[\"20599424\"]"
      ],
      "execution_count": null,
      "outputs": [
        {
          "output_type": "execute_result",
          "data": {
            "text/plain": [
              "{'annotations': [{'begin': 226,\n",
              "   'end': 234,\n",
              "   'is_annotated': False,\n",
              "   'only_in_LINNAEUS': True,\n",
              "   'species': 'patients'},\n",
              "  {'begin': 116,\n",
              "   'end': 119,\n",
              "   'is_annotated': False,\n",
              "   'only_in_LINNAEUS': True,\n",
              "   'species': 'men'}],\n",
              " 'text': 'Radionuclide and hybrid imaging of recurrent prostate cancer.\\n\\nProstate cancer is one of the most common cancers in men, leading to substantial morbidity and mortality. After definitive therapy with surgery or radiation, many patients have biochemical relapse of disease--ie, an increase in their prostate-specific antigen level--which often precedes clinically apparent disease by months or even years. Therefore, imaging of the site and extent of tumour recurrence (local, regional, distant, or a combination) is of great interest. Conventional morphological imaging methods showed limited accuracy for assessment of recurrent prostate cancer; however, in recent years, functional and molecular imaging have offered the possibility of imaging molecular or cellular processes of individual tumours, often with more accuracy than morphological imaging. Hybrid imaging modalities (PET-CT, and single-photon emission CT [SPECT]-CT) have been introduced that combine functional and morphological data and allow whole-body imaging. Here, we review the contribution of radionuclide imaging and hybrid imaging for assessment of recurrent prostate cancer (local vs regional vs distant disease). We discuss available data on PET-CT and SPECT-CT, and provide an overview of experimental tracers and their preclinical and clinical development. Finally, we present a perspective on the potential of future hybrid magnetic resonance-PET imaging. \\n'}"
            ]
          },
          "metadata": {
            "tags": []
          },
          "execution_count": 141
        }
      ]
    },
    {
      "cell_type": "code",
      "metadata": {
        "id": "y5b8dpcOqsHb"
      },
      "source": [
        "an_ann_file = open(\"standoff/20599424.ann\")\n",
        "for line in an_ann_file.readlines():\n",
        "  print(line);\n"
      ],
      "execution_count": null,
      "outputs": []
    },
    {
      "cell_type": "markdown",
      "metadata": {
        "id": "D9Eyh3dgW3sG"
      },
      "source": [
        "##Common names"
      ]
    },
    {
      "cell_type": "code",
      "metadata": {
        "id": "t8Sx1rsvXxDU"
      },
      "source": [
        "#species_set_S800 = set( [x.species for x in ]) "
      ],
      "execution_count": null,
      "outputs": []
    },
    {
      "cell_type": "code",
      "metadata": {
        "id": "JW1LogS4W6hu"
      },
      "source": [
        "species_set_common = set(species_LINNAEUS.keys()).intersection(species_set_S800)"
      ],
      "execution_count": null,
      "outputs": []
    },
    {
      "cell_type": "code",
      "metadata": {
        "colab": {
          "base_uri": "https://localhost:8080/"
        },
        "id": "X9KL4ZdHdZan",
        "outputId": "518dbeb2-5641-480d-f037-afe0380b5265"
      },
      "source": [
        "list(species_set_common)[0:5]"
      ],
      "execution_count": null,
      "outputs": [
        {
          "output_type": "execute_result",
          "data": {
            "text/plain": [
              "['S. cerevisiae',\n",
              " 'rhesus macaque',\n",
              " 'P. aeruginosa',\n",
              " 'C. pipiens',\n",
              " 'Neisseria meningitidis']"
            ]
          },
          "metadata": {
            "tags": []
          },
          "execution_count": 145
        }
      ]
    },
    {
      "cell_type": "code",
      "metadata": {
        "colab": {
          "base_uri": "https://localhost:8080/"
        },
        "id": "2SGzjx0Udft1",
        "outputId": "06f95077-6e6e-46f1-a45d-9332015ffea4"
      },
      "source": [
        "len(list(species.keys()))"
      ],
      "execution_count": null,
      "outputs": [
        {
          "output_type": "execute_result",
          "data": {
            "text/plain": [
              "1829"
            ]
          },
          "metadata": {
            "tags": []
          },
          "execution_count": 147
        }
      ]
    },
    {
      "cell_type": "code",
      "metadata": {
        "colab": {
          "base_uri": "https://localhost:8080/"
        },
        "id": "jofGoSfadrmo",
        "outputId": "ff3ef3cd-802a-47af-bc94-94962beb7857"
      },
      "source": [
        "len(species_LINNAEUS.keys())"
      ],
      "execution_count": null,
      "outputs": [
        {
          "output_type": "execute_result",
          "data": {
            "text/plain": [
              "419"
            ]
          },
          "metadata": {
            "tags": []
          },
          "execution_count": 148
        }
      ]
    },
    {
      "cell_type": "code",
      "metadata": {
        "colab": {
          "base_uri": "https://localhost:8080/"
        },
        "id": "GlWQkYiYdwkF",
        "outputId": "d482edda-2511-4261-dc52-9279ae4e09a2"
      },
      "source": [
        "len(list(species_set_common))"
      ],
      "execution_count": null,
      "outputs": [
        {
          "output_type": "execute_result",
          "data": {
            "text/plain": [
              "93"
            ]
          },
          "metadata": {
            "tags": []
          },
          "execution_count": 149
        }
      ]
    },
    {
      "cell_type": "markdown",
      "metadata": {
        "id": "-qQnJWG9eN6n"
      },
      "source": [
        "##Download common names, which is a list of general names"
      ]
    },
    {
      "cell_type": "code",
      "metadata": {
        "id": "nQ8NhtcunXUt",
        "colab": {
          "base_uri": "https://localhost:8080/"
        },
        "outputId": "80857e3e-5e39-49b2-8077-5367b0494684"
      },
      "source": [
        "!wget https://github.com/harttu/linneaus_s800_comparison/raw/master/common_names.txt 1>/dev/null"
      ],
      "execution_count": null,
      "outputs": [
        {
          "output_type": "stream",
          "text": [
            "--2021-05-29 14:11:53--  https://github.com/harttu/linneaus_s800_comparison/raw/master/common_names.txt\n",
            "Resolving github.com (github.com)... 140.82.114.3\n",
            "Connecting to github.com (github.com)|140.82.114.3|:443... connected.\n",
            "HTTP request sent, awaiting response... 301 Moved Permanently\n",
            "Location: https://github.com/harttu/linnaeus_s800_comparison/raw/master/common_names.txt [following]\n",
            "--2021-05-29 14:11:53--  https://github.com/harttu/linnaeus_s800_comparison/raw/master/common_names.txt\n",
            "Reusing existing connection to github.com:443.\n",
            "HTTP request sent, awaiting response... 302 Found\n",
            "Location: https://raw.githubusercontent.com/harttu/linnaeus_s800_comparison/master/common_names.txt [following]\n",
            "--2021-05-29 14:11:53--  https://raw.githubusercontent.com/harttu/linnaeus_s800_comparison/master/common_names.txt\n",
            "Resolving raw.githubusercontent.com (raw.githubusercontent.com)... 185.199.108.133, 185.199.109.133, 185.199.110.133, ...\n",
            "Connecting to raw.githubusercontent.com (raw.githubusercontent.com)|185.199.108.133|:443... connected.\n",
            "HTTP request sent, awaiting response... 200 OK\n",
            "Length: 792190 (774K) [text/plain]\n",
            "Saving to: ‘common_names.txt.1’\n",
            "\n",
            "common_names.txt.1  100%[===================>] 773.62K  --.-KB/s    in 0.02s   \n",
            "\n",
            "2021-05-29 14:11:53 (45.3 MB/s) - ‘common_names.txt.1’ saved [792190/792190]\n",
            "\n"
          ],
          "name": "stdout"
        }
      ]
    },
    {
      "cell_type": "code",
      "metadata": {
        "id": "AxntUbimnOCK",
        "colab": {
          "base_uri": "https://localhost:8080/"
        },
        "outputId": "a60ff6db-44fb-477a-ad33-e71fc5890afa"
      },
      "source": [
        "ls"
      ],
      "execution_count": null,
      "outputs": [
        {
          "output_type": "stream",
          "text": [
            "common_names.txt    \u001b[0m\u001b[01;32mconvert_s800.sh\u001b[0m*  S800-1.0.tar.gz  \u001b[01;34msplit-standoff\u001b[0m/  \u001b[01;34mtools\u001b[0m/\n",
            "common_names.txt.1  \u001b[01;34moriginal-data\u001b[0m/    \u001b[01;34msplit\u001b[0m/           \u001b[01;34mstandoff\u001b[0m/\n",
            "\u001b[01;34mconll\u001b[0m/              README.md         \u001b[01;32msplit_s800.sh\u001b[0m*   \u001b[01;34mstandoff2conll\u001b[0m/\n"
          ],
          "name": "stdout"
        }
      ]
    },
    {
      "cell_type": "code",
      "metadata": {
        "id": "Ai1yqGJSnel9"
      },
      "source": [
        "common_names = []\n",
        "common_names_file = open(\"common_names.txt\",\"r\")\n",
        "common_names = [ i for i in common_names_file.readlines() ]\n",
        "common_names_file.close()"
      ],
      "execution_count": null,
      "outputs": []
    },
    {
      "cell_type": "code",
      "metadata": {
        "id": "rtiy2D0A2K5w",
        "colab": {
          "base_uri": "https://localhost:8080/"
        },
        "outputId": "872a9f30-8007-441a-b233-8d2eac9905e9"
      },
      "source": [
        "common_names[0:5]"
      ],
      "execution_count": null,
      "outputs": [
        {
          "output_type": "execute_result",
          "data": {
            "text/plain": [
              "['eubacteria\\n',\n",
              " 'fruiting gliding bacteria\\n',\n",
              " 'Scheibenbakterien\\n',\n",
              " 'Scheibenbakterien Muller 1911\\n',\n",
              " 'Lyme disease spirochete\\n']"
            ]
          },
          "metadata": {
            "tags": []
          },
          "execution_count": 153
        }
      ]
    },
    {
      "cell_type": "code",
      "metadata": {
        "colab": {
          "base_uri": "https://localhost:8080/"
        },
        "id": "J2XeHKf-d8cV",
        "outputId": "3e4dc654-1e73-4867-ed78-a1680653d79b"
      },
      "source": [
        "len(common_names)"
      ],
      "execution_count": null,
      "outputs": [
        {
          "output_type": "execute_result",
          "data": {
            "text/plain": [
              "44217"
            ]
          },
          "metadata": {
            "tags": []
          },
          "execution_count": 156
        }
      ]
    },
    {
      "cell_type": "code",
      "metadata": {
        "id": "IBlx6r03oiH5"
      },
      "source": [
        "splits = {\"train\":\"split/train.txt\",\"test\":\"split/test.txt\",\"devel\":\"split/devel.txt\"}\n",
        "dir_to_standoff = \"standoff/\"\n",
        "\n",
        "\n",
        "for split_name in [\"train\", \"test\", \"devel\"]:\n",
        "  a_file = open(splits[split_name])\n",
        "  for sample_number in a_file.readlines()[0:]:\n",
        "    #if 1 == 1:\n",
        "      #sample_number = \"21047956\\n\"\n",
        "    sample_number = sample_number.strip()\n",
        "    a_txt_file = open(dir_to_standoff+sample_number+\".txt\")\n",
        "    an_ann_file = open(dir_to_standoff+sample_number+\".ann\")\n",
        "\n",
        "    file_content = a_txt_file.read()\n",
        "    not_annotated_species = []\n",
        "\n",
        "    #file_content = a_txt_file.read()\n",
        "    #not_annotated_species = []\n",
        "    for specie in species:\n",
        "      matches_in_doc = [{\"is_annotated\":False,\"only_in_LINNAEUS\":False,\"species\":specie,\"begin\":m.start(0)+1,\"end\":m.end(0)-1} for m in re.finditer(re.escape(\" \"+specie)+\"[\\\\ \\\\. \\\\, \\\\-]\", file_content)]\n",
        "      #for false_candidate in matches_in_doc:\n",
        "      #  validTillEnd = True\n",
        "\n",
        "    #for species in an_ann_file.readline() ?? this was added, don't know if works\n",
        "    #re.finditer(re.escape(\" \"+specie)+\"[\\\\ \\\\. \\\\, \\\\-]\", file_content)\n",
        "    #if 1 == 0:\n",
        "      for specie in species:\n",
        "        matches_in_doc = [{\"is_annotated\":False,\"only_in_LINNAEUS\":False,\"species\":specie,\"begin\":m.start(0)+1,\"end\":m.end(0)-1} for m in re.finditer(re.escape(\" \"+specie)+\"[\\\\ \\\\. \\\\, \\\\-]\", file_content)]\n",
        "        for false_candidate in matches_in_doc:\n",
        "          validTillEnd = True\n",
        "          #if specie == \"human\":\n",
        "          #  print(s800Data[sample_number][\"annotations\"])\n",
        "          for annotation in s800Data[sample_number][\"annotations\"]:\n",
        "            #if annotation[\"begin\"] <= false_candidate[\"begin\"] or false_candidate[\"end\"] <= annotation[\"end\"]:\n",
        "            if (annotation[\"begin\"] <= false_candidate[\"begin\"] and false_candidate[\"begin\"] <= annotation[\"end\"]) \\\n",
        "              or (annotation[\"begin\"] <= false_candidate[\"end\"] and false_candidate[\"end\"] <= annotation[\"end\"]):\n",
        "              validTillEnd = False\n",
        "              break\n",
        "          if validTillEnd:\n",
        "            #if false_candidate[\"species\"] == \"shrimp\":\n",
        "            #  print(\"Shrimp above\")\n",
        "            s800Data[sample_number][\"annotations\"].append(false_candidate)\n",
        "      \n",
        "      for specie in keys_only_in_LINNAEUS:\n",
        "        matches_in_doc = [{\"is_annotated\":False,\"only_in_LINNAEUS\":True,\"species\":specie,\"begin\":m.start(0)+1,\"end\":m.end(0)-1} for m in re.finditer(re.escape(\" \"+specie)+\"[\\\\ \\\\. \\\\,]\", file_content)]\n",
        "        for LINNAEUS_candidate in matches_in_doc:\n",
        "          validTillEnd = True\n",
        "          for annotation in s800Data[sample_number][\"annotations\"]:\n",
        "            # this is to say, that the candidate is within, but it should rather work when part of the candidate is within\n",
        "            #if annotation[\"begin\"] <= LINNAEUS_candidate[\"begin\"] and LINNAEUS_candidate[\"end\"] <= annotation[\"end\"]:\n",
        "            if (annotation[\"begin\"] <= LINNAEUS_candidate[\"begin\"] and LINNAEUS_candidate[\"begin\"] <= annotation[\"end\"]) \\\n",
        "              or (annotation[\"begin\"] <= LINNAEUS_candidate[\"end\"] and LINNAEUS_candidate[\"end\"] <= annotation[\"end\"]):\n",
        "              validTillEnd = False\n",
        "              break\n",
        "          if validTillEnd:\n",
        "            #if LINNAEUS_candidate[\"species\"] == \"shrimp\":\n",
        "            #  print(\"Shrimp below\")\n",
        "            s800Data[sample_number][\"annotations\"].append(LINNAEUS_candidate)\n",
        "            #print(\"Added \"+str(LINNAEUS_candidate))\n",
        "\n",
        "    a_txt_file.close()\n",
        "    an_ann_file.close()\n",
        "\n",
        "  a_file.close()"
      ],
      "execution_count": null,
      "outputs": []
    },
    {
      "cell_type": "code",
      "metadata": {
        "id": "jx76hdyXZcvG"
      },
      "source": [
        "s800Data"
      ],
      "execution_count": null,
      "outputs": []
    },
    {
      "cell_type": "markdown",
      "metadata": {
        "id": "zvtsOQD-lHye"
      },
      "source": [
        "# BELOW HERE is safe to rerun\n"
      ]
    },
    {
      "cell_type": "markdown",
      "metadata": {
        "id": "VFTMCUmylfLv"
      },
      "source": [
        "## Make HTML"
      ]
    },
    {
      "cell_type": "markdown",
      "metadata": {
        "id": "XiE0lRGD4C4v"
      },
      "source": [
        "###HTML codes"
      ]
    },
    {
      "cell_type": "markdown",
      "metadata": {
        "id": "qN-2S5dt41NQ"
      },
      "source": [
        "#### HTML file names"
      ]
    },
    {
      "cell_type": "code",
      "metadata": {
        "id": "nGLD4bnU4yem"
      },
      "source": [
        "index = \"index.html\"\n",
        "index_species_iframe = \"index_species_iframe.html\"\n",
        "index_document = \"index_document.html\"\n",
        "index_document_iframe = \"index_document_iframe.html\"\n",
        "index_document_all = \"index_document_all.html\""
      ],
      "execution_count": null,
      "outputs": []
    },
    {
      "cell_type": "code",
      "metadata": {
        "id": "_uC4BljXq5xb"
      },
      "source": [
        "HTML_index_link_section = \\\n",
        "\"\"\"\n",
        "<ul id=\"menu\">\n",
        "  <li class=\"horizontal first\">\n",
        "    <a href=\"\"\"+index+\"\"\">Species - follow links</a>\n",
        "  </li>\n",
        "  <li class=\"horizontal\">\n",
        "    <a href=\"\"\"+index_species_iframe+\"\"\">Species - show on same page</a>\n",
        "  </li>\n",
        "  <li class=\"horizontal\">\n",
        "    <a href=\"\"\"+index_document+\"\"\">Document - follow links</a>\n",
        "  </li>\n",
        "  <li class=\"horizontal\">\n",
        "    <a href=\"\"\"+index_document_iframe+\"\"\">Document - show on same page</a>\n",
        "  </li>\n",
        "  <li class=\"horizontal\">\n",
        "    <a href=\"\"\"+index_document_all+\"\"\">Document - all</a>\n",
        "  </li>\n",
        "</ul>\n",
        "\"\"\""
      ],
      "execution_count": null,
      "outputs": []
    },
    {
      "cell_type": "markdown",
      "metadata": {
        "id": "C-okeYnV0OPq"
      },
      "source": [
        "#### CSS styles\n"
      ]
    },
    {
      "cell_type": "code",
      "metadata": {
        "id": "hYZuThD70TT_"
      },
      "source": [
        "CSS_styles =\"\"\"\n",
        "\n",
        ".gray { background-color:rgba(125, 125, 125, 0.5); } \n",
        ".orange { background-color:rgba(210, 180, 180, 0.5); } \n",
        "\n",
        ".match { text-decoration: underline; \n",
        "/*\n",
        "  -webkit-text-decoration-color: red;  \n",
        "  text-decoration-color: red; */\n",
        "    -webkit-text-decoration-line: overline underline; /* Safari */\n",
        "   text-decoration-line: overline underline; \n",
        "   color:yellow;\n",
        "/*   font-weight:bold; */\n",
        "  \n",
        "  \n",
        "  } \n",
        ".LINNAEUS_only { background-color: rgba(125, 125, 125, 0.5); }\n",
        ".annotated { background-color:rgba(50, 180, 180, 0.5); } \n",
        ".unannotated { background-color:rgba(214, 75, 79, 0.5); } \n",
        "\n",
        ".match_species { text-decoration: underline; } \n",
        "/*\n",
        "ul#menu li {\n",
        "/*  display:inline; \n",
        "}\n",
        ".horizontal { display: inline; border-left: 3px solid darkorange; padding-left: 0.3em; }\n",
        ".first { border-left: none; padding-left: 0; }\n",
        "*/\n",
        "ul#menu li {\n",
        "list-style-type: circle;\n",
        "}\n",
        "table { border-collapse: collapse; } \n",
        "th, td { border: 1px solid orange; padding: 4px; } \n",
        "th {  cursor: pointer; } \n",
        "th:hover { background: yellow; }\n",
        "\n",
        "html, body, iframe { height: 100%; }\n",
        "\n",
        "* {\n",
        "  box-sizing: border-box;\n",
        "}\n",
        "\n",
        ".row {\n",
        "  display: flex;\n",
        "}\n",
        "\n",
        "\n",
        "/* Create two equal columns that sits next to each other */\n",
        ".column {\n",
        "  flex: 50%;\n",
        "  padding: 0px;\n",
        " /*height: 300px; /* Should be removed. Only for demonstration */\n",
        "}\n",
        "/* Create two equal columns that sits next to each other */\n",
        ".column1 {\n",
        "  flex: 30%;\n",
        "  padding: 0px;\n",
        " /*height: 300px; /* Should be removed. Only for demonstration */\n",
        "}\n",
        "/* Create two equal columns that sits next to each other */\n",
        ".column2 {\n",
        "  flex: 70%;\n",
        "  padding: 0px;\n",
        " /*height: 300px; /* Should be removed. Only for demonstration */\n",
        "}\n",
        "\"\"\""
      ],
      "execution_count": null,
      "outputs": []
    },
    {
      "cell_type": "markdown",
      "metadata": {
        "id": "3ZNggbNZF4JS"
      },
      "source": [
        "#### HTML_begin"
      ]
    },
    {
      "cell_type": "code",
      "metadata": {
        "id": "ox-mcHDDF2Yu"
      },
      "source": [
        "HTML_begin=\"\"\"\n",
        "<!doctype html><html lang=\\\"en\\\"> <head><meta charset=\\\"utf-8\\\"> \n",
        "<title>s800 inconsistencies</title> \n",
        "<style>\"\"\" + CSS_styles + \"\"\" \n",
        "</style></head><body>\n",
        "\"\"\""
      ],
      "execution_count": null,
      "outputs": []
    },
    {
      "cell_type": "markdown",
      "metadata": {
        "id": "4nYSClGSGKEd"
      },
      "source": [
        "####HTML_script_for_table_functionality"
      ]
    },
    {
      "cell_type": "code",
      "metadata": {
        "id": "otKZlSOUGQaA"
      },
      "source": [
        "HTML_script_for_table_functionality = \"\"\"\n",
        "\n",
        "  <script type=\"application/javascript\">\n",
        "  \n",
        "filter.onkeyup = function myFunction(e) {\n",
        "  // Declare variables\n",
        "  var input, filter, table, tr, td, i, txtValue;\n",
        "  input = document.getElementById(\"filter\");\n",
        "  filter = input.value.toUpperCase();\n",
        "  table = document.getElementById(\"grid\");\n",
        "  tr = table.getElementsByTagName(\"tr\");\n",
        "\n",
        "  // Loop through all table rows, and hide those who don't match the search query\n",
        "  for (i = 0; i < tr.length; i++) {\n",
        "    td = tr[i].getElementsByTagName(\"td\")[0];\n",
        "    if (td) {\n",
        "      txtValue = td.textContent || td.innerText;\n",
        "      if (txtValue.toUpperCase().indexOf(filter) > -1) {\n",
        "        tr[i].style.display = \"\";\n",
        "      } else {\n",
        "        tr[i].style.display = \"none\";\n",
        "      }\n",
        "    }\n",
        "  }\n",
        "}\n",
        "\n",
        "    grid.onclick = function(e) {\n",
        "      if (e.target.tagName != 'TH') return;\n",
        "\n",
        "      let th = e.target;\n",
        "      // if TH, then sort\n",
        "      // cellIndex is the number of th:\n",
        "      //   0 for the first column\n",
        "      //   1 for the second column, etc\n",
        "      sortGrid(th.cellIndex, th.dataset.type);\n",
        "    };\n",
        "\n",
        "    function sortGrid(colNum, type) {\n",
        "      let tbody = grid.querySelector('tbody');\n",
        "\n",
        "      let rowsArray = Array.from(tbody.rows);\n",
        "\n",
        "      // compare(a, b) compares two rows, need for sorting\n",
        "      let compare;\n",
        "\n",
        "      switch (type) {\n",
        "        case 'number':\n",
        "          compare = function(rowA, rowB) {\n",
        "            return rowB.cells[colNum].innerHTML - rowA.cells[colNum].innerHTML;\n",
        "          };\n",
        "          break;\n",
        "        case 'string':\n",
        "          compare = function(rowA, rowB) {\n",
        "            return rowA.cells[colNum].innerHTML > rowB.cells[colNum].innerHTML ? 1 : -1;\n",
        "          };\n",
        "          break;\n",
        "      }\n",
        "\n",
        "      // sort\n",
        "      rowsArray.sort(compare);\n",
        "\n",
        "      tbody.append(...rowsArray);\n",
        "    }\n",
        "  </script>\n",
        "  \"\"\"\n"
      ],
      "execution_count": null,
      "outputs": []
    },
    {
      "cell_type": "markdown",
      "metadata": {
        "id": "lEfsTvGuGmFu"
      },
      "source": [
        "#### HTML_linkPageSearchBarcontent"
      ]
    },
    {
      "cell_type": "code",
      "metadata": {
        "id": "I2QmUp2mKmY8"
      },
      "source": [
        "table_header_species = \"\"\"\n",
        "        <th data-type=\\\"string\\\">Tagged entity</th> \n",
        "        <th data-type=\\\"number\\\">'Species' tags</th> \n",
        "        <th data-type=\\\"number\\\">'O' tags</th> \n",
        "        <th data-type=\\\"number\\\">'SvsS+O</th>\n",
        "        <th data-type=\\\"number\\\">'LINNAEUS' tags</th>\n",
        "        <th data-type=\\\"number\\\">OvsL+O</th> \n",
        "\"\"\"\n",
        "table_header_docs = \"\"\"\n",
        "        <th data-type=\\\"string\\\">Tagged entity</th> \n",
        "        <th data-type=\\\"number\\\">'Species' tags</th> \n",
        "        <th data-type=\\\"number\\\">'O' tags</th> \n",
        "        <th data-type=\\\"number\\\">'LINNAEUS' tags</th>\n",
        "\"\"\"\n"
      ],
      "execution_count": null,
      "outputs": []
    },
    {
      "cell_type": "code",
      "metadata": {
        "id": "jcyn-Sw58d56"
      },
      "source": [
        "HTML_linkPageSearchBarcontentDOCS=\"\"\"\n",
        "<div style=\"padding: 10px;border-style: dotted; width: 100%; display:flex;justify-content: flex-start\">\n",
        "      <div><!-- style=\"flex: 0 0 65%\"> -->\n",
        "        <b>Search filter:</b><input type=\"text\" id=\"filter\"><br/>\n",
        "        <big><b>Press headers for sorting</b></big><br/>\n",
        "      </div>\n",
        "      <div><!-- style=\"flex: 1;\">-->\n",
        "      \"\"\" + \\\n",
        "        HTML_index_link_section + \\\n",
        "      \"\"\"\n",
        "      </div>\n",
        "</div> <!-- dashed box -->\n",
        "<small><b>Press header for sorting</b></small>\n",
        "<table id=\\\"grid\\\"> \n",
        "    <thead> \n",
        "      <tr> \n",
        "\"\"\"+ \\\n",
        "table_header_docs +\\\n",
        "\"\"\"\n",
        "      </tr> \n",
        "    </thead> \n",
        "    <tbody>\n",
        "\"\"\"\n"
      ],
      "execution_count": null,
      "outputs": []
    },
    {
      "cell_type": "markdown",
      "metadata": {
        "id": "mOdKd7YnHFlG"
      },
      "source": [
        "####HTML iframe"
      ]
    },
    {
      "cell_type": "code",
      "metadata": {
        "id": "Cx4E-NTNy9_q"
      },
      "source": [
        "HTML_linkPageSearchBarcontent=\"\"\"\n",
        "<div class=\"row\">\n",
        "    <div class=\"column1\"> <!-- species list -->\n",
        "<div style=\"padding: 10px;border-style: dotted; width: 100%; display:flex;justify-content: flex-start\">\n",
        "      <div><!-- style=\"flex: 0 0 65%\"> -->\n",
        "\t  <h2>s800 examiner</h2>\n",
        "        <b>Search filter:</b><input type=\"text\" id=\"filter\"><br/>\n",
        "        <big><b>Press table headers for sorting</b></big><br/>\n",
        "      </div>\n",
        "      <div><!-- style=\"flex: 1;\">-->\n",
        "      \n",
        "   \"\"\" + \\\n",
        "        HTML_index_link_section + \\\n",
        "      \"\"\"\n",
        "  \n",
        "</div>\n",
        "</div> <!-- dotted box -->\n",
        "<table id=\\\"grid\\\"> \n",
        "    <thead> \n",
        "      <tr> \n",
        "\"\"\"+ \\\n",
        "table_header_species + \\\n",
        "\"\"\"\n",
        "      </tr> \n",
        "    </thead> \n",
        "    <tbody>\n",
        "\n",
        "\"\"\""
      ],
      "execution_count": null,
      "outputs": []
    },
    {
      "cell_type": "markdown",
      "metadata": {
        "id": "6F1x4BPNGDWm"
      },
      "source": [
        "#### HTML_end"
      ]
    },
    {
      "cell_type": "code",
      "metadata": {
        "id": "pM9ZPpsiGkUc"
      },
      "source": [
        "HTML_end_with_script = \"</body>\"+HTML_script_for_table_functionality+\"</html>\"\n",
        "\n",
        "HTML_end_with_script_and_with_iframe = \"\"\" \n",
        "\t\n",
        "\t</div> <!-- END column : species list-->\n",
        "\t<div class=\"column2\"> <!-- show one species -->\n",
        "\t\t<iframe width=\"100%\" style=\"position:absolute; height: 100%; width: 70%; border: none\" src=\"blank.html\" id=\"iFrame1\" name=\"iframe_a\" title=\"Iframe Example\"></iframe>\n",
        "\t</div> <!-- END column : show one species -->\n",
        "</div> <!-- END row -->\n",
        "</body>\n",
        "\"\"\" + HTML_script_for_table_functionality+\"\"\"\n",
        "</html> \n",
        "\"\"\"\n",
        "\n",
        "HTML_end_without_script = \"</body></html>\""
      ],
      "execution_count": null,
      "outputs": []
    },
    {
      "cell_type": "markdown",
      "metadata": {
        "id": "fOzxCthtlkoy"
      },
      "source": [
        "### Species browsing\n"
      ]
    },
    {
      "cell_type": "markdown",
      "metadata": {
        "id": "zJ4XLQXbmzzt"
      },
      "source": [
        "####Make page for every species"
      ]
    },
    {
      "cell_type": "code",
      "metadata": {
        "id": "47SA3OLs0MQQ"
      },
      "source": [
        "s800_ambiguous_html = \"s800_ambiguous_html/\"\n",
        "s800_ambiguous_html_species = \"s800_ambiguous_html/species\"\n",
        "\n",
        "!rm -rf s800_ambiguous_html/\n",
        "!mkdir -p s800_ambiguous_html\n",
        "!mkdir -p s800_ambiguous_html/species\n",
        "!mkdir -p s800_ambiguous_html/documents"
      ],
      "execution_count": null,
      "outputs": []
    },
    {
      "cell_type": "code",
      "metadata": {
        "id": "6AnoL3ILM-di",
        "colab": {
          "base_uri": "https://localhost:8080/"
        },
        "outputId": "38f842a3-725f-40d4-a862-48b1cd92e1de"
      },
      "source": [
        "ls -la s800_ambiguous_html | grep ^d "
      ],
      "execution_count": null,
      "outputs": [
        {
          "output_type": "stream",
          "text": [
            "drwxr-sr-x  4 root     2001426 4096 May 28 17:54 \u001b[0m\u001b[01;34m.\u001b[0m/\n",
            "drwxrws--- 11 10010226 2001426 4096 May 28 17:54 \u001b[01;34m..\u001b[0m/\n",
            "drwxr-sr-x  2 root     2001426 4096 May 28 17:54 \u001b[01;34mdocuments\u001b[0m/\n",
            "drwxr-sr-x  2 root     2001426 4096 May 28 17:54 \u001b[01;34mspecies\u001b[0m/\n"
          ],
          "name": "stdout"
        }
      ]
    },
    {
      "cell_type": "code",
      "metadata": {
        "id": "JbjH0jfz4me2"
      },
      "source": [
        "species_HTML_keys={}\n",
        "for species_key in species.keys():\n",
        "  species_HTML_keys[species_key] = \"species/\" + species_key.replace(\"/\",\"_slash_\")+\".html\""
      ],
      "execution_count": null,
      "outputs": []
    },
    {
      "cell_type": "code",
      "metadata": {
        "id": "hNWAXgIR9kZl",
        "colab": {
          "base_uri": "https://localhost:8080/"
        },
        "outputId": "a13820ab-c7b4-4bc8-f728-af2c00b755f8"
      },
      "source": [
        "for species_key in species.keys():\n",
        "#if 1 == 1:\n",
        "  #species_key=\"Yeast\"\n",
        "  species_html_content = \"<h2>\"+species_key+\"</h2>\"\n",
        "  species_html_content += \"<span class=\\\"unannotated\\\">not annotated</span> - <span class=\\\"annotated\\\">annotated</span> - <span class=\\\"LINNAEUS_only\\\">LINNAEUS only</span><br><hr>\"\n",
        "  nameInLinkPage = species_key\n",
        "  trigger = True\n",
        "  for document_key in s800Data.keys():\n",
        "      filtered_species = []\n",
        "      for candidate in s800Data[document_key][\"annotations\"]:\n",
        "        if candidate['species'] == species_key:\n",
        "          filtered_species.append(candidate)\n",
        "      if len(list(filtered_species)) > 0:\n",
        "        trigger = True\n",
        "        species_html_content += \"<h3>\"+document_key+\"</h3>\"\n",
        "        species_to_html = sorted(s800Data[document_key][\"annotations\"], key = lambda i: i['begin'])\n",
        "        tmp_begin = 0\n",
        "        if document_key == \"20173005\" and species_key == \"yeast\":\n",
        "          print(species_to_html)\n",
        "        for current in species_to_html:\n",
        "          classes=\"\"\n",
        "          # our search match\n",
        "          if current[\"species\"] == species_key:\n",
        "            classes += \"match \"\n",
        "          if current[\"is_annotated\"]:\n",
        "            classes += \"annotated \"\n",
        "          elif current[\"only_in_LINNAEUS\"]:\n",
        "            classes += \"LINNAEUS_only \"\n",
        "          else:\n",
        "            classes += \"unannotated \"                  \n",
        "          species_html_content += s800Data[document_key][\"text\"][tmp_begin:current[\"begin\"]] + \"<span class=\\\"\"+classes+\"\\\">\" + current[\"species\"] + \"</span>\"\n",
        "          tmp_begin = current[\"end\"]\n",
        "        species_html_content += s800Data[document_key][\"text\"][tmp_begin:]\n",
        "  if trigger == True:\n",
        "    #filename = \"\".join(x for x in species_key if x.isalnum())+\".html\"\n",
        "    #filename = species_key.replace(\"/\",\"_slash_\")+\".html\"\n",
        "    filename = species_HTML_keys[species_key]\n",
        "    f = open(s800_ambiguous_html+filename, \"w\")\n",
        "    # make the headline of each document on its own line\n",
        "    species_html_content = re.sub(\"\\n\\n\",\"<br><br>\",species_html_content)\n",
        "    f.write(HTML_begin+species_html_content+HTML_end_without_script)\n",
        "    f.close()\n",
        "    #nameInLinkPage = \"<a href=\\\"\"+filename+\"\\\">\"+species_key+\"</a>\"\n",
        "  #linkPagecontent += \"<tr><td>\"+nameInLinkPage+\"</td><td>\"+str(species[species_key]['Species'])+\"</td><td>\"+str(species[species_key]['O'])+\"</td><td>\"+str(species[species_key]['Species_LINNAEUS'])+\"</td></tr>\\n\"\n",
        "  #key+\"<br />\\n\"\n",
        "#linkPagecontent += \"</table>\"\n",
        "#f = open(s800_ambiguous_html+\"/index.html\", \"w\")\n",
        "#f.write(afterHTMLls -la s800_ambiguous_html | grep ^d +linkPagecontent+linkPagecontent_end)\n",
        "#f.close()"
      ],
      "execution_count": null,
      "outputs": [
        {
          "output_type": "stream",
          "text": [
            "[{'is_annotated': True, 'only_in_LINNAEUS': False, 'species': 'Thiomonas islandica', 'begin': 0, 'end': 19}, {'is_annotated': True, 'only_in_LINNAEUS': False, 'species': 'betaproteobacterium', 'begin': 88, 'end': 107}, {'is_annotated': True, 'only_in_LINNAEUS': False, 'species': '6C(T)', 'begin': 207, 'end': 212}, {'is_annotated': False, 'only_in_LINNAEUS': False, 'species': 'yeast', 'begin': 546, 'end': 551}, {'is_annotated': True, 'only_in_LINNAEUS': False, 'species': '6C(T)', 'begin': 941, 'end': 946}, {'is_annotated': True, 'only_in_LINNAEUS': False, 'species': 'Betaproteobacteria', 'begin': 1000, 'end': 1018}, {'is_annotated': True, 'only_in_LINNAEUS': False, 'species': 'Thiomonas intermedia', 'begin': 1050, 'end': 1070}, {'is_annotated': True, 'only_in_LINNAEUS': False, 'species': 'DSM 18155(T)', 'begin': 1071, 'end': 1083}, {'is_annotated': True, 'only_in_LINNAEUS': False, 'species': 'Thiomonas perometabolis', 'begin': 1088, 'end': 1111}, {'is_annotated': True, 'only_in_LINNAEUS': False, 'species': 'DSM 18570(T)', 'begin': 1112, 'end': 1124}, {'is_annotated': True, 'only_in_LINNAEUS': False, 'species': '6C(T)', 'begin': 1163, 'end': 1168}, {'is_annotated': True, 'only_in_LINNAEUS': False, 'species': 'Thiomonas intermedia', 'begin': 1173, 'end': 1193}, {'is_annotated': True, 'only_in_LINNAEUS': False, 'species': 'DSM 18155(T)', 'begin': 1194, 'end': 1206}, {'is_annotated': True, 'only_in_LINNAEUS': False, 'species': 'Thiomonas perometabolis', 'begin': 1211, 'end': 1234}, {'is_annotated': True, 'only_in_LINNAEUS': False, 'species': 'DSM 18570(T)', 'begin': 1235, 'end': 1247}, {'is_annotated': True, 'only_in_LINNAEUS': False, 'species': '6C(T)', 'begin': 1363, 'end': 1368}, {'is_annotated': True, 'only_in_LINNAEUS': False, 'species': 'Thiomonas islandica', 'begin': 1443, 'end': 1462}, {'is_annotated': True, 'only_in_LINNAEUS': False, 'species': '6C(T)', 'begin': 1504, 'end': 1509}, {'is_annotated': True, 'only_in_LINNAEUS': False, 'species': 'DSM 21436(T)', 'begin': 1512, 'end': 1524}, {'is_annotated': True, 'only_in_LINNAEUS': False, 'species': 'JCM 16107(T)', 'begin': 1526, 'end': 1538}]\n"
          ],
          "name": "stdout"
        }
      ]
    },
    {
      "cell_type": "code",
      "metadata": {
        "id": "U9jaCrskU6PR",
        "colab": {
          "base_uri": "https://localhost:8080/"
        },
        "outputId": "0ba1cafa-5d8a-4da3-9bec-7abb3fd429d6"
      },
      "source": [
        "\"human\" in species.keys()"
      ],
      "execution_count": null,
      "outputs": [
        {
          "output_type": "execute_result",
          "data": {
            "text/plain": [
              "True"
            ]
          },
          "metadata": {
            "tags": []
          },
          "execution_count": 87
        }
      ]
    },
    {
      "cell_type": "code",
      "metadata": {
        "id": "fGxp2C0TVWs3",
        "colab": {
          "base_uri": "https://localhost:8080/"
        },
        "outputId": "c4af8171-e152-4692-a347-8d02b25c6d1b"
      },
      "source": [
        "len(species.keys())"
      ],
      "execution_count": null,
      "outputs": [
        {
          "output_type": "execute_result",
          "data": {
            "text/plain": [
              "1829"
            ]
          },
          "metadata": {
            "tags": []
          },
          "execution_count": 88
        }
      ]
    },
    {
      "cell_type": "code",
      "metadata": {
        "id": "oqgIPQwAWBNM",
        "colab": {
          "base_uri": "https://localhost:8080/"
        },
        "outputId": "e3b8d591-dc1b-4200-e611-e760e73f2805"
      },
      "source": [
        "species_HTML_keys[\"human\"]"
      ],
      "execution_count": null,
      "outputs": [
        {
          "output_type": "execute_result",
          "data": {
            "application/vnd.google.colaboratory.intrinsic+json": {
              "type": "string"
            },
            "text/plain": [
              "'species/human.html'"
            ]
          },
          "metadata": {
            "tags": []
          },
          "execution_count": 89
        }
      ]
    },
    {
      "cell_type": "markdown",
      "metadata": {
        "id": "uk3OquCG3avB"
      },
      "source": [
        "####Some examinations"
      ]
    },
    {
      "cell_type": "markdown",
      "metadata": {
        "id": "7vAGWSBuQUzi"
      },
      "source": [
        "We just created #files"
      ]
    },
    {
      "cell_type": "code",
      "metadata": {
        "id": "asPl8ddpOg7b",
        "colab": {
          "base_uri": "https://localhost:8080/"
        },
        "outputId": "7c561250-06d0-46da-b4c3-e1e1aeebe073"
      },
      "source": [
        "ls -l s800_ambiguous_html/species | wc -l"
      ],
      "execution_count": null,
      "outputs": [
        {
          "output_type": "stream",
          "text": [
            "1830\n"
          ],
          "name": "stdout"
        }
      ]
    },
    {
      "cell_type": "code",
      "metadata": {
        "id": "6ljllIYy0d1_",
        "colab": {
          "base_uri": "https://localhost:8080/"
        },
        "outputId": "d9717cb4-f19a-4d62-920c-826718853726"
      },
      "source": [
        "ls -lh s800_ambiguous_html/species | head -5 "
      ],
      "execution_count": null,
      "outputs": [
        {
          "output_type": "stream",
          "text": [
            "total 12M\n",
            "-rw-r--r-- 1 root 2001426 3.8K May 28 17:54 15-Je-017(T).html\n",
            "-rw-r--r-- 1 root 2001426 4.2K May 28 17:54 2009 H1N1 A_slash_CA_slash_04_slash_09 virus.html\n",
            "-rw-r--r-- 1 root 2001426 4.2K May 28 17:54 2009 pandemic virus.html\n",
            "-rw-r--r-- 1 root 2001426 3.5K May 28 17:54 26_slash_51.html\n"
          ],
          "name": "stdout"
        }
      ]
    },
    {
      "cell_type": "code",
      "metadata": {
        "id": "iRSgeln3VsWy"
      },
      "source": [
        "#cat s800_ambiguous_html/species/Human.html"
      ],
      "execution_count": null,
      "outputs": []
    },
    {
      "cell_type": "markdown",
      "metadata": {
        "id": "3OMP-QSYQc1H"
      },
      "source": [
        "Which should be same as #species"
      ]
    },
    {
      "cell_type": "code",
      "metadata": {
        "id": "Mp_r2OBDQip-",
        "colab": {
          "base_uri": "https://localhost:8080/"
        },
        "outputId": "fcc6cbb0-fd8d-490d-8f1b-6ffbad0d7e88"
      },
      "source": [
        "len(list(species.keys()))"
      ],
      "execution_count": null,
      "outputs": [
        {
          "output_type": "execute_result",
          "data": {
            "text/plain": [
              "1829"
            ]
          },
          "metadata": {
            "tags": []
          },
          "execution_count": 93
        }
      ]
    },
    {
      "cell_type": "code",
      "metadata": {
        "id": "QTiJUKLSClat"
      },
      "source": [
        "#IPython.display.HTML(filename='s800_ambiguous_html/shrimp.html')"
      ],
      "execution_count": null,
      "outputs": []
    },
    {
      "cell_type": "code",
      "metadata": {
        "id": "zmzEn8tuS16q"
      },
      "source": [
        "#IPython.display.HTML(filename='s800_ambiguous_html/men.html')"
      ],
      "execution_count": null,
      "outputs": []
    },
    {
      "cell_type": "markdown",
      "metadata": {
        "id": "3ez7LZ5dmvFJ"
      },
      "source": [
        "blank.html - blankpage for iframe"
      ]
    },
    {
      "cell_type": "code",
      "metadata": {
        "id": "IMu0MMgsm3w1"
      },
      "source": [
        "f = open(s800_ambiguous_html+\"blank.html\", \"w\")\n",
        "f.write(\"<html></html>\")\n",
        "f.close()"
      ],
      "execution_count": null,
      "outputs": []
    },
    {
      "cell_type": "code",
      "metadata": {
        "id": "2-OPdmLvBV8x"
      },
      "source": [
        "for key in species.keys():\n",
        "  if species[key]['Species'] == 0 and species[key]['O'] == 0:\n",
        "    species[key][\"SpeciesPERSpeciesAndO\"] = 0\n",
        "  else:\n",
        "    species[key][\"SpeciesPERSpeciesAndO\"] = species[key]['Species'] / (species[key]['Species'] + species[key]['O'] )\n",
        "  if species[key][\"SpeciesPERSpeciesAndO\"] == 1:\n",
        "    species[key][\"SpeciesPERSpeciesAndO\"] = -1    \n",
        "\n"
      ],
      "execution_count": null,
      "outputs": []
    },
    {
      "cell_type": "code",
      "metadata": {
        "id": "fRcKxhvCGm05"
      },
      "source": [
        "for key in species.keys():\n",
        "  if species[key]['Species_LINNAEUS'] == 0 and species[key]['O'] == 0:\n",
        "    species[key][\"OPERLINNAUESAndO\"] = 0\n",
        "  else:\n",
        "    species[key][\"OPERLINNAUESAndO\"] = species[key]['O'] / (species[key]['Species_LINNAEUS'] + species[key]['O'] )\n",
        "    #print(species[key][\"LINNAEUSPERLINNAUESAndO\"])\n",
        "  if species[key][\"OPERLINNAUESAndO\"] == 1:\n",
        "    species[key][\"OPERLINNAUESAndO\"] = -1    "
      ],
      "execution_count": null,
      "outputs": []
    },
    {
      "cell_type": "code",
      "metadata": {
        "id": "Hxm-baWWpKTB",
        "colab": {
          "base_uri": "https://localhost:8080/"
        },
        "outputId": "c6ebe7d7-e2ff-4cc6-9ed9-40cd0874b48d"
      },
      "source": [
        "species[\"patients\"]"
      ],
      "execution_count": null,
      "outputs": [
        {
          "output_type": "execute_result",
          "data": {
            "text/plain": [
              "{'O': 113,\n",
              " 'OPERLINNAUESAndO': 0.20545454545454545,\n",
              " 'Species': 0,\n",
              " 'SpeciesPERSpeciesAndO': 0.0,\n",
              " 'Species_LINNAEUS': 437}"
            ]
          },
          "metadata": {
            "tags": []
          },
          "execution_count": 99
        }
      ]
    },
    {
      "cell_type": "code",
      "metadata": {
        "id": "i7NA_ZJnCLMK",
        "colab": {
          "base_uri": "https://localhost:8080/"
        },
        "outputId": "68763a5f-51b1-4100-b603-2f27367f1d69"
      },
      "source": [
        "species[\"men\"]"
      ],
      "execution_count": null,
      "outputs": [
        {
          "output_type": "execute_result",
          "data": {
            "text/plain": [
              "{'O': 1,\n",
              " 'OPERLINNAUESAndO': 0.012345679012345678,\n",
              " 'Species': 0,\n",
              " 'SpeciesPERSpeciesAndO': 0.0,\n",
              " 'Species_LINNAEUS': 80}"
            ]
          },
          "metadata": {
            "tags": []
          },
          "execution_count": 100
        }
      ]
    },
    {
      "cell_type": "markdown",
      "metadata": {
        "id": "t9WOIED_285-"
      },
      "source": [
        "#### index.html base page"
      ]
    },
    {
      "cell_type": "code",
      "metadata": {
        "id": "JANI0_2JrZls"
      },
      "source": [
        "table_content = \"\"\n",
        "\n",
        "for species_key in list(species.keys())[0:]:\n",
        "  #filename = \"\".join(x for x in species_key if x.isalnum())+\".html\"\n",
        "  filename = species_HTML_keys[species_key]\n",
        "  # make the headline of each document on its own line\n",
        "  nameInLinkPage = \"<a href=\\\"\"+filename+\"\\\">\"+species_key+\"</a>\"\n",
        "  table_content += \"<tr><td>\"+nameInLinkPage+\"</td>\\\n",
        "                      <td>\"+str(species[species_key]['Species'])+\"</td>\\\n",
        "                      <td>\"+str(species[species_key]['O'])+\"</td>\\\n",
        "                      <td>\"+str(species[species_key]['SpeciesPERSpeciesAndO'])[0:5]+\"</td>\\\n",
        "                      <td>\"+str(species[species_key]['Species_LINNAEUS'])+\"</td>\\\n",
        "                      <td>\"+str(species[species_key]['OPERLINNAUESAndO'])[0:]+\"</td></tr>\\n\"\n",
        "#key+\"<br />\\n\"\n",
        "table_content += \"</tbody></table>\"\n",
        "f = open(s800_ambiguous_html+index, \"w\")\n",
        "f.write(HTML_begin+HTML_linkPageSearchBarcontent+table_content+HTML_end_with_script)\n",
        "f.close()"
      ],
      "execution_count": null,
      "outputs": []
    },
    {
      "cell_type": "code",
      "metadata": {
        "id": "AbGlWvD5UAe8",
        "colab": {
          "base_uri": "https://localhost:8080/"
        },
        "outputId": "610d4f10-07b8-4022-c4ad-341972ca13fd"
      },
      "source": [
        "IPython.display.HTML(filename='s800_ambiguous_html/'+index)"
      ],
      "execution_count": null,
      "outputs": [
        {
          "output_type": "execute_result",
          "data": {
            "text/html": [
              "\n",
              "<!doctype html><html lang=\"en\"> <head><meta charset=\"utf-8\"> \n",
              "<title>s800 inconsistencies</title> \n",
              "<style>\n",
              "\n",
              ".gray { background-color:rgba(125, 125, 125, 0.5); } \n",
              ".orange { background-color:rgba(210, 180, 180, 0.5); } \n",
              "\n",
              ".match { text-decoration: underline; \n",
              "/*\n",
              "  -webkit-text-decoration-color: red;  \n",
              "  text-decoration-color: red; */\n",
              "    -webkit-text-decoration-line: overline underline; /* Safari */\n",
              "   text-decoration-line: overline underline; \n",
              "   color:yellow;\n",
              "/*   font-weight:bold; */\n",
              "  \n",
              "  \n",
              "  } \n",
              ".LINNAEUS_only { background-color: rgba(125, 125, 125, 0.5); }\n",
              ".annotated { background-color:rgba(50, 180, 180, 0.5); } \n",
              ".unannotated { background-color:rgba(214, 75, 79, 0.5); } \n",
              "\n",
              ".match_species { text-decoration: underline; } \n",
              "/*\n",
              "ul#menu li {\n",
              "/*  display:inline; \n",
              "}\n",
              ".horizontal { display: inline; border-left: 3px solid darkorange; padding-left: 0.3em; }\n",
              ".first { border-left: none; padding-left: 0; }\n",
              "*/\n",
              "ul#menu li {\n",
              "list-style-type: circle;\n",
              "}\n",
              "table { border-collapse: collapse; } \n",
              "th, td { border: 1px solid orange; padding: 4px; } \n",
              "th {  cursor: pointer; } \n",
              "th:hover { background: yellow; }\n",
              "\n",
              "html, body, iframe { height: 100%; }\n",
              "\n",
              "* {\n",
              "  box-sizing: border-box;\n",
              "}\n",
              "\n",
              ".row {\n",
              "  display: flex;\n",
              "}\n",
              "\n",
              "\n",
              "/* Create two equal columns that sits next to each other */\n",
              ".column {\n",
              "  flex: 50%;\n",
              "  padding: 0px;\n",
              " /*height: 300px; /* Should be removed. Only for demonstration */\n",
              "}\n",
              "/* Create two equal columns that sits next to each other */\n",
              ".column1 {\n",
              "  flex: 30%;\n",
              "  padding: 0px;\n",
              " /*height: 300px; /* Should be removed. Only for demonstration */\n",
              "}\n",
              "/* Create two equal columns that sits next to each other */\n",
              ".column2 {\n",
              "  flex: 70%;\n",
              "  padding: 0px;\n",
              " /*height: 300px; /* Should be removed. Only for demonstration */\n",
              "}\n",
              " \n",
              "</style></head><body>\n",
              "\n",
              "<div class=\"row\">\n",
              "    <div class=\"column1\"> <!-- species list -->\n",
              "<div style=\"padding: 10px;border-style: dotted; width: 100%; display:flex;justify-content: flex-start\">\n",
              "      <div><!-- style=\"flex: 0 0 65%\"> -->\n",
              "\t  <h2>s800 examiner</h2>\n",
              "        <b>Search filter:</b><input type=\"text\" id=\"filter\"><br/>\n",
              "        <big><b>Press table headers for sorting</b></big><br/>\n",
              "      </div>\n",
              "      <div><!-- style=\"flex: 1;\">-->\n",
              "      \n",
              "   \n",
              "<ul id=\"menu\">\n",
              "  <li class=\"horizontal first\">\n",
              "    <a href=index.html>Species - follow links</a>\n",
              "  </li>\n",
              "  <li class=\"horizontal\">\n",
              "    <a href=index_species_iframe.html>Species - show on same page</a>\n",
              "  </li>\n",
              "  <li class=\"horizontal\">\n",
              "    <a href=index_document.html>Document - follow links</a>\n",
              "  </li>\n",
              "  <li class=\"horizontal\">\n",
              "    <a href=index_document_iframe.html>Document - show on same page</a>\n",
              "  </li>\n",
              "  <li class=\"horizontal\">\n",
              "    <a href=index_document_all.html>Document - all</a>\n",
              "  </li>\n",
              "</ul>\n",
              "\n",
              "  \n",
              "</div>\n",
              "</div> <!-- dotted box -->\n",
              "<table id=\"grid\"> \n",
              "    <thead> \n",
              "      <tr> \n",
              "\n",
              "        <th data-type=\"string\">Tagged entity</th> \n",
              "        <th data-type=\"number\">'Species' tags</th> \n",
              "        <th data-type=\"number\">'O' tags</th> \n",
              "        <th data-type=\"number\">'SvsS+O</th>\n",
              "        <th data-type=\"number\">'LINNAEUS' tags</th>\n",
              "        <th data-type=\"number\">OvsL+O</th> \n",
              "\n",
              "      </tr> \n",
              "    </thead> \n",
              "    <tbody>\n",
              "\n",
              "<tr><td><a href=\"species/Methanoregula formicica.html\">Methanoregula formicica</a></td>                      <td>2</td>                      <td>0</td>                      <td>-1</td>                      <td>0</td>                      <td>0</td></tr>\n",
              "<tr><td><a href=\"species/SMSP(T).html\">SMSP(T)</a></td>                      <td>5</td>                      <td>0</td>                      <td>-1</td>                      <td>0</td>                      <td>0</td></tr>\n",
              "<tr><td><a href=\"species/Methanoregula boonei 6A8.html\">Methanoregula boonei 6A8</a></td>                      <td>2</td>                      <td>0</td>                      <td>-1</td>                      <td>0</td>                      <td>0</td></tr>\n",
              "<tr><td><a href=\"species/Cryptococcus neoformans.html\">Cryptococcus neoformans</a></td>                      <td>10</td>                      <td>1</td>                      <td>0.909</td>                      <td>0</td>                      <td>-1</td></tr>\n",
              "<tr><td><a href=\"species/human.html\">human</a></td>                      <td>94</td>                      <td>7</td>                      <td>0.930</td>                      <td>0</td>                      <td>-1</td></tr>\n",
              "<tr><td><a href=\"species/C. neoformans.html\">C. neoformans</a></td>                      <td>12</td>                      <td>1</td>                      <td>0.923</td>                      <td>0</td>                      <td>-1</td></tr>\n",
              "<tr><td><a href=\"species/Saccharomyces cerevisiae.html\">Saccharomyces cerevisiae</a></td>                      <td>20</td>                      <td>0</td>                      <td>-1</td>                      <td>0</td>                      <td>0</td></tr>\n",
              "<tr><td><a href=\"species/Serinicoccus profundi sp. nov..html\">Serinicoccus profundi sp. nov.</a></td>                      <td>1</td>                      <td>0</td>                      <td>-1</td>                      <td>0</td>                      <td>0</td></tr>\n",
              "<tr><td><a href=\"species/MCCC 1A05965.html\">MCCC 1A05965</a></td>                      <td>3</td>                      <td>0</td>                      <td>-1</td>                      <td>0</td>                      <td>0</td></tr>\n",
              "<tr><td><a href=\"species/Serinicoccus marinus.html\">Serinicoccus marinus</a></td>                      <td>1</td>                      <td>0</td>                      <td>-1</td>                      <td>0</td>                      <td>0</td></tr>\n",
              "<tr><td><a href=\"species/Serinicoccus profundi sp. nov.html\">Serinicoccus profundi sp. nov</a></td>                      <td>1</td>                      <td>0</td>                      <td>-1</td>                      <td>0</td>                      <td>0</td></tr>\n",
              "<tr><td><a href=\"species/yeast.html\">yeast</a></td>                      <td>35</td>                      <td>16</td>                      <td>0.686</td>                      <td>0</td>                      <td>-1</td></tr>\n",
              "<tr><td><a href=\"species/yeasts.html\">yeasts</a></td>                      <td>4</td>                      <td>3</td>                      <td>0.571</td>                      <td>0</td>                      <td>-1</td></tr>\n",
              "<tr><td><a href=\"species/Scardovia wiggsiae.html\">Scardovia wiggsiae</a></td>                      <td>2</td>                      <td>0</td>                      <td>-1</td>                      <td>0</td>                      <td>0</td></tr>\n",
              "<tr><td><a href=\"species/Scardovia inopinata.html\">Scardovia inopinata</a></td>                      <td>2</td>                      <td>0</td>                      <td>-1</td>                      <td>0</td>                      <td>0</td></tr>\n",
              "<tr><td><a href=\"species/Flavobacterium ponti sp. nov..html\">Flavobacterium ponti sp. nov.</a></td>                      <td>2</td>                      <td>0</td>                      <td>-1</td>                      <td>0</td>                      <td>0</td></tr>\n",
              "<tr><td><a href=\"species/GSW-R14.html\">GSW-R14</a></td>                      <td>10</td>                      <td>0</td>                      <td>-1</td>                      <td>0</td>                      <td>0</td></tr>\n",
              "<tr><td><a href=\"species/Flavobacterium gelidilacus.html\">Flavobacterium gelidilacus</a></td>                      <td>1</td>                      <td>0</td>                      <td>-1</td>                      <td>0</td>                      <td>0</td></tr>\n",
              "<tr><td><a href=\"species/F. gelidilacus.html\">F. gelidilacus</a></td>                      <td>4</td>                      <td>0</td>                      <td>-1</td>                      <td>0</td>                      <td>0</td></tr>\n",
              "<tr><td><a href=\"species/Thermasporomyces composti gen. nov., sp. nov..html\">Thermasporomyces composti gen. nov., sp. nov.</a></td>                      <td>2</td>                      <td>0</td>                      <td>-1</td>                      <td>0</td>                      <td>0</td></tr>\n",
              "<tr><td><a href=\"species/JCM 16421(T).html\">JCM 16421(T)</a></td>                      <td>1</td>                      <td>0</td>                      <td>-1</td>                      <td>0</td>                      <td>0</td></tr>\n",
              "<tr><td><a href=\"species/Phycicoccus dokdonensis DS-8(T).html\">Phycicoccus dokdonensis DS-8(T)</a></td>                      <td>1</td>                      <td>0</td>                      <td>-1</td>                      <td>0</td>                      <td>0</td></tr>\n",
              "<tr><td><a href=\"species/Phycicoccus bigeumensis DSM 19264(T).html\">Phycicoccus bigeumensis DSM 19264(T)</a></td>                      <td>1</td>                      <td>0</td>                      <td>-1</td>                      <td>0</td>                      <td>0</td></tr>\n",
              "<tr><td><a href=\"species/Streptomyces hyderabadensis sp. nov..html\">Streptomyces hyderabadensis sp. nov.</a></td>                      <td>2</td>                      <td>0</td>                      <td>-1</td>                      <td>0</td>                      <td>0</td></tr>\n",
              "<tr><td><a href=\"species/OU-40.html\">OU-40</a></td>                      <td>5</td>                      <td>0</td>                      <td>-1</td>                      <td>0</td>                      <td>0</td></tr>\n",
              "<tr><td><a href=\"species/Streptomyces pactum.html\">Streptomyces pactum</a></td>                      <td>1</td>                      <td>0</td>                      <td>-1</td>                      <td>0</td>                      <td>0</td></tr>\n",
              "<tr><td><a href=\"species/Streptomyces olivaceus.html\">Streptomyces olivaceus</a></td>                      <td>1</td>                      <td>0</td>                      <td>-1</td>                      <td>0</td>                      <td>0</td></tr>\n",
              "<tr><td><a href=\"species/Streptomyces parvulus.html\">Streptomyces parvulus</a></td>                      <td>1</td>                      <td>0</td>                      <td>-1</td>                      <td>0</td>                      <td>0</td></tr>\n",
              "<tr><td><a href=\"species/Gordonia humi sp. nov..html\">Gordonia humi sp. nov.</a></td>                      <td>2</td>                      <td>0</td>                      <td>-1</td>                      <td>0</td>                      <td>0</td></tr>\n",
              "<tr><td><a href=\"species/CC-12301(T).html\">CC-12301(T)</a></td>                      <td>6</td>                      <td>0</td>                      <td>-1</td>                      <td>0</td>                      <td>0</td></tr>\n",
              "<tr><td><a href=\"species/Agaricus brasiliensis.html\">Agaricus brasiliensis</a></td>                      <td>1</td>                      <td>0</td>                      <td>-1</td>                      <td>0</td>                      <td>0</td></tr>\n",
              "<tr><td><a href=\"species/Gordonia hydrophobica.html\">Gordonia hydrophobica</a></td>                      <td>1</td>                      <td>0</td>                      <td>-1</td>                      <td>0</td>                      <td>0</td></tr>\n",
              "<tr><td><a href=\"species/Gordonia terrae.html\">Gordonia terrae</a></td>                      <td>1</td>                      <td>0</td>                      <td>-1</td>                      <td>0</td>                      <td>0</td></tr>\n",
              "<tr><td><a href=\"species/Gordonia amarae.html\">Gordonia amarae</a></td>                      <td>1</td>                      <td>0</td>                      <td>-1</td>                      <td>0</td>                      <td>0</td></tr>\n",
              "<tr><td><a href=\"species/Gordonia malaquae.html\">Gordonia malaquae</a></td>                      <td>1</td>                      <td>0</td>                      <td>-1</td>                      <td>0</td>                      <td>0</td></tr>\n",
              "<tr><td><a href=\"species/Methanoregula boonei gen. nov., sp. nov..html\">Methanoregula boonei gen. nov., sp. nov.</a></td>                      <td>2</td>                      <td>0</td>                      <td>-1</td>                      <td>0</td>                      <td>0</td></tr>\n",
              "<tr><td><a href=\"species/6A8.html\">6A8</a></td>                      <td>3</td>                      <td>0</td>                      <td>-1</td>                      <td>0</td>                      <td>0</td></tr>\n",
              "<tr><td><a href=\"species/Methanoregula boonei.html\">Methanoregula boonei</a></td>                      <td>1</td>                      <td>0</td>                      <td>-1</td>                      <td>0</td>                      <td>0</td></tr>\n",
              "<tr><td><a href=\"species/Marinobacterium coralli sp. nov..html\">Marinobacterium coralli sp. nov.</a></td>                      <td>2</td>                      <td>0</td>                      <td>-1</td>                      <td>0</td>                      <td>0</td></tr>\n",
              "<tr><td><a href=\"species/Mussismilia hispida.html\">Mussismilia hispida</a></td>                      <td>2</td>                      <td>0</td>                      <td>-1</td>                      <td>0</td>                      <td>0</td></tr>\n",
              "<tr><td><a href=\"species/R-40509.html\">R-40509</a></td>                      <td>3</td>                      <td>0</td>                      <td>-1</td>                      <td>0</td>                      <td>0</td></tr>\n",
              "<tr><td><a href=\"species/Marinobacterium sediminicola.html\">Marinobacterium sediminicola</a></td>                      <td>1</td>                      <td>0</td>                      <td>-1</td>                      <td>0</td>                      <td>0</td></tr>\n",
              "<tr><td><a href=\"species/Marinobacterium maritimum.html\">Marinobacterium maritimum</a></td>                      <td>1</td>                      <td>0</td>                      <td>-1</td>                      <td>0</td>                      <td>0</td></tr>\n",
              "<tr><td><a href=\"species/Marinobacterium stanieri.html\">Marinobacterium stanieri</a></td>                      <td>1</td>                      <td>0</td>                      <td>-1</td>                      <td>0</td>                      <td>0</td></tr>\n",
              "<tr><td><a href=\"species/LMG 25435(T.html\">LMG 25435(T</a></td>                      <td>1</td>                      <td>0</td>                      <td>-1</td>                      <td>0</td>                      <td>0</td></tr>\n",
              "<tr><td><a href=\"species/CAIM 1449(T).html\">CAIM 1449(T)</a></td>                      <td>1</td>                      <td>0</td>                      <td>-1</td>                      <td>0</td>                      <td>0</td></tr>\n",
              "<tr><td><a href=\"species/Amnibacterium kyonggiense gen. nov., sp. nov..html\">Amnibacterium kyonggiense gen. nov., sp. nov.</a></td>                      <td>2</td>                      <td>0</td>                      <td>-1</td>                      <td>0</td>                      <td>0</td></tr>\n",
              "<tr><td><a href=\"species/KSL51201-037(T).html\">KSL51201-037(T)</a></td>                      <td>5</td>                      <td>0</td>                      <td>-1</td>                      <td>0</td>                      <td>0</td></tr>\n",
              "<tr><td><a href=\"species/Labedella gwakjiensis KSW2-17(T).html\">Labedella gwakjiensis KSW2-17(T)</a></td>                      <td>1</td>                      <td>0</td>                      <td>-1</td>                      <td>0</td>                      <td>0</td></tr>\n",
              "<tr><td><a href=\"species/Leifsonia ginsengi wged11(T).html\">Leifsonia ginsengi wged11(T)</a></td>                      <td>1</td>                      <td>0</td>                      <td>-1</td>                      <td>0</td>                      <td>0</td></tr>\n",
              "<tr><td><a href=\"species/Microterricola viridarii KV-677(T).html\">Microterricola viridarii KV-677(T)</a></td>                      <td>1</td>                      <td>0</td>                      <td>-1</td>                      <td>0</td>                      <td>0</td></tr>\n",
              "<tr><td><a href=\"species/Miniimonas arenae.html\">Miniimonas arenae</a></td>                      <td>2</td>                      <td>0</td>                      <td>-1</td>                      <td>0</td>                      <td>0</td></tr>\n",
              "<tr><td><a href=\"species/YM18-15.html\">YM18-15</a></td>                      <td>6</td>                      <td>0</td>                      <td>-1</td>                      <td>0</td>                      <td>0</td></tr>\n",
              "<tr><td><a href=\"species/Serinibacter salmoneus.html\">Serinibacter salmoneus</a></td>                      <td>1</td>                      <td>0</td>                      <td>-1</td>                      <td>0</td>                      <td>0</td></tr>\n",
              "<tr><td><a href=\"species/Salana multivorans.html\">Salana multivorans</a></td>                      <td>1</td>                      <td>0</td>                      <td>-1</td>                      <td>0</td>                      <td>0</td></tr>\n",
              "<tr><td><a href=\"species/Beutenbergia cavernae.html\">Beutenbergia cavernae</a></td>                      <td>1</td>                      <td>0</td>                      <td>-1</td>                      <td>0</td>                      <td>0</td></tr>\n",
              "<tr><td><a href=\"species/Anoxybacillus tengchongensis.html\">Anoxybacillus tengchongensis</a></td>                      <td>2</td>                      <td>0</td>                      <td>-1</td>                      <td>0</td>                      <td>0</td></tr>\n",
              "<tr><td><a href=\"species/Anoxybacillus eryuanensis.html\">Anoxybacillus eryuanensis</a></td>                      <td>2</td>                      <td>0</td>                      <td>-1</td>                      <td>0</td>                      <td>0</td></tr>\n",
              "<tr><td><a href=\"species/T-11.html\">T-11</a></td>                      <td>7</td>                      <td>0</td>                      <td>-1</td>                      <td>0</td>                      <td>0</td></tr>\n",
              "<tr><td><a href=\"species/E-112.html\">E-112</a></td>                      <td>7</td>                      <td>0</td>                      <td>-1</td>                      <td>0</td>                      <td>0</td></tr>\n",
              "<tr><td><a href=\"species/Neisseria wadsworthii.html\">Neisseria wadsworthii</a></td>                      <td>2</td>                      <td>0</td>                      <td>-1</td>                      <td>0</td>                      <td>0</td></tr>\n",
              "<tr><td><a href=\"species/Neisseria shayeganii.html\">Neisseria shayeganii</a></td>                      <td>2</td>                      <td>0</td>                      <td>-1</td>                      <td>0</td>                      <td>0</td></tr>\n",
              "<tr><td><a href=\"species/Neisseria canis.html\">Neisseria canis</a></td>                      <td>1</td>                      <td>0</td>                      <td>-1</td>                      <td>0</td>                      <td>0</td></tr>\n",
              "<tr><td><a href=\"species/N. dentiae.html\">N. dentiae</a></td>                      <td>2</td>                      <td>0</td>                      <td>-1</td>                      <td>0</td>                      <td>0</td></tr>\n",
              "<tr><td><a href=\"species/N. zoodegmatis.html\">N. zoodegmatis</a></td>                      <td>1</td>                      <td>0</td>                      <td>-1</td>                      <td>0</td>                      <td>0</td></tr>\n",
              "<tr><td><a href=\"species/N. animaloris.html\">N. animaloris</a></td>                      <td>1</td>                      <td>0</td>                      <td>-1</td>                      <td>0</td>                      <td>0</td></tr>\n",
              "<tr><td><a href=\"species/N. weaveri.html\">N. weaveri</a></td>                      <td>1</td>                      <td>0</td>                      <td>-1</td>                      <td>0</td>                      <td>0</td></tr>\n",
              "<tr><td><a href=\"species/N. bacilliformis.html\">N. bacilliformis</a></td>                      <td>1</td>                      <td>0</td>                      <td>-1</td>                      <td>0</td>                      <td>0</td></tr>\n",
              "<tr><td><a href=\"species/N. canis.html\">N. canis</a></td>                      <td>1</td>                      <td>0</td>                      <td>-1</td>                      <td>0</td>                      <td>0</td></tr>\n",
              "<tr><td><a href=\"species/9715.html\">9715</a></td>                      <td>1</td>                      <td>0</td>                      <td>-1</td>                      <td>0</td>                      <td>0</td></tr>\n",
              "<tr><td><a href=\"species/871.html\">871</a></td>                      <td>1</td>                      <td>0</td>                      <td>-1</td>                      <td>0</td>                      <td>0</td></tr>\n",
              "<tr><td><a href=\"species/Spirochaeta litoralis.html\">Spirochaeta litoralis</a></td>                      <td>1</td>                      <td>0</td>                      <td>-1</td>                      <td>0</td>                      <td>0</td></tr>\n",
              "<tr><td><a href=\"species/S. isovalerica.html\">S. isovalerica</a></td>                      <td>1</td>                      <td>0</td>                      <td>-1</td>                      <td>0</td>                      <td>0</td></tr>\n",
              "<tr><td><a href=\"species/S. cellobiosiphila.html\">S. cellobiosiphila</a></td>                      <td>1</td>                      <td>0</td>                      <td>-1</td>                      <td>0</td>                      <td>0</td></tr>\n",
              "<tr><td><a href=\"species/Clostridiisalibacter paucivorans.html\">Clostridiisalibacter paucivorans</a></td>                      <td>2</td>                      <td>0</td>                      <td>-1</td>                      <td>0</td>                      <td>0</td></tr>\n",
              "<tr><td><a href=\"species/Thermohalobacter berrensis.html\">Thermohalobacter berrensis</a></td>                      <td>1</td>                      <td>0</td>                      <td>-1</td>                      <td>0</td>                      <td>0</td></tr>\n",
              "<tr><td><a href=\"species/Caloranaerobacter azorensis.html\">Caloranaerobacter azorensis</a></td>                      <td>1</td>                      <td>0</td>                      <td>-1</td>                      <td>0</td>                      <td>0</td></tr>\n",
              "<tr><td><a href=\"species/tomato.html\">tomato</a></td>                      <td>21</td>                      <td>1</td>                      <td>0.954</td>                      <td>0</td>                      <td>-1</td></tr>\n",
              "<tr><td><a href=\"species/potato.html\">potato</a></td>                      <td>3</td>                      <td>0</td>                      <td>-1</td>                      <td>0</td>                      <td>0</td></tr>\n",
              "<tr><td><a href=\"species/Escherichia coli.html\">Escherichia coli</a></td>                      <td>44</td>                      <td>2</td>                      <td>0.956</td>                      <td>0</td>                      <td>-1</td></tr>\n",
              "<tr><td><a href=\"species/Pseudomonas aeruginosa.html\">Pseudomonas aeruginosa</a></td>                      <td>9</td>                      <td>2</td>                      <td>0.818</td>                      <td>0</td>                      <td>-1</td></tr>\n",
              "<tr><td><a href=\"species/Bacillus subtilis.html\">Bacillus subtilis</a></td>                      <td>16</td>                      <td>0</td>                      <td>-1</td>                      <td>0</td>                      <td>0</td></tr>\n",
              "<tr><td><a href=\"species/Candida albicans.html\">Candida albicans</a></td>                      <td>17</td>                      <td>0</td>                      <td>-1</td>                      <td>0</td>                      <td>0</td></tr>\n",
              "<tr><td><a href=\"species/Penicillium citrinum.html\">Penicillium citrinum</a></td>                      <td>1</td>                      <td>0</td>                      <td>-1</td>                      <td>0</td>                      <td>0</td></tr>\n",
              "<tr><td><a href=\"species/Streptomyces morookaense.html\">Streptomyces morookaense</a></td>                      <td>1</td>                      <td>0</td>                      <td>-1</td>                      <td>0</td>                      <td>0</td></tr>\n",
              "<tr><td><a href=\"species/ATCC 19166(T).html\">ATCC 19166(T)</a></td>                      <td>1</td>                      <td>0</td>                      <td>-1</td>                      <td>0</td>                      <td>0</td></tr>\n",
              "<tr><td><a href=\"species/Streptomyces lavenduligriseus.html\">Streptomyces lavenduligriseus</a></td>                      <td>1</td>                      <td>0</td>                      <td>-1</td>                      <td>0</td>                      <td>0</td></tr>\n",
              "<tr><td><a href=\"species/ATCC 13306(T).html\">ATCC 13306(T)</a></td>                      <td>1</td>                      <td>0</td>                      <td>-1</td>                      <td>0</td>                      <td>0</td></tr>\n",
              "<tr><td><a href=\"species/S. morookaense.html\">S. morookaense</a></td>                      <td>1</td>                      <td>0</td>                      <td>-1</td>                      <td>0</td>                      <td>0</td></tr>\n",
              "<tr><td><a href=\"species/Auritidibacter ignavus gen. nov., sp. nov..html\">Auritidibacter ignavus gen. nov., sp. nov.</a></td>                      <td>2</td>                      <td>0</td>                      <td>-1</td>                      <td>0</td>                      <td>0</td></tr>\n",
              "<tr><td><a href=\"species/IMMIB L-1656(T).html\">IMMIB L-1656(T)</a></td>                      <td>5</td>                      <td>0</td>                      <td>-1</td>                      <td>0</td>                      <td>0</td></tr>\n",
              "<tr><td><a href=\"species/Auritidibacter ignavus.html\">Auritidibacter ignavus</a></td>                      <td>1</td>                      <td>0</td>                      <td>-1</td>                      <td>0</td>                      <td>0</td></tr>\n",
              "<tr><td><a href=\"species/DSM 45359(T).html\">DSM 45359(T)</a></td>                      <td>1</td>                      <td>0</td>                      <td>-1</td>                      <td>0</td>                      <td>0</td></tr>\n",
              "<tr><td><a href=\"species/CCUG 57943(T).html\">CCUG 57943(T)</a></td>                      <td>1</td>                      <td>0</td>                      <td>-1</td>                      <td>0</td>                      <td>0</td></tr>\n",
              "<tr><td><a href=\"species/Flavobacterium frigoris LMG 21922(T).html\">Flavobacterium frigoris LMG 21922(T)</a></td>                      <td>1</td>                      <td>0</td>                      <td>-1</td>                      <td>0</td>                      <td>0</td></tr>\n",
              "<tr><td><a href=\"species/Flavobacterium terrae R2A1-13(T).html\">Flavobacterium terrae R2A1-13(T)</a></td>                      <td>1</td>                      <td>0</td>                      <td>-1</td>                      <td>0</td>                      <td>0</td></tr>\n",
              "<tr><td><a href=\"species/Flavobacterium gelidilacus LMG 21477(T).html\">Flavobacterium gelidilacus LMG 21477(T)</a></td>                      <td>1</td>                      <td>0</td>                      <td>-1</td>                      <td>0</td>                      <td>0</td></tr>\n",
              "<tr><td><a href=\"species/Aspergillus nidulans.html\">Aspergillus nidulans</a></td>                      <td>24</td>                      <td>0</td>                      <td>-1</td>                      <td>0</td>                      <td>0</td></tr>\n",
              "<tr><td><a href=\"species/Aspergillus parasiticus.html\">Aspergillus parasiticus</a></td>                      <td>1</td>                      <td>0</td>                      <td>-1</td>                      <td>0</td>                      <td>0</td></tr>\n",
              "<tr><td><a href=\"species/humans.html\">humans</a></td>                      <td>15</td>                      <td>0</td>                      <td>-1</td>                      <td>0</td>                      <td>0</td></tr>\n",
              "<tr><td><a href=\"species/Debaryomyces hansenii.html\">Debaryomyces hansenii</a></td>                      <td>2</td>                      <td>0</td>                      <td>-1</td>                      <td>0</td>                      <td>0</td></tr>\n",
              "<tr><td><a href=\"species/D. hansenii.html\">D. hansenii</a></td>                      <td>1</td>                      <td>0</td>                      <td>-1</td>                      <td>0</td>                      <td>0</td></tr>\n",
              "<tr><td><a href=\"species/Aspergillus fumigatus.html\">Aspergillus fumigatus</a></td>                      <td>19</td>                      <td>0</td>                      <td>-1</td>                      <td>0</td>                      <td>0</td></tr>\n",
              "<tr><td><a href=\"species/Pichiapastoris.html\">Pichiapastoris</a></td>                      <td>1</td>                      <td>0</td>                      <td>-1</td>                      <td>0</td>                      <td>0</td></tr>\n",
              "<tr><td><a href=\"species/A. nidulans.html\">A. nidulans</a></td>                      <td>16</td>                      <td>0</td>                      <td>-1</td>                      <td>0</td>                      <td>0</td></tr>\n",
              "<tr><td><a href=\"species/C. albicans.html\">C. albicans</a></td>                      <td>16</td>                      <td>1</td>                      <td>0.941</td>                      <td>0</td>                      <td>-1</td></tr>\n",
              "<tr><td><a href=\"species/Chromera velia.html\">Chromera velia</a></td>                      <td>4</td>                      <td>0</td>                      <td>-1</td>                      <td>0</td>                      <td>0</td></tr>\n",
              "<tr><td><a href=\"species/Ch. velia.html\">Ch. velia</a></td>                      <td>6</td>                      <td>0</td>                      <td>-1</td>                      <td>0</td>                      <td>0</td></tr>\n",
              "<tr><td><a href=\"species/Colpodella edax.html\">Colpodella edax</a></td>                      <td>1</td>                      <td>0</td>                      <td>-1</td>                      <td>0</td>                      <td>0</td></tr>\n",
              "<tr><td><a href=\"species/T4.html\">T4</a></td>                      <td>1</td>                      <td>0</td>                      <td>-1</td>                      <td>0</td>                      <td>0</td></tr>\n",
              "<tr><td><a href=\"species/Acanthamoeba castellanii.html\">Acanthamoeba castellanii</a></td>                      <td>1</td>                      <td>0</td>                      <td>-1</td>                      <td>0</td>                      <td>0</td></tr>\n",
              "<tr><td><a href=\"species/A. castellanii.html\">A. castellanii</a></td>                      <td>7</td>                      <td>0</td>                      <td>-1</td>                      <td>0</td>                      <td>0</td></tr>\n",
              "<tr><td><a href=\"species/Horseradish.html\">Horseradish</a></td>                      <td>1</td>                      <td>0</td>                      <td>-1</td>                      <td>0</td>                      <td>0</td></tr>\n",
              "<tr><td><a href=\"species/Cyanidioschyzon merolae.html\">Cyanidioschyzon merolae</a></td>                      <td>1</td>                      <td>0</td>                      <td>-1</td>                      <td>0</td>                      <td>0</td></tr>\n",
              "<tr><td><a href=\"species/rice.html\">rice</a></td>                      <td>35</td>                      <td>13</td>                      <td>0.729</td>                      <td>0</td>                      <td>-1</td></tr>\n",
              "<tr><td><a href=\"species/Tetrahymena thermophila.html\">Tetrahymena thermophila</a></td>                      <td>4</td>                      <td>0</td>                      <td>-1</td>                      <td>0</td>                      <td>0</td></tr>\n",
              "<tr><td><a href=\"species/Arabidopsis.html\">Arabidopsis</a></td>                      <td>15</td>                      <td>19</td>                      <td>0.441</td>                      <td>0</td>                      <td>-1</td></tr>\n",
              "<tr><td><a href=\"species/rat.html\">rat</a></td>                      <td>1</td>                      <td>0</td>                      <td>-1</td>                      <td>0</td>                      <td>0</td></tr>\n",
              "<tr><td><a href=\"species/Phytophthora nicotianae.html\">Phytophthora nicotianae</a></td>                      <td>2</td>                      <td>0</td>                      <td>-1</td>                      <td>0</td>                      <td>0</td></tr>\n",
              "<tr><td><a href=\"species/Ochromonas danica.html\">Ochromonas danica</a></td>                      <td>1</td>                      <td>0</td>                      <td>-1</td>                      <td>0</td>                      <td>0</td></tr>\n",
              "<tr><td><a href=\"species/Aureococcus anophagefferens.html\">Aureococcus anophagefferens</a></td>                      <td>1</td>                      <td>0</td>                      <td>-1</td>                      <td>0</td>                      <td>0</td></tr>\n",
              "<tr><td><a href=\"species/Scytosiphon lomentaria.html\">Scytosiphon lomentaria</a></td>                      <td>1</td>                      <td>0</td>                      <td>-1</td>                      <td>0</td>                      <td>0</td></tr>\n",
              "<tr><td><a href=\"species/Thalassiosira pseudonana.html\">Thalassiosira pseudonana</a></td>                      <td>1</td>                      <td>0</td>                      <td>-1</td>                      <td>0</td>                      <td>0</td></tr>\n",
              "<tr><td><a href=\"species/T. weissflogii.html\">T. weissflogii</a></td>                      <td>1</td>                      <td>0</td>                      <td>-1</td>                      <td>0</td>                      <td>0</td></tr>\n",
              "<tr><td><a href=\"species/Prasinoderma coloniale.html\">Prasinoderma coloniale</a></td>                      <td>1</td>                      <td>0</td>                      <td>-1</td>                      <td>0</td>                      <td>0</td></tr>\n",
              "<tr><td><a href=\"species/P. coloniale.html\">P. coloniale</a></td>                      <td>4</td>                      <td>0</td>                      <td>-1</td>                      <td>0</td>                      <td>0</td></tr>\n",
              "<tr><td><a href=\"species/Histoplasma capsulatum.html\">Histoplasma capsulatum</a></td>                      <td>1</td>                      <td>0</td>                      <td>-1</td>                      <td>0</td>                      <td>0</td></tr>\n",
              "<tr><td><a href=\"species/Paracoccidioides brasiliensis.html\">Paracoccidioides brasiliensis</a></td>                      <td>3</td>                      <td>0</td>                      <td>-1</td>                      <td>0</td>                      <td>0</td></tr>\n",
              "<tr><td><a href=\"species/Blastomyces dermatitidis.html\">Blastomyces dermatitidis</a></td>                      <td>2</td>                      <td>0</td>                      <td>-1</td>                      <td>0</td>                      <td>0</td></tr>\n",
              "<tr><td><a href=\"species/Emmonsia parva.html\">Emmonsia parva</a></td>                      <td>1</td>                      <td>0</td>                      <td>-1</td>                      <td>0</td>                      <td>0</td></tr>\n",
              "<tr><td><a href=\"species/B. dermatitidis.html\">B. dermatitidis</a></td>                      <td>1</td>                      <td>0</td>                      <td>-1</td>                      <td>0</td>                      <td>0</td></tr>\n",
              "<tr><td><a href=\"species/E. parva.html\">E. parva</a></td>                      <td>1</td>                      <td>0</td>                      <td>-1</td>                      <td>0</td>                      <td>0</td></tr>\n",
              "<tr><td><a href=\"species/P. brasiliensis species complex.html\">P. brasiliensis species complex</a></td>                      <td>2</td>                      <td>0</td>                      <td>-1</td>                      <td>0</td>                      <td>0</td></tr>\n",
              "<tr><td><a href=\"species/Tetrahymena canadensis.html\">Tetrahymena canadensis</a></td>                      <td>1</td>                      <td>0</td>                      <td>-1</td>                      <td>0</td>                      <td>0</td></tr>\n",
              "<tr><td><a href=\"species/Tetrahymena hegewischi.html\">Tetrahymena hegewischi</a></td>                      <td>1</td>                      <td>0</td>                      <td>-1</td>                      <td>0</td>                      <td>0</td></tr>\n",
              "<tr><td><a href=\"species/Tetrahymena pyriformis.html\">Tetrahymena pyriformis</a></td>                      <td>1</td>                      <td>0</td>                      <td>-1</td>                      <td>0</td>                      <td>0</td></tr>\n",
              "<tr><td><a href=\"species/Tetrahymena rostrata.html\">Tetrahymena rostrata</a></td>                      <td>1</td>                      <td>0</td>                      <td>-1</td>                      <td>0</td>                      <td>0</td></tr>\n",
              "<tr><td><a href=\"species/Tetrahymena tropicalis.html\">Tetrahymena tropicalis</a></td>                      <td>1</td>                      <td>0</td>                      <td>-1</td>                      <td>0</td>                      <td>0</td></tr>\n",
              "<tr><td><a href=\"species/Pirum gemmata gen. nov., sp. nov..html\">Pirum gemmata gen. nov., sp. nov.</a></td>                      <td>1</td>                      <td>0</td>                      <td>-1</td>                      <td>0</td>                      <td>0</td></tr>\n",
              "<tr><td><a href=\"species/Abeoforma whisleri, gen. nov., sp. nov..html\">Abeoforma whisleri, gen. nov., sp. nov.</a></td>                      <td>1</td>                      <td>0</td>                      <td>-1</td>                      <td>0</td>                      <td>0</td></tr>\n",
              "<tr><td><a href=\"species/Pirum gemmata.html\">Pirum gemmata</a></td>                      <td>1</td>                      <td>0</td>                      <td>-1</td>                      <td>0</td>                      <td>0</td></tr>\n",
              "<tr><td><a href=\"species/Abeoforma whisleri.html\">Abeoforma whisleri</a></td>                      <td>1</td>                      <td>0</td>                      <td>-1</td>                      <td>0</td>                      <td>0</td></tr>\n",
              "<tr><td><a href=\"species/A. whisleri.html\">A. whisleri</a></td>                      <td>3</td>                      <td>0</td>                      <td>-1</td>                      <td>0</td>                      <td>0</td></tr>\n",
              "<tr><td><a href=\"species/P. gemmata.html\">P. gemmata</a></td>                      <td>3</td>                      <td>0</td>                      <td>-1</td>                      <td>0</td>                      <td>0</td></tr>\n",
              "<tr><td><a href=\"species/Cryptococcus neoformans JEC21.html\">Cryptococcus neoformans JEC21</a></td>                      <td>1</td>                      <td>0</td>                      <td>-1</td>                      <td>0</td>                      <td>0</td></tr>\n",
              "<tr><td><a href=\"species/JEC21.html\">JEC21</a></td>                      <td>6</td>                      <td>1</td>                      <td>0.857</td>                      <td>0</td>                      <td>-1</td></tr>\n",
              "<tr><td><a href=\"species/H99.html\">H99</a></td>                      <td>2</td>                      <td>0</td>                      <td>-1</td>                      <td>0</td>                      <td>0</td></tr>\n",
              "<tr><td><a href=\"species/citrus red mite.html\">citrus red mite</a></td>                      <td>1</td>                      <td>0</td>                      <td>-1</td>                      <td>0</td>                      <td>0</td></tr>\n",
              "<tr><td><a href=\"species/Panonychus citri.html\">Panonychus citri</a></td>                      <td>2</td>                      <td>0</td>                      <td>-1</td>                      <td>0</td>                      <td>0</td></tr>\n",
              "<tr><td><a href=\"species/Tetranychus urticae.html\">Tetranychus urticae</a></td>                      <td>2</td>                      <td>0</td>                      <td>-1</td>                      <td>0</td>                      <td>0</td></tr>\n",
              "<tr><td><a href=\"species/P. citri.html\">P. citri</a></td>                      <td>1</td>                      <td>0</td>                      <td>-1</td>                      <td>0</td>                      <td>0</td></tr>\n",
              "<tr><td><a href=\"species/Quercus robur.html\">Quercus robur</a></td>                      <td>2</td>                      <td>0</td>                      <td>-1</td>                      <td>0</td>                      <td>0</td></tr>\n",
              "<tr><td><a href=\"species/Tischeria ekebladella.html\">Tischeria ekebladella</a></td>                      <td>1</td>                      <td>0</td>                      <td>-1</td>                      <td>0</td>                      <td>0</td></tr>\n",
              "<tr><td><a href=\"species/T. ekebladella.html\">T. ekebladella</a></td>                      <td>3</td>                      <td>0</td>                      <td>-1</td>                      <td>0</td>                      <td>0</td></tr>\n",
              "<tr><td><a href=\"species/Citrus volkameriana.html\">Citrus volkameriana</a></td>                      <td>1</td>                      <td>0</td>                      <td>-1</td>                      <td>0</td>                      <td>0</td></tr>\n",
              "<tr><td><a href=\"species/A. fumigatus.html\">A. fumigatus</a></td>                      <td>13</td>                      <td>0</td>                      <td>-1</td>                      <td>0</td>                      <td>0</td></tr>\n",
              "<tr><td><a href=\"species/Baikalospongia intermedia.html\">Baikalospongia intermedia</a></td>                      <td>1</td>                      <td>0</td>                      <td>-1</td>                      <td>0</td>                      <td>0</td></tr>\n",
              "<tr><td><a href=\"species/Baikalospongia recta.html\">Baikalospongia recta</a></td>                      <td>1</td>                      <td>0</td>                      <td>-1</td>                      <td>0</td>                      <td>0</td></tr>\n",
              "<tr><td><a href=\"species/Lubomirskia incrustans.html\">Lubomirskia incrustans</a></td>                      <td>1</td>                      <td>0</td>                      <td>-1</td>                      <td>0</td>                      <td>0</td></tr>\n",
              "<tr><td><a href=\"species/Gyrodinium helveticum.html\">Gyrodinium helveticum</a></td>                      <td>1</td>                      <td>0</td>                      <td>-1</td>                      <td>0</td>                      <td>0</td></tr>\n",
              "<tr><td><a href=\"species/silkworm.html\">silkworm</a></td>                      <td>11</td>                      <td>0</td>                      <td>-1</td>                      <td>0</td>                      <td>0</td></tr>\n",
              "<tr><td><a href=\"species/Bombyx mori.html\">Bombyx mori</a></td>                      <td>10</td>                      <td>0</td>                      <td>-1</td>                      <td>0</td>                      <td>0</td></tr>\n",
              "<tr><td><a href=\"species/Larrea tridentata.html\">Larrea tridentata</a></td>                      <td>2</td>                      <td>0</td>                      <td>-1</td>                      <td>0</td>                      <td>0</td></tr>\n",
              "<tr><td><a href=\"species/L. tridentata.html\">L. tridentata</a></td>                      <td>1</td>                      <td>0</td>                      <td>-1</td>                      <td>0</td>                      <td>0</td></tr>\n",
              "<tr><td><a href=\"species/L. chlorophorum.html\">L. chlorophorum</a></td>                      <td>2</td>                      <td>0</td>                      <td>-1</td>                      <td>0</td>                      <td>0</td></tr>\n",
              "<tr><td><a href=\"species/sunflower.html\">sunflower</a></td>                      <td>3</td>                      <td>10</td>                      <td>0.230</td>                      <td>0</td>                      <td>-1</td></tr>\n",
              "<tr><td><a href=\"species/Helianthus annuus.html\">Helianthus annuus</a></td>                      <td>3</td>                      <td>0</td>                      <td>-1</td>                      <td>0</td>                      <td>0</td></tr>\n",
              "<tr><td><a href=\"species/bull sharks.html\">bull sharks</a></td>                      <td>3</td>                      <td>0</td>                      <td>-1</td>                      <td>0</td>                      <td>0</td></tr>\n",
              "<tr><td><a href=\"species/Carcharhinus leucas.html\">Carcharhinus leucas</a></td>                      <td>1</td>                      <td>0</td>                      <td>-1</td>                      <td>0</td>                      <td>0</td></tr>\n",
              "<tr><td><a href=\"species/tiger sharks.html\">tiger sharks</a></td>                      <td>4</td>                      <td>0</td>                      <td>-1</td>                      <td>0</td>                      <td>0</td></tr>\n",
              "<tr><td><a href=\"species/Galeocerdo cuvier.html\">Galeocerdo cuvier</a></td>                      <td>1</td>                      <td>0</td>                      <td>-1</td>                      <td>0</td>                      <td>0</td></tr>\n",
              "<tr><td><a href=\"species/apple.html\">apple</a></td>                      <td>3</td>                      <td>0</td>                      <td>-1</td>                      <td>0</td>                      <td>0</td></tr>\n",
              "<tr><td><a href=\"species/Venturia inaequalis.html\">Venturia inaequalis</a></td>                      <td>1</td>                      <td>1</td>                      <td>0.5</td>                      <td>0</td>                      <td>-1</td></tr>\n",
              "<tr><td><a href=\"species/Spilocaea pomi.html\">Spilocaea pomi</a></td>                      <td>1</td>                      <td>0</td>                      <td>-1</td>                      <td>0</td>                      <td>0</td></tr>\n",
              "<tr><td><a href=\"species/V. inaequalis.html\">V. inaequalis</a></td>                      <td>1</td>                      <td>1</td>                      <td>0.5</td>                      <td>0</td>                      <td>-1</td></tr>\n",
              "<tr><td><a href=\"species/Malus baccata jackii.html\">Malus baccata jackii</a></td>                      <td>1</td>                      <td>0</td>                      <td>-1</td>                      <td>0</td>                      <td>0</td></tr>\n",
              "<tr><td><a href=\"species/M. micromalus.html\">M. micromalus</a></td>                      <td>1</td>                      <td>0</td>                      <td>-1</td>                      <td>0</td>                      <td>0</td></tr>\n",
              "<tr><td><a href=\"species/Arabidopsis thaliana.html\">Arabidopsis thaliana</a></td>                      <td>10</td>                      <td>0</td>                      <td>-1</td>                      <td>0</td>                      <td>0</td></tr>\n",
              "<tr><td><a href=\"species/Oryza sativa.html\">Oryza sativa</a></td>                      <td>7</td>                      <td>0</td>                      <td>-1</td>                      <td>0</td>                      <td>0</td></tr>\n",
              "<tr><td><a href=\"species/cv Cho-Ko-Koku.html\">cv Cho-Ko-Koku</a></td>                      <td>1</td>                      <td>0</td>                      <td>-1</td>                      <td>0</td>                      <td>0</td></tr>\n",
              "<tr><td><a href=\"species/rice plants.html\">rice plants</a></td>                      <td>2</td>                      <td>0</td>                      <td>-1</td>                      <td>0</td>                      <td>0</td></tr>\n",
              "<tr><td><a href=\"species/Rana limnocharis.html\">Rana limnocharis</a></td>                      <td>1</td>                      <td>0</td>                      <td>-1</td>                      <td>0</td>                      <td>0</td></tr>\n",
              "<tr><td><a href=\"species/Diabrotica virgifera.html\">Diabrotica virgifera</a></td>                      <td>2</td>                      <td>0</td>                      <td>-1</td>                      <td>0</td>                      <td>0</td></tr>\n",
              "<tr><td><a href=\"species/Zea mays.html\">Zea mays</a></td>                      <td>6</td>                      <td>0</td>                      <td>-1</td>                      <td>0</td>                      <td>0</td></tr>\n",
              "<tr><td><a href=\"species/Spodoptera littoralis.html\">Spodoptera littoralis</a></td>                      <td>2</td>                      <td>0</td>                      <td>-1</td>                      <td>0</td>                      <td>0</td></tr>\n",
              "<tr><td><a href=\"species/S. littoralis.html\">S. littoralis</a></td>                      <td>2</td>                      <td>0</td>                      <td>-1</td>                      <td>0</td>                      <td>0</td></tr>\n",
              "<tr><td><a href=\"species/Aspergillus oryzae.html\">Aspergillus oryzae</a></td>                      <td>6</td>                      <td>0</td>                      <td>-1</td>                      <td>0</td>                      <td>0</td></tr>\n",
              "<tr><td><a href=\"species/mud crab dicistrovirus.html\">mud crab dicistrovirus</a></td>                      <td>1</td>                      <td>0</td>                      <td>-1</td>                      <td>0</td>                      <td>0</td></tr>\n",
              "<tr><td><a href=\"species/Mud crab dicistrovirus.html\">Mud crab dicistrovirus</a></td>                      <td>1</td>                      <td>0</td>                      <td>-1</td>                      <td>0</td>                      <td>0</td></tr>\n",
              "<tr><td><a href=\"species/MCDV.html\">MCDV</a></td>                      <td>6</td>                      <td>0</td>                      <td>-1</td>                      <td>0</td>                      <td>0</td></tr>\n",
              "<tr><td><a href=\"species/mud crab.html\">mud crab</a></td>                      <td>1</td>                      <td>0</td>                      <td>-1</td>                      <td>0</td>                      <td>0</td></tr>\n",
              "<tr><td><a href=\"species/Pseudomonas syringae pv. tomato.html\">Pseudomonas syringae pv. tomato</a></td>                      <td>1</td>                      <td>0</td>                      <td>-1</td>                      <td>0</td>                      <td>0</td></tr>\n",
              "<tr><td><a href=\"species/Pseudomonas syringae pv. tomato DC3000.html\">Pseudomonas syringae pv. tomato DC3000</a></td>                      <td>1</td>                      <td>0</td>                      <td>-1</td>                      <td>0</td>                      <td>0</td></tr>\n",
              "<tr><td><a href=\"species/Pst DC3000.html\">Pst DC3000</a></td>                      <td>4</td>                      <td>0</td>                      <td>-1</td>                      <td>0</td>                      <td>0</td></tr>\n",
              "<tr><td><a href=\"species/Nicotiana benthamiana.html\">Nicotiana benthamiana</a></td>                      <td>3</td>                      <td>0</td>                      <td>-1</td>                      <td>0</td>                      <td>0</td></tr>\n",
              "<tr><td><a href=\"species/Rumex palustris.html\">Rumex palustris</a></td>                      <td>1</td>                      <td>0</td>                      <td>-1</td>                      <td>0</td>                      <td>0</td></tr>\n",
              "<tr><td><a href=\"species/Phyllotreta striolata.html\">Phyllotreta striolata</a></td>                      <td>1</td>                      <td>0</td>                      <td>-1</td>                      <td>0</td>                      <td>0</td></tr>\n",
              "<tr><td><a href=\"species/Drosophila melanogaster.html\">Drosophila melanogaster</a></td>                      <td>8</td>                      <td>0</td>                      <td>-1</td>                      <td>0</td>                      <td>0</td></tr>\n",
              "<tr><td><a href=\"species/P. striolata.html\">P. striolata</a></td>                      <td>2</td>                      <td>0</td>                      <td>-1</td>                      <td>0</td>                      <td>0</td></tr>\n",
              "<tr><td><a href=\"species/Antheraea assamensis.html\">Antheraea assamensis</a></td>                      <td>2</td>                      <td>0</td>                      <td>-1</td>                      <td>0</td>                      <td>0</td></tr>\n",
              "<tr><td><a href=\"species/Persea bombycina.html\">Persea bombycina</a></td>                      <td>1</td>                      <td>0</td>                      <td>-1</td>                      <td>0</td>                      <td>0</td></tr>\n",
              "<tr><td><a href=\"species/Litsea monopetala.html\">Litsea monopetala</a></td>                      <td>1</td>                      <td>0</td>                      <td>-1</td>                      <td>0</td>                      <td>0</td></tr>\n",
              "<tr><td><a href=\"species/P. bombycina.html\">P. bombycina</a></td>                      <td>1</td>                      <td>0</td>                      <td>-1</td>                      <td>0</td>                      <td>0</td></tr>\n",
              "<tr><td><a href=\"species/L. monopetala.html\">L. monopetala</a></td>                      <td>1</td>                      <td>0</td>                      <td>-1</td>                      <td>0</td>                      <td>0</td></tr>\n",
              "<tr><td><a href=\"species/A. assamensis.html\">A. assamensis</a></td>                      <td>1</td>                      <td>0</td>                      <td>-1</td>                      <td>0</td>                      <td>0</td></tr>\n",
              "<tr><td><a href=\"species/Rhipicephalus appendiculatus.html\">Rhipicephalus appendiculatus</a></td>                      <td>2</td>                      <td>0</td>                      <td>-1</td>                      <td>0</td>                      <td>0</td></tr>\n",
              "<tr><td><a href=\"species/Rhipicephalus (Boophilus) microplus.html\">Rhipicephalus (Boophilus) microplus</a></td>                      <td>1</td>                      <td>0</td>                      <td>-1</td>                      <td>0</td>                      <td>0</td></tr>\n",
              "<tr><td><a href=\"species/R. appendiculatus.html\">R. appendiculatus</a></td>                      <td>1</td>                      <td>0</td>                      <td>-1</td>                      <td>0</td>                      <td>0</td></tr>\n",
              "<tr><td><a href=\"species/human adenoviruses.html\">human adenoviruses</a></td>                      <td>2</td>                      <td>0</td>                      <td>-1</td>                      <td>0</td>                      <td>0</td></tr>\n",
              "<tr><td><a href=\"species/JC polyomaviruses.html\">JC polyomaviruses</a></td>                      <td>2</td>                      <td>1</td>                      <td>0.666</td>                      <td>0</td>                      <td>-1</td></tr>\n",
              "<tr><td><a href=\"species/duck astrovirus.html\">duck astrovirus</a></td>                      <td>1</td>                      <td>0</td>                      <td>-1</td>                      <td>0</td>                      <td>0</td></tr>\n",
              "<tr><td><a href=\"species/Duck astrovirus.html\">Duck astrovirus</a></td>                      <td>1</td>                      <td>0</td>                      <td>-1</td>                      <td>0</td>                      <td>0</td></tr>\n",
              "<tr><td><a href=\"species/DAstV.html\">DAstV</a></td>                      <td>5</td>                      <td>1</td>                      <td>0.833</td>                      <td>0</td>                      <td>-1</td></tr>\n",
              "<tr><td><a href=\"species/duck hepatitis A virus.html\">duck hepatitis A virus</a></td>                      <td>1</td>                      <td>0</td>                      <td>-1</td>                      <td>0</td>                      <td>0</td></tr>\n",
              "<tr><td><a href=\"species/duck plague herpesvirus.html\">duck plague herpesvirus</a></td>                      <td>1</td>                      <td>0</td>                      <td>-1</td>                      <td>0</td>                      <td>0</td></tr>\n",
              "<tr><td><a href=\"species/duck reovirus.html\">duck reovirus</a></td>                      <td>1</td>                      <td>0</td>                      <td>-1</td>                      <td>0</td>                      <td>0</td></tr>\n",
              "<tr><td><a href=\"species/Newcastle disease virus.html\">Newcastle disease virus</a></td>                      <td>7</td>                      <td>0</td>                      <td>-1</td>                      <td>0</td>                      <td>0</td></tr>\n",
              "<tr><td><a href=\"species/Riemerella anatipestifer 12_slash_19.html\">Riemerella anatipestifer 12/19</a></td>                      <td>1</td>                      <td>0</td>                      <td>-1</td>                      <td>0</td>                      <td>0</td></tr>\n",
              "<tr><td><a href=\"species/26_slash_51.html\">26/51</a></td>                      <td>1</td>                      <td>0</td>                      <td>-1</td>                      <td>0</td>                      <td>0</td></tr>\n",
              "<tr><td><a href=\"species/Lotus japonicus.html\">Lotus japonicus</a></td>                      <td>2</td>                      <td>0</td>                      <td>-1</td>                      <td>0</td>                      <td>0</td></tr>\n",
              "<tr><td><a href=\"species/Mesorhizobium loti.html\">Mesorhizobium loti</a></td>                      <td>2</td>                      <td>0</td>                      <td>-1</td>                      <td>0</td>                      <td>0</td></tr>\n",
              "<tr><td><a href=\"species/L. japonicus.html\">L. japonicus</a></td>                      <td>2</td>                      <td>0</td>                      <td>-1</td>                      <td>0</td>                      <td>0</td></tr>\n",
              "<tr><td><a href=\"species/M. loti.html\">M. loti</a></td>                      <td>2</td>                      <td>0</td>                      <td>-1</td>                      <td>0</td>                      <td>0</td></tr>\n",
              "<tr><td><a href=\"species/Artemisia annua plants.html\">Artemisia annua plants</a></td>                      <td>2</td>                      <td>0</td>                      <td>-1</td>                      <td>0</td>                      <td>0</td></tr>\n",
              "<tr><td><a href=\"species/A. annua.html\">A. annua</a></td>                      <td>1</td>                      <td>0</td>                      <td>-1</td>                      <td>0</td>                      <td>0</td></tr>\n",
              "<tr><td><a href=\"species/A. annua plants.html\">A. annua plants</a></td>                      <td>1</td>                      <td>0</td>                      <td>-1</td>                      <td>0</td>                      <td>0</td></tr>\n",
              "<tr><td><a href=\"species/white-throated dipper.html\">white-throated dipper</a></td>                      <td>2</td>                      <td>0</td>                      <td>-1</td>                      <td>0</td>                      <td>0</td></tr>\n",
              "<tr><td><a href=\"species/Cinclus cinclus.html\">Cinclus cinclus</a></td>                      <td>2</td>                      <td>0</td>                      <td>-1</td>                      <td>0</td>                      <td>0</td></tr>\n",
              "<tr><td><a href=\"species/long-tailed finches.html\">long-tailed finches</a></td>                      <td>3</td>                      <td>0</td>                      <td>-1</td>                      <td>0</td>                      <td>0</td></tr>\n",
              "<tr><td><a href=\"species/Gouldian finch.html\">Gouldian finch</a></td>                      <td>4</td>                      <td>0</td>                      <td>-1</td>                      <td>0</td>                      <td>0</td></tr>\n",
              "<tr><td><a href=\"species/Erythrura gouldiae.html\">Erythrura gouldiae</a></td>                      <td>1</td>                      <td>0</td>                      <td>-1</td>                      <td>0</td>                      <td>0</td></tr>\n",
              "<tr><td><a href=\"species/long-tailed finch.html\">long-tailed finch</a></td>                      <td>1</td>                      <td>0</td>                      <td>-1</td>                      <td>0</td>                      <td>0</td></tr>\n",
              "<tr><td><a href=\"species/Poephila acuticauda.html\">Poephila acuticauda</a></td>                      <td>1</td>                      <td>0</td>                      <td>-1</td>                      <td>0</td>                      <td>0</td></tr>\n",
              "<tr><td><a href=\"species/Gouldian.html\">Gouldian</a></td>                      <td>1</td>                      <td>0</td>                      <td>-1</td>                      <td>0</td>                      <td>0</td></tr>\n",
              "<tr><td><a href=\"species/rainbowfish.html\">rainbowfish</a></td>                      <td>1</td>                      <td>0</td>                      <td>-1</td>                      <td>0</td>                      <td>0</td></tr>\n",
              "<tr><td><a href=\"species/Melanotaenia australis.html\">Melanotaenia australis</a></td>                      <td>2</td>                      <td>0</td>                      <td>-1</td>                      <td>0</td>                      <td>0</td></tr>\n",
              "<tr><td><a href=\"species/western rainbowfish.html\">western rainbowfish</a></td>                      <td>1</td>                      <td>0</td>                      <td>-1</td>                      <td>0</td>                      <td>0</td></tr>\n",
              "<tr><td><a href=\"species/M. australis.html\">M. australis</a></td>                      <td>5</td>                      <td>0</td>                      <td>-1</td>                      <td>0</td>                      <td>0</td></tr>\n",
              "<tr><td><a href=\"species/Somateria mollissima.html\">Somateria mollissima</a></td>                      <td>1</td>                      <td>0</td>                      <td>-1</td>                      <td>0</td>                      <td>0</td></tr>\n",
              "<tr><td><a href=\"species/Thlaspi caerulescens.html\">Thlaspi caerulescens</a></td>                      <td>1</td>                      <td>0</td>                      <td>-1</td>                      <td>0</td>                      <td>0</td></tr>\n",
              "<tr><td><a href=\"species/Thlaspi caerulescens (Ganges ecotype).html\">Thlaspi caerulescens (Ganges ecotype)</a></td>                      <td>1</td>                      <td>0</td>                      <td>-1</td>                      <td>0</td>                      <td>0</td></tr>\n",
              "<tr><td><a href=\"species/maize.html\">maize</a></td>                      <td>25</td>                      <td>3</td>                      <td>0.892</td>                      <td>0</td>                      <td>-1</td></tr>\n",
              "<tr><td><a href=\"species/tobacco.html\">tobacco</a></td>                      <td>15</td>                      <td>2</td>                      <td>0.882</td>                      <td>0</td>                      <td>-1</td></tr>\n",
              "<tr><td><a href=\"species/Nicotiana tabacum.html\">Nicotiana tabacum</a></td>                      <td>1</td>                      <td>0</td>                      <td>-1</td>                      <td>0</td>                      <td>0</td></tr>\n",
              "<tr><td><a href=\"species/A. thaliana.html\">A. thaliana</a></td>                      <td>4</td>                      <td>0</td>                      <td>-1</td>                      <td>0</td>                      <td>0</td></tr>\n",
              "<tr><td><a href=\"species/Pinus sylvestris.html\">Pinus sylvestris</a></td>                      <td>1</td>                      <td>0</td>                      <td>-1</td>                      <td>0</td>                      <td>0</td></tr>\n",
              "<tr><td><a href=\"species/Ginkgo biloba.html\">Ginkgo biloba</a></td>                      <td>2</td>                      <td>0</td>                      <td>-1</td>                      <td>0</td>                      <td>0</td></tr>\n",
              "<tr><td><a href=\"species/G. biloba.html\">G. biloba</a></td>                      <td>1</td>                      <td>0</td>                      <td>-1</td>                      <td>0</td>                      <td>0</td></tr>\n",
              "<tr><td><a href=\"species/Chlorella vulgaris.html\">Chlorella vulgaris</a></td>                      <td>1</td>                      <td>0</td>                      <td>-1</td>                      <td>0</td>                      <td>0</td></tr>\n",
              "<tr><td><a href=\"species/Paramecium bursaria.html\">Paramecium bursaria</a></td>                      <td>2</td>                      <td>0</td>                      <td>-1</td>                      <td>0</td>                      <td>0</td></tr>\n",
              "<tr><td><a href=\"species/P. bursaria.html\">P. bursaria</a></td>                      <td>1</td>                      <td>0</td>                      <td>-1</td>                      <td>0</td>                      <td>0</td></tr>\n",
              "<tr><td><a href=\"species/infectious hypodermal and hematopoietic necrosis virus.html\">infectious hypodermal and hematopoietic necrosis virus</a></td>                      <td>1</td>                      <td>0</td>                      <td>-1</td>                      <td>0</td>                      <td>0</td></tr>\n",
              "<tr><td><a href=\"species/Infectious hypodermal and hematopoietic necrosis virus.html\">Infectious hypodermal and hematopoietic necrosis virus</a></td>                      <td>1</td>                      <td>0</td>                      <td>-1</td>                      <td>0</td>                      <td>0</td></tr>\n",
              "<tr><td><a href=\"species/IHHNV.html\">IHHNV</a></td>                      <td>3</td>                      <td>0</td>                      <td>-1</td>                      <td>0</td>                      <td>0</td></tr>\n",
              "<tr><td><a href=\"species/Penaeus stylirostris.html\">Penaeus stylirostris</a></td>                      <td>1</td>                      <td>1</td>                      <td>0.5</td>                      <td>0</td>                      <td>-1</td></tr>\n",
              "<tr><td><a href=\"species/Penaeus vannamei.html\">Penaeus vannamei</a></td>                      <td>1</td>                      <td>1</td>                      <td>0.5</td>                      <td>0</td>                      <td>-1</td></tr>\n",
              "<tr><td><a href=\"species/Fusarium verticillioides.html\">Fusarium verticillioides</a></td>                      <td>2</td>                      <td>0</td>                      <td>-1</td>                      <td>0</td>                      <td>0</td></tr>\n",
              "<tr><td><a href=\"species/F. verticillioides.html\">F. verticillioides</a></td>                      <td>2</td>                      <td>0</td>                      <td>-1</td>                      <td>0</td>                      <td>0</td></tr>\n",
              "<tr><td><a href=\"species/F. oxysporum.html\">F. oxysporum</a></td>                      <td>2</td>                      <td>0</td>                      <td>-1</td>                      <td>0</td>                      <td>0</td></tr>\n",
              "<tr><td><a href=\"species/F. graminearum.html\">F. graminearum</a></td>                      <td>12</td>                      <td>0</td>                      <td>-1</td>                      <td>0</td>                      <td>0</td></tr>\n",
              "<tr><td><a href=\"species/corn.html\">corn</a></td>                      <td>7</td>                      <td>1</td>                      <td>0.875</td>                      <td>0</td>                      <td>-1</td></tr>\n",
              "<tr><td><a href=\"species/morels.html\">morels</a></td>                      <td>2</td>                      <td>0</td>                      <td>-1</td>                      <td>0</td>                      <td>0</td></tr>\n",
              "<tr><td><a href=\"species/Morchella rufobrunnea.html\">Morchella rufobrunnea</a></td>                      <td>1</td>                      <td>0</td>                      <td>-1</td>                      <td>0</td>                      <td>0</td></tr>\n",
              "<tr><td><a href=\"species/black morels.html\">black morels</a></td>                      <td>1</td>                      <td>0</td>                      <td>-1</td>                      <td>0</td>                      <td>0</td></tr>\n",
              "<tr><td><a href=\"species/yellow morels.html\">yellow morels</a></td>                      <td>1</td>                      <td>0</td>                      <td>-1</td>                      <td>0</td>                      <td>0</td></tr>\n",
              "<tr><td><a href=\"species/Morels.html\">Morels</a></td>                      <td>1</td>                      <td>0</td>                      <td>-1</td>                      <td>0</td>                      <td>0</td></tr>\n",
              "<tr><td><a href=\"species/Cronartium quercuum f.sp. fusiforme.html\">Cronartium quercuum f.sp. fusiforme</a></td>                      <td>2</td>                      <td>0</td>                      <td>-1</td>                      <td>0</td>                      <td>0</td></tr>\n",
              "<tr><td><a href=\"species/loblolly pine.html\">loblolly pine</a></td>                      <td>1</td>                      <td>0</td>                      <td>-1</td>                      <td>0</td>                      <td>0</td></tr>\n",
              "<tr><td><a href=\"species/narcissus bulb fly.html\">narcissus bulb fly</a></td>                      <td>1</td>                      <td>0</td>                      <td>-1</td>                      <td>0</td>                      <td>0</td></tr>\n",
              "<tr><td><a href=\"species/Merodon equestris.html\">Merodon equestris</a></td>                      <td>1</td>                      <td>0</td>                      <td>-1</td>                      <td>0</td>                      <td>0</td></tr>\n",
              "<tr><td><a href=\"species/house fly.html\">house fly</a></td>                      <td>1</td>                      <td>0</td>                      <td>-1</td>                      <td>0</td>                      <td>0</td></tr>\n",
              "<tr><td><a href=\"species/Musca domestica.html\">Musca domestica</a></td>                      <td>6</td>                      <td>0</td>                      <td>-1</td>                      <td>0</td>                      <td>0</td></tr>\n",
              "<tr><td><a href=\"species/Glossinia pallidipes.html\">Glossinia pallidipes</a></td>                      <td>1</td>                      <td>0</td>                      <td>-1</td>                      <td>0</td>                      <td>0</td></tr>\n",
              "<tr><td><a href=\"species/cassava.html\">cassava</a></td>                      <td>7</td>                      <td>0</td>                      <td>-1</td>                      <td>0</td>                      <td>0</td></tr>\n",
              "<tr><td><a href=\"species/Manihot glaziovii.html\">Manihot glaziovii</a></td>                      <td>2</td>                      <td>0</td>                      <td>-1</td>                      <td>0</td>                      <td>0</td></tr>\n",
              "<tr><td><a href=\"species/Cassava brown streak virus.html\">Cassava brown streak virus</a></td>                      <td>1</td>                      <td>0</td>                      <td>-1</td>                      <td>0</td>                      <td>0</td></tr>\n",
              "<tr><td><a href=\"species/CBSV.html\">CBSV</a></td>                      <td>5</td>                      <td>0</td>                      <td>-1</td>                      <td>0</td>                      <td>0</td></tr>\n",
              "<tr><td><a href=\"species/Ugandan cassava brown streak virus.html\">Ugandan cassava brown streak virus</a></td>                      <td>1</td>                      <td>0</td>                      <td>-1</td>                      <td>0</td>                      <td>0</td></tr>\n",
              "<tr><td><a href=\"species/UCBSV.html\">UCBSV</a></td>                      <td>5</td>                      <td>0</td>                      <td>-1</td>                      <td>0</td>                      <td>0</td></tr>\n",
              "<tr><td><a href=\"species/porcine circovirus type 2.html\">porcine circovirus type 2</a></td>                      <td>1</td>                      <td>0</td>                      <td>-1</td>                      <td>0</td>                      <td>0</td></tr>\n",
              "<tr><td><a href=\"species/porcine circovirus type 2 (PCV2).html\">porcine circovirus type 2 (PCV2)</a></td>                      <td>1</td>                      <td>0</td>                      <td>-1</td>                      <td>0</td>                      <td>0</td></tr>\n",
              "<tr><td><a href=\"species/pig.html\">pig</a></td>                      <td>3</td>                      <td>0</td>                      <td>-1</td>                      <td>0</td>                      <td>0</td></tr>\n",
              "<tr><td><a href=\"species/pigs.html\">pigs</a></td>                      <td>2</td>                      <td>2</td>                      <td>0.5</td>                      <td>0</td>                      <td>-1</td></tr>\n",
              "<tr><td><a href=\"species/Oramoeba fumarolia.html\">Oramoeba fumarolia</a></td>                      <td>2</td>                      <td>0</td>                      <td>-1</td>                      <td>0</td>                      <td>0</td></tr>\n",
              "<tr><td><a href=\"species/Stachyamoeba sp. ATCC50324.html\">Stachyamoeba sp. ATCC50324</a></td>                      <td>1</td>                      <td>0</td>                      <td>-1</td>                      <td>0</td>                      <td>0</td></tr>\n",
              "<tr><td><a href=\"species/Vrihiamoeba italica.html\">Vrihiamoeba italica</a></td>                      <td>1</td>                      <td>0</td>                      <td>-1</td>                      <td>0</td>                      <td>0</td></tr>\n",
              "<tr><td><a href=\"species/Odontoglossum ringspot virus.html\">Odontoglossum ringspot virus</a></td>                      <td>2</td>                      <td>0</td>                      <td>-1</td>                      <td>0</td>                      <td>0</td></tr>\n",
              "<tr><td><a href=\"species/ORSV.html\">ORSV</a></td>                      <td>7</td>                      <td>0</td>                      <td>-1</td>                      <td>0</td>                      <td>0</td></tr>\n",
              "<tr><td><a href=\"species/Soybean dwarf virus.html\">Soybean dwarf virus</a></td>                      <td>1</td>                      <td>0</td>                      <td>-1</td>                      <td>0</td>                      <td>0</td></tr>\n",
              "<tr><td><a href=\"species/SbDV.html\">SbDV</a></td>                      <td>2</td>                      <td>0</td>                      <td>-1</td>                      <td>0</td>                      <td>0</td></tr>\n",
              "<tr><td><a href=\"species/Bean leafroll virus.html\">Bean leafroll virus</a></td>                      <td>1</td>                      <td>0</td>                      <td>-1</td>                      <td>0</td>                      <td>0</td></tr>\n",
              "<tr><td><a href=\"species/BLRV.html\">BLRV</a></td>                      <td>2</td>                      <td>0</td>                      <td>-1</td>                      <td>0</td>                      <td>0</td></tr>\n",
              "<tr><td><a href=\"species/Beet chlorosis virus.html\">Beet chlorosis virus</a></td>                      <td>1</td>                      <td>0</td>                      <td>-1</td>                      <td>0</td>                      <td>0</td></tr>\n",
              "<tr><td><a href=\"species/BChV.html\">BChV</a></td>                      <td>2</td>                      <td>0</td>                      <td>-1</td>                      <td>0</td>                      <td>0</td></tr>\n",
              "<tr><td><a href=\"species/Beet mild yellowing virus.html\">Beet mild yellowing virus</a></td>                      <td>1</td>                      <td>0</td>                      <td>-1</td>                      <td>0</td>                      <td>0</td></tr>\n",
              "<tr><td><a href=\"species/BMYV.html\">BMYV</a></td>                      <td>2</td>                      <td>0</td>                      <td>-1</td>                      <td>0</td>                      <td>0</td></tr>\n",
              "<tr><td><a href=\"species/Beet western yellows virus.html\">Beet western yellows virus</a></td>                      <td>1</td>                      <td>0</td>                      <td>-1</td>                      <td>0</td>                      <td>0</td></tr>\n",
              "<tr><td><a href=\"species/BWYV.html\">BWYV</a></td>                      <td>2</td>                      <td>0</td>                      <td>-1</td>                      <td>0</td>                      <td>0</td></tr>\n",
              "<tr><td><a href=\"species/Cereal yellow dwarf virus-RPV.html\">Cereal yellow dwarf virus-RPV</a></td>                      <td>1</td>                      <td>0</td>                      <td>-1</td>                      <td>0</td>                      <td>0</td></tr>\n",
              "<tr><td><a href=\"species/CYDV-RPV.html\">CYDV-RPV</a></td>                      <td>2</td>                      <td>0</td>                      <td>-1</td>                      <td>0</td>                      <td>0</td></tr>\n",
              "<tr><td><a href=\"species/Cucurbit aphid-borne yellows virus.html\">Cucurbit aphid-borne yellows virus</a></td>                      <td>1</td>                      <td>0</td>                      <td>-1</td>                      <td>0</td>                      <td>0</td></tr>\n",
              "<tr><td><a href=\"species/CABYV.html\">CABYV</a></td>                      <td>2</td>                      <td>0</td>                      <td>-1</td>                      <td>0</td>                      <td>0</td></tr>\n",
              "<tr><td><a href=\"species/Potato leafroll virus.html\">Potato leafroll virus</a></td>                      <td>1</td>                      <td>0</td>                      <td>-1</td>                      <td>0</td>                      <td>0</td></tr>\n",
              "<tr><td><a href=\"species/PLRV.html\">PLRV</a></td>                      <td>2</td>                      <td>0</td>                      <td>-1</td>                      <td>0</td>                      <td>0</td></tr>\n",
              "<tr><td><a href=\"species/Turnip yellows virus.html\">Turnip yellows virus</a></td>                      <td>1</td>                      <td>0</td>                      <td>-1</td>                      <td>0</td>                      <td>0</td></tr>\n",
              "<tr><td><a href=\"species/TuYV.html\">TuYV</a></td>                      <td>2</td>                      <td>0</td>                      <td>-1</td>                      <td>0</td>                      <td>0</td></tr>\n",
              "<tr><td><a href=\"species/tick-borne encephalitis virus.html\">tick-borne encephalitis virus</a></td>                      <td>1</td>                      <td>0</td>                      <td>-1</td>                      <td>0</td>                      <td>0</td></tr>\n",
              "<tr><td><a href=\"species/Tick-borne encephalitis (TBE) virus.html\">Tick-borne encephalitis (TBE) virus</a></td>                      <td>1</td>                      <td>0</td>                      <td>-1</td>                      <td>0</td>                      <td>0</td></tr>\n",
              "<tr><td><a href=\"species/TBE.html\">TBE</a></td>                      <td>3</td>                      <td>0</td>                      <td>-1</td>                      <td>0</td>                      <td>0</td></tr>\n",
              "<tr><td><a href=\"species/TBE virus.html\">TBE virus</a></td>                      <td>6</td>                      <td>0</td>                      <td>-1</td>                      <td>0</td>                      <td>0</td></tr>\n",
              "<tr><td><a href=\"species/TBE viruses.html\">TBE viruses</a></td>                      <td>1</td>                      <td>0</td>                      <td>-1</td>                      <td>0</td>                      <td>0</td></tr>\n",
              "<tr><td><a href=\"species/canine.html\">canine</a></td>                      <td>2</td>                      <td>0</td>                      <td>-1</td>                      <td>0</td>                      <td>0</td></tr>\n",
              "<tr><td><a href=\"species/vaccinia virus.html\">vaccinia virus</a></td>                      <td>8</td>                      <td>0</td>                      <td>-1</td>                      <td>0</td>                      <td>0</td></tr>\n",
              "<tr><td><a href=\"species/mice.html\">mice</a></td>                      <td>31</td>                      <td>21</td>                      <td>0.596</td>                      <td>0</td>                      <td>-1</td></tr>\n",
              "<tr><td><a href=\"species/VV.html\">VV</a></td>                      <td>5</td>                      <td>1</td>                      <td>0.833</td>                      <td>0</td>                      <td>-1</td></tr>\n",
              "<tr><td><a href=\"species/mouse.html\">mouse</a></td>                      <td>23</td>                      <td>4</td>                      <td>0.851</td>                      <td>0</td>                      <td>-1</td></tr>\n",
              "<tr><td><a href=\"species/tobacco budworm.html\">tobacco budworm</a></td>                      <td>2</td>                      <td>0</td>                      <td>-1</td>                      <td>0</td>                      <td>0</td></tr>\n",
              "<tr><td><a href=\"species/Heliothis virescens.html\">Heliothis virescens</a></td>                      <td>5</td>                      <td>0</td>                      <td>-1</td>                      <td>0</td>                      <td>0</td></tr>\n",
              "<tr><td><a href=\"species/H. virescens.html\">H. virescens</a></td>                      <td>3</td>                      <td>0</td>                      <td>-1</td>                      <td>0</td>                      <td>0</td></tr>\n",
              "<tr><td><a href=\"species/dengue.html\">dengue</a></td>                      <td>9</td>                      <td>2</td>                      <td>0.818</td>                      <td>0</td>                      <td>-1</td></tr>\n",
              "<tr><td><a href=\"species/dengue virus.html\">dengue virus</a></td>                      <td>5</td>                      <td>0</td>                      <td>-1</td>                      <td>0</td>                      <td>0</td></tr>\n",
              "<tr><td><a href=\"species/chicken.html\">chicken</a></td>                      <td>5</td>                      <td>0</td>                      <td>-1</td>                      <td>0</td>                      <td>0</td></tr>\n",
              "<tr><td><a href=\"species/NDV.html\">NDV</a></td>                      <td>12</td>                      <td>0</td>                      <td>-1</td>                      <td>0</td>                      <td>0</td></tr>\n",
              "<tr><td><a href=\"species/poultry.html\">poultry</a></td>                      <td>1</td>                      <td>3</td>                      <td>0.25</td>                      <td>0</td>                      <td>-1</td></tr>\n",
              "<tr><td><a href=\"species/peach.html\">peach</a></td>                      <td>3</td>                      <td>1</td>                      <td>0.75</td>                      <td>0</td>                      <td>-1</td></tr>\n",
              "<tr><td><a href=\"species/foot-and-mouth disease virus O.html\">foot-and-mouth disease virus O</a></td>                      <td>1</td>                      <td>0</td>                      <td>-1</td>                      <td>0</td>                      <td>0</td></tr>\n",
              "<tr><td><a href=\"species/A.html\">A</a></td>                      <td>4</td>                      <td>174</td>                      <td>0.022</td>                      <td>0</td>                      <td>-1</td></tr>\n",
              "<tr><td><a href=\"species/Asia 1.html\">Asia 1</a></td>                      <td>4</td>                      <td>0</td>                      <td>-1</td>                      <td>0</td>                      <td>0</td></tr>\n",
              "<tr><td><a href=\"species/foot-and-mouth disease virus.html\">foot-and-mouth disease virus</a></td>                      <td>1</td>                      <td>0</td>                      <td>-1</td>                      <td>0</td>                      <td>0</td></tr>\n",
              "<tr><td><a href=\"species/FMDV.html\">FMDV</a></td>                      <td>2</td>                      <td>0</td>                      <td>-1</td>                      <td>0</td>                      <td>0</td></tr>\n",
              "<tr><td><a href=\"species/O.html\">O</a></td>                      <td>3</td>                      <td>19</td>                      <td>0.136</td>                      <td>0</td>                      <td>-1</td></tr>\n",
              "<tr><td><a href=\"species/rabbits.html\">rabbits</a></td>                      <td>2</td>                      <td>0</td>                      <td>-1</td>                      <td>0</td>                      <td>0</td></tr>\n",
              "<tr><td><a href=\"species/O_slash_CHA_slash_99.html\">O/CHA/99</a></td>                      <td>1</td>                      <td>0</td>                      <td>-1</td>                      <td>0</td>                      <td>0</td></tr>\n",
              "<tr><td><a href=\"species/A_slash_GS_slash_LX_slash_66.html\">A/GS/LX/66</a></td>                      <td>1</td>                      <td>0</td>                      <td>-1</td>                      <td>0</td>                      <td>0</td></tr>\n",
              "<tr><td><a href=\"species/Asia 1_slash_CHN_slash_05.html\">Asia 1/CHN/05</a></td>                      <td>1</td>                      <td>0</td>                      <td>-1</td>                      <td>0</td>                      <td>0</td></tr>\n",
              "<tr><td><a href=\"species/O_slash_AV99(L).html\">O/AV99(L)</a></td>                      <td>1</td>                      <td>0</td>                      <td>-1</td>                      <td>0</td>                      <td>0</td></tr>\n",
              "<tr><td><a href=\"species/A_slash_AV88(L).html\">A/AV88(L)</a></td>                      <td>1</td>                      <td>0</td>                      <td>-1</td>                      <td>0</td>                      <td>0</td></tr>\n",
              "<tr><td><a href=\"species/Asia 1_slash_YNBS_slash_58.html\">Asia 1/YNBS/58</a></td>                      <td>1</td>                      <td>0</td>                      <td>-1</td>                      <td>0</td>                      <td>0</td></tr>\n",
              "<tr><td><a href=\"species/FMDV type Asia 1.html\">FMDV type Asia 1</a></td>                      <td>1</td>                      <td>0</td>                      <td>-1</td>                      <td>0</td>                      <td>0</td></tr>\n",
              "<tr><td><a href=\"species/Aleutian mink disease virus.html\">Aleutian mink disease virus</a></td>                      <td>1</td>                      <td>0</td>                      <td>-1</td>                      <td>0</td>                      <td>0</td></tr>\n",
              "<tr><td><a href=\"species/Aleutian mink disease virus (AMDV).html\">Aleutian mink disease virus (AMDV)</a></td>                      <td>1</td>                      <td>0</td>                      <td>-1</td>                      <td>0</td>                      <td>0</td></tr>\n",
              "<tr><td><a href=\"species/mink.html\">mink</a></td>                      <td>2</td>                      <td>0</td>                      <td>-1</td>                      <td>0</td>                      <td>0</td></tr>\n",
              "<tr><td><a href=\"species/AMDV.html\">AMDV</a></td>                      <td>2</td>                      <td>0</td>                      <td>-1</td>                      <td>0</td>                      <td>0</td></tr>\n",
              "<tr><td><a href=\"species/Mink.html\">Mink</a></td>                      <td>1</td>                      <td>0</td>                      <td>-1</td>                      <td>0</td>                      <td>0</td></tr>\n",
              "<tr><td><a href=\"species/AMDV strains.html\">AMDV strains</a></td>                      <td>2</td>                      <td>0</td>                      <td>-1</td>                      <td>0</td>                      <td>0</td></tr>\n",
              "<tr><td><a href=\"species/pandemic influenza virus.html\">pandemic influenza virus</a></td>                      <td>1</td>                      <td>0</td>                      <td>-1</td>                      <td>0</td>                      <td>0</td></tr>\n",
              "<tr><td><a href=\"species/Influenza A virus.html\">Influenza A virus</a></td>                      <td>1</td>                      <td>0</td>                      <td>-1</td>                      <td>0</td>                      <td>0</td></tr>\n",
              "<tr><td><a href=\"species/Solanum lycopersicum.html\">Solanum lycopersicum</a></td>                      <td>1</td>                      <td>0</td>                      <td>-1</td>                      <td>0</td>                      <td>0</td></tr>\n",
              "<tr><td><a href=\"species/Dunaliella tertiolecta.html\">Dunaliella tertiolecta</a></td>                      <td>1</td>                      <td>0</td>                      <td>-1</td>                      <td>0</td>                      <td>0</td></tr>\n",
              "<tr><td><a href=\"species/Pelargonium x hortorum.html\">Pelargonium x hortorum</a></td>                      <td>2</td>                      <td>0</td>                      <td>-1</td>                      <td>0</td>                      <td>0</td></tr>\n",
              "<tr><td><a href=\"species/barley.html\">barley</a></td>                      <td>10</td>                      <td>0</td>                      <td>-1</td>                      <td>0</td>                      <td>0</td></tr>\n",
              "<tr><td><a href=\"species/Lolium perenne.html\">Lolium perenne</a></td>                      <td>1</td>                      <td>0</td>                      <td>-1</td>                      <td>0</td>                      <td>0</td></tr>\n",
              "<tr><td><a href=\"species/Fusarium graminearum.html\">Fusarium graminearum</a></td>                      <td>6</td>                      <td>0</td>                      <td>-1</td>                      <td>0</td>                      <td>0</td></tr>\n",
              "<tr><td><a href=\"species/wheat.html\">wheat</a></td>                      <td>19</td>                      <td>7</td>                      <td>0.730</td>                      <td>0</td>                      <td>-1</td></tr>\n",
              "<tr><td><a href=\"species/Blumeria graminis f. sp. tritici.html\">Blumeria graminis f. sp. tritici</a></td>                      <td>1</td>                      <td>0</td>                      <td>-1</td>                      <td>0</td>                      <td>0</td></tr>\n",
              "<tr><td><a href=\"species/B.g. tritici.html\">B.g. tritici</a></td>                      <td>5</td>                      <td>0</td>                      <td>-1</td>                      <td>0</td>                      <td>0</td></tr>\n",
              "<tr><td><a href=\"species/hordei.html\">hordei</a></td>                      <td>1</td>                      <td>0</td>                      <td>-1</td>                      <td>0</td>                      <td>0</td></tr>\n",
              "<tr><td><a href=\"species/B.g. hordei.html\">B.g. hordei</a></td>                      <td>5</td>                      <td>0</td>                      <td>-1</td>                      <td>0</td>                      <td>0</td></tr>\n",
              "<tr><td><a href=\"species/Bombus terrestris.html\">Bombus terrestris</a></td>                      <td>6</td>                      <td>0</td>                      <td>-1</td>                      <td>0</td>                      <td>0</td></tr>\n",
              "<tr><td><a href=\"species/B. terrestris.html\">B. terrestris</a></td>                      <td>2</td>                      <td>0</td>                      <td>-1</td>                      <td>0</td>                      <td>0</td></tr>\n",
              "<tr><td><a href=\"species/Aedes aegypti.html\">Aedes aegypti</a></td>                      <td>9</td>                      <td>0</td>                      <td>-1</td>                      <td>0</td>                      <td>0</td></tr>\n",
              "<tr><td><a href=\"species/Anopheles gambiae.html\">Anopheles gambiae</a></td>                      <td>3</td>                      <td>0</td>                      <td>-1</td>                      <td>0</td>                      <td>0</td></tr>\n",
              "<tr><td><a href=\"species/Anopheles quadrimaculatus.html\">Anopheles quadrimaculatus</a></td>                      <td>1</td>                      <td>0</td>                      <td>-1</td>                      <td>0</td>                      <td>0</td></tr>\n",
              "<tr><td><a href=\"species/Ae. aegypti.html\">Ae. aegypti</a></td>                      <td>7</td>                      <td>0</td>                      <td>-1</td>                      <td>0</td>                      <td>0</td></tr>\n",
              "<tr><td><a href=\"species/An. gambiae.html\">An. gambiae</a></td>                      <td>3</td>                      <td>0</td>                      <td>-1</td>                      <td>0</td>                      <td>0</td></tr>\n",
              "<tr><td><a href=\"species/Tuber melanosporum.html\">Tuber melanosporum</a></td>                      <td>11</td>                      <td>0</td>                      <td>-1</td>                      <td>0</td>                      <td>0</td></tr>\n",
              "<tr><td><a href=\"species/T. melanosporum.html\">T. melanosporum</a></td>                      <td>9</td>                      <td>0</td>                      <td>-1</td>                      <td>0</td>                      <td>0</td></tr>\n",
              "<tr><td><a href=\"species/Omegastrombidium elegans.html\">Omegastrombidium elegans</a></td>                      <td>1</td>                      <td>0</td>                      <td>-1</td>                      <td>0</td>                      <td>0</td></tr>\n",
              "<tr><td><a href=\"species/hepatitis C virus.html\">hepatitis C virus</a></td>                      <td>4</td>                      <td>1</td>                      <td>0.8</td>                      <td>0</td>                      <td>-1</td></tr>\n",
              "<tr><td><a href=\"species/HCV.html\">HCV</a></td>                      <td>28</td>                      <td>6</td>                      <td>0.823</td>                      <td>0</td>                      <td>-1</td></tr>\n",
              "<tr><td><a href=\"species/anti-HCV.html\">anti-HCV</a></td>                      <td>1</td>                      <td>0</td>                      <td>-1</td>                      <td>0</td>                      <td>0</td></tr>\n",
              "<tr><td><a href=\"species/Chikungunya virus.html\">Chikungunya virus</a></td>                      <td>3</td>                      <td>0</td>                      <td>-1</td>                      <td>0</td>                      <td>0</td></tr>\n",
              "<tr><td><a href=\"species/CHIKV.html\">CHIKV</a></td>                      <td>7</td>                      <td>0</td>                      <td>-1</td>                      <td>0</td>                      <td>0</td></tr>\n",
              "<tr><td><a href=\"species/HIV-1.html\">HIV-1</a></td>                      <td>56</td>                      <td>0</td>                      <td>-1</td>                      <td>0</td>                      <td>0</td></tr>\n",
              "<tr><td><a href=\"species/HIV.html\">HIV</a></td>                      <td>38</td>                      <td>13</td>                      <td>0.745</td>                      <td>0</td>                      <td>-1</td></tr>\n",
              "<tr><td><a href=\"species/human cytomegalovirus.html\">human cytomegalovirus</a></td>                      <td>3</td>                      <td>0</td>                      <td>-1</td>                      <td>0</td>                      <td>0</td></tr>\n",
              "<tr><td><a href=\"species/Human cytomegalovirus.html\">Human cytomegalovirus</a></td>                      <td>1</td>                      <td>0</td>                      <td>-1</td>                      <td>0</td>                      <td>0</td></tr>\n",
              "<tr><td><a href=\"species/HCMV.html\">HCMV</a></td>                      <td>14</td>                      <td>0</td>                      <td>-1</td>                      <td>0</td>                      <td>0</td></tr>\n",
              "<tr><td><a href=\"species/swine.html\">swine</a></td>                      <td>5</td>                      <td>0</td>                      <td>-1</td>                      <td>0</td>                      <td>0</td></tr>\n",
              "<tr><td><a href=\"species/influenza virus.html\">influenza virus</a></td>                      <td>7</td>                      <td>8</td>                      <td>0.466</td>                      <td>0</td>                      <td>-1</td></tr>\n",
              "<tr><td><a href=\"species/H1N1 viruses.html\">H1N1 viruses</a></td>                      <td>2</td>                      <td>0</td>                      <td>-1</td>                      <td>0</td>                      <td>0</td></tr>\n",
              "<tr><td><a href=\"species/swine-origin influenza A (H1N1) virus.html\">swine-origin influenza A (H1N1) virus</a></td>                      <td>1</td>                      <td>0</td>                      <td>-1</td>                      <td>0</td>                      <td>0</td></tr>\n",
              "<tr><td><a href=\"species/H9N2 virus.html\">H9N2 virus</a></td>                      <td>1</td>                      <td>0</td>                      <td>-1</td>                      <td>0</td>                      <td>0</td></tr>\n",
              "<tr><td><a href=\"species/chickens.html\">chickens</a></td>                      <td>3</td>                      <td>0</td>                      <td>-1</td>                      <td>0</td>                      <td>0</td></tr>\n",
              "<tr><td><a href=\"species/A_slash_turkey_slash_OH_slash_313053_slash_04 (H3N2).html\">A/turkey/OH/313053/04 (H3N2)</a></td>                      <td>1</td>                      <td>0</td>                      <td>-1</td>                      <td>0</td>                      <td>0</td></tr>\n",
              "<tr><td><a href=\"species/H1N1.html\">H1N1</a></td>                      <td>4</td>                      <td>6</td>                      <td>0.4</td>                      <td>0</td>                      <td>-1</td></tr>\n",
              "<tr><td><a href=\"species/hepatitis B virus.html\">hepatitis B virus</a></td>                      <td>6</td>                      <td>0</td>                      <td>-1</td>                      <td>0</td>                      <td>0</td></tr>\n",
              "<tr><td><a href=\"species/HBV.html\">HBV</a></td>                      <td>15</td>                      <td>2</td>                      <td>0.882</td>                      <td>0</td>                      <td>-1</td></tr>\n",
              "<tr><td><a href=\"species/Poliovirus.html\">Poliovirus</a></td>                      <td>3</td>                      <td>0</td>                      <td>-1</td>                      <td>0</td>                      <td>0</td></tr>\n",
              "<tr><td><a href=\"species/PV.html\">PV</a></td>                      <td>5</td>                      <td>0</td>                      <td>-1</td>                      <td>0</td>                      <td>0</td></tr>\n",
              "<tr><td><a href=\"species/poliovirus.html\">poliovirus</a></td>                      <td>3</td>                      <td>0</td>                      <td>-1</td>                      <td>0</td>                      <td>0</td></tr>\n",
              "<tr><td><a href=\"species/H5N1.html\">H5N1</a></td>                      <td>2</td>                      <td>1</td>                      <td>0.666</td>                      <td>0</td>                      <td>-1</td></tr>\n",
              "<tr><td><a href=\"species/H5N1 viruses.html\">H5N1 viruses</a></td>                      <td>1</td>                      <td>0</td>                      <td>-1</td>                      <td>0</td>                      <td>0</td></tr>\n",
              "<tr><td><a href=\"species/Marek's disease virus type 1.html\">Marek's disease virus type 1</a></td>                      <td>1</td>                      <td>0</td>                      <td>-1</td>                      <td>0</td>                      <td>0</td></tr>\n",
              "<tr><td><a href=\"species/Marek's disease virus 1.html\">Marek's disease virus 1</a></td>                      <td>1</td>                      <td>0</td>                      <td>-1</td>                      <td>0</td>                      <td>0</td></tr>\n",
              "<tr><td><a href=\"species/MDV1.html\">MDV1</a></td>                      <td>4</td>                      <td>0</td>                      <td>-1</td>                      <td>0</td>                      <td>0</td></tr>\n",
              "<tr><td><a href=\"species/simian immunodeficiency virus.html\">simian immunodeficiency virus</a></td>                      <td>5</td>                      <td>0</td>                      <td>-1</td>                      <td>0</td>                      <td>0</td></tr>\n",
              "<tr><td><a href=\"species/Human immunodeficiency virus.html\">Human immunodeficiency virus</a></td>                      <td>1</td>                      <td>0</td>                      <td>-1</td>                      <td>0</td>                      <td>0</td></tr>\n",
              "<tr><td><a href=\"species/Indian rhesus macaques.html\">Indian rhesus macaques</a></td>                      <td>1</td>                      <td>0</td>                      <td>-1</td>                      <td>0</td>                      <td>0</td></tr>\n",
              "<tr><td><a href=\"species/virus SIVmac239.html\">virus SIVmac239</a></td>                      <td>1</td>                      <td>0</td>                      <td>-1</td>                      <td>0</td>                      <td>0</td></tr>\n",
              "<tr><td><a href=\"species/SIV.html\">SIV</a></td>                      <td>4</td>                      <td>0</td>                      <td>-1</td>                      <td>0</td>                      <td>0</td></tr>\n",
              "<tr><td><a href=\"species/measles virus.html\">measles virus</a></td>                      <td>4</td>                      <td>0</td>                      <td>-1</td>                      <td>0</td>                      <td>0</td></tr>\n",
              "<tr><td><a href=\"species/Measles virus.html\">Measles virus</a></td>                      <td>1</td>                      <td>0</td>                      <td>-1</td>                      <td>0</td>                      <td>0</td></tr>\n",
              "<tr><td><a href=\"species/MV.html\">MV</a></td>                      <td>19</td>                      <td>0</td>                      <td>-1</td>                      <td>0</td>                      <td>0</td></tr>\n",
              "<tr><td><a href=\"species/NDV-H.html\">NDV-H</a></td>                      <td>3</td>                      <td>0</td>                      <td>-1</td>                      <td>0</td>                      <td>0</td></tr>\n",
              "<tr><td><a href=\"species/Human.html\">Human</a></td>                      <td>3</td>                      <td>0</td>                      <td>-1</td>                      <td>0</td>                      <td>0</td></tr>\n",
              "<tr><td><a href=\"species/Yeast.html\">Yeast</a></td>                      <td>4</td>                      <td>1</td>                      <td>0.8</td>                      <td>0</td>                      <td>-1</td></tr>\n",
              "<tr><td><a href=\"species/Tomato bushy stunt virus.html\">Tomato bushy stunt virus</a></td>                      <td>1</td>                      <td>0</td>                      <td>-1</td>                      <td>0</td>                      <td>0</td></tr>\n",
              "<tr><td><a href=\"species/TBSV.html\">TBSV</a></td>                      <td>6</td>                      <td>0</td>                      <td>-1</td>                      <td>0</td>                      <td>0</td></tr>\n",
              "<tr><td><a href=\"species/SIVagmTan-1.html\">SIVagmTan-1</a></td>                      <td>1</td>                      <td>0</td>                      <td>-1</td>                      <td>0</td>                      <td>0</td></tr>\n",
              "<tr><td><a href=\"species/Retroviral.html\">Retroviral</a></td>                      <td>1</td>                      <td>0</td>                      <td>-1</td>                      <td>0</td>                      <td>0</td></tr>\n",
              "<tr><td><a href=\"species/SIV(agmTan-1).html\">SIV(agmTan-1)</a></td>                      <td>1</td>                      <td>0</td>                      <td>-1</td>                      <td>0</td>                      <td>0</td></tr>\n",
              "<tr><td><a href=\"species/Variola.html\">Variola</a></td>                      <td>1</td>                      <td>0</td>                      <td>-1</td>                      <td>0</td>                      <td>0</td></tr>\n",
              "<tr><td><a href=\"species/monkeypox viruses.html\">monkeypox viruses</a></td>                      <td>1</td>                      <td>0</td>                      <td>-1</td>                      <td>0</td>                      <td>0</td></tr>\n",
              "<tr><td><a href=\"species/Vaccinia virus.html\">Vaccinia virus</a></td>                      <td>1</td>                      <td>0</td>                      <td>-1</td>                      <td>0</td>                      <td>0</td></tr>\n",
              "<tr><td><a href=\"species/VacV.html\">VacV</a></td>                      <td>3</td>                      <td>0</td>                      <td>-1</td>                      <td>0</td>                      <td>0</td></tr>\n",
              "<tr><td><a href=\"species/monkeypox virus.html\">monkeypox virus</a></td>                      <td>1</td>                      <td>0</td>                      <td>-1</td>                      <td>0</td>                      <td>0</td></tr>\n",
              "<tr><td><a href=\"species/MPX.html\">MPX</a></td>                      <td>3</td>                      <td>0</td>                      <td>-1</td>                      <td>0</td>                      <td>0</td></tr>\n",
              "<tr><td><a href=\"species/variola virus.html\">variola virus</a></td>                      <td>1</td>                      <td>0</td>                      <td>-1</td>                      <td>0</td>                      <td>0</td></tr>\n",
              "<tr><td><a href=\"species/VarV.html\">VarV</a></td>                      <td>2</td>                      <td>0</td>                      <td>-1</td>                      <td>0</td>                      <td>0</td></tr>\n",
              "<tr><td><a href=\"species/hepatitis B.html\">hepatitis B</a></td>                      <td>1</td>                      <td>1</td>                      <td>0.5</td>                      <td>0</td>                      <td>-1</td></tr>\n",
              "<tr><td><a href=\"species/hepatitis delta viruses.html\">hepatitis delta viruses</a></td>                      <td>1</td>                      <td>0</td>                      <td>-1</td>                      <td>0</td>                      <td>0</td></tr>\n",
              "<tr><td><a href=\"species/Hepatitis B virus.html\">Hepatitis B virus</a></td>                      <td>1</td>                      <td>0</td>                      <td>-1</td>                      <td>0</td>                      <td>0</td></tr>\n",
              "<tr><td><a href=\"species/hepatitis delta virus.html\">hepatitis delta virus</a></td>                      <td>1</td>                      <td>0</td>                      <td>-1</td>                      <td>0</td>                      <td>0</td></tr>\n",
              "<tr><td><a href=\"species/HDV.html\">HDV</a></td>                      <td>16</td>                      <td>1</td>                      <td>0.941</td>                      <td>0</td>                      <td>-1</td></tr>\n",
              "<tr><td><a href=\"species/HIV-1 CRF01_AE.html\">HIV-1 CRF01_AE</a></td>                      <td>1</td>                      <td>0</td>                      <td>-1</td>                      <td>0</td>                      <td>0</td></tr>\n",
              "<tr><td><a href=\"species/CRF01_AE.html\">CRF01_AE</a></td>                      <td>3</td>                      <td>0</td>                      <td>-1</td>                      <td>0</td>                      <td>0</td></tr>\n",
              "<tr><td><a href=\"species/subtype B.html\">subtype B</a></td>                      <td>2</td>                      <td>0</td>                      <td>-1</td>                      <td>0</td>                      <td>0</td></tr>\n",
              "<tr><td><a href=\"species/Dendropsophus ebraccatus.html\">Dendropsophus ebraccatus</a></td>                      <td>1</td>                      <td>0</td>                      <td>-1</td>                      <td>0</td>                      <td>0</td></tr>\n",
              "<tr><td><a href=\"species/Ammophila arenaria.html\">Ammophila arenaria</a></td>                      <td>1</td>                      <td>0</td>                      <td>-1</td>                      <td>0</td>                      <td>0</td></tr>\n",
              "<tr><td><a href=\"species/A. arenaria.html\">A. arenaria</a></td>                      <td>1</td>                      <td>0</td>                      <td>-1</td>                      <td>0</td>                      <td>0</td></tr>\n",
              "<tr><td><a href=\"species/Callosobruchus maculatus.html\">Callosobruchus maculatus</a></td>                      <td>1</td>                      <td>0</td>                      <td>-1</td>                      <td>0</td>                      <td>0</td></tr>\n",
              "<tr><td><a href=\"species/black truffles.html\">black truffles</a></td>                      <td>1</td>                      <td>0</td>                      <td>-1</td>                      <td>0</td>                      <td>0</td></tr>\n",
              "<tr><td><a href=\"species/truffle.html\">truffle</a></td>                      <td>3</td>                      <td>5</td>                      <td>0.375</td>                      <td>0</td>                      <td>-1</td></tr>\n",
              "<tr><td><a href=\"species/Casaurina glauca.html\">Casaurina glauca</a></td>                      <td>1</td>                      <td>0</td>                      <td>-1</td>                      <td>0</td>                      <td>0</td></tr>\n",
              "<tr><td><a href=\"species/Datisca glomerata.html\">Datisca glomerata</a></td>                      <td>1</td>                      <td>0</td>                      <td>-1</td>                      <td>0</td>                      <td>0</td></tr>\n",
              "<tr><td><a href=\"species/Medicago truncatula.html\">Medicago truncatula</a></td>                      <td>2</td>                      <td>0</td>                      <td>-1</td>                      <td>0</td>                      <td>0</td></tr>\n",
              "<tr><td><a href=\"species/M. truncatula.html\">M. truncatula</a></td>                      <td>3</td>                      <td>0</td>                      <td>-1</td>                      <td>0</td>                      <td>0</td></tr>\n",
              "<tr><td><a href=\"species/Sinorhizobium meliloti.html\">Sinorhizobium meliloti</a></td>                      <td>4</td>                      <td>2</td>                      <td>0.666</td>                      <td>0</td>                      <td>-1</td></tr>\n",
              "<tr><td><a href=\"species/S. meliloti.html\">S. meliloti</a></td>                      <td>3</td>                      <td>1</td>                      <td>0.75</td>                      <td>0</td>                      <td>-1</td></tr>\n",
              "<tr><td><a href=\"species/Perigord black truffle.html\">Perigord black truffle</a></td>                      <td>3</td>                      <td>0</td>                      <td>-1</td>                      <td>0</td>                      <td>0</td></tr>\n",
              "<tr><td><a href=\"species/Tuber melanosporum Vittad..html\">Tuber melanosporum Vittad.</a></td>                      <td>1</td>                      <td>0</td>                      <td>-1</td>                      <td>0</td>                      <td>0</td></tr>\n",
              "<tr><td><a href=\"species/black truffle.html\">black truffle</a></td>                      <td>1</td>                      <td>0</td>                      <td>-1</td>                      <td>0</td>                      <td>0</td></tr>\n",
              "<tr><td><a href=\"species/type A H1N1.html\">type A H1N1</a></td>                      <td>3</td>                      <td>0</td>                      <td>-1</td>                      <td>0</td>                      <td>0</td></tr>\n",
              "<tr><td><a href=\"species/type B human influenza virus.html\">type B human influenza virus</a></td>                      <td>2</td>                      <td>0</td>                      <td>-1</td>                      <td>0</td>                      <td>0</td></tr>\n",
              "<tr><td><a href=\"species/type B influenza viruses.html\">type B influenza viruses</a></td>                      <td>1</td>                      <td>0</td>                      <td>-1</td>                      <td>0</td>                      <td>0</td></tr>\n",
              "<tr><td><a href=\"species/Coxsackievirus A16.html\">Coxsackievirus A16</a></td>                      <td>2</td>                      <td>0</td>                      <td>-1</td>                      <td>0</td>                      <td>0</td></tr>\n",
              "<tr><td><a href=\"species/CA16.html\">CA16</a></td>                      <td>8</td>                      <td>0</td>                      <td>-1</td>                      <td>0</td>                      <td>0</td></tr>\n",
              "<tr><td><a href=\"species/serotype A.html\">serotype A</a></td>                      <td>1</td>                      <td>0</td>                      <td>-1</td>                      <td>0</td>                      <td>0</td></tr>\n",
              "<tr><td><a href=\"species/serotype D C. neoformans.html\">serotype D C. neoformans</a></td>                      <td>1</td>                      <td>0</td>                      <td>-1</td>                      <td>0</td>                      <td>0</td></tr>\n",
              "<tr><td><a href=\"species/Ustilago maydis.html\">Ustilago maydis</a></td>                      <td>8</td>                      <td>0</td>                      <td>-1</td>                      <td>0</td>                      <td>0</td></tr>\n",
              "<tr><td><a href=\"species/Simkania negevensis.html\">Simkania negevensis</a></td>                      <td>1</td>                      <td>0</td>                      <td>-1</td>                      <td>0</td>                      <td>0</td></tr>\n",
              "<tr><td><a href=\"species/Simkania negevensis strain Z.html\">Simkania negevensis strain Z</a></td>                      <td>1</td>                      <td>0</td>                      <td>-1</td>                      <td>0</td>                      <td>0</td></tr>\n",
              "<tr><td><a href=\"species/S. negevensis.html\">S. negevensis</a></td>                      <td>2</td>                      <td>0</td>                      <td>-1</td>                      <td>0</td>                      <td>0</td></tr>\n",
              "<tr><td><a href=\"species/Xanthomonas campestris pv. campestris.html\">Xanthomonas campestris pv. campestris</a></td>                      <td>2</td>                      <td>0</td>                      <td>-1</td>                      <td>0</td>                      <td>0</td></tr>\n",
              "<tr><td><a href=\"species/X. campestris pv. campestris.html\">X. campestris pv. campestris</a></td>                      <td>2</td>                      <td>0</td>                      <td>-1</td>                      <td>0</td>                      <td>0</td></tr>\n",
              "<tr><td><a href=\"species/Neisseria meningitidis.html\">Neisseria meningitidis</a></td>                      <td>3</td>                      <td>0</td>                      <td>-1</td>                      <td>0</td>                      <td>0</td></tr>\n",
              "<tr><td><a href=\"species/N. meningitidis.html\">N. meningitidis</a></td>                      <td>1</td>                      <td>0</td>                      <td>-1</td>                      <td>0</td>                      <td>0</td></tr>\n",
              "<tr><td><a href=\"species/rabbit.html\">rabbit</a></td>                      <td>4</td>                      <td>0</td>                      <td>-1</td>                      <td>0</td>                      <td>0</td></tr>\n",
              "<tr><td><a href=\"species/Burkholderia cenocepacia.html\">Burkholderia cenocepacia</a></td>                      <td>2</td>                      <td>0</td>                      <td>-1</td>                      <td>0</td>                      <td>0</td></tr>\n",
              "<tr><td><a href=\"species/Rhizoctonia solani.html\">Rhizoctonia solani</a></td>                      <td>1</td>                      <td>0</td>                      <td>-1</td>                      <td>0</td>                      <td>0</td></tr>\n",
              "<tr><td><a href=\"species/Mycobacterium tuberculosis.html\">Mycobacterium tuberculosis</a></td>                      <td>3</td>                      <td>1</td>                      <td>0.75</td>                      <td>0</td>                      <td>-1</td></tr>\n",
              "<tr><td><a href=\"species/M. tuberculosis.html\">M. tuberculosis</a></td>                      <td>8</td>                      <td>0</td>                      <td>-1</td>                      <td>0</td>                      <td>0</td></tr>\n",
              "<tr><td><a href=\"species/M. smegmatis.html\">M. smegmatis</a></td>                      <td>4</td>                      <td>0</td>                      <td>-1</td>                      <td>0</td>                      <td>0</td></tr>\n",
              "<tr><td><a href=\"species/Bacillus amyloliquefaciens FZB42.html\">Bacillus amyloliquefaciens FZB42</a></td>                      <td>2</td>                      <td>0</td>                      <td>-1</td>                      <td>0</td>                      <td>0</td></tr>\n",
              "<tr><td><a href=\"species/B. amyloliquefaciens FZB42.html\">B. amyloliquefaciens FZB42</a></td>                      <td>1</td>                      <td>0</td>                      <td>-1</td>                      <td>0</td>                      <td>0</td></tr>\n",
              "<tr><td><a href=\"species/strain Bacillus subtilis YB955 (hisC952 metB5 leuC427).html\">strain Bacillus subtilis YB955 (hisC952 metB5 leuC427)</a></td>                      <td>1</td>                      <td>0</td>                      <td>-1</td>                      <td>0</td>                      <td>0</td></tr>\n",
              "<tr><td><a href=\"species/MutSL knockout strain.html\">MutSL knockout strain</a></td>                      <td>1</td>                      <td>0</td>                      <td>-1</td>                      <td>0</td>                      <td>0</td></tr>\n",
              "<tr><td><a href=\"species/B. subtilis.html\">B. subtilis</a></td>                      <td>9</td>                      <td>0</td>                      <td>-1</td>                      <td>0</td>                      <td>0</td></tr>\n",
              "<tr><td><a href=\"species/Clostridium difficile.html\">Clostridium difficile</a></td>                      <td>2</td>                      <td>0</td>                      <td>-1</td>                      <td>0</td>                      <td>0</td></tr>\n",
              "<tr><td><a href=\"species/C. difficile.html\">C. difficile</a></td>                      <td>8</td>                      <td>0</td>                      <td>-1</td>                      <td>0</td>                      <td>0</td></tr>\n",
              "<tr><td><a href=\"species/Bacillus anthracis.html\">Bacillus anthracis</a></td>                      <td>6</td>                      <td>0</td>                      <td>-1</td>                      <td>0</td>                      <td>0</td></tr>\n",
              "<tr><td><a href=\"species/B. anthracis.html\">B. anthracis</a></td>                      <td>11</td>                      <td>0</td>                      <td>-1</td>                      <td>0</td>                      <td>0</td></tr>\n",
              "<tr><td><a href=\"species/anthrax.html\">anthrax</a></td>                      <td>1</td>                      <td>0</td>                      <td>-1</td>                      <td>0</td>                      <td>0</td></tr>\n",
              "<tr><td><a href=\"species/B. anthracis strain.html\">B. anthracis strain</a></td>                      <td>1</td>                      <td>0</td>                      <td>-1</td>                      <td>0</td>                      <td>0</td></tr>\n",
              "<tr><td><a href=\"species/Pseudomonas fluorescens Q8r1-96.html\">Pseudomonas fluorescens Q8r1-96</a></td>                      <td>2</td>                      <td>0</td>                      <td>-1</td>                      <td>0</td>                      <td>0</td></tr>\n",
              "<tr><td><a href=\"species/Q8r1-96.html\">Q8r1-96</a></td>                      <td>5</td>                      <td>0</td>                      <td>-1</td>                      <td>0</td>                      <td>0</td></tr>\n",
              "<tr><td><a href=\"species/Pseudomonas syringae.html\">Pseudomonas syringae</a></td>                      <td>1</td>                      <td>0</td>                      <td>-1</td>                      <td>0</td>                      <td>0</td></tr>\n",
              "<tr><td><a href=\"species/P. fluorescens strains.html\">P. fluorescens strains</a></td>                      <td>1</td>                      <td>0</td>                      <td>-1</td>                      <td>0</td>                      <td>0</td></tr>\n",
              "<tr><td><a href=\"species/P. syringae.html\">P. syringae</a></td>                      <td>2</td>                      <td>0</td>                      <td>-1</td>                      <td>0</td>                      <td>0</td></tr>\n",
              "<tr><td><a href=\"species/Porphyromonas gingivalis.html\">Porphyromonas gingivalis</a></td>                      <td>3</td>                      <td>0</td>                      <td>-1</td>                      <td>0</td>                      <td>0</td></tr>\n",
              "<tr><td><a href=\"species/P. gingivalis.html\">P. gingivalis</a></td>                      <td>2</td>                      <td>0</td>                      <td>-1</td>                      <td>0</td>                      <td>0</td></tr>\n",
              "<tr><td><a href=\"species/Synechocystis sp. strain PCC 6803.html\">Synechocystis sp. strain PCC 6803</a></td>                      <td>2</td>                      <td>0</td>                      <td>-1</td>                      <td>0</td>                      <td>0</td></tr>\n",
              "<tr><td><a href=\"species/coxsackievirus A9.html\">coxsackievirus A9</a></td>                      <td>1</td>                      <td>0</td>                      <td>-1</td>                      <td>0</td>                      <td>0</td></tr>\n",
              "<tr><td><a href=\"species/CAV9.html\">CAV9</a></td>                      <td>5</td>                      <td>0</td>                      <td>-1</td>                      <td>0</td>                      <td>0</td></tr>\n",
              "<tr><td><a href=\"species/ectromelia virus.html\">ectromelia virus</a></td>                      <td>1</td>                      <td>0</td>                      <td>-1</td>                      <td>0</td>                      <td>0</td></tr>\n",
              "<tr><td><a href=\"species/vaccinia virus strain Copenhagen.html\">vaccinia virus strain Copenhagen</a></td>                      <td>1</td>                      <td>0</td>                      <td>-1</td>                      <td>0</td>                      <td>0</td></tr>\n",
              "<tr><td><a href=\"species/VVCop.html\">VVCop</a></td>                      <td>1</td>                      <td>0</td>                      <td>-1</td>                      <td>0</td>                      <td>0</td></tr>\n",
              "<tr><td><a href=\"species/Red clover necrotic mosaic virus.html\">Red clover necrotic mosaic virus</a></td>                      <td>1</td>                      <td>0</td>                      <td>-1</td>                      <td>0</td>                      <td>0</td></tr>\n",
              "<tr><td><a href=\"species/RCNMV.html\">RCNMV</a></td>                      <td>3</td>                      <td>0</td>                      <td>-1</td>                      <td>0</td>                      <td>0</td></tr>\n",
              "<tr><td><a href=\"species/human papillomavirus type 8.html\">human papillomavirus type 8</a></td>                      <td>1</td>                      <td>0</td>                      <td>-1</td>                      <td>0</td>                      <td>0</td></tr>\n",
              "<tr><td><a href=\"species/Beta human papillomavirus (HPV) type 8.html\">Beta human papillomavirus (HPV) type 8</a></td>                      <td>1</td>                      <td>0</td>                      <td>-1</td>                      <td>0</td>                      <td>0</td></tr>\n",
              "<tr><td><a href=\"species/genus Beta HPV.html\">genus Beta HPV</a></td>                      <td>1</td>                      <td>0</td>                      <td>-1</td>                      <td>0</td>                      <td>0</td></tr>\n",
              "<tr><td><a href=\"species/HPV8.html\">HPV8</a></td>                      <td>6</td>                      <td>0</td>                      <td>-1</td>                      <td>0</td>                      <td>0</td></tr>\n",
              "<tr><td><a href=\"species/HPV16.html\">HPV16</a></td>                      <td>1</td>                      <td>0</td>                      <td>-1</td>                      <td>0</td>                      <td>0</td></tr>\n",
              "<tr><td><a href=\"species/rat cytomegalovirus.html\">rat cytomegalovirus</a></td>                      <td>1</td>                      <td>0</td>                      <td>-1</td>                      <td>0</td>                      <td>0</td></tr>\n",
              "<tr><td><a href=\"species/RCMV.html\">RCMV</a></td>                      <td>6</td>                      <td>0</td>                      <td>-1</td>                      <td>0</td>                      <td>0</td></tr>\n",
              "<tr><td><a href=\"species/mouse cytomegalovirus.html\">mouse cytomegalovirus</a></td>                      <td>1</td>                      <td>0</td>                      <td>-1</td>                      <td>0</td>                      <td>0</td></tr>\n",
              "<tr><td><a href=\"species/Adenovirus.html\">Adenovirus</a></td>                      <td>1</td>                      <td>0</td>                      <td>-1</td>                      <td>0</td>                      <td>0</td></tr>\n",
              "<tr><td><a href=\"species/Adenovirus type 5.html\">Adenovirus type 5</a></td>                      <td>1</td>                      <td>0</td>                      <td>-1</td>                      <td>0</td>                      <td>0</td></tr>\n",
              "<tr><td><a href=\"species/Ad5.html\">Ad5</a></td>                      <td>5</td>                      <td>0</td>                      <td>-1</td>                      <td>0</td>                      <td>0</td></tr>\n",
              "<tr><td><a href=\"species/Ad.html\">Ad</a></td>                      <td>2</td>                      <td>2</td>                      <td>0.5</td>                      <td>0</td>                      <td>-1</td></tr>\n",
              "<tr><td><a href=\"species/severe acute respiratory syndrome coronavirus.html\">severe acute respiratory syndrome coronavirus</a></td>                      <td>3</td>                      <td>0</td>                      <td>-1</td>                      <td>0</td>                      <td>0</td></tr>\n",
              "<tr><td><a href=\"species/SARS-CoV.html\">SARS-CoV</a></td>                      <td>3</td>                      <td>0</td>                      <td>-1</td>                      <td>0</td>                      <td>0</td></tr>\n",
              "<tr><td><a href=\"species/Venezuelan equine encephalitis virus.html\">Venezuelan equine encephalitis virus</a></td>                      <td>1</td>                      <td>0</td>                      <td>-1</td>                      <td>0</td>                      <td>0</td></tr>\n",
              "<tr><td><a href=\"species/VEE.html\">VEE</a></td>                      <td>2</td>                      <td>0</td>                      <td>-1</td>                      <td>0</td>                      <td>0</td></tr>\n",
              "<tr><td><a href=\"species/West Nile virus.html\">West Nile virus</a></td>                      <td>1</td>                      <td>1</td>                      <td>0.5</td>                      <td>0</td>                      <td>-1</td></tr>\n",
              "<tr><td><a href=\"species/Mammalian orthoreoviruses.html\">Mammalian orthoreoviruses</a></td>                      <td>1</td>                      <td>0</td>                      <td>-1</td>                      <td>0</td>                      <td>0</td></tr>\n",
              "<tr><td><a href=\"species/respiratory syncytial virus.html\">respiratory syncytial virus</a></td>                      <td>4</td>                      <td>0</td>                      <td>-1</td>                      <td>0</td>                      <td>0</td></tr>\n",
              "<tr><td><a href=\"species/Human respiratory syncytial virus.html\">Human respiratory syncytial virus</a></td>                      <td>1</td>                      <td>0</td>                      <td>-1</td>                      <td>0</td>                      <td>0</td></tr>\n",
              "<tr><td><a href=\"species/RSV.html\">RSV</a></td>                      <td>12</td>                      <td>0</td>                      <td>-1</td>                      <td>0</td>                      <td>0</td></tr>\n",
              "<tr><td><a href=\"species/Lassa virus.html\">Lassa virus</a></td>                      <td>4</td>                      <td>0</td>                      <td>-1</td>                      <td>0</td>                      <td>0</td></tr>\n",
              "<tr><td><a href=\"species/Lassa virus AV.html\">Lassa virus AV</a></td>                      <td>1</td>                      <td>0</td>                      <td>-1</td>                      <td>0</td>                      <td>0</td></tr>\n",
              "<tr><td><a href=\"species/Junin virus.html\">Junin virus</a></td>                      <td>1</td>                      <td>0</td>                      <td>-1</td>                      <td>0</td>                      <td>0</td></tr>\n",
              "<tr><td><a href=\"species/JUNV.html\">JUNV</a></td>                      <td>5</td>                      <td>0</td>                      <td>-1</td>                      <td>0</td>                      <td>0</td></tr>\n",
              "<tr><td><a href=\"species/LASV.html\">LASV</a></td>                      <td>5</td>                      <td>0</td>                      <td>-1</td>                      <td>0</td>                      <td>0</td></tr>\n",
              "<tr><td><a href=\"species/Mice.html\">Mice</a></td>                      <td>1</td>                      <td>0</td>                      <td>-1</td>                      <td>0</td>                      <td>0</td></tr>\n",
              "<tr><td><a href=\"species/varicella-zoster virus.html\">varicella-zoster virus</a></td>                      <td>2</td>                      <td>0</td>                      <td>-1</td>                      <td>0</td>                      <td>0</td></tr>\n",
              "<tr><td><a href=\"species/VZV.html\">VZV</a></td>                      <td>15</td>                      <td>1</td>                      <td>0.937</td>                      <td>0</td>                      <td>-1</td></tr>\n",
              "<tr><td><a href=\"species/VZV-induced.html\">VZV-induced</a></td>                      <td>1</td>                      <td>0</td>                      <td>-1</td>                      <td>0</td>                      <td>0</td></tr>\n",
              "<tr><td><a href=\"species/Friend virus.html\">Friend virus</a></td>                      <td>1</td>                      <td>1</td>                      <td>0.5</td>                      <td>0</td>                      <td>-1</td></tr>\n",
              "<tr><td><a href=\"species/Friend retrovirus.html\">Friend retrovirus</a></td>                      <td>1</td>                      <td>0</td>                      <td>-1</td>                      <td>0</td>                      <td>0</td></tr>\n",
              "<tr><td><a href=\"species/FV.html\">FV</a></td>                      <td>2</td>                      <td>3</td>                      <td>0.4</td>                      <td>0</td>                      <td>-1</td></tr>\n",
              "<tr><td><a href=\"species/human immunodeficiency.html\">human immunodeficiency</a></td>                      <td>1</td>                      <td>0</td>                      <td>-1</td>                      <td>0</td>                      <td>0</td></tr>\n",
              "<tr><td><a href=\"species/hepatitis C viruses.html\">hepatitis C viruses</a></td>                      <td>1</td>                      <td>0</td>                      <td>-1</td>                      <td>0</td>                      <td>0</td></tr>\n",
              "<tr><td><a href=\"species/human immunodeficiency virus.html\">human immunodeficiency virus</a></td>                      <td>1</td>                      <td>0</td>                      <td>-1</td>                      <td>0</td>                      <td>0</td></tr>\n",
              "<tr><td><a href=\"species/lethal 2009 pandemic H1N1 influenza virus.html\">lethal 2009 pandemic H1N1 influenza virus</a></td>                      <td>1</td>                      <td>0</td>                      <td>-1</td>                      <td>0</td>                      <td>0</td></tr>\n",
              "<tr><td><a href=\"species/H1N1 influenza.html\">H1N1 influenza</a></td>                      <td>1</td>                      <td>0</td>                      <td>-1</td>                      <td>0</td>                      <td>0</td></tr>\n",
              "<tr><td><a href=\"species/2009 pandemic virus.html\">2009 pandemic virus</a></td>                      <td>1</td>                      <td>0</td>                      <td>-1</td>                      <td>0</td>                      <td>0</td></tr>\n",
              "<tr><td><a href=\"species/H1.html\">H1</a></td>                      <td>2</td>                      <td>2</td>                      <td>0.5</td>                      <td>0</td>                      <td>-1</td></tr>\n",
              "<tr><td><a href=\"species/H3 influenza virus.html\">H3 influenza virus</a></td>                      <td>1</td>                      <td>0</td>                      <td>-1</td>                      <td>0</td>                      <td>0</td></tr>\n",
              "<tr><td><a href=\"species/2009 H1N1 A_slash_CA_slash_04_slash_09 virus.html\">2009 H1N1 A/CA/04/09 virus</a></td>                      <td>1</td>                      <td>0</td>                      <td>-1</td>                      <td>0</td>                      <td>0</td></tr>\n",
              "<tr><td><a href=\"species/pandemic H1N1 influenza virus.html\">pandemic H1N1 influenza virus</a></td>                      <td>1</td>                      <td>0</td>                      <td>-1</td>                      <td>0</td>                      <td>0</td></tr>\n",
              "<tr><td><a href=\"species/Schizosaccharomyces pombe.html\">Schizosaccharomyces pombe</a></td>                      <td>3</td>                      <td>0</td>                      <td>-1</td>                      <td>0</td>                      <td>0</td></tr>\n",
              "<tr><td><a href=\"species/diamondback moth.html\">diamondback moth</a></td>                      <td>1</td>                      <td>0</td>                      <td>-1</td>                      <td>0</td>                      <td>0</td></tr>\n",
              "<tr><td><a href=\"species/DBM.html\">DBM</a></td>                      <td>3</td>                      <td>0</td>                      <td>-1</td>                      <td>0</td>                      <td>0</td></tr>\n",
              "<tr><td><a href=\"species/Plutella xylostella.html\">Plutella xylostella</a></td>                      <td>2</td>                      <td>0</td>                      <td>-1</td>                      <td>0</td>                      <td>0</td></tr>\n",
              "<tr><td><a href=\"species/Barbarea vulgaris.html\">Barbarea vulgaris</a></td>                      <td>1</td>                      <td>0</td>                      <td>-1</td>                      <td>0</td>                      <td>0</td></tr>\n",
              "<tr><td><a href=\"species/durum wheat.html\">durum wheat</a></td>                      <td>2</td>                      <td>0</td>                      <td>-1</td>                      <td>0</td>                      <td>0</td></tr>\n",
              "<tr><td><a href=\"species/Triticum durum.html\">Triticum durum</a></td>                      <td>1</td>                      <td>0</td>                      <td>-1</td>                      <td>0</td>                      <td>0</td></tr>\n",
              "<tr><td><a href=\"species/Drosophila.html\">Drosophila</a></td>                      <td>8</td>                      <td>4</td>                      <td>0.666</td>                      <td>0</td>                      <td>-1</td></tr>\n",
              "<tr><td><a href=\"species/infectious myonecrosis virus.html\">infectious myonecrosis virus</a></td>                      <td>2</td>                      <td>0</td>                      <td>-1</td>                      <td>0</td>                      <td>0</td></tr>\n",
              "<tr><td><a href=\"species/IMNV.html\">IMNV</a></td>                      <td>3</td>                      <td>0</td>                      <td>-1</td>                      <td>0</td>                      <td>0</td></tr>\n",
              "<tr><td><a href=\"species/BL21 E. coli.html\">BL21 E. coli</a></td>                      <td>1</td>                      <td>0</td>                      <td>-1</td>                      <td>0</td>                      <td>0</td></tr>\n",
              "<tr><td><a href=\"species/white spot syndrome virus.html\">white spot syndrome virus</a></td>                      <td>1</td>                      <td>0</td>                      <td>-1</td>                      <td>0</td>                      <td>0</td></tr>\n",
              "<tr><td><a href=\"species/WSSV.html\">WSSV</a></td>                      <td>1</td>                      <td>0</td>                      <td>-1</td>                      <td>0</td>                      <td>0</td></tr>\n",
              "<tr><td><a href=\"species/yellow head virus.html\">yellow head virus</a></td>                      <td>1</td>                      <td>0</td>                      <td>-1</td>                      <td>0</td>                      <td>0</td></tr>\n",
              "<tr><td><a href=\"species/YHV.html\">YHV</a></td>                      <td>1</td>                      <td>0</td>                      <td>-1</td>                      <td>0</td>                      <td>0</td></tr>\n",
              "<tr><td><a href=\"species/Taura syndrome virus.html\">Taura syndrome virus</a></td>                      <td>1</td>                      <td>0</td>                      <td>-1</td>                      <td>0</td>                      <td>0</td></tr>\n",
              "<tr><td><a href=\"species/TSV.html\">TSV</a></td>                      <td>1</td>                      <td>0</td>                      <td>-1</td>                      <td>0</td>                      <td>0</td></tr>\n",
              "<tr><td><a href=\"species/Penaeus monodon nucleopolyhedrovirus.html\">Penaeus monodon nucleopolyhedrovirus</a></td>                      <td>1</td>                      <td>0</td>                      <td>-1</td>                      <td>0</td>                      <td>0</td></tr>\n",
              "<tr><td><a href=\"species/PemoNPV.html\">PemoNPV</a></td>                      <td>1</td>                      <td>0</td>                      <td>-1</td>                      <td>0</td>                      <td>0</td></tr>\n",
              "<tr><td><a href=\"species/sheep poxvirus.html\">sheep poxvirus</a></td>                      <td>1</td>                      <td>0</td>                      <td>-1</td>                      <td>0</td>                      <td>0</td></tr>\n",
              "<tr><td><a href=\"species/SPPV.html\">SPPV</a></td>                      <td>1</td>                      <td>0</td>                      <td>-1</td>                      <td>0</td>                      <td>0</td></tr>\n",
              "<tr><td><a href=\"species/goat poxvirus.html\">goat poxvirus</a></td>                      <td>1</td>                      <td>0</td>                      <td>-1</td>                      <td>0</td>                      <td>0</td></tr>\n",
              "<tr><td><a href=\"species/GTPV.html\">GTPV</a></td>                      <td>1</td>                      <td>0</td>                      <td>-1</td>                      <td>0</td>                      <td>0</td></tr>\n",
              "<tr><td><a href=\"species/lumpy skin disease virus.html\">lumpy skin disease virus</a></td>                      <td>1</td>                      <td>0</td>                      <td>-1</td>                      <td>0</td>                      <td>0</td></tr>\n",
              "<tr><td><a href=\"species/LSDV.html\">LSDV</a></td>                      <td>1</td>                      <td>0</td>                      <td>-1</td>                      <td>0</td>                      <td>0</td></tr>\n",
              "<tr><td><a href=\"species/sheep.html\">sheep</a></td>                      <td>2</td>                      <td>2</td>                      <td>0.5</td>                      <td>0</td>                      <td>-1</td></tr>\n",
              "<tr><td><a href=\"species/goats.html\">goats</a></td>                      <td>2</td>                      <td>0</td>                      <td>-1</td>                      <td>0</td>                      <td>0</td></tr>\n",
              "<tr><td><a href=\"species/cattle.html\">cattle</a></td>                      <td>6</td>                      <td>0</td>                      <td>-1</td>                      <td>0</td>                      <td>0</td></tr>\n",
              "<tr><td><a href=\"species/goatpox.html\">goatpox</a></td>                      <td>1</td>                      <td>0</td>                      <td>-1</td>                      <td>0</td>                      <td>0</td></tr>\n",
              "<tr><td><a href=\"species/sheeppox viruses.html\">sheeppox viruses</a></td>                      <td>1</td>                      <td>0</td>                      <td>-1</td>                      <td>0</td>                      <td>0</td></tr>\n",
              "<tr><td><a href=\"species/serotype A foot-and-mouth disease virus.html\">serotype A foot-and-mouth disease virus</a></td>                      <td>1</td>                      <td>0</td>                      <td>-1</td>                      <td>0</td>                      <td>0</td></tr>\n",
              "<tr><td><a href=\"species/FMD.html\">FMD</a></td>                      <td>2</td>                      <td>0</td>                      <td>-1</td>                      <td>0</td>                      <td>0</td></tr>\n",
              "<tr><td><a href=\"species/class I.html\">class I</a></td>                      <td>4</td>                      <td>4</td>                      <td>0.5</td>                      <td>0</td>                      <td>-1</td></tr>\n",
              "<tr><td><a href=\"species/class II Newcastle disease viruses.html\">class II Newcastle disease viruses</a></td>                      <td>1</td>                      <td>0</td>                      <td>-1</td>                      <td>0</td>                      <td>0</td></tr>\n",
              "<tr><td><a href=\"species/class II strains of Newcastle disease virus (NDV).html\">class II strains of Newcastle disease virus (NDV)</a></td>                      <td>1</td>                      <td>0</td>                      <td>-1</td>                      <td>0</td>                      <td>0</td></tr>\n",
              "<tr><td><a href=\"species/NDV09-034.html\">NDV09-034</a></td>                      <td>1</td>                      <td>0</td>                      <td>-1</td>                      <td>0</td>                      <td>0</td></tr>\n",
              "<tr><td><a href=\"species/class II NDV isolates.html\">class II NDV isolates</a></td>                      <td>1</td>                      <td>0</td>                      <td>-1</td>                      <td>0</td>                      <td>0</td></tr>\n",
              "<tr><td><a href=\"species/NDV isolates.html\">NDV isolates</a></td>                      <td>1</td>                      <td>0</td>                      <td>-1</td>                      <td>0</td>                      <td>0</td></tr>\n",
              "<tr><td><a href=\"species/Tomato black ring virus.html\">Tomato black ring virus</a></td>                      <td>2</td>                      <td>0</td>                      <td>-1</td>                      <td>0</td>                      <td>0</td></tr>\n",
              "<tr><td><a href=\"species/TBRV.html\">TBRV</a></td>                      <td>3</td>                      <td>0</td>                      <td>-1</td>                      <td>0</td>                      <td>0</td></tr>\n",
              "<tr><td><a href=\"species/Streptococcus sanguinis.html\">Streptococcus sanguinis</a></td>                      <td>2</td>                      <td>0</td>                      <td>-1</td>                      <td>0</td>                      <td>0</td></tr>\n",
              "<tr><td><a href=\"species/S. sanguinis.html\">S. sanguinis</a></td>                      <td>2</td>                      <td>0</td>                      <td>-1</td>                      <td>0</td>                      <td>0</td></tr>\n",
              "<tr><td><a href=\"species/Saccharophagus degradans 2-40.html\">Saccharophagus degradans 2-40</a></td>                      <td>1</td>                      <td>0</td>                      <td>-1</td>                      <td>0</td>                      <td>0</td></tr>\n",
              "<tr><td><a href=\"species/Synechocystis sp. strain PCC6803.html\">Synechocystis sp. strain PCC6803</a></td>                      <td>2</td>                      <td>0</td>                      <td>-1</td>                      <td>0</td>                      <td>0</td></tr>\n",
              "<tr><td><a href=\"species/HTCC2503T.html\">HTCC2503T</a></td>                      <td>1</td>                      <td>0</td>                      <td>-1</td>                      <td>0</td>                      <td>0</td></tr>\n",
              "<tr><td><a href=\"species/Parvularcula bermudensis.html\">Parvularcula bermudensis</a></td>                      <td>2</td>                      <td>0</td>                      <td>-1</td>                      <td>0</td>                      <td>0</td></tr>\n",
              "<tr><td><a href=\"species/Parvularcula bermudensis HTCC2503(T).html\">Parvularcula bermudensis HTCC2503(T)</a></td>                      <td>1</td>                      <td>0</td>                      <td>-1</td>                      <td>0</td>                      <td>0</td></tr>\n",
              "<tr><td><a href=\"species/Corynebacterium pseudotuberculosis I19.html\">Corynebacterium pseudotuberculosis I19</a></td>                      <td>2</td>                      <td>0</td>                      <td>-1</td>                      <td>0</td>                      <td>0</td></tr>\n",
              "<tr><td><a href=\"species/cow.html\">cow</a></td>                      <td>2</td>                      <td>0</td>                      <td>-1</td>                      <td>0</td>                      <td>0</td></tr>\n",
              "<tr><td><a href=\"species/Bifidobacterium bifidum S17.html\">Bifidobacterium bifidum S17</a></td>                      <td>1</td>                      <td>0</td>                      <td>-1</td>                      <td>0</td>                      <td>0</td></tr>\n",
              "<tr><td><a href=\"species/Bifidobacterium bifidum.html\">Bifidobacterium bifidum</a></td>                      <td>1</td>                      <td>0</td>                      <td>-1</td>                      <td>0</td>                      <td>0</td></tr>\n",
              "<tr><td><a href=\"species/B. bifidum S17.html\">B. bifidum S17</a></td>                      <td>1</td>                      <td>0</td>                      <td>-1</td>                      <td>0</td>                      <td>0</td></tr>\n",
              "<tr><td><a href=\"species/HTCC2170.html\">HTCC2170</a></td>                      <td>3</td>                      <td>0</td>                      <td>-1</td>                      <td>0</td>                      <td>0</td></tr>\n",
              "<tr><td><a href=\"species/marine bacterium.html\">marine bacterium</a></td>                      <td>1</td>                      <td>2</td>                      <td>0.333</td>                      <td>0</td>                      <td>-1</td></tr>\n",
              "<tr><td><a href=\"species/Maribacter sp. strain HTCC2170.html\">Maribacter sp. strain HTCC2170</a></td>                      <td>1</td>                      <td>0</td>                      <td>-1</td>                      <td>0</td>                      <td>0</td></tr>\n",
              "<tr><td><a href=\"species/Oscillochloris trichoides subsp. DG-6.html\">Oscillochloris trichoides subsp. DG-6</a></td>                      <td>2</td>                      <td>0</td>                      <td>-1</td>                      <td>0</td>                      <td>0</td></tr>\n",
              "<tr><td><a href=\"species/Oscillochloris trichoides.html\">Oscillochloris trichoides</a></td>                      <td>1</td>                      <td>0</td>                      <td>-1</td>                      <td>0</td>                      <td>0</td></tr>\n",
              "<tr><td><a href=\"species/red-backed shrike.html\">red-backed shrike</a></td>                      <td>2</td>                      <td>0</td>                      <td>-1</td>                      <td>0</td>                      <td>0</td></tr>\n",
              "<tr><td><a href=\"species/Lanius collurio.html\">Lanius collurio</a></td>                      <td>1</td>                      <td>0</td>                      <td>-1</td>                      <td>0</td>                      <td>0</td></tr>\n",
              "<tr><td><a href=\"species/Nothofagus pumilio.html\">Nothofagus pumilio</a></td>                      <td>2</td>                      <td>0</td>                      <td>-1</td>                      <td>0</td>                      <td>0</td></tr>\n",
              "<tr><td><a href=\"species/N. pumilio.html\">N. pumilio</a></td>                      <td>1</td>                      <td>0</td>                      <td>-1</td>                      <td>0</td>                      <td>0</td></tr>\n",
              "<tr><td><a href=\"species/U. maydis.html\">U. maydis</a></td>                      <td>6</td>                      <td>1</td>                      <td>0.857</td>                      <td>0</td>                      <td>-1</td></tr>\n",
              "<tr><td><a href=\"species/Potato leaf roll virus.html\">Potato leaf roll virus</a></td>                      <td>1</td>                      <td>0</td>                      <td>-1</td>                      <td>0</td>                      <td>0</td></tr>\n",
              "<tr><td><a href=\"species/Turnip mosaic virus.html\">Turnip mosaic virus</a></td>                      <td>1</td>                      <td>0</td>                      <td>-1</td>                      <td>0</td>                      <td>0</td></tr>\n",
              "<tr><td><a href=\"species/bread wheat.html\">bread wheat</a></td>                      <td>2</td>                      <td>0</td>                      <td>-1</td>                      <td>0</td>                      <td>0</td></tr>\n",
              "<tr><td><a href=\"species/sugarcane.html\">sugarcane</a></td>                      <td>2</td>                      <td>0</td>                      <td>-1</td>                      <td>0</td>                      <td>0</td></tr>\n",
              "<tr><td><a href=\"species/Saccharum spp..html\">Saccharum spp.</a></td>                      <td>1</td>                      <td>0</td>                      <td>-1</td>                      <td>0</td>                      <td>0</td></tr>\n",
              "<tr><td><a href=\"species/S. officinarum.html\">S. officinarum</a></td>                      <td>1</td>                      <td>0</td>                      <td>-1</td>                      <td>0</td>                      <td>0</td></tr>\n",
              "<tr><td><a href=\"species/S. spontaneum.html\">S. spontaneum</a></td>                      <td>1</td>                      <td>0</td>                      <td>-1</td>                      <td>0</td>                      <td>0</td></tr>\n",
              "<tr><td><a href=\"species/Oryza sativa short postembryonic roots 1.html\">Oryza sativa short postembryonic roots 1</a></td>                      <td>1</td>                      <td>0</td>                      <td>-1</td>                      <td>0</td>                      <td>0</td></tr>\n",
              "<tr><td><a href=\"species/Osspr1.html\">Osspr1</a></td>                      <td>1</td>                      <td>1</td>                      <td>0.5</td>                      <td>0</td>                      <td>-1</td></tr>\n",
              "<tr><td><a href=\"species/OsSPR1.html\">OsSPR1</a></td>                      <td>3</td>                      <td>0</td>                      <td>-1</td>                      <td>0</td>                      <td>0</td></tr>\n",
              "<tr><td><a href=\"species/retroviral.html\">retroviral</a></td>                      <td>3</td>                      <td>1</td>                      <td>0.75</td>                      <td>0</td>                      <td>-1</td></tr>\n",
              "<tr><td><a href=\"species/murine leukemia virus (F-MuLV).html\">murine leukemia virus (F-MuLV)</a></td>                      <td>1</td>                      <td>0</td>                      <td>-1</td>                      <td>0</td>                      <td>0</td></tr>\n",
              "<tr><td><a href=\"species/human adenovirus.html\">human adenovirus</a></td>                      <td>1</td>                      <td>0</td>                      <td>-1</td>                      <td>0</td>                      <td>0</td></tr>\n",
              "<tr><td><a href=\"species/Human adenoviruses (Ads).html\">Human adenoviruses (Ads)</a></td>                      <td>1</td>                      <td>0</td>                      <td>-1</td>                      <td>0</td>                      <td>0</td></tr>\n",
              "<tr><td><a href=\"species/adenovirus.html\">adenovirus</a></td>                      <td>2</td>                      <td>5</td>                      <td>0.285</td>                      <td>0</td>                      <td>-1</td></tr>\n",
              "<tr><td><a href=\"species/adenoviral.html\">adenoviral</a></td>                      <td>1</td>                      <td>0</td>                      <td>-1</td>                      <td>0</td>                      <td>0</td></tr>\n",
              "<tr><td><a href=\"species/willow ptarmigan.html\">willow ptarmigan</a></td>                      <td>2</td>                      <td>0</td>                      <td>-1</td>                      <td>0</td>                      <td>0</td></tr>\n",
              "<tr><td><a href=\"species/Lagopus lagopus.html\">Lagopus lagopus</a></td>                      <td>1</td>                      <td>0</td>                      <td>-1</td>                      <td>0</td>                      <td>0</td></tr>\n",
              "<tr><td><a href=\"species/gyrfalcons.html\">gyrfalcons</a></td>                      <td>2</td>                      <td>0</td>                      <td>-1</td>                      <td>0</td>                      <td>0</td></tr>\n",
              "<tr><td><a href=\"species/Falco rusticolus.html\">Falco rusticolus</a></td>                      <td>1</td>                      <td>0</td>                      <td>-1</td>                      <td>0</td>                      <td>0</td></tr>\n",
              "<tr><td><a href=\"species/Leavenworthia crassa.html\">Leavenworthia crassa</a></td>                      <td>1</td>                      <td>0</td>                      <td>-1</td>                      <td>0</td>                      <td>0</td></tr>\n",
              "<tr><td><a href=\"species/L. crassa.html\">L. crassa</a></td>                      <td>1</td>                      <td>1</td>                      <td>0.5</td>                      <td>0</td>                      <td>-1</td></tr>\n",
              "<tr><td><a href=\"species/Norway spruce.html\">Norway spruce</a></td>                      <td>4</td>                      <td>0</td>                      <td>-1</td>                      <td>0</td>                      <td>0</td></tr>\n",
              "<tr><td><a href=\"species/cucumber.html\">cucumber</a></td>                      <td>2</td>                      <td>0</td>                      <td>-1</td>                      <td>0</td>                      <td>0</td></tr>\n",
              "<tr><td><a href=\"species/Klebsiella pneumoniae.html\">Klebsiella pneumoniae</a></td>                      <td>2</td>                      <td>0</td>                      <td>-1</td>                      <td>0</td>                      <td>0</td></tr>\n",
              "<tr><td><a href=\"species/Medicago sativa.html\">Medicago sativa</a></td>                      <td>1</td>                      <td>0</td>                      <td>-1</td>                      <td>0</td>                      <td>0</td></tr>\n",
              "<tr><td><a href=\"species/Shigella boydii.html\">Shigella boydii</a></td>                      <td>3</td>                      <td>0</td>                      <td>-1</td>                      <td>0</td>                      <td>0</td></tr>\n",
              "<tr><td><a href=\"species/Potato virus X.html\">Potato virus X</a></td>                      <td>1</td>                      <td>0</td>                      <td>-1</td>                      <td>0</td>                      <td>0</td></tr>\n",
              "<tr><td><a href=\"species/PVX.html\">PVX</a></td>                      <td>1</td>                      <td>0</td>                      <td>-1</td>                      <td>0</td>                      <td>0</td></tr>\n",
              "<tr><td><a href=\"species/Neurospora crassa.html\">Neurospora crassa</a></td>                      <td>10</td>                      <td>0</td>                      <td>-1</td>                      <td>0</td>                      <td>0</td></tr>\n",
              "<tr><td><a href=\"species/Neurosporacrassa.html\">Neurosporacrassa</a></td>                      <td>1</td>                      <td>0</td>                      <td>-1</td>                      <td>0</td>                      <td>0</td></tr>\n",
              "<tr><td><a href=\"species/Paracercomonas marina.html\">Paracercomonas marina</a></td>                      <td>1</td>                      <td>0</td>                      <td>-1</td>                      <td>0</td>                      <td>0</td></tr>\n",
              "<tr><td><a href=\"species/Paulinella chromatophora.html\">Paulinella chromatophora</a></td>                      <td>1</td>                      <td>0</td>                      <td>-1</td>                      <td>0</td>                      <td>0</td></tr>\n",
              "<tr><td><a href=\"species/Filoreta japonica.html\">Filoreta japonica</a></td>                      <td>1</td>                      <td>0</td>                      <td>-1</td>                      <td>0</td>                      <td>0</td></tr>\n",
              "<tr><td><a href=\"species/chamois.html\">chamois</a></td>                      <td>3</td>                      <td>0</td>                      <td>-1</td>                      <td>0</td>                      <td>0</td></tr>\n",
              "<tr><td><a href=\"species/Rupicapra rupicapra.html\">Rupicapra rupicapra</a></td>                      <td>1</td>                      <td>0</td>                      <td>-1</td>                      <td>0</td>                      <td>0</td></tr>\n",
              "<tr><td><a href=\"species/corn smut.html\">corn smut</a></td>                      <td>1</td>                      <td>0</td>                      <td>-1</td>                      <td>0</td>                      <td>0</td></tr>\n",
              "<tr><td><a href=\"species/Chaetomium globosum.html\">Chaetomium globosum</a></td>                      <td>2</td>                      <td>0</td>                      <td>-1</td>                      <td>0</td>                      <td>0</td></tr>\n",
              "<tr><td><a href=\"species/Botryotinia fuckeliana.html\">Botryotinia fuckeliana</a></td>                      <td>1</td>                      <td>0</td>                      <td>-1</td>                      <td>0</td>                      <td>0</td></tr>\n",
              "<tr><td><a href=\"species/Corynebacterium glutamicum R.html\">Corynebacterium glutamicum R</a></td>                      <td>2</td>                      <td>0</td>                      <td>-1</td>                      <td>0</td>                      <td>0</td></tr>\n",
              "<tr><td><a href=\"species/Agrobacterium tumefaciens.html\">Agrobacterium tumefaciens</a></td>                      <td>2</td>                      <td>0</td>                      <td>-1</td>                      <td>0</td>                      <td>0</td></tr>\n",
              "<tr><td><a href=\"species/Rhizobium etli.html\">Rhizobium etli</a></td>                      <td>1</td>                      <td>0</td>                      <td>-1</td>                      <td>0</td>                      <td>0</td></tr>\n",
              "<tr><td><a href=\"species/R. etli.html\">R. etli</a></td>                      <td>1</td>                      <td>0</td>                      <td>-1</td>                      <td>0</td>                      <td>0</td></tr>\n",
              "<tr><td><a href=\"species/A. tumefaciens.html\">A. tumefaciens</a></td>                      <td>1</td>                      <td>0</td>                      <td>-1</td>                      <td>0</td>                      <td>0</td></tr>\n",
              "<tr><td><a href=\"species/Methanococcus maripaludis.html\">Methanococcus maripaludis</a></td>                      <td>3</td>                      <td>0</td>                      <td>-1</td>                      <td>0</td>                      <td>0</td></tr>\n",
              "<tr><td><a href=\"species/Neisseria gonorrhoeae.html\">Neisseria gonorrhoeae</a></td>                      <td>1</td>                      <td>0</td>                      <td>-1</td>                      <td>0</td>                      <td>0</td></tr>\n",
              "<tr><td><a href=\"species/meningococcal.html\">meningococcal</a></td>                      <td>1</td>                      <td>0</td>                      <td>-1</td>                      <td>0</td>                      <td>0</td></tr>\n",
              "<tr><td><a href=\"species/Salmonella enterica serovar Typhimurium.html\">Salmonella enterica serovar Typhimurium</a></td>                      <td>2</td>                      <td>0</td>                      <td>-1</td>                      <td>0</td>                      <td>0</td></tr>\n",
              "<tr><td><a href=\"species/hihi.html\">hihi</a></td>                      <td>2</td>                      <td>0</td>                      <td>-1</td>                      <td>0</td>                      <td>0</td></tr>\n",
              "<tr><td><a href=\"species/Notiomystis cincta.html\">Notiomystis cincta</a></td>                      <td>1</td>                      <td>0</td>                      <td>-1</td>                      <td>0</td>                      <td>0</td></tr>\n",
              "<tr><td><a href=\"species/Ebola viruses.html\">Ebola viruses</a></td>                      <td>1</td>                      <td>0</td>                      <td>-1</td>                      <td>0</td>                      <td>0</td></tr>\n",
              "<tr><td><a href=\"species/Reston Ebola virus.html\">Reston Ebola virus</a></td>                      <td>1</td>                      <td>0</td>                      <td>-1</td>                      <td>0</td>                      <td>0</td></tr>\n",
              "<tr><td><a href=\"species/Ebola virus.html\">Ebola virus</a></td>                      <td>3</td>                      <td>0</td>                      <td>-1</td>                      <td>0</td>                      <td>0</td></tr>\n",
              "<tr><td><a href=\"species/D. melanogaster.html\">D. melanogaster</a></td>                      <td>4</td>                      <td>0</td>                      <td>-1</td>                      <td>0</td>                      <td>0</td></tr>\n",
              "<tr><td><a href=\"species/B. mori.html\">B. mori</a></td>                      <td>2</td>                      <td>0</td>                      <td>-1</td>                      <td>0</td>                      <td>0</td></tr>\n",
              "<tr><td><a href=\"species/Aeropyrum pernix.html\">Aeropyrum pernix</a></td>                      <td>3</td>                      <td>0</td>                      <td>-1</td>                      <td>0</td>                      <td>0</td></tr>\n",
              "<tr><td><a href=\"species/Sulfolobus solfataricus.html\">Sulfolobus solfataricus</a></td>                      <td>1</td>                      <td>0</td>                      <td>-1</td>                      <td>0</td>                      <td>0</td></tr>\n",
              "<tr><td><a href=\"species/FtsZ-I374V strain.html\">FtsZ-I374V strain</a></td>                      <td>1</td>                      <td>0</td>                      <td>-1</td>                      <td>0</td>                      <td>0</td></tr>\n",
              "<tr><td><a href=\"species/E. coli.html\">E. coli</a></td>                      <td>12</td>                      <td>0</td>                      <td>-1</td>                      <td>0</td>                      <td>0</td></tr>\n",
              "<tr><td><a href=\"species/K-12 strain.html\">K-12 strain</a></td>                      <td>1</td>                      <td>0</td>                      <td>-1</td>                      <td>0</td>                      <td>0</td></tr>\n",
              "<tr><td><a href=\"species/B strain.html\">B strain</a></td>                      <td>2</td>                      <td>0</td>                      <td>-1</td>                      <td>0</td>                      <td>0</td></tr>\n",
              "<tr><td><a href=\"species/methanogenic archaea.html\">methanogenic archaea</a></td>                      <td>3</td>                      <td>0</td>                      <td>-1</td>                      <td>0</td>                      <td>0</td></tr>\n",
              "<tr><td><a href=\"species/Methanocaldococcus jannaschii.html\">Methanocaldococcus jannaschii</a></td>                      <td>1</td>                      <td>0</td>                      <td>-1</td>                      <td>0</td>                      <td>0</td></tr>\n",
              "<tr><td><a href=\"species/Methanothermobacter thermoautotrophicus.html\">Methanothermobacter thermoautotrophicus</a></td>                      <td>1</td>                      <td>0</td>                      <td>-1</td>                      <td>0</td>                      <td>0</td></tr>\n",
              "<tr><td><a href=\"species/Methanosarcina acetivorans.html\">Methanosarcina acetivorans</a></td>                      <td>1</td>                      <td>0</td>                      <td>-1</td>                      <td>0</td>                      <td>0</td></tr>\n",
              "<tr><td><a href=\"species/M. acetivorans.html\">M. acetivorans</a></td>                      <td>1</td>                      <td>0</td>                      <td>-1</td>                      <td>0</td>                      <td>0</td></tr>\n",
              "<tr><td><a href=\"species/M. maripaludis.html\">M. maripaludis</a></td>                      <td>3</td>                      <td>0</td>                      <td>-1</td>                      <td>0</td>                      <td>0</td></tr>\n",
              "<tr><td><a href=\"species/Nocardia farcinica.html\">Nocardia farcinica</a></td>                      <td>1</td>                      <td>0</td>                      <td>-1</td>                      <td>0</td>                      <td>0</td></tr>\n",
              "<tr><td><a href=\"species/Nocardia farcinica IFM 10152.html\">Nocardia farcinica IFM 10152</a></td>                      <td>1</td>                      <td>0</td>                      <td>-1</td>                      <td>0</td>                      <td>0</td></tr>\n",
              "<tr><td><a href=\"species/N. farcinica.html\">N. farcinica</a></td>                      <td>1</td>                      <td>0</td>                      <td>-1</td>                      <td>0</td>                      <td>0</td></tr>\n",
              "<tr><td><a href=\"species/P. aeruginosa.html\">P. aeruginosa</a></td>                      <td>5</td>                      <td>0</td>                      <td>-1</td>                      <td>0</td>                      <td>0</td></tr>\n",
              "<tr><td><a href=\"species/Streptococcus pneumoniae.html\">Streptococcus pneumoniae</a></td>                      <td>2</td>                      <td>0</td>                      <td>-1</td>                      <td>0</td>                      <td>0</td></tr>\n",
              "<tr><td><a href=\"species/S. pneumoniae.html\">S. pneumoniae</a></td>                      <td>1</td>                      <td>0</td>                      <td>-1</td>                      <td>0</td>                      <td>0</td></tr>\n",
              "<tr><td><a href=\"species/Phytophthora sojae.html\">Phytophthora sojae</a></td>                      <td>2</td>                      <td>0</td>                      <td>-1</td>                      <td>0</td>                      <td>0</td></tr>\n",
              "<tr><td><a href=\"species/soybean.html\">soybean</a></td>                      <td>1</td>                      <td>0</td>                      <td>-1</td>                      <td>0</td>                      <td>0</td></tr>\n",
              "<tr><td><a href=\"species/Copromyxa protea.html\">Copromyxa protea</a></td>                      <td>2</td>                      <td>0</td>                      <td>-1</td>                      <td>0</td>                      <td>0</td></tr>\n",
              "<tr><td><a href=\"species/C. protea.html\">C. protea</a></td>                      <td>3</td>                      <td>0</td>                      <td>-1</td>                      <td>0</td>                      <td>0</td></tr>\n",
              "<tr><td><a href=\"species/Hartmannella cantabrigiensis.html\">Hartmannella cantabrigiensis</a></td>                      <td>1</td>                      <td>0</td>                      <td>-1</td>                      <td>0</td>                      <td>0</td></tr>\n",
              "<tr><td><a href=\"species/Hartmannella sp. 4_slash_3Da_slash_10.html\">Hartmannella sp. 4/3Da/10</a></td>                      <td>1</td>                      <td>0</td>                      <td>-1</td>                      <td>0</td>                      <td>0</td></tr>\n",
              "<tr><td><a href=\"species/H. cantabrigiensis.html\">H. cantabrigiensis</a></td>                      <td>1</td>                      <td>1</td>                      <td>0.5</td>                      <td>0</td>                      <td>-1</td></tr>\n",
              "<tr><td><a href=\"species/C. cantabrigiensis.html\">C. cantabrigiensis</a></td>                      <td>1</td>                      <td>0</td>                      <td>-1</td>                      <td>0</td>                      <td>0</td></tr>\n",
              "<tr><td><a href=\"species/Aedes aegypti mosquitoes.html\">Aedes aegypti mosquitoes</a></td>                      <td>1</td>                      <td>0</td>                      <td>-1</td>                      <td>0</td>                      <td>0</td></tr>\n",
              "<tr><td><a href=\"species/vibrio cholerae.html\">vibrio cholerae</a></td>                      <td>1</td>                      <td>0</td>                      <td>-1</td>                      <td>0</td>                      <td>0</td></tr>\n",
              "<tr><td><a href=\"species/Vibrio cholerae.html\">Vibrio cholerae</a></td>                      <td>1</td>                      <td>0</td>                      <td>-1</td>                      <td>0</td>                      <td>0</td></tr>\n",
              "<tr><td><a href=\"species/V. cholerae.html\">V. cholerae</a></td>                      <td>3</td>                      <td>0</td>                      <td>-1</td>                      <td>0</td>                      <td>0</td></tr>\n",
              "<tr><td><a href=\"species/northern house mosquito.html\">northern house mosquito</a></td>                      <td>2</td>                      <td>0</td>                      <td>-1</td>                      <td>0</td>                      <td>0</td></tr>\n",
              "<tr><td><a href=\"species/Culex pipiens.html\">Culex pipiens</a></td>                      <td>2</td>                      <td>0</td>                      <td>-1</td>                      <td>0</td>                      <td>0</td></tr>\n",
              "<tr><td><a href=\"species/C. pipiens.html\">C. pipiens</a></td>                      <td>1</td>                      <td>0</td>                      <td>-1</td>                      <td>0</td>                      <td>0</td></tr>\n",
              "<tr><td><a href=\"species/white spruce.html\">white spruce</a></td>                      <td>3</td>                      <td>0</td>                      <td>-1</td>                      <td>0</td>                      <td>0</td></tr>\n",
              "<tr><td><a href=\"species/Picea glauca.html\">Picea glauca</a></td>                      <td>1</td>                      <td>0</td>                      <td>-1</td>                      <td>0</td>                      <td>0</td></tr>\n",
              "<tr><td><a href=\"species/[Picea glauca (Moench) Voss].html\">[Picea glauca (Moench) Voss]</a></td>                      <td>1</td>                      <td>0</td>                      <td>-1</td>                      <td>0</td>                      <td>0</td></tr>\n",
              "<tr><td><a href=\"species/Populus trichocarpa x deltoides.html\">Populus trichocarpa x deltoides</a></td>                      <td>1</td>                      <td>0</td>                      <td>-1</td>                      <td>0</td>                      <td>0</td></tr>\n",
              "<tr><td><a href=\"species/Populus trichocarpa.html\">Populus trichocarpa</a></td>                      <td>1</td>                      <td>0</td>                      <td>-1</td>                      <td>0</td>                      <td>0</td></tr>\n",
              "<tr><td><a href=\"species/Escherichia coli O84:H4 strain 4795_slash_97.html\">Escherichia coli O84:H4 strain 4795/97</a></td>                      <td>1</td>                      <td>0</td>                      <td>-1</td>                      <td>0</td>                      <td>0</td></tr>\n",
              "<tr><td><a href=\"species/STEC.html\">STEC</a></td>                      <td>2</td>                      <td>0</td>                      <td>-1</td>                      <td>0</td>                      <td>0</td></tr>\n",
              "<tr><td><a href=\"species/STEC O84:H4 strain 4795_slash_97.html\">STEC O84:H4 strain 4795/97</a></td>                      <td>1</td>                      <td>0</td>                      <td>-1</td>                      <td>0</td>                      <td>0</td></tr>\n",
              "<tr><td><a href=\"species/Bacillus cereus group species.html\">Bacillus cereus group species</a></td>                      <td>1</td>                      <td>0</td>                      <td>-1</td>                      <td>0</td>                      <td>0</td></tr>\n",
              "<tr><td><a href=\"species/B. cereus.html\">B. cereus</a></td>                      <td>1</td>                      <td>0</td>                      <td>-1</td>                      <td>0</td>                      <td>0</td></tr>\n",
              "<tr><td><a href=\"species/Myxococcus xanthus.html\">Myxococcus xanthus</a></td>                      <td>2</td>                      <td>0</td>                      <td>-1</td>                      <td>0</td>                      <td>0</td></tr>\n",
              "<tr><td><a href=\"species/Staphylococcus aureus.html\">Staphylococcus aureus</a></td>                      <td>4</td>                      <td>0</td>                      <td>-1</td>                      <td>0</td>                      <td>0</td></tr>\n",
              "<tr><td><a href=\"species/newman.html\">newman</a></td>                      <td>1</td>                      <td>0</td>                      <td>-1</td>                      <td>0</td>                      <td>0</td></tr>\n",
              "<tr><td><a href=\"species/UAMS-1.html\">UAMS-1</a></td>                      <td>4</td>                      <td>0</td>                      <td>-1</td>                      <td>0</td>                      <td>0</td></tr>\n",
              "<tr><td><a href=\"species/Newman.html\">Newman</a></td>                      <td>6</td>                      <td>0</td>                      <td>-1</td>                      <td>0</td>                      <td>0</td></tr>\n",
              "<tr><td><a href=\"species/S. aureus.html\">S. aureus</a></td>                      <td>2</td>                      <td>0</td>                      <td>-1</td>                      <td>0</td>                      <td>0</td></tr>\n",
              "<tr><td><a href=\"species/Flavobacterium johnsoniae.html\">Flavobacterium johnsoniae</a></td>                      <td>2</td>                      <td>0</td>                      <td>-1</td>                      <td>0</td>                      <td>0</td></tr>\n",
              "<tr><td><a href=\"species/F. johnsoniae.html\">F. johnsoniae</a></td>                      <td>2</td>                      <td>0</td>                      <td>-1</td>                      <td>0</td>                      <td>0</td></tr>\n",
              "<tr><td><a href=\"species/Sordaria macrospora.html\">Sordaria macrospora</a></td>                      <td>2</td>                      <td>0</td>                      <td>-1</td>                      <td>0</td>                      <td>0</td></tr>\n",
              "<tr><td><a href=\"species/S. macrospora.html\">S. macrospora</a></td>                      <td>1</td>                      <td>0</td>                      <td>-1</td>                      <td>0</td>                      <td>0</td></tr>\n",
              "<tr><td><a href=\"species/Trichoderma brevicompactum.html\">Trichoderma brevicompactum</a></td>                      <td>2</td>                      <td>0</td>                      <td>-1</td>                      <td>0</td>                      <td>0</td></tr>\n",
              "<tr><td><a href=\"species/Fusarium spp.html\">Fusarium spp</a></td>                      <td>1</td>                      <td>0</td>                      <td>-1</td>                      <td>0</td>                      <td>0</td></tr>\n",
              "<tr><td><a href=\"species/T. brevicompactum.html\">T. brevicompactum</a></td>                      <td>3</td>                      <td>0</td>                      <td>-1</td>                      <td>0</td>                      <td>0</td></tr>\n",
              "<tr><td><a href=\"species/Kluyveromyces marxianus.html\">Kluyveromyces marxianus</a></td>                      <td>1</td>                      <td>0</td>                      <td>-1</td>                      <td>0</td>                      <td>0</td></tr>\n",
              "<tr><td><a href=\"species/Candida glabrata.html\">Candida glabrata</a></td>                      <td>2</td>                      <td>0</td>                      <td>-1</td>                      <td>0</td>                      <td>0</td></tr>\n",
              "<tr><td><a href=\"species/Candida tropicalis.html\">Candida tropicalis</a></td>                      <td>1</td>                      <td>0</td>                      <td>-1</td>                      <td>0</td>                      <td>0</td></tr>\n",
              "<tr><td><a href=\"species/Penicillium chrysogenum.html\">Penicillium chrysogenum</a></td>                      <td>2</td>                      <td>0</td>                      <td>-1</td>                      <td>0</td>                      <td>0</td></tr>\n",
              "<tr><td><a href=\"species/Strains G203R-T.html\">Strains G203R-T</a></td>                      <td>1</td>                      <td>0</td>                      <td>-1</td>                      <td>0</td>                      <td>0</td></tr>\n",
              "<tr><td><a href=\"species/Deltapga1.html\">Deltapga1</a></td>                      <td>1</td>                      <td>0</td>                      <td>-1</td>                      <td>0</td>                      <td>0</td></tr>\n",
              "<tr><td><a href=\"species/strains with the pga1(G42R) allele.html\">strains with the pga1(G42R) allele</a></td>                      <td>1</td>                      <td>0</td>                      <td>-1</td>                      <td>0</td>                      <td>0</td></tr>\n",
              "<tr><td><a href=\"species/strains with an active Pga1.html\">strains with an active Pga1</a></td>                      <td>1</td>                      <td>0</td>                      <td>-1</td>                      <td>0</td>                      <td>0</td></tr>\n",
              "<tr><td><a href=\"species/Bdellovibrio bacteriovorus.html\">Bdellovibrio bacteriovorus</a></td>                      <td>4</td>                      <td>0</td>                      <td>-1</td>                      <td>0</td>                      <td>0</td></tr>\n",
              "<tr><td><a href=\"species/Enterococcus faecium.html\">Enterococcus faecium</a></td>                      <td>2</td>                      <td>0</td>                      <td>-1</td>                      <td>0</td>                      <td>0</td></tr>\n",
              "<tr><td><a href=\"species/E. faecium E1162.html\">E. faecium E1162</a></td>                      <td>1</td>                      <td>0</td>                      <td>-1</td>                      <td>0</td>                      <td>0</td></tr>\n",
              "<tr><td><a href=\"species/E1162.html\">E1162</a></td>                      <td>2</td>                      <td>2</td>                      <td>0.5</td>                      <td>0</td>                      <td>-1</td></tr>\n",
              "<tr><td><a href=\"species/E. faecium.html\">E. faecium</a></td>                      <td>1</td>                      <td>0</td>                      <td>-1</td>                      <td>0</td>                      <td>0</td></tr>\n",
              "<tr><td><a href=\"species/EHEC.html\">EHEC</a></td>                      <td>2</td>                      <td>0</td>                      <td>-1</td>                      <td>0</td>                      <td>0</td></tr>\n",
              "<tr><td><a href=\"species/EHEC O157:H7.html\">EHEC O157:H7</a></td>                      <td>2</td>                      <td>0</td>                      <td>-1</td>                      <td>0</td>                      <td>0</td></tr>\n",
              "<tr><td><a href=\"species/O157:H7.html\">O157:H7</a></td>                      <td>1</td>                      <td>0</td>                      <td>-1</td>                      <td>0</td>                      <td>0</td></tr>\n",
              "<tr><td><a href=\"species/Trichosurus vulpecula.html\">Trichosurus vulpecula</a></td>                      <td>2</td>                      <td>0</td>                      <td>-1</td>                      <td>0</td>                      <td>0</td></tr>\n",
              "<tr><td><a href=\"species/Atlantic salmon.html\">Atlantic salmon</a></td>                      <td>9</td>                      <td>0</td>                      <td>-1</td>                      <td>0</td>                      <td>0</td></tr>\n",
              "<tr><td><a href=\"species/Lucilia sericata.html\">Lucilia sericata</a></td>                      <td>2</td>                      <td>0</td>                      <td>-1</td>                      <td>0</td>                      <td>0</td></tr>\n",
              "<tr><td><a href=\"species/L. sericata.html\">L. sericata</a></td>                      <td>4</td>                      <td>0</td>                      <td>-1</td>                      <td>0</td>                      <td>0</td></tr>\n",
              "<tr><td><a href=\"species/Legionella pneumophila.html\">Legionella pneumophila</a></td>                      <td>3</td>                      <td>0</td>                      <td>-1</td>                      <td>0</td>                      <td>0</td></tr>\n",
              "<tr><td><a href=\"species/L. pneumophila.html\">L. pneumophila</a></td>                      <td>4</td>                      <td>0</td>                      <td>-1</td>                      <td>0</td>                      <td>0</td></tr>\n",
              "<tr><td><a href=\"species/Thermoproteus neutrophilus.html\">Thermoproteus neutrophilus</a></td>                      <td>1</td>                      <td>0</td>                      <td>-1</td>                      <td>0</td>                      <td>0</td></tr>\n",
              "<tr><td><a href=\"species/Ignicoccus hospitalis.html\">Ignicoccus hospitalis</a></td>                      <td>1</td>                      <td>0</td>                      <td>-1</td>                      <td>0</td>                      <td>0</td></tr>\n",
              "<tr><td><a href=\"species/Metallosphaera sedula.html\">Metallosphaera sedula</a></td>                      <td>3</td>                      <td>0</td>                      <td>-1</td>                      <td>0</td>                      <td>0</td></tr>\n",
              "<tr><td><a href=\"species/Proteus mirabilis.html\">Proteus mirabilis</a></td>                      <td>2</td>                      <td>0</td>                      <td>-1</td>                      <td>0</td>                      <td>0</td></tr>\n",
              "<tr><td><a href=\"species/P. mirabilis.html\">P. mirabilis</a></td>                      <td>1</td>                      <td>0</td>                      <td>-1</td>                      <td>0</td>                      <td>0</td></tr>\n",
              "<tr><td><a href=\"species/Aspergillus niger.html\">Aspergillus niger</a></td>                      <td>5</td>                      <td>0</td>                      <td>-1</td>                      <td>0</td>                      <td>0</td></tr>\n",
              "<tr><td><a href=\"species/A. niger.html\">A. niger</a></td>                      <td>5</td>                      <td>0</td>                      <td>-1</td>                      <td>0</td>                      <td>0</td></tr>\n",
              "<tr><td><a href=\"species/A. niger strain.html\">A. niger strain</a></td>                      <td>1</td>                      <td>0</td>                      <td>-1</td>                      <td>0</td>                      <td>0</td></tr>\n",
              "<tr><td><a href=\"species/A. niger ATCC strain 1015.html\">A. niger ATCC strain 1015</a></td>                      <td>1</td>                      <td>0</td>                      <td>-1</td>                      <td>0</td>                      <td>0</td></tr>\n",
              "<tr><td><a href=\"species/A. nigeralbA.html\">A. nigeralbA</a></td>                      <td>1</td>                      <td>0</td>                      <td>-1</td>                      <td>0</td>                      <td>0</td></tr>\n",
              "<tr><td><a href=\"species/black-legged kittiwake.html\">black-legged kittiwake</a></td>                      <td>1</td>                      <td>0</td>                      <td>-1</td>                      <td>0</td>                      <td>0</td></tr>\n",
              "<tr><td><a href=\"species/garter snake.html\">garter snake</a></td>                      <td>2</td>                      <td>0</td>                      <td>-1</td>                      <td>0</td>                      <td>0</td></tr>\n",
              "<tr><td><a href=\"species/Thamnophis elegans.html\">Thamnophis elegans</a></td>                      <td>2</td>                      <td>0</td>                      <td>-1</td>                      <td>0</td>                      <td>0</td></tr>\n",
              "<tr><td><a href=\"species/red deer.html\">red deer</a></td>                      <td>1</td>                      <td>0</td>                      <td>-1</td>                      <td>0</td>                      <td>0</td></tr>\n",
              "<tr><td><a href=\"species/Seychelles warbler.html\">Seychelles warbler</a></td>                      <td>3</td>                      <td>0</td>                      <td>-1</td>                      <td>0</td>                      <td>0</td></tr>\n",
              "<tr><td><a href=\"species/Acrocephalus sechellensis.html\">Acrocephalus sechellensis</a></td>                      <td>2</td>                      <td>0</td>                      <td>-1</td>                      <td>0</td>                      <td>0</td></tr>\n",
              "<tr><td><a href=\"species/brown trout.html\">brown trout</a></td>                      <td>15</td>                      <td>0</td>                      <td>-1</td>                      <td>0</td>                      <td>0</td></tr>\n",
              "<tr><td><a href=\"species/Salmo trutta.html\">Salmo trutta</a></td>                      <td>3</td>                      <td>0</td>                      <td>-1</td>                      <td>0</td>                      <td>0</td></tr>\n",
              "<tr><td><a href=\"species/Arctic charr.html\">Arctic charr</a></td>                      <td>9</td>                      <td>0</td>                      <td>-1</td>                      <td>0</td>                      <td>0</td></tr>\n",
              "<tr><td><a href=\"species/Salvelinus alpinus.html\">Salvelinus alpinus</a></td>                      <td>1</td>                      <td>0</td>                      <td>-1</td>                      <td>0</td>                      <td>0</td></tr>\n",
              "<tr><td><a href=\"species/charr.html\">charr</a></td>                      <td>3</td>                      <td>0</td>                      <td>-1</td>                      <td>0</td>                      <td>0</td></tr>\n",
              "<tr><td><a href=\"species/Maize mosaic rhabdovirus.html\">Maize mosaic rhabdovirus</a></td>                      <td>1</td>                      <td>0</td>                      <td>-1</td>                      <td>0</td>                      <td>0</td></tr>\n",
              "<tr><td><a href=\"species/Peregrinus maidis.html\">Peregrinus maidis</a></td>                      <td>2</td>                      <td>0</td>                      <td>-1</td>                      <td>0</td>                      <td>0</td></tr>\n",
              "<tr><td><a href=\"species/corn planthopper.html\">corn planthopper</a></td>                      <td>1</td>                      <td>0</td>                      <td>-1</td>                      <td>0</td>                      <td>0</td></tr>\n",
              "<tr><td><a href=\"species/Maize mosaic rhabdovirus (MMV).html\">Maize mosaic rhabdovirus (MMV)</a></td>                      <td>1</td>                      <td>0</td>                      <td>-1</td>                      <td>0</td>                      <td>0</td></tr>\n",
              "<tr><td><a href=\"species/MMV.html\">MMV</a></td>                      <td>2</td>                      <td>0</td>                      <td>-1</td>                      <td>0</td>                      <td>0</td></tr>\n",
              "<tr><td><a href=\"species/P. maidis.html\">P. maidis</a></td>                      <td>7</td>                      <td>0</td>                      <td>-1</td>                      <td>0</td>                      <td>0</td></tr>\n",
              "<tr><td><a href=\"species/brown planthopper.html\">brown planthopper</a></td>                      <td>3</td>                      <td>0</td>                      <td>-1</td>                      <td>0</td>                      <td>0</td></tr>\n",
              "<tr><td><a href=\"species/Nilaparvata lugens.html\">Nilaparvata lugens</a></td>                      <td>3</td>                      <td>0</td>                      <td>-1</td>                      <td>0</td>                      <td>0</td></tr>\n",
              "<tr><td><a href=\"species/Ni. lugens.html\">Ni. lugens</a></td>                      <td>1</td>                      <td>0</td>                      <td>-1</td>                      <td>0</td>                      <td>0</td></tr>\n",
              "<tr><td><a href=\"species/Acyrthosiphon pisum.html\">Acyrthosiphon pisum</a></td>                      <td>2</td>                      <td>0</td>                      <td>-1</td>                      <td>0</td>                      <td>0</td></tr>\n",
              "<tr><td><a href=\"species/Trichoplusia ni.html\">Trichoplusia ni</a></td>                      <td>2</td>                      <td>0</td>                      <td>-1</td>                      <td>0</td>                      <td>0</td></tr>\n",
              "<tr><td><a href=\"species/T. ni.html\">T. ni</a></td>                      <td>2</td>                      <td>0</td>                      <td>-1</td>                      <td>0</td>                      <td>0</td></tr>\n",
              "<tr><td><a href=\"species/Song Wrens.html\">Song Wrens</a></td>                      <td>2</td>                      <td>0</td>                      <td>-1</td>                      <td>0</td>                      <td>0</td></tr>\n",
              "<tr><td><a href=\"species/Cyphorhinus phaeocephalus.html\">Cyphorhinus phaeocephalus</a></td>                      <td>1</td>                      <td>0</td>                      <td>-1</td>                      <td>0</td>                      <td>0</td></tr>\n",
              "<tr><td><a href=\"species/Trichoderma reesei.html\">Trichoderma reesei</a></td>                      <td>2</td>                      <td>0</td>                      <td>-1</td>                      <td>0</td>                      <td>0</td></tr>\n",
              "<tr><td><a href=\"species/Hypocrea jecorina.html\">Hypocrea jecorina</a></td>                      <td>2</td>                      <td>0</td>                      <td>-1</td>                      <td>0</td>                      <td>0</td></tr>\n",
              "<tr><td><a href=\"species/lettuce.html\">lettuce</a></td>                      <td>4</td>                      <td>0</td>                      <td>-1</td>                      <td>0</td>                      <td>0</td></tr>\n",
              "<tr><td><a href=\"species/redshank.html\">redshank</a></td>                      <td>2</td>                      <td>0</td>                      <td>-1</td>                      <td>0</td>                      <td>0</td></tr>\n",
              "<tr><td><a href=\"species/Tringa totanus.html\">Tringa totanus</a></td>                      <td>1</td>                      <td>0</td>                      <td>-1</td>                      <td>0</td>                      <td>0</td></tr>\n",
              "<tr><td><a href=\"species/Eurasian sparrowhawks.html\">Eurasian sparrowhawks</a></td>                      <td>1</td>                      <td>0</td>                      <td>-1</td>                      <td>0</td>                      <td>0</td></tr>\n",
              "<tr><td><a href=\"species/Accipiter nisus.html\">Accipiter nisus</a></td>                      <td>1</td>                      <td>0</td>                      <td>-1</td>                      <td>0</td>                      <td>0</td></tr>\n",
              "<tr><td><a href=\"species/Sparrowhawk.html\">Sparrowhawk</a></td>                      <td>2</td>                      <td>0</td>                      <td>-1</td>                      <td>0</td>                      <td>0</td></tr>\n",
              "<tr><td><a href=\"species/redshanks.html\">redshanks</a></td>                      <td>1</td>                      <td>0</td>                      <td>-1</td>                      <td>0</td>                      <td>0</td></tr>\n",
              "<tr><td><a href=\"species/Redshanks.html\">Redshanks</a></td>                      <td>1</td>                      <td>0</td>                      <td>-1</td>                      <td>0</td>                      <td>0</td></tr>\n",
              "<tr><td><a href=\"species/Myrmica rubra.html\">Myrmica rubra</a></td>                      <td>1</td>                      <td>0</td>                      <td>-1</td>                      <td>0</td>                      <td>0</td></tr>\n",
              "<tr><td><a href=\"species/Lasius niger.html\">Lasius niger</a></td>                      <td>1</td>                      <td>0</td>                      <td>-1</td>                      <td>0</td>                      <td>0</td></tr>\n",
              "<tr><td><a href=\"species/M. rubra.html\">M. rubra</a></td>                      <td>2</td>                      <td>0</td>                      <td>-1</td>                      <td>0</td>                      <td>0</td></tr>\n",
              "<tr><td><a href=\"species/L. niger.html\">L. niger</a></td>                      <td>1</td>                      <td>0</td>                      <td>-1</td>                      <td>0</td>                      <td>0</td></tr>\n",
              "<tr><td><a href=\"species/common cuckoos.html\">common cuckoos</a></td>                      <td>1</td>                      <td>0</td>                      <td>-1</td>                      <td>0</td>                      <td>0</td></tr>\n",
              "<tr><td><a href=\"species/Cuculus canorus.html\">Cuculus canorus</a></td>                      <td>1</td>                      <td>0</td>                      <td>-1</td>                      <td>0</td>                      <td>0</td></tr>\n",
              "<tr><td><a href=\"species/cuckoo.html\">cuckoo</a></td>                      <td>6</td>                      <td>0</td>                      <td>-1</td>                      <td>0</td>                      <td>0</td></tr>\n",
              "<tr><td><a href=\"species/cuckoos.html\">cuckoos</a></td>                      <td>1</td>                      <td>0</td>                      <td>-1</td>                      <td>0</td>                      <td>0</td></tr>\n",
              "<tr><td><a href=\"species/striped plateau lizards.html\">striped plateau lizards</a></td>                      <td>2</td>                      <td>0</td>                      <td>-1</td>                      <td>0</td>                      <td>0</td></tr>\n",
              "<tr><td><a href=\"species/Sceloporus virgatus.html\">Sceloporus virgatus</a></td>                      <td>2</td>                      <td>0</td>                      <td>-1</td>                      <td>0</td>                      <td>0</td></tr>\n",
              "<tr><td><a href=\"species/S. virgatus.html\">S. virgatus</a></td>                      <td>2</td>                      <td>0</td>                      <td>-1</td>                      <td>0</td>                      <td>0</td></tr>\n",
              "<tr><td><a href=\"species/Formica aquilonia.html\">Formica aquilonia</a></td>                      <td>1</td>                      <td>0</td>                      <td>-1</td>                      <td>0</td>                      <td>0</td></tr>\n",
              "<tr><td><a href=\"species/F. aquilonia.html\">F. aquilonia</a></td>                      <td>5</td>                      <td>0</td>                      <td>-1</td>                      <td>0</td>                      <td>0</td></tr>\n",
              "<tr><td><a href=\"species/Camponotus herculeanus.html\">Camponotus herculeanus</a></td>                      <td>1</td>                      <td>0</td>                      <td>-1</td>                      <td>0</td>                      <td>0</td></tr>\n",
              "<tr><td><a href=\"species/pneumococcal.html\">pneumococcal</a></td>                      <td>7</td>                      <td>5</td>                      <td>0.583</td>                      <td>0</td>                      <td>-1</td></tr>\n",
              "<tr><td><a href=\"species/Candida krusei.html\">Candida krusei</a></td>                      <td>1</td>                      <td>0</td>                      <td>-1</td>                      <td>0</td>                      <td>0</td></tr>\n",
              "<tr><td><a href=\"species/Paramecium caudatum.html\">Paramecium caudatum</a></td>                      <td>4</td>                      <td>0</td>                      <td>-1</td>                      <td>0</td>                      <td>0</td></tr>\n",
              "<tr><td><a href=\"species/Hortaea werneckii.html\">Hortaea werneckii</a></td>                      <td>2</td>                      <td>0</td>                      <td>-1</td>                      <td>0</td>                      <td>0</td></tr>\n",
              "<tr><td><a href=\"species/S. cerevisae.html\">S. cerevisae</a></td>                      <td>1</td>                      <td>0</td>                      <td>-1</td>                      <td>0</td>                      <td>0</td></tr>\n",
              "<tr><td><a href=\"species/S. cerevisiae.html\">S. cerevisiae</a></td>                      <td>10</td>                      <td>0</td>                      <td>-1</td>                      <td>0</td>                      <td>0</td></tr>\n",
              "<tr><td><a href=\"species/H. werneckii.html\">H. werneckii</a></td>                      <td>1</td>                      <td>0</td>                      <td>-1</td>                      <td>0</td>                      <td>0</td></tr>\n",
              "<tr><td><a href=\"species/Paramecium pentaurelia.html\">Paramecium pentaurelia</a></td>                      <td>2</td>                      <td>0</td>                      <td>-1</td>                      <td>0</td>                      <td>0</td></tr>\n",
              "<tr><td><a href=\"species/P. pentaurelia.html\">P. pentaurelia</a></td>                      <td>1</td>                      <td>0</td>                      <td>-1</td>                      <td>0</td>                      <td>0</td></tr>\n",
              "<tr><td><a href=\"species/Amphiprion percula.html\">Amphiprion percula</a></td>                      <td>1</td>                      <td>0</td>                      <td>-1</td>                      <td>0</td>                      <td>0</td></tr>\n",
              "<tr><td><a href=\"species/Heteractis magnifica.html\">Heteractis magnifica</a></td>                      <td>1</td>                      <td>0</td>                      <td>-1</td>                      <td>0</td>                      <td>0</td></tr>\n",
              "<tr><td><a href=\"species/A. percula.html\">A. percula</a></td>                      <td>1</td>                      <td>0</td>                      <td>-1</td>                      <td>0</td>                      <td>0</td></tr>\n",
              "<tr><td><a href=\"species/Tremula longifila.html\">Tremula longifila</a></td>                      <td>1</td>                      <td>0</td>                      <td>-1</td>                      <td>0</td>                      <td>0</td></tr>\n",
              "<tr><td><a href=\"species/Micrometopion nutans.html\">Micrometopion nutans</a></td>                      <td>1</td>                      <td>0</td>                      <td>-1</td>                      <td>0</td>                      <td>0</td></tr>\n",
              "<tr><td><a href=\"species/Minimassisteria diva.html\">Minimassisteria diva</a></td>                      <td>1</td>                      <td>0</td>                      <td>-1</td>                      <td>0</td>                      <td>0</td></tr>\n",
              "<tr><td><a href=\"species/Peregrinia clavideferens.html\">Peregrinia clavideferens</a></td>                      <td>1</td>                      <td>0</td>                      <td>-1</td>                      <td>0</td>                      <td>0</td></tr>\n",
              "<tr><td><a href=\"species/Nudifila producta.html\">Nudifila producta</a></td>                      <td>1</td>                      <td>0</td>                      <td>-1</td>                      <td>0</td>                      <td>0</td></tr>\n",
              "<tr><td><a href=\"species/Ovulinata parva.html\">Ovulinata parva</a></td>                      <td>1</td>                      <td>0</td>                      <td>-1</td>                      <td>0</td>                      <td>0</td></tr>\n",
              "<tr><td><a href=\"species/Polysphondylium pallidum.html\">Polysphondylium pallidum</a></td>                      <td>2</td>                      <td>0</td>                      <td>-1</td>                      <td>0</td>                      <td>0</td></tr>\n",
              "<tr><td><a href=\"species/oaks.html\">oaks</a></td>                      <td>1</td>                      <td>0</td>                      <td>-1</td>                      <td>0</td>                      <td>0</td></tr>\n",
              "<tr><td><a href=\"species/Klebsormidium flaccidum.html\">Klebsormidium flaccidum</a></td>                      <td>2</td>                      <td>0</td>                      <td>-1</td>                      <td>0</td>                      <td>0</td></tr>\n",
              "<tr><td><a href=\"species/K. subtilissimum.html\">K. subtilissimum</a></td>                      <td>2</td>                      <td>0</td>                      <td>-1</td>                      <td>0</td>                      <td>0</td></tr>\n",
              "<tr><td><a href=\"species/Stichococcus bacillaris.html\">Stichococcus bacillaris</a></td>                      <td>2</td>                      <td>0</td>                      <td>-1</td>                      <td>0</td>                      <td>0</td></tr>\n",
              "<tr><td><a href=\"species/S. chloranthus.html\">S. chloranthus</a></td>                      <td>2</td>                      <td>0</td>                      <td>-1</td>                      <td>0</td>                      <td>0</td></tr>\n",
              "<tr><td><a href=\"species/Florida panthers.html\">Florida panthers</a></td>                      <td>1</td>                      <td>0</td>                      <td>-1</td>                      <td>0</td>                      <td>0</td></tr>\n",
              "<tr><td><a href=\"species/Puma concolor coryi.html\">Puma concolor coryi</a></td>                      <td>1</td>                      <td>0</td>                      <td>-1</td>                      <td>0</td>                      <td>0</td></tr>\n",
              "<tr><td><a href=\"species/P. c. stanleyana.html\">P. c. stanleyana</a></td>                      <td>1</td>                      <td>0</td>                      <td>-1</td>                      <td>0</td>                      <td>0</td></tr>\n",
              "<tr><td><a href=\"species/human lice.html\">human lice</a></td>                      <td>1</td>                      <td>0</td>                      <td>-1</td>                      <td>0</td>                      <td>0</td></tr>\n",
              "<tr><td><a href=\"species/Amoebophrya sp..html\">Amoebophrya sp.</a></td>                      <td>2</td>                      <td>0</td>                      <td>-1</td>                      <td>0</td>                      <td>0</td></tr>\n",
              "<tr><td><a href=\"species/Scrippsiella trochoidea.html\">Scrippsiella trochoidea</a></td>                      <td>2</td>                      <td>0</td>                      <td>-1</td>                      <td>0</td>                      <td>0</td></tr>\n",
              "<tr><td><a href=\"species/Amoebophrya spp..html\">Amoebophrya spp.</a></td>                      <td>1</td>                      <td>0</td>                      <td>-1</td>                      <td>0</td>                      <td>0</td></tr>\n",
              "<tr><td><a href=\"species/Eichhornia crassipes.html\">Eichhornia crassipes</a></td>                      <td>1</td>                      <td>0</td>                      <td>-1</td>                      <td>0</td>                      <td>0</td></tr>\n",
              "<tr><td><a href=\"species/E. crassipes.html\">E. crassipes</a></td>                      <td>1</td>                      <td>0</td>                      <td>-1</td>                      <td>0</td>                      <td>0</td></tr>\n",
              "<tr><td><a href=\"species/Agrobacteriumtumefaciens.html\">Agrobacteriumtumefaciens</a></td>                      <td>1</td>                      <td>0</td>                      <td>-1</td>                      <td>0</td>                      <td>0</td></tr>\n",
              "<tr><td><a href=\"species/Verticillium dahliae.html\">Verticillium dahliae</a></td>                      <td>1</td>                      <td>0</td>                      <td>-1</td>                      <td>0</td>                      <td>0</td></tr>\n",
              "<tr><td><a href=\"species/threshers.html\">threshers</a></td>                      <td>1</td>                      <td>0</td>                      <td>-1</td>                      <td>0</td>                      <td>0</td></tr>\n",
              "<tr><td><a href=\"species/Blacktip reef sharks.html\">Blacktip reef sharks</a></td>                      <td>1</td>                      <td>0</td>                      <td>-1</td>                      <td>0</td>                      <td>0</td></tr>\n",
              "<tr><td><a href=\"species/blue-footed boobies.html\">blue-footed boobies</a></td>                      <td>2</td>                      <td>0</td>                      <td>-1</td>                      <td>0</td>                      <td>0</td></tr>\n",
              "<tr><td><a href=\"species/blue-footed booby.html\">blue-footed booby</a></td>                      <td>1</td>                      <td>0</td>                      <td>-1</td>                      <td>0</td>                      <td>0</td></tr>\n",
              "<tr><td><a href=\"species/Sula nebouxii.html\">Sula nebouxii</a></td>                      <td>1</td>                      <td>0</td>                      <td>-1</td>                      <td>0</td>                      <td>0</td></tr>\n",
              "<tr><td><a href=\"species/S aureus.html\">S aureus</a></td>                      <td>4</td>                      <td>0</td>                      <td>-1</td>                      <td>0</td>                      <td>0</td></tr>\n",
              "<tr><td><a href=\"species/Diplonema papillatum.html\">Diplonema papillatum</a></td>                      <td>1</td>                      <td>0</td>                      <td>-1</td>                      <td>0</td>                      <td>0</td></tr>\n",
              "<tr><td><a href=\"species/D. papillatum.html\">D. papillatum</a></td>                      <td>1</td>                      <td>0</td>                      <td>-1</td>                      <td>0</td>                      <td>0</td></tr>\n",
              "<tr><td><a href=\"species/pea aphid.html\">pea aphid</a></td>                      <td>2</td>                      <td>0</td>                      <td>-1</td>                      <td>0</td>                      <td>0</td></tr>\n",
              "<tr><td><a href=\"species/Serratia symbiotica.html\">Serratia symbiotica</a></td>                      <td>1</td>                      <td>0</td>                      <td>-1</td>                      <td>0</td>                      <td>0</td></tr>\n",
              "<tr><td><a href=\"species/pea aphids.html\">pea aphids</a></td>                      <td>1</td>                      <td>0</td>                      <td>-1</td>                      <td>0</td>                      <td>0</td></tr>\n",
              "<tr><td><a href=\"species/S. symbiotica.html\">S. symbiotica</a></td>                      <td>4</td>                      <td>0</td>                      <td>-1</td>                      <td>0</td>                      <td>0</td></tr>\n",
              "<tr><td><a href=\"species/Apis cerana cerana.html\">Apis cerana cerana</a></td>                      <td>1</td>                      <td>0</td>                      <td>-1</td>                      <td>0</td>                      <td>0</td></tr>\n",
              "<tr><td><a href=\"species/Apis cerana cerana (Acc).html\">Apis cerana cerana (Acc)</a></td>                      <td>1</td>                      <td>0</td>                      <td>-1</td>                      <td>0</td>                      <td>0</td></tr>\n",
              "<tr><td><a href=\"species/worker honeybees.html\">worker honeybees</a></td>                      <td>1</td>                      <td>0</td>                      <td>-1</td>                      <td>0</td>                      <td>0</td></tr>\n",
              "<tr><td><a href=\"species/honeybees.html\">honeybees</a></td>                      <td>2</td>                      <td>0</td>                      <td>-1</td>                      <td>0</td>                      <td>0</td></tr>\n",
              "<tr><td><a href=\"species/Eciton burchellii.html\">Eciton burchellii</a></td>                      <td>1</td>                      <td>0</td>                      <td>-1</td>                      <td>0</td>                      <td>0</td></tr>\n",
              "<tr><td><a href=\"species/Agrobacterium tumefasciens.html\">Agrobacterium tumefasciens</a></td>                      <td>1</td>                      <td>0</td>                      <td>-1</td>                      <td>0</td>                      <td>0</td></tr>\n",
              "<tr><td><a href=\"species/Blastocladiella emersonii.html\">Blastocladiella emersonii</a></td>                      <td>2</td>                      <td>0</td>                      <td>-1</td>                      <td>0</td>                      <td>0</td></tr>\n",
              "<tr><td><a href=\"species/Agrobacterium tumefsciens.html\">Agrobacterium tumefsciens</a></td>                      <td>1</td>                      <td>0</td>                      <td>-1</td>                      <td>0</td>                      <td>0</td></tr>\n",
              "<tr><td><a href=\"species/honey bee.html\">honey bee</a></td>                      <td>3</td>                      <td>1</td>                      <td>0.75</td>                      <td>0</td>                      <td>-1</td></tr>\n",
              "<tr><td><a href=\"species/Apis mellifera.html\">Apis mellifera</a></td>                      <td>3</td>                      <td>0</td>                      <td>-1</td>                      <td>0</td>                      <td>0</td></tr>\n",
              "<tr><td><a href=\"species/honey bees.html\">honey bees</a></td>                      <td>2</td>                      <td>1</td>                      <td>0.666</td>                      <td>0</td>                      <td>-1</td></tr>\n",
              "<tr><td><a href=\"species/American alligators.html\">American alligators</a></td>                      <td>2</td>                      <td>0</td>                      <td>-1</td>                      <td>0</td>                      <td>0</td></tr>\n",
              "<tr><td><a href=\"species/Alligator mississippiensis.html\">Alligator mississippiensis</a></td>                      <td>1</td>                      <td>0</td>                      <td>-1</td>                      <td>0</td>                      <td>0</td></tr>\n",
              "<tr><td><a href=\"species/African striped mouse.html\">African striped mouse</a></td>                      <td>1</td>                      <td>0</td>                      <td>-1</td>                      <td>0</td>                      <td>0</td></tr>\n",
              "<tr><td><a href=\"species/Rhabdomys pumilio.html\">Rhabdomys pumilio</a></td>                      <td>1</td>                      <td>0</td>                      <td>-1</td>                      <td>0</td>                      <td>0</td></tr>\n",
              "<tr><td><a href=\"species/Crithidia deanei.html\">Crithidia deanei</a></td>                      <td>1</td>                      <td>0</td>                      <td>-1</td>                      <td>0</td>                      <td>0</td></tr>\n",
              "<tr><td><a href=\"species/C. desouzai.html\">C. desouzai</a></td>                      <td>1</td>                      <td>0</td>                      <td>-1</td>                      <td>0</td>                      <td>0</td></tr>\n",
              "<tr><td><a href=\"species/Crithidia oncopelti.html\">Crithidia oncopelti</a></td>                      <td>1</td>                      <td>0</td>                      <td>-1</td>                      <td>0</td>                      <td>0</td></tr>\n",
              "<tr><td><a href=\"species/Blastocrithidia culicis.html\">Blastocrithidia culicis</a></td>                      <td>1</td>                      <td>0</td>                      <td>-1</td>                      <td>0</td>                      <td>0</td></tr>\n",
              "<tr><td><a href=\"species/roundhead galaxias.html\">roundhead galaxias</a></td>                      <td>2</td>                      <td>0</td>                      <td>-1</td>                      <td>0</td>                      <td>0</td></tr>\n",
              "<tr><td><a href=\"species/Galaxias anomalus.html\">Galaxias anomalus</a></td>                      <td>1</td>                      <td>0</td>                      <td>-1</td>                      <td>0</td>                      <td>0</td></tr>\n",
              "<tr><td><a href=\"species/native galaxias.html\">native galaxias</a></td>                      <td>1</td>                      <td>0</td>                      <td>-1</td>                      <td>0</td>                      <td>0</td></tr>\n",
              "<tr><td><a href=\"species/trout.html\">trout</a></td>                      <td>6</td>                      <td>4</td>                      <td>0.6</td>                      <td>0</td>                      <td>-1</td></tr>\n",
              "<tr><td><a href=\"species/galaxias.html\">galaxias</a></td>                      <td>7</td>                      <td>0</td>                      <td>-1</td>                      <td>0</td>                      <td>0</td></tr>\n",
              "<tr><td><a href=\"species/blue tits.html\">blue tits</a></td>                      <td>1</td>                      <td>0</td>                      <td>-1</td>                      <td>0</td>                      <td>0</td></tr>\n",
              "<tr><td><a href=\"species/Plasmodium relictum.html\">Plasmodium relictum</a></td>                      <td>1</td>                      <td>0</td>                      <td>-1</td>                      <td>0</td>                      <td>0</td></tr>\n",
              "<tr><td><a href=\"species/P. circumflexum.html\">P. circumflexum</a></td>                      <td>1</td>                      <td>0</td>                      <td>-1</td>                      <td>0</td>                      <td>0</td></tr>\n",
              "<tr><td><a href=\"species/Tiaris bicolor.html\">Tiaris bicolor</a></td>                      <td>2</td>                      <td>0</td>                      <td>-1</td>                      <td>0</td>                      <td>0</td></tr>\n",
              "<tr><td><a href=\"species/Coereba flaveola.html\">Coereba flaveola</a></td>                      <td>1</td>                      <td>0</td>                      <td>-1</td>                      <td>0</td>                      <td>0</td></tr>\n",
              "<tr><td><a href=\"species/Loxigilla noctis.html\">Loxigilla noctis</a></td>                      <td>1</td>                      <td>0</td>                      <td>-1</td>                      <td>0</td>                      <td>0</td></tr>\n",
              "<tr><td><a href=\"species/barbadensis.html\">barbadensis</a></td>                      <td>1</td>                      <td>0</td>                      <td>-1</td>                      <td>0</td>                      <td>0</td></tr>\n",
              "<tr><td><a href=\"species/Dermamoeba algensis n. sp..html\">Dermamoeba algensis n. sp.</a></td>                      <td>1</td>                      <td>0</td>                      <td>-1</td>                      <td>0</td>                      <td>0</td></tr>\n",
              "<tr><td><a href=\"species/D. algensis n. sp..html\">D. algensis n. sp.</a></td>                      <td>1</td>                      <td>0</td>                      <td>-1</td>                      <td>0</td>                      <td>0</td></tr>\n",
              "<tr><td><a href=\"species/D. algensis.html\">D. algensis</a></td>                      <td>1</td>                      <td>0</td>                      <td>-1</td>                      <td>0</td>                      <td>0</td></tr>\n",
              "<tr><td><a href=\"species/bean bug.html\">bean bug</a></td>                      <td>2</td>                      <td>0</td>                      <td>-1</td>                      <td>0</td>                      <td>0</td></tr>\n",
              "<tr><td><a href=\"species/Riptortus pedestris.html\">Riptortus pedestris</a></td>                      <td>2</td>                      <td>0</td>                      <td>-1</td>                      <td>0</td>                      <td>0</td></tr>\n",
              "<tr><td><a href=\"species/human metapneumovirus.html\">human metapneumovirus</a></td>                      <td>1</td>                      <td>0</td>                      <td>-1</td>                      <td>0</td>                      <td>0</td></tr>\n",
              "<tr><td><a href=\"species/human bocavirus.html\">human bocavirus</a></td>                      <td>1</td>                      <td>0</td>                      <td>-1</td>                      <td>0</td>                      <td>0</td></tr>\n",
              "<tr><td><a href=\"species/Fusariumgraminearum species complex.html\">Fusariumgraminearum species complex</a></td>                      <td>1</td>                      <td>0</td>                      <td>-1</td>                      <td>0</td>                      <td>0</td></tr>\n",
              "<tr><td><a href=\"species/Fusariumsacchari.html\">Fusariumsacchari</a></td>                      <td>1</td>                      <td>0</td>                      <td>-1</td>                      <td>0</td>                      <td>0</td></tr>\n",
              "<tr><td><a href=\"species/Salvelinus alpines.html\">Salvelinus alpines</a></td>                      <td>1</td>                      <td>0</td>                      <td>-1</td>                      <td>0</td>                      <td>0</td></tr>\n",
              "<tr><td><a href=\"species/charr's.html\">charr's</a></td>                      <td>1</td>                      <td>0</td>                      <td>-1</td>                      <td>0</td>                      <td>0</td></tr>\n",
              "<tr><td><a href=\"species/Baculovirus.html\">Baculovirus</a></td>                      <td>1</td>                      <td>1</td>                      <td>0.5</td>                      <td>0</td>                      <td>-1</td></tr>\n",
              "<tr><td><a href=\"species/baculovirus.html\">baculovirus</a></td>                      <td>2</td>                      <td>1</td>                      <td>0.666</td>                      <td>0</td>                      <td>-1</td></tr>\n",
              "<tr><td><a href=\"species/Chrysodeixis chalcites.html\">Chrysodeixis chalcites</a></td>                      <td>1</td>                      <td>0</td>                      <td>-1</td>                      <td>0</td>                      <td>0</td></tr>\n",
              "<tr><td><a href=\"species/Spodoptera exigua.html\">Spodoptera exigua</a></td>                      <td>1</td>                      <td>0</td>                      <td>-1</td>                      <td>0</td>                      <td>0</td></tr>\n",
              "<tr><td><a href=\"species/baculoviruses.html\">baculoviruses</a></td>                      <td>1</td>                      <td>0</td>                      <td>-1</td>                      <td>0</td>                      <td>0</td></tr>\n",
              "<tr><td><a href=\"species/Spodoptera litura GV.html\">Spodoptera litura GV</a></td>                      <td>1</td>                      <td>0</td>                      <td>-1</td>                      <td>0</td>                      <td>0</td></tr>\n",
              "<tr><td><a href=\"species/red fox.html\">red fox</a></td>                      <td>1</td>                      <td>0</td>                      <td>-1</td>                      <td>0</td>                      <td>0</td></tr>\n",
              "<tr><td><a href=\"species/red foxes.html\">red foxes</a></td>                      <td>3</td>                      <td>0</td>                      <td>-1</td>                      <td>0</td>                      <td>0</td></tr>\n",
              "<tr><td><a href=\"species/reindeer.html\">reindeer</a></td>                      <td>2</td>                      <td>0</td>                      <td>-1</td>                      <td>0</td>                      <td>0</td></tr>\n",
              "<tr><td><a href=\"species/voles.html\">voles</a></td>                      <td>1</td>                      <td>0</td>                      <td>-1</td>                      <td>0</td>                      <td>0</td></tr>\n",
              "<tr><td><a href=\"species/great tit.html\">great tit</a></td>                      <td>2</td>                      <td>0</td>                      <td>-1</td>                      <td>0</td>                      <td>0</td></tr>\n",
              "<tr><td><a href=\"species/Parus major.html\">Parus major</a></td>                      <td>1</td>                      <td>0</td>                      <td>-1</td>                      <td>0</td>                      <td>0</td></tr>\n",
              "<tr><td><a href=\"species/Sindbis.html\">Sindbis</a></td>                      <td>1</td>                      <td>0</td>                      <td>-1</td>                      <td>0</td>                      <td>0</td></tr>\n",
              "<tr><td><a href=\"species/SINV.html\">SINV</a></td>                      <td>1</td>                      <td>0</td>                      <td>-1</td>                      <td>0</td>                      <td>0</td></tr>\n",
              "<tr><td><a href=\"species/Sitophilus zeamais.html\">Sitophilus zeamais</a></td>                      <td>2</td>                      <td>0</td>                      <td>-1</td>                      <td>0</td>                      <td>0</td></tr>\n",
              "<tr><td><a href=\"species/maize weevil.html\">maize weevil</a></td>                      <td>1</td>                      <td>0</td>                      <td>-1</td>                      <td>0</td>                      <td>0</td></tr>\n",
              "<tr><td><a href=\"species/S. zeamais.html\">S. zeamais</a></td>                      <td>5</td>                      <td>0</td>                      <td>-1</td>                      <td>0</td>                      <td>0</td></tr>\n",
              "<tr><td><a href=\"species/P. caudatum.html\">P. caudatum</a></td>                      <td>2</td>                      <td>0</td>                      <td>-1</td>                      <td>0</td>                      <td>0</td></tr>\n",
              "<tr><td><a href=\"species/Plasmodiophora brassicae.html\">Plasmodiophora brassicae</a></td>                      <td>3</td>                      <td>0</td>                      <td>-1</td>                      <td>0</td>                      <td>0</td></tr>\n",
              "<tr><td><a href=\"species/P. brassicae.html\">P. brassicae</a></td>                      <td>1</td>                      <td>0</td>                      <td>-1</td>                      <td>0</td>                      <td>0</td></tr>\n",
              "<tr><td><a href=\"species/Gymnodinium myriopyrenoides.html\">Gymnodinium myriopyrenoides</a></td>                      <td>2</td>                      <td>0</td>                      <td>-1</td>                      <td>0</td>                      <td>0</td></tr>\n",
              "<tr><td><a href=\"species/G. myriopyrenoides.html\">G. myriopyrenoides</a></td>                      <td>3</td>                      <td>0</td>                      <td>-1</td>                      <td>0</td>                      <td>0</td></tr>\n",
              "<tr><td><a href=\"species/Amphidinium poecilochroum.html\">Amphidinium poecilochroum</a></td>                      <td>1</td>                      <td>0</td>                      <td>-1</td>                      <td>0</td>                      <td>0</td></tr>\n",
              "<tr><td><a href=\"species/Gymnodinium acidotum.html\">Gymnodinium acidotum</a></td>                      <td>1</td>                      <td>0</td>                      <td>-1</td>                      <td>0</td>                      <td>0</td></tr>\n",
              "<tr><td><a href=\"species/Hepatitis delta virus.html\">Hepatitis delta virus</a></td>                      <td>2</td>                      <td>0</td>                      <td>-1</td>                      <td>0</td>                      <td>0</td></tr>\n",
              "<tr><td><a href=\"species/hepatitis D.html\">hepatitis D</a></td>                      <td>1</td>                      <td>0</td>                      <td>-1</td>                      <td>0</td>                      <td>0</td></tr>\n",
              "<tr><td><a href=\"species/Cochliobolus luttrellii.html\">Cochliobolus luttrellii</a></td>                      <td>1</td>                      <td>0</td>                      <td>-1</td>                      <td>0</td>                      <td>0</td></tr>\n",
              "<tr><td><a href=\"species/Cochliobolus heterostrophus.html\">Cochliobolus heterostrophus</a></td>                      <td>1</td>                      <td>0</td>                      <td>-1</td>                      <td>0</td>                      <td>0</td></tr>\n",
              "<tr><td><a href=\"species/C. heterostrophus.html\">C. heterostrophus</a></td>                      <td>7</td>                      <td>0</td>                      <td>-1</td>                      <td>0</td>                      <td>0</td></tr>\n",
              "<tr><td><a href=\"species/C. luttrellii.html\">C. luttrellii</a></td>                      <td>11</td>                      <td>0</td>                      <td>-1</td>                      <td>0</td>                      <td>0</td></tr>\n",
              "<tr><td><a href=\"species/green turtles.html\">green turtles</a></td>                      <td>2</td>                      <td>0</td>                      <td>-1</td>                      <td>0</td>                      <td>0</td></tr>\n",
              "<tr><td><a href=\"species/Chelonia mydas.html\">Chelonia mydas</a></td>                      <td>1</td>                      <td>0</td>                      <td>-1</td>                      <td>0</td>                      <td>0</td></tr>\n",
              "<tr><td><a href=\"species/Bemisia tabaci.html\">Bemisia tabaci</a></td>                      <td>6</td>                      <td>0</td>                      <td>-1</td>                      <td>0</td>                      <td>0</td></tr>\n",
              "<tr><td><a href=\"species/Trialeurodes vaporariorum.html\">Trialeurodes vaporariorum</a></td>                      <td>5</td>                      <td>0</td>                      <td>-1</td>                      <td>0</td>                      <td>0</td></tr>\n",
              "<tr><td><a href=\"species/B. tabaci.html\">B. tabaci</a></td>                      <td>11</td>                      <td>2</td>                      <td>0.846</td>                      <td>0</td>                      <td>-1</td></tr>\n",
              "<tr><td><a href=\"species/T. vaporariorum.html\">T. vaporariorum</a></td>                      <td>14</td>                      <td>0</td>                      <td>-1</td>                      <td>0</td>                      <td>0</td></tr>\n",
              "<tr><td><a href=\"species/cotton.html\">cotton</a></td>                      <td>3</td>                      <td>2</td>                      <td>0.6</td>                      <td>0</td>                      <td>-1</td></tr>\n",
              "<tr><td><a href=\"species/cabbage.html\">cabbage</a></td>                      <td>2</td>                      <td>0</td>                      <td>-1</td>                      <td>0</td>                      <td>0</td></tr>\n",
              "<tr><td><a href=\"species/Anopheles peditaeniatus.html\">Anopheles peditaeniatus</a></td>                      <td>2</td>                      <td>0</td>                      <td>-1</td>                      <td>0</td>                      <td>0</td></tr>\n",
              "<tr><td><a href=\"species/buffalo.html\">buffalo</a></td>                      <td>1</td>                      <td>0</td>                      <td>-1</td>                      <td>0</td>                      <td>0</td></tr>\n",
              "<tr><td><a href=\"species/An. peditaeniatus.html\">An. peditaeniatus</a></td>                      <td>1</td>                      <td>0</td>                      <td>-1</td>                      <td>0</td>                      <td>0</td></tr>\n",
              "<tr><td><a href=\"species/Silkworm.html\">Silkworm</a></td>                      <td>1</td>                      <td>0</td>                      <td>-1</td>                      <td>0</td>                      <td>0</td></tr>\n",
              "<tr><td><a href=\"species/Bombyx mori L.html\">Bombyx mori L</a></td>                      <td>1</td>                      <td>0</td>                      <td>-1</td>                      <td>0</td>                      <td>0</td></tr>\n",
              "<tr><td><a href=\"species/Toxoneuron nigriceps.html\">Toxoneuron nigriceps</a></td>                      <td>2</td>                      <td>0</td>                      <td>-1</td>                      <td>0</td>                      <td>0</td></tr>\n",
              "<tr><td><a href=\"species/T. nigriceps.html\">T. nigriceps</a></td>                      <td>4</td>                      <td>0</td>                      <td>-1</td>                      <td>0</td>                      <td>0</td></tr>\n",
              "<tr><td><a href=\"species/stink bug.html\">stink bug</a></td>                      <td>2</td>                      <td>0</td>                      <td>-1</td>                      <td>0</td>                      <td>0</td></tr>\n",
              "<tr><td><a href=\"species/Tenebrio molitor.html\">Tenebrio molitor</a></td>                      <td>1</td>                      <td>0</td>                      <td>-1</td>                      <td>0</td>                      <td>0</td></tr>\n",
              "<tr><td><a href=\"species/Beauveria bassiana.html\">Beauveria bassiana</a></td>                      <td>5</td>                      <td>0</td>                      <td>-1</td>                      <td>0</td>                      <td>0</td></tr>\n",
              "<tr><td><a href=\"species/Metarhizium anisopliae.html\">Metarhizium anisopliae</a></td>                      <td>1</td>                      <td>0</td>                      <td>-1</td>                      <td>0</td>                      <td>0</td></tr>\n",
              "<tr><td><a href=\"species/lsaria (=Paecilomyces) sp..html\">lsaria (=Paecilomyces) sp.</a></td>                      <td>1</td>                      <td>0</td>                      <td>-1</td>                      <td>0</td>                      <td>0</td></tr>\n",
              "<tr><td><a href=\"species/B. bassiana.html\">B. bassiana</a></td>                      <td>12</td>                      <td>1</td>                      <td>0.923</td>                      <td>0</td>                      <td>-1</td></tr>\n",
              "<tr><td><a href=\"species/M. anisopliae.html\">M. anisopliae</a></td>                      <td>2</td>                      <td>1</td>                      <td>0.666</td>                      <td>0</td>                      <td>-1</td></tr>\n",
              "<tr><td><a href=\"species/Cuban laurel thrips.html\">Cuban laurel thrips</a></td>                      <td>1</td>                      <td>0</td>                      <td>-1</td>                      <td>0</td>                      <td>0</td></tr>\n",
              "<tr><td><a href=\"species/greenhouse whitefly.html\">greenhouse whitefly</a></td>                      <td>1</td>                      <td>0</td>                      <td>-1</td>                      <td>0</td>                      <td>0</td></tr>\n",
              "<tr><td><a href=\"species/Baetis rhodani.html\">Baetis rhodani</a></td>                      <td>1</td>                      <td>0</td>                      <td>-1</td>                      <td>0</td>                      <td>0</td></tr>\n",
              "<tr><td><a href=\"species/B. rhodani.html\">B. rhodani</a></td>                      <td>1</td>                      <td>0</td>                      <td>-1</td>                      <td>0</td>                      <td>0</td></tr>\n",
              "<tr><td><a href=\"species/root voles.html\">root voles</a></td>                      <td>1</td>                      <td>0</td>                      <td>-1</td>                      <td>0</td>                      <td>0</td></tr>\n",
              "<tr><td><a href=\"species/Microtus oeconomus.html\">Microtus oeconomus</a></td>                      <td>1</td>                      <td>0</td>                      <td>-1</td>                      <td>0</td>                      <td>0</td></tr>\n",
              "<tr><td><a href=\"species/predatory bug.html\">predatory bug</a></td>                      <td>2</td>                      <td>0</td>                      <td>-1</td>                      <td>0</td>                      <td>0</td></tr>\n",
              "<tr><td><a href=\"species/Pilophorus typicus.html\">Pilophorus typicus</a></td>                      <td>1</td>                      <td>0</td>                      <td>-1</td>                      <td>0</td>                      <td>0</td></tr>\n",
              "<tr><td><a href=\"species/Pilophorus typicus (Distant) (Heteroptera: Miridae).html\">Pilophorus typicus (Distant) (Heteroptera: Miridae)</a></td>                      <td>1</td>                      <td>0</td>                      <td>-1</td>                      <td>0</td>                      <td>0</td></tr>\n",
              "<tr><td><a href=\"species/P. typicus.html\">P. typicus</a></td>                      <td>4</td>                      <td>0</td>                      <td>-1</td>                      <td>0</td>                      <td>0</td></tr>\n",
              "<tr><td><a href=\"species/P. tricuspis.html\">P. tricuspis</a></td>                      <td>5</td>                      <td>0</td>                      <td>-1</td>                      <td>0</td>                      <td>0</td></tr>\n",
              "<tr><td><a href=\"species/P. curvatus.html\">P. curvatus</a></td>                      <td>2</td>                      <td>0</td>                      <td>-1</td>                      <td>0</td>                      <td>0</td></tr>\n",
              "<tr><td><a href=\"species/Solenopsis invicta Buren.html\">Solenopsis invicta Buren</a></td>                      <td>1</td>                      <td>0</td>                      <td>-1</td>                      <td>0</td>                      <td>0</td></tr>\n",
              "<tr><td><a href=\"species/S. richteri Forel.html\">S. richteri Forel</a></td>                      <td>1</td>                      <td>0</td>                      <td>-1</td>                      <td>0</td>                      <td>0</td></tr>\n",
              "<tr><td><a href=\"species/Pseudacteon tricuspis Borgmeier.html\">Pseudacteon tricuspis Borgmeier</a></td>                      <td>1</td>                      <td>0</td>                      <td>-1</td>                      <td>0</td>                      <td>0</td></tr>\n",
              "<tr><td><a href=\"species/P. curvatus Borgmeier.html\">P. curvatus Borgmeier</a></td>                      <td>1</td>                      <td>0</td>                      <td>-1</td>                      <td>0</td>                      <td>0</td></tr>\n",
              "<tr><td><a href=\"species/red imported fire ants.html\">red imported fire ants</a></td>                      <td>2</td>                      <td>0</td>                      <td>-1</td>                      <td>0</td>                      <td>0</td></tr>\n",
              "<tr><td><a href=\"species/S. invicta.html\">S. invicta</a></td>                      <td>3</td>                      <td>0</td>                      <td>-1</td>                      <td>0</td>                      <td>0</td></tr>\n",
              "<tr><td><a href=\"species/black.html\">black</a></td>                      <td>1</td>                      <td>7</td>                      <td>0.125</td>                      <td>0</td>                      <td>-1</td></tr>\n",
              "<tr><td><a href=\"species/New World screw-worm.html\">New World screw-worm</a></td>                      <td>1</td>                      <td>0</td>                      <td>-1</td>                      <td>0</td>                      <td>0</td></tr>\n",
              "<tr><td><a href=\"species/Cochliomyia hominivorax.html\">Cochliomyia hominivorax</a></td>                      <td>2</td>                      <td>0</td>                      <td>-1</td>                      <td>0</td>                      <td>0</td></tr>\n",
              "<tr><td><a href=\"species/C. hominivorax.html\">C. hominivorax</a></td>                      <td>1</td>                      <td>0</td>                      <td>-1</td>                      <td>0</td>                      <td>0</td></tr>\n",
              "<tr><td><a href=\"species/melon fly.html\">melon fly</a></td>                      <td>2</td>                      <td>0</td>                      <td>-1</td>                      <td>0</td>                      <td>0</td></tr>\n",
              "<tr><td><a href=\"species/Bactrocera cucurbitae.html\">Bactrocera cucurbitae</a></td>                      <td>2</td>                      <td>0</td>                      <td>-1</td>                      <td>0</td>                      <td>0</td></tr>\n",
              "<tr><td><a href=\"species/Oriental fruit fly.html\">Oriental fruit fly</a></td>                      <td>1</td>                      <td>0</td>                      <td>-1</td>                      <td>0</td>                      <td>0</td></tr>\n",
              "<tr><td><a href=\"species/B. dorsalis.html\">B. dorsalis</a></td>                      <td>4</td>                      <td>0</td>                      <td>-1</td>                      <td>0</td>                      <td>0</td></tr>\n",
              "<tr><td><a href=\"species/oriental fruit fly.html\">oriental fruit fly</a></td>                      <td>1</td>                      <td>0</td>                      <td>-1</td>                      <td>0</td>                      <td>0</td></tr>\n",
              "<tr><td><a href=\"species/B. cucurbitae.html\">B. cucurbitae</a></td>                      <td>7</td>                      <td>0</td>                      <td>-1</td>                      <td>0</td>                      <td>0</td></tr>\n",
              "<tr><td><a href=\"species/Manihot esculenta.html\">Manihot esculenta</a></td>                      <td>1</td>                      <td>0</td>                      <td>-1</td>                      <td>0</td>                      <td>0</td></tr>\n",
              "<tr><td><a href=\"species/M. esculenta.html\">M. esculenta</a></td>                      <td>5</td>                      <td>0</td>                      <td>-1</td>                      <td>0</td>                      <td>0</td></tr>\n",
              "<tr><td><a href=\"species/papaya.html\">papaya</a></td>                      <td>1</td>                      <td>0</td>                      <td>-1</td>                      <td>0</td>                      <td>0</td></tr>\n",
              "<tr><td><a href=\"species/Carica papaya.html\">Carica papaya</a></td>                      <td>1</td>                      <td>0</td>                      <td>-1</td>                      <td>0</td>                      <td>0</td></tr>\n",
              "<tr><td><a href=\"species/castor bean.html\">castor bean</a></td>                      <td>2</td>                      <td>0</td>                      <td>-1</td>                      <td>0</td>                      <td>0</td></tr>\n",
              "<tr><td><a href=\"species/Ricinus communis.html\">Ricinus communis</a></td>                      <td>1</td>                      <td>0</td>                      <td>-1</td>                      <td>0</td>                      <td>0</td></tr>\n",
              "<tr><td><a href=\"species/R. communis.html\">R. communis</a></td>                      <td>1</td>                      <td>0</td>                      <td>-1</td>                      <td>0</td>                      <td>0</td></tr>\n",
              "<tr><td><a href=\"species/Solenopsis invicta.html\">Solenopsis invicta</a></td>                      <td>5</td>                      <td>0</td>                      <td>-1</td>                      <td>0</td>                      <td>0</td></tr>\n",
              "<tr><td><a href=\"species/Hymenoptera.html\">Hymenoptera</a></td>                      <td>1</td>                      <td>0</td>                      <td>-1</td>                      <td>0</td>                      <td>0</td></tr>\n",
              "<tr><td><a href=\"species/Heliconius erato.html\">Heliconius erato</a></td>                      <td>2</td>                      <td>0</td>                      <td>-1</td>                      <td>0</td>                      <td>0</td></tr>\n",
              "<tr><td><a href=\"species/H. erato.html\">H. erato</a></td>                      <td>1</td>                      <td>0</td>                      <td>-1</td>                      <td>0</td>                      <td>0</td></tr>\n",
              "<tr><td><a href=\"species/D. derouxi.html\">D. derouxi</a></td>                      <td>1</td>                      <td>0</td>                      <td>-1</td>                      <td>0</td>                      <td>0</td></tr>\n",
              "<tr><td><a href=\"species/Geleia sinica spec. nov..html\">Geleia sinica spec. nov.</a></td>                      <td>2</td>                      <td>0</td>                      <td>-1</td>                      <td>0</td>                      <td>0</td></tr>\n",
              "<tr><td><a href=\"species/K. flavus.html\">K. flavus</a></td>                      <td>1</td>                      <td>0</td>                      <td>-1</td>                      <td>0</td>                      <td>0</td></tr>\n",
              "<tr><td><a href=\"species/K. gracilis.html\">K. gracilis</a></td>                      <td>1</td>                      <td>0</td>                      <td>-1</td>                      <td>0</td>                      <td>0</td></tr>\n",
              "<tr><td><a href=\"species/Geleia simplex (Faure-Fremiet, 1951).html\">Geleia simplex (Faure-Fremiet, 1951)</a></td>                      <td>1</td>                      <td>0</td>                      <td>-1</td>                      <td>0</td>                      <td>0</td></tr>\n",
              "<tr><td><a href=\"species/Kentrophoros flavus Raikov and Kovaleva, 1968.html\">Kentrophoros flavus Raikov and Kovaleva, 1968</a></td>                      <td>1</td>                      <td>0</td>                      <td>-1</td>                      <td>0</td>                      <td>0</td></tr>\n",
              "<tr><td><a href=\"species/Kentrophoros gracilis Raikov, 1963.html\">Kentrophoros gracilis Raikov, 1963</a></td>                      <td>1</td>                      <td>0</td>                      <td>-1</td>                      <td>0</td>                      <td>0</td></tr>\n",
              "<tr><td><a href=\"species/Phaeodactylum tricornutum.html\">Phaeodactylum tricornutum</a></td>                      <td>2</td>                      <td>0</td>                      <td>-1</td>                      <td>0</td>                      <td>0</td></tr>\n",
              "<tr><td><a href=\"species/P. tricornutum.html\">P. tricornutum</a></td>                      <td>2</td>                      <td>0</td>                      <td>-1</td>                      <td>0</td>                      <td>0</td></tr>\n",
              "<tr><td><a href=\"species/Crithidia bombi.html\">Crithidia bombi</a></td>                      <td>1</td>                      <td>0</td>                      <td>-1</td>                      <td>0</td>                      <td>0</td></tr>\n",
              "<tr><td><a href=\"species/C. bombi.html\">C. bombi</a></td>                      <td>2</td>                      <td>0</td>                      <td>-1</td>                      <td>0</td>                      <td>0</td></tr>\n",
              "<tr><td><a href=\"species/Ploesoma hudsoni.html\">Ploesoma hudsoni</a></td>                      <td>1</td>                      <td>0</td>                      <td>-1</td>                      <td>0</td>                      <td>0</td></tr>\n",
              "<tr><td><a href=\"species/Colpoda cucullus.html\">Colpoda cucullus</a></td>                      <td>2</td>                      <td>0</td>                      <td>-1</td>                      <td>0</td>                      <td>0</td></tr>\n",
              "<tr><td><a href=\"species/Turk rahvan horse.html\">Turk rahvan horse</a></td>                      <td>1</td>                      <td>0</td>                      <td>-1</td>                      <td>0</td>                      <td>0</td></tr>\n",
              "<tr><td><a href=\"species/Equus caballus.html\">Equus caballus</a></td>                      <td>1</td>                      <td>0</td>                      <td>-1</td>                      <td>0</td>                      <td>0</td></tr>\n",
              "<tr><td><a href=\"species/Turk rahvan horses.html\">Turk rahvan horses</a></td>                      <td>2</td>                      <td>0</td>                      <td>-1</td>                      <td>0</td>                      <td>0</td></tr>\n",
              "<tr><td><a href=\"species/horses.html\">horses</a></td>                      <td>1</td>                      <td>4</td>                      <td>0.2</td>                      <td>0</td>                      <td>-1</td></tr>\n",
              "<tr><td><a href=\"species/Asian rice gall midge.html\">Asian rice gall midge</a></td>                      <td>2</td>                      <td>0</td>                      <td>-1</td>                      <td>0</td>                      <td>0</td></tr>\n",
              "<tr><td><a href=\"species/Orseolia oryzae.html\">Orseolia oryzae</a></td>                      <td>2</td>                      <td>0</td>                      <td>-1</td>                      <td>0</td>                      <td>0</td></tr>\n",
              "<tr><td><a href=\"species/European corn borer.html\">European corn borer</a></td>                      <td>1</td>                      <td>0</td>                      <td>-1</td>                      <td>0</td>                      <td>0</td></tr>\n",
              "<tr><td><a href=\"species/Ostrinia nubilalis.html\">Ostrinia nubilalis</a></td>                      <td>2</td>                      <td>0</td>                      <td>-1</td>                      <td>0</td>                      <td>0</td></tr>\n",
              "<tr><td><a href=\"species/Tribolium castaneum.html\">Tribolium castaneum</a></td>                      <td>3</td>                      <td>0</td>                      <td>-1</td>                      <td>0</td>                      <td>0</td></tr>\n",
              "<tr><td><a href=\"species/T. castaneum.html\">T. castaneum</a></td>                      <td>2</td>                      <td>0</td>                      <td>-1</td>                      <td>0</td>                      <td>0</td></tr>\n",
              "<tr><td><a href=\"species/Flock House virus B2.html\">Flock House virus B2</a></td>                      <td>1</td>                      <td>0</td>                      <td>-1</td>                      <td>0</td>                      <td>0</td></tr>\n",
              "<tr><td><a href=\"species/Cotesia plutellae bracovirus.html\">Cotesia plutellae bracovirus</a></td>                      <td>2</td>                      <td>0</td>                      <td>-1</td>                      <td>0</td>                      <td>0</td></tr>\n",
              "<tr><td><a href=\"species/CpBV.html\">CpBV</a></td>                      <td>1</td>                      <td>0</td>                      <td>-1</td>                      <td>0</td>                      <td>0</td></tr>\n",
              "<tr><td><a href=\"species/C. plutellae.html\">C. plutellae</a></td>                      <td>1</td>                      <td>0</td>                      <td>-1</td>                      <td>0</td>                      <td>0</td></tr>\n",
              "<tr><td><a href=\"species/Gryllus bimaculatus.html\">Gryllus bimaculatus</a></td>                      <td>1</td>                      <td>0</td>                      <td>-1</td>                      <td>0</td>                      <td>0</td></tr>\n",
              "<tr><td><a href=\"species/Gryllus bimaculatus DeGeer.html\">Gryllus bimaculatus DeGeer</a></td>                      <td>1</td>                      <td>0</td>                      <td>-1</td>                      <td>0</td>                      <td>0</td></tr>\n",
              "<tr><td><a href=\"species/housefly.html\">housefly</a></td>                      <td>3</td>                      <td>0</td>                      <td>-1</td>                      <td>0</td>                      <td>0</td></tr>\n",
              "<tr><td><a href=\"species/Sarcophaga crassipalpis.html\">Sarcophaga crassipalpis</a></td>                      <td>1</td>                      <td>0</td>                      <td>-1</td>                      <td>0</td>                      <td>0</td></tr>\n",
              "<tr><td><a href=\"species/fire ant.html\">fire ant</a></td>                      <td>5</td>                      <td>11</td>                      <td>0.312</td>                      <td>0</td>                      <td>-1</td></tr>\n",
              "<tr><td><a href=\"species/fire ants.html\">fire ants</a></td>                      <td>1</td>                      <td>3</td>                      <td>0.25</td>                      <td>0</td>                      <td>-1</td></tr>\n",
              "<tr><td><a href=\"species/Pichia membranifaciens.html\">Pichia membranifaciens</a></td>                      <td>2</td>                      <td>0</td>                      <td>-1</td>                      <td>0</td>                      <td>0</td></tr>\n",
              "<tr><td><a href=\"species/Vorticella infusionum.html\">Vorticella infusionum</a></td>                      <td>1</td>                      <td>0</td>                      <td>-1</td>                      <td>0</td>                      <td>0</td></tr>\n",
              "<tr><td><a href=\"species/Candida guilliermondii.html\">Candida guilliermondii</a></td>                      <td>2</td>                      <td>0</td>                      <td>-1</td>                      <td>0</td>                      <td>0</td></tr>\n",
              "<tr><td><a href=\"species/C. guilliermondii.html\">C. guilliermondii</a></td>                      <td>6</td>                      <td>0</td>                      <td>-1</td>                      <td>0</td>                      <td>0</td></tr>\n",
              "<tr><td><a href=\"species/pink bollworm.html\">pink bollworm</a></td>                      <td>1</td>                      <td>0</td>                      <td>-1</td>                      <td>0</td>                      <td>0</td></tr>\n",
              "<tr><td><a href=\"species/Pectinophora gossypiella.html\">Pectinophora gossypiella</a></td>                      <td>2</td>                      <td>0</td>                      <td>-1</td>                      <td>0</td>                      <td>0</td></tr>\n",
              "<tr><td><a href=\"species/Bacillus thuringiensis.html\">Bacillus thuringiensis</a></td>                      <td>3</td>                      <td>0</td>                      <td>-1</td>                      <td>0</td>                      <td>0</td></tr>\n",
              "<tr><td><a href=\"species/Bt.html\">Bt</a></td>                      <td>3</td>                      <td>1</td>                      <td>0.75</td>                      <td>0</td>                      <td>-1</td></tr>\n",
              "<tr><td><a href=\"species/N. crassa.html\">N. crassa</a></td>                      <td>8</td>                      <td>0</td>                      <td>-1</td>                      <td>0</td>                      <td>0</td></tr>\n",
              "<tr><td><a href=\"species/Amylostereum areolatum.html\">Amylostereum areolatum</a></td>                      <td>2</td>                      <td>0</td>                      <td>-1</td>                      <td>0</td>                      <td>0</td></tr>\n",
              "<tr><td><a href=\"species/A. areolatum.html\">A. areolatum</a></td>                      <td>1</td>                      <td>0</td>                      <td>-1</td>                      <td>0</td>                      <td>0</td></tr>\n",
              "<tr><td><a href=\"species/human body lice.html\">human body lice</a></td>                      <td>1</td>                      <td>0</td>                      <td>-1</td>                      <td>0</td>                      <td>0</td></tr>\n",
              "<tr><td><a href=\"species/body lice.html\">body lice</a></td>                      <td>1</td>                      <td>0</td>                      <td>-1</td>                      <td>0</td>                      <td>0</td></tr>\n",
              "<tr><td><a href=\"species/Galleria mellonella.html\">Galleria mellonella</a></td>                      <td>4</td>                      <td>0</td>                      <td>-1</td>                      <td>0</td>                      <td>0</td></tr>\n",
              "<tr><td><a href=\"species/Fusarium oxysporum.html\">Fusarium oxysporum</a></td>                      <td>2</td>                      <td>0</td>                      <td>-1</td>                      <td>0</td>                      <td>0</td></tr>\n",
              "<tr><td><a href=\"species/F. oxysporum f. sp. lycopersici isolate FGSC 9935.html\">F. oxysporum f. sp. lycopersici isolate FGSC 9935</a></td>                      <td>1</td>                      <td>0</td>                      <td>-1</td>                      <td>0</td>                      <td>0</td></tr>\n",
              "<tr><td><a href=\"species/tomato plants.html\">tomato plants</a></td>                      <td>1</td>                      <td>0</td>                      <td>-1</td>                      <td>0</td>                      <td>0</td></tr>\n",
              "<tr><td><a href=\"species/FGSC 9935.html\">FGSC 9935</a></td>                      <td>1</td>                      <td>0</td>                      <td>-1</td>                      <td>0</td>                      <td>0</td></tr>\n",
              "<tr><td><a href=\"species/greater wax moth.html\">greater wax moth</a></td>                      <td>2</td>                      <td>0</td>                      <td>-1</td>                      <td>0</td>                      <td>0</td></tr>\n",
              "<tr><td><a href=\"species/G. mellonella.html\">G. mellonella</a></td>                      <td>2</td>                      <td>0</td>                      <td>-1</td>                      <td>0</td>                      <td>0</td></tr>\n",
              "<tr><td><a href=\"species/F. oxysporum transformant.html\">F. oxysporum transformant</a></td>                      <td>1</td>                      <td>0</td>                      <td>-1</td>                      <td>0</td>                      <td>0</td></tr>\n",
              "<tr><td><a href=\"species/Aspergillus fumigatuscyp51A.html\">Aspergillus fumigatuscyp51A</a></td>                      <td>1</td>                      <td>0</td>                      <td>-1</td>                      <td>0</td>                      <td>0</td></tr>\n",
              "<tr><td><a href=\"species/N. lugens.html\">N. lugens</a></td>                      <td>5</td>                      <td>0</td>                      <td>-1</td>                      <td>0</td>                      <td>0</td></tr>\n",
              "<tr><td><a href=\"species/Paracoccidioides lutzii.html\">Paracoccidioides lutzii</a></td>                      <td>1</td>                      <td>0</td>                      <td>-1</td>                      <td>0</td>                      <td>0</td></tr>\n",
              "<tr><td><a href=\"species/A. oryzae.html\">A. oryzae</a></td>                      <td>5</td>                      <td>0</td>                      <td>-1</td>                      <td>0</td>                      <td>0</td></tr>\n",
              "<tr><td><a href=\"species/N. tetrasperma.html\">N. tetrasperma</a></td>                      <td>1</td>                      <td>0</td>                      <td>-1</td>                      <td>0</td>                      <td>0</td></tr>\n",
              "<tr><td><a href=\"species/Neurospora tetrasperma.html\">Neurospora tetrasperma</a></td>                      <td>1</td>                      <td>0</td>                      <td>-1</td>                      <td>0</td>                      <td>0</td></tr>\n",
              "<tr><td><a href=\"species/Leptogium saturninum.html\">Leptogium saturninum</a></td>                      <td>2</td>                      <td>0</td>                      <td>-1</td>                      <td>0</td>                      <td>0</td></tr>\n",
              "<tr><td><a href=\"species/Auricularia auricula-judae.html\">Auricularia auricula-judae</a></td>                      <td>1</td>                      <td>0</td>                      <td>-1</td>                      <td>0</td>                      <td>0</td></tr>\n",
              "<tr><td><a href=\"species/Penicillium marneffei.html\">Penicillium marneffei</a></td>                      <td>1</td>                      <td>0</td>                      <td>-1</td>                      <td>0</td>                      <td>0</td></tr>\n",
              "<tr><td><a href=\"species/Neosartorya fischeri.html\">Neosartorya fischeri</a></td>                      <td>1</td>                      <td>0</td>                      <td>-1</td>                      <td>0</td>                      <td>0</td></tr>\n",
              "<tr><td><a href=\"species/Coccinella septempunctata L..html\">Coccinella septempunctata L.</a></td>                      <td>1</td>                      <td>0</td>                      <td>-1</td>                      <td>0</td>                      <td>0</td></tr>\n",
              "<tr><td><a href=\"species/Hippodamia convergens Guerin-Meneville.html\">Hippodamia convergens Guerin-Meneville</a></td>                      <td>1</td>                      <td>0</td>                      <td>-1</td>                      <td>0</td>                      <td>0</td></tr>\n",
              "<tr><td><a href=\"species/Geocoris bullatus (Say).html\">Geocoris bullatus (Say)</a></td>                      <td>1</td>                      <td>0</td>                      <td>-1</td>                      <td>0</td>                      <td>0</td></tr>\n",
              "<tr><td><a href=\"species/Geocoris.html\">Geocoris</a></td>                      <td>4</td>                      <td>0</td>                      <td>-1</td>                      <td>0</td>                      <td>0</td></tr>\n",
              "<tr><td><a href=\"species/H. nuttallii.html\">H. nuttallii</a></td>                      <td>2</td>                      <td>0</td>                      <td>-1</td>                      <td>0</td>                      <td>0</td></tr>\n",
              "<tr><td><a href=\"species/H. pauciflorus.html\">H. pauciflorus</a></td>                      <td>2</td>                      <td>0</td>                      <td>-1</td>                      <td>0</td>                      <td>0</td></tr>\n",
              "<tr><td><a href=\"species/H. petiolaris.html\">H. petiolaris</a></td>                      <td>3</td>                      <td>0</td>                      <td>-1</td>                      <td>0</td>                      <td>0</td></tr>\n",
              "<tr><td><a href=\"species/H. annuus.html\">H. annuus</a></td>                      <td>3</td>                      <td>0</td>                      <td>-1</td>                      <td>0</td>                      <td>0</td></tr>\n",
              "<tr><td><a href=\"species/Grapholita molesta.html\">Grapholita molesta</a></td>                      <td>1</td>                      <td>0</td>                      <td>-1</td>                      <td>0</td>                      <td>0</td></tr>\n",
              "<tr><td><a href=\"species/Peach.html\">Peach</a></td>                      <td>1</td>                      <td>0</td>                      <td>-1</td>                      <td>0</td>                      <td>0</td></tr>\n",
              "<tr><td><a href=\"species/Prunus persica (L.) Batcsh.html\">Prunus persica (L.) Batcsh</a></td>                      <td>1</td>                      <td>0</td>                      <td>-1</td>                      <td>0</td>                      <td>0</td></tr>\n",
              "<tr><td><a href=\"species/oriental fruit moth.html\">oriental fruit moth</a></td>                      <td>1</td>                      <td>0</td>                      <td>-1</td>                      <td>0</td>                      <td>0</td></tr>\n",
              "<tr><td><a href=\"species/Grapholita molesta (Busck).html\">Grapholita molesta (Busck)</a></td>                      <td>1</td>                      <td>0</td>                      <td>-1</td>                      <td>0</td>                      <td>0</td></tr>\n",
              "<tr><td><a href=\"species/G. molesta.html\">G. molesta</a></td>                      <td>4</td>                      <td>1</td>                      <td>0.8</td>                      <td>0</td>                      <td>-1</td></tr>\n",
              "<tr><td><a href=\"species/Trichogramma minutum (Riley).html\">Trichogramma minutum (Riley)</a></td>                      <td>1</td>                      <td>0</td>                      <td>-1</td>                      <td>0</td>                      <td>0</td></tr>\n",
              "<tr><td><a href=\"species/Bacillus thuringiensis var. israelensis.html\">Bacillus thuringiensis var. israelensis</a></td>                      <td>1</td>                      <td>0</td>                      <td>-1</td>                      <td>0</td>                      <td>0</td></tr>\n",
              "<tr><td><a href=\"species/house flies.html\">house flies</a></td>                      <td>2</td>                      <td>0</td>                      <td>-1</td>                      <td>0</td>                      <td>0</td></tr>\n",
              "<tr><td><a href=\"species/Bacillus thuringiensis variety israelensis.html\">Bacillus thuringiensis variety israelensis</a></td>                      <td>1</td>                      <td>0</td>                      <td>-1</td>                      <td>0</td>                      <td>0</td></tr>\n",
              "<tr><td><a href=\"species/Bti.html\">Bti</a></td>                      <td>6</td>                      <td>0</td>                      <td>-1</td>                      <td>0</td>                      <td>0</td></tr>\n",
              "<tr><td><a href=\"species/M. domestica.html\">M. domestica</a></td>                      <td>2</td>                      <td>0</td>                      <td>-1</td>                      <td>0</td>                      <td>0</td></tr>\n",
              "<tr><td><a href=\"species/Pseudacteon tricuspis.html\">Pseudacteon tricuspis</a></td>                      <td>2</td>                      <td>0</td>                      <td>-1</td>                      <td>0</td>                      <td>0</td></tr>\n",
              "<tr><td><a href=\"species/Tribolium castaneum (Herbst).html\">Tribolium castaneum (Herbst)</a></td>                      <td>1</td>                      <td>0</td>                      <td>-1</td>                      <td>0</td>                      <td>0</td></tr>\n",
              "<tr><td><a href=\"species/Colorado potato beetle.html\">Colorado potato beetle</a></td>                      <td>1</td>                      <td>0</td>                      <td>-1</td>                      <td>0</td>                      <td>0</td></tr>\n",
              "<tr><td><a href=\"species/Leptinotarsa decemlineata (Say).html\">Leptinotarsa decemlineata (Say)</a></td>                      <td>1</td>                      <td>0</td>                      <td>-1</td>                      <td>0</td>                      <td>0</td></tr>\n",
              "<tr><td><a href=\"species/plum curculio.html\">plum curculio</a></td>                      <td>2</td>                      <td>0</td>                      <td>-1</td>                      <td>0</td>                      <td>0</td></tr>\n",
              "<tr><td><a href=\"species/Conotrachelus nenuphar (Herbst).html\">Conotrachelus nenuphar (Herbst)</a></td>                      <td>1</td>                      <td>0</td>                      <td>-1</td>                      <td>0</td>                      <td>0</td></tr>\n",
              "<tr><td><a href=\"species/western corn rootworm.html\">western corn rootworm</a></td>                      <td>2</td>                      <td>0</td>                      <td>-1</td>                      <td>0</td>                      <td>0</td></tr>\n",
              "<tr><td><a href=\"species/Diabrotica virgifera virgifera (LeConte).html\">Diabrotica virgifera virgifera (LeConte)</a></td>                      <td>1</td>                      <td>0</td>                      <td>-1</td>                      <td>0</td>                      <td>0</td></tr>\n",
              "<tr><td><a href=\"species/Colorado potato beetles.html\">Colorado potato beetles</a></td>                      <td>1</td>                      <td>0</td>                      <td>-1</td>                      <td>0</td>                      <td>0</td></tr>\n",
              "<tr><td><a href=\"species/plum curculios.html\">plum curculios</a></td>                      <td>1</td>                      <td>0</td>                      <td>-1</td>                      <td>0</td>                      <td>0</td></tr>\n",
              "<tr><td><a href=\"species/western corn rootworms.html\">western corn rootworms</a></td>                      <td>1</td>                      <td>0</td>                      <td>-1</td>                      <td>0</td>                      <td>0</td></tr>\n",
              "<tr><td><a href=\"species/Elatobium abietinum.html\">Elatobium abietinum</a></td>                      <td>1</td>                      <td>1</td>                      <td>0.5</td>                      <td>0</td>                      <td>-1</td></tr>\n",
              "<tr><td><a href=\"species/Sitka spruce.html\">Sitka spruce</a></td>                      <td>1</td>                      <td>0</td>                      <td>-1</td>                      <td>0</td>                      <td>0</td></tr>\n",
              "<tr><td><a href=\"species/E. abietinum.html\">E. abietinum</a></td>                      <td>3</td>                      <td>0</td>                      <td>-1</td>                      <td>0</td>                      <td>0</td></tr>\n",
              "<tr><td><a href=\"species/Osmia cornuta.html\">Osmia cornuta</a></td>                      <td>1</td>                      <td>0</td>                      <td>-1</td>                      <td>0</td>                      <td>0</td></tr>\n",
              "<tr><td><a href=\"species/O. cornuta.html\">O. cornuta</a></td>                      <td>1</td>                      <td>0</td>                      <td>-1</td>                      <td>0</td>                      <td>0</td></tr>\n",
              "<tr><td><a href=\"species/sweetpotato whitefly.html\">sweetpotato whitefly</a></td>                      <td>1</td>                      <td>0</td>                      <td>-1</td>                      <td>0</td>                      <td>0</td></tr>\n",
              "<tr><td><a href=\"species/Streptococcus ursoris sp. nov..html\">Streptococcus ursoris sp. nov.</a></td>                      <td>2</td>                      <td>0</td>                      <td>-1</td>                      <td>0</td>                      <td>0</td></tr>\n",
              "<tr><td><a href=\"species/Streptococcus ratti ATCC 19645.html\">Streptococcus ratti ATCC 19645</a></td>                      <td>1</td>                      <td>0</td>                      <td>-1</td>                      <td>0</td>                      <td>0</td></tr>\n",
              "<tr><td><a href=\"species/S. ratti.html\">S. ratti</a></td>                      <td>1</td>                      <td>0</td>                      <td>-1</td>                      <td>0</td>                      <td>0</td></tr>\n",
              "<tr><td><a href=\"species/S. ursoris.html\">S. ursoris</a></td>                      <td>1</td>                      <td>0</td>                      <td>-1</td>                      <td>0</td>                      <td>0</td></tr>\n",
              "<tr><td><a href=\"species/NUM 1615(T).html\">NUM 1615(T)</a></td>                      <td>1</td>                      <td>0</td>                      <td>-1</td>                      <td>0</td>                      <td>0</td></tr>\n",
              "<tr><td><a href=\"species/Larkinella bovis.html\">Larkinella bovis</a></td>                      <td>2</td>                      <td>0</td>                      <td>-1</td>                      <td>0</td>                      <td>0</td></tr>\n",
              "<tr><td><a href=\"species/Larkinella insperata.html\">Larkinella insperata</a></td>                      <td>3</td>                      <td>0</td>                      <td>-1</td>                      <td>0</td>                      <td>0</td></tr>\n",
              "<tr><td><a href=\"species/M2T2B15.html\">M2T2B15</a></td>                      <td>5</td>                      <td>0</td>                      <td>-1</td>                      <td>0</td>                      <td>0</td></tr>\n",
              "<tr><td><a href=\"species/M2(T).html\">M2(T)</a></td>                      <td>6</td>                      <td>0</td>                      <td>-1</td>                      <td>0</td>                      <td>0</td></tr>\n",
              "<tr><td><a href=\"species/Methanobacterium veterum MK4(T).html\">Methanobacterium veterum MK4(T)</a></td>                      <td>1</td>                      <td>0</td>                      <td>-1</td>                      <td>0</td>                      <td>0</td></tr>\n",
              "<tr><td><a href=\"species/Methanobacterium bryantii.html\">Methanobacterium bryantii</a></td>                      <td>1</td>                      <td>0</td>                      <td>-1</td>                      <td>0</td>                      <td>0</td></tr>\n",
              "<tr><td><a href=\"species/DSM 863(T).html\">DSM 863(T)</a></td>                      <td>1</td>                      <td>0</td>                      <td>-1</td>                      <td>0</td>                      <td>0</td></tr>\n",
              "<tr><td><a href=\"species/Thiomonas islandica.html\">Thiomonas islandica</a></td>                      <td>2</td>                      <td>0</td>                      <td>-1</td>                      <td>0</td>                      <td>0</td></tr>\n",
              "<tr><td><a href=\"species/betaproteobacterium.html\">betaproteobacterium</a></td>                      <td>1</td>                      <td>0</td>                      <td>-1</td>                      <td>0</td>                      <td>0</td></tr>\n",
              "<tr><td><a href=\"species/6C(T).html\">6C(T)</a></td>                      <td>5</td>                      <td>0</td>                      <td>-1</td>                      <td>0</td>                      <td>0</td></tr>\n",
              "<tr><td><a href=\"species/Betaproteobacteria.html\">Betaproteobacteria</a></td>                      <td>1</td>                      <td>1</td>                      <td>0.5</td>                      <td>0</td>                      <td>-1</td></tr>\n",
              "<tr><td><a href=\"species/Thiomonas intermedia.html\">Thiomonas intermedia</a></td>                      <td>2</td>                      <td>0</td>                      <td>-1</td>                      <td>0</td>                      <td>0</td></tr>\n",
              "<tr><td><a href=\"species/DSM 18155(T).html\">DSM 18155(T)</a></td>                      <td>2</td>                      <td>0</td>                      <td>-1</td>                      <td>0</td>                      <td>0</td></tr>\n",
              "<tr><td><a href=\"species/Thiomonas perometabolis.html\">Thiomonas perometabolis</a></td>                      <td>2</td>                      <td>0</td>                      <td>-1</td>                      <td>0</td>                      <td>0</td></tr>\n",
              "<tr><td><a href=\"species/DSM 18570(T).html\">DSM 18570(T)</a></td>                      <td>2</td>                      <td>0</td>                      <td>-1</td>                      <td>0</td>                      <td>0</td></tr>\n",
              "<tr><td><a href=\"species/DSM 21436(T).html\">DSM 21436(T)</a></td>                      <td>1</td>                      <td>0</td>                      <td>-1</td>                      <td>0</td>                      <td>0</td></tr>\n",
              "<tr><td><a href=\"species/JCM 16107(T).html\">JCM 16107(T)</a></td>                      <td>1</td>                      <td>0</td>                      <td>-1</td>                      <td>0</td>                      <td>0</td></tr>\n",
              "<tr><td><a href=\"species/Nocardioides caricicola sp. nov..html\">Nocardioides caricicola sp. nov.</a></td>                      <td>2</td>                      <td>0</td>                      <td>-1</td>                      <td>0</td>                      <td>0</td></tr>\n",
              "<tr><td><a href=\"species/Carex scabrifolia.html\">Carex scabrifolia</a></td>                      <td>2</td>                      <td>0</td>                      <td>-1</td>                      <td>0</td>                      <td>0</td></tr>\n",
              "<tr><td><a href=\"species/YC6903.html\">YC6903</a></td>                      <td>8</td>                      <td>0</td>                      <td>-1</td>                      <td>0</td>                      <td>0</td></tr>\n",
              "<tr><td><a href=\"species/Nocardioides pyridinolyticus OS4.html\">Nocardioides pyridinolyticus OS4</a></td>                      <td>1</td>                      <td>0</td>                      <td>-1</td>                      <td>0</td>                      <td>0</td></tr>\n",
              "<tr><td><a href=\"species/Nocardioides dokdonensis FR1436.html\">Nocardioides dokdonensis FR1436</a></td>                      <td>1</td>                      <td>0</td>                      <td>-1</td>                      <td>0</td>                      <td>0</td></tr>\n",
              "<tr><td><a href=\"species/Nocardioides aquiterrae GW-9.html\">Nocardioides aquiterrae GW-9</a></td>                      <td>1</td>                      <td>0</td>                      <td>-1</td>                      <td>0</td>                      <td>0</td></tr>\n",
              "<tr><td><a href=\"species/Nocardioides hankookensis DS-30.html\">Nocardioides hankookensis DS-30</a></td>                      <td>1</td>                      <td>0</td>                      <td>-1</td>                      <td>0</td>                      <td>0</td></tr>\n",
              "<tr><td><a href=\"species/N. pyridinolyticus OS4.html\">N. pyridinolyticus OS4</a></td>                      <td>1</td>                      <td>0</td>                      <td>-1</td>                      <td>0</td>                      <td>0</td></tr>\n",
              "<tr><td><a href=\"species/C. velia.html\">C. velia</a></td>                      <td>3</td>                      <td>0</td>                      <td>-1</td>                      <td>0</td>                      <td>0</td></tr>\n",
              "<tr><td><a href=\"species/Perkinsus marinus.html\">Perkinsus marinus</a></td>                      <td>2</td>                      <td>0</td>                      <td>-1</td>                      <td>0</td>                      <td>0</td></tr>\n",
              "<tr><td><a href=\"species/Colpoda aspera.html\">Colpoda aspera</a></td>                      <td>1</td>                      <td>0</td>                      <td>-1</td>                      <td>0</td>                      <td>0</td></tr>\n",
              "<tr><td><a href=\"species/Magnaporthe oryzae.html\">Magnaporthe oryzae</a></td>                      <td>7</td>                      <td>0</td>                      <td>-1</td>                      <td>0</td>                      <td>0</td></tr>\n",
              "<tr><td><a href=\"species/Bathygobius fuscus.html\">Bathygobius fuscus</a></td>                      <td>1</td>                      <td>0</td>                      <td>-1</td>                      <td>0</td>                      <td>0</td></tr>\n",
              "<tr><td><a href=\"species/Chaenogobius annularis.html\">Chaenogobius annularis</a></td>                      <td>1</td>                      <td>0</td>                      <td>-1</td>                      <td>0</td>                      <td>0</td></tr>\n",
              "<tr><td><a href=\"species/C. gulosus.html\">C. gulosus</a></td>                      <td>1</td>                      <td>0</td>                      <td>-1</td>                      <td>0</td>                      <td>0</td></tr>\n",
              "<tr><td><a href=\"species/B. fuscus.html\">B. fuscus</a></td>                      <td>1</td>                      <td>0</td>                      <td>-1</td>                      <td>0</td>                      <td>0</td></tr>\n",
              "<tr><td><a href=\"species/white-footed mice.html\">white-footed mice</a></td>                      <td>4</td>                      <td>0</td>                      <td>-1</td>                      <td>0</td>                      <td>0</td></tr>\n",
              "<tr><td><a href=\"species/Peromyscus leucopus.html\">Peromyscus leucopus</a></td>                      <td>1</td>                      <td>0</td>                      <td>-1</td>                      <td>0</td>                      <td>0</td></tr>\n",
              "<tr><td><a href=\"species/Borrelia burgdorferi.html\">Borrelia burgdorferi</a></td>                      <td>3</td>                      <td>0</td>                      <td>-1</td>                      <td>0</td>                      <td>0</td></tr>\n",
              "<tr><td><a href=\"species/White-footed mice.html\">White-footed mice</a></td>                      <td>1</td>                      <td>0</td>                      <td>-1</td>                      <td>0</td>                      <td>0</td></tr>\n",
              "<tr><td><a href=\"species/sycamore.html\">sycamore</a></td>                      <td>1</td>                      <td>0</td>                      <td>-1</td>                      <td>0</td>                      <td>0</td></tr>\n",
              "<tr><td><a href=\"species/Acer pseudoplatanus.html\">Acer pseudoplatanus</a></td>                      <td>1</td>                      <td>0</td>                      <td>-1</td>                      <td>0</td>                      <td>0</td></tr>\n",
              "<tr><td><a href=\"species/giant Australian cuttlefish.html\">giant Australian cuttlefish</a></td>                      <td>2</td>                      <td>0</td>                      <td>-1</td>                      <td>0</td>                      <td>0</td></tr>\n",
              "<tr><td><a href=\"species/Sepia apama.html\">Sepia apama</a></td>                      <td>2</td>                      <td>0</td>                      <td>-1</td>                      <td>0</td>                      <td>0</td></tr>\n",
              "<tr><td><a href=\"species/broccoli.html\">broccoli</a></td>                      <td>5</td>                      <td>0</td>                      <td>-1</td>                      <td>0</td>                      <td>0</td></tr>\n",
              "<tr><td><a href=\"species/Brassica oleracea var. italica.html\">Brassica oleracea var. italica</a></td>                      <td>1</td>                      <td>0</td>                      <td>-1</td>                      <td>0</td>                      <td>0</td></tr>\n",
              "<tr><td><a href=\"species/fungal.html\">fungal</a></td>                      <td>1</td>                      <td>75</td>                      <td>0.013</td>                      <td>0</td>                      <td>-1</td></tr>\n",
              "<tr><td><a href=\"species/Daucus carota.html\">Daucus carota</a></td>                      <td>1</td>                      <td>0</td>                      <td>-1</td>                      <td>0</td>                      <td>0</td></tr>\n",
              "<tr><td><a href=\"species/porcine endogenous retrovirus.html\">porcine endogenous retrovirus</a></td>                      <td>1</td>                      <td>0</td>                      <td>-1</td>                      <td>0</td>                      <td>0</td></tr>\n",
              "<tr><td><a href=\"species/Porcine endogenous retroviruses.html\">Porcine endogenous retroviruses</a></td>                      <td>1</td>                      <td>0</td>                      <td>-1</td>                      <td>0</td>                      <td>0</td></tr>\n",
              "<tr><td><a href=\"species/PERVs.html\">PERVs</a></td>                      <td>2</td>                      <td>0</td>                      <td>-1</td>                      <td>0</td>                      <td>0</td></tr>\n",
              "<tr><td><a href=\"species/PERV.html\">PERV</a></td>                      <td>1</td>                      <td>2</td>                      <td>0.333</td>                      <td>0</td>                      <td>-1</td></tr>\n",
              "<tr><td><a href=\"species/PERV-B.html\">PERV-B</a></td>                      <td>2</td>                      <td>0</td>                      <td>-1</td>                      <td>0</td>                      <td>0</td></tr>\n",
              "<tr><td><a href=\"species/PERV-A.html\">PERV-A</a></td>                      <td>1</td>                      <td>0</td>                      <td>-1</td>                      <td>0</td>                      <td>0</td></tr>\n",
              "<tr><td><a href=\"species/B. burgdorferi strain 31.html\">B. burgdorferi strain 31</a></td>                      <td>1</td>                      <td>0</td>                      <td>-1</td>                      <td>0</td>                      <td>0</td></tr>\n",
              "<tr><td><a href=\"species/B. burgdorferi.html\">B. burgdorferi</a></td>                      <td>1</td>                      <td>0</td>                      <td>-1</td>                      <td>0</td>                      <td>0</td></tr>\n",
              "<tr><td><a href=\"species/Asian rice.html\">Asian rice</a></td>                      <td>1</td>                      <td>0</td>                      <td>-1</td>                      <td>0</td>                      <td>0</td></tr>\n",
              "<tr><td><a href=\"species/Oryza rufipogon.html\">Oryza rufipogon</a></td>                      <td>1</td>                      <td>0</td>                      <td>-1</td>                      <td>0</td>                      <td>0</td></tr>\n",
              "<tr><td><a href=\"species/tropical japonica rice.html\">tropical japonica rice</a></td>                      <td>1</td>                      <td>0</td>                      <td>-1</td>                      <td>0</td>                      <td>0</td></tr>\n",
              "<tr><td><a href=\"species/influenza A H1N1.html\">influenza A H1N1</a></td>                      <td>5</td>                      <td>0</td>                      <td>-1</td>                      <td>0</td>                      <td>0</td></tr>\n",
              "<tr><td><a href=\"species/influenza A viruses.html\">influenza A viruses</a></td>                      <td>4</td>                      <td>0</td>                      <td>-1</td>                      <td>0</td>                      <td>0</td></tr>\n",
              "<tr><td><a href=\"species/influenza A.html\">influenza A</a></td>                      <td>1</td>                      <td>0</td>                      <td>-1</td>                      <td>0</td>                      <td>0</td></tr>\n",
              "<tr><td><a href=\"species/Quercus petraea.html\">Quercus petraea</a></td>                      <td>1</td>                      <td>0</td>                      <td>-1</td>                      <td>0</td>                      <td>0</td></tr>\n",
              "<tr><td><a href=\"species/Alliaria petiolata.html\">Alliaria petiolata</a></td>                      <td>2</td>                      <td>0</td>                      <td>-1</td>                      <td>0</td>                      <td>0</td></tr>\n",
              "<tr><td><a href=\"species/A. petiolata.html\">A. petiolata</a></td>                      <td>2</td>                      <td>0</td>                      <td>-1</td>                      <td>0</td>                      <td>0</td></tr>\n",
              "<tr><td><a href=\"species/Rhodnius prolixus.html\">Rhodnius prolixus</a></td>                      <td>4</td>                      <td>0</td>                      <td>-1</td>                      <td>0</td>                      <td>0</td></tr>\n",
              "<tr><td><a href=\"species/R. prolixus.html\">R. prolixus</a></td>                      <td>3</td>                      <td>0</td>                      <td>-1</td>                      <td>0</td>                      <td>0</td></tr>\n",
              "<tr><td><a href=\"species/herpes simplex virus type 1.html\">herpes simplex virus type 1</a></td>                      <td>2</td>                      <td>0</td>                      <td>-1</td>                      <td>0</td>                      <td>0</td></tr>\n",
              "<tr><td><a href=\"species/HSV-1.html\">HSV-1</a></td>                      <td>5</td>                      <td>0</td>                      <td>-1</td>                      <td>0</td>                      <td>0</td></tr>\n",
              "<tr><td><a href=\"species/pseudorabies virus.html\">pseudorabies virus</a></td>                      <td>1</td>                      <td>0</td>                      <td>-1</td>                      <td>0</td>                      <td>0</td></tr>\n",
              "<tr><td><a href=\"species/PRV.html\">PRV</a></td>                      <td>4</td>                      <td>0</td>                      <td>-1</td>                      <td>0</td>                      <td>0</td></tr>\n",
              "<tr><td><a href=\"species/human immunodeficiency virus type 1.html\">human immunodeficiency virus type 1</a></td>                      <td>4</td>                      <td>0</td>                      <td>-1</td>                      <td>0</td>                      <td>0</td></tr>\n",
              "<tr><td><a href=\"species/Human immunodeficiency virus type 1.html\">Human immunodeficiency virus type 1</a></td>                      <td>1</td>                      <td>0</td>                      <td>-1</td>                      <td>0</td>                      <td>0</td></tr>\n",
              "<tr><td><a href=\"species/H5 influenza a viruses.html\">H5 influenza a viruses</a></td>                      <td>1</td>                      <td>0</td>                      <td>-1</td>                      <td>0</td>                      <td>0</td></tr>\n",
              "<tr><td><a href=\"species/Influenza A viruses.html\">Influenza A viruses</a></td>                      <td>1</td>                      <td>0</td>                      <td>-1</td>                      <td>0</td>                      <td>0</td></tr>\n",
              "<tr><td><a href=\"species/H1N1pdm.html\">H1N1pdm</a></td>                      <td>2</td>                      <td>1</td>                      <td>0.666</td>                      <td>0</td>                      <td>-1</td></tr>\n",
              "<tr><td><a href=\"species/influenza A virus.html\">influenza A virus</a></td>                      <td>5</td>                      <td>0</td>                      <td>-1</td>                      <td>0</td>                      <td>0</td></tr>\n",
              "<tr><td><a href=\"species/H1N1pdm viruses.html\">H1N1pdm viruses</a></td>                      <td>2</td>                      <td>0</td>                      <td>-1</td>                      <td>0</td>                      <td>0</td></tr>\n",
              "<tr><td><a href=\"species/H1N1pdm virus.html\">H1N1pdm virus</a></td>                      <td>1</td>                      <td>0</td>                      <td>-1</td>                      <td>0</td>                      <td>0</td></tr>\n",
              "<tr><td><a href=\"species/H5 viruses.html\">H5 viruses</a></td>                      <td>1</td>                      <td>0</td>                      <td>-1</td>                      <td>0</td>                      <td>0</td></tr>\n",
              "<tr><td><a href=\"species/Hepatitis C virus.html\">Hepatitis C virus</a></td>                      <td>1</td>                      <td>0</td>                      <td>-1</td>                      <td>0</td>                      <td>0</td></tr>\n",
              "<tr><td><a href=\"species/Chlamydomonas reinhardtii.html\">Chlamydomonas reinhardtii</a></td>                      <td>2</td>                      <td>0</td>                      <td>-1</td>                      <td>0</td>                      <td>0</td></tr>\n",
              "<tr><td><a href=\"species/hepatitis A virus.html\">hepatitis A virus</a></td>                      <td>3</td>                      <td>0</td>                      <td>-1</td>                      <td>0</td>                      <td>0</td></tr>\n",
              "<tr><td><a href=\"species/HAV.html\">HAV</a></td>                      <td>8</td>                      <td>0</td>                      <td>-1</td>                      <td>0</td>                      <td>0</td></tr>\n",
              "<tr><td><a href=\"species/hens.html\">hens</a></td>                      <td>2</td>                      <td>0</td>                      <td>-1</td>                      <td>0</td>                      <td>0</td></tr>\n",
              "<tr><td><a href=\"species/Cotterillia bromelicola nov. gen., nov. spec..html\">Cotterillia bromelicola nov. gen., nov. spec.</a></td>                      <td>2</td>                      <td>0</td>                      <td>-1</td>                      <td>0</td>                      <td>0</td></tr>\n",
              "<tr><td><a href=\"species/Tillandsia heterophylla.html\">Tillandsia heterophylla</a></td>                      <td>1</td>                      <td>0</td>                      <td>-1</td>                      <td>0</td>                      <td>0</td></tr>\n",
              "<tr><td><a href=\"species/Cotterillia.html\">Cotterillia</a></td>                      <td>4</td>                      <td>0</td>                      <td>-1</td>                      <td>0</td>                      <td>0</td></tr>\n",
              "<tr><td><a href=\"species/Cotterillia bromelicola.html\">Cotterillia bromelicola</a></td>                      <td>1</td>                      <td>0</td>                      <td>-1</td>                      <td>0</td>                      <td>0</td></tr>\n",
              "<tr><td><a href=\"species/Rhizobium sp. strain LPU83.html\">Rhizobium sp. strain LPU83</a></td>                      <td>3</td>                      <td>0</td>                      <td>-1</td>                      <td>0</td>                      <td>0</td></tr>\n",
              "<tr><td><a href=\"species/alfalfa.html\">alfalfa</a></td>                      <td>4</td>                      <td>2</td>                      <td>0.666</td>                      <td>0</td>                      <td>-1</td></tr>\n",
              "<tr><td><a href=\"species/Leucena leucocephala.html\">Leucena leucocephala</a></td>                      <td>1</td>                      <td>0</td>                      <td>-1</td>                      <td>0</td>                      <td>0</td></tr>\n",
              "<tr><td><a href=\"species/Sinorhizobium medicae.html\">Sinorhizobium medicae</a></td>                      <td>1</td>                      <td>0</td>                      <td>-1</td>                      <td>0</td>                      <td>0</td></tr>\n",
              "<tr><td><a href=\"species/Rhizobium mongolense USDA 1844.html\">Rhizobium mongolense USDA 1844</a></td>                      <td>1</td>                      <td>0</td>                      <td>-1</td>                      <td>0</td>                      <td>0</td></tr>\n",
              "<tr><td><a href=\"species/LPU83.html\">LPU83</a></td>                      <td>4</td>                      <td>0</td>                      <td>-1</td>                      <td>0</td>                      <td>0</td></tr>\n",
              "<tr><td><a href=\"species/R. mongolense 1844.html\">R. mongolense 1844</a></td>                      <td>1</td>                      <td>0</td>                      <td>-1</td>                      <td>0</td>                      <td>0</td></tr>\n",
              "<tr><td><a href=\"species/LPU83-H.html\">LPU83-H</a></td>                      <td>1</td>                      <td>0</td>                      <td>-1</td>                      <td>0</td>                      <td>0</td></tr>\n",
              "<tr><td><a href=\"species/Serratia marcescens.html\">Serratia marcescens</a></td>                      <td>2</td>                      <td>0</td>                      <td>-1</td>                      <td>0</td>                      <td>0</td></tr>\n",
              "<tr><td><a href=\"species/S. marcescens.html\">S. marcescens</a></td>                      <td>1</td>                      <td>0</td>                      <td>-1</td>                      <td>0</td>                      <td>0</td></tr>\n",
              "<tr><td><a href=\"species/Helicobacter pylori.html\">Helicobacter pylori</a></td>                      <td>2</td>                      <td>0</td>                      <td>-1</td>                      <td>0</td>                      <td>0</td></tr>\n",
              "<tr><td><a href=\"species/West Nile.html\">West Nile</a></td>                      <td>1</td>                      <td>1</td>                      <td>0.5</td>                      <td>0</td>                      <td>-1</td></tr>\n",
              "<tr><td><a href=\"species/WN virus.html\">WN virus</a></td>                      <td>1</td>                      <td>0</td>                      <td>-1</td>                      <td>0</td>                      <td>0</td></tr>\n",
              "<tr><td><a href=\"species/Japanese encephalitis virus.html\">Japanese encephalitis virus</a></td>                      <td>1</td>                      <td>1</td>                      <td>0.5</td>                      <td>0</td>                      <td>-1</td></tr>\n",
              "<tr><td><a href=\"species/WN.html\">WN</a></td>                      <td>2</td>                      <td>2</td>                      <td>0.5</td>                      <td>0</td>                      <td>-1</td></tr>\n",
              "<tr><td><a href=\"species/WNV.html\">WNV</a></td>                      <td>2</td>                      <td>1</td>                      <td>0.666</td>                      <td>0</td>                      <td>-1</td></tr>\n",
              "<tr><td><a href=\"species/JEV.html\">JEV</a></td>                      <td>1</td>                      <td>1</td>                      <td>0.5</td>                      <td>0</td>                      <td>-1</td></tr>\n",
              "<tr><td><a href=\"species/orf virus.html\">orf virus</a></td>                      <td>1</td>                      <td>0</td>                      <td>-1</td>                      <td>0</td>                      <td>0</td></tr>\n",
              "<tr><td><a href=\"species/ORFV.html\">ORFV</a></td>                      <td>2</td>                      <td>1</td>                      <td>0.666</td>                      <td>0</td>                      <td>-1</td></tr>\n",
              "<tr><td><a href=\"species/Vesicular stomatitis virus.html\">Vesicular stomatitis virus</a></td>                      <td>1</td>                      <td>0</td>                      <td>-1</td>                      <td>0</td>                      <td>0</td></tr>\n",
              "<tr><td><a href=\"species/VSV.html\">VSV</a></td>                      <td>10</td>                      <td>0</td>                      <td>-1</td>                      <td>0</td>                      <td>0</td></tr>\n",
              "<tr><td><a href=\"species/Kaposi's sarcoma-associated herpesvirus.html\">Kaposi's sarcoma-associated herpesvirus</a></td>                      <td>2</td>                      <td>0</td>                      <td>-1</td>                      <td>0</td>                      <td>0</td></tr>\n",
              "<tr><td><a href=\"species/KSHV.html\">KSHV</a></td>                      <td>7</td>                      <td>0</td>                      <td>-1</td>                      <td>0</td>                      <td>0</td></tr>\n",
              "<tr><td><a href=\"species/dengue viruses.html\">dengue viruses</a></td>                      <td>1</td>                      <td>0</td>                      <td>-1</td>                      <td>0</td>                      <td>0</td></tr>\n",
              "<tr><td><a href=\"species/Dengue.html\">Dengue</a></td>                      <td>1</td>                      <td>0</td>                      <td>-1</td>                      <td>0</td>                      <td>0</td></tr>\n",
              "<tr><td><a href=\"species/Phaseolus vulgaris.html\">Phaseolus vulgaris</a></td>                      <td>1</td>                      <td>0</td>                      <td>-1</td>                      <td>0</td>                      <td>0</td></tr>\n",
              "<tr><td><a href=\"species/coxsackievirus B3.html\">coxsackievirus B3</a></td>                      <td>2</td>                      <td>0</td>                      <td>-1</td>                      <td>0</td>                      <td>0</td></tr>\n",
              "<tr><td><a href=\"species/CVB3.html\">CVB3</a></td>                      <td>3</td>                      <td>0</td>                      <td>-1</td>                      <td>0</td>                      <td>0</td></tr>\n",
              "<tr><td><a href=\"species/pandemic influenza A_slash_H1N1 2009.html\">pandemic influenza A/H1N1 2009</a></td>                      <td>1</td>                      <td>0</td>                      <td>-1</td>                      <td>0</td>                      <td>0</td></tr>\n",
              "<tr><td><a href=\"species/seasonal influenza A_slash_H1N1.html\">seasonal influenza A/H1N1</a></td>                      <td>1</td>                      <td>0</td>                      <td>-1</td>                      <td>0</td>                      <td>0</td></tr>\n",
              "<tr><td><a href=\"species/seasonal influenza A_slash_H3N2 viruses.html\">seasonal influenza A/H3N2 viruses</a></td>                      <td>1</td>                      <td>0</td>                      <td>-1</td>                      <td>0</td>                      <td>0</td></tr>\n",
              "<tr><td><a href=\"species/Pandemic influenza A_slash_H1N1 2009 (A_slash_H1N1pdm) virus.html\">Pandemic influenza A/H1N1 2009 (A/H1N1pdm) virus</a></td>                      <td>1</td>                      <td>0</td>                      <td>-1</td>                      <td>0</td>                      <td>0</td></tr>\n",
              "<tr><td><a href=\"species/A_slash_H1N1pdm virus.html\">A/H1N1pdm virus</a></td>                      <td>2</td>                      <td>0</td>                      <td>-1</td>                      <td>0</td>                      <td>0</td></tr>\n",
              "<tr><td><a href=\"species/seasonal A_slash_H1N1.html\">seasonal A/H1N1</a></td>                      <td>1</td>                      <td>0</td>                      <td>-1</td>                      <td>0</td>                      <td>0</td></tr>\n",
              "<tr><td><a href=\"species/A_slash_H3N2 influenza viruses.html\">A/H3N2 influenza viruses</a></td>                      <td>1</td>                      <td>0</td>                      <td>-1</td>                      <td>0</td>                      <td>0</td></tr>\n",
              "<tr><td><a href=\"species/viral strains of A_slash_H1N1pdm.html\">viral strains of A/H1N1pdm</a></td>                      <td>1</td>                      <td>0</td>                      <td>-1</td>                      <td>0</td>                      <td>0</td></tr>\n",
              "<tr><td><a href=\"species/A_slash_Aichi_slash_472_slash_2009 (H1N1)pdm.html\">A/Aichi/472/2009 (H1N1)pdm</a></td>                      <td>1</td>                      <td>0</td>                      <td>-1</td>                      <td>0</td>                      <td>0</td></tr>\n",
              "<tr><td><a href=\"species/A_slash_Sakai_slash_89_slash_2009 (H1N1)pdm.html\">A/Sakai/89/2009 (H1N1)pdm</a></td>                      <td>1</td>                      <td>0</td>                      <td>-1</td>                      <td>0</td>                      <td>0</td></tr>\n",
              "<tr><td><a href=\"species/A_slash_H1pdm.html\">A/H1pdm</a></td>                      <td>1</td>                      <td>0</td>                      <td>-1</td>                      <td>0</td>                      <td>0</td></tr>\n",
              "<tr><td><a href=\"species/A_slash_H3.html\">A/H3</a></td>                      <td>1</td>                      <td>0</td>                      <td>-1</td>                      <td>0</td>                      <td>0</td></tr>\n",
              "<tr><td><a href=\"species/A_slash_H1.html\">A/H1</a></td>                      <td>1</td>                      <td>0</td>                      <td>-1</td>                      <td>0</td>                      <td>0</td></tr>\n",
              "<tr><td><a href=\"species/influenza viruses.html\">influenza viruses</a></td>                      <td>2</td>                      <td>5</td>                      <td>0.285</td>                      <td>0</td>                      <td>-1</td></tr>\n",
              "<tr><td><a href=\"species/Streptococcus pyogenes.html\">Streptococcus pyogenes</a></td>                      <td>1</td>                      <td>0</td>                      <td>-1</td>                      <td>0</td>                      <td>0</td></tr>\n",
              "<tr><td><a href=\"species/human influenza virus A.html\">human influenza virus A</a></td>                      <td>1</td>                      <td>0</td>                      <td>-1</td>                      <td>0</td>                      <td>0</td></tr>\n",
              "<tr><td><a href=\"species/S. pyogenes.html\">S. pyogenes</a></td>                      <td>1</td>                      <td>0</td>                      <td>-1</td>                      <td>0</td>                      <td>0</td></tr>\n",
              "<tr><td><a href=\"species/human influenza virus.html\">human influenza virus</a></td>                      <td>1</td>                      <td>0</td>                      <td>-1</td>                      <td>0</td>                      <td>0</td></tr>\n",
              "<tr><td><a href=\"species/Salmonella enterica.html\">Salmonella enterica</a></td>                      <td>5</td>                      <td>0</td>                      <td>-1</td>                      <td>0</td>                      <td>0</td></tr>\n",
              "<tr><td><a href=\"species/K-12 strains of E. coli.html\">K-12 strains of E. coli</a></td>                      <td>1</td>                      <td>0</td>                      <td>-1</td>                      <td>0</td>                      <td>0</td></tr>\n",
              "<tr><td><a href=\"species/E. coli K-12.html\">E. coli K-12</a></td>                      <td>2</td>                      <td>0</td>                      <td>-1</td>                      <td>0</td>                      <td>0</td></tr>\n",
              "<tr><td><a href=\"species/K-12.html\">K-12</a></td>                      <td>1</td>                      <td>1</td>                      <td>0.5</td>                      <td>0</td>                      <td>-1</td></tr>\n",
              "<tr><td><a href=\"species/E. coli B.html\">E. coli B</a></td>                      <td>1</td>                      <td>0</td>                      <td>-1</td>                      <td>0</td>                      <td>0</td></tr>\n",
              "<tr><td><a href=\"species/transmissible gastroenteritis virus.html\">transmissible gastroenteritis virus</a></td>                      <td>2</td>                      <td>0</td>                      <td>-1</td>                      <td>0</td>                      <td>0</td></tr>\n",
              "<tr><td><a href=\"species/TGEV.html\">TGEV</a></td>                      <td>4</td>                      <td>0</td>                      <td>-1</td>                      <td>0</td>                      <td>0</td></tr>\n",
              "<tr><td><a href=\"species/influenza.html\">influenza</a></td>                      <td>1</td>                      <td>27</td>                      <td>0.035</td>                      <td>0</td>                      <td>-1</td></tr>\n",
              "<tr><td><a href=\"species/A_slash_Duck_slash_Hubei_slash_L-1_slash_2004 (H5N1) virus.html\">A/Duck/Hubei/L-1/2004 (H5N1) virus</a></td>                      <td>1</td>                      <td>0</td>                      <td>-1</td>                      <td>0</td>                      <td>0</td></tr>\n",
              "<tr><td><a href=\"species/swine-origin influenza A virus (S-OIV) (H1N1).html\">swine-origin influenza A virus (S-OIV) (H1N1)</a></td>                      <td>1</td>                      <td>0</td>                      <td>-1</td>                      <td>0</td>                      <td>0</td></tr>\n",
              "<tr><td><a href=\"species/Fagus sylvatica.html\">Fagus sylvatica</a></td>                      <td>2</td>                      <td>0</td>                      <td>-1</td>                      <td>0</td>                      <td>0</td></tr>\n",
              "<tr><td><a href=\"species/Picea abies.html\">Picea abies</a></td>                      <td>3</td>                      <td>0</td>                      <td>-1</td>                      <td>0</td>                      <td>0</td></tr>\n",
              "<tr><td><a href=\"species/European beech.html\">European beech</a></td>                      <td>1</td>                      <td>0</td>                      <td>-1</td>                      <td>0</td>                      <td>0</td></tr>\n",
              "<tr><td><a href=\"species/Chlamydia trachomatis.html\">Chlamydia trachomatis</a></td>                      <td>1</td>                      <td>0</td>                      <td>-1</td>                      <td>0</td>                      <td>0</td></tr>\n",
              "<tr><td><a href=\"species/Achromobacter xylosoxidans A8.html\">Achromobacter xylosoxidans A8</a></td>                      <td>1</td>                      <td>0</td>                      <td>-1</td>                      <td>0</td>                      <td>0</td></tr>\n",
              "<tr><td><a href=\"species/Achromobacter xylosoxidans strain A8.html\">Achromobacter xylosoxidans strain A8</a></td>                      <td>1</td>                      <td>0</td>                      <td>-1</td>                      <td>0</td>                      <td>0</td></tr>\n",
              "<tr><td><a href=\"species/A. xylosoxidans.html\">A. xylosoxidans</a></td>                      <td>1</td>                      <td>0</td>                      <td>-1</td>                      <td>0</td>                      <td>0</td></tr>\n",
              "<tr><td><a href=\"species/Erwinia amylovora.html\">Erwinia amylovora</a></td>                      <td>2</td>                      <td>0</td>                      <td>-1</td>                      <td>0</td>                      <td>0</td></tr>\n",
              "<tr><td><a href=\"species/Erwinia tasmaniensis.html\">Erwinia tasmaniensis</a></td>                      <td>2</td>                      <td>0</td>                      <td>-1</td>                      <td>0</td>                      <td>0</td></tr>\n",
              "<tr><td><a href=\"species/E. amylovora.html\">E. amylovora</a></td>                      <td>2</td>                      <td>0</td>                      <td>-1</td>                      <td>0</td>                      <td>0</td></tr>\n",
              "<tr><td><a href=\"species/E. tasmaniensis.html\">E. tasmaniensis</a></td>                      <td>1</td>                      <td>0</td>                      <td>-1</td>                      <td>0</td>                      <td>0</td></tr>\n",
              "<tr><td><a href=\"species/moose.html\">moose</a></td>                      <td>1</td>                      <td>2</td>                      <td>0.333</td>                      <td>0</td>                      <td>-1</td></tr>\n",
              "<tr><td><a href=\"species/Alces alces.html\">Alces alces</a></td>                      <td>2</td>                      <td>0</td>                      <td>-1</td>                      <td>0</td>                      <td>0</td></tr>\n",
              "<tr><td><a href=\"species/Lactococcus lactis.html\">Lactococcus lactis</a></td>                      <td>2</td>                      <td>0</td>                      <td>-1</td>                      <td>0</td>                      <td>0</td></tr>\n",
              "<tr><td><a href=\"species/IL1403.html\">IL1403</a></td>                      <td>1</td>                      <td>1</td>                      <td>0.5</td>                      <td>0</td>                      <td>-1</td></tr>\n",
              "<tr><td><a href=\"species/L. lactis.html\">L. lactis</a></td>                      <td>1</td>                      <td>0</td>                      <td>-1</td>                      <td>0</td>                      <td>0</td></tr>\n",
              "<tr><td><a href=\"species/Campylobacter fetus subsp. venerealis.html\">Campylobacter fetus subsp. venerealis</a></td>                      <td>1</td>                      <td>0</td>                      <td>-1</td>                      <td>0</td>                      <td>0</td></tr>\n",
              "<tr><td><a href=\"species/Campylobacter fetus.html\">Campylobacter fetus</a></td>                      <td>1</td>                      <td>0</td>                      <td>-1</td>                      <td>0</td>                      <td>0</td></tr>\n",
              "<tr><td><a href=\"species/Campylobacter coli.html\">Campylobacter coli</a></td>                      <td>1</td>                      <td>0</td>                      <td>-1</td>                      <td>0</td>                      <td>0</td></tr>\n",
              "<tr><td><a href=\"species/C. fetus.html\">C. fetus</a></td>                      <td>4</td>                      <td>0</td>                      <td>-1</td>                      <td>0</td>                      <td>0</td></tr>\n",
              "<tr><td><a href=\"species/C. fetus subsp. venerealis.html\">C. fetus subsp. venerealis</a></td>                      <td>1</td>                      <td>0</td>                      <td>-1</td>                      <td>0</td>                      <td>0</td></tr>\n",
              "<tr><td><a href=\"species/chimpanzees.html\">chimpanzees</a></td>                      <td>1</td>                      <td>0</td>                      <td>-1</td>                      <td>0</td>                      <td>0</td></tr>\n",
              "<tr><td><a href=\"species/Acetobacterium woodii.html\">Acetobacterium woodii</a></td>                      <td>2</td>                      <td>0</td>                      <td>-1</td>                      <td>0</td>                      <td>0</td></tr>\n",
              "<tr><td><a href=\"species/Burkholderia rhizoxinica.html\">Burkholderia rhizoxinica</a></td>                      <td>2</td>                      <td>0</td>                      <td>-1</td>                      <td>0</td>                      <td>0</td></tr>\n",
              "<tr><td><a href=\"species/Rhizopus microsporus.html\">Rhizopus microsporus</a></td>                      <td>2</td>                      <td>0</td>                      <td>-1</td>                      <td>0</td>                      <td>0</td></tr>\n",
              "<tr><td><a href=\"species/B. rhizoxinica HKI 0454.html\">B. rhizoxinica HKI 0454</a></td>                      <td>1</td>                      <td>0</td>                      <td>-1</td>                      <td>0</td>                      <td>0</td></tr>\n",
              "<tr><td><a href=\"species/Microsporum gypseum.html\">Microsporum gypseum</a></td>                      <td>1</td>                      <td>0</td>                      <td>-1</td>                      <td>0</td>                      <td>0</td></tr>\n",
              "<tr><td><a href=\"species/Trichophyton rubrum.html\">Trichophyton rubrum</a></td>                      <td>1</td>                      <td>0</td>                      <td>-1</td>                      <td>0</td>                      <td>0</td></tr>\n",
              "<tr><td><a href=\"species/wax moth.html\">wax moth</a></td>                      <td>1</td>                      <td>0</td>                      <td>-1</td>                      <td>0</td>                      <td>0</td></tr>\n",
              "<tr><td><a href=\"species/P. aeruginosa strain PA103.html\">P. aeruginosa strain PA103</a></td>                      <td>1</td>                      <td>0</td>                      <td>-1</td>                      <td>0</td>                      <td>0</td></tr>\n",
              "<tr><td><a href=\"species/Streptococcus suis.html\">Streptococcus suis</a></td>                      <td>2</td>                      <td>0</td>                      <td>-1</td>                      <td>0</td>                      <td>0</td></tr>\n",
              "<tr><td><a href=\"species/S. suis strain 89_slash_1591.html\">S. suis strain 89/1591</a></td>                      <td>1</td>                      <td>0</td>                      <td>-1</td>                      <td>0</td>                      <td>0</td></tr>\n",
              "<tr><td><a href=\"species/Pieris brassicae.html\">Pieris brassicae</a></td>                      <td>2</td>                      <td>0</td>                      <td>-1</td>                      <td>0</td>                      <td>0</td></tr>\n",
              "<tr><td><a href=\"species/cotton bollworm.html\">cotton bollworm</a></td>                      <td>1</td>                      <td>0</td>                      <td>-1</td>                      <td>0</td>                      <td>0</td></tr>\n",
              "<tr><td><a href=\"species/Helicoverpa zea.html\">Helicoverpa zea</a></td>                      <td>2</td>                      <td>0</td>                      <td>-1</td>                      <td>0</td>                      <td>0</td></tr>\n",
              "<tr><td><a href=\"species/Helicoverpa armigera.html\">Helicoverpa armigera</a></td>                      <td>2</td>                      <td>0</td>                      <td>-1</td>                      <td>0</td>                      <td>0</td></tr>\n",
              "<tr><td><a href=\"species/H. zea.html\">H. zea</a></td>                      <td>5</td>                      <td>0</td>                      <td>-1</td>                      <td>0</td>                      <td>0</td></tr>\n",
              "<tr><td><a href=\"species/Helicoverpa assulta.html\">Helicoverpa assulta</a></td>                      <td>1</td>                      <td>0</td>                      <td>-1</td>                      <td>0</td>                      <td>0</td></tr>\n",
              "<tr><td><a href=\"species/H. armigera.html\">H. armigera</a></td>                      <td>3</td>                      <td>0</td>                      <td>-1</td>                      <td>0</td>                      <td>0</td></tr>\n",
              "<tr><td><a href=\"species/Geobacter sulfurreducens.html\">Geobacter sulfurreducens</a></td>                      <td>2</td>                      <td>0</td>                      <td>-1</td>                      <td>0</td>                      <td>0</td></tr>\n",
              "<tr><td><a href=\"species/G. sulfurreducens.html\">G. sulfurreducens</a></td>                      <td>1</td>                      <td>0</td>                      <td>-1</td>                      <td>0</td>                      <td>0</td></tr>\n",
              "<tr><td><a href=\"species/Megaphorura arctica.html\">Megaphorura arctica</a></td>                      <td>2</td>                      <td>0</td>                      <td>-1</td>                      <td>0</td>                      <td>0</td></tr>\n",
              "<tr><td><a href=\"species/Arctic springtail.html\">Arctic springtail</a></td>                      <td>1</td>                      <td>0</td>                      <td>-1</td>                      <td>0</td>                      <td>0</td></tr>\n",
              "<tr><td><a href=\"species/M. arctica.html\">M. arctica</a></td>                      <td>1</td>                      <td>0</td>                      <td>-1</td>                      <td>0</td>                      <td>0</td></tr>\n",
              "<tr><td><a href=\"species/hepatitis A.html\">hepatitis A</a></td>                      <td>1</td>                      <td>0</td>                      <td>-1</td>                      <td>0</td>                      <td>0</td></tr>\n",
              "<tr><td><a href=\"species/E viruses.html\">E viruses</a></td>                      <td>1</td>                      <td>0</td>                      <td>-1</td>                      <td>0</td>                      <td>0</td></tr>\n",
              "<tr><td><a href=\"species/Gibberella zeae.html\">Gibberella zeae</a></td>                      <td>2</td>                      <td>0</td>                      <td>-1</td>                      <td>0</td>                      <td>0</td></tr>\n",
              "<tr><td><a href=\"species/Brassica napus.html\">Brassica napus</a></td>                      <td>2</td>                      <td>0</td>                      <td>-1</td>                      <td>0</td>                      <td>0</td></tr>\n",
              "<tr><td><a href=\"species/rapeseed.html\">rapeseed</a></td>                      <td>1</td>                      <td>0</td>                      <td>-1</td>                      <td>0</td>                      <td>0</td></tr>\n",
              "<tr><td><a href=\"species/B. napus.html\">B. napus</a></td>                      <td>2</td>                      <td>0</td>                      <td>-1</td>                      <td>0</td>                      <td>0</td></tr>\n",
              "<tr><td><a href=\"species/Lotus creticus.html\">Lotus creticus</a></td>                      <td>1</td>                      <td>0</td>                      <td>-1</td>                      <td>0</td>                      <td>0</td></tr>\n",
              "<tr><td><a href=\"species/Lotus corniculatus.html\">Lotus corniculatus</a></td>                      <td>1</td>                      <td>0</td>                      <td>-1</td>                      <td>0</td>                      <td>0</td></tr>\n",
              "<tr><td><a href=\"species/Lotus tenuis.html\">Lotus tenuis</a></td>                      <td>1</td>                      <td>0</td>                      <td>-1</td>                      <td>0</td>                      <td>0</td></tr>\n",
              "<tr><td><a href=\"species/L. creticus.html\">L. creticus</a></td>                      <td>2</td>                      <td>0</td>                      <td>-1</td>                      <td>0</td>                      <td>0</td></tr>\n",
              "<tr><td><a href=\"species/Phytophthora ramorum.html\">Phytophthora ramorum</a></td>                      <td>2</td>                      <td>0</td>                      <td>-1</td>                      <td>0</td>                      <td>0</td></tr>\n",
              "<tr><td><a href=\"species/Aspergillus flavus.html\">Aspergillus flavus</a></td>                      <td>1</td>                      <td>0</td>                      <td>-1</td>                      <td>0</td>                      <td>0</td></tr>\n",
              "<tr><td><a href=\"species/A. flavus.html\">A. flavus</a></td>                      <td>1</td>                      <td>0</td>                      <td>-1</td>                      <td>0</td>                      <td>0</td></tr>\n",
              "<tr><td><a href=\"species/Leuciscus leuciscus.html\">Leuciscus leuciscus</a></td>                      <td>1</td>                      <td>0</td>                      <td>-1</td>                      <td>0</td>                      <td>0</td></tr>\n",
              "<tr><td><a href=\"species/Bythotrephes longimanus.html\">Bythotrephes longimanus</a></td>                      <td>1</td>                      <td>0</td>                      <td>-1</td>                      <td>0</td>                      <td>0</td></tr>\n",
              "<tr><td><a href=\"species/Holopedium gibberum.html\">Holopedium gibberum</a></td>                      <td>1</td>                      <td>0</td>                      <td>-1</td>                      <td>0</td>                      <td>0</td></tr>\n",
              "<tr><td><a href=\"species/Aspergillus terreus.html\">Aspergillus terreus</a></td>                      <td>1</td>                      <td>0</td>                      <td>-1</td>                      <td>0</td>                      <td>0</td></tr>\n",
              "<tr><td><a href=\"species/A. terreus.html\">A. terreus</a></td>                      <td>1</td>                      <td>0</td>                      <td>-1</td>                      <td>0</td>                      <td>0</td></tr>\n",
              "<tr><td><a href=\"species/Poterioochromonas malhamensis.html\">Poterioochromonas malhamensis</a></td>                      <td>2</td>                      <td>0</td>                      <td>-1</td>                      <td>0</td>                      <td>0</td></tr>\n",
              "<tr><td><a href=\"species/P. malhamensis.html\">P. malhamensis</a></td>                      <td>2</td>                      <td>0</td>                      <td>-1</td>                      <td>0</td>                      <td>0</td></tr>\n",
              "<tr><td><a href=\"species/common brushtail possum.html\">common brushtail possum</a></td>                      <td>1</td>                      <td>0</td>                      <td>-1</td>                      <td>0</td>                      <td>0</td></tr>\n",
              "<tr><td><a href=\"species/Almophrya bivacuolata.html\">Almophrya bivacuolata</a></td>                      <td>1</td>                      <td>0</td>                      <td>-1</td>                      <td>0</td>                      <td>0</td></tr>\n",
              "<tr><td><a href=\"species/Eudrilophrya complanata.html\">Eudrilophrya complanata</a></td>                      <td>1</td>                      <td>0</td>                      <td>-1</td>                      <td>0</td>                      <td>0</td></tr>\n",
              "<tr><td><a href=\"species/Metaracoelophrya intermedia.html\">Metaracoelophrya intermedia</a></td>                      <td>1</td>                      <td>0</td>                      <td>-1</td>                      <td>0</td>                      <td>0</td></tr>\n",
              "<tr><td><a href=\"species/Njinella prolifera.html\">Njinella prolifera</a></td>                      <td>1</td>                      <td>0</td>                      <td>-1</td>                      <td>0</td>                      <td>0</td></tr>\n",
              "<tr><td><a href=\"species/Paraclausilocola constricta n. gen., n. sp..html\">Paraclausilocola constricta n. gen., n. sp.</a></td>                      <td>1</td>                      <td>0</td>                      <td>-1</td>                      <td>0</td>                      <td>0</td></tr>\n",
              "<tr><td><a href=\"species/Paraclausilocola elongata n. sp..html\">Paraclausilocola elongata n. sp.</a></td>                      <td>1</td>                      <td>0</td>                      <td>-1</td>                      <td>0</td>                      <td>0</td></tr>\n",
              "<tr><td><a href=\"species/house mouse.html\">house mouse</a></td>                      <td>1</td>                      <td>0</td>                      <td>-1</td>                      <td>0</td>                      <td>0</td></tr>\n",
              "<tr><td><a href=\"species/Mus domesticus.html\">Mus domesticus</a></td>                      <td>1</td>                      <td>0</td>                      <td>-1</td>                      <td>0</td>                      <td>0</td></tr>\n",
              "<tr><td><a href=\"species/peanut.html\">peanut</a></td>                      <td>2</td>                      <td>0</td>                      <td>-1</td>                      <td>0</td>                      <td>0</td></tr>\n",
              "<tr><td><a href=\"species/Mouse.html\">Mouse</a></td>                      <td>1</td>                      <td>0</td>                      <td>-1</td>                      <td>0</td>                      <td>0</td></tr>\n",
              "<tr><td><a href=\"species/Salmo salar.html\">Salmo salar</a></td>                      <td>1</td>                      <td>0</td>                      <td>-1</td>                      <td>0</td>                      <td>0</td></tr>\n",
              "<tr><td><a href=\"species/silkmoth.html\">silkmoth</a></td>                      <td>1</td>                      <td>0</td>                      <td>-1</td>                      <td>0</td>                      <td>0</td></tr>\n",
              "<tr><td><a href=\"species/coho salmon.html\">coho salmon</a></td>                      <td>3</td>                      <td>0</td>                      <td>-1</td>                      <td>0</td>                      <td>0</td></tr>\n",
              "<tr><td><a href=\"species/steelhead trout.html\">steelhead trout</a></td>                      <td>2</td>                      <td>0</td>                      <td>-1</td>                      <td>0</td>                      <td>0</td></tr>\n",
              "<tr><td><a href=\"species/steelhead.html\">steelhead</a></td>                      <td>3</td>                      <td>0</td>                      <td>-1</td>                      <td>0</td>                      <td>0</td></tr>\n",
              "<tr><td><a href=\"species/coho.html\">coho</a></td>                      <td>1</td>                      <td>0</td>                      <td>-1</td>                      <td>0</td>                      <td>0</td></tr>\n",
              "<tr><td><a href=\"species/brook trout.html\">brook trout</a></td>                      <td>2</td>                      <td>0</td>                      <td>-1</td>                      <td>0</td>                      <td>0</td></tr>\n",
              "<tr><td><a href=\"species/tawny owls.html\">tawny owls</a></td>                      <td>3</td>                      <td>0</td>                      <td>-1</td>                      <td>0</td>                      <td>0</td></tr>\n",
              "<tr><td><a href=\"species/Mexican palo verde.html\">Mexican palo verde</a></td>                      <td>2</td>                      <td>0</td>                      <td>-1</td>                      <td>0</td>                      <td>0</td></tr>\n",
              "<tr><td><a href=\"species/Parkinsonia aculeata.html\">Parkinsonia aculeata</a></td>                      <td>2</td>                      <td>0</td>                      <td>-1</td>                      <td>0</td>                      <td>0</td></tr>\n",
              "<tr><td><a href=\"species/Platynota stultana.html\">Platynota stultana</a></td>                      <td>1</td>                      <td>0</td>                      <td>-1</td>                      <td>0</td>                      <td>0</td></tr>\n",
              "<tr><td><a href=\"species/P. aculeata.html\">P. aculeata</a></td>                      <td>2</td>                      <td>0</td>                      <td>-1</td>                      <td>0</td>                      <td>0</td></tr>\n",
              "<tr><td><a href=\"species/great tits.html\">great tits</a></td>                      <td>1</td>                      <td>0</td>                      <td>-1</td>                      <td>0</td>                      <td>0</td></tr>\n",
              "<tr><td><a href=\"species/Parus major L..html\">Parus major L.</a></td>                      <td>1</td>                      <td>0</td>                      <td>-1</td>                      <td>0</td>                      <td>0</td></tr>\n",
              "<tr><td><a href=\"species/wSinvictaA.html\">wSinvictaA</a></td>                      <td>3</td>                      <td>1</td>                      <td>0.75</td>                      <td>0</td>                      <td>-1</td></tr>\n",
              "<tr><td><a href=\"species/corn leafhopper.html\">corn leafhopper</a></td>                      <td>1</td>                      <td>0</td>                      <td>-1</td>                      <td>0</td>                      <td>0</td></tr>\n",
              "<tr><td><a href=\"species/Dalbulus maidis.html\">Dalbulus maidis</a></td>                      <td>1</td>                      <td>1</td>                      <td>0.5</td>                      <td>0</td>                      <td>-1</td></tr>\n",
              "<tr><td><a href=\"species/Delphacodes kuscheli.html\">Delphacodes kuscheli</a></td>                      <td>1</td>                      <td>1</td>                      <td>0.5</td>                      <td>0</td>                      <td>-1</td></tr>\n",
              "<tr><td><a href=\"species/D. maidis.html\">D. maidis</a></td>                      <td>2</td>                      <td>0</td>                      <td>-1</td>                      <td>0</td>                      <td>0</td></tr>\n",
              "<tr><td><a href=\"species/D. kuscheli.html\">D. kuscheli</a></td>                      <td>2</td>                      <td>0</td>                      <td>-1</td>                      <td>0</td>                      <td>0</td></tr>\n",
              "<tr><td><a href=\"species/B. mycoides.html\">B. mycoides</a></td>                      <td>1</td>                      <td>0</td>                      <td>-1</td>                      <td>0</td>                      <td>0</td></tr>\n",
              "<tr><td><a href=\"species/B. megaterium.html\">B. megaterium</a></td>                      <td>1</td>                      <td>0</td>                      <td>-1</td>                      <td>0</td>                      <td>0</td></tr>\n",
              "<tr><td><a href=\"species/B.pumilus.html\">B.pumilus</a></td>                      <td>1</td>                      <td>0</td>                      <td>-1</td>                      <td>0</td>                      <td>0</td></tr>\n",
              "<tr><td><a href=\"species/B. licheniformis.html\">B. licheniformis</a></td>                      <td>1</td>                      <td>0</td>                      <td>-1</td>                      <td>0</td>                      <td>0</td></tr>\n",
              "<tr><td><a href=\"species/Saccharomycopsis fibuligera.html\">Saccharomycopsis fibuligera</a></td>                      <td>2</td>                      <td>0</td>                      <td>-1</td>                      <td>0</td>                      <td>0</td></tr>\n",
              "<tr><td><a href=\"species/S. fibuligera.html\">S. fibuligera</a></td>                      <td>2</td>                      <td>0</td>                      <td>-1</td>                      <td>0</td>                      <td>0</td></tr>\n",
              "<tr><td><a href=\"species/P. penardii.html\">P. penardii</a></td>                      <td>1</td>                      <td>4</td>                      <td>0.2</td>                      <td>0</td>                      <td>-1</td></tr>\n",
              "<tr><td><a href=\"species/P. niei.html\">P. niei</a></td>                      <td>3</td>                      <td>0</td>                      <td>-1</td>                      <td>0</td>                      <td>0</td></tr>\n",
              "<tr><td><a href=\"species/rice blast pathogen.html\">rice blast pathogen</a></td>                      <td>1</td>                      <td>0</td>                      <td>-1</td>                      <td>0</td>                      <td>0</td></tr>\n",
              "<tr><td><a href=\"species/M.oryzae.html\">M.oryzae</a></td>                      <td>1</td>                      <td>0</td>                      <td>-1</td>                      <td>0</td>                      <td>0</td></tr>\n",
              "<tr><td><a href=\"species/M. oryzae.html\">M. oryzae</a></td>                      <td>5</td>                      <td>0</td>                      <td>-1</td>                      <td>0</td>                      <td>0</td></tr>\n",
              "<tr><td><a href=\"species/ATMT0225B6.html\">ATMT0225B6</a></td>                      <td>1</td>                      <td>0</td>                      <td>-1</td>                      <td>0</td>                      <td>0</td></tr>\n",
              "<tr><td><a href=\"species/MoCDC15(T-DNA).html\">MoCDC15(T-DNA)</a></td>                      <td>1</td>                      <td>1</td>                      <td>0.5</td>                      <td>0</td>                      <td>-1</td></tr>\n",
              "<tr><td><a href=\"species/wild type MoCDC15.html\">wild type MoCDC15</a></td>                      <td>1</td>                      <td>0</td>                      <td>-1</td>                      <td>0</td>                      <td>0</td></tr>\n",
              "<tr><td><a href=\"species/Fusarium graminearum species complex.html\">Fusarium graminearum species complex</a></td>                      <td>2</td>                      <td>0</td>                      <td>-1</td>                      <td>0</td>                      <td>0</td></tr>\n",
              "<tr><td><a href=\"species/FGSC.html\">FGSC</a></td>                      <td>8</td>                      <td>0</td>                      <td>-1</td>                      <td>0</td>                      <td>0</td></tr>\n",
              "<tr><td><a href=\"species/Fusariumboothii.html\">Fusariumboothii</a></td>                      <td>1</td>                      <td>0</td>                      <td>-1</td>                      <td>0</td>                      <td>0</td></tr>\n",
              "<tr><td><a href=\"species/F. boothii.html\">F. boothii</a></td>                      <td>2</td>                      <td>0</td>                      <td>-1</td>                      <td>0</td>                      <td>0</td></tr>\n",
              "<tr><td><a href=\"species/Entodinium caudatum.html\">Entodinium caudatum</a></td>                      <td>2</td>                      <td>0</td>                      <td>-1</td>                      <td>0</td>                      <td>0</td></tr>\n",
              "<tr><td><a href=\"species/Eudiplodinium maggii.html\">Eudiplodinium maggii</a></td>                      <td>2</td>                      <td>0</td>                      <td>-1</td>                      <td>0</td>                      <td>0</td></tr>\n",
              "<tr><td><a href=\"species/Epidinium ecaudatum.html\">Epidinium ecaudatum</a></td>                      <td>2</td>                      <td>0</td>                      <td>-1</td>                      <td>0</td>                      <td>0</td></tr>\n",
              "<tr><td><a href=\"species/E. caudatum.html\">E. caudatum</a></td>                      <td>2</td>                      <td>0</td>                      <td>-1</td>                      <td>0</td>                      <td>0</td></tr>\n",
              "<tr><td><a href=\"species/E. maggii.html\">E. maggii</a></td>                      <td>2</td>                      <td>0</td>                      <td>-1</td>                      <td>0</td>                      <td>0</td></tr>\n",
              "<tr><td><a href=\"species/E. ecaudatum.html\">E. ecaudatum</a></td>                      <td>1</td>                      <td>0</td>                      <td>-1</td>                      <td>0</td>                      <td>0</td></tr>\n",
              "<tr><td><a href=\"species/American dog tick.html\">American dog tick</a></td>                      <td>2</td>                      <td>0</td>                      <td>-1</td>                      <td>0</td>                      <td>0</td></tr>\n",
              "<tr><td><a href=\"species/Dermacentor variabilis.html\">Dermacentor variabilis</a></td>                      <td>2</td>                      <td>0</td>                      <td>-1</td>                      <td>0</td>                      <td>0</td></tr>\n",
              "<tr><td><a href=\"species/Chlorella minutissima.html\">Chlorella minutissima</a></td>                      <td>2</td>                      <td>0</td>                      <td>-1</td>                      <td>0</td>                      <td>0</td></tr>\n",
              "<tr><td><a href=\"species/Chlorella strains.html\">Chlorella strains</a></td>                      <td>1</td>                      <td>0</td>                      <td>-1</td>                      <td>0</td>                      <td>0</td></tr>\n",
              "<tr><td><a href=\"species/yellow fever mosquito.html\">yellow fever mosquito</a></td>                      <td>1</td>                      <td>0</td>                      <td>-1</td>                      <td>0</td>                      <td>0</td></tr>\n",
              "<tr><td><a href=\"species/silkworm moth.html\">silkworm moth</a></td>                      <td>2</td>                      <td>0</td>                      <td>-1</td>                      <td>0</td>                      <td>0</td></tr>\n",
              "<tr><td><a href=\"species/Asian elephants.html\">Asian elephants</a></td>                      <td>2</td>                      <td>0</td>                      <td>-1</td>                      <td>0</td>                      <td>0</td></tr>\n",
              "<tr><td><a href=\"species/T. selenica.html\">T. selenica</a></td>                      <td>1</td>                      <td>0</td>                      <td>-1</td>                      <td>0</td>                      <td>0</td></tr>\n",
              "<tr><td><a href=\"species/Raabena bella.html\">Raabena bella</a></td>                      <td>1</td>                      <td>0</td>                      <td>-1</td>                      <td>0</td>                      <td>0</td></tr>\n",
              "<tr><td><a href=\"species/Trypanosoma cruzi.html\">Trypanosoma cruzi</a></td>                      <td>2</td>                      <td>0</td>                      <td>-1</td>                      <td>0</td>                      <td>0</td></tr>\n",
              "<tr><td><a href=\"species/Eupolyphaga sinensis.html\">Eupolyphaga sinensis</a></td>                      <td>2</td>                      <td>0</td>                      <td>-1</td>                      <td>0</td>                      <td>0</td></tr>\n",
              "<tr><td><a href=\"species/E. sinensis.html\">E. sinensis</a></td>                      <td>2</td>                      <td>0</td>                      <td>-1</td>                      <td>0</td>                      <td>0</td></tr>\n",
              "<tr><td><a href=\"species/Glassy-Winged Sharpshooter.html\">Glassy-Winged Sharpshooter</a></td>                      <td>1</td>                      <td>0</td>                      <td>-1</td>                      <td>0</td>                      <td>0</td></tr>\n",
              "<tr><td><a href=\"species/Homalodisca vitripennis.html\">Homalodisca vitripennis</a></td>                      <td>1</td>                      <td>0</td>                      <td>-1</td>                      <td>0</td>                      <td>0</td></tr>\n",
              "<tr><td><a href=\"species/glassy-winged sharpshooter.html\">glassy-winged sharpshooter</a></td>                      <td>1</td>                      <td>0</td>                      <td>-1</td>                      <td>0</td>                      <td>0</td></tr>\n",
              "<tr><td><a href=\"species/Homalodisca vitripennis (Germar).html\">Homalodisca vitripennis (Germar)</a></td>                      <td>1</td>                      <td>0</td>                      <td>-1</td>                      <td>0</td>                      <td>0</td></tr>\n",
              "<tr><td><a href=\"species/H. vitripennis.html\">H. vitripennis</a></td>                      <td>3</td>                      <td>0</td>                      <td>-1</td>                      <td>0</td>                      <td>0</td></tr>\n",
              "<tr><td><a href=\"species/Xylella fastidiosa (Wells).html\">Xylella fastidiosa (Wells)</a></td>                      <td>1</td>                      <td>0</td>                      <td>-1</td>                      <td>0</td>                      <td>0</td></tr>\n",
              "<tr><td><a href=\"species/Nicotiana rustica.html\">Nicotiana rustica</a></td>                      <td>1</td>                      <td>0</td>                      <td>-1</td>                      <td>0</td>                      <td>0</td></tr>\n",
              "<tr><td><a href=\"species/Glomus etunicatum.html\">Glomus etunicatum</a></td>                      <td>1</td>                      <td>0</td>                      <td>-1</td>                      <td>0</td>                      <td>0</td></tr>\n",
              "<tr><td><a href=\"species/silver leaf whitefly.html\">silver leaf whitefly</a></td>                      <td>1</td>                      <td>0</td>                      <td>-1</td>                      <td>0</td>                      <td>0</td></tr>\n",
              "<tr><td><a href=\"species/Bemisia argentifolii.html\">Bemisia argentifolii</a></td>                      <td>1</td>                      <td>0</td>                      <td>-1</td>                      <td>0</td>                      <td>0</td></tr>\n",
              "<tr><td><a href=\"species/Eretmocerus eremicus.html\">Eretmocerus eremicus</a></td>                      <td>1</td>                      <td>0</td>                      <td>-1</td>                      <td>0</td>                      <td>0</td></tr>\n",
              "<tr><td><a href=\"species/stable fly.html\">stable fly</a></td>                      <td>4</td>                      <td>0</td>                      <td>-1</td>                      <td>0</td>                      <td>0</td></tr>\n",
              "<tr><td><a href=\"species/Spalangia cameroni.html\">Spalangia cameroni</a></td>                      <td>1</td>                      <td>0</td>                      <td>-1</td>                      <td>0</td>                      <td>0</td></tr>\n",
              "<tr><td><a href=\"species/Spalangia endius.html\">Spalangia endius</a></td>                      <td>1</td>                      <td>0</td>                      <td>-1</td>                      <td>0</td>                      <td>0</td></tr>\n",
              "<tr><td><a href=\"species/Muscidifurax raptorellus.html\">Muscidifurax raptorellus</a></td>                      <td>1</td>                      <td>0</td>                      <td>-1</td>                      <td>0</td>                      <td>0</td></tr>\n",
              "<tr><td><a href=\"species/M. raptorellus.html\">M. raptorellus</a></td>                      <td>2</td>                      <td>0</td>                      <td>-1</td>                      <td>0</td>                      <td>0</td></tr>\n",
              "<tr><td><a href=\"species/S. cameroni.html\">S. cameroni</a></td>                      <td>1</td>                      <td>0</td>                      <td>-1</td>                      <td>0</td>                      <td>0</td></tr>\n",
              "<tr><td><a href=\"species/S. endius.html\">S. endius</a></td>                      <td>1</td>                      <td>0</td>                      <td>-1</td>                      <td>0</td>                      <td>0</td></tr>\n",
              "<tr><td><a href=\"species/Litoreibacter albidus.html\">Litoreibacter albidus</a></td>                      <td>2</td>                      <td>0</td>                      <td>-1</td>                      <td>0</td>                      <td>0</td></tr>\n",
              "<tr><td><a href=\"species/Litoreibacter janthinus.html\">Litoreibacter janthinus</a></td>                      <td>2</td>                      <td>0</td>                      <td>-1</td>                      <td>0</td>                      <td>0</td></tr>\n",
              "<tr><td><a href=\"species/KMM 3851.html\">KMM 3851</a></td>                      <td>6</td>                      <td>0</td>                      <td>-1</td>                      <td>0</td>                      <td>0</td></tr>\n",
              "<tr><td><a href=\"species/KMM 3842.html\">KMM 3842</a></td>                      <td>6</td>                      <td>0</td>                      <td>-1</td>                      <td>0</td>                      <td>0</td></tr>\n",
              "<tr><td><a href=\"species/Umbonium costatum.html\">Umbonium costatum</a></td>                      <td>1</td>                      <td>0</td>                      <td>-1</td>                      <td>0</td>                      <td>0</td></tr>\n",
              "<tr><td><a href=\"species/Methanobacterium petrolearium sp. nov..html\">Methanobacterium petrolearium sp. nov.</a></td>                      <td>2</td>                      <td>0</td>                      <td>-1</td>                      <td>0</td>                      <td>0</td></tr>\n",
              "<tr><td><a href=\"species/Methanobacterium ferruginis sp. nov..html\">Methanobacterium ferruginis sp. nov.</a></td>                      <td>2</td>                      <td>0</td>                      <td>-1</td>                      <td>0</td>                      <td>0</td></tr>\n",
              "<tr><td><a href=\"species/Methanobacterium subterraneum.html\">Methanobacterium subterraneum</a></td>                      <td>1</td>                      <td>0</td>                      <td>-1</td>                      <td>0</td>                      <td>0</td></tr>\n",
              "<tr><td><a href=\"species/Jiangella muralis sp. nov..html\">Jiangella muralis sp. nov.</a></td>                      <td>2</td>                      <td>0</td>                      <td>-1</td>                      <td>0</td>                      <td>0</td></tr>\n",
              "<tr><td><a href=\"species/15-Je-017(T).html\">15-Je-017(T)</a></td>                      <td>6</td>                      <td>0</td>                      <td>-1</td>                      <td>0</td>                      <td>0</td></tr>\n",
              "<tr><td><a href=\"species/Jiangella alba YIM 61503(T).html\">Jiangella alba YIM 61503(T)</a></td>                      <td>1</td>                      <td>0</td>                      <td>-1</td>                      <td>0</td>                      <td>0</td></tr>\n",
              "<tr><td><a href=\"species/Jiangella alkaliphila D8-87(T).html\">Jiangella alkaliphila D8-87(T)</a></td>                      <td>1</td>                      <td>0</td>                      <td>-1</td>                      <td>0</td>                      <td>0</td></tr>\n",
              "<tr><td><a href=\"species/Jiangella gansuensis YIM 002(T).html\">Jiangella gansuensis YIM 002(T)</a></td>                      <td>1</td>                      <td>0</td>                      <td>-1</td>                      <td>0</td>                      <td>0</td></tr>\n",
              "<tr><td><a href=\"species/Rice.html\">Rice</a></td>                      <td>1</td>                      <td>0</td>                      <td>-1</td>                      <td>0</td>                      <td>0</td></tr>\n",
              "<tr><td><a href=\"species/Xanthomonas oryzae pv. oryzae.html\">Xanthomonas oryzae pv. oryzae</a></td>                      <td>1</td>                      <td>0</td>                      <td>-1</td>                      <td>0</td>                      <td>0</td></tr>\n",
              "<tr><td><a href=\"species/Xoo.html\">Xoo</a></td>                      <td>2</td>                      <td>0</td>                      <td>-1</td>                      <td>0</td>                      <td>0</td></tr>\n",
              "<tr><td><a href=\"species/ring ouzel.html\">ring ouzel</a></td>                      <td>1</td>                      <td>0</td>                      <td>-1</td>                      <td>0</td>                      <td>0</td></tr>\n",
              "<tr><td><a href=\"species/Turdus torquatus.html\">Turdus torquatus</a></td>                      <td>1</td>                      <td>0</td>                      <td>-1</td>                      <td>0</td>                      <td>0</td></tr>\n",
              "<tr><td><a href=\"species/Mantamonas plastica sp. n..html\">Mantamonas plastica sp. n.</a></td>                      <td>1</td>                      <td>0</td>                      <td>-1</td>                      <td>0</td>                      <td>0</td></tr>\n",
              "<tr><td><a href=\"species/Mantamonas plastica.html\">Mantamonas plastica</a></td>                      <td>1</td>                      <td>0</td>                      <td>-1</td>                      <td>0</td>                      <td>0</td></tr>\n",
              "<tr><td><a href=\"species/Triticum aestivum.html\">Triticum aestivum</a></td>                      <td>1</td>                      <td>0</td>                      <td>-1</td>                      <td>0</td>                      <td>0</td></tr>\n",
              "<tr><td><a href=\"species/Hv.html\">Hv</a></td>                      <td>1</td>                      <td>0</td>                      <td>-1</td>                      <td>0</td>                      <td>0</td></tr>\n",
              "<tr><td><a href=\"species/Heliothis subflexa.html\">Heliothis subflexa</a></td>                      <td>1</td>                      <td>0</td>                      <td>-1</td>                      <td>0</td>                      <td>0</td></tr>\n",
              "<tr><td><a href=\"species/Hs.html\">Hs</a></td>                      <td>1</td>                      <td>0</td>                      <td>-1</td>                      <td>0</td>                      <td>0</td></tr>\n",
              "<tr><td><a href=\"species/H. subflexa.html\">H. subflexa</a></td>                      <td>1</td>                      <td>0</td>                      <td>-1</td>                      <td>0</td>                      <td>0</td></tr>\n",
              "<tr><td><a href=\"species/Spodoptera litura Fabricius.html\">Spodoptera litura Fabricius</a></td>                      <td>1</td>                      <td>0</td>                      <td>-1</td>                      <td>0</td>                      <td>0</td></tr>\n",
              "<tr><td><a href=\"species/S. litura.html\">S. litura</a></td>                      <td>1</td>                      <td>0</td>                      <td>-1</td>                      <td>0</td>                      <td>0</td></tr>\n",
              "<tr><td><a href=\"species/Simian immunodeficiency virus.html\">Simian immunodeficiency virus</a></td>                      <td>1</td>                      <td>0</td>                      <td>-1</td>                      <td>0</td>                      <td>0</td></tr>\n",
              "<tr><td><a href=\"species/sooty mangabey.html\">sooty mangabey</a></td>                      <td>1</td>                      <td>0</td>                      <td>-1</td>                      <td>0</td>                      <td>0</td></tr>\n",
              "<tr><td><a href=\"species/rhesus macaque.html\">rhesus macaque</a></td>                      <td>1</td>                      <td>0</td>                      <td>-1</td>                      <td>0</td>                      <td>0</td></tr>\n",
              "<tr><td><a href=\"species/SIVmac239.html\">SIVmac239</a></td>                      <td>7</td>                      <td>2</td>                      <td>0.777</td>                      <td>0</td>                      <td>-1</td></tr>\n",
              "<tr><td><a href=\"species/jackfruit.html\">jackfruit</a></td>                      <td>1</td>                      <td>0</td>                      <td>-1</td>                      <td>0</td>                      <td>0</td></tr>\n",
              "<tr><td><a href=\"species/HIV-1 strain NL4-3.html\">HIV-1 strain NL4-3</a></td>                      <td>1</td>                      <td>0</td>                      <td>-1</td>                      <td>0</td>                      <td>0</td></tr>\n",
              "<tr><td><a href=\"species/SIVmac.html\">SIVmac</a></td>                      <td>3</td>                      <td>0</td>                      <td>-1</td>                      <td>0</td>                      <td>0</td></tr>\n",
              "<tr><td><a href=\"species/SIVsm.html\">SIVsm</a></td>                      <td>3</td>                      <td>0</td>                      <td>-1</td>                      <td>0</td>                      <td>0</td></tr>\n",
              "<tr><td><a href=\"species/SIVcpz.html\">SIVcpz</a></td>                      <td>3</td>                      <td>0</td>                      <td>-1</td>                      <td>0</td>                      <td>0</td></tr>\n",
              "<tr><td><a href=\"species/HIV-2.html\">HIV-2</a></td>                      <td>1</td>                      <td>0</td>                      <td>-1</td>                      <td>0</td>                      <td>0</td></tr>\n",
              "<tr><td><a href=\"species/Varicella-zoster virus.html\">Varicella-zoster virus</a></td>                      <td>2</td>                      <td>0</td>                      <td>-1</td>                      <td>0</td>                      <td>0</td></tr>\n",
              "<tr><td><a href=\"species/Theiler's murine encephalitis virus.html\">Theiler's murine encephalitis virus</a></td>                      <td>1</td>                      <td>0</td>                      <td>-1</td>                      <td>0</td>                      <td>0</td></tr>\n",
              "<tr><td><a href=\"species/TMEV.html\">TMEV</a></td>                      <td>1</td>                      <td>0</td>                      <td>-1</td>                      <td>0</td>                      <td>0</td></tr>\n",
              "<tr><td><a href=\"species/Metaphycus luteolus.html\">Metaphycus luteolus</a></td>                      <td>1</td>                      <td>0</td>                      <td>-1</td>                      <td>0</td>                      <td>0</td></tr>\n",
              "<tr><td><a href=\"species/M. luteolus.html\">M. luteolus</a></td>                      <td>2</td>                      <td>0</td>                      <td>-1</td>                      <td>0</td>                      <td>0</td></tr>\n",
              "<tr><td><a href=\"species/Cephalanthera damasonium.html\">Cephalanthera damasonium</a></td>                      <td>2</td>                      <td>0</td>                      <td>-1</td>                      <td>0</td>                      <td>0</td></tr>\n",
              "<tr><td><a href=\"species/C. damasonium.html\">C. damasonium</a></td>                      <td>2</td>                      <td>0</td>                      <td>-1</td>                      <td>0</td>                      <td>0</td></tr>\n",
              "<tr><td><a href=\"species/Aeromonas hydrophila.html\">Aeromonas hydrophila</a></td>                      <td>1</td>                      <td>0</td>                      <td>-1</td>                      <td>0</td>                      <td>0</td></tr>\n",
              "<tr><td><a href=\"species/Kaposi's sarcoma herpesvirus.html\">Kaposi's sarcoma herpesvirus</a></td>                      <td>1</td>                      <td>0</td>                      <td>-1</td>                      <td>0</td>                      <td>0</td></tr>\n",
              "<tr><td><a href=\"species/Epstein-Barr virus.html\">Epstein-Barr virus</a></td>                      <td>2</td>                      <td>0</td>                      <td>-1</td>                      <td>0</td>                      <td>0</td></tr>\n",
              "<tr><td><a href=\"species/EBV.html\">EBV</a></td>                      <td>5</td>                      <td>0</td>                      <td>-1</td>                      <td>0</td>                      <td>0</td></tr>\n",
              "<tr><td><a href=\"species/vesicular stomatitis virus.html\">vesicular stomatitis virus</a></td>                      <td>2</td>                      <td>0</td>                      <td>-1</td>                      <td>0</td>                      <td>0</td></tr>\n",
              "<tr><td><a href=\"species/viral.html\">viral</a></td>                      <td>3</td>                      <td>89</td>                      <td>0.032</td>                      <td>0</td>                      <td>-1</td></tr>\n",
              "<tr><td><a href=\"species/virus.html\">virus</a></td>                      <td>1</td>                      <td>116</td>                      <td>0.008</td>                      <td>0</td>                      <td>-1</td></tr>\n",
              "<tr><td><a href=\"species/rhesus monkeys.html\">rhesus monkeys</a></td>                      <td>2</td>                      <td>0</td>                      <td>-1</td>                      <td>0</td>                      <td>0</td></tr>\n",
              "<tr><td><a href=\"species/Macaca mulatta.html\">Macaca mulatta</a></td>                      <td>1</td>                      <td>0</td>                      <td>-1</td>                      <td>0</td>                      <td>0</td></tr>\n",
              "<tr><td><a href=\"species/Streptomyces coelicolor.html\">Streptomyces coelicolor</a></td>                      <td>2</td>                      <td>0</td>                      <td>-1</td>                      <td>0</td>                      <td>0</td></tr>\n",
              "<tr><td><a href=\"species/S. coelicolor.html\">S. coelicolor</a></td>                      <td>1</td>                      <td>0</td>                      <td>-1</td>                      <td>0</td>                      <td>0</td></tr>\n",
              "<tr><td><a href=\"species/leafminer.html\">leafminer</a></td>                      <td>1</td>                      <td>0</td>                      <td>-1</td>                      <td>0</td>                      <td>0</td></tr>\n",
              "<tr><td><a href=\"species/Liriomyza huidobrensis.html\">Liriomyza huidobrensis</a></td>                      <td>1</td>                      <td>0</td>                      <td>-1</td>                      <td>0</td>                      <td>0</td></tr>\n",
              "<tr><td><a href=\"species/wasp.html\">wasp</a></td>                      <td>1</td>                      <td>3</td>                      <td>0.25</td>                      <td>0</td>                      <td>-1</td></tr>\n",
              "<tr><td><a href=\"species/Opius dissitus.html\">Opius dissitus</a></td>                      <td>1</td>                      <td>0</td>                      <td>-1</td>                      <td>0</td>                      <td>0</td></tr>\n",
              "<tr><td><a href=\"species/wild-type (WT) plant.html\">wild-type (WT) plant</a></td>                      <td>1</td>                      <td>0</td>                      <td>-1</td>                      <td>0</td>                      <td>0</td></tr>\n",
              "<tr><td><a href=\"species/JA biosynthesis (spr2) mutant.html\">JA biosynthesis (spr2) mutant</a></td>                      <td>1</td>                      <td>0</td>                      <td>-1</td>                      <td>0</td>                      <td>0</td></tr>\n",
              "<tr><td><a href=\"species/JA-overexpression 35S::prosys plant.html\">JA-overexpression 35S::prosys plant</a></td>                      <td>1</td>                      <td>0</td>                      <td>-1</td>                      <td>0</td>                      <td>0</td></tr>\n",
              "<tr><td><a href=\"species/leafminers.html\">leafminers</a></td>                      <td>2</td>                      <td>0</td>                      <td>-1</td>                      <td>0</td>                      <td>0</td></tr>\n",
              "<tr><td><a href=\"species/spr2 mutant plants.html\">spr2 mutant plants</a></td>                      <td>1</td>                      <td>0</td>                      <td>-1</td>                      <td>0</td>                      <td>0</td></tr>\n",
              "<tr><td><a href=\"species/WT plants.html\">WT plants</a></td>                      <td>1</td>                      <td>0</td>                      <td>-1</td>                      <td>0</td>                      <td>0</td></tr>\n",
              "<tr><td><a href=\"species/35S::prosys plant.html\">35S::prosys plant</a></td>                      <td>1</td>                      <td>0</td>                      <td>-1</td>                      <td>0</td>                      <td>0</td></tr>\n",
              "<tr><td><a href=\"species/grey-crowned babbler.html\">grey-crowned babbler</a></td>                      <td>2</td>                      <td>0</td>                      <td>-1</td>                      <td>0</td>                      <td>0</td></tr>\n",
              "<tr><td><a href=\"species/Pomatostomus temporalis.html\">Pomatostomus temporalis</a></td>                      <td>1</td>                      <td>0</td>                      <td>-1</td>                      <td>0</td>                      <td>0</td></tr>\n",
              "<tr><td><a href=\"species/grey-crowned babblers.html\">grey-crowned babblers</a></td>                      <td>1</td>                      <td>0</td>                      <td>-1</td>                      <td>0</td>                      <td>0</td></tr>\n",
              "<tr><td><a href=\"species/Staphylococcus epidermidis.html\">Staphylococcus epidermidis</a></td>                      <td>2</td>                      <td>0</td>                      <td>-1</td>                      <td>0</td>                      <td>0</td></tr>\n",
              "<tr><td><a href=\"species/Variovorax paradoxus.html\">Variovorax paradoxus</a></td>                      <td>2</td>                      <td>0</td>                      <td>-1</td>                      <td>0</td>                      <td>0</td></tr>\n",
              "<tr><td><a href=\"species/V. paradoxus.html\">V. paradoxus</a></td>                      <td>1</td>                      <td>0</td>                      <td>-1</td>                      <td>0</td>                      <td>0</td></tr>\n",
              "<tr><td><a href=\"species/Mycobacterium bovis.html\">Mycobacterium bovis</a></td>                      <td>2</td>                      <td>0</td>                      <td>-1</td>                      <td>0</td>                      <td>0</td></tr>\n",
              "<tr><td><a href=\"species/M. bovis.html\">M. bovis</a></td>                      <td>6</td>                      <td>0</td>                      <td>-1</td>                      <td>0</td>                      <td>0</td></tr>\n",
              "<tr><td><a href=\"species/Mycoplasma pneumoniae.html\">Mycoplasma pneumoniae</a></td>                      <td>2</td>                      <td>0</td>                      <td>-1</td>                      <td>0</td>                      <td>0</td></tr>\n",
              "<tr><td><a href=\"species/mycoplasma.html\">mycoplasma</a></td>                      <td>1</td>                      <td>0</td>                      <td>-1</td>                      <td>0</td>                      <td>0</td></tr>\n",
              "<tr><td><a href=\"species/bacteriophage.html\">bacteriophage</a></td>                      <td>1</td>                      <td>2</td>                      <td>0.333</td>                      <td>0</td>                      <td>-1</td></tr>\n",
              "<tr><td><a href=\"species/Bdellovibrio.html\">Bdellovibrio</a></td>                      <td>6</td>                      <td>1</td>                      <td>0.857</td>                      <td>0</td>                      <td>-1</td></tr>\n",
              "<tr><td><a href=\"species/B. bacteriovorus HD100.html\">B. bacteriovorus HD100</a></td>                      <td>1</td>                      <td>0</td>                      <td>-1</td>                      <td>0</td>                      <td>0</td></tr>\n",
              "<tr><td><a href=\"species/Botrytis cinerea.html\">Botrytis cinerea</a></td>                      <td>4</td>                      <td>0</td>                      <td>-1</td>                      <td>0</td>                      <td>0</td></tr>\n",
              "<tr><td><a href=\"species/Plasmodium falciparum.html\">Plasmodium falciparum</a></td>                      <td>2</td>                      <td>0</td>                      <td>-1</td>                      <td>0</td>                      <td>0</td></tr>\n",
              "<tr><td><a href=\"species/P falciparum.html\">P falciparum</a></td>                      <td>3</td>                      <td>0</td>                      <td>-1</td>                      <td>0</td>                      <td>0</td></tr>\n",
              "<tr><td><a href=\"species/Spongospora subterranea.html\">Spongospora subterranea</a></td>                      <td>1</td>                      <td>0</td>                      <td>-1</td>                      <td>0</td>                      <td>0</td></tr>\n",
              "<tr><td><a href=\"species/Brassica rapa.html\">Brassica rapa</a></td>                      <td>1</td>                      <td>0</td>                      <td>-1</td>                      <td>0</td>                      <td>0</td></tr>\n",
              "<tr><td><a href=\"species/Solanum tuberosum.html\">Solanum tuberosum</a></td>                      <td>1</td>                      <td>0</td>                      <td>-1</td>                      <td>0</td>                      <td>0</td></tr>\n",
              "<tr><td><a href=\"species/S. subterranea.html\">S. subterranea</a></td>                      <td>2</td>                      <td>0</td>                      <td>-1</td>                      <td>0</td>                      <td>0</td></tr>\n",
              "<tr><td><a href=\"species/poplar leaf beetle.html\">poplar leaf beetle</a></td>                      <td>1</td>                      <td>0</td>                      <td>-1</td>                      <td>0</td>                      <td>0</td></tr>\n",
              "<tr><td><a href=\"species/Chrysomela tremulae.html\">Chrysomela tremulae</a></td>                      <td>1</td>                      <td>0</td>                      <td>-1</td>                      <td>0</td>                      <td>0</td></tr>\n",
              "<tr><td><a href=\"species/C. tremulae.html\">C. tremulae</a></td>                      <td>3</td>                      <td>0</td>                      <td>-1</td>                      <td>0</td>                      <td>0</td></tr>\n",
              "<tr><td><a href=\"species/Magnaporth oryzae.html\">Magnaporth oryzae</a></td>                      <td>1</td>                      <td>0</td>                      <td>-1</td>                      <td>0</td>                      <td>0</td></tr>\n",
              "<tr><td><a href=\"species/Lentinula edodes.html\">Lentinula edodes</a></td>                      <td>2</td>                      <td>0</td>                      <td>-1</td>                      <td>0</td>                      <td>0</td></tr>\n",
              "<tr><td><a href=\"species/Shiitake mushroom.html\">Shiitake mushroom</a></td>                      <td>1</td>                      <td>0</td>                      <td>-1</td>                      <td>0</td>                      <td>0</td></tr>\n",
              "<tr><td><a href=\"species/L. edodes.html\">L. edodes</a></td>                      <td>4</td>                      <td>0</td>                      <td>-1</td>                      <td>0</td>                      <td>0</td></tr>\n",
              "<tr><td><a href=\"species/Shiitake mushrooms.html\">Shiitake mushrooms</a></td>                      <td>1</td>                      <td>0</td>                      <td>-1</td>                      <td>0</td>                      <td>0</td></tr>\n",
              "<tr><td><a href=\"species/Coprinopsis cinerea.html\">Coprinopsis cinerea</a></td>                      <td>2</td>                      <td>0</td>                      <td>-1</td>                      <td>0</td>                      <td>0</td></tr>\n",
              "<tr><td><a href=\"species/Entamoeba coli.html\">Entamoeba coli</a></td>                      <td>2</td>                      <td>0</td>                      <td>-1</td>                      <td>0</td>                      <td>0</td></tr>\n",
              "<tr><td><a href=\"species/Entamoeba polecki.html\">Entamoeba polecki</a></td>                      <td>2</td>                      <td>0</td>                      <td>-1</td>                      <td>0</td>                      <td>0</td></tr>\n",
              "<tr><td><a href=\"species/Entamoeba hartmanni.html\">Entamoeba hartmanni</a></td>                      <td>1</td>                      <td>0</td>                      <td>-1</td>                      <td>0</td>                      <td>0</td></tr>\n",
              "<tr><td><a href=\"species/elephant.html\">elephant</a></td>                      <td>5</td>                      <td>0</td>                      <td>-1</td>                      <td>0</td>                      <td>0</td></tr>\n",
              "<tr><td><a href=\"species/African elephant.html\">African elephant</a></td>                      <td>1</td>                      <td>0</td>                      <td>-1</td>                      <td>0</td>                      <td>0</td></tr>\n",
              "<tr><td><a href=\"species/Elephant.html\">Elephant</a></td>                      <td>2</td>                      <td>0</td>                      <td>-1</td>                      <td>0</td>                      <td>0</td></tr>\n",
              "<tr><td><a href=\"species/Colophospermum mopane.html\">Colophospermum mopane</a></td>                      <td>1</td>                      <td>0</td>                      <td>-1</td>                      <td>0</td>                      <td>0</td></tr>\n",
              "<tr><td><a href=\"species/C. mopane.html\">C. mopane</a></td>                      <td>1</td>                      <td>0</td>                      <td>-1</td>                      <td>0</td>                      <td>0</td></tr>\n",
              "<tr><td><a href=\"species/Honeybees.html\">Honeybees</a></td>                      <td>1</td>                      <td>0</td>                      <td>-1</td>                      <td>0</td>                      <td>0</td></tr>\n",
              "<tr><td><a href=\"species/Africanized honeybees.html\">Africanized honeybees</a></td>                      <td>1</td>                      <td>0</td>                      <td>-1</td>                      <td>0</td>                      <td>0</td></tr>\n",
              "<tr><td><a href=\"species/Parasterkiella thompsoni.html\">Parasterkiella thompsoni</a></td>                      <td>2</td>                      <td>0</td>                      <td>-1</td>                      <td>0</td>                      <td>0</td></tr>\n",
              "<tr><td><a href=\"species/P. thompsoni.html\">P. thompsoni</a></td>                      <td>1</td>                      <td>0</td>                      <td>-1</td>                      <td>0</td>                      <td>0</td></tr>\n",
              "<tr><td><a href=\"species/Sterkiella thompsoni.html\">Sterkiella thompsoni</a></td>                      <td>1</td>                      <td>0</td>                      <td>-1</td>                      <td>0</td>                      <td>0</td></tr>\n",
              "<tr><td><a href=\"species/Mauritius kestrel.html\">Mauritius kestrel</a></td>                      <td>1</td>                      <td>0</td>                      <td>-1</td>                      <td>0</td>                      <td>0</td></tr>\n",
              "<tr><td><a href=\"species/Eimeria nieschulzi.html\">Eimeria nieschulzi</a></td>                      <td>1</td>                      <td>0</td>                      <td>-1</td>                      <td>0</td>                      <td>0</td></tr>\n",
              "<tr><td><a href=\"species/Eimeria falciformis.html\">Eimeria falciformis</a></td>                      <td>1</td>                      <td>0</td>                      <td>-1</td>                      <td>0</td>                      <td>0</td></tr>\n",
              "<tr><td><a href=\"species/Mygona irmina.html\">Mygona irmina</a></td>                      <td>2</td>                      <td>0</td>                      <td>-1</td>                      <td>0</td>                      <td>0</td></tr>\n",
              "<tr><td><a href=\"species/Chusquea c.f. scandens.html\">Chusquea c.f. scandens</a></td>                      <td>1</td>                      <td>0</td>                      <td>-1</td>                      <td>0</td>                      <td>0</td></tr>\n",
              "<tr><td><a href=\"species/Loxodonta cyclotis.html\">Loxodonta cyclotis</a></td>                      <td>1</td>                      <td>0</td>                      <td>-1</td>                      <td>0</td>                      <td>0</td></tr>\n",
              "<tr><td><a href=\"species/sycamore lace bug.html\">sycamore lace bug</a></td>                      <td>2</td>                      <td>0</td>                      <td>-1</td>                      <td>0</td>                      <td>0</td></tr>\n",
              "<tr><td><a href=\"species/Corythucha ciliata.html\">Corythucha ciliata</a></td>                      <td>2</td>                      <td>0</td>                      <td>-1</td>                      <td>0</td>                      <td>0</td></tr>\n",
              "<tr><td><a href=\"species/C. ciliata.html\">C. ciliata</a></td>                      <td>5</td>                      <td>0</td>                      <td>-1</td>                      <td>0</td>                      <td>0</td></tr>\n",
              "<tr><td><a href=\"species/London plane tree.html\">London plane tree</a></td>                      <td>1</td>                      <td>0</td>                      <td>-1</td>                      <td>0</td>                      <td>0</td></tr>\n",
              "<tr><td><a href=\"species/Platanus x acerifolia.html\">Platanus x acerifolia</a></td>                      <td>1</td>                      <td>0</td>                      <td>-1</td>                      <td>0</td>                      <td>0</td></tr>\n",
              "<tr><td><a href=\"species/Zea mays (L.).html\">Zea mays (L.)</a></td>                      <td>1</td>                      <td>0</td>                      <td>-1</td>                      <td>0</td>                      <td>0</td></tr>\n",
              "<tr><td><a href=\"species/Sorghum bicolor (L.).html\">Sorghum bicolor (L.)</a></td>                      <td>1</td>                      <td>0</td>                      <td>-1</td>                      <td>0</td>                      <td>0</td></tr>\n",
              "<tr><td><a href=\"species/Cotesia sesamiae (Cameron).html\">Cotesia sesamiae (Cameron)</a></td>                      <td>1</td>                      <td>0</td>                      <td>-1</td>                      <td>0</td>                      <td>0</td></tr>\n",
              "<tr><td><a href=\"species/C. flavipes Cameron.html\">C. flavipes Cameron</a></td>                      <td>1</td>                      <td>0</td>                      <td>-1</td>                      <td>0</td>                      <td>0</td></tr>\n",
              "<tr><td><a href=\"species/B. cinerea.html\">B. cinerea</a></td>                      <td>1</td>                      <td>0</td>                      <td>-1</td>                      <td>0</td>                      <td>0</td></tr>\n",
              "<tr><td><a href=\"species/Glomus intraradices.html\">Glomus intraradices</a></td>                      <td>2</td>                      <td>0</td>                      <td>-1</td>                      <td>0</td>                      <td>0</td></tr>\n",
              "<tr><td><a href=\"species/G. intraradicesNH(4).html\">G. intraradicesNH(4)</a></td>                      <td>1</td>                      <td>0</td>                      <td>-1</td>                      <td>0</td>                      <td>0</td></tr>\n",
              "<tr><td><a href=\"species/Fusarium graminearum complex.html\">Fusarium graminearum complex</a></td>                      <td>1</td>                      <td>0</td>                      <td>-1</td>                      <td>0</td>                      <td>0</td></tr>\n",
              "<tr><td><a href=\"species/FGSC species.html\">FGSC species</a></td>                      <td>1</td>                      <td>0</td>                      <td>-1</td>                      <td>0</td>                      <td>0</td></tr>\n",
              "<tr><td><a href=\"species/Fusarium nepalense.html\">Fusarium nepalense</a></td>                      <td>1</td>                      <td>0</td>                      <td>-1</td>                      <td>0</td>                      <td>0</td></tr>\n",
              "<tr><td><a href=\"species/Fusarium ussurianum+Fusarium asiaticum.html\">Fusarium ussurianum+Fusarium asiaticum</a></td>                      <td>1</td>                      <td>0</td>                      <td>-1</td>                      <td>0</td>                      <td>0</td></tr>\n",
              "<tr><td><a href=\"species/Fusarium louisianense.html\">Fusarium louisianense</a></td>                      <td>1</td>                      <td>0</td>                      <td>-1</td>                      <td>0</td>                      <td>0</td></tr>\n",
              "<tr><td><a href=\"species/Fusarium gerlachii+F. graminearum.html\">Fusarium gerlachii+F. graminearum</a></td>                      <td>1</td>                      <td>0</td>                      <td>-1</td>                      <td>0</td>                      <td>0</td></tr>\n",
              "<tr><td><a href=\"species/F. nepalense.html\">F. nepalense</a></td>                      <td>1</td>                      <td>0</td>                      <td>-1</td>                      <td>0</td>                      <td>0</td></tr>\n",
              "<tr><td><a href=\"species/F. louisianense.html\">F. louisianense</a></td>                      <td>1</td>                      <td>0</td>                      <td>-1</td>                      <td>0</td>                      <td>0</td></tr>\n",
              "<tr><td><a href=\"species/Metarhizium brunneum.html\">Metarhizium brunneum</a></td>                      <td>2</td>                      <td>0</td>                      <td>-1</td>                      <td>0</td>                      <td>0</td></tr>\n",
              "<tr><td><a href=\"species/M. brunneum.html\">M. brunneum</a></td>                      <td>5</td>                      <td>0</td>                      <td>-1</td>                      <td>0</td>                      <td>0</td></tr>\n",
              "<tr><td><a href=\"species/Theobroma Cacao.html\">Theobroma Cacao</a></td>                      <td>1</td>                      <td>0</td>                      <td>-1</td>                      <td>0</td>                      <td>0</td></tr>\n",
              "<tr><td><a href=\"species/cacao.html\">cacao</a></td>                      <td>5</td>                      <td>0</td>                      <td>-1</td>                      <td>0</td>                      <td>0</td></tr>\n",
              "<tr><td><a href=\"species/Theobroma cacao.html\">Theobroma cacao</a></td>                      <td>1</td>                      <td>0</td>                      <td>-1</td>                      <td>0</td>                      <td>0</td></tr>\n",
              "<tr><td><a href=\"species/S.cerevisiae.html\">S.cerevisiae</a></td>                      <td>0</td>                      <td>0</td>                      <td>0</td>                      <td>6</td>                      <td>0.0</td></tr>\n",
              "<tr><td><a href=\"species/Caenorhabditis elegans.html\">Caenorhabditis elegans</a></td>                      <td>0</td>                      <td>0</td>                      <td>0</td>                      <td>11</td>                      <td>0.0</td></tr>\n",
              "<tr><td><a href=\"species/Xenopus laevis.html\">Xenopus laevis</a></td>                      <td>0</td>                      <td>0</td>                      <td>0</td>                      <td>3</td>                      <td>0.0</td></tr>\n",
              "<tr><td><a href=\"species/C.elegans.html\">C.elegans</a></td>                      <td>0</td>                      <td>0</td>                      <td>0</td>                      <td>3</td>                      <td>0.0</td></tr>\n",
              "<tr><td><a href=\"species/E.coli.html\">E.coli</a></td>                      <td>0</td>                      <td>0</td>                      <td>0</td>                      <td>2</td>                      <td>0.0</td></tr>\n",
              "<tr><td><a href=\"species/bovine.html\">bovine</a></td>                      <td>0</td>                      <td>3</td>                      <td>0.0</td>                      <td>38</td>                      <td>0.07317073170731707</td></tr>\n",
              "<tr><td><a href=\"species/Pichia pastoris.html\">Pichia pastoris</a></td>                      <td>0</td>                      <td>0</td>                      <td>0</td>                      <td>1</td>                      <td>0.0</td></tr>\n",
              "<tr><td><a href=\"species/D.melanogaster.html\">D.melanogaster</a></td>                      <td>0</td>                      <td>0</td>                      <td>0</td>                      <td>3</td>                      <td>0.0</td></tr>\n",
              "<tr><td><a href=\"species/fission yeast.html\">fission yeast</a></td>                      <td>0</td>                      <td>0</td>                      <td>0</td>                      <td>1</td>                      <td>0.0</td></tr>\n",
              "<tr><td><a href=\"species/horseradish.html\">horseradish</a></td>                      <td>0</td>                      <td>0</td>                      <td>0</td>                      <td>6</td>                      <td>0.0</td></tr>\n",
              "<tr><td><a href=\"species/bacteriophage M13.html\">bacteriophage M13</a></td>                      <td>0</td>                      <td>0</td>                      <td>0</td>                      <td>3</td>                      <td>0.0</td></tr>\n",
              "<tr><td><a href=\"species/patients.html\">patients</a></td>                      <td>0</td>                      <td>113</td>                      <td>0.0</td>                      <td>437</td>                      <td>0.20545454545454545</td></tr>\n",
              "<tr><td><a href=\"species/patient.html\">patient</a></td>                      <td>0</td>                      <td>16</td>                      <td>0.0</td>                      <td>159</td>                      <td>0.09142857142857143</td></tr>\n",
              "<tr><td><a href=\"species/donkey.html\">donkey</a></td>                      <td>0</td>                      <td>0</td>                      <td>0</td>                      <td>2</td>                      <td>0.0</td></tr>\n",
              "<tr><td><a href=\"species/S.pombe.html\">S.pombe</a></td>                      <td>0</td>                      <td>0</td>                      <td>0</td>                      <td>1</td>                      <td>0.0</td></tr>\n",
              "<tr><td><a href=\"species/murine.html\">murine</a></td>                      <td>0</td>                      <td>5</td>                      <td>0.0</td>                      <td>66</td>                      <td>0.07042253521126761</td></tr>\n",
              "<tr><td><a href=\"species/Murine.html\">Murine</a></td>                      <td>0</td>                      <td>0</td>                      <td>0</td>                      <td>2</td>                      <td>0.0</td></tr>\n",
              "<tr><td><a href=\"species/cyanobacterial.html\">cyanobacterial</a></td>                      <td>0</td>                      <td>7</td>                      <td>0.0</td>                      <td>2</td>                      <td>0.7777777777777778</td></tr>\n",
              "<tr><td><a href=\"species/CYANOBACTERIAL.html\">CYANOBACTERIAL</a></td>                      <td>0</td>                      <td>0</td>                      <td>0</td>                      <td>2</td>                      <td>0.0</td></tr>\n",
              "<tr><td><a href=\"species/Synechococcus strain Tx-20.html\">Synechococcus strain Tx-20</a></td>                      <td>0</td>                      <td>0</td>                      <td>0</td>                      <td>1</td>                      <td>0.0</td></tr>\n",
              "<tr><td><a href=\"species/Synechococcus TX-20.html\">Synechococcus TX-20</a></td>                      <td>0</td>                      <td>0</td>                      <td>0</td>                      <td>1</td>                      <td>0.0</td></tr>\n",
              "<tr><td><a href=\"species/crab.html\">crab</a></td>                      <td>0</td>                      <td>1</td>                      <td>0.0</td>                      <td>1</td>                      <td>0.5</td></tr>\n",
              "<tr><td><a href=\"species/Scylla.html\">Scylla</a></td>                      <td>0</td>                      <td>0</td>                      <td>0</td>                      <td>1</td>                      <td>0.0</td></tr>\n",
              "<tr><td><a href=\"species/Coho salmon.html\">Coho salmon</a></td>                      <td>0</td>                      <td>0</td>                      <td>0</td>                      <td>1</td>                      <td>0.0</td></tr>\n",
              "<tr><td><a href=\"species/Scylla serrata.html\">Scylla serrata</a></td>                      <td>0</td>                      <td>0</td>                      <td>0</td>                      <td>1</td>                      <td>0.0</td></tr>\n",
              "<tr><td><a href=\"species/Syrian golden hamsters.html\">Syrian golden hamsters</a></td>                      <td>0</td>                      <td>0</td>                      <td>0</td>                      <td>1</td>                      <td>0.0</td></tr>\n",
              "<tr><td><a href=\"species/man.html\">man</a></td>                      <td>0</td>                      <td>5</td>                      <td>0.0</td>                      <td>6</td>                      <td>0.45454545454545453</td></tr>\n",
              "<tr><td><a href=\"species/rats.html\">rats</a></td>                      <td>0</td>                      <td>3</td>                      <td>0.0</td>                      <td>65</td>                      <td>0.04411764705882353</td></tr>\n",
              "<tr><td><a href=\"species/Man.html\">Man</a></td>                      <td>0</td>                      <td>0</td>                      <td>0</td>                      <td>3</td>                      <td>0.0</td></tr>\n",
              "<tr><td><a href=\"species/participants.html\">participants</a></td>                      <td>0</td>                      <td>4</td>                      <td>0.0</td>                      <td>71</td>                      <td>0.05333333333333334</td></tr>\n",
              "<tr><td><a href=\"species/Participants.html\">Participants</a></td>                      <td>0</td>                      <td>0</td>                      <td>0</td>                      <td>18</td>                      <td>0.0</td></tr>\n",
              "<tr><td><a href=\"species/Patients.html\">Patients</a></td>                      <td>0</td>                      <td>2</td>                      <td>0.0</td>                      <td>22</td>                      <td>0.08333333333333333</td></tr>\n",
              "<tr><td><a href=\"species/people.html\">people</a></td>                      <td>0</td>                      <td>18</td>                      <td>0.0</td>                      <td>112</td>                      <td>0.13846153846153847</td></tr>\n",
              "<tr><td><a href=\"species/participant.html\">participant</a></td>                      <td>0</td>                      <td>0</td>                      <td>0</td>                      <td>17</td>                      <td>0.0</td></tr>\n",
              "<tr><td><a href=\"species/men.html\">men</a></td>                      <td>0</td>                      <td>1</td>                      <td>0.0</td>                      <td>80</td>                      <td>0.012345679012345678</td></tr>\n",
              "<tr><td><a href=\"species/women.html\">women</a></td>                      <td>0</td>                      <td>14</td>                      <td>0.0</td>                      <td>111</td>                      <td>0.112</td></tr>\n",
              "<tr><td><a href=\"species/person.html\">person</a></td>                      <td>0</td>                      <td>2</td>                      <td>0.0</td>                      <td>19</td>                      <td>0.09523809523809523</td></tr>\n",
              "<tr><td><a href=\"species/Rats.html\">Rats</a></td>                      <td>0</td>                      <td>0</td>                      <td>0</td>                      <td>2</td>                      <td>0.0</td></tr>\n",
              "<tr><td><a href=\"species/Patient.html\">Patient</a></td>                      <td>0</td>                      <td>0</td>                      <td>0</td>                      <td>3</td>                      <td>0.0</td></tr>\n",
              "<tr><td><a href=\"species/Women.html\">Women</a></td>                      <td>0</td>                      <td>0</td>                      <td>0</td>                      <td>5</td>                      <td>0.0</td></tr>\n",
              "<tr><td><a href=\"species/children.html\">children</a></td>                      <td>0</td>                      <td>12</td>                      <td>0.0</td>                      <td>62</td>                      <td>0.16216216216216217</td></tr>\n",
              "<tr><td><a href=\"species/hamster.html\">hamster</a></td>                      <td>0</td>                      <td>0</td>                      <td>0</td>                      <td>1</td>                      <td>0.0</td></tr>\n",
              "<tr><td><a href=\"species/FMDVs.html\">FMDVs</a></td>                      <td>0</td>                      <td>0</td>                      <td>0</td>                      <td>3</td>                      <td>0.0</td></tr>\n",
              "<tr><td><a href=\"species/human rhinovirus.html\">human rhinovirus</a></td>                      <td>0</td>                      <td>0</td>                      <td>0</td>                      <td>1</td>                      <td>0.0</td></tr>\n",
              "<tr><td><a href=\"species/shrimp.html\">shrimp</a></td>                      <td>0</td>                      <td>4</td>                      <td>0.0</td>                      <td>1</td>                      <td>0.8</td></tr>\n",
              "<tr><td><a href=\"species/Penaeus monodon.html\">Penaeus monodon</a></td>                      <td>0</td>                      <td>1</td>                      <td>0.0</td>                      <td>1</td>                      <td>0.5</td></tr>\n",
              "<tr><td><a href=\"species/cucumber mosaic virus.html\">cucumber mosaic virus</a></td>                      <td>0</td>                      <td>0</td>                      <td>0</td>                      <td>1</td>                      <td>0.0</td></tr>\n",
              "<tr><td><a href=\"species/barley stripe mosaic virus.html\">barley stripe mosaic virus</a></td>                      <td>0</td>                      <td>0</td>                      <td>0</td>                      <td>1</td>                      <td>0.0</td></tr>\n",
              "<tr><td><a href=\"species/Lymantria dispar.html\">Lymantria dispar</a></td>                      <td>0</td>                      <td>0</td>                      <td>0</td>                      <td>1</td>                      <td>0.0</td></tr>\n",
              "<tr><td><a href=\"species/Entomaphaga maimaiga.html\">Entomaphaga maimaiga</a></td>                      <td>0</td>                      <td>0</td>                      <td>0</td>                      <td>1</td>                      <td>0.0</td></tr>\n",
              "<tr><td><a href=\"species/moth.html\">moth</a></td>                      <td>0</td>                      <td>4</td>                      <td>0.0</td>                      <td>1</td>                      <td>0.8</td></tr>\n",
              "<tr><td><a href=\"species/myxoma virus.html\">myxoma virus</a></td>                      <td>0</td>                      <td>0</td>                      <td>0</td>                      <td>1</td>                      <td>0.0</td></tr>\n",
              "<tr><td><a href=\"species/avian myeloblastosis virus.html\">avian myeloblastosis virus</a></td>                      <td>0</td>                      <td>0</td>                      <td>0</td>                      <td>1</td>                      <td>0.0</td></tr>\n",
              "<tr><td><a href=\"species/Children.html\">Children</a></td>                      <td>0</td>                      <td>0</td>                      <td>0</td>                      <td>5</td>                      <td>0.0</td></tr>\n",
              "<tr><td><a href=\"species/boys.html\">boys</a></td>                      <td>0</td>                      <td>0</td>                      <td>0</td>                      <td>2</td>                      <td>0.0</td></tr>\n",
              "<tr><td><a href=\"species/girls.html\">girls</a></td>                      <td>0</td>                      <td>0</td>                      <td>0</td>                      <td>2</td>                      <td>0.0</td></tr>\n",
              "<tr><td><a href=\"species/C. elegans.html\">C. elegans</a></td>                      <td>0</td>                      <td>0</td>                      <td>0</td>                      <td>78</td>                      <td>0.0</td></tr>\n",
              "<tr><td><a href=\"species/worms.html\">worms</a></td>                      <td>0</td>                      <td>0</td>                      <td>0</td>                      <td>14</td>                      <td>0.0</td></tr>\n",
              "<tr><td><a href=\"species/S. pombe.html\">S. pombe</a></td>                      <td>0</td>                      <td>0</td>                      <td>0</td>                      <td>1</td>                      <td>0.0</td></tr>\n",
              "<tr><td><a href=\"species/Dictyostelium discoideum.html\">Dictyostelium discoideum</a></td>                      <td>0</td>                      <td>0</td>                      <td>0</td>                      <td>1</td>                      <td>0.0</td></tr>\n",
              "<tr><td><a href=\"species/Homo sapiens.html\">Homo sapiens</a></td>                      <td>0</td>                      <td>0</td>                      <td>0</td>                      <td>1</td>                      <td>0.0</td></tr>\n",
              "<tr><td><a href=\"species/Mus musculus.html\">Mus musculus</a></td>                      <td>0</td>                      <td>0</td>                      <td>0</td>                      <td>1</td>                      <td>0.0</td></tr>\n",
              "<tr><td><a href=\"species/Bacillus cereus group.html\">Bacillus cereus group</a></td>                      <td>0</td>                      <td>0</td>                      <td>0</td>                      <td>3</td>                      <td>0.0</td></tr>\n",
              "<tr><td><a href=\"species/B. thuringiensis.html\">B. thuringiensis</a></td>                      <td>0</td>                      <td>0</td>                      <td>0</td>                      <td>5</td>                      <td>0.0</td></tr>\n",
              "<tr><td><a href=\"species/B. cereus group.html\">B. cereus group</a></td>                      <td>0</td>                      <td>0</td>                      <td>0</td>                      <td>24</td>                      <td>0.0</td></tr>\n",
              "<tr><td><a href=\"species/Haemophilus influenzae.html\">Haemophilus influenzae</a></td>                      <td>0</td>                      <td>0</td>                      <td>0</td>                      <td>1</td>                      <td>0.0</td></tr>\n",
              "<tr><td><a href=\"species/Campylobacter jejuni.html\">Campylobacter jejuni</a></td>                      <td>0</td>                      <td>0</td>                      <td>0</td>                      <td>1</td>                      <td>0.0</td></tr>\n",
              "<tr><td><a href=\"species/Burkholderia pseudomallei.html\">Burkholderia pseudomallei</a></td>                      <td>0</td>                      <td>0</td>                      <td>0</td>                      <td>1</td>                      <td>0.0</td></tr>\n",
              "<tr><td><a href=\"species/B. weihenstephanensis.html\">B. weihenstephanensis</a></td>                      <td>0</td>                      <td>0</td>                      <td>0</td>                      <td>2</td>                      <td>0.0</td></tr>\n",
              "<tr><td><a href=\"species/rainbow trout.html\">rainbow trout</a></td>                      <td>0</td>                      <td>0</td>                      <td>0</td>                      <td>31</td>                      <td>0.0</td></tr>\n",
              "<tr><td><a href=\"species/Myxobolus cerebralis.html\">Myxobolus cerebralis</a></td>                      <td>0</td>                      <td>0</td>                      <td>0</td>                      <td>3</td>                      <td>0.0</td></tr>\n",
              "<tr><td><a href=\"species/Rainbow trout.html\">Rainbow trout</a></td>                      <td>0</td>                      <td>0</td>                      <td>0</td>                      <td>2</td>                      <td>0.0</td></tr>\n",
              "<tr><td><a href=\"species/Oncorhynchus mykiss.html\">Oncorhynchus mykiss</a></td>                      <td>0</td>                      <td>0</td>                      <td>0</td>                      <td>2</td>                      <td>0.0</td></tr>\n",
              "<tr><td><a href=\"species/bull trout.html\">bull trout</a></td>                      <td>0</td>                      <td>0</td>                      <td>0</td>                      <td>1</td>                      <td>0.0</td></tr>\n",
              "<tr><td><a href=\"species/Salvelinus confluentus.html\">Salvelinus confluentus</a></td>                      <td>0</td>                      <td>0</td>                      <td>0</td>                      <td>1</td>                      <td>0.0</td></tr>\n",
              "<tr><td><a href=\"species/cutthroat trout.html\">cutthroat trout</a></td>                      <td>0</td>                      <td>0</td>                      <td>0</td>                      <td>1</td>                      <td>0.0</td></tr>\n",
              "<tr><td><a href=\"species/Oncorhynchus clarki.html\">Oncorhynchus clarki</a></td>                      <td>0</td>                      <td>0</td>                      <td>0</td>                      <td>1</td>                      <td>0.0</td></tr>\n",
              "<tr><td><a href=\"species/Tubifex tubifex.html\">Tubifex tubifex</a></td>                      <td>0</td>                      <td>0</td>                      <td>0</td>                      <td>1</td>                      <td>0.0</td></tr>\n",
              "<tr><td><a href=\"species/M. cerebralis.html\">M. cerebralis</a></td>                      <td>0</td>                      <td>0</td>                      <td>0</td>                      <td>8</td>                      <td>0.0</td></tr>\n",
              "<tr><td><a href=\"species/T. tubifex.html\">T. tubifex</a></td>                      <td>0</td>                      <td>0</td>                      <td>0</td>                      <td>1</td>                      <td>0.0</td></tr>\n",
              "<tr><td><a href=\"species/Salmon trutta.html\">Salmon trutta</a></td>                      <td>0</td>                      <td>0</td>                      <td>0</td>                      <td>1</td>                      <td>0.0</td></tr>\n",
              "<tr><td><a href=\"species/Viral Hemorrhagic Septicemia Virus.html\">Viral Hemorrhagic Septicemia Virus</a></td>                      <td>0</td>                      <td>0</td>                      <td>0</td>                      <td>1</td>                      <td>0.0</td></tr>\n",
              "<tr><td><a href=\"species/VHSV.html\">VHSV</a></td>                      <td>0</td>                      <td>0</td>                      <td>0</td>                      <td>2</td>                      <td>0.0</td></tr>\n",
              "<tr><td><a href=\"species/teleost fish.html\">teleost fish</a></td>                      <td>0</td>                      <td>0</td>                      <td>0</td>                      <td>1</td>                      <td>0.0</td></tr>\n",
              "<tr><td><a href=\"species/infectious pancreatic necrosis virus.html\">infectious pancreatic necrosis virus</a></td>                      <td>0</td>                      <td>0</td>                      <td>0</td>                      <td>1</td>                      <td>0.0</td></tr>\n",
              "<tr><td><a href=\"species/infectious salmon anaemia virus.html\">infectious salmon anaemia virus</a></td>                      <td>0</td>                      <td>0</td>                      <td>0</td>                      <td>1</td>                      <td>0.0</td></tr>\n",
              "<tr><td><a href=\"species/H. pylori.html\">H. pylori</a></td>                      <td>0</td>                      <td>0</td>                      <td>0</td>                      <td>1</td>                      <td>0.0</td></tr>\n",
              "<tr><td><a href=\"species/guinea-pig.html\">guinea-pig</a></td>                      <td>0</td>                      <td>0</td>                      <td>0</td>                      <td>12</td>                      <td>0.0</td></tr>\n",
              "<tr><td><a href=\"species/Toxocara canis.html\">Toxocara canis</a></td>                      <td>0</td>                      <td>0</td>                      <td>0</td>                      <td>9</td>                      <td>0.0</td></tr>\n",
              "<tr><td><a href=\"species/guinea-pigs.html\">guinea-pigs</a></td>                      <td>0</td>                      <td>0</td>                      <td>0</td>                      <td>18</td>                      <td>0.0</td></tr>\n",
              "<tr><td><a href=\"species/T. canis.html\">T. canis</a></td>                      <td>0</td>                      <td>0</td>                      <td>0</td>                      <td>15</td>                      <td>0.0</td></tr>\n",
              "<tr><td><a href=\"species/dogs.html\">dogs</a></td>                      <td>0</td>                      <td>0</td>                      <td>0</td>                      <td>3</td>                      <td>0.0</td></tr>\n",
              "<tr><td><a href=\"species/Heligmosomoidespolygyrus.html\">Heligmosomoidespolygyrus</a></td>                      <td>0</td>                      <td>0</td>                      <td>0</td>                      <td>1</td>                      <td>0.0</td></tr>\n",
              "<tr><td><a href=\"species/Guinea-pigs.html\">Guinea-pigs</a></td>                      <td>0</td>                      <td>0</td>                      <td>0</td>                      <td>3</td>                      <td>0.0</td></tr>\n",
              "<tr><td><a href=\"species/nude mice.html\">nude mice</a></td>                      <td>0</td>                      <td>0</td>                      <td>0</td>                      <td>4</td>                      <td>0.0</td></tr>\n",
              "<tr><td><a href=\"species/guineapigs.html\">guineapigs</a></td>                      <td>0</td>                      <td>0</td>                      <td>0</td>                      <td>2</td>                      <td>0.0</td></tr>\n",
              "<tr><td><a href=\"species/T. cani.html\">T. cani</a></td>                      <td>0</td>                      <td>0</td>                      <td>0</td>                      <td>3</td>                      <td>0.0</td></tr>\n",
              "<tr><td><a href=\"species/Heligmosomoides polygyrus.html\">Heligmosomoides polygyrus</a></td>                      <td>0</td>                      <td>0</td>                      <td>0</td>                      <td>1</td>                      <td>0.0</td></tr>\n",
              "<tr><td><a href=\"species/guinea pig.html\">guinea pig</a></td>                      <td>0</td>                      <td>0</td>                      <td>0</td>                      <td>3</td>                      <td>0.0</td></tr>\n",
              "<tr><td><a href=\"species/guinea pigs.html\">guinea pigs</a></td>                      <td>0</td>                      <td>0</td>                      <td>0</td>                      <td>1</td>                      <td>0.0</td></tr>\n",
              "<tr><td><a href=\"species/Schistosoma mansoni.html\">Schistosoma mansoni</a></td>                      <td>0</td>                      <td>0</td>                      <td>0</td>                      <td>2</td>                      <td>0.0</td></tr>\n",
              "<tr><td><a href=\"species/Trichinella spiralis.html\">Trichinella spiralis</a></td>                      <td>0</td>                      <td>0</td>                      <td>0</td>                      <td>1</td>                      <td>0.0</td></tr>\n",
              "<tr><td><a href=\"species/Phytophthora infestans.html\">Phytophthora infestans</a></td>                      <td>0</td>                      <td>0</td>                      <td>0</td>                      <td>1</td>                      <td>0.0</td></tr>\n",
              "<tr><td><a href=\"species/Magnaporthe grisea.html\">Magnaporthe grisea</a></td>                      <td>0</td>                      <td>0</td>                      <td>0</td>                      <td>3</td>                      <td>0.0</td></tr>\n",
              "<tr><td><a href=\"species/rice blast fungus.html\">rice blast fungus</a></td>                      <td>0</td>                      <td>0</td>                      <td>0</td>                      <td>1</td>                      <td>0.0</td></tr>\n",
              "<tr><td><a href=\"species/M. grisea.html\">M. grisea</a></td>                      <td>0</td>                      <td>0</td>                      <td>0</td>                      <td>16</td>                      <td>0.0</td></tr>\n",
              "<tr><td><a href=\"species/Blumeria graminis.html\">Blumeria graminis</a></td>                      <td>0</td>                      <td>0</td>                      <td>0</td>                      <td>1</td>                      <td>0.0</td></tr>\n",
              "<tr><td><a href=\"species/Stagonospora nodorum.html\">Stagonospora nodorum</a></td>                      <td>0</td>                      <td>0</td>                      <td>0</td>                      <td>1</td>                      <td>0.0</td></tr>\n",
              "<tr><td><a href=\"species/Sclerotinia sclerotiorum.html\">Sclerotinia sclerotiorum</a></td>                      <td>0</td>                      <td>0</td>                      <td>0</td>                      <td>1</td>                      <td>0.0</td></tr>\n",
              "<tr><td><a href=\"species/Encephalitozoon cuniculi.html\">Encephalitozoon cuniculi</a></td>                      <td>0</td>                      <td>0</td>                      <td>0</td>                      <td>2</td>                      <td>0.0</td></tr>\n",
              "<tr><td><a href=\"species/E. cuniculi.html\">E. cuniculi</a></td>                      <td>0</td>                      <td>0</td>                      <td>0</td>                      <td>4</td>                      <td>0.0</td></tr>\n",
              "<tr><td><a href=\"species/Podospora anserina.html\">Podospora anserina</a></td>                      <td>0</td>                      <td>0</td>                      <td>0</td>                      <td>1</td>                      <td>0.0</td></tr>\n",
              "<tr><td><a href=\"species/Eremothecium gossypii.html\">Eremothecium gossypii</a></td>                      <td>0</td>                      <td>0</td>                      <td>0</td>                      <td>1</td>                      <td>0.0</td></tr>\n",
              "<tr><td><a href=\"species/G. zeae.html\">G. zeae</a></td>                      <td>0</td>                      <td>0</td>                      <td>0</td>                      <td>5</td>                      <td>0.0</td></tr>\n",
              "<tr><td><a href=\"species/S. sclerotiorum.html\">S. sclerotiorum</a></td>                      <td>0</td>                      <td>0</td>                      <td>0</td>                      <td>3</td>                      <td>0.0</td></tr>\n",
              "<tr><td><a href=\"species/S. nodorum.html\">S. nodorum</a></td>                      <td>0</td>                      <td>0</td>                      <td>0</td>                      <td>5</td>                      <td>0.0</td></tr>\n",
              "<tr><td><a href=\"species/Phanerochaete chrysosporium.html\">Phanerochaete chrysosporium</a></td>                      <td>0</td>                      <td>0</td>                      <td>0</td>                      <td>2</td>                      <td>0.0</td></tr>\n",
              "<tr><td><a href=\"species/Stigmatella aurantiaca.html\">Stigmatella aurantiaca</a></td>                      <td>0</td>                      <td>0</td>                      <td>0</td>                      <td>1</td>                      <td>0.0</td></tr>\n",
              "<tr><td><a href=\"species/Men.html\">Men</a></td>                      <td>0</td>                      <td>0</td>                      <td>0</td>                      <td>2</td>                      <td>0.0</td></tr>\n",
              "<tr><td><a href=\"species/M.tb.html\">M.tb</a></td>                      <td>0</td>                      <td>0</td>                      <td>0</td>                      <td>56</td>                      <td>0.0</td></tr>\n",
              "<tr><td><a href=\"species/M. avium.html\">M. avium</a></td>                      <td>0</td>                      <td>0</td>                      <td>0</td>                      <td>7</td>                      <td>0.0</td></tr>\n",
              "<tr><td><a href=\"species/M. bovis BCG.html\">M. bovis BCG</a></td>                      <td>0</td>                      <td>0</td>                      <td>0</td>                      <td>1</td>                      <td>0.0</td></tr>\n",
              "<tr><td><a href=\"species/infants.html\">infants</a></td>                      <td>0</td>                      <td>5</td>                      <td>0.0</td>                      <td>2</td>                      <td>0.7142857142857143</td></tr>\n",
              "<tr><td><a href=\"species/Mycobacterium africanum.html\">Mycobacterium africanum</a></td>                      <td>0</td>                      <td>0</td>                      <td>0</td>                      <td>1</td>                      <td>0.0</td></tr>\n",
              "<tr><td><a href=\"species/Mycobacterium microti.html\">Mycobacterium microti</a></td>                      <td>0</td>                      <td>0</td>                      <td>0</td>                      <td>1</td>                      <td>0.0</td></tr>\n",
              "<tr><td><a href=\"species/M. leprae.html\">M. leprae</a></td>                      <td>0</td>                      <td>0</td>                      <td>0</td>                      <td>1</td>                      <td>0.0</td></tr>\n",
              "<tr><td><a href=\"species/persons.html\">persons</a></td>                      <td>0</td>                      <td>1</td>                      <td>0.0</td>                      <td>51</td>                      <td>0.019230769230769232</td></tr>\n",
              "<tr><td><a href=\"species/People.html\">People</a></td>                      <td>0</td>                      <td>0</td>                      <td>0</td>                      <td>4</td>                      <td>0.0</td></tr>\n",
              "<tr><td><a href=\"species/Persons.html\">Persons</a></td>                      <td>0</td>                      <td>0</td>                      <td>0</td>                      <td>5</td>                      <td>0.0</td></tr>\n",
              "<tr><td><a href=\"species/Chlorobium limicola.html\">Chlorobium limicola</a></td>                      <td>0</td>                      <td>0</td>                      <td>0</td>                      <td>1</td>                      <td>0.0</td></tr>\n",
              "<tr><td><a href=\"species/peoples.html\">peoples</a></td>                      <td>0</td>                      <td>0</td>                      <td>0</td>                      <td>1</td>                      <td>0.0</td></tr>\n",
              "<tr><td><a href=\"species/Participant.html\">Participant</a></td>                      <td>0</td>                      <td>0</td>                      <td>0</td>                      <td>1</td>                      <td>0.0</td></tr>\n",
              "<tr><td><a href=\"species/infant.html\">infant</a></td>                      <td>0</td>                      <td>2</td>                      <td>0.0</td>                      <td>1</td>                      <td>0.6666666666666666</td></tr>\n",
              "<tr><td><a href=\"species/rodent.html\">rodent</a></td>                      <td>0</td>                      <td>9</td>                      <td>0.0</td>                      <td>3</td>                      <td>0.75</td></tr>\n",
              "<tr><td><a href=\"species/Sprague-Dawley rats.html\">Sprague-Dawley rats</a></td>                      <td>0</td>                      <td>0</td>                      <td>0</td>                      <td>1</td>                      <td>0.0</td></tr>\n",
              "<tr><td><a href=\"species/goat.html\">goat</a></td>                      <td>0</td>                      <td>0</td>                      <td>0</td>                      <td>19</td>                      <td>0.0</td></tr>\n",
              "<tr><td><a href=\"species/Sprague Dawley rats.html\">Sprague Dawley rats</a></td>                      <td>0</td>                      <td>0</td>                      <td>0</td>                      <td>1</td>                      <td>0.0</td></tr>\n",
              "<tr><td><a href=\"species/MRSA.html\">MRSA</a></td>                      <td>0</td>                      <td>0</td>                      <td>0</td>                      <td>18</td>                      <td>0.0</td></tr>\n",
              "<tr><td><a href=\"species/S. haemolyticus.html\">S. haemolyticus</a></td>                      <td>0</td>                      <td>0</td>                      <td>0</td>                      <td>1</td>                      <td>0.0</td></tr>\n",
              "<tr><td><a href=\"species/S. epidermidis.html\">S. epidermidis</a></td>                      <td>0</td>                      <td>0</td>                      <td>0</td>                      <td>1</td>                      <td>0.0</td></tr>\n",
              "<tr><td><a href=\"species/S. saprophyticus.html\">S. saprophyticus</a></td>                      <td>0</td>                      <td>0</td>                      <td>0</td>                      <td>1</td>                      <td>0.0</td></tr>\n",
              "<tr><td><a href=\"species/Bacillus licheniformis.html\">Bacillus licheniformis</a></td>                      <td>0</td>                      <td>0</td>                      <td>0</td>                      <td>1</td>                      <td>0.0</td></tr>\n",
              "<tr><td><a href=\"species/Desulfitobacterium hafniense Y51.html\">Desulfitobacterium hafniense Y51</a></td>                      <td>0</td>                      <td>0</td>                      <td>0</td>                      <td>1</td>                      <td>0.0</td></tr>\n",
              "<tr><td><a href=\"species/E. coli strain BL21.html\">E. coli strain BL21</a></td>                      <td>0</td>                      <td>0</td>                      <td>0</td>                      <td>1</td>                      <td>0.0</td></tr>\n",
              "<tr><td><a href=\"species/E. coli BL21.html\">E. coli BL21</a></td>                      <td>0</td>                      <td>0</td>                      <td>0</td>                      <td>1</td>                      <td>0.0</td></tr>\n",
              "<tr><td><a href=\"species/calf.html\">calf</a></td>                      <td>0</td>                      <td>1</td>                      <td>0.0</td>                      <td>31</td>                      <td>0.03125</td></tr>\n",
              "<tr><td><a href=\"species/Calf.html\">Calf</a></td>                      <td>0</td>                      <td>0</td>                      <td>0</td>                      <td>1</td>                      <td>0.0</td></tr>\n",
              "<tr><td><a href=\"species/calves.html\">calves</a></td>                      <td>0</td>                      <td>0</td>                      <td>0</td>                      <td>27</td>                      <td>0.0</td></tr>\n",
              "<tr><td><a href=\"species/woman.html\">woman</a></td>                      <td>0</td>                      <td>0</td>                      <td>0</td>                      <td>4</td>                      <td>0.0</td></tr>\n",
              "<tr><td><a href=\"species/horse.html\">horse</a></td>                      <td>0</td>                      <td>0</td>                      <td>0</td>                      <td>5</td>                      <td>0.0</td></tr>\n",
              "<tr><td><a href=\"species/Ginger.html\">Ginger</a></td>                      <td>0</td>                      <td>0</td>                      <td>0</td>                      <td>1</td>                      <td>0.0</td></tr>\n",
              "<tr><td><a href=\"species/garlic.html\">garlic</a></td>                      <td>0</td>                      <td>0</td>                      <td>0</td>                      <td>6</td>                      <td>0.0</td></tr>\n",
              "<tr><td><a href=\"species/shandileer.html\">shandileer</a></td>                      <td>0</td>                      <td>0</td>                      <td>0</td>                      <td>5</td>                      <td>0.0</td></tr>\n",
              "<tr><td><a href=\"species/onion.html\">onion</a></td>                      <td>0</td>                      <td>0</td>                      <td>0</td>                      <td>5</td>                      <td>0.0</td></tr>\n",
              "<tr><td><a href=\"species/black sage.html\">black sage</a></td>                      <td>0</td>                      <td>0</td>                      <td>0</td>                      <td>3</td>                      <td>0.0</td></tr>\n",
              "<tr><td><a href=\"species/schoolchildren.html\">schoolchildren</a></td>                      <td>0</td>                      <td>0</td>                      <td>0</td>                      <td>1</td>                      <td>0.0</td></tr>\n",
              "<tr><td><a href=\"species/Allium sativum.html\">Allium sativum</a></td>                      <td>0</td>                      <td>0</td>                      <td>0</td>                      <td>1</td>                      <td>0.0</td></tr>\n",
              "<tr><td><a href=\"species/ginger.html\">ginger</a></td>                      <td>0</td>                      <td>0</td>                      <td>0</td>                      <td>4</td>                      <td>0.0</td></tr>\n",
              "<tr><td><a href=\"species/Zingiber officinale.html\">Zingiber officinale</a></td>                      <td>0</td>                      <td>0</td>                      <td>0</td>                      <td>2</td>                      <td>0.0</td></tr>\n",
              "<tr><td><a href=\"species/Aloe vera.html\">Aloe vera</a></td>                      <td>0</td>                      <td>0</td>                      <td>0</td>                      <td>3</td>                      <td>0.0</td></tr>\n",
              "<tr><td><a href=\"species/Leonotis nepetifolia.html\">Leonotis nepetifolia</a></td>                      <td>0</td>                      <td>0</td>                      <td>0</td>                      <td>3</td>                      <td>0.0</td></tr>\n",
              "<tr><td><a href=\"species/Hymenocallis tubiflora.html\">Hymenocallis tubiflora</a></td>                      <td>0</td>                      <td>0</td>                      <td>0</td>                      <td>2</td>                      <td>0.0</td></tr>\n",
              "<tr><td><a href=\"species/tulsi.html\">tulsi</a></td>                      <td>0</td>                      <td>0</td>                      <td>0</td>                      <td>4</td>                      <td>0.0</td></tr>\n",
              "<tr><td><a href=\"species/Ocimum gratissimum.html\">Ocimum gratissimum</a></td>                      <td>0</td>                      <td>0</td>                      <td>0</td>                      <td>3</td>                      <td>0.0</td></tr>\n",
              "<tr><td><a href=\"species/Cordia curassavica.html\">Cordia curassavica</a></td>                      <td>0</td>                      <td>0</td>                      <td>0</td>                      <td>1</td>                      <td>0.0</td></tr>\n",
              "<tr><td><a href=\"species/shadon beni.html\">shadon beni</a></td>                      <td>0</td>                      <td>0</td>                      <td>0</td>                      <td>2</td>                      <td>0.0</td></tr>\n",
              "<tr><td><a href=\"species/Eryngium foetidium.html\">Eryngium foetidium</a></td>                      <td>0</td>                      <td>0</td>                      <td>0</td>                      <td>1</td>                      <td>0.0</td></tr>\n",
              "<tr><td><a href=\"species/lemongrass.html\">lemongrass</a></td>                      <td>0</td>                      <td>0</td>                      <td>0</td>                      <td>2</td>                      <td>0.0</td></tr>\n",
              "<tr><td><a href=\"species/Cymbopogon citratus.html\">Cymbopogon citratus</a></td>                      <td>0</td>                      <td>0</td>                      <td>0</td>                      <td>1</td>                      <td>0.0</td></tr>\n",
              "<tr><td><a href=\"species/nutmeg.html\">nutmeg</a></td>                      <td>0</td>                      <td>0</td>                      <td>0</td>                      <td>2</td>                      <td>0.0</td></tr>\n",
              "<tr><td><a href=\"species/Myristica fragrans.html\">Myristica fragrans</a></td>                      <td>0</td>                      <td>0</td>                      <td>0</td>                      <td>1</td>                      <td>0.0</td></tr>\n",
              "<tr><td><a href=\"species/Echinacea purpurea.html\">Echinacea purpurea</a></td>                      <td>0</td>                      <td>0</td>                      <td>0</td>                      <td>2</td>                      <td>0.0</td></tr>\n",
              "<tr><td><a href=\"species/Golden Seal.html\">Golden Seal</a></td>                      <td>0</td>                      <td>0</td>                      <td>0</td>                      <td>1</td>                      <td>0.0</td></tr>\n",
              "<tr><td><a href=\"species/Hydrastis canadensis.html\">Hydrastis canadensis</a></td>                      <td>0</td>                      <td>0</td>                      <td>0</td>                      <td>1</td>                      <td>0.0</td></tr>\n",
              "<tr><td><a href=\"species/Chamomile.html\">Chamomile</a></td>                      <td>0</td>                      <td>0</td>                      <td>0</td>                      <td>1</td>                      <td>0.0</td></tr>\n",
              "<tr><td><a href=\"species/Matricaria chamomilla.html\">Matricaria chamomilla</a></td>                      <td>0</td>                      <td>0</td>                      <td>0</td>                      <td>2</td>                      <td>0.0</td></tr>\n",
              "<tr><td><a href=\"species/Garlic.html\">Garlic</a></td>                      <td>0</td>                      <td>0</td>                      <td>0</td>                      <td>1</td>                      <td>0.0</td></tr>\n",
              "<tr><td><a href=\"species/Echinacea.html\">Echinacea</a></td>                      <td>0</td>                      <td>0</td>                      <td>0</td>                      <td>3</td>                      <td>0.0</td></tr>\n",
              "<tr><td><a href=\"species/Zingibe officinale.html\">Zingibe officinale</a></td>                      <td>0</td>                      <td>0</td>                      <td>0</td>                      <td>1</td>                      <td>0.0</td></tr>\n",
              "<tr><td><a href=\"species/bayleaf.html\">bayleaf</a></td>                      <td>0</td>                      <td>0</td>                      <td>0</td>                      <td>1</td>                      <td>0.0</td></tr>\n",
              "<tr><td><a href=\"species/boy.html\">boy</a></td>                      <td>0</td>                      <td>0</td>                      <td>0</td>                      <td>10</td>                      <td>0.0</td></tr>\n",
              "<tr><td><a href=\"species/cinchona.html\">cinchona</a></td>                      <td>0</td>                      <td>0</td>                      <td>0</td>                      <td>1</td>                      <td>0.0</td></tr>\n",
              "<tr><td><a href=\"species/smallpox.html\">smallpox</a></td>                      <td>0</td>                      <td>1</td>                      <td>0.0</td>                      <td>2</td>                      <td>0.3333333333333333</td></tr>\n",
              "<tr><td><a href=\"species/child.html\">child</a></td>                      <td>0</td>                      <td>9</td>                      <td>0.0</td>                      <td>5</td>                      <td>0.6428571428571429</td></tr>\n",
              "<tr><td><a href=\"species/Child.html\">Child</a></td>                      <td>0</td>                      <td>0</td>                      <td>0</td>                      <td>2</td>                      <td>0.0</td></tr>\n",
              "<tr><td><a href=\"species/jalap.html\">jalap</a></td>                      <td>0</td>                      <td>0</td>                      <td>0</td>                      <td>1</td>                      <td>0.0</td></tr>\n",
              "<tr><td><a href=\"species/lemon.html\">lemon</a></td>                      <td>0</td>                      <td>0</td>                      <td>0</td>                      <td>1</td>                      <td>0.0</td></tr>\n",
              "<tr><td><a href=\"species/rhubarb.html\">rhubarb</a></td>                      <td>0</td>                      <td>0</td>                      <td>0</td>                      <td>1</td>                      <td>0.0</td></tr>\n",
              "<tr><td><a href=\"species/zebrafish.html\">zebrafish</a></td>                      <td>0</td>                      <td>0</td>                      <td>0</td>                      <td>2</td>                      <td>0.0</td></tr>\n",
              "<tr><td><a href=\"species/SV40.html\">SV40</a></td>                      <td>0</td>                      <td>0</td>                      <td>0</td>                      <td>1</td>                      <td>0.0</td></tr>\n",
              "<tr><td><a href=\"species/Streptococcus sanguis.html\">Streptococcus sanguis</a></td>                      <td>0</td>                      <td>0</td>                      <td>0</td>                      <td>1</td>                      <td>0.0</td></tr>\n",
              "<tr><td><a href=\"species/chick.html\">chick</a></td>                      <td>0</td>                      <td>0</td>                      <td>0</td>                      <td>12</td>                      <td>0.0</td></tr>\n",
              "<tr><td><a href=\"species/Lutzomyia intermedia.html\">Lutzomyia intermedia</a></td>                      <td>0</td>                      <td>0</td>                      <td>0</td>                      <td>3</td>                      <td>0.0</td></tr>\n",
              "<tr><td><a href=\"species/Lutzomyia whitmani.html\">Lutzomyia whitmani</a></td>                      <td>0</td>                      <td>0</td>                      <td>0</td>                      <td>3</td>                      <td>0.0</td></tr>\n",
              "<tr><td><a href=\"species/L. intermedia.html\">L. intermedia</a></td>                      <td>0</td>                      <td>0</td>                      <td>0</td>                      <td>42</td>                      <td>0.0</td></tr>\n",
              "<tr><td><a href=\"species/L. whitmani.html\">L. whitmani</a></td>                      <td>0</td>                      <td>0</td>                      <td>0</td>                      <td>45</td>                      <td>0.0</td></tr>\n",
              "<tr><td><a href=\"species/D. simulans.html\">D. simulans</a></td>                      <td>0</td>                      <td>0</td>                      <td>0</td>                      <td>2</td>                      <td>0.0</td></tr>\n",
              "<tr><td><a href=\"species/L. umbratilis.html\">L. umbratilis</a></td>                      <td>0</td>                      <td>0</td>                      <td>0</td>                      <td>1</td>                      <td>0.0</td></tr>\n",
              "<tr><td><a href=\"species/Lutzomyia neivai.html\">Lutzomyia neivai</a></td>                      <td>0</td>                      <td>0</td>                      <td>0</td>                      <td>1</td>                      <td>0.0</td></tr>\n",
              "<tr><td><a href=\"species/Lutzomyia longipalpis.html\">Lutzomyia longipalpis</a></td>                      <td>0</td>                      <td>0</td>                      <td>0</td>                      <td>1</td>                      <td>0.0</td></tr>\n",
              "<tr><td><a href=\"species/L. longipalpis.html\">L. longipalpis</a></td>                      <td>0</td>                      <td>0</td>                      <td>0</td>                      <td>1</td>                      <td>0.0</td></tr>\n",
              "<tr><td><a href=\"species/Pileated Woodpecker.html\">Pileated Woodpecker</a></td>                      <td>0</td>                      <td>0</td>                      <td>0</td>                      <td>47</td>                      <td>0.0</td></tr>\n",
              "<tr><td><a href=\"species/Dryocopus pileatus.html\">Dryocopus pileatus</a></td>                      <td>0</td>                      <td>0</td>                      <td>0</td>                      <td>3</td>                      <td>0.0</td></tr>\n",
              "<tr><td><a href=\"species/Ivory-billed Woodpecker.html\">Ivory-billed Woodpecker</a></td>                      <td>0</td>                      <td>0</td>                      <td>0</td>                      <td>44</td>                      <td>0.0</td></tr>\n",
              "<tr><td><a href=\"species/Campephilus principalis.html\">Campephilus principalis</a></td>                      <td>0</td>                      <td>0</td>                      <td>0</td>                      <td>3</td>                      <td>0.0</td></tr>\n",
              "<tr><td><a href=\"species/Pileated Woodpeckers.html\">Pileated Woodpeckers</a></td>                      <td>0</td>                      <td>0</td>                      <td>0</td>                      <td>27</td>                      <td>0.0</td></tr>\n",
              "<tr><td><a href=\"species/Pileated woodpeckers.html\">Pileated woodpeckers</a></td>                      <td>0</td>                      <td>0</td>                      <td>0</td>                      <td>1</td>                      <td>0.0</td></tr>\n",
              "<tr><td><a href=\"species/Pileated.html\">Pileated</a></td>                      <td>0</td>                      <td>0</td>                      <td>0</td>                      <td>1</td>                      <td>0.0</td></tr>\n",
              "<tr><td><a href=\"species/Ivory-billed Woodpeckers.html\">Ivory-billed Woodpeckers</a></td>                      <td>0</td>                      <td>0</td>                      <td>0</td>                      <td>5</td>                      <td>0.0</td></tr>\n",
              "<tr><td><a href=\"species/Ivory-bill.html\">Ivory-bill</a></td>                      <td>0</td>                      <td>0</td>                      <td>0</td>                      <td>1</td>                      <td>0.0</td></tr>\n",
              "<tr><td><a href=\"species/White-tailed Deer.html\">White-tailed Deer</a></td>                      <td>0</td>                      <td>0</td>                      <td>0</td>                      <td>1</td>                      <td>0.0</td></tr>\n",
              "<tr><td><a href=\"species/Colwellia psychrerythraea 34H.html\">Colwellia psychrerythraea 34H</a></td>                      <td>0</td>                      <td>0</td>                      <td>0</td>                      <td>1</td>                      <td>0.0</td></tr>\n",
              "<tr><td><a href=\"species/Shewanella oneidensis.html\">Shewanella oneidensis</a></td>                      <td>0</td>                      <td>0</td>                      <td>0</td>                      <td>2</td>                      <td>0.0</td></tr>\n",
              "<tr><td><a href=\"species/Buchnera aphidicola.html\">Buchnera aphidicola</a></td>                      <td>0</td>                      <td>0</td>                      <td>0</td>                      <td>1</td>                      <td>0.0</td></tr>\n",
              "<tr><td><a href=\"species/Vibrio cholerae 0395.html\">Vibrio cholerae 0395</a></td>                      <td>0</td>                      <td>0</td>                      <td>0</td>                      <td>2</td>                      <td>0.0</td></tr>\n",
              "<tr><td><a href=\"species/Vibrio cholerae MO10.html\">Vibrio cholerae MO10</a></td>                      <td>0</td>                      <td>0</td>                      <td>0</td>                      <td>2</td>                      <td>0.0</td></tr>\n",
              "<tr><td><a href=\"species/Vibrio cholerae RC385.html\">Vibrio cholerae RC385</a></td>                      <td>0</td>                      <td>0</td>                      <td>0</td>                      <td>2</td>                      <td>0.0</td></tr>\n",
              "<tr><td><a href=\"species/Vibrio cholerae V51.html\">Vibrio cholerae V51</a></td>                      <td>0</td>                      <td>0</td>                      <td>0</td>                      <td>2</td>                      <td>0.0</td></tr>\n",
              "<tr><td><a href=\"species/Vibrio cholerae V52.html\">Vibrio cholerae V52</a></td>                      <td>0</td>                      <td>0</td>                      <td>0</td>                      <td>2</td>                      <td>0.0</td></tr>\n",
              "<tr><td><a href=\"species/Photobacterium profundum 3TCK.html\">Photobacterium profundum 3TCK</a></td>                      <td>0</td>                      <td>0</td>                      <td>0</td>                      <td>3</td>                      <td>0.0</td></tr>\n",
              "<tr><td><a href=\"species/Vibrio MED222.html\">Vibrio MED222</a></td>                      <td>0</td>                      <td>0</td>                      <td>0</td>                      <td>3</td>                      <td>0.0</td></tr>\n",
              "<tr><td><a href=\"species/Vibrio splendidus12B01.html\">Vibrio splendidus12B01</a></td>                      <td>0</td>                      <td>0</td>                      <td>0</td>                      <td>1</td>                      <td>0.0</td></tr>\n",
              "<tr><td><a href=\"species/Photobacterium profundum SS9.html\">Photobacterium profundum SS9</a></td>                      <td>0</td>                      <td>0</td>                      <td>0</td>                      <td>4</td>                      <td>0.0</td></tr>\n",
              "<tr><td><a href=\"species/V. vulnificus YJ016.html\">V. vulnificus YJ016</a></td>                      <td>0</td>                      <td>0</td>                      <td>0</td>                      <td>2</td>                      <td>0.0</td></tr>\n",
              "<tr><td><a href=\"species/V. vulnificus CMCP6.html\">V. vulnificus CMCP6</a></td>                      <td>0</td>                      <td>0</td>                      <td>0</td>                      <td>4</td>                      <td>0.0</td></tr>\n",
              "<tr><td><a href=\"species/V. vulnificus.html\">V. vulnificus</a></td>                      <td>0</td>                      <td>0</td>                      <td>0</td>                      <td>1</td>                      <td>0.0</td></tr>\n",
              "<tr><td><a href=\"species/V. fischeri.html\">V. fischeri</a></td>                      <td>0</td>                      <td>0</td>                      <td>0</td>                      <td>1</td>                      <td>0.0</td></tr>\n",
              "<tr><td><a href=\"species/Salmonella typhimurium.html\">Salmonella typhimurium</a></td>                      <td>0</td>                      <td>0</td>                      <td>0</td>                      <td>1</td>                      <td>0.0</td></tr>\n",
              "<tr><td><a href=\"species/Photobacterium profundum.html\">Photobacterium profundum</a></td>                      <td>0</td>                      <td>0</td>                      <td>0</td>                      <td>1</td>                      <td>0.0</td></tr>\n",
              "<tr><td><a href=\"species/YJ016.html\">YJ016</a></td>                      <td>0</td>                      <td>0</td>                      <td>0</td>                      <td>1</td>                      <td>0.0</td></tr>\n",
              "<tr><td><a href=\"species/V. splendiduds 12B01.html\">V. splendiduds 12B01</a></td>                      <td>0</td>                      <td>0</td>                      <td>0</td>                      <td>1</td>                      <td>0.0</td></tr>\n",
              "<tr><td><a href=\"species/V. parahaemoliticus.html\">V. parahaemoliticus</a></td>                      <td>0</td>                      <td>0</td>                      <td>0</td>                      <td>1</td>                      <td>0.0</td></tr>\n",
              "<tr><td><a href=\"species/P. profundum SS9.html\">P. profundum SS9</a></td>                      <td>0</td>                      <td>0</td>                      <td>0</td>                      <td>1</td>                      <td>0.0</td></tr>\n",
              "<tr><td><a href=\"species/V. cholerae N16961.html\">V. cholerae N16961</a></td>                      <td>0</td>                      <td>0</td>                      <td>0</td>                      <td>1</td>                      <td>0.0</td></tr>\n",
              "<tr><td><a href=\"species/V. parahaemolyticus.html\">V. parahaemolyticus</a></td>                      <td>0</td>                      <td>0</td>                      <td>0</td>                      <td>1</td>                      <td>0.0</td></tr>\n",
              "<tr><td><a href=\"species/V. fischeri ES114.html\">V. fischeri ES114</a></td>                      <td>0</td>                      <td>0</td>                      <td>0</td>                      <td>1</td>                      <td>0.0</td></tr>\n",
              "<tr><td><a href=\"species/Vibrio splendidus 12B01.html\">Vibrio splendidus 12B01</a></td>                      <td>0</td>                      <td>0</td>                      <td>0</td>                      <td>1</td>                      <td>0.0</td></tr>\n",
              "<tr><td><a href=\"species/C. vishnui.html\">C. vishnui</a></td>                      <td>0</td>                      <td>0</td>                      <td>0</td>                      <td>5</td>                      <td>0.0</td></tr>\n",
              "<tr><td><a href=\"species/C. annulus.html\">C. annulus</a></td>                      <td>0</td>                      <td>0</td>                      <td>0</td>                      <td>4</td>                      <td>0.0</td></tr>\n",
              "<tr><td><a href=\"species/C. quiquefasciatus.html\">C. quiquefasciatus</a></td>                      <td>0</td>                      <td>0</td>                      <td>0</td>                      <td>1</td>                      <td>0.0</td></tr>\n",
              "<tr><td><a href=\"species/C. pipens.html\">C. pipens</a></td>                      <td>0</td>                      <td>0</td>                      <td>0</td>                      <td>1</td>                      <td>0.0</td></tr>\n",
              "<tr><td><a href=\"species/C. tritaeniorhynchus.html\">C. tritaeniorhynchus</a></td>                      <td>0</td>                      <td>0</td>                      <td>0</td>                      <td>1</td>                      <td>0.0</td></tr>\n",
              "<tr><td><a href=\"species/C. quinquefasciatus.html\">C. quinquefasciatus</a></td>                      <td>0</td>                      <td>0</td>                      <td>0</td>                      <td>3</td>                      <td>0.0</td></tr>\n",
              "<tr><td><a href=\"species/C. tarsalis.html\">C. tarsalis</a></td>                      <td>0</td>                      <td>0</td>                      <td>0</td>                      <td>3</td>                      <td>0.0</td></tr>\n",
              "<tr><td><a href=\"species/C. pseudovishnui.html\">C. pseudovishnui</a></td>                      <td>0</td>                      <td>0</td>                      <td>0</td>                      <td>3</td>                      <td>0.0</td></tr>\n",
              "<tr><td><a href=\"species/C. tritaeniorhyncus.html\">C. tritaeniorhyncus</a></td>                      <td>0</td>                      <td>0</td>                      <td>0</td>                      <td>1</td>                      <td>0.0</td></tr>\n",
              "<tr><td><a href=\"species/C.  quinquefasciatus.html\">C.  quinquefasciatus</a></td>                      <td>0</td>                      <td>0</td>                      <td>0</td>                      <td>1</td>                      <td>0.0</td></tr>\n",
              "<tr><td><a href=\"species/C.  pipiens.html\">C.  pipiens</a></td>                      <td>0</td>                      <td>0</td>                      <td>0</td>                      <td>1</td>                      <td>0.0</td></tr>\n",
              "<tr><td><a href=\"species/Boophilus microplus.html\">Boophilus microplus</a></td>                      <td>0</td>                      <td>0</td>                      <td>0</td>                      <td>1</td>                      <td>0.0</td></tr>\n",
              "<tr><td><a href=\"species/Boophilus decoloratus.html\">Boophilus decoloratus</a></td>                      <td>0</td>                      <td>0</td>                      <td>0</td>                      <td>1</td>                      <td>0.0</td></tr>\n",
              "<tr><td><a href=\"species/Rhipicephalus zambesiensis.html\">Rhipicephalus zambesiensis</a></td>                      <td>0</td>                      <td>0</td>                      <td>0</td>                      <td>1</td>                      <td>0.0</td></tr>\n",
              "<tr><td><a href=\"species/Rhipicephalus evertsi.html\">Rhipicephalus evertsi</a></td>                      <td>0</td>                      <td>0</td>                      <td>0</td>                      <td>1</td>                      <td>0.0</td></tr>\n",
              "<tr><td><a href=\"species/Rhipicephalus sanguineus.html\">Rhipicephalus sanguineus</a></td>                      <td>0</td>                      <td>0</td>                      <td>0</td>                      <td>1</td>                      <td>0.0</td></tr>\n",
              "<tr><td><a href=\"species/Rhipicephalus pumilio.html\">Rhipicephalus pumilio</a></td>                      <td>0</td>                      <td>0</td>                      <td>0</td>                      <td>1</td>                      <td>0.0</td></tr>\n",
              "<tr><td><a href=\"species/Rhipicephalus camicasi.html\">Rhipicephalus camicasi</a></td>                      <td>0</td>                      <td>0</td>                      <td>0</td>                      <td>1</td>                      <td>0.0</td></tr>\n",
              "<tr><td><a href=\"species/Haemogogus.html\">Haemogogus</a></td>                      <td>0</td>                      <td>0</td>                      <td>0</td>                      <td>1</td>                      <td>0.0</td></tr>\n",
              "<tr><td><a href=\"species/Ascaris suum.html\">Ascaris suum</a></td>                      <td>0</td>                      <td>0</td>                      <td>0</td>                      <td>2</td>                      <td>0.0</td></tr>\n",
              "<tr><td><a href=\"species/A. suum.html\">A. suum</a></td>                      <td>0</td>                      <td>0</td>                      <td>0</td>                      <td>32</td>                      <td>0.0</td></tr>\n",
              "<tr><td><a href=\"species/C. briggsae.html\">C. briggsae</a></td>                      <td>0</td>                      <td>0</td>                      <td>0</td>                      <td>2</td>                      <td>0.0</td></tr>\n",
              "<tr><td><a href=\"species/Ancylostoma duodenale.html\">Ancylostoma duodenale</a></td>                      <td>0</td>                      <td>0</td>                      <td>0</td>                      <td>1</td>                      <td>0.0</td></tr>\n",
              "<tr><td><a href=\"species/Necator americanus.html\">Necator americanus</a></td>                      <td>0</td>                      <td>0</td>                      <td>0</td>                      <td>1</td>                      <td>0.0</td></tr>\n",
              "<tr><td><a href=\"species/Trichuris trichiura.html\">Trichuris trichiura</a></td>                      <td>0</td>                      <td>0</td>                      <td>0</td>                      <td>1</td>                      <td>0.0</td></tr>\n",
              "<tr><td><a href=\"species/fruitfly.html\">fruitfly</a></td>                      <td>0</td>                      <td>0</td>                      <td>0</td>                      <td>1</td>                      <td>0.0</td></tr>\n",
              "<tr><td><a href=\"species/Anisakis simplex.html\">Anisakis simplex</a></td>                      <td>0</td>                      <td>0</td>                      <td>0</td>                      <td>2</td>                      <td>0.0</td></tr>\n",
              "<tr><td><a href=\"species/canine hookworm.html\">canine hookworm</a></td>                      <td>0</td>                      <td>0</td>                      <td>0</td>                      <td>1</td>                      <td>0.0</td></tr>\n",
              "<tr><td><a href=\"species/Ancylostoma caninum.html\">Ancylostoma caninum</a></td>                      <td>0</td>                      <td>0</td>                      <td>0</td>                      <td>3</td>                      <td>0.0</td></tr>\n",
              "<tr><td><a href=\"species/Ancylostoma ceylanicum.html\">Ancylostoma ceylanicum</a></td>                      <td>0</td>                      <td>0</td>                      <td>0</td>                      <td>1</td>                      <td>0.0</td></tr>\n",
              "<tr><td><a href=\"species/H. contortus.html\">H. contortus</a></td>                      <td>0</td>                      <td>0</td>                      <td>0</td>                      <td>1</td>                      <td>0.0</td></tr>\n",
              "<tr><td><a href=\"species/Bovine.html\">Bovine</a></td>                      <td>0</td>                      <td>0</td>                      <td>0</td>                      <td>1</td>                      <td>0.0</td></tr>\n",
              "<tr><td><a href=\"species/Sus scrofa.html\">Sus scrofa</a></td>                      <td>0</td>                      <td>0</td>                      <td>0</td>                      <td>1</td>                      <td>0.0</td></tr>\n",
              "<tr><td><a href=\"species/Chironomus thummi.html\">Chironomus thummi</a></td>                      <td>0</td>                      <td>0</td>                      <td>0</td>                      <td>1</td>                      <td>0.0</td></tr>\n",
              "<tr><td><a href=\"species/Fremyella diplosiphon.html\">Fremyella diplosiphon</a></td>                      <td>0</td>                      <td>0</td>                      <td>0</td>                      <td>1</td>                      <td>0.0</td></tr>\n",
              "<tr><td><a href=\"species/cows.html\">cows</a></td>                      <td>0</td>                      <td>0</td>                      <td>0</td>                      <td>12</td>                      <td>0.0</td></tr>\n",
              "<tr><td><a href=\"species/Calves.html\">Calves</a></td>                      <td>0</td>                      <td>0</td>                      <td>0</td>                      <td>2</td>                      <td>0.0</td></tr>\n",
              "<tr><td><a href=\"species/girl.html\">girl</a></td>                      <td>0</td>                      <td>0</td>                      <td>0</td>                      <td>1</td>                      <td>0.0</td></tr>\n",
              "<tr><td><a href=\"species/fly.html\">fly</a></td>                      <td>0</td>                      <td>4</td>                      <td>0.0</td>                      <td>3</td>                      <td>0.5714285714285714</td></tr>\n",
              "<tr><td><a href=\"species/flies.html\">flies</a></td>                      <td>0</td>                      <td>10</td>                      <td>0.0</td>                      <td>4</td>                      <td>0.7142857142857143</td></tr>\n",
              "<tr><td><a href=\"species/Goat.html\">Goat</a></td>                      <td>0</td>                      <td>0</td>                      <td>0</td>                      <td>2</td>                      <td>0.0</td></tr>\n",
              "<tr><td><a href=\"species/Guinea pig.html\">Guinea pig</a></td>                      <td>0</td>                      <td>0</td>                      <td>0</td>                      <td>2</td>                      <td>0.0</td></tr>\n",
              "<tr><td><a href=\"species/Rabbit.html\">Rabbit</a></td>                      <td>0</td>                      <td>0</td>                      <td>0</td>                      <td>1</td>                      <td>0.0</td></tr>\n",
              "<tr><td><a href=\"species/Bos taurus.html\">Bos taurus</a></td>                      <td>0</td>                      <td>0</td>                      <td>0</td>                      <td>1</td>                      <td>0.0</td></tr>\n",
              "<tr><td><a href=\"species/Xenopus tropicalis.html\">Xenopus tropicalis</a></td>                      <td>0</td>                      <td>0</td>                      <td>0</td>                      <td>1</td>                      <td>0.0</td></tr>\n",
              "<tr><td><a href=\"species/Zebrafish.html\">Zebrafish</a></td>                      <td>0</td>                      <td>0</td>                      <td>0</td>                      <td>1</td>                      <td>0.0</td></tr>\n",
              "<tr><td><a href=\"species/Orzzias latipes.html\">Orzzias latipes</a></td>                      <td>0</td>                      <td>0</td>                      <td>0</td>                      <td>1</td>                      <td>0.0</td></tr>\n",
              "<tr><td><a href=\"species/Paralichthys olivaceous.html\">Paralichthys olivaceous</a></td>                      <td>0</td>                      <td>0</td>                      <td>0</td>                      <td>1</td>                      <td>0.0</td></tr>\n",
              "<tr><td><a href=\"species/Chinese hamster.html\">Chinese hamster</a></td>                      <td>0</td>                      <td>0</td>                      <td>0</td>                      <td>1</td>                      <td>0.0</td></tr>\n",
              "<tr><td><a href=\"species/Caenorhabds elegans.html\">Caenorhabds elegans</a></td>                      <td>0</td>                      <td>0</td>                      <td>0</td>                      <td>1</td>                      <td>0.0</td></tr>\n",
              "<tr><td><a href=\"species/A.thaliana.html\">A.thaliana</a></td>                      <td>0</td>                      <td>0</td>                      <td>0</td>                      <td>3</td>                      <td>0.0</td></tr>\n",
              "<tr><td><a href=\"species/Sorghum bicolor.html\">Sorghum bicolor</a></td>                      <td>0</td>                      <td>0</td>                      <td>0</td>                      <td>1</td>                      <td>0.0</td></tr>\n",
              "<tr><td><a href=\"species/S.tuberosum.html\">S.tuberosum</a></td>                      <td>0</td>                      <td>0</td>                      <td>0</td>                      <td>18</td>                      <td>0.0</td></tr>\n",
              "<tr><td><a href=\"species/Triticum timopheevi.html\">Triticum timopheevi</a></td>                      <td>0</td>                      <td>0</td>                      <td>0</td>                      <td>1</td>                      <td>0.0</td></tr>\n",
              "<tr><td><a href=\"species/T.aestivum var Fortal.html\">T.aestivum var Fortal</a></td>                      <td>0</td>                      <td>0</td>                      <td>0</td>                      <td>1</td>                      <td>0.0</td></tr>\n",
              "<tr><td><a href=\"species/Potato.html\">Potato</a></td>                      <td>0</td>                      <td>0</td>                      <td>0</td>                      <td>3</td>                      <td>0.0</td></tr>\n",
              "<tr><td><a href=\"species/T.aestivum.html\">T.aestivum</a></td>                      <td>0</td>                      <td>0</td>                      <td>0</td>                      <td>2</td>                      <td>0.0</td></tr>\n",
              "<tr><td><a href=\"species/pea.html\">pea</a></td>                      <td>0</td>                      <td>0</td>                      <td>0</td>                      <td>1</td>                      <td>0.0</td></tr>\n",
              "<tr><td><a href=\"species/S.bicolor.html\">S.bicolor</a></td>                      <td>0</td>                      <td>0</td>                      <td>0</td>                      <td>1</td>                      <td>0.0</td></tr>\n",
              "<tr><td><a href=\"species/sorghum.html\">sorghum</a></td>                      <td>0</td>                      <td>1</td>                      <td>0.0</td>                      <td>1</td>                      <td>0.5</td></tr>\n",
              "<tr><td><a href=\"species/Escherichia coli BL21 (DE3).html\">Escherichia coli BL21 (DE3)</a></td>                      <td>0</td>                      <td>0</td>                      <td>0</td>                      <td>1</td>                      <td>0.0</td></tr>\n",
              "<tr><td><a href=\"species/salmon.html\">salmon</a></td>                      <td>0</td>                      <td>0</td>                      <td>0</td>                      <td>1</td>                      <td>0.0</td></tr>\n",
              "<tr><td><a href=\"species/Ashbya gossypii.html\">Ashbya gossypii</a></td>                      <td>0</td>                      <td>0</td>                      <td>0</td>                      <td>1</td>                      <td>0.0</td></tr>\n",
              "<tr><td><a href=\"species/Canis familiaris.html\">Canis familiaris</a></td>                      <td>0</td>                      <td>0</td>                      <td>0</td>                      <td>1</td>                      <td>0.0</td></tr>\n",
              "<tr><td><a href=\"species/Person.html\">Person</a></td>                      <td>0</td>                      <td>0</td>                      <td>0</td>                      <td>1</td>                      <td>0.0</td></tr>\n",
              "<tr><td><a href=\"species/Armenian hamster.html\">Armenian hamster</a></td>                      <td>0</td>                      <td>0</td>                      <td>0</td>                      <td>1</td>                      <td>0.0</td></tr>\n",
              "<tr><td><a href=\"species/MMTV.html\">MMTV</a></td>                      <td>0</td>                      <td>0</td>                      <td>0</td>                      <td>1</td>                      <td>0.0</td></tr>\n",
              "<tr><td><a href=\"species/Deinococcus radiodurans.html\">Deinococcus radiodurans</a></td>                      <td>0</td>                      <td>0</td>                      <td>0</td>                      <td>1</td>                      <td>0.0</td></tr>\n",
              "<tr><td><a href=\"species/D. radiodurans.html\">D. radiodurans</a></td>                      <td>0</td>                      <td>0</td>                      <td>0</td>                      <td>3</td>                      <td>0.0</td></tr>\n",
              "<tr><td><a href=\"species/Tetrastigma voinierianum.html\">Tetrastigma voinierianum</a></td>                      <td>0</td>                      <td>0</td>                      <td>0</td>                      <td>3</td>                      <td>0.0</td></tr>\n",
              "<tr><td><a href=\"species/T. voinierianum.html\">T. voinierianum</a></td>                      <td>0</td>                      <td>0</td>                      <td>0</td>                      <td>4</td>                      <td>0.0</td></tr>\n",
              "<tr><td><a href=\"species/bananas.html\">bananas</a></td>                      <td>0</td>                      <td>0</td>                      <td>0</td>                      <td>2</td>                      <td>0.0</td></tr>\n",
              "<tr><td><a href=\"species/Eucalyptus.html\">Eucalyptus</a></td>                      <td>0</td>                      <td>0</td>                      <td>0</td>                      <td>1</td>                      <td>0.0</td></tr>\n",
              "<tr><td><a href=\"species/Myrothamnus flabellifolia.html\">Myrothamnus flabellifolia</a></td>                      <td>0</td>                      <td>0</td>                      <td>0</td>                      <td>1</td>                      <td>0.0</td></tr>\n",
              "<tr><td><a href=\"species/Burkholderia mallei.html\">Burkholderia mallei</a></td>                      <td>0</td>                      <td>0</td>                      <td>0</td>                      <td>3</td>                      <td>0.0</td></tr>\n",
              "<tr><td><a href=\"species/B. mallei.html\">B. mallei</a></td>                      <td>0</td>                      <td>0</td>                      <td>0</td>                      <td>40</td>                      <td>0.0</td></tr>\n",
              "<tr><td><a href=\"species/Horses.html\">Horses</a></td>                      <td>0</td>                      <td>0</td>                      <td>0</td>                      <td>1</td>                      <td>0.0</td></tr>\n",
              "<tr><td><a href=\"species/mules.html\">mules</a></td>                      <td>0</td>                      <td>0</td>                      <td>0</td>                      <td>2</td>                      <td>0.0</td></tr>\n",
              "<tr><td><a href=\"species/donkeys.html\">donkeys</a></td>                      <td>0</td>                      <td>0</td>                      <td>0</td>                      <td>2</td>                      <td>0.0</td></tr>\n",
              "<tr><td><a href=\"species/B. pseudomallei.html\">B. pseudomallei</a></td>                      <td>0</td>                      <td>0</td>                      <td>0</td>                      <td>7</td>                      <td>0.0</td></tr>\n",
              "<tr><td><a href=\"species/Rat.html\">Rat</a></td>                      <td>0</td>                      <td>0</td>                      <td>0</td>                      <td>2</td>                      <td>0.0</td></tr>\n",
              "<tr><td><a href=\"species/Streptococcus faecium.html\">Streptococcus faecium</a></td>                      <td>0</td>                      <td>0</td>                      <td>0</td>                      <td>5</td>                      <td>0.0</td></tr>\n",
              "<tr><td><a href=\"species/S. faecium.html\">S. faecium</a></td>                      <td>0</td>                      <td>0</td>                      <td>0</td>                      <td>23</td>                      <td>0.0</td></tr>\n",
              "<tr><td><a href=\"species/Streptococcus Faecium.html\">Streptococcus Faecium</a></td>                      <td>0</td>                      <td>0</td>                      <td>0</td>                      <td>1</td>                      <td>0.0</td></tr>\n",
              "<tr><td><a href=\"species/Streptococcusfaecium.html\">Streptococcusfaecium</a></td>                      <td>0</td>                      <td>0</td>                      <td>0</td>                      <td>3</td>                      <td>0.0</td></tr>\n",
              "<tr><td><a href=\"species/S. faecalis.html\">S. faecalis</a></td>                      <td>0</td>                      <td>0</td>                      <td>0</td>                      <td>7</td>                      <td>0.0</td></tr>\n",
              "<tr><td><a href=\"species/S. durans.html\">S. durans</a></td>                      <td>0</td>                      <td>0</td>                      <td>0</td>                      <td>1</td>                      <td>0.0</td></tr>\n",
              "<tr><td><a href=\"species/S. FAECIUM.html\">S. FAECIUM</a></td>                      <td>0</td>                      <td>0</td>                      <td>0</td>                      <td>3</td>                      <td>0.0</td></tr>\n",
              "<tr><td><a href=\"species/Streptococcusfaecalis.html\">Streptococcusfaecalis</a></td>                      <td>0</td>                      <td>0</td>                      <td>0</td>                      <td>2</td>                      <td>0.0</td></tr>\n",
              "</tbody></table></body>\n",
              "\n",
              "  <script type=\"application/javascript\">\n",
              "  \n",
              "filter.onkeyup = function myFunction(e) {\n",
              "  // Declare variables\n",
              "  var input, filter, table, tr, td, i, txtValue;\n",
              "  input = document.getElementById(\"filter\");\n",
              "  filter = input.value.toUpperCase();\n",
              "  table = document.getElementById(\"grid\");\n",
              "  tr = table.getElementsByTagName(\"tr\");\n",
              "\n",
              "  // Loop through all table rows, and hide those who don't match the search query\n",
              "  for (i = 0; i < tr.length; i++) {\n",
              "    td = tr[i].getElementsByTagName(\"td\")[0];\n",
              "    if (td) {\n",
              "      txtValue = td.textContent || td.innerText;\n",
              "      if (txtValue.toUpperCase().indexOf(filter) > -1) {\n",
              "        tr[i].style.display = \"\";\n",
              "      } else {\n",
              "        tr[i].style.display = \"none\";\n",
              "      }\n",
              "    }\n",
              "  }\n",
              "}\n",
              "\n",
              "    grid.onclick = function(e) {\n",
              "      if (e.target.tagName != 'TH') return;\n",
              "\n",
              "      let th = e.target;\n",
              "      // if TH, then sort\n",
              "      // cellIndex is the number of th:\n",
              "      //   0 for the first column\n",
              "      //   1 for the second column, etc\n",
              "      sortGrid(th.cellIndex, th.dataset.type);\n",
              "    };\n",
              "\n",
              "    function sortGrid(colNum, type) {\n",
              "      let tbody = grid.querySelector('tbody');\n",
              "\n",
              "      let rowsArray = Array.from(tbody.rows);\n",
              "\n",
              "      // compare(a, b) compares two rows, need for sorting\n",
              "      let compare;\n",
              "\n",
              "      switch (type) {\n",
              "        case 'number':\n",
              "          compare = function(rowA, rowB) {\n",
              "            return rowB.cells[colNum].innerHTML - rowA.cells[colNum].innerHTML;\n",
              "          };\n",
              "          break;\n",
              "        case 'string':\n",
              "          compare = function(rowA, rowB) {\n",
              "            return rowA.cells[colNum].innerHTML > rowB.cells[colNum].innerHTML ? 1 : -1;\n",
              "          };\n",
              "          break;\n",
              "      }\n",
              "\n",
              "      // sort\n",
              "      rowsArray.sort(compare);\n",
              "\n",
              "      tbody.append(...rowsArray);\n",
              "    }\n",
              "  </script>\n",
              "  </html>"
            ],
            "text/plain": [
              "<IPython.core.display.HTML object>"
            ]
          },
          "metadata": {
            "tags": []
          },
          "execution_count": 102
        }
      ]
    },
    {
      "cell_type": "code",
      "metadata": {
        "id": "5heebXpHZwej"
      },
      "source": [
        ""
      ],
      "execution_count": null,
      "outputs": []
    },
    {
      "cell_type": "markdown",
      "metadata": {
        "id": "7QQMpAzgZrvF"
      },
      "source": [
        "#### index_species_iframe.html - page that opens species on the same page"
      ]
    },
    {
      "cell_type": "code",
      "metadata": {
        "id": "f14EBtzQaTAA"
      },
      "source": [
        "HTML_table_content = \"\"\n",
        "for species_key in list(species.keys())[0:]:\n",
        "  #filename = \"\".join(x for x in species_key if x.isalnum())+\".html\"\n",
        "  filename = species_HTML_keys[species_key]\n",
        "  # make the headline of each document on its own line\n",
        "  nameInLinkPage = \"<a href=\\\"\"+filename+\"\\\" target=\\\"iframe_a\\\">\"+species_key+\"</a>\"\n",
        "  HTML_table_content += \"<tr><td>\"+nameInLinkPage+\"</td>\\\n",
        "                      <td>\"+str(species[species_key]['Species'])+\"</td>\\\n",
        "                      <td>\"+str(species[species_key]['O'])+\"</td>\\\n",
        "                      <td>\"+str(species[species_key]['SpeciesPERSpeciesAndO'])[0:5]+\"</td>\\\n",
        "                      <td>\"+str(species[species_key]['Species_LINNAEUS'])+\"</td>\\\n",
        "                      <td>\"+str(species[species_key]['OPERLINNAUESAndO'])[0:5]+\"</td></tr>\\n\"\n",
        "#key+\"<br />\\n\"\n",
        "HTML_table_content += \"</table>\"\n",
        "f = open(s800_ambiguous_html+index_species_iframe, \"w\")\n",
        "f.write(\n",
        "        HTML_begin+\\\n",
        "        \"\"\"<div class=\"row\"><div class=\"column1\"><!-- species list -->\"\"\"+\\\n",
        "        HTML_linkPageSearchBarcontent+\\\n",
        "        HTML_table_content+\\\n",
        "        HTML_end_with_script_and_with_iframe\n",
        "        )\n",
        "f.close()"
      ],
      "execution_count": null,
      "outputs": []
    },
    {
      "cell_type": "markdown",
      "metadata": {
        "id": "enlBkP1cbAfB"
      },
      "source": [
        "#### Observe the browse species split window index page"
      ]
    },
    {
      "cell_type": "code",
      "metadata": {
        "id": "CyBbfKdRbc0f"
      },
      "source": [
        "#files.download(filename=s800_ambiguous_html+index_species_iframe)"
      ],
      "execution_count": null,
      "outputs": []
    },
    {
      "cell_type": "code",
      "metadata": {
        "id": "7zNF7wf0bIDw"
      },
      "source": [
        "#IPython.display.HTML(filename=s800_ambiguous_html+index_species_iframe)"
      ],
      "execution_count": null,
      "outputs": []
    },
    {
      "cell_type": "markdown",
      "metadata": {
        "id": "GTXEe1ndoDdW"
      },
      "source": [
        "### Filename browsing"
      ]
    },
    {
      "cell_type": "markdown",
      "metadata": {
        "id": "6uTMWK1QpILx"
      },
      "source": [
        "#### Create files for every document"
      ]
    },
    {
      "cell_type": "code",
      "metadata": {
        "id": "mJZ6YdcqZU6E"
      },
      "source": [
        "def getAnnotatedHtmlByDocKey(document_key,addLink = False):\n",
        "  species_html_content = \"\"\n",
        "  if addLink:\n",
        "    species_html_content += \"<h2><a href=\\\"\"+\"documents/\"+document_key+\".html\\\">\"+document_key+\"</a></h2>\"\n",
        "  else:\n",
        "    species_html_content = \"<h2>\"+document_key+\"</h2>\"\n",
        "  species_html_content += \"<span class=\\\"unannotated\\\">not annotated</span> - <span class=\\\"annotated\\\">annotated</span> - <span class=\\\"LINNAEUS_only\\\">LINNAEUS only</span><br><hr>\"\n",
        "  species_to_html = sorted(s800Data[document_key][\"annotations\"], key = lambda i: i['begin'])\n",
        "  #print(species_to_html)\n",
        "  tmp_begin = 0\n",
        "  if len(species_to_html) > 0:\n",
        "    for current in species_to_html:\n",
        "      classes=\"\"\n",
        "      if current[\"is_annotated\"]:\n",
        "        classes += \"annotated \"\n",
        "      elif current[\"only_in_LINNAEUS\"]:\n",
        "        classes += \"LINNAEUS_only \"\n",
        "      else:\n",
        "        classes += \"unannotated \"                  \n",
        "      species_html_content += s800Data[document_key][\"text\"][tmp_begin:current[\"begin\"]] + \"<span class=\\\"\"+classes+\"\\\">\" + current[\"species\"] + \"</span>\"\n",
        "      tmp_begin = current[\"end\"]\n",
        "    species_html_content += s800Data[document_key][\"text\"][tmp_begin:]\n",
        "  else:\n",
        "    species_html_content += s800Data[document_key][\"text\"]\n",
        "  return species_html_content"
      ],
      "execution_count": null,
      "outputs": []
    },
    {
      "cell_type": "markdown",
      "metadata": {
        "id": "8gOX5wZdhnFx"
      },
      "source": [
        "### \"number\".html - Every doc key on its own page\n"
      ]
    },
    {
      "cell_type": "code",
      "metadata": {
        "id": "bF0VN3ZCp1Z-"
      },
      "source": [
        "for document_key in list(s800Data.keys())[0:]:\n",
        "  species_html_content = getAnnotatedHtmlByDocKey(document_key)\n",
        "  #filename = \"\".join(x for x in document_key if x.isalnum())+\".html\"\n",
        "  filename = \"documents/\" + document_key + \".html\"\n",
        "  f = open(s800_ambiguous_html+\"/\"+filename, \"w\")\n",
        "  # make the headline of each document on its own line\n",
        "  \n",
        "  # add an file\n",
        "  an_ann_file = open(dir_to_standoff+document_key.strip()+\".ann\")\n",
        "  species_html_content += \"<br><br><br><hr><h3>Ann file</h3>\"\n",
        "  species_html_content += \"<pre>\"\n",
        "  for ann_iter in an_ann_file.readlines():\n",
        "    species_html_content += ann_iter + \"\\n\"\n",
        "  species_html_content += \"</pre>\"\n",
        "  an_ann_file.close()\n",
        "  species_html_content = re.sub(\"\\n\\n\",\"<br><br>\",species_html_content)\n",
        "  #f.write(HTML_begin+HTML_index_link_section+species_html_content+html_end_without_script)\n",
        "  f.write(HTML_begin+species_html_content+HTML_end_without_script)\n",
        "f.close()"
      ],
      "execution_count": null,
      "outputs": []
    },
    {
      "cell_type": "code",
      "metadata": {
        "id": "bBRsxq8vqC3f"
      },
      "source": [
        "#IPython.display.HTML(filename='s800_ambiguous_html/documents/19667393.html')"
      ],
      "execution_count": null,
      "outputs": []
    },
    {
      "cell_type": "markdown",
      "metadata": {
        "id": "_O0Eq9wLD_zT"
      },
      "source": [
        "#### index_document_all - All docs in one file"
      ]
    },
    {
      "cell_type": "code",
      "metadata": {
        "id": "ZAOejXfa_y6X"
      },
      "source": [
        "\n",
        "f = open(s800_ambiguous_html+index_document_all, \"w\")\n",
        "\n",
        "species_html_content = \"<h2>All docs</h2><hr>\"\n",
        "\n",
        "for document_key in list(s800Data.keys())[0:]:\n",
        "  #print(document_key)\n",
        "  species_html_content += getAnnotatedHtmlByDocKey(document_key,True)\n",
        "  # make the headline of each document on its own line\n",
        "  species_html_content = re.sub(\"\\n\\n\",\"<br><br>\",species_html_content)\n",
        "f.write(HTML_begin+HTML_index_link_section+species_html_content+HTML_end_without_script)\n",
        "f.close()"
      ],
      "execution_count": null,
      "outputs": []
    },
    {
      "cell_type": "code",
      "metadata": {
        "id": "t826pdm1Bfh7"
      },
      "source": [
        "#IPython.display.HTML(filename=s800_ambiguous_html+index_document_all)"
      ],
      "execution_count": null,
      "outputs": []
    },
    {
      "cell_type": "code",
      "metadata": {
        "id": "1O-9Ju1bw2-W"
      },
      "source": [
        "#files.download(filename='s800_ambiguous_html/19667393.html')"
      ],
      "execution_count": null,
      "outputs": []
    },
    {
      "cell_type": "markdown",
      "metadata": {
        "id": "KPh6jjfMh3AP"
      },
      "source": [
        "### index_document - follow links\n"
      ]
    },
    {
      "cell_type": "code",
      "metadata": {
        "id": "5XKlniOianVs"
      },
      "source": [
        "f = open(s800_ambiguous_html+index_document, \"w\")\n",
        "#species_html_content = \"\"\n",
        "linkPagecontent=\"\"\n",
        "\n",
        "for document_key in list(s800Data.keys())[0:]:\n",
        "  #filename = \"\".join(x for x in document_key if x.isalnum())+\".html\"\n",
        "  filename = \"documents/\"+document_key+\".html\"\n",
        "  # make the headline of each document on its own line\n",
        "  species_html_content = re.sub(\"\\n\\n\",\"<br><br>\",species_html_content)\n",
        "  nameInLinkPage = \"<a href=\\\"\"+filename+\"\\\">\"+document_key+\"</a>\"\n",
        "  linkPagecontent += \"<tr><td>\"+nameInLinkPage+\"</td> \\\n",
        "  <td>\"+str(len(list(filter(lambda x: x['is_annotated'], s800Data[document_key]['annotations']))))+\"</td>\" + \\\n",
        "  \"<td>\"+str(len(list(filter(lambda x: x['is_annotated'] == False, s800Data[document_key]['annotations']))))+\"</td>\" + \\\n",
        "  \"<td>\"+str(len(list(filter(lambda x: x['is_annotated'] == False and x['only_in_LINNAEUS'] == True, s800Data[document_key]['annotations']))))+\"</td></tr>\\n\"\n",
        "f.write(HTML_begin+\\\n",
        "        HTML_linkPageSearchBarcontentDOCS+\\\n",
        "        linkPagecontent+\\\n",
        "        HTML_end_with_script)\n",
        "f.close()"
      ],
      "execution_count": null,
      "outputs": []
    },
    {
      "cell_type": "code",
      "metadata": {
        "id": "BdZgJW-PfRCz",
        "colab": {
          "base_uri": "https://localhost:8080/"
        },
        "outputId": "b4bcac61-d2eb-4782-f03c-200e95a2b5c0"
      },
      "source": [
        "IPython.display.HTML(filename=s800_ambiguous_html+index_document)"
      ],
      "execution_count": null,
      "outputs": [
        {
          "output_type": "execute_result",
          "data": {
            "text/html": [
              "\n",
              "<!doctype html><html lang=\"en\"> <head><meta charset=\"utf-8\"> \n",
              "<title>s800 inconsistencies</title> \n",
              "<style>\n",
              "\n",
              ".gray { background-color:rgba(125, 125, 125, 0.5); } \n",
              ".orange { background-color:rgba(210, 180, 180, 0.5); } \n",
              "\n",
              ".match { text-decoration: underline; \n",
              "/*\n",
              "  -webkit-text-decoration-color: red;  \n",
              "  text-decoration-color: red; */\n",
              "    -webkit-text-decoration-line: overline underline; /* Safari */\n",
              "   text-decoration-line: overline underline; \n",
              "   color:yellow;\n",
              "/*   font-weight:bold; */\n",
              "  \n",
              "  \n",
              "  } \n",
              ".LINNAEUS_only { background-color: rgba(125, 125, 125, 0.5); }\n",
              ".annotated { background-color:rgba(50, 180, 180, 0.5); } \n",
              ".unannotated { background-color:rgba(214, 75, 79, 0.5); } \n",
              "\n",
              ".match_species { text-decoration: underline; } \n",
              "/*\n",
              "ul#menu li {\n",
              "/*  display:inline; \n",
              "}\n",
              ".horizontal { display: inline; border-left: 3px solid darkorange; padding-left: 0.3em; }\n",
              ".first { border-left: none; padding-left: 0; }\n",
              "*/\n",
              "ul#menu li {\n",
              "list-style-type: circle;\n",
              "}\n",
              "table { border-collapse: collapse; } \n",
              "th, td { border: 1px solid orange; padding: 4px; } \n",
              "th {  cursor: pointer; } \n",
              "th:hover { background: yellow; }\n",
              "\n",
              "html, body, iframe { height: 100%; }\n",
              "\n",
              "* {\n",
              "  box-sizing: border-box;\n",
              "}\n",
              "\n",
              ".row {\n",
              "  display: flex;\n",
              "}\n",
              "\n",
              "\n",
              "/* Create two equal columns that sits next to each other */\n",
              ".column {\n",
              "  flex: 50%;\n",
              "  padding: 0px;\n",
              " /*height: 300px; /* Should be removed. Only for demonstration */\n",
              "}\n",
              "/* Create two equal columns that sits next to each other */\n",
              ".column1 {\n",
              "  flex: 30%;\n",
              "  padding: 0px;\n",
              " /*height: 300px; /* Should be removed. Only for demonstration */\n",
              "}\n",
              "/* Create two equal columns that sits next to each other */\n",
              ".column2 {\n",
              "  flex: 70%;\n",
              "  padding: 0px;\n",
              " /*height: 300px; /* Should be removed. Only for demonstration */\n",
              "}\n",
              " \n",
              "</style></head><body>\n",
              "\n",
              "<div style=\"padding: 10px;border-style: dotted; width: 100%; display:flex;justify-content: flex-start\">\n",
              "      <div><!-- style=\"flex: 0 0 65%\"> -->\n",
              "        <b>Search filter:</b><input type=\"text\" id=\"filter\"><br/>\n",
              "        <big><b>Press headers for sorting</b></big><br/>\n",
              "      </div>\n",
              "      <div><!-- style=\"flex: 1;\">-->\n",
              "      \n",
              "<ul id=\"menu\">\n",
              "  <li class=\"horizontal first\">\n",
              "    <a href=index.html>Species - follow links</a>\n",
              "  </li>\n",
              "  <li class=\"horizontal\">\n",
              "    <a href=index_species_iframe.html>Species - show on same page</a>\n",
              "  </li>\n",
              "  <li class=\"horizontal\">\n",
              "    <a href=index_document.html>Document - follow links</a>\n",
              "  </li>\n",
              "  <li class=\"horizontal\">\n",
              "    <a href=index_document_iframe.html>Document - show on same page</a>\n",
              "  </li>\n",
              "  <li class=\"horizontal\">\n",
              "    <a href=index_document_all.html>Document - all</a>\n",
              "  </li>\n",
              "</ul>\n",
              "\n",
              "      </div>\n",
              "</div> <!-- dashed box -->\n",
              "<small><b>Press header for sorting</b></small>\n",
              "<table id=\"grid\"> \n",
              "    <thead> \n",
              "      <tr> \n",
              "\n",
              "        <th data-type=\"string\">Tagged entity</th> \n",
              "        <th data-type=\"number\">'Species' tags</th> \n",
              "        <th data-type=\"number\">'O' tags</th> \n",
              "        <th data-type=\"number\">'LINNAEUS' tags</th>\n",
              "\n",
              "      </tr> \n",
              "    </thead> \n",
              "    <tbody>\n",
              "<tr><td><a href=\"documents/19667393.html\">19667393</a></td>   <td>9</td><td>0</td><td>0</td></tr>\n",
              "<tr><td><a href=\"documents/20044015.html\">20044015</a></td>   <td>6</td><td>2</td><td>0</td></tr>\n",
              "<tr><td><a href=\"documents/20118285.html\">20118285</a></td>   <td>6</td><td>0</td><td>0</td></tr>\n",
              "<tr><td><a href=\"documents/20139282.html\">20139282</a></td>   <td>4</td><td>1</td><td>0</td></tr>\n",
              "<tr><td><a href=\"documents/20139283.html\">20139283</a></td>   <td>6</td><td>1</td><td>0</td></tr>\n",
              "<tr><td><a href=\"documents/20154326.html\">20154326</a></td>   <td>17</td><td>0</td><td>0</td></tr>\n",
              "<tr><td><a href=\"documents/20154327.html\">20154327</a></td>   <td>3</td><td>0</td><td>0</td></tr>\n",
              "<tr><td><a href=\"documents/20154328.html\">20154328</a></td>   <td>2</td><td>0</td><td>0</td></tr>\n",
              "<tr><td><a href=\"documents/20154329.html\">20154329</a></td>   <td>10</td><td>0</td><td>0</td></tr>\n",
              "<tr><td><a href=\"documents/20154330.html\">20154330</a></td>   <td>13</td><td>0</td><td>0</td></tr>\n",
              "<tr><td><a href=\"documents/20154331.html\">20154331</a></td>   <td>6</td><td>1</td><td>0</td></tr>\n",
              "<tr><td><a href=\"documents/20154332.html\">20154332</a></td>   <td>12</td><td>0</td><td>0</td></tr>\n",
              "<tr><td><a href=\"documents/20173001.html\">20173001</a></td>   <td>10</td><td>0</td><td>0</td></tr>\n",
              "<tr><td><a href=\"documents/20173007.html\">20173007</a></td>   <td>11</td><td>0</td><td>0</td></tr>\n",
              "<tr><td><a href=\"documents/20173008.html\">20173008</a></td>   <td>18</td><td>0</td><td>0</td></tr>\n",
              "<tr><td><a href=\"documents/20173010.html\">20173010</a></td>   <td>14</td><td>0</td><td>0</td></tr>\n",
              "<tr><td><a href=\"documents/20173011.html\">20173011</a></td>   <td>3</td><td>0</td><td>0</td></tr>\n",
              "<tr><td><a href=\"documents/20173012.html\">20173012</a></td>   <td>5</td><td>1</td><td>0</td></tr>\n",
              "<tr><td><a href=\"documents/20173013.html\">20173013</a></td>   <td>14</td><td>0</td><td>0</td></tr>\n",
              "<tr><td><a href=\"documents/20190018.html\">20190018</a></td>   <td>0</td><td>4</td><td>4</td></tr>\n",
              "<tr><td><a href=\"documents/20190019.html\">20190019</a></td>   <td>10</td><td>2</td><td>2</td></tr>\n",
              "<tr><td><a href=\"documents/20190020.html\">20190020</a></td>   <td>3</td><td>0</td><td>0</td></tr>\n",
              "<tr><td><a href=\"documents/20433937.html\">20433937</a></td>   <td>1</td><td>1</td><td>0</td></tr>\n",
              "<tr><td><a href=\"documents/20519149.html\">20519149</a></td>   <td>2</td><td>0</td><td>0</td></tr>\n",
              "<tr><td><a href=\"documents/20519150.html\">20519150</a></td>   <td>0</td><td>3</td><td>0</td></tr>\n",
              "<tr><td><a href=\"documents/20580606.html\">20580606</a></td>   <td>0</td><td>14</td><td>14</td></tr>\n",
              "<tr><td><a href=\"documents/20601040.html\">20601040</a></td>   <td>3</td><td>0</td><td>0</td></tr>\n",
              "<tr><td><a href=\"documents/20615753.html\">20615753</a></td>   <td>0</td><td>0</td><td>0</td></tr>\n",
              "<tr><td><a href=\"documents/20619350.html\">20619350</a></td>   <td>3</td><td>0</td><td>0</td></tr>\n",
              "<tr><td><a href=\"documents/20619886.html\">20619886</a></td>   <td>0</td><td>0</td><td>0</td></tr>\n",
              "<tr><td><a href=\"documents/20633690.html\">20633690</a></td>   <td>5</td><td>1</td><td>0</td></tr>\n",
              "<tr><td><a href=\"documents/20637818.html\">20637818</a></td>   <td>5</td><td>2</td><td>0</td></tr>\n",
              "<tr><td><a href=\"documents/20643581.html\">20643581</a></td>   <td>9</td><td>0</td><td>0</td></tr>\n",
              "<tr><td><a href=\"documents/20650683.html\">20650683</a></td>   <td>1</td><td>0</td><td>0</td></tr>\n",
              "<tr><td><a href=\"documents/20650684.html\">20650684</a></td>   <td>10</td><td>1</td><td>0</td></tr>\n",
              "<tr><td><a href=\"documents/20654725.html\">20654725</a></td>   <td>2</td><td>0</td><td>0</td></tr>\n",
              "<tr><td><a href=\"documents/20659575.html\">20659575</a></td>   <td>0</td><td>1</td><td>0</td></tr>\n",
              "<tr><td><a href=\"documents/20663713.html\">20663713</a></td>   <td>5</td><td>0</td><td>0</td></tr>\n",
              "<tr><td><a href=\"documents/20663714.html\">20663714</a></td>   <td>7</td><td>0</td><td>0</td></tr>\n",
              "<tr><td><a href=\"documents/20674490.html\">20674490</a></td>   <td>5</td><td>0</td><td>0</td></tr>\n",
              "<tr><td><a href=\"documents/20674491.html\">20674491</a></td>   <td>0</td><td>0</td><td>0</td></tr>\n",
              "<tr><td><a href=\"documents/20682355.html\">20682355</a></td>   <td>8</td><td>0</td><td>0</td></tr>\n",
              "<tr><td><a href=\"documents/20708435.html\">20708435</a></td>   <td>6</td><td>0</td><td>0</td></tr>\n",
              "<tr><td><a href=\"documents/20708961.html\">20708961</a></td>   <td>10</td><td>0</td><td>0</td></tr>\n",
              "<tr><td><a href=\"documents/20708962.html\">20708962</a></td>   <td>0</td><td>1</td><td>0</td></tr>\n",
              "<tr><td><a href=\"documents/20713166.html\">20713166</a></td>   <td>9</td><td>0</td><td>0</td></tr>\n",
              "<tr><td><a href=\"documents/20719250.html\">20719250</a></td>   <td>9</td><td>6</td><td>0</td></tr>\n",
              "<tr><td><a href=\"documents/20719377.html\">20719377</a></td>   <td>0</td><td>1</td><td>1</td></tr>\n",
              "<tr><td><a href=\"documents/20726924.html\">20726924</a></td>   <td>0</td><td>0</td><td>0</td></tr>\n",
              "<tr><td><a href=\"documents/20728557.html\">20728557</a></td>   <td>4</td><td>0</td><td>0</td></tr>\n",
              "<tr><td><a href=\"documents/20735493.html\">20735493</a></td>   <td>5</td><td>0</td><td>0</td></tr>\n",
              "<tr><td><a href=\"documents/20735792.html\">20735792</a></td>   <td>0</td><td>1</td><td>0</td></tr>\n",
              "<tr><td><a href=\"documents/20796204.html\">20796204</a></td>   <td>5</td><td>0</td><td>0</td></tr>\n",
              "<tr><td><a href=\"documents/20797444.html\">20797444</a></td>   <td>2</td><td>0</td><td>0</td></tr>\n",
              "<tr><td><a href=\"documents/20807339.html\">20807339</a></td>   <td>0</td><td>0</td><td>0</td></tr>\n",
              "<tr><td><a href=\"documents/20807371.html\">20807371</a></td>   <td>1</td><td>0</td><td>0</td></tr>\n",
              "<tr><td><a href=\"documents/20807372.html\">20807372</a></td>   <td>0</td><td>2</td><td>0</td></tr>\n",
              "<tr><td><a href=\"documents/20807586.html\">20807586</a></td>   <td>0</td><td>1</td><td>0</td></tr>\n",
              "<tr><td><a href=\"documents/20809921.html\">20809921</a></td>   <td>0</td><td>0</td><td>0</td></tr>\n",
              "<tr><td><a href=\"documents/20816830.html\">20816830</a></td>   <td>2</td><td>2</td><td>0</td></tr>\n",
              "<tr><td><a href=\"documents/20817115.html\">20817115</a></td>   <td>14</td><td>0</td><td>0</td></tr>\n",
              "<tr><td><a href=\"documents/20817555.html\">20817555</a></td>   <td>4</td><td>0</td><td>0</td></tr>\n",
              "<tr><td><a href=\"documents/20825506.html\">20825506</a></td>   <td>3</td><td>0</td><td>0</td></tr>\n",
              "<tr><td><a href=\"documents/20825576.html\">20825576</a></td>   <td>0</td><td>0</td><td>0</td></tr>\n",
              "<tr><td><a href=\"documents/20825577.html\">20825577</a></td>   <td>9</td><td>0</td><td>0</td></tr>\n",
              "<tr><td><a href=\"documents/20825578.html\">20825578</a></td>   <td>3</td><td>0</td><td>0</td></tr>\n",
              "<tr><td><a href=\"documents/20825579.html\">20825579</a></td>   <td>0</td><td>0</td><td>0</td></tr>\n",
              "<tr><td><a href=\"documents/20829107.html\">20829107</a></td>   <td>2</td><td>0</td><td>0</td></tr>\n",
              "<tr><td><a href=\"documents/20831646.html\">20831646</a></td>   <td>3</td><td>0</td><td>0</td></tr>\n",
              "<tr><td><a href=\"documents/20831647.html\">20831647</a></td>   <td>0</td><td>0</td><td>0</td></tr>\n",
              "<tr><td><a href=\"documents/20831729.html\">20831729</a></td>   <td>0</td><td>1</td><td>0</td></tr>\n",
              "<tr><td><a href=\"documents/20831730.html\">20831730</a></td>   <td>9</td><td>0</td><td>0</td></tr>\n",
              "<tr><td><a href=\"documents/20837155.html\">20837155</a></td>   <td>8</td><td>4</td><td>0</td></tr>\n",
              "<tr><td><a href=\"documents/20840499.html\">20840499</a></td>   <td>2</td><td>0</td><td>0</td></tr>\n",
              "<tr><td><a href=\"documents/20840506.html\">20840506</a></td>   <td>9</td><td>0</td><td>0</td></tr>\n",
              "<tr><td><a href=\"documents/20840510.html\">20840510</a></td>   <td>6</td><td>0</td><td>0</td></tr>\n",
              "<tr><td><a href=\"documents/20840555.html\">20840555</a></td>   <td>1</td><td>5</td><td>0</td></tr>\n",
              "<tr><td><a href=\"documents/20840607.html\">20840607</a></td>   <td>0</td><td>0</td><td>0</td></tr>\n",
              "<tr><td><a href=\"documents/20840610.html\">20840610</a></td>   <td>5</td><td>0</td><td>0</td></tr>\n",
              "<tr><td><a href=\"documents/20840611.html\">20840611</a></td>   <td>0</td><td>1</td><td>0</td></tr>\n",
              "<tr><td><a href=\"documents/20849972.html\">20849972</a></td>   <td>2</td><td>0</td><td>0</td></tr>\n",
              "<tr><td><a href=\"documents/20850479.html\">20850479</a></td>   <td>9</td><td>1</td><td>0</td></tr>\n",
              "<tr><td><a href=\"documents/20854394.html\">20854394</a></td>   <td>11</td><td>4</td><td>0</td></tr>\n",
              "<tr><td><a href=\"documents/20854397.html\">20854397</a></td>   <td>1</td><td>1</td><td>0</td></tr>\n",
              "<tr><td><a href=\"documents/20854479.html\">20854479</a></td>   <td>4</td><td>0</td><td>0</td></tr>\n",
              "<tr><td><a href=\"documents/20854480.html\">20854480</a></td>   <td>7</td><td>0</td><td>0</td></tr>\n",
              "<tr><td><a href=\"documents/20854481.html\">20854481</a></td>   <td>2</td><td>2</td><td>0</td></tr>\n",
              "<tr><td><a href=\"documents/20854482.html\">20854482</a></td>   <td>4</td><td>0</td><td>0</td></tr>\n",
              "<tr><td><a href=\"documents/20863853.html\">20863853</a></td>   <td>5</td><td>3</td><td>0</td></tr>\n",
              "<tr><td><a href=\"documents/20863856.html\">20863856</a></td>   <td>14</td><td>2</td><td>0</td></tr>\n",
              "<tr><td><a href=\"documents/20868394.html\">20868394</a></td>   <td>0</td><td>0</td><td>0</td></tr>\n",
              "<tr><td><a href=\"documents/20868395.html\">20868395</a></td>   <td>6</td><td>0</td><td>0</td></tr>\n",
              "<tr><td><a href=\"documents/20869315.html\">20869315</a></td>   <td>0</td><td>2</td><td>2</td></tr>\n",
              "<tr><td><a href=\"documents/20870768.html\">20870768</a></td>   <td>1</td><td>1</td><td>0</td></tr>\n",
              "<tr><td><a href=\"documents/20874804.html\">20874804</a></td>   <td>4</td><td>1</td><td>0</td></tr>\n",
              "<tr><td><a href=\"documents/20880020.html\">20880020</a></td>   <td>4</td><td>0</td><td>0</td></tr>\n",
              "<tr><td><a href=\"documents/20880021.html\">20880021</a></td>   <td>11</td><td>0</td><td>0</td></tr>\n",
              "<tr><td><a href=\"documents/20880023.html\">20880023</a></td>   <td>9</td><td>0</td><td>0</td></tr>\n",
              "<tr><td><a href=\"documents/20880024.html\">20880024</a></td>   <td>1</td><td>0</td><td>0</td></tr>\n",
              "<tr><td><a href=\"documents/20880038.html\">20880038</a></td>   <td>0</td><td>1</td><td>0</td></tr>\n",
              "<tr><td><a href=\"documents/20880202.html\">20880202</a></td>   <td>0</td><td>1</td><td>0</td></tr>\n",
              "<tr><td><a href=\"documents/20880204.html\">20880204</a></td>   <td>2</td><td>1</td><td>0</td></tr>\n",
              "<tr><td><a href=\"documents/20880205.html\">20880205</a></td>   <td>9</td><td>1</td><td>0</td></tr>\n",
              "<tr><td><a href=\"documents/20880224.html\">20880224</a></td>   <td>4</td><td>0</td><td>0</td></tr>\n",
              "<tr><td><a href=\"documents/20880225.html\">20880225</a></td>   <td>1</td><td>2</td><td>0</td></tr>\n",
              "<tr><td><a href=\"documents/20880226.html\">20880226</a></td>   <td>3</td><td>0</td><td>0</td></tr>\n",
              "<tr><td><a href=\"documents/20884291.html\">20884291</a></td>   <td>4</td><td>0</td><td>0</td></tr>\n",
              "<tr><td><a href=\"documents/20887752.html\">20887752</a></td>   <td>7</td><td>1</td><td>1</td></tr>\n",
              "<tr><td><a href=\"documents/20887797.html\">20887797</a></td>   <td>10</td><td>1</td><td>0</td></tr>\n",
              "<tr><td><a href=\"documents/20888422.html\">20888422</a></td>   <td>6</td><td>0</td><td>0</td></tr>\n",
              "<tr><td><a href=\"documents/20888926.html\">20888926</a></td>   <td>3</td><td>1</td><td>0</td></tr>\n",
              "<tr><td><a href=\"documents/20923688.html\">20923688</a></td>   <td>6</td><td>7</td><td>3</td></tr>\n",
              "<tr><td><a href=\"documents/20923689.html\">20923689</a></td>   <td>19</td><td>4</td><td>0</td></tr>\n",
              "<tr><td><a href=\"documents/20923690.html\">20923690</a></td>   <td>6</td><td>2</td><td>0</td></tr>\n",
              "<tr><td><a href=\"documents/20932726.html\">20932726</a></td>   <td>5</td><td>0</td><td>0</td></tr>\n",
              "<tr><td><a href=\"documents/20933014.html\">20933014</a></td>   <td>10</td><td>1</td><td>1</td></tr>\n",
              "<tr><td><a href=\"documents/20933015.html\">20933015</a></td>   <td>27</td><td>1</td><td>0</td></tr>\n",
              "<tr><td><a href=\"documents/20933016.html\">20933016</a></td>   <td>14</td><td>1</td><td>0</td></tr>\n",
              "<tr><td><a href=\"documents/20933017.html\">20933017</a></td>   <td>2</td><td>13</td><td>0</td></tr>\n",
              "<tr><td><a href=\"documents/20934378.html\">20934378</a></td>   <td>0</td><td>1</td><td>1</td></tr>\n",
              "<tr><td><a href=\"documents/20943971.html\">20943971</a></td>   <td>16</td><td>3</td><td>0</td></tr>\n",
              "<tr><td><a href=\"documents/20946131.html\">20946131</a></td>   <td>6</td><td>1</td><td>0</td></tr>\n",
              "<tr><td><a href=\"documents/20946418.html\">20946418</a></td>   <td>0</td><td>2</td><td>0</td></tr>\n",
              "<tr><td><a href=\"documents/20946532.html\">20946532</a></td>   <td>6</td><td>0</td><td>0</td></tr>\n",
              "<tr><td><a href=\"documents/20946588.html\">20946588</a></td>   <td>0</td><td>0</td><td>0</td></tr>\n",
              "<tr><td><a href=\"documents/20946918.html\">20946918</a></td>   <td>6</td><td>1</td><td>1</td></tr>\n",
              "<tr><td><a href=\"documents/20951166.html\">20951166</a></td>   <td>9</td><td>8</td><td>0</td></tr>\n",
              "<tr><td><a href=\"documents/20951167.html\">20951167</a></td>   <td>1</td><td>0</td><td>0</td></tr>\n",
              "<tr><td><a href=\"documents/20951743.html\">20951743</a></td>   <td>24</td><td>3</td><td>0</td></tr>\n",
              "<tr><td><a href=\"documents/20951744.html\">20951744</a></td>   <td>9</td><td>2</td><td>0</td></tr>\n",
              "<tr><td><a href=\"documents/20951745.html\">20951745</a></td>   <td>2</td><td>1</td><td>0</td></tr>\n",
              "<tr><td><a href=\"documents/20955222.html\">20955222</a></td>   <td>5</td><td>0</td><td>0</td></tr>\n",
              "<tr><td><a href=\"documents/20955223.html\">20955223</a></td>   <td>1</td><td>0</td><td>0</td></tr>\n",
              "<tr><td><a href=\"documents/20955224.html\">20955224</a></td>   <td>2</td><td>0</td><td>0</td></tr>\n",
              "<tr><td><a href=\"documents/20955225.html\">20955225</a></td>   <td>3</td><td>1</td><td>0</td></tr>\n",
              "<tr><td><a href=\"documents/20955227.html\">20955227</a></td>   <td>1</td><td>1</td><td>0</td></tr>\n",
              "<tr><td><a href=\"documents/20955810.html\">20955810</a></td>   <td>3</td><td>0</td><td>0</td></tr>\n",
              "<tr><td><a href=\"documents/20955812.html\">20955812</a></td>   <td>5</td><td>0</td><td>0</td></tr>\n",
              "<tr><td><a href=\"documents/20955813.html\">20955813</a></td>   <td>18</td><td>1</td><td>0</td></tr>\n",
              "<tr><td><a href=\"documents/20958305.html\">20958305</a></td>   <td>0</td><td>0</td><td>0</td></tr>\n",
              "<tr><td><a href=\"documents/20958807.html\">20958807</a></td>   <td>3</td><td>0</td><td>0</td></tr>\n",
              "<tr><td><a href=\"documents/20958808.html\">20958808</a></td>   <td>6</td><td>0</td><td>0</td></tr>\n",
              "<tr><td><a href=\"documents/20961294.html\">20961294</a></td>   <td>3</td><td>4</td><td>0</td></tr>\n",
              "<tr><td><a href=\"documents/20961741.html\">20961741</a></td>   <td>1</td><td>0</td><td>0</td></tr>\n",
              "<tr><td><a href=\"documents/20962076.html\">20962076</a></td>   <td>5</td><td>4</td><td>0</td></tr>\n",
              "<tr><td><a href=\"documents/20962078.html\">20962078</a></td>   <td>10</td><td>3</td><td>0</td></tr>\n",
              "<tr><td><a href=\"documents/20962079.html\">20962079</a></td>   <td>8</td><td>4</td><td>0</td></tr>\n",
              "<tr><td><a href=\"documents/20962080.html\">20962080</a></td>   <td>10</td><td>1</td><td>0</td></tr>\n",
              "<tr><td><a href=\"documents/20962084.html\">20962084</a></td>   <td>13</td><td>15</td><td>0</td></tr>\n",
              "<tr><td><a href=\"documents/20962085.html\">20962085</a></td>   <td>3</td><td>5</td><td>4</td></tr>\n",
              "<tr><td><a href=\"documents/20962086.html\">20962086</a></td>   <td>8</td><td>4</td><td>0</td></tr>\n",
              "<tr><td><a href=\"documents/20962087.html\">20962087</a></td>   <td>6</td><td>6</td><td>0</td></tr>\n",
              "<tr><td><a href=\"documents/20962088.html\">20962088</a></td>   <td>0</td><td>6</td><td>0</td></tr>\n",
              "<tr><td><a href=\"documents/20962090.html\">20962090</a></td>   <td>9</td><td>5</td><td>0</td></tr>\n",
              "<tr><td><a href=\"documents/20962091.html\">20962091</a></td>   <td>8</td><td>4</td><td>0</td></tr>\n",
              "<tr><td><a href=\"documents/20962092.html\">20962092</a></td>   <td>22</td><td>5</td><td>3</td></tr>\n",
              "<tr><td><a href=\"documents/20962093.html\">20962093</a></td>   <td>9</td><td>3</td><td>0</td></tr>\n",
              "<tr><td><a href=\"documents/20962094.html\">20962094</a></td>   <td>7</td><td>5</td><td>0</td></tr>\n",
              "<tr><td><a href=\"documents/20962095.html\">20962095</a></td>   <td>12</td><td>5</td><td>0</td></tr>\n",
              "<tr><td><a href=\"documents/20962096.html\">20962096</a></td>   <td>6</td><td>3</td><td>0</td></tr>\n",
              "<tr><td><a href=\"documents/20962097.html\">20962097</a></td>   <td>15</td><td>1</td><td>1</td></tr>\n",
              "<tr><td><a href=\"documents/20962099.html\">20962099</a></td>   <td>25</td><td>11</td><td>8</td></tr>\n",
              "<tr><td><a href=\"documents/20962100.html\">20962100</a></td>   <td>12</td><td>0</td><td>0</td></tr>\n",
              "<tr><td><a href=\"documents/20964684.html\">20964684</a></td>   <td>1</td><td>0</td><td>0</td></tr>\n",
              "<tr><td><a href=\"documents/20964685.html\">20964685</a></td>   <td>2</td><td>0</td><td>0</td></tr>\n",
              "<tr><td><a href=\"documents/20964687.html\">20964687</a></td>   <td>1</td><td>0</td><td>0</td></tr>\n",
              "<tr><td><a href=\"documents/20964691.html\">20964691</a></td>   <td>7</td><td>0</td><td>0</td></tr>\n",
              "<tr><td><a href=\"documents/20964693.html\">20964693</a></td>   <td>7</td><td>0</td><td>0</td></tr>\n",
              "<tr><td><a href=\"documents/20965267.html\">20965267</a></td>   <td>9</td><td>1</td><td>0</td></tr>\n",
              "<tr><td><a href=\"documents/20970456.html\">20970456</a></td>   <td>8</td><td>0</td><td>0</td></tr>\n",
              "<tr><td><a href=\"documents/20970457.html\">20970457</a></td>   <td>10</td><td>2</td><td>2</td></tr>\n",
              "<tr><td><a href=\"documents/20971037.html\">20971037</a></td>   <td>0</td><td>0</td><td>0</td></tr>\n",
              "<tr><td><a href=\"documents/20971202.html\">20971202</a></td>   <td>9</td><td>2</td><td>1</td></tr>\n",
              "<tr><td><a href=\"documents/20971898.html\">20971898</a></td>   <td>5</td><td>0</td><td>0</td></tr>\n",
              "<tr><td><a href=\"documents/20971899.html\">20971899</a></td>   <td>4</td><td>1</td><td>0</td></tr>\n",
              "<tr><td><a href=\"documents/20971900.html\">20971900</a></td>   <td>1</td><td>3</td><td>0</td></tr>\n",
              "<tr><td><a href=\"documents/20971901.html\">20971901</a></td>   <td>5</td><td>0</td><td>0</td></tr>\n",
              "<tr><td><a href=\"documents/20971902.html\">20971902</a></td>   <td>3</td><td>0</td><td>0</td></tr>\n",
              "<tr><td><a href=\"documents/20971904.html\">20971904</a></td>   <td>11</td><td>2</td><td>0</td></tr>\n",
              "<tr><td><a href=\"documents/20971906.html\">20971906</a></td>   <td>3</td><td>2</td><td>0</td></tr>\n",
              "<tr><td><a href=\"documents/20971907.html\">20971907</a></td>   <td>4</td><td>0</td><td>0</td></tr>\n",
              "<tr><td><a href=\"documents/20971909.html\">20971909</a></td>   <td>10</td><td>0</td><td>0</td></tr>\n",
              "<tr><td><a href=\"documents/20971910.html\">20971910</a></td>   <td>3</td><td>0</td><td>0</td></tr>\n",
              "<tr><td><a href=\"documents/20971911.html\">20971911</a></td>   <td>7</td><td>0</td><td>0</td></tr>\n",
              "<tr><td><a href=\"documents/20971913.html\">20971913</a></td>   <td>11</td><td>1</td><td>0</td></tr>\n",
              "<tr><td><a href=\"documents/20971915.html\">20971915</a></td>   <td>3</td><td>0</td><td>0</td></tr>\n",
              "<tr><td><a href=\"documents/20971916.html\">20971916</a></td>   <td>2</td><td>0</td><td>0</td></tr>\n",
              "<tr><td><a href=\"documents/20974179.html\">20974179</a></td>   <td>6</td><td>3</td><td>0</td></tr>\n",
              "<tr><td><a href=\"documents/20977507.html\">20977507</a></td>   <td>0</td><td>1</td><td>0</td></tr>\n",
              "<tr><td><a href=\"documents/20977508.html\">20977508</a></td>   <td>3</td><td>0</td><td>0</td></tr>\n",
              "<tr><td><a href=\"documents/20980497.html\">20980497</a></td>   <td>10</td><td>1</td><td>0</td></tr>\n",
              "<tr><td><a href=\"documents/20980498.html\">20980498</a></td>   <td>4</td><td>6</td><td>0</td></tr>\n",
              "<tr><td><a href=\"documents/20980499.html\">20980499</a></td>   <td>3</td><td>2</td><td>0</td></tr>\n",
              "<tr><td><a href=\"documents/20980500.html\">20980500</a></td>   <td>13</td><td>4</td><td>2</td></tr>\n",
              "<tr><td><a href=\"documents/20980502.html\">20980502</a></td>   <td>8</td><td>5</td><td>0</td></tr>\n",
              "<tr><td><a href=\"documents/20980503.html\">20980503</a></td>   <td>11</td><td>1</td><td>0</td></tr>\n",
              "<tr><td><a href=\"documents/20980504.html\">20980504</a></td>   <td>1</td><td>0</td><td>0</td></tr>\n",
              "<tr><td><a href=\"documents/20980507.html\">20980507</a></td>   <td>12</td><td>5</td><td>0</td></tr>\n",
              "<tr><td><a href=\"documents/20980509.html\">20980509</a></td>   <td>2</td><td>0</td><td>0</td></tr>\n",
              "<tr><td><a href=\"documents/20980510.html\">20980510</a></td>   <td>23</td><td>3</td><td>2</td></tr>\n",
              "<tr><td><a href=\"documents/20980514.html\">20980514</a></td>   <td>4</td><td>1</td><td>0</td></tr>\n",
              "<tr><td><a href=\"documents/20980515.html\">20980515</a></td>   <td>14</td><td>4</td><td>1</td></tr>\n",
              "<tr><td><a href=\"documents/20980516.html\">20980516</a></td>   <td>1</td><td>2</td><td>0</td></tr>\n",
              "<tr><td><a href=\"documents/20980518.html\">20980518</a></td>   <td>5</td><td>1</td><td>0</td></tr>\n",
              "<tr><td><a href=\"documents/20980520.html\">20980520</a></td>   <td>9</td><td>3</td><td>0</td></tr>\n",
              "<tr><td><a href=\"documents/20980521.html\">20980521</a></td>   <td>18</td><td>13</td><td>0</td></tr>\n",
              "<tr><td><a href=\"documents/20980523.html\">20980523</a></td>   <td>11</td><td>7</td><td>0</td></tr>\n",
              "<tr><td><a href=\"documents/20980524.html\">20980524</a></td>   <td>12</td><td>10</td><td>5</td></tr>\n",
              "<tr><td><a href=\"documents/20980525.html\">20980525</a></td>   <td>2</td><td>2</td><td>0</td></tr>\n",
              "<tr><td><a href=\"documents/21029103.html\">21029103</a></td>   <td>6</td><td>0</td><td>0</td></tr>\n",
              "<tr><td><a href=\"documents/21029104.html\">21029104</a></td>   <td>2</td><td>2</td><td>0</td></tr>\n",
              "<tr><td><a href=\"documents/21029117.html\">21029117</a></td>   <td>2</td><td>0</td><td>0</td></tr>\n",
              "<tr><td><a href=\"documents/21029232.html\">21029232</a></td>   <td>6</td><td>0</td><td>0</td></tr>\n",
              "<tr><td><a href=\"documents/21029749.html\">21029749</a></td>   <td>11</td><td>1</td><td>1</td></tr>\n",
              "<tr><td><a href=\"documents/21029750.html\">21029750</a></td>   <td>14</td><td>8</td><td>4</td></tr>\n",
              "<tr><td><a href=\"documents/21029751.html\">21029751</a></td>   <td>13</td><td>1</td><td>0</td></tr>\n",
              "<tr><td><a href=\"documents/21029752.html\">21029752</a></td>   <td>3</td><td>3</td><td>0</td></tr>\n",
              "<tr><td><a href=\"documents/21034772.html\">21034772</a></td>   <td>12</td><td>1</td><td>0</td></tr>\n",
              "<tr><td><a href=\"documents/21034774.html\">21034774</a></td>   <td>5</td><td>1</td><td>0</td></tr>\n",
              "<tr><td><a href=\"documents/21034775.html\">21034775</a></td>   <td>9</td><td>5</td><td>2</td></tr>\n",
              "<tr><td><a href=\"documents/21034776.html\">21034776</a></td>   <td>5</td><td>2</td><td>1</td></tr>\n",
              "<tr><td><a href=\"documents/21036992.html\">21036992</a></td>   <td>4</td><td>2</td><td>0</td></tr>\n",
              "<tr><td><a href=\"documents/21036993.html\">21036993</a></td>   <td>0</td><td>0</td><td>0</td></tr>\n",
              "<tr><td><a href=\"documents/21036994.html\">21036994</a></td>   <td>1</td><td>2</td><td>0</td></tr>\n",
              "<tr><td><a href=\"documents/21036997.html\">21036997</a></td>   <td>2</td><td>1</td><td>1</td></tr>\n",
              "<tr><td><a href=\"documents/21037000.html\">21037000</a></td>   <td>0</td><td>0</td><td>0</td></tr>\n",
              "<tr><td><a href=\"documents/21037002.html\">21037002</a></td>   <td>4</td><td>0</td><td>0</td></tr>\n",
              "<tr><td><a href=\"documents/21037006.html\">21037006</a></td>   <td>4</td><td>1</td><td>1</td></tr>\n",
              "<tr><td><a href=\"documents/21037007.html\">21037007</a></td>   <td>2</td><td>0</td><td>0</td></tr>\n",
              "<tr><td><a href=\"documents/21037011.html\">21037011</a></td>   <td>3</td><td>1</td><td>1</td></tr>\n",
              "<tr><td><a href=\"documents/21037013.html\">21037013</a></td>   <td>5</td><td>0</td><td>0</td></tr>\n",
              "<tr><td><a href=\"documents/21037014.html\">21037014</a></td>   <td>1</td><td>1</td><td>0</td></tr>\n",
              "<tr><td><a href=\"documents/21037015.html\">21037015</a></td>   <td>3</td><td>0</td><td>0</td></tr>\n",
              "<tr><td><a href=\"documents/21039479.html\">21039479</a></td>   <td>3</td><td>0</td><td>0</td></tr>\n",
              "<tr><td><a href=\"documents/21039558.html\">21039558</a></td>   <td>3</td><td>0</td><td>0</td></tr>\n",
              "<tr><td><a href=\"documents/21039559.html\">21039559</a></td>   <td>15</td><td>5</td><td>0</td></tr>\n",
              "<tr><td><a href=\"documents/21039560.html\">21039560</a></td>   <td>6</td><td>2</td><td>0</td></tr>\n",
              "<tr><td><a href=\"documents/21039562.html\">21039562</a></td>   <td>4</td><td>0</td><td>0</td></tr>\n",
              "<tr><td><a href=\"documents/21039563.html\">21039563</a></td>   <td>0</td><td>0</td><td>0</td></tr>\n",
              "<tr><td><a href=\"documents/21039564.html\">21039564</a></td>   <td>5</td><td>1</td><td>1</td></tr>\n",
              "<tr><td><a href=\"documents/21039565.html\">21039565</a></td>   <td>6</td><td>1</td><td>0</td></tr>\n",
              "<tr><td><a href=\"documents/21039566.html\">21039566</a></td>   <td>3</td><td>1</td><td>0</td></tr>\n",
              "<tr><td><a href=\"documents/21039568.html\">21039568</a></td>   <td>7</td><td>4</td><td>0</td></tr>\n",
              "<tr><td><a href=\"documents/21039570.html\">21039570</a></td>   <td>4</td><td>1</td><td>0</td></tr>\n",
              "<tr><td><a href=\"documents/21039609.html\">21039609</a></td>   <td>0</td><td>0</td><td>0</td></tr>\n",
              "<tr><td><a href=\"documents/21047954.html\">21047954</a></td>   <td>2</td><td>7</td><td>0</td></tr>\n",
              "<tr><td><a href=\"documents/21047956.html\">21047956</a></td>   <td>5</td><td>2</td><td>0</td></tr>\n",
              "<tr><td><a href=\"documents/21047958.html\">21047958</a></td>   <td>5</td><td>2</td><td>0</td></tr>\n",
              "<tr><td><a href=\"documents/21054380.html\">21054380</a></td>   <td>0</td><td>0</td><td>0</td></tr>\n",
              "<tr><td><a href=\"documents/21054381.html\">21054381</a></td>   <td>6</td><td>0</td><td>0</td></tr>\n",
              "<tr><td><a href=\"documents/21054410.html\">21054410</a></td>   <td>5</td><td>1</td><td>0</td></tr>\n",
              "<tr><td><a href=\"documents/21054436.html\">21054436</a></td>   <td>2</td><td>0</td><td>0</td></tr>\n",
              "<tr><td><a href=\"documents/21054437.html\">21054437</a></td>   <td>2</td><td>0</td><td>0</td></tr>\n",
              "<tr><td><a href=\"documents/21054438.html\">21054438</a></td>   <td>0</td><td>3</td><td>0</td></tr>\n",
              "<tr><td><a href=\"documents/21057007.html\">21057007</a></td>   <td>2</td><td>0</td><td>0</td></tr>\n",
              "<tr><td><a href=\"documents/21057009.html\">21057009</a></td>   <td>1</td><td>3</td><td>0</td></tr>\n",
              "<tr><td><a href=\"documents/21057010.html\">21057010</a></td>   <td>6</td><td>5</td><td>0</td></tr>\n",
              "<tr><td><a href=\"documents/21062316.html\">21062316</a></td>   <td>3</td><td>1</td><td>0</td></tr>\n",
              "<tr><td><a href=\"documents/21062318.html\">21062318</a></td>   <td>2</td><td>1</td><td>0</td></tr>\n",
              "<tr><td><a href=\"documents/21062319.html\">21062319</a></td>   <td>0</td><td>0</td><td>0</td></tr>\n",
              "<tr><td><a href=\"documents/21062320.html\">21062320</a></td>   <td>0</td><td>0</td><td>0</td></tr>\n",
              "<tr><td><a href=\"documents/21067973.html\">21067973</a></td>   <td>0</td><td>2</td><td>0</td></tr>\n",
              "<tr><td><a href=\"documents/21070858.html\">21070858</a></td>   <td>2</td><td>0</td><td>0</td></tr>\n",
              "<tr><td><a href=\"documents/21071191.html\">21071191</a></td>   <td>3</td><td>0</td><td>0</td></tr>\n",
              "<tr><td><a href=\"documents/21073454.html\">21073454</a></td>   <td>0</td><td>0</td><td>0</td></tr>\n",
              "<tr><td><a href=\"documents/21073455.html\">21073455</a></td>   <td>4</td><td>1</td><td>0</td></tr>\n",
              "<tr><td><a href=\"documents/21073976.html\">21073976</a></td>   <td>2</td><td>3</td><td>0</td></tr>\n",
              "<tr><td><a href=\"documents/21073977.html\">21073977</a></td>   <td>8</td><td>1</td><td>0</td></tr>\n",
              "<tr><td><a href=\"documents/21074256.html\">21074256</a></td>   <td>0</td><td>0</td><td>0</td></tr>\n",
              "<tr><td><a href=\"documents/21074391.html\">21074391</a></td>   <td>1</td><td>0</td><td>0</td></tr>\n",
              "<tr><td><a href=\"documents/21075922.html\">21075922</a></td>   <td>2</td><td>0</td><td>0</td></tr>\n",
              "<tr><td><a href=\"documents/21075924.html\">21075924</a></td>   <td>11</td><td>0</td><td>0</td></tr>\n",
              "<tr><td><a href=\"documents/21075925.html\">21075925</a></td>   <td>2</td><td>0</td><td>0</td></tr>\n",
              "<tr><td><a href=\"documents/21075927.html\">21075927</a></td>   <td>3</td><td>1</td><td>0</td></tr>\n",
              "<tr><td><a href=\"documents/21075929.html\">21075929</a></td>   <td>2</td><td>0</td><td>0</td></tr>\n",
              "<tr><td><a href=\"documents/21083871.html\">21083871</a></td>   <td>3</td><td>0</td><td>0</td></tr>\n",
              "<tr><td><a href=\"documents/21084112.html\">21084112</a></td>   <td>6</td><td>3</td><td>2</td></tr>\n",
              "<tr><td><a href=\"documents/21087459.html\">21087459</a></td>   <td>0</td><td>1</td><td>0</td></tr>\n",
              "<tr><td><a href=\"documents/21091811.html\">21091811</a></td>   <td>7</td><td>1</td><td>1</td></tr>\n",
              "<tr><td><a href=\"documents/21093904.html\">21093904</a></td>   <td>0</td><td>2</td><td>2</td></tr>\n",
              "<tr><td><a href=\"documents/21094264.html\">21094264</a></td>   <td>4</td><td>1</td><td>0</td></tr>\n",
              "<tr><td><a href=\"documents/21097609.html\">21097609</a></td>   <td>4</td><td>1</td><td>0</td></tr>\n",
              "<tr><td><a href=\"documents/21097612.html\">21097612</a></td>   <td>3</td><td>0</td><td>0</td></tr>\n",
              "<tr><td><a href=\"documents/21097613.html\">21097613</a></td>   <td>3</td><td>0</td><td>0</td></tr>\n",
              "<tr><td><a href=\"documents/21097616.html\">21097616</a></td>   <td>1</td><td>0</td><td>0</td></tr>\n",
              "<tr><td><a href=\"documents/21097618.html\">21097618</a></td>   <td>2</td><td>1</td><td>0</td></tr>\n",
              "<tr><td><a href=\"documents/21097623.html\">21097623</a></td>   <td>3</td><td>0</td><td>0</td></tr>\n",
              "<tr><td><a href=\"documents/21097625.html\">21097625</a></td>   <td>3</td><td>0</td><td>0</td></tr>\n",
              "<tr><td><a href=\"documents/21097626.html\">21097626</a></td>   <td>6</td><td>1</td><td>0</td></tr>\n",
              "<tr><td><a href=\"documents/21097627.html\">21097627</a></td>   <td>4</td><td>0</td><td>0</td></tr>\n",
              "<tr><td><a href=\"documents/21097629.html\">21097629</a></td>   <td>11</td><td>2</td><td>0</td></tr>\n",
              "<tr><td><a href=\"documents/21097630.html\">21097630</a></td>   <td>0</td><td>0</td><td>0</td></tr>\n",
              "<tr><td><a href=\"documents/21097631.html\">21097631</a></td>   <td>3</td><td>0</td><td>0</td></tr>\n",
              "<tr><td><a href=\"documents/21097632.html\">21097632</a></td>   <td>4</td><td>0</td><td>0</td></tr>\n",
              "<tr><td><a href=\"documents/21097633.html\">21097633</a></td>   <td>3</td><td>1</td><td>0</td></tr>\n",
              "<tr><td><a href=\"documents/21097634.html\">21097634</a></td>   <td>2</td><td>0</td><td>0</td></tr>\n",
              "<tr><td><a href=\"documents/21109013.html\">21109013</a></td>   <td>3</td><td>0</td><td>0</td></tr>\n",
              "<tr><td><a href=\"documents/21109491.html\">21109491</a></td>   <td>0</td><td>0</td><td>0</td></tr>\n",
              "<tr><td><a href=\"documents/21111055.html\">21111055</a></td>   <td>8</td><td>1</td><td>0</td></tr>\n",
              "<tr><td><a href=\"documents/21112814.html\">21112814</a></td>   <td>10</td><td>1</td><td>0</td></tr>\n",
              "<tr><td><a href=\"documents/21114562.html\">21114562</a></td>   <td>4</td><td>0</td><td>0</td></tr>\n",
              "<tr><td><a href=\"documents/21115656.html\">21115656</a></td>   <td>2</td><td>0</td><td>0</td></tr>\n",
              "<tr><td><a href=\"documents/21115657.html\">21115657</a></td>   <td>5</td><td>0</td><td>0</td></tr>\n",
              "<tr><td><a href=\"documents/21118200.html\">21118200</a></td>   <td>1</td><td>0</td><td>0</td></tr>\n",
              "<tr><td><a href=\"documents/21118326.html\">21118326</a></td>   <td>7</td><td>1</td><td>0</td></tr>\n",
              "<tr><td><a href=\"documents/21118421.html\">21118421</a></td>   <td>5</td><td>0</td><td>0</td></tr>\n",
              "<tr><td><a href=\"documents/21118422.html\">21118422</a></td>   <td>1</td><td>0</td><td>0</td></tr>\n",
              "<tr><td><a href=\"documents/21118423.html\">21118423</a></td>   <td>1</td><td>0</td><td>0</td></tr>\n",
              "<tr><td><a href=\"documents/21118424.html\">21118424</a></td>   <td>0</td><td>0</td><td>0</td></tr>\n",
              "<tr><td><a href=\"documents/21130034.html\">21130034</a></td>   <td>0</td><td>0</td><td>0</td></tr>\n",
              "<tr><td><a href=\"documents/21131484.html\">21131484</a></td>   <td>0</td><td>0</td><td>0</td></tr>\n",
              "<tr><td><a href=\"documents/21131485.html\">21131485</a></td>   <td>6</td><td>1</td><td>0</td></tr>\n",
              "<tr><td><a href=\"documents/21131488.html\">21131488</a></td>   <td>17</td><td>1</td><td>0</td></tr>\n",
              "<tr><td><a href=\"documents/21131490.html\">21131490</a></td>   <td>2</td><td>0</td><td>0</td></tr>\n",
              "<tr><td><a href=\"documents/21131491.html\">21131491</a></td>   <td>2</td><td>0</td><td>0</td></tr>\n",
              "<tr><td><a href=\"documents/21131496.html\">21131496</a></td>   <td>15</td><td>0</td><td>0</td></tr>\n",
              "<tr><td><a href=\"documents/21131497.html\">21131497</a></td>   <td>6</td><td>1</td><td>0</td></tr>\n",
              "<tr><td><a href=\"documents/21134480.html\">21134480</a></td>   <td>3</td><td>1</td><td>0</td></tr>\n",
              "<tr><td><a href=\"documents/21145409.html\">21145409</a></td>   <td>12</td><td>0</td><td>0</td></tr>\n",
              "<tr><td><a href=\"documents/21146624.html\">21146624</a></td>   <td>6</td><td>0</td><td>0</td></tr>\n",
              "<tr><td><a href=\"documents/21147032.html\">21147032</a></td>   <td>0</td><td>2</td><td>2</td></tr>\n",
              "<tr><td><a href=\"documents/21147038.html\">21147038</a></td>   <td>1</td><td>1</td><td>0</td></tr>\n",
              "<tr><td><a href=\"documents/21147039.html\">21147039</a></td>   <td>0</td><td>2</td><td>1</td></tr>\n",
              "<tr><td><a href=\"documents/21148724.html\">21148724</a></td>   <td>2</td><td>1</td><td>0</td></tr>\n",
              "<tr><td><a href=\"documents/21148727.html\">21148727</a></td>   <td>0</td><td>1</td><td>0</td></tr>\n",
              "<tr><td><a href=\"documents/21148729.html\">21148729</a></td>   <td>1</td><td>0</td><td>0</td></tr>\n",
              "<tr><td><a href=\"documents/21148730.html\">21148730</a></td>   <td>6</td><td>2</td><td>0</td></tr>\n",
              "<tr><td><a href=\"documents/21148732.html\">21148732</a></td>   <td>10</td><td>0</td><td>0</td></tr>\n",
              "<tr><td><a href=\"documents/21148733.html\">21148733</a></td>   <td>4</td><td>0</td><td>0</td></tr>\n",
              "<tr><td><a href=\"documents/21155769.html\">21155769</a></td>   <td>1</td><td>0</td><td>0</td></tr>\n",
              "<tr><td><a href=\"documents/21155770.html\">21155770</a></td>   <td>3</td><td>0</td><td>0</td></tr>\n",
              "<tr><td><a href=\"documents/21155773.html\">21155773</a></td>   <td>0</td><td>0</td><td>0</td></tr>\n",
              "<tr><td><a href=\"documents/21163445.html\">21163445</a></td>   <td>0</td><td>10</td><td>9</td></tr>\n",
              "<tr><td><a href=\"documents/21163447.html\">21163447</a></td>   <td>0</td><td>1</td><td>1</td></tr>\n",
              "<tr><td><a href=\"documents/21163702.html\">21163702</a></td>   <td>1</td><td>4</td><td>4</td></tr>\n",
              "<tr><td><a href=\"documents/21163703.html\">21163703</a></td>   <td>0</td><td>1</td><td>1</td></tr>\n",
              "<tr><td><a href=\"documents/21166911.html\">21166911</a></td>   <td>11</td><td>0</td><td>0</td></tr>\n",
              "<tr><td><a href=\"documents/21169481.html\">21169481</a></td>   <td>6</td><td>0</td><td>0</td></tr>\n",
              "<tr><td><a href=\"documents/21169482.html\">21169482</a></td>   <td>3</td><td>1</td><td>0</td></tr>\n",
              "<tr><td><a href=\"documents/21169483.html\">21169483</a></td>   <td>8</td><td>0</td><td>0</td></tr>\n",
              "<tr><td><a href=\"documents/21169486.html\">21169486</a></td>   <td>2</td><td>1</td><td>0</td></tr>\n",
              "<tr><td><a href=\"documents/21169488.html\">21169488</a></td>   <td>5</td><td>2</td><td>2</td></tr>\n",
              "<tr><td><a href=\"documents/21176790.html\">21176790</a></td>   <td>9</td><td>0</td><td>0</td></tr>\n",
              "<tr><td><a href=\"documents/21182519.html\">21182519</a></td>   <td>1</td><td>0</td><td>0</td></tr>\n",
              "<tr><td><a href=\"documents/21182520.html\">21182520</a></td>   <td>4</td><td>1</td><td>0</td></tr>\n",
              "<tr><td><a href=\"documents/21182521.html\">21182521</a></td>   <td>0</td><td>0</td><td>0</td></tr>\n",
              "<tr><td><a href=\"documents/21182522.html\">21182522</a></td>   <td>1</td><td>0</td><td>0</td></tr>\n",
              "<tr><td><a href=\"documents/21184840.html\">21184840</a></td>   <td>3</td><td>2</td><td>0</td></tr>\n",
              "<tr><td><a href=\"documents/21185234.html\">21185234</a></td>   <td>0</td><td>8</td><td>7</td></tr>\n",
              "<tr><td><a href=\"documents/21188839.html\">21188839</a></td>   <td>0</td><td>2</td><td>1</td></tr>\n",
              "<tr><td><a href=\"documents/21195204.html\">21195204</a></td>   <td>2</td><td>0</td><td>0</td></tr>\n",
              "<tr><td><a href=\"documents/21195251.html\">21195251</a></td>   <td>0</td><td>1</td><td>1</td></tr>\n",
              "<tr><td><a href=\"documents/21198588.html\">21198588</a></td>   <td>5</td><td>0</td><td>0</td></tr>\n",
              "<tr><td><a href=\"documents/21198589.html\">21198589</a></td>   <td>21</td><td>1</td><td>0</td></tr>\n",
              "<tr><td><a href=\"documents/21198590.html\">21198590</a></td>   <td>0</td><td>0</td><td>0</td></tr>\n",
              "<tr><td><a href=\"documents/21199018.html\">21199018</a></td>   <td>18</td><td>1</td><td>0</td></tr>\n",
              "<tr><td><a href=\"documents/21199020.html\">21199020</a></td>   <td>5</td><td>1</td><td>1</td></tr>\n",
              "<tr><td><a href=\"documents/21199022.html\">21199022</a></td>   <td>1</td><td>0</td><td>0</td></tr>\n",
              "<tr><td><a href=\"documents/21215883.html\">21215883</a></td>   <td>0</td><td>1</td><td>1</td></tr>\n",
              "<tr><td><a href=\"documents/21216300.html\">21216300</a></td>   <td>3</td><td>1</td><td>0</td></tr>\n",
              "<tr><td><a href=\"documents/21219328.html\">21219328</a></td>   <td>3</td><td>0</td><td>0</td></tr>\n",
              "<tr><td><a href=\"documents/21220037.html\">21220037</a></td>   <td>4</td><td>0</td><td>0</td></tr>\n",
              "<tr><td><a href=\"documents/21227486.html\">21227486</a></td>   <td>1</td><td>0</td><td>0</td></tr>\n",
              "<tr><td><a href=\"documents/21227492.html\">21227492</a></td>   <td>1</td><td>1</td><td>1</td></tr>\n",
              "<tr><td><a href=\"documents/21227494.html\">21227494</a></td>   <td>1</td><td>6</td><td>6</td></tr>\n",
              "<tr><td><a href=\"documents/21227499.html\">21227499</a></td>   <td>4</td><td>1</td><td>0</td></tr>\n",
              "<tr><td><a href=\"documents/21239227.html\">21239227</a></td>   <td>0</td><td>0</td><td>0</td></tr>\n",
              "<tr><td><a href=\"documents/21241326.html\">21241326</a></td>   <td>3</td><td>1</td><td>0</td></tr>\n",
              "<tr><td><a href=\"documents/21241327.html\">21241327</a></td>   <td>0</td><td>0</td><td>0</td></tr>\n",
              "<tr><td><a href=\"documents/21241328.html\">21241328</a></td>   <td>2</td><td>0</td><td>0</td></tr>\n",
              "<tr><td><a href=\"documents/21241329.html\">21241329</a></td>   <td>8</td><td>0</td><td>0</td></tr>\n",
              "<tr><td><a href=\"documents/21241330.html\">21241330</a></td>   <td>3</td><td>0</td><td>0</td></tr>\n",
              "<tr><td><a href=\"documents/21244418.html\">21244418</a></td>   <td>9</td><td>0</td><td>0</td></tr>\n",
              "<tr><td><a href=\"documents/21244419.html\">21244419</a></td>   <td>5</td><td>0</td><td>0</td></tr>\n",
              "<tr><td><a href=\"documents/21244420.html\">21244420</a></td>   <td>9</td><td>0</td><td>0</td></tr>\n",
              "<tr><td><a href=\"documents/21247806.html\">21247806</a></td>   <td>0</td><td>0</td><td>0</td></tr>\n",
              "<tr><td><a href=\"documents/21250989.html\">21250989</a></td>   <td>0</td><td>0</td><td>0</td></tr>\n",
              "<tr><td><a href=\"documents/21250990.html\">21250990</a></td>   <td>0</td><td>0</td><td>0</td></tr>\n",
              "<tr><td><a href=\"documents/21250991.html\">21250991</a></td>   <td>0</td><td>0</td><td>0</td></tr>\n",
              "<tr><td><a href=\"documents/21251017.html\">21251017</a></td>   <td>0</td><td>4</td><td>0</td></tr>\n",
              "<tr><td><a href=\"documents/21256454.html\">21256454</a></td>   <td>0</td><td>4</td><td>3</td></tr>\n",
              "<tr><td><a href=\"documents/21256455.html\">21256455</a></td>   <td>0</td><td>0</td><td>0</td></tr>\n",
              "<tr><td><a href=\"documents/21269301.html\">21269301</a></td>   <td>6</td><td>1</td><td>0</td></tr>\n",
              "<tr><td><a href=\"documents/21269674.html\">21269674</a></td>   <td>2</td><td>3</td><td>2</td></tr>\n",
              "<tr><td><a href=\"documents/21269678.html\">21269678</a></td>   <td>0</td><td>4</td><td>1</td></tr>\n",
              "<tr><td><a href=\"documents/21269682.html\">21269682</a></td>   <td>1</td><td>0</td><td>0</td></tr>\n",
              "<tr><td><a href=\"documents/21269685.html\">21269685</a></td>   <td>0</td><td>0</td><td>0</td></tr>\n",
              "<tr><td><a href=\"documents/21272001.html\">21272001</a></td>   <td>7</td><td>0</td><td>0</td></tr>\n",
              "<tr><td><a href=\"documents/21272792.html\">21272792</a></td>   <td>7</td><td>0</td><td>0</td></tr>\n",
              "<tr><td><a href=\"documents/21272793.html\">21272793</a></td>   <td>0</td><td>0</td><td>0</td></tr>\n",
              "<tr><td><a href=\"documents/21272794.html\">21272794</a></td>   <td>5</td><td>13</td><td>6</td></tr>\n",
              "<tr><td><a href=\"documents/21276719.html\">21276719</a></td>   <td>0</td><td>1</td><td>0</td></tr>\n",
              "<tr><td><a href=\"documents/21276754.html\">21276754</a></td>   <td>0</td><td>1</td><td>1</td></tr>\n",
              "<tr><td><a href=\"documents/21277552.html\">21277552</a></td>   <td>0</td><td>1</td><td>1</td></tr>\n",
              "<tr><td><a href=\"documents/21277756.html\">21277756</a></td>   <td>2</td><td>0</td><td>0</td></tr>\n",
              "<tr><td><a href=\"documents/21277986.html\">21277986</a></td>   <td>5</td><td>1</td><td>0</td></tr>\n",
              "<tr><td><a href=\"documents/21281727.html\">21281727</a></td>   <td>10</td><td>4</td><td>0</td></tr>\n",
              "<tr><td><a href=\"documents/21282046.html\">21282046</a></td>   <td>3</td><td>1</td><td>0</td></tr>\n",
              "<tr><td><a href=\"documents/21284624.html\">21284624</a></td>   <td>3</td><td>1</td><td>0</td></tr>\n",
              "<tr><td><a href=\"documents/21295519.html\">21295519</a></td>   <td>6</td><td>0</td><td>0</td></tr>\n",
              "<tr><td><a href=\"documents/21296405.html\">21296405</a></td>   <td>1</td><td>1</td><td>1</td></tr>\n",
              "<tr><td><a href=\"documents/21316301.html\">21316301</a></td>   <td>2</td><td>0</td><td>0</td></tr>\n",
              "<tr><td><a href=\"documents/21320625.html\">21320625</a></td>   <td>3</td><td>2</td><td>0</td></tr>\n",
              "<tr><td><a href=\"documents/21323920.html\">21323920</a></td>   <td>0</td><td>0</td><td>0</td></tr>\n",
              "<tr><td><a href=\"documents/21323921.html\">21323921</a></td>   <td>0</td><td>0</td><td>0</td></tr>\n",
              "<tr><td><a href=\"documents/21323923.html\">21323923</a></td>   <td>2</td><td>0</td><td>0</td></tr>\n",
              "<tr><td><a href=\"documents/21333593.html\">21333593</a></td>   <td>8</td><td>1</td><td>0</td></tr>\n",
              "<tr><td><a href=\"documents/21338353.html\">21338353</a></td>   <td>3</td><td>0</td><td>0</td></tr>\n",
              "<tr><td><a href=\"documents/21349121.html\">21349121</a></td>   <td>1</td><td>1</td><td>0</td></tr>\n",
              "<tr><td><a href=\"documents/21349441.html\">21349441</a></td>   <td>0</td><td>3</td><td>2</td></tr>\n",
              "<tr><td><a href=\"documents/21349442.html\">21349442</a></td>   <td>1</td><td>0</td><td>0</td></tr>\n",
              "<tr><td><a href=\"documents/21349577.html\">21349577</a></td>   <td>0</td><td>1</td><td>1</td></tr>\n",
              "<tr><td><a href=\"documents/21349764.html\">21349764</a></td>   <td>5</td><td>0</td><td>0</td></tr>\n",
              "<tr><td><a href=\"documents/21349766.html\">21349766</a></td>   <td>0</td><td>2</td><td>2</td></tr>\n",
              "<tr><td><a href=\"documents/21353502.html\">21353502</a></td>   <td>2</td><td>0</td><td>0</td></tr>\n",
              "<tr><td><a href=\"documents/21354373.html\">21354373</a></td>   <td>0</td><td>1</td><td>1</td></tr>\n",
              "<tr><td><a href=\"documents/21361929.html\">21361929</a></td>   <td>1</td><td>0</td><td>0</td></tr>\n",
              "<tr><td><a href=\"documents/21362491.html\">21362491</a></td>   <td>1</td><td>0</td><td>0</td></tr>\n",
              "<tr><td><a href=\"documents/21362493.html\">21362493</a></td>   <td>2</td><td>2</td><td>0</td></tr>\n",
              "<tr><td><a href=\"documents/21366562.html\">21366562</a></td>   <td>2</td><td>0</td><td>0</td></tr>\n",
              "<tr><td><a href=\"documents/21366563.html\">21366563</a></td>   <td>4</td><td>0</td><td>0</td></tr>\n",
              "<tr><td><a href=\"documents/21366565.html\">21366565</a></td>   <td>0</td><td>0</td><td>0</td></tr>\n",
              "<tr><td><a href=\"documents/21371655.html\">21371655</a></td>   <td>6</td><td>1</td><td>1</td></tr>\n",
              "<tr><td><a href=\"documents/21371656.html\">21371656</a></td>   <td>1</td><td>13</td><td>2</td></tr>\n",
              "<tr><td><a href=\"documents/21371657.html\">21371657</a></td>   <td>0</td><td>0</td><td>0</td></tr>\n",
              "<tr><td><a href=\"documents/21371658.html\">21371658</a></td>   <td>0</td><td>6</td><td>5</td></tr>\n",
              "<tr><td><a href=\"documents/21371747.html\">21371747</a></td>   <td>0</td><td>1</td><td>1</td></tr>\n",
              "<tr><td><a href=\"documents/21376291.html\">21376291</a></td>   <td>0</td><td>5</td><td>4</td></tr>\n",
              "<tr><td><a href=\"documents/21376292.html\">21376292</a></td>   <td>0</td><td>5</td><td>5</td></tr>\n",
              "<tr><td><a href=\"documents/21376670.html\">21376670</a></td>   <td>1</td><td>1</td><td>0</td></tr>\n",
              "<tr><td><a href=\"documents/21377422.html\">21377422</a></td>   <td>2</td><td>0</td><td>0</td></tr>\n",
              "<tr><td><a href=\"documents/21382108.html\">21382108</a></td>   <td>9</td><td>0</td><td>0</td></tr>\n",
              "<tr><td><a href=\"documents/21382109.html\">21382109</a></td>   <td>4</td><td>0</td><td>0</td></tr>\n",
              "<tr><td><a href=\"documents/21388371.html\">21388371</a></td>   <td>1</td><td>0</td><td>0</td></tr>\n",
              "<tr><td><a href=\"documents/21388372.html\">21388372</a></td>   <td>0</td><td>0</td><td>0</td></tr>\n",
              "<tr><td><a href=\"documents/21396477.html\">21396477</a></td>   <td>8</td><td>1</td><td>0</td></tr>\n",
              "<tr><td><a href=\"documents/21397320.html\">21397320</a></td>   <td>0</td><td>4</td><td>4</td></tr>\n",
              "<tr><td><a href=\"documents/21397475.html\">21397475</a></td>   <td>0</td><td>0</td><td>0</td></tr>\n",
              "<tr><td><a href=\"documents/21401589.html\">21401589</a></td>   <td>0</td><td>0</td><td>0</td></tr>\n",
              "<tr><td><a href=\"documents/21401590.html\">21401590</a></td>   <td>0</td><td>0</td><td>0</td></tr>\n",
              "<tr><td><a href=\"documents/21401591.html\">21401591</a></td>   <td>0</td><td>0</td><td>0</td></tr>\n",
              "<tr><td><a href=\"documents/21410804.html\">21410804</a></td>   <td>5</td><td>0</td><td>0</td></tr>\n",
              "<tr><td><a href=\"documents/21418209.html\">21418209</a></td>   <td>3</td><td>0</td><td>0</td></tr>\n",
              "<tr><td><a href=\"documents/21418210.html\">21418210</a></td>   <td>2</td><td>0</td><td>0</td></tr>\n",
              "<tr><td><a href=\"documents/21418211.html\">21418211</a></td>   <td>1</td><td>1</td><td>1</td></tr>\n",
              "<tr><td><a href=\"documents/21419234.html\">21419234</a></td>   <td>3</td><td>0</td><td>0</td></tr>\n",
              "<tr><td><a href=\"documents/21420357.html\">21420357</a></td>   <td>0</td><td>0</td><td>0</td></tr>\n",
              "<tr><td><a href=\"documents/21420905.html\">21420905</a></td>   <td>4</td><td>1</td><td>0</td></tr>\n",
              "<tr><td><a href=\"documents/21426342.html\">21426342</a></td>   <td>21</td><td>4</td><td>0</td></tr>\n",
              "<tr><td><a href=\"documents/21426343.html\">21426343</a></td>   <td>3</td><td>0</td><td>0</td></tr>\n",
              "<tr><td><a href=\"documents/21426344.html\">21426344</a></td>   <td>5</td><td>0</td><td>0</td></tr>\n",
              "<tr><td><a href=\"documents/21429718.html\">21429718</a></td>   <td>3</td><td>0</td><td>0</td></tr>\n",
              "<tr><td><a href=\"documents/21429803.html\">21429803</a></td>   <td>7</td><td>3</td><td>3</td></tr>\n",
              "<tr><td><a href=\"documents/21435062.html\">21435062</a></td>   <td>4</td><td>0</td><td>0</td></tr>\n",
              "<tr><td><a href=\"documents/21435601.html\">21435601</a></td>   <td>0</td><td>1</td><td>1</td></tr>\n",
              "<tr><td><a href=\"documents/21435708.html\">21435708</a></td>   <td>3</td><td>14</td><td>4</td></tr>\n",
              "<tr><td><a href=\"documents/21441069.html\">21441069</a></td>   <td>0</td><td>2</td><td>2</td></tr>\n",
              "<tr><td><a href=\"documents/21453780.html\">21453780</a></td>   <td>2</td><td>0</td><td>0</td></tr>\n",
              "<tr><td><a href=\"documents/21453871.html\">21453871</a></td>   <td>0</td><td>1</td><td>1</td></tr>\n",
              "<tr><td><a href=\"documents/21453872.html\">21453872</a></td>   <td>0</td><td>1</td><td>0</td></tr>\n",
              "<tr><td><a href=\"documents/21453873.html\">21453873</a></td>   <td>0</td><td>0</td><td>0</td></tr>\n",
              "<tr><td><a href=\"documents/21453963.html\">21453963</a></td>   <td>0</td><td>1</td><td>1</td></tr>\n",
              "<tr><td><a href=\"documents/21463300.html\">21463300</a></td>   <td>8</td><td>2</td><td>0</td></tr>\n",
              "<tr><td><a href=\"documents/21466552.html\">21466552</a></td>   <td>0</td><td>1</td><td>0</td></tr>\n",
              "<tr><td><a href=\"documents/21474379.html\">21474379</a></td>   <td>0</td><td>4</td><td>4</td></tr>\n",
              "<tr><td><a href=\"documents/21477200.html\">21477200</a></td>   <td>8</td><td>1</td><td>0</td></tr>\n",
              "<tr><td><a href=\"documents/21477201.html\">21477201</a></td>   <td>8</td><td>4</td><td>4</td></tr>\n",
              "<tr><td><a href=\"documents/21481448.html\">21481448</a></td>   <td>0</td><td>0</td><td>0</td></tr>\n",
              "<tr><td><a href=\"documents/21488872.html\">21488872</a></td>   <td>3</td><td>1</td><td>0</td></tr>\n",
              "<tr><td><a href=\"documents/21496127.html\">21496127</a></td>   <td>4</td><td>6</td><td>0</td></tr>\n",
              "<tr><td><a href=\"documents/21496128.html\">21496128</a></td>   <td>8</td><td>2</td><td>0</td></tr>\n",
              "<tr><td><a href=\"documents/21496907.html\">21496907</a></td>   <td>0</td><td>2</td><td>2</td></tr>\n",
              "<tr><td><a href=\"documents/21496911.html\">21496911</a></td>   <td>0</td><td>3</td><td>1</td></tr>\n",
              "<tr><td><a href=\"documents/21496912.html\">21496912</a></td>   <td>0</td><td>0</td><td>0</td></tr>\n",
              "<tr><td><a href=\"documents/21496915.html\">21496915</a></td>   <td>0</td><td>0</td><td>0</td></tr>\n",
              "<tr><td><a href=\"documents/21497073.html\">21497073</a></td>   <td>4</td><td>0</td><td>0</td></tr>\n",
              "<tr><td><a href=\"documents/21497131.html\">21497131</a></td>   <td>3</td><td>0</td><td>0</td></tr>\n",
              "<tr><td><a href=\"documents/21497133.html\">21497133</a></td>   <td>7</td><td>0</td><td>0</td></tr>\n",
              "<tr><td><a href=\"documents/21498115.html\">21498115</a></td>   <td>0</td><td>4</td><td>4</td></tr>\n",
              "<tr><td><a href=\"documents/21511047.html\">21511047</a></td>   <td>5</td><td>0</td><td>0</td></tr>\n",
              "<tr><td><a href=\"documents/21511198.html\">21511198</a></td>   <td>0</td><td>1</td><td>1</td></tr>\n",
              "<tr><td><a href=\"documents/21511199.html\">21511199</a></td>   <td>0</td><td>1</td><td>1</td></tr>\n",
              "<tr><td><a href=\"documents/21511200.html\">21511200</a></td>   <td>0</td><td>2</td><td>2</td></tr>\n",
              "<tr><td><a href=\"documents/21511329.html\">21511329</a></td>   <td>13</td><td>4</td><td>1</td></tr>\n",
              "<tr><td><a href=\"documents/21514396.html\">21514396</a></td>   <td>20</td><td>3</td><td>0</td></tr>\n",
              "<tr><td><a href=\"documents/21517842.html\">21517842</a></td>   <td>3</td><td>0</td><td>0</td></tr>\n",
              "<tr><td><a href=\"documents/21521136.html\">21521136</a></td>   <td>20</td><td>0</td><td>0</td></tr>\n",
              "<tr><td><a href=\"documents/21521137.html\">21521137</a></td>   <td>4</td><td>0</td><td>0</td></tr>\n",
              "<tr><td><a href=\"documents/21521139.html\">21521139</a></td>   <td>9</td><td>0</td><td>0</td></tr>\n",
              "<tr><td><a href=\"documents/21521140.html\">21521140</a></td>   <td>1</td><td>0</td><td>0</td></tr>\n",
              "<tr><td><a href=\"documents/21521143.html\">21521143</a></td>   <td>8</td><td>1</td><td>0</td></tr>\n",
              "<tr><td><a href=\"documents/21521144.html\">21521144</a></td>   <td>2</td><td>0</td><td>0</td></tr>\n",
              "<tr><td><a href=\"documents/21521145.html\">21521145</a></td>   <td>12</td><td>3</td><td>0</td></tr>\n",
              "<tr><td><a href=\"documents/21521214.html\">21521214</a></td>   <td>2</td><td>1</td><td>0</td></tr>\n",
              "<tr><td><a href=\"documents/21521215.html\">21521215</a></td>   <td>2</td><td>1</td><td>1</td></tr>\n",
              "<tr><td><a href=\"documents/21526926.html\">21526926</a></td>   <td>0</td><td>1</td><td>0</td></tr>\n",
              "<tr><td><a href=\"documents/21526928.html\">21526928</a></td>   <td>0</td><td>0</td><td>0</td></tr>\n",
              "<tr><td><a href=\"documents/21526929.html\">21526929</a></td>   <td>8</td><td>0</td><td>0</td></tr>\n",
              "<tr><td><a href=\"documents/21526930.html\">21526930</a></td>   <td>12</td><td>14</td><td>6</td></tr>\n",
              "<tr><td><a href=\"documents/21526934.html\">21526934</a></td>   <td>6</td><td>5</td><td>4</td></tr>\n",
              "<tr><td><a href=\"documents/21526935.html\">21526935</a></td>   <td>35</td><td>1</td><td>1</td></tr>\n",
              "<tr><td><a href=\"documents/21529148.html\">21529148</a></td>   <td>0</td><td>0</td><td>0</td></tr>\n",
              "<tr><td><a href=\"documents/21529150.html\">21529150</a></td>   <td>3</td><td>3</td><td>0</td></tr>\n",
              "<tr><td><a href=\"documents/21529151.html\">21529151</a></td>   <td>3</td><td>0</td><td>0</td></tr>\n",
              "<tr><td><a href=\"documents/21529152.html\">21529152</a></td>   <td>0</td><td>0</td><td>0</td></tr>\n",
              "<tr><td><a href=\"documents/21565476.html\">21565476</a></td>   <td>1</td><td>1</td><td>0</td></tr>\n",
              "<tr><td><a href=\"documents/21565477.html\">21565477</a></td>   <td>7</td><td>0</td><td>0</td></tr>\n",
              "<tr><td><a href=\"documents/21570267.html\">21570267</a></td>   <td>0</td><td>0</td><td>0</td></tr>\n",
              "<tr><td><a href=\"documents/21585578.html\">21585578</a></td>   <td>1</td><td>1</td><td>0</td></tr>\n",
              "<tr><td><a href=\"documents/21600845.html\">21600845</a></td>   <td>4</td><td>0</td><td>0</td></tr>\n",
              "<tr><td><a href=\"documents/21601645.html\">21601645</a></td>   <td>2</td><td>0</td><td>0</td></tr>\n",
              "<tr><td><a href=\"documents/21602035.html\">21602035</a></td>   <td>0</td><td>0</td><td>0</td></tr>\n",
              "<tr><td><a href=\"documents/21615578.html\">21615578</a></td>   <td>5</td><td>0</td><td>0</td></tr>\n",
              "<tr><td><a href=\"documents/21632222.html\">21632222</a></td>   <td>1</td><td>0</td><td>0</td></tr>\n",
              "<tr><td><a href=\"documents/21632223.html\">21632223</a></td>   <td>2</td><td>0</td><td>0</td></tr>\n",
              "<tr><td><a href=\"documents/21641779.html\">21641779</a></td>   <td>5</td><td>0</td><td>0</td></tr>\n",
              "<tr><td><a href=\"documents/21641780.html\">21641780</a></td>   <td>0</td><td>0</td><td>0</td></tr>\n",
              "<tr><td><a href=\"documents/21668550.html\">21668550</a></td>   <td>5</td><td>5</td><td>0</td></tr>\n",
              "<tr><td><a href=\"documents/21672063.html\">21672063</a></td>   <td>3</td><td>1</td><td>0</td></tr>\n",
              "<tr><td><a href=\"documents/21689183.html\">21689183</a></td>   <td>3</td><td>0</td><td>0</td></tr>\n",
              "<tr><td><a href=\"documents/21699593.html\">21699593</a></td>   <td>6</td><td>0</td><td>0</td></tr>\n",
              "<tr><td><a href=\"documents/21699594.html\">21699594</a></td>   <td>4</td><td>0</td><td>0</td></tr>\n",
              "<tr><td><a href=\"documents/21699595.html\">21699595</a></td>   <td>6</td><td>2</td><td>0</td></tr>\n",
              "<tr><td><a href=\"documents/21699597.html\">21699597</a></td>   <td>2</td><td>1</td><td>0</td></tr>\n",
              "<tr><td><a href=\"documents/21700437.html\">21700437</a></td>   <td>0</td><td>0</td><td>0</td></tr>\n",
              "<tr><td><a href=\"documents/21711401.html\">21711401</a></td>   <td>7</td><td>0</td><td>0</td></tr>\n",
              "<tr><td><a href=\"documents/21784165.html\">21784165</a></td>   <td>2</td><td>0</td><td>0</td></tr>\n",
              "<tr><td><a href=\"documents/21797944.html\">21797944</a></td>   <td>7</td><td>1</td><td>0</td></tr>\n",
              "<tr><td><a href=\"documents/21801845.html\">21801845</a></td>   <td>6</td><td>0</td><td>0</td></tr>\n",
              "<tr><td><a href=\"documents/21802913.html\">21802913</a></td>   <td>1</td><td>0</td><td>0</td></tr>\n",
              "<tr><td><a href=\"documents/21807107.html\">21807107</a></td>   <td>2</td><td>0</td><td>0</td></tr>\n",
              "<tr><td><a href=\"documents/21807108.html\">21807108</a></td>   <td>10</td><td>2</td><td>1</td></tr>\n",
              "<tr><td><a href=\"documents/21815956.html\">21815956</a></td>   <td>6</td><td>1</td><td>0</td></tr>\n",
              "<tr><td><a href=\"documents/21820070.html\">21820070</a></td>   <td>5</td><td>3</td><td>0</td></tr>\n",
              "<tr><td><a href=\"documents/21840411.html\">21840411</a></td>   <td>4</td><td>0</td><td>0</td></tr>\n",
              "<tr><td><a href=\"documents/21840412.html\">21840412</a></td>   <td>7</td><td>1</td><td>0</td></tr>\n",
              "<tr><td><a href=\"documents/21840413.html\">21840413</a></td>   <td>6</td><td>7</td><td>2</td></tr>\n",
              "<tr><td><a href=\"documents/21889597.html\">21889597</a></td>   <td>3</td><td>0</td><td>0</td></tr>\n",
              "<tr><td><a href=\"documents/21895817.html\">21895817</a></td>   <td>2</td><td>0</td><td>0</td></tr>\n",
              "<tr><td><a href=\"documents/21895819.html\">21895819</a></td>   <td>0</td><td>0</td><td>0</td></tr>\n",
              "<tr><td><a href=\"documents/21907298.html\">21907298</a></td>   <td>18</td><td>1</td><td>0</td></tr>\n",
              "<tr><td><a href=\"documents/21907818.html\">21907818</a></td>   <td>4</td><td>0</td><td>0</td></tr>\n",
              "<tr><td><a href=\"documents/21929695.html\">21929695</a></td>   <td>10</td><td>1</td><td>0</td></tr>\n",
              "<tr><td><a href=\"documents/21945996.html\">21945996</a></td>   <td>4</td><td>4</td><td>0</td></tr>\n",
              "<tr><td><a href=\"documents/22001287.html\">22001287</a></td>   <td>4</td><td>0</td><td>0</td></tr>\n",
              "<tr><td><a href=\"documents/22008745.html\">22008745</a></td>   <td>4</td><td>0</td><td>0</td></tr>\n",
              "<tr><td><a href=\"documents/22056520.html\">22056520</a></td>   <td>4</td><td>0</td><td>0</td></tr>\n",
              "<tr><td><a href=\"documents/22056521.html\">22056521</a></td>   <td>6</td><td>2</td><td>0</td></tr>\n",
              "<tr><td><a href=\"documents/22056522.html\">22056522</a></td>   <td>5</td><td>3</td><td>1</td></tr>\n",
              "<tr><td><a href=\"documents/22182605.html\">22182605</a></td>   <td>7</td><td>0</td><td>0</td></tr>\n",
              "<tr><td><a href=\"documents/22182606.html\">22182606</a></td>   <td>11</td><td>10</td><td>0</td></tr>\n",
              "<tr><td><a href=\"documents/22182610.html\">22182610</a></td>   <td>12</td><td>2</td><td>0</td></tr>\n",
              "<tr><td><a href=\"documents/22182611.html\">22182611</a></td>   <td>16</td><td>3</td><td>0</td></tr>\n",
              "<tr><td><a href=\"documents/22182614.html\">22182614</a></td>   <td>5</td><td>4</td><td>2</td></tr>\n",
              "<tr><td><a href=\"documents/22182615.html\">22182615</a></td>   <td>3</td><td>0</td><td>0</td></tr>\n",
              "<tr><td><a href=\"documents/22182617.html\">22182617</a></td>   <td>11</td><td>0</td><td>0</td></tr>\n",
              "<tr><td><a href=\"documents/22182620.html\">22182620</a></td>   <td>5</td><td>3</td><td>0</td></tr>\n",
              "<tr><td><a href=\"documents/22182621.html\">22182621</a></td>   <td>2</td><td>2</td><td>0</td></tr>\n",
              "<tr><td><a href=\"documents/22182622.html\">22182622</a></td>   <td>5</td><td>0</td><td>0</td></tr>\n",
              "<tr><td><a href=\"documents/22182623.html\">22182623</a></td>   <td>22</td><td>3</td><td>0</td></tr>\n",
              "<tr><td><a href=\"documents/20139281.html\">20139281</a></td>   <td>6</td><td>0</td><td>0</td></tr>\n",
              "<tr><td><a href=\"documents/20139284.html\">20139284</a></td>   <td>10</td><td>2</td><td>2</td></tr>\n",
              "<tr><td><a href=\"documents/20173003.html\">20173003</a></td>   <td>9</td><td>0</td><td>0</td></tr>\n",
              "<tr><td><a href=\"documents/20173005.html\">20173005</a></td>   <td>19</td><td>1</td><td>0</td></tr>\n",
              "<tr><td><a href=\"documents/20173009.html\">20173009</a></td>   <td>17</td><td>0</td><td>0</td></tr>\n",
              "<tr><td><a href=\"documents/20599424.html\">20599424</a></td>   <td>0</td><td>2</td><td>2</td></tr>\n",
              "<tr><td><a href=\"documents/20619737.html\">20619737</a></td>   <td>0</td><td>3</td><td>3</td></tr>\n",
              "<tr><td><a href=\"documents/20643580.html\">20643580</a></td>   <td>5</td><td>0</td><td>0</td></tr>\n",
              "<tr><td><a href=\"documents/20650682.html\">20650682</a></td>   <td>2</td><td>0</td><td>0</td></tr>\n",
              "<tr><td><a href=\"documents/20692868.html\">20692868</a></td>   <td>0</td><td>1</td><td>0</td></tr>\n",
              "<tr><td><a href=\"documents/20702136.html\">20702136</a></td>   <td>0</td><td>0</td><td>0</td></tr>\n",
              "<tr><td><a href=\"documents/20708960.html\">20708960</a></td>   <td>1</td><td>0</td><td>0</td></tr>\n",
              "<tr><td><a href=\"documents/20719251.html\">20719251</a></td>   <td>3</td><td>1</td><td>0</td></tr>\n",
              "<tr><td><a href=\"documents/20796205.html\">20796205</a></td>   <td>4</td><td>0</td><td>0</td></tr>\n",
              "<tr><td><a href=\"documents/20796206.html\">20796206</a></td>   <td>8</td><td>8</td><td>0</td></tr>\n",
              "<tr><td><a href=\"documents/20817000.html\">20817000</a></td>   <td>3</td><td>2</td><td>0</td></tr>\n",
              "<tr><td><a href=\"documents/20817114.html\">20817114</a></td>   <td>8</td><td>2</td><td>0</td></tr>\n",
              "<tr><td><a href=\"documents/20819175.html\">20819175</a></td>   <td>2</td><td>0</td><td>0</td></tr>\n",
              "<tr><td><a href=\"documents/20831728.html\">20831728</a></td>   <td>0</td><td>0</td><td>0</td></tr>\n",
              "<tr><td><a href=\"documents/20840511.html\">20840511</a></td>   <td>0</td><td>1</td><td>0</td></tr>\n",
              "<tr><td><a href=\"documents/20840608.html\">20840608</a></td>   <td>1</td><td>0</td><td>0</td></tr>\n",
              "<tr><td><a href=\"documents/20840609.html\">20840609</a></td>   <td>2</td><td>0</td><td>0</td></tr>\n",
              "<tr><td><a href=\"documents/20854921.html\">20854921</a></td>   <td>2</td><td>1</td><td>0</td></tr>\n",
              "<tr><td><a href=\"documents/20880022.html\">20880022</a></td>   <td>4</td><td>0</td><td>0</td></tr>\n",
              "<tr><td><a href=\"documents/20880203.html\">20880203</a></td>   <td>7</td><td>0</td><td>0</td></tr>\n",
              "<tr><td><a href=\"documents/20880223.html\">20880223</a></td>   <td>4</td><td>3</td><td>0</td></tr>\n",
              "<tr><td><a href=\"documents/20884368.html\">20884368</a></td>   <td>2</td><td>8</td><td>0</td></tr>\n",
              "<tr><td><a href=\"documents/20933542.html\">20933542</a></td>   <td>12</td><td>5</td><td>1</td></tr>\n",
              "<tr><td><a href=\"documents/20934313.html\">20934313</a></td>   <td>0</td><td>1</td><td>0</td></tr>\n",
              "<tr><td><a href=\"documents/20935092.html\">20935092</a></td>   <td>4</td><td>0</td><td>0</td></tr>\n",
              "<tr><td><a href=\"documents/20946420.html\">20946420</a></td>   <td>10</td><td>2</td><td>0</td></tr>\n",
              "<tr><td><a href=\"documents/20946587.html\">20946587</a></td>   <td>0</td><td>1</td><td>0</td></tr>\n",
              "<tr><td><a href=\"documents/20951091.html\">20951091</a></td>   <td>1</td><td>0</td><td>0</td></tr>\n",
              "<tr><td><a href=\"documents/20951165.html\">20951165</a></td>   <td>7</td><td>22</td><td>0</td></tr>\n",
              "<tr><td><a href=\"documents/20955221.html\">20955221</a></td>   <td>1</td><td>0</td><td>0</td></tr>\n",
              "<tr><td><a href=\"documents/20958303.html\">20958303</a></td>   <td>4</td><td>0</td><td>0</td></tr>\n",
              "<tr><td><a href=\"documents/20958304.html\">20958304</a></td>   <td>0</td><td>2</td><td>0</td></tr>\n",
              "<tr><td><a href=\"documents/20958806.html\">20958806</a></td>   <td>5</td><td>0</td><td>0</td></tr>\n",
              "<tr><td><a href=\"documents/20962082.html\">20962082</a></td>   <td>20</td><td>2</td><td>0</td></tr>\n",
              "<tr><td><a href=\"documents/20962083.html\">20962083</a></td>   <td>13</td><td>8</td><td>0</td></tr>\n",
              "<tr><td><a href=\"documents/20962098.html\">20962098</a></td>   <td>26</td><td>6</td><td>0</td></tr>\n",
              "<tr><td><a href=\"documents/20962101.html\">20962101</a></td>   <td>4</td><td>5</td><td>0</td></tr>\n",
              "<tr><td><a href=\"documents/20964692.html\">20964692</a></td>   <td>2</td><td>0</td><td>0</td></tr>\n",
              "<tr><td><a href=\"documents/20970458.html\">20970458</a></td>   <td>0</td><td>3</td><td>0</td></tr>\n",
              "<tr><td><a href=\"documents/20971134.html\">20971134</a></td>   <td>13</td><td>0</td><td>0</td></tr>\n",
              "<tr><td><a href=\"documents/20971620.html\">20971620</a></td>   <td>8</td><td>0</td><td>0</td></tr>\n",
              "<tr><td><a href=\"documents/20971905.html\">20971905</a></td>   <td>17</td><td>2</td><td>0</td></tr>\n",
              "<tr><td><a href=\"documents/20971912.html\">20971912</a></td>   <td>3</td><td>0</td><td>0</td></tr>\n",
              "<tr><td><a href=\"documents/20971914.html\">20971914</a></td>   <td>2</td><td>0</td><td>0</td></tr>\n",
              "<tr><td><a href=\"documents/20974180.html\">20974180</a></td>   <td>8</td><td>12</td><td>0</td></tr>\n",
              "<tr><td><a href=\"documents/20980495.html\">20980495</a></td>   <td>2</td><td>3</td><td>1</td></tr>\n",
              "<tr><td><a href=\"documents/20980501.html\">20980501</a></td>   <td>3</td><td>3</td><td>0</td></tr>\n",
              "<tr><td><a href=\"documents/20980508.html\">20980508</a></td>   <td>5</td><td>4</td><td>0</td></tr>\n",
              "<tr><td><a href=\"documents/20980511.html\">20980511</a></td>   <td>6</td><td>3</td><td>0</td></tr>\n",
              "<tr><td><a href=\"documents/20980519.html\">20980519</a></td>   <td>11</td><td>1</td><td>0</td></tr>\n",
              "<tr><td><a href=\"documents/20980526.html\">20980526</a></td>   <td>10</td><td>3</td><td>1</td></tr>\n",
              "<tr><td><a href=\"documents/21029116.html\">21029116</a></td>   <td>1</td><td>0</td><td>0</td></tr>\n",
              "<tr><td><a href=\"documents/21029747.html\">21029747</a></td>   <td>6</td><td>3</td><td>0</td></tr>\n",
              "<tr><td><a href=\"documents/21029748.html\">21029748</a></td>   <td>18</td><td>4</td><td>0</td></tr>\n",
              "<tr><td><a href=\"documents/21034773.html\">21034773</a></td>   <td>9</td><td>1</td><td>0</td></tr>\n",
              "<tr><td><a href=\"documents/21036392.html\">21036392</a></td>   <td>0</td><td>2</td><td>2</td></tr>\n",
              "<tr><td><a href=\"documents/21036995.html\">21036995</a></td>   <td>2</td><td>0</td><td>0</td></tr>\n",
              "<tr><td><a href=\"documents/21037004.html\">21037004</a></td>   <td>1</td><td>0</td><td>0</td></tr>\n",
              "<tr><td><a href=\"documents/21037010.html\">21037010</a></td>   <td>11</td><td>0</td><td>0</td></tr>\n",
              "<tr><td><a href=\"documents/21039480.html\">21039480</a></td>   <td>0</td><td>0</td><td>0</td></tr>\n",
              "<tr><td><a href=\"documents/21039557.html\">21039557</a></td>   <td>0</td><td>0</td><td>0</td></tr>\n",
              "<tr><td><a href=\"documents/21047955.html\">21047955</a></td>   <td>9</td><td>0</td><td>0</td></tr>\n",
              "<tr><td><a href=\"documents/21047957.html\">21047957</a></td>   <td>10</td><td>3</td><td>0</td></tr>\n",
              "<tr><td><a href=\"documents/21054434.html\">21054434</a></td>   <td>3</td><td>0</td><td>0</td></tr>\n",
              "<tr><td><a href=\"documents/21054435.html\">21054435</a></td>   <td>6</td><td>0</td><td>0</td></tr>\n",
              "<tr><td><a href=\"documents/21057008.html\">21057008</a></td>   <td>1</td><td>0</td><td>0</td></tr>\n",
              "<tr><td><a href=\"documents/21062315.html\">21062315</a></td>   <td>3</td><td>1</td><td>0</td></tr>\n",
              "<tr><td><a href=\"documents/21067947.html\">21067947</a></td>   <td>6</td><td>4</td><td>0</td></tr>\n",
              "<tr><td><a href=\"documents/21075923.html\">21075923</a></td>   <td>2</td><td>1</td><td>0</td></tr>\n",
              "<tr><td><a href=\"documents/21075931.html\">21075931</a></td>   <td>0</td><td>4</td><td>0</td></tr>\n",
              "<tr><td><a href=\"documents/21097610.html\">21097610</a></td>   <td>3</td><td>0</td><td>0</td></tr>\n",
              "<tr><td><a href=\"documents/21097611.html\">21097611</a></td>   <td>7</td><td>3</td><td>0</td></tr>\n",
              "<tr><td><a href=\"documents/21097628.html\">21097628</a></td>   <td>2</td><td>3</td><td>0</td></tr>\n",
              "<tr><td><a href=\"documents/21105872.html\">21105872</a></td>   <td>2</td><td>0</td><td>0</td></tr>\n",
              "<tr><td><a href=\"documents/21115655.html\">21115655</a></td>   <td>4</td><td>2</td><td>0</td></tr>\n",
              "<tr><td><a href=\"documents/21115658.html\">21115658</a></td>   <td>10</td><td>1</td><td>0</td></tr>\n",
              "<tr><td><a href=\"documents/21118199.html\">21118199</a></td>   <td>0</td><td>1</td><td>0</td></tr>\n",
              "<tr><td><a href=\"documents/21118420.html\">21118420</a></td>   <td>0</td><td>0</td><td>0</td></tr>\n",
              "<tr><td><a href=\"documents/21126599.html\">21126599</a></td>   <td>5</td><td>1</td><td>0</td></tr>\n",
              "<tr><td><a href=\"documents/21126914.html\">21126914</a></td>   <td>9</td><td>1</td><td>1</td></tr>\n",
              "<tr><td><a href=\"documents/21131487.html\">21131487</a></td>   <td>3</td><td>2</td><td>0</td></tr>\n",
              "<tr><td><a href=\"documents/21131495.html\">21131495</a></td>   <td>5</td><td>2</td><td>0</td></tr>\n",
              "<tr><td><a href=\"documents/21143226.html\">21143226</a></td>   <td>0</td><td>0</td><td>0</td></tr>\n",
              "<tr><td><a href=\"documents/21145408.html\">21145408</a></td>   <td>0</td><td>0</td><td>0</td></tr>\n",
              "<tr><td><a href=\"documents/21145410.html\">21145410</a></td>   <td>4</td><td>1</td><td>0</td></tr>\n",
              "<tr><td><a href=\"documents/21148734.html\">21148734</a></td>   <td>6</td><td>3</td><td>0</td></tr>\n",
              "<tr><td><a href=\"documents/21148736.html\">21148736</a></td>   <td>4</td><td>0</td><td>0</td></tr>\n",
              "<tr><td><a href=\"documents/21155771.html\">21155771</a></td>   <td>3</td><td>1</td><td>0</td></tr>\n",
              "<tr><td><a href=\"documents/21163446.html\">21163446</a></td>   <td>0</td><td>0</td><td>0</td></tr>\n",
              "<tr><td><a href=\"documents/21166910.html\">21166910</a></td>   <td>13</td><td>0</td><td>0</td></tr>\n",
              "<tr><td><a href=\"documents/21169487.html\">21169487</a></td>   <td>3</td><td>0</td><td>0</td></tr>\n",
              "<tr><td><a href=\"documents/21176788.html\">21176788</a></td>   <td>4</td><td>3</td><td>0</td></tr>\n",
              "<tr><td><a href=\"documents/21199019.html\">21199019</a></td>   <td>4</td><td>0</td><td>0</td></tr>\n",
              "<tr><td><a href=\"documents/21199021.html\">21199021</a></td>   <td>0</td><td>0</td><td>0</td></tr>\n",
              "<tr><td><a href=\"documents/21220038.html\">21220038</a></td>   <td>9</td><td>1</td><td>0</td></tr>\n",
              "<tr><td><a href=\"documents/21227489.html\">21227489</a></td>   <td>1</td><td>2</td><td>2</td></tr>\n",
              "<tr><td><a href=\"documents/21227490.html\">21227490</a></td>   <td>0</td><td>1</td><td>1</td></tr>\n",
              "<tr><td><a href=\"documents/21227500.html\">21227500</a></td>   <td>5</td><td>2</td><td>0</td></tr>\n",
              "<tr><td><a href=\"documents/21237280.html\">21237280</a></td>   <td>2</td><td>0</td><td>0</td></tr>\n",
              "<tr><td><a href=\"documents/21241331.html\">21241331</a></td>   <td>7</td><td>0</td><td>0</td></tr>\n",
              "<tr><td><a href=\"documents/21241332.html\">21241332</a></td>   <td>0</td><td>1</td><td>0</td></tr>\n",
              "<tr><td><a href=\"documents/21251019.html\">21251019</a></td>   <td>5</td><td>0</td><td>0</td></tr>\n",
              "<tr><td><a href=\"documents/21269677.html\">21269677</a></td>   <td>1</td><td>0</td><td>0</td></tr>\n",
              "<tr><td><a href=\"documents/21272658.html\">21272658</a></td>   <td>2</td><td>0</td><td>0</td></tr>\n",
              "<tr><td><a href=\"documents/21277379.html\">21277379</a></td>   <td>10</td><td>1</td><td>0</td></tr>\n",
              "<tr><td><a href=\"documents/21294724.html\">21294724</a></td>   <td>0</td><td>0</td><td>0</td></tr>\n",
              "<tr><td><a href=\"documents/21303365.html\">21303365</a></td>   <td>1</td><td>0</td><td>0</td></tr>\n",
              "<tr><td><a href=\"documents/21323922.html\">21323922</a></td>   <td>2</td><td>0</td><td>0</td></tr>\n",
              "<tr><td><a href=\"documents/21324422.html\">21324422</a></td>   <td>3</td><td>2</td><td>0</td></tr>\n",
              "<tr><td><a href=\"documents/21334865.html\">21334865</a></td>   <td>4</td><td>0</td><td>0</td></tr>\n",
              "<tr><td><a href=\"documents/21349119.html\">21349119</a></td>   <td>3</td><td>1</td><td>0</td></tr>\n",
              "<tr><td><a href=\"documents/21349120.html\">21349120</a></td>   <td>0</td><td>3</td><td>0</td></tr>\n",
              "<tr><td><a href=\"documents/21349439.html\">21349439</a></td>   <td>0</td><td>0</td><td>0</td></tr>\n",
              "<tr><td><a href=\"documents/21366564.html\">21366564</a></td>   <td>2</td><td>0</td><td>0</td></tr>\n",
              "<tr><td><a href=\"documents/21388373.html\">21388373</a></td>   <td>1</td><td>3</td><td>1</td></tr>\n",
              "<tr><td><a href=\"documents/21397712.html\">21397712</a></td>   <td>5</td><td>2</td><td>0</td></tr>\n",
              "<tr><td><a href=\"documents/21398102.html\">21398102</a></td>   <td>6</td><td>0</td><td>0</td></tr>\n",
              "<tr><td><a href=\"documents/21401592.html\">21401592</a></td>   <td>9</td><td>0</td><td>0</td></tr>\n",
              "<tr><td><a href=\"documents/21401593.html\">21401593</a></td>   <td>6</td><td>0</td><td>0</td></tr>\n",
              "<tr><td><a href=\"documents/21418207.html\">21418207</a></td>   <td>0</td><td>0</td><td>0</td></tr>\n",
              "<tr><td><a href=\"documents/21420161.html\">21420161</a></td>   <td>0</td><td>2</td><td>0</td></tr>\n",
              "<tr><td><a href=\"documents/21435060.html\">21435060</a></td>   <td>3</td><td>1</td><td>0</td></tr>\n",
              "<tr><td><a href=\"documents/21435600.html\">21435600</a></td>   <td>0</td><td>3</td><td>3</td></tr>\n",
              "<tr><td><a href=\"documents/21440497.html\">21440497</a></td>   <td>0</td><td>0</td><td>0</td></tr>\n",
              "<tr><td><a href=\"documents/21450337.html\">21450337</a></td>   <td>0</td><td>1</td><td>0</td></tr>\n",
              "<tr><td><a href=\"documents/21459211.html\">21459211</a></td>   <td>0</td><td>5</td><td>1</td></tr>\n",
              "<tr><td><a href=\"documents/21466553.html\">21466553</a></td>   <td>12</td><td>0</td><td>0</td></tr>\n",
              "<tr><td><a href=\"documents/21466554.html\">21466554</a></td>   <td>3</td><td>0</td><td>0</td></tr>\n",
              "<tr><td><a href=\"documents/21474172.html\">21474172</a></td>   <td>0</td><td>1</td><td>1</td></tr>\n",
              "<tr><td><a href=\"documents/21474174.html\">21474174</a></td>   <td>4</td><td>2</td><td>1</td></tr>\n",
              "<tr><td><a href=\"documents/21492929.html\">21492929</a></td>   <td>0</td><td>5</td><td>0</td></tr>\n",
              "<tr><td><a href=\"documents/21496910.html\">21496910</a></td>   <td>0</td><td>1</td><td>1</td></tr>\n",
              "<tr><td><a href=\"documents/21511048.html\">21511048</a></td>   <td>7</td><td>1</td><td>1</td></tr>\n",
              "<tr><td><a href=\"documents/21514890.html\">21514890</a></td>   <td>0</td><td>2</td><td>2</td></tr>\n",
              "<tr><td><a href=\"documents/21521138.html\">21521138</a></td>   <td>7</td><td>3</td><td>0</td></tr>\n",
              "<tr><td><a href=\"documents/21521142.html\">21521142</a></td>   <td>2</td><td>0</td><td>0</td></tr>\n",
              "<tr><td><a href=\"documents/21526927.html\">21526927</a></td>   <td>10</td><td>1</td><td>0</td></tr>\n",
              "<tr><td><a href=\"documents/21529147.html\">21529147</a></td>   <td>20</td><td>5</td><td>0</td></tr>\n",
              "<tr><td><a href=\"documents/21558012.html\">21558012</a></td>   <td>4</td><td>0</td><td>0</td></tr>\n",
              "<tr><td><a href=\"documents/21561747.html\">21561747</a></td>   <td>4</td><td>4</td><td>0</td></tr>\n",
              "<tr><td><a href=\"documents/21585579.html\">21585579</a></td>   <td>1</td><td>1</td><td>0</td></tr>\n",
              "<tr><td><a href=\"documents/21600998.html\">21600998</a></td>   <td>13</td><td>1</td><td>0</td></tr>\n",
              "<tr><td><a href=\"documents/21601521.html\">21601521</a></td>   <td>2</td><td>0</td><td>0</td></tr>\n",
              "<tr><td><a href=\"documents/21601644.html\">21601644</a></td>   <td>28</td><td>1</td><td>0</td></tr>\n",
              "<tr><td><a href=\"documents/21641778.html\">21641778</a></td>   <td>11</td><td>1</td><td>0</td></tr>\n",
              "<tr><td><a href=\"documents/21689185.html\">21689185</a></td>   <td>4</td><td>1</td><td>0</td></tr>\n",
              "<tr><td><a href=\"documents/21696928.html\">21696928</a></td>   <td>3</td><td>0</td><td>0</td></tr>\n",
              "<tr><td><a href=\"documents/21699592.html\">21699592</a></td>   <td>5</td><td>0</td><td>0</td></tr>\n",
              "<tr><td><a href=\"documents/21793956.html\">21793956</a></td>   <td>6</td><td>1</td><td>1</td></tr>\n",
              "<tr><td><a href=\"documents/21855306.html\">21855306</a></td>   <td>4</td><td>0</td><td>0</td></tr>\n",
              "<tr><td><a href=\"documents/21906194.html\">21906194</a></td>   <td>7</td><td>0</td><td>0</td></tr>\n",
              "<tr><td><a href=\"documents/22182604.html\">22182604</a></td>   <td>4</td><td>0</td><td>0</td></tr>\n",
              "<tr><td><a href=\"documents/22182607.html\">22182607</a></td>   <td>8</td><td>0</td><td>0</td></tr>\n",
              "<tr><td><a href=\"documents/22182609.html\">22182609</a></td>   <td>5</td><td>3</td><td>0</td></tr>\n",
              "<tr><td><a href=\"documents/22182616.html\">22182616</a></td>   <td>11</td><td>1</td><td>1</td></tr>\n",
              "<tr><td><a href=\"documents/20118284.html\">20118284</a></td>   <td>0</td><td>0</td><td>0</td></tr>\n",
              "<tr><td><a href=\"documents/20173002.html\">20173002</a></td>   <td>17</td><td>0</td><td>0</td></tr>\n",
              "<tr><td><a href=\"documents/20173004.html\">20173004</a></td>   <td>5</td><td>0</td><td>0</td></tr>\n",
              "<tr><td><a href=\"documents/20173006.html\">20173006</a></td>   <td>11</td><td>0</td><td>0</td></tr>\n",
              "<tr><td><a href=\"documents/20601041.html\">20601041</a></td>   <td>0</td><td>3</td><td>0</td></tr>\n",
              "<tr><td><a href=\"documents/20807375.html\">20807375</a></td>   <td>7</td><td>1</td><td>0</td></tr>\n",
              "<tr><td><a href=\"documents/20825517.html\">20825517</a></td>   <td>2</td><td>0</td><td>0</td></tr>\n",
              "<tr><td><a href=\"documents/20840508.html\">20840508</a></td>   <td>2</td><td>0</td><td>0</td></tr>\n",
              "<tr><td><a href=\"documents/20868393.html\">20868393</a></td>   <td>0</td><td>0</td><td>0</td></tr>\n",
              "<tr><td><a href=\"documents/20884290.html\">20884290</a></td>   <td>2</td><td>0</td><td>0</td></tr>\n",
              "<tr><td><a href=\"documents/20946384.html\">20946384</a></td>   <td>0</td><td>0</td><td>0</td></tr>\n",
              "<tr><td><a href=\"documents/20946419.html\">20946419</a></td>   <td>5</td><td>0</td><td>0</td></tr>\n",
              "<tr><td><a href=\"documents/20946534.html\">20946534</a></td>   <td>5</td><td>0</td><td>0</td></tr>\n",
              "<tr><td><a href=\"documents/20946589.html\">20946589</a></td>   <td>2</td><td>1</td><td>0</td></tr>\n",
              "<tr><td><a href=\"documents/20950650.html\">20950650</a></td>   <td>4</td><td>2</td><td>2</td></tr>\n",
              "<tr><td><a href=\"documents/20955226.html\">20955226</a></td>   <td>1</td><td>2</td><td>0</td></tr>\n",
              "<tr><td><a href=\"documents/20955241.html\">20955241</a></td>   <td>2</td><td>2</td><td>0</td></tr>\n",
              "<tr><td><a href=\"documents/20962077.html\">20962077</a></td>   <td>28</td><td>9</td><td>0</td></tr>\n",
              "<tr><td><a href=\"documents/20962081.html\">20962081</a></td>   <td>9</td><td>6</td><td>0</td></tr>\n",
              "<tr><td><a href=\"documents/20962089.html\">20962089</a></td>   <td>6</td><td>3</td><td>0</td></tr>\n",
              "<tr><td><a href=\"documents/20964686.html\">20964686</a></td>   <td>3</td><td>0</td><td>0</td></tr>\n",
              "<tr><td><a href=\"documents/20964694.html\">20964694</a></td>   <td>4</td><td>1</td><td>0</td></tr>\n",
              "<tr><td><a href=\"documents/20971903.html\">20971903</a></td>   <td>1</td><td>0</td><td>0</td></tr>\n",
              "<tr><td><a href=\"documents/20980505.html\">20980505</a></td>   <td>12</td><td>3</td><td>0</td></tr>\n",
              "<tr><td><a href=\"documents/20980506.html\">20980506</a></td>   <td>10</td><td>6</td><td>0</td></tr>\n",
              "<tr><td><a href=\"documents/20980512.html\">20980512</a></td>   <td>2</td><td>0</td><td>0</td></tr>\n",
              "<tr><td><a href=\"documents/20980513.html\">20980513</a></td>   <td>18</td><td>0</td><td>0</td></tr>\n",
              "<tr><td><a href=\"documents/20980517.html\">20980517</a></td>   <td>13</td><td>5</td><td>1</td></tr>\n",
              "<tr><td><a href=\"documents/20980522.html\">20980522</a></td>   <td>7</td><td>1</td><td>0</td></tr>\n",
              "<tr><td><a href=\"documents/21035400.html\">21035400</a></td>   <td>0</td><td>1</td><td>1</td></tr>\n",
              "<tr><td><a href=\"documents/21037003.html\">21037003</a></td>   <td>2</td><td>0</td><td>0</td></tr>\n",
              "<tr><td><a href=\"documents/21037009.html\">21037009</a></td>   <td>5</td><td>0</td><td>0</td></tr>\n",
              "<tr><td><a href=\"documents/21039561.html\">21039561</a></td>   <td>13</td><td>1</td><td>1</td></tr>\n",
              "<tr><td><a href=\"documents/21054379.html\">21054379</a></td>   <td>4</td><td>0</td><td>0</td></tr>\n",
              "<tr><td><a href=\"documents/21062317.html\">21062317</a></td>   <td>3</td><td>0</td><td>0</td></tr>\n",
              "<tr><td><a href=\"documents/21070238.html\">21070238</a></td>   <td>0</td><td>0</td><td>0</td></tr>\n",
              "<tr><td><a href=\"documents/21075926.html\">21075926</a></td>   <td>2</td><td>1</td><td>0</td></tr>\n",
              "<tr><td><a href=\"documents/21075928.html\">21075928</a></td>   <td>3</td><td>1</td><td>0</td></tr>\n",
              "<tr><td><a href=\"documents/21097608.html\">21097608</a></td>   <td>11</td><td>0</td><td>0</td></tr>\n",
              "<tr><td><a href=\"documents/21097617.html\">21097617</a></td>   <td>4</td><td>0</td><td>0</td></tr>\n",
              "<tr><td><a href=\"documents/21097635.html\">21097635</a></td>   <td>3</td><td>0</td><td>0</td></tr>\n",
              "<tr><td><a href=\"documents/21148728.html\">21148728</a></td>   <td>9</td><td>1</td><td>0</td></tr>\n",
              "<tr><td><a href=\"documents/21148731.html\">21148731</a></td>   <td>1</td><td>0</td><td>0</td></tr>\n",
              "<tr><td><a href=\"documents/21155772.html\">21155772</a></td>   <td>7</td><td>0</td><td>0</td></tr>\n",
              "<tr><td><a href=\"documents/21176789.html\">21176789</a></td>   <td>2</td><td>0</td><td>0</td></tr>\n",
              "<tr><td><a href=\"documents/21183147.html\">21183147</a></td>   <td>5</td><td>0</td><td>0</td></tr>\n",
              "<tr><td><a href=\"documents/21183148.html\">21183148</a></td>   <td>0</td><td>2</td><td>1</td></tr>\n",
              "<tr><td><a href=\"documents/21183405.html\">21183405</a></td>   <td>6</td><td>0</td><td>0</td></tr>\n",
              "<tr><td><a href=\"documents/21205278.html\">21205278</a></td>   <td>8</td><td>0</td><td>0</td></tr>\n",
              "<tr><td><a href=\"documents/21226710.html\">21226710</a></td>   <td>0</td><td>0</td><td>0</td></tr>\n",
              "<tr><td><a href=\"documents/21239228.html\">21239228</a></td>   <td>0</td><td>0</td><td>0</td></tr>\n",
              "<tr><td><a href=\"documents/21241815.html\">21241815</a></td>   <td>5</td><td>1</td><td>0</td></tr>\n",
              "<tr><td><a href=\"documents/21251018.html\">21251018</a></td>   <td>0</td><td>3</td><td>0</td></tr>\n",
              "<tr><td><a href=\"documents/21269675.html\">21269675</a></td>   <td>0</td><td>5</td><td>5</td></tr>\n",
              "<tr><td><a href=\"documents/21281728.html\">21281728</a></td>   <td>8</td><td>0</td><td>0</td></tr>\n",
              "<tr><td><a href=\"documents/21281729.html\">21281729</a></td>   <td>3</td><td>4</td><td>0</td></tr>\n",
              "<tr><td><a href=\"documents/21295520.html\">21295520</a></td>   <td>8</td><td>0</td><td>0</td></tr>\n",
              "<tr><td><a href=\"documents/21296615.html\">21296615</a></td>   <td>0</td><td>0</td><td>0</td></tr>\n",
              "<tr><td><a href=\"documents/21349440.html\">21349440</a></td>   <td>1</td><td>0</td><td>0</td></tr>\n",
              "<tr><td><a href=\"documents/21406243.html\">21406243</a></td>   <td>4</td><td>2</td><td>0</td></tr>\n",
              "<tr><td><a href=\"documents/21418208.html\">21418208</a></td>   <td>10</td><td>0</td><td>0</td></tr>\n",
              "<tr><td><a href=\"documents/21435061.html\">21435061</a></td>   <td>4</td><td>0</td><td>0</td></tr>\n",
              "<tr><td><a href=\"documents/21435599.html\">21435599</a></td>   <td>0</td><td>3</td><td>3</td></tr>\n",
              "<tr><td><a href=\"documents/21458376.html\">21458376</a></td>   <td>0</td><td>1</td><td>1</td></tr>\n",
              "<tr><td><a href=\"documents/21459562.html\">21459562</a></td>   <td>4</td><td>0</td><td>0</td></tr>\n",
              "<tr><td><a href=\"documents/21463301.html\">21463301</a></td>   <td>1</td><td>0</td><td>0</td></tr>\n",
              "<tr><td><a href=\"documents/21463833.html\">21463833</a></td>   <td>0</td><td>2</td><td>2</td></tr>\n",
              "<tr><td><a href=\"documents/21496906.html\">21496906</a></td>   <td>0</td><td>0</td><td>0</td></tr>\n",
              "<tr><td><a href=\"documents/21498113.html\">21498113</a></td>   <td>2</td><td>5</td><td>4</td></tr>\n",
              "<tr><td><a href=\"documents/21521141.html\">21521141</a></td>   <td>3</td><td>0</td><td>0</td></tr>\n",
              "<tr><td><a href=\"documents/21521216.html\">21521216</a></td>   <td>1</td><td>0</td><td>0</td></tr>\n",
              "<tr><td><a href=\"documents/21526932.html\">21526932</a></td>   <td>11</td><td>0</td><td>0</td></tr>\n",
              "<tr><td><a href=\"documents/21526933.html\">21526933</a></td>   <td>5</td><td>0</td><td>0</td></tr>\n",
              "<tr><td><a href=\"documents/21699596.html\">21699596</a></td>   <td>0</td><td>0</td><td>0</td></tr>\n",
              "<tr><td><a href=\"documents/21839848.html\">21839848</a></td>   <td>6</td><td>0</td><td>0</td></tr>\n",
              "<tr><td><a href=\"documents/21907817.html\">21907817</a></td>   <td>4</td><td>3</td><td>0</td></tr>\n",
              "<tr><td><a href=\"documents/22001288.html\">22001288</a></td>   <td>2</td><td>2</td><td>0</td></tr>\n",
              "<tr><td><a href=\"documents/22004876.html\">22004876</a></td>   <td>12</td><td>1</td><td>0</td></tr>\n",
              "<tr><td><a href=\"documents/22182612.html\">22182612</a></td>   <td>17</td><td>2</td><td>0</td></tr>\n",
              "<tr><td><a href=\"documents/22182619.html\">22182619</a></td>   <td>7</td><td>0</td><td>0</td></tr>\n",
              "</body>\n",
              "\n",
              "  <script type=\"application/javascript\">\n",
              "  \n",
              "filter.onkeyup = function myFunction(e) {\n",
              "  // Declare variables\n",
              "  var input, filter, table, tr, td, i, txtValue;\n",
              "  input = document.getElementById(\"filter\");\n",
              "  filter = input.value.toUpperCase();\n",
              "  table = document.getElementById(\"grid\");\n",
              "  tr = table.getElementsByTagName(\"tr\");\n",
              "\n",
              "  // Loop through all table rows, and hide those who don't match the search query\n",
              "  for (i = 0; i < tr.length; i++) {\n",
              "    td = tr[i].getElementsByTagName(\"td\")[0];\n",
              "    if (td) {\n",
              "      txtValue = td.textContent || td.innerText;\n",
              "      if (txtValue.toUpperCase().indexOf(filter) > -1) {\n",
              "        tr[i].style.display = \"\";\n",
              "      } else {\n",
              "        tr[i].style.display = \"none\";\n",
              "      }\n",
              "    }\n",
              "  }\n",
              "}\n",
              "\n",
              "    grid.onclick = function(e) {\n",
              "      if (e.target.tagName != 'TH') return;\n",
              "\n",
              "      let th = e.target;\n",
              "      // if TH, then sort\n",
              "      // cellIndex is the number of th:\n",
              "      //   0 for the first column\n",
              "      //   1 for the second column, etc\n",
              "      sortGrid(th.cellIndex, th.dataset.type);\n",
              "    };\n",
              "\n",
              "    function sortGrid(colNum, type) {\n",
              "      let tbody = grid.querySelector('tbody');\n",
              "\n",
              "      let rowsArray = Array.from(tbody.rows);\n",
              "\n",
              "      // compare(a, b) compares two rows, need for sorting\n",
              "      let compare;\n",
              "\n",
              "      switch (type) {\n",
              "        case 'number':\n",
              "          compare = function(rowA, rowB) {\n",
              "            return rowB.cells[colNum].innerHTML - rowA.cells[colNum].innerHTML;\n",
              "          };\n",
              "          break;\n",
              "        case 'string':\n",
              "          compare = function(rowA, rowB) {\n",
              "            return rowA.cells[colNum].innerHTML > rowB.cells[colNum].innerHTML ? 1 : -1;\n",
              "          };\n",
              "          break;\n",
              "      }\n",
              "\n",
              "      // sort\n",
              "      rowsArray.sort(compare);\n",
              "\n",
              "      tbody.append(...rowsArray);\n",
              "    }\n",
              "  </script>\n",
              "  </html>"
            ],
            "text/plain": [
              "<IPython.core.display.HTML object>"
            ]
          },
          "metadata": {
            "tags": []
          },
          "execution_count": 113
        }
      ]
    },
    {
      "cell_type": "markdown",
      "metadata": {
        "id": "G3vaOVX7iIqx"
      },
      "source": [
        "### index_document_iframe - show on the same page\n"
      ]
    },
    {
      "cell_type": "code",
      "metadata": {
        "id": "2QRPstMpp3lC",
        "colab": {
          "base_uri": "https://localhost:8080/"
        },
        "outputId": "2f4538bb-d1d7-41fa-9fe5-cbf8a28eab09"
      },
      "source": [
        "linkPagecontent=\"\"\n",
        "\n",
        "f = open(s800_ambiguous_html+index_document_iframe, \"w\")\n",
        "\n",
        "for document_key in list(s800Data.keys())[0:]:\n",
        "  #filename = \"\".join(x for x in document_key if x.isalnum())+\".html\"\n",
        "  filename = \"documents/\"+document_key+\".html\" \n",
        "  # make the headline of each document on its own line\n",
        "  #species_html_content = re.sub(\"\\n\\n\",\"<br><br>\",species_html_content)\n",
        "  nameInLinkPage = \"<a href=\\\"\"+filename+\"\\\" target=\\\"iframe_a\\\">\"+document_key+\"</a>\"\n",
        "  linkPagecontent += \"<tr><td>\"+nameInLinkPage+\"</td> \\\n",
        "  <td>\"+str(len(list(filter(lambda x: x['is_annotated'], s800Data[document_key]['annotations']))))+\"</td>\" + \\\n",
        "  \"<td>\"+str(len(list(filter(lambda x: x['is_annotated'] == False, s800Data[document_key]['annotations']))))+\"</td>\" + \\\n",
        "  \"<td>\"+str(len(list(filter(lambda x: x['is_annotated'] == False and x['only_in_LINNAEUS'] == True, s800Data[document_key]['annotations']))))+\"</td></tr>\\n\"\n",
        "linkPagecontent += \"</tbody></table>\"\n",
        "f.write(\n",
        "        HTML_begin+\\\n",
        "        \"\"\"<div class=\"row\"><div class=\"column1\"><!-- species list -->\"\"\"+\\\n",
        "        HTML_linkPageSearchBarcontentDOCS+\\\n",
        "        linkPagecontent+\\\n",
        "        HTML_end_with_script_and_with_iframe\n",
        "        )\n",
        "f.close()\n",
        "\"\"\"\n",
        "HTML_table_content = \"\"\n",
        "for species_key in list(species.keys())[0:10]:\n",
        "  filename = \"\".join(x for x in species_key if x.isalnum())+\".html\"\n",
        "  # make the headline of each document on its own line\n",
        "  nameInLinkPage = \"<a href=\\\"\"+filename+\"\\\" target=\\\"iframe_a\\\">\"+species_key+\"</a>\"\n",
        "  HTML_table_content += \"<tr><td>\"+nameInLinkPage+\"</td>\\\n",
        "                      <td>\"+str(species[species_key]['Species'])+\"</td>\\\n",
        "                      <td>\"+str(species[species_key]['O'])+\"</td>\\\n",
        "                      <td>\"+str(species[species_key]['Species_LINNAEUS'])+\"</td></tr>\\n\"\n",
        "#key+\"<br />\\n\"\n",
        "HTML_table_content += \"</table>\"\n",
        "f = open(s800_ambiguous_html+index_species_iframe, \"w\")\n",
        "f.write(\n",
        "        HTML_begin+\\\n",
        "        <div class=\"row\"><div class=\"column1\"><!-- species list -->+\\\n",
        "        HTML_linkPageSearchBarcontent+\\\n",
        "        HTML_table_content+\\\n",
        "        HTML_end_with_script_and_with_iframe\n",
        "        )\n",
        "f.close()\n",
        "\"\"\""
      ],
      "execution_count": null,
      "outputs": [
        {
          "output_type": "execute_result",
          "data": {
            "application/vnd.google.colaboratory.intrinsic+json": {
              "type": "string"
            },
            "text/plain": [
              "'\\nHTML_table_content = \"\"\\nfor species_key in list(species.keys())[0:10]:\\n  filename = \"\".join(x for x in species_key if x.isalnum())+\".html\"\\n  # make the headline of each document on its own line\\n  nameInLinkPage = \"<a href=\"\"+filename+\"\" target=\"iframe_a\">\"+species_key+\"</a>\"\\n  HTML_table_content += \"<tr><td>\"+nameInLinkPage+\"</td>                      <td>\"+str(species[species_key][\\'Species\\'])+\"</td>                      <td>\"+str(species[species_key][\\'O\\'])+\"</td>                      <td>\"+str(species[species_key][\\'Species_LINNAEUS\\'])+\"</td></tr>\\n\"\\n#key+\"<br />\\n\"\\nHTML_table_content += \"</table>\"\\nf = open(s800_ambiguous_html+index_species_iframe, \"w\")\\nf.write(\\n        HTML_begin+        <div class=\"row\"><div class=\"column1\"><!-- species list -->+        HTML_linkPageSearchBarcontent+        HTML_table_content+        HTML_end_with_script_and_with_iframe\\n        )\\nf.close()\\n'"
            ]
          },
          "metadata": {
            "tags": []
          },
          "execution_count": 114
        }
      ]
    },
    {
      "cell_type": "code",
      "metadata": {
        "id": "8ppFqhhPqN6i",
        "colab": {
          "base_uri": "https://localhost:8080/"
        },
        "outputId": "51b3e9c4-9219-4c89-dd2b-4976d907f2ea"
      },
      "source": [
        "IPython.display.HTML(filename=s800_ambiguous_html+index_document_iframe)"
      ],
      "execution_count": null,
      "outputs": [
        {
          "output_type": "execute_result",
          "data": {
            "text/html": [
              "\n",
              "<!doctype html><html lang=\"en\"> <head><meta charset=\"utf-8\"> \n",
              "<title>s800 inconsistencies</title> \n",
              "<style>\n",
              "\n",
              ".gray { background-color:rgba(125, 125, 125, 0.5); } \n",
              ".orange { background-color:rgba(210, 180, 180, 0.5); } \n",
              "\n",
              ".match { text-decoration: underline; \n",
              "/*\n",
              "  -webkit-text-decoration-color: red;  \n",
              "  text-decoration-color: red; */\n",
              "    -webkit-text-decoration-line: overline underline; /* Safari */\n",
              "   text-decoration-line: overline underline; \n",
              "   color:yellow;\n",
              "/*   font-weight:bold; */\n",
              "  \n",
              "  \n",
              "  } \n",
              ".LINNAEUS_only { background-color: rgba(125, 125, 125, 0.5); }\n",
              ".annotated { background-color:rgba(50, 180, 180, 0.5); } \n",
              ".unannotated { background-color:rgba(214, 75, 79, 0.5); } \n",
              "\n",
              ".match_species { text-decoration: underline; } \n",
              "/*\n",
              "ul#menu li {\n",
              "/*  display:inline; \n",
              "}\n",
              ".horizontal { display: inline; border-left: 3px solid darkorange; padding-left: 0.3em; }\n",
              ".first { border-left: none; padding-left: 0; }\n",
              "*/\n",
              "ul#menu li {\n",
              "list-style-type: circle;\n",
              "}\n",
              "table { border-collapse: collapse; } \n",
              "th, td { border: 1px solid orange; padding: 4px; } \n",
              "th {  cursor: pointer; } \n",
              "th:hover { background: yellow; }\n",
              "\n",
              "html, body, iframe { height: 100%; }\n",
              "\n",
              "* {\n",
              "  box-sizing: border-box;\n",
              "}\n",
              "\n",
              ".row {\n",
              "  display: flex;\n",
              "}\n",
              "\n",
              "\n",
              "/* Create two equal columns that sits next to each other */\n",
              ".column {\n",
              "  flex: 50%;\n",
              "  padding: 0px;\n",
              " /*height: 300px; /* Should be removed. Only for demonstration */\n",
              "}\n",
              "/* Create two equal columns that sits next to each other */\n",
              ".column1 {\n",
              "  flex: 30%;\n",
              "  padding: 0px;\n",
              " /*height: 300px; /* Should be removed. Only for demonstration */\n",
              "}\n",
              "/* Create two equal columns that sits next to each other */\n",
              ".column2 {\n",
              "  flex: 70%;\n",
              "  padding: 0px;\n",
              " /*height: 300px; /* Should be removed. Only for demonstration */\n",
              "}\n",
              " \n",
              "</style></head><body>\n",
              "<div class=\"row\"><div class=\"column1\"><!-- species list -->\n",
              "<div style=\"padding: 10px;border-style: dotted; width: 100%; display:flex;justify-content: flex-start\">\n",
              "      <div><!-- style=\"flex: 0 0 65%\"> -->\n",
              "        <b>Search filter:</b><input type=\"text\" id=\"filter\"><br/>\n",
              "        <big><b>Press headers for sorting</b></big><br/>\n",
              "      </div>\n",
              "      <div><!-- style=\"flex: 1;\">-->\n",
              "      \n",
              "<ul id=\"menu\">\n",
              "  <li class=\"horizontal first\">\n",
              "    <a href=index.html>Species - follow links</a>\n",
              "  </li>\n",
              "  <li class=\"horizontal\">\n",
              "    <a href=index_species_iframe.html>Species - show on same page</a>\n",
              "  </li>\n",
              "  <li class=\"horizontal\">\n",
              "    <a href=index_document.html>Document - follow links</a>\n",
              "  </li>\n",
              "  <li class=\"horizontal\">\n",
              "    <a href=index_document_iframe.html>Document - show on same page</a>\n",
              "  </li>\n",
              "  <li class=\"horizontal\">\n",
              "    <a href=index_document_all.html>Document - all</a>\n",
              "  </li>\n",
              "</ul>\n",
              "\n",
              "      </div>\n",
              "</div> <!-- dashed box -->\n",
              "<small><b>Press header for sorting</b></small>\n",
              "<table id=\"grid\"> \n",
              "    <thead> \n",
              "      <tr> \n",
              "\n",
              "        <th data-type=\"string\">Tagged entity</th> \n",
              "        <th data-type=\"number\">'Species' tags</th> \n",
              "        <th data-type=\"number\">'O' tags</th> \n",
              "        <th data-type=\"number\">'LINNAEUS' tags</th>\n",
              "\n",
              "      </tr> \n",
              "    </thead> \n",
              "    <tbody>\n",
              "<tr><td><a href=\"documents/19667393.html\" target=\"iframe_a\">19667393</a></td>   <td>9</td><td>0</td><td>0</td></tr>\n",
              "<tr><td><a href=\"documents/20044015.html\" target=\"iframe_a\">20044015</a></td>   <td>6</td><td>2</td><td>0</td></tr>\n",
              "<tr><td><a href=\"documents/20118285.html\" target=\"iframe_a\">20118285</a></td>   <td>6</td><td>0</td><td>0</td></tr>\n",
              "<tr><td><a href=\"documents/20139282.html\" target=\"iframe_a\">20139282</a></td>   <td>4</td><td>1</td><td>0</td></tr>\n",
              "<tr><td><a href=\"documents/20139283.html\" target=\"iframe_a\">20139283</a></td>   <td>6</td><td>1</td><td>0</td></tr>\n",
              "<tr><td><a href=\"documents/20154326.html\" target=\"iframe_a\">20154326</a></td>   <td>17</td><td>0</td><td>0</td></tr>\n",
              "<tr><td><a href=\"documents/20154327.html\" target=\"iframe_a\">20154327</a></td>   <td>3</td><td>0</td><td>0</td></tr>\n",
              "<tr><td><a href=\"documents/20154328.html\" target=\"iframe_a\">20154328</a></td>   <td>2</td><td>0</td><td>0</td></tr>\n",
              "<tr><td><a href=\"documents/20154329.html\" target=\"iframe_a\">20154329</a></td>   <td>10</td><td>0</td><td>0</td></tr>\n",
              "<tr><td><a href=\"documents/20154330.html\" target=\"iframe_a\">20154330</a></td>   <td>13</td><td>0</td><td>0</td></tr>\n",
              "<tr><td><a href=\"documents/20154331.html\" target=\"iframe_a\">20154331</a></td>   <td>6</td><td>1</td><td>0</td></tr>\n",
              "<tr><td><a href=\"documents/20154332.html\" target=\"iframe_a\">20154332</a></td>   <td>12</td><td>0</td><td>0</td></tr>\n",
              "<tr><td><a href=\"documents/20173001.html\" target=\"iframe_a\">20173001</a></td>   <td>10</td><td>0</td><td>0</td></tr>\n",
              "<tr><td><a href=\"documents/20173007.html\" target=\"iframe_a\">20173007</a></td>   <td>11</td><td>0</td><td>0</td></tr>\n",
              "<tr><td><a href=\"documents/20173008.html\" target=\"iframe_a\">20173008</a></td>   <td>18</td><td>0</td><td>0</td></tr>\n",
              "<tr><td><a href=\"documents/20173010.html\" target=\"iframe_a\">20173010</a></td>   <td>14</td><td>0</td><td>0</td></tr>\n",
              "<tr><td><a href=\"documents/20173011.html\" target=\"iframe_a\">20173011</a></td>   <td>3</td><td>0</td><td>0</td></tr>\n",
              "<tr><td><a href=\"documents/20173012.html\" target=\"iframe_a\">20173012</a></td>   <td>5</td><td>1</td><td>0</td></tr>\n",
              "<tr><td><a href=\"documents/20173013.html\" target=\"iframe_a\">20173013</a></td>   <td>14</td><td>0</td><td>0</td></tr>\n",
              "<tr><td><a href=\"documents/20190018.html\" target=\"iframe_a\">20190018</a></td>   <td>0</td><td>4</td><td>4</td></tr>\n",
              "<tr><td><a href=\"documents/20190019.html\" target=\"iframe_a\">20190019</a></td>   <td>10</td><td>2</td><td>2</td></tr>\n",
              "<tr><td><a href=\"documents/20190020.html\" target=\"iframe_a\">20190020</a></td>   <td>3</td><td>0</td><td>0</td></tr>\n",
              "<tr><td><a href=\"documents/20433937.html\" target=\"iframe_a\">20433937</a></td>   <td>1</td><td>1</td><td>0</td></tr>\n",
              "<tr><td><a href=\"documents/20519149.html\" target=\"iframe_a\">20519149</a></td>   <td>2</td><td>0</td><td>0</td></tr>\n",
              "<tr><td><a href=\"documents/20519150.html\" target=\"iframe_a\">20519150</a></td>   <td>0</td><td>3</td><td>0</td></tr>\n",
              "<tr><td><a href=\"documents/20580606.html\" target=\"iframe_a\">20580606</a></td>   <td>0</td><td>14</td><td>14</td></tr>\n",
              "<tr><td><a href=\"documents/20601040.html\" target=\"iframe_a\">20601040</a></td>   <td>3</td><td>0</td><td>0</td></tr>\n",
              "<tr><td><a href=\"documents/20615753.html\" target=\"iframe_a\">20615753</a></td>   <td>0</td><td>0</td><td>0</td></tr>\n",
              "<tr><td><a href=\"documents/20619350.html\" target=\"iframe_a\">20619350</a></td>   <td>3</td><td>0</td><td>0</td></tr>\n",
              "<tr><td><a href=\"documents/20619886.html\" target=\"iframe_a\">20619886</a></td>   <td>0</td><td>0</td><td>0</td></tr>\n",
              "<tr><td><a href=\"documents/20633690.html\" target=\"iframe_a\">20633690</a></td>   <td>5</td><td>1</td><td>0</td></tr>\n",
              "<tr><td><a href=\"documents/20637818.html\" target=\"iframe_a\">20637818</a></td>   <td>5</td><td>2</td><td>0</td></tr>\n",
              "<tr><td><a href=\"documents/20643581.html\" target=\"iframe_a\">20643581</a></td>   <td>9</td><td>0</td><td>0</td></tr>\n",
              "<tr><td><a href=\"documents/20650683.html\" target=\"iframe_a\">20650683</a></td>   <td>1</td><td>0</td><td>0</td></tr>\n",
              "<tr><td><a href=\"documents/20650684.html\" target=\"iframe_a\">20650684</a></td>   <td>10</td><td>1</td><td>0</td></tr>\n",
              "<tr><td><a href=\"documents/20654725.html\" target=\"iframe_a\">20654725</a></td>   <td>2</td><td>0</td><td>0</td></tr>\n",
              "<tr><td><a href=\"documents/20659575.html\" target=\"iframe_a\">20659575</a></td>   <td>0</td><td>1</td><td>0</td></tr>\n",
              "<tr><td><a href=\"documents/20663713.html\" target=\"iframe_a\">20663713</a></td>   <td>5</td><td>0</td><td>0</td></tr>\n",
              "<tr><td><a href=\"documents/20663714.html\" target=\"iframe_a\">20663714</a></td>   <td>7</td><td>0</td><td>0</td></tr>\n",
              "<tr><td><a href=\"documents/20674490.html\" target=\"iframe_a\">20674490</a></td>   <td>5</td><td>0</td><td>0</td></tr>\n",
              "<tr><td><a href=\"documents/20674491.html\" target=\"iframe_a\">20674491</a></td>   <td>0</td><td>0</td><td>0</td></tr>\n",
              "<tr><td><a href=\"documents/20682355.html\" target=\"iframe_a\">20682355</a></td>   <td>8</td><td>0</td><td>0</td></tr>\n",
              "<tr><td><a href=\"documents/20708435.html\" target=\"iframe_a\">20708435</a></td>   <td>6</td><td>0</td><td>0</td></tr>\n",
              "<tr><td><a href=\"documents/20708961.html\" target=\"iframe_a\">20708961</a></td>   <td>10</td><td>0</td><td>0</td></tr>\n",
              "<tr><td><a href=\"documents/20708962.html\" target=\"iframe_a\">20708962</a></td>   <td>0</td><td>1</td><td>0</td></tr>\n",
              "<tr><td><a href=\"documents/20713166.html\" target=\"iframe_a\">20713166</a></td>   <td>9</td><td>0</td><td>0</td></tr>\n",
              "<tr><td><a href=\"documents/20719250.html\" target=\"iframe_a\">20719250</a></td>   <td>9</td><td>6</td><td>0</td></tr>\n",
              "<tr><td><a href=\"documents/20719377.html\" target=\"iframe_a\">20719377</a></td>   <td>0</td><td>1</td><td>1</td></tr>\n",
              "<tr><td><a href=\"documents/20726924.html\" target=\"iframe_a\">20726924</a></td>   <td>0</td><td>0</td><td>0</td></tr>\n",
              "<tr><td><a href=\"documents/20728557.html\" target=\"iframe_a\">20728557</a></td>   <td>4</td><td>0</td><td>0</td></tr>\n",
              "<tr><td><a href=\"documents/20735493.html\" target=\"iframe_a\">20735493</a></td>   <td>5</td><td>0</td><td>0</td></tr>\n",
              "<tr><td><a href=\"documents/20735792.html\" target=\"iframe_a\">20735792</a></td>   <td>0</td><td>1</td><td>0</td></tr>\n",
              "<tr><td><a href=\"documents/20796204.html\" target=\"iframe_a\">20796204</a></td>   <td>5</td><td>0</td><td>0</td></tr>\n",
              "<tr><td><a href=\"documents/20797444.html\" target=\"iframe_a\">20797444</a></td>   <td>2</td><td>0</td><td>0</td></tr>\n",
              "<tr><td><a href=\"documents/20807339.html\" target=\"iframe_a\">20807339</a></td>   <td>0</td><td>0</td><td>0</td></tr>\n",
              "<tr><td><a href=\"documents/20807371.html\" target=\"iframe_a\">20807371</a></td>   <td>1</td><td>0</td><td>0</td></tr>\n",
              "<tr><td><a href=\"documents/20807372.html\" target=\"iframe_a\">20807372</a></td>   <td>0</td><td>2</td><td>0</td></tr>\n",
              "<tr><td><a href=\"documents/20807586.html\" target=\"iframe_a\">20807586</a></td>   <td>0</td><td>1</td><td>0</td></tr>\n",
              "<tr><td><a href=\"documents/20809921.html\" target=\"iframe_a\">20809921</a></td>   <td>0</td><td>0</td><td>0</td></tr>\n",
              "<tr><td><a href=\"documents/20816830.html\" target=\"iframe_a\">20816830</a></td>   <td>2</td><td>2</td><td>0</td></tr>\n",
              "<tr><td><a href=\"documents/20817115.html\" target=\"iframe_a\">20817115</a></td>   <td>14</td><td>0</td><td>0</td></tr>\n",
              "<tr><td><a href=\"documents/20817555.html\" target=\"iframe_a\">20817555</a></td>   <td>4</td><td>0</td><td>0</td></tr>\n",
              "<tr><td><a href=\"documents/20825506.html\" target=\"iframe_a\">20825506</a></td>   <td>3</td><td>0</td><td>0</td></tr>\n",
              "<tr><td><a href=\"documents/20825576.html\" target=\"iframe_a\">20825576</a></td>   <td>0</td><td>0</td><td>0</td></tr>\n",
              "<tr><td><a href=\"documents/20825577.html\" target=\"iframe_a\">20825577</a></td>   <td>9</td><td>0</td><td>0</td></tr>\n",
              "<tr><td><a href=\"documents/20825578.html\" target=\"iframe_a\">20825578</a></td>   <td>3</td><td>0</td><td>0</td></tr>\n",
              "<tr><td><a href=\"documents/20825579.html\" target=\"iframe_a\">20825579</a></td>   <td>0</td><td>0</td><td>0</td></tr>\n",
              "<tr><td><a href=\"documents/20829107.html\" target=\"iframe_a\">20829107</a></td>   <td>2</td><td>0</td><td>0</td></tr>\n",
              "<tr><td><a href=\"documents/20831646.html\" target=\"iframe_a\">20831646</a></td>   <td>3</td><td>0</td><td>0</td></tr>\n",
              "<tr><td><a href=\"documents/20831647.html\" target=\"iframe_a\">20831647</a></td>   <td>0</td><td>0</td><td>0</td></tr>\n",
              "<tr><td><a href=\"documents/20831729.html\" target=\"iframe_a\">20831729</a></td>   <td>0</td><td>1</td><td>0</td></tr>\n",
              "<tr><td><a href=\"documents/20831730.html\" target=\"iframe_a\">20831730</a></td>   <td>9</td><td>0</td><td>0</td></tr>\n",
              "<tr><td><a href=\"documents/20837155.html\" target=\"iframe_a\">20837155</a></td>   <td>8</td><td>4</td><td>0</td></tr>\n",
              "<tr><td><a href=\"documents/20840499.html\" target=\"iframe_a\">20840499</a></td>   <td>2</td><td>0</td><td>0</td></tr>\n",
              "<tr><td><a href=\"documents/20840506.html\" target=\"iframe_a\">20840506</a></td>   <td>9</td><td>0</td><td>0</td></tr>\n",
              "<tr><td><a href=\"documents/20840510.html\" target=\"iframe_a\">20840510</a></td>   <td>6</td><td>0</td><td>0</td></tr>\n",
              "<tr><td><a href=\"documents/20840555.html\" target=\"iframe_a\">20840555</a></td>   <td>1</td><td>5</td><td>0</td></tr>\n",
              "<tr><td><a href=\"documents/20840607.html\" target=\"iframe_a\">20840607</a></td>   <td>0</td><td>0</td><td>0</td></tr>\n",
              "<tr><td><a href=\"documents/20840610.html\" target=\"iframe_a\">20840610</a></td>   <td>5</td><td>0</td><td>0</td></tr>\n",
              "<tr><td><a href=\"documents/20840611.html\" target=\"iframe_a\">20840611</a></td>   <td>0</td><td>1</td><td>0</td></tr>\n",
              "<tr><td><a href=\"documents/20849972.html\" target=\"iframe_a\">20849972</a></td>   <td>2</td><td>0</td><td>0</td></tr>\n",
              "<tr><td><a href=\"documents/20850479.html\" target=\"iframe_a\">20850479</a></td>   <td>9</td><td>1</td><td>0</td></tr>\n",
              "<tr><td><a href=\"documents/20854394.html\" target=\"iframe_a\">20854394</a></td>   <td>11</td><td>4</td><td>0</td></tr>\n",
              "<tr><td><a href=\"documents/20854397.html\" target=\"iframe_a\">20854397</a></td>   <td>1</td><td>1</td><td>0</td></tr>\n",
              "<tr><td><a href=\"documents/20854479.html\" target=\"iframe_a\">20854479</a></td>   <td>4</td><td>0</td><td>0</td></tr>\n",
              "<tr><td><a href=\"documents/20854480.html\" target=\"iframe_a\">20854480</a></td>   <td>7</td><td>0</td><td>0</td></tr>\n",
              "<tr><td><a href=\"documents/20854481.html\" target=\"iframe_a\">20854481</a></td>   <td>2</td><td>2</td><td>0</td></tr>\n",
              "<tr><td><a href=\"documents/20854482.html\" target=\"iframe_a\">20854482</a></td>   <td>4</td><td>0</td><td>0</td></tr>\n",
              "<tr><td><a href=\"documents/20863853.html\" target=\"iframe_a\">20863853</a></td>   <td>5</td><td>3</td><td>0</td></tr>\n",
              "<tr><td><a href=\"documents/20863856.html\" target=\"iframe_a\">20863856</a></td>   <td>14</td><td>2</td><td>0</td></tr>\n",
              "<tr><td><a href=\"documents/20868394.html\" target=\"iframe_a\">20868394</a></td>   <td>0</td><td>0</td><td>0</td></tr>\n",
              "<tr><td><a href=\"documents/20868395.html\" target=\"iframe_a\">20868395</a></td>   <td>6</td><td>0</td><td>0</td></tr>\n",
              "<tr><td><a href=\"documents/20869315.html\" target=\"iframe_a\">20869315</a></td>   <td>0</td><td>2</td><td>2</td></tr>\n",
              "<tr><td><a href=\"documents/20870768.html\" target=\"iframe_a\">20870768</a></td>   <td>1</td><td>1</td><td>0</td></tr>\n",
              "<tr><td><a href=\"documents/20874804.html\" target=\"iframe_a\">20874804</a></td>   <td>4</td><td>1</td><td>0</td></tr>\n",
              "<tr><td><a href=\"documents/20880020.html\" target=\"iframe_a\">20880020</a></td>   <td>4</td><td>0</td><td>0</td></tr>\n",
              "<tr><td><a href=\"documents/20880021.html\" target=\"iframe_a\">20880021</a></td>   <td>11</td><td>0</td><td>0</td></tr>\n",
              "<tr><td><a href=\"documents/20880023.html\" target=\"iframe_a\">20880023</a></td>   <td>9</td><td>0</td><td>0</td></tr>\n",
              "<tr><td><a href=\"documents/20880024.html\" target=\"iframe_a\">20880024</a></td>   <td>1</td><td>0</td><td>0</td></tr>\n",
              "<tr><td><a href=\"documents/20880038.html\" target=\"iframe_a\">20880038</a></td>   <td>0</td><td>1</td><td>0</td></tr>\n",
              "<tr><td><a href=\"documents/20880202.html\" target=\"iframe_a\">20880202</a></td>   <td>0</td><td>1</td><td>0</td></tr>\n",
              "<tr><td><a href=\"documents/20880204.html\" target=\"iframe_a\">20880204</a></td>   <td>2</td><td>1</td><td>0</td></tr>\n",
              "<tr><td><a href=\"documents/20880205.html\" target=\"iframe_a\">20880205</a></td>   <td>9</td><td>1</td><td>0</td></tr>\n",
              "<tr><td><a href=\"documents/20880224.html\" target=\"iframe_a\">20880224</a></td>   <td>4</td><td>0</td><td>0</td></tr>\n",
              "<tr><td><a href=\"documents/20880225.html\" target=\"iframe_a\">20880225</a></td>   <td>1</td><td>2</td><td>0</td></tr>\n",
              "<tr><td><a href=\"documents/20880226.html\" target=\"iframe_a\">20880226</a></td>   <td>3</td><td>0</td><td>0</td></tr>\n",
              "<tr><td><a href=\"documents/20884291.html\" target=\"iframe_a\">20884291</a></td>   <td>4</td><td>0</td><td>0</td></tr>\n",
              "<tr><td><a href=\"documents/20887752.html\" target=\"iframe_a\">20887752</a></td>   <td>7</td><td>1</td><td>1</td></tr>\n",
              "<tr><td><a href=\"documents/20887797.html\" target=\"iframe_a\">20887797</a></td>   <td>10</td><td>1</td><td>0</td></tr>\n",
              "<tr><td><a href=\"documents/20888422.html\" target=\"iframe_a\">20888422</a></td>   <td>6</td><td>0</td><td>0</td></tr>\n",
              "<tr><td><a href=\"documents/20888926.html\" target=\"iframe_a\">20888926</a></td>   <td>3</td><td>1</td><td>0</td></tr>\n",
              "<tr><td><a href=\"documents/20923688.html\" target=\"iframe_a\">20923688</a></td>   <td>6</td><td>7</td><td>3</td></tr>\n",
              "<tr><td><a href=\"documents/20923689.html\" target=\"iframe_a\">20923689</a></td>   <td>19</td><td>4</td><td>0</td></tr>\n",
              "<tr><td><a href=\"documents/20923690.html\" target=\"iframe_a\">20923690</a></td>   <td>6</td><td>2</td><td>0</td></tr>\n",
              "<tr><td><a href=\"documents/20932726.html\" target=\"iframe_a\">20932726</a></td>   <td>5</td><td>0</td><td>0</td></tr>\n",
              "<tr><td><a href=\"documents/20933014.html\" target=\"iframe_a\">20933014</a></td>   <td>10</td><td>1</td><td>1</td></tr>\n",
              "<tr><td><a href=\"documents/20933015.html\" target=\"iframe_a\">20933015</a></td>   <td>27</td><td>1</td><td>0</td></tr>\n",
              "<tr><td><a href=\"documents/20933016.html\" target=\"iframe_a\">20933016</a></td>   <td>14</td><td>1</td><td>0</td></tr>\n",
              "<tr><td><a href=\"documents/20933017.html\" target=\"iframe_a\">20933017</a></td>   <td>2</td><td>13</td><td>0</td></tr>\n",
              "<tr><td><a href=\"documents/20934378.html\" target=\"iframe_a\">20934378</a></td>   <td>0</td><td>1</td><td>1</td></tr>\n",
              "<tr><td><a href=\"documents/20943971.html\" target=\"iframe_a\">20943971</a></td>   <td>16</td><td>3</td><td>0</td></tr>\n",
              "<tr><td><a href=\"documents/20946131.html\" target=\"iframe_a\">20946131</a></td>   <td>6</td><td>1</td><td>0</td></tr>\n",
              "<tr><td><a href=\"documents/20946418.html\" target=\"iframe_a\">20946418</a></td>   <td>0</td><td>2</td><td>0</td></tr>\n",
              "<tr><td><a href=\"documents/20946532.html\" target=\"iframe_a\">20946532</a></td>   <td>6</td><td>0</td><td>0</td></tr>\n",
              "<tr><td><a href=\"documents/20946588.html\" target=\"iframe_a\">20946588</a></td>   <td>0</td><td>0</td><td>0</td></tr>\n",
              "<tr><td><a href=\"documents/20946918.html\" target=\"iframe_a\">20946918</a></td>   <td>6</td><td>1</td><td>1</td></tr>\n",
              "<tr><td><a href=\"documents/20951166.html\" target=\"iframe_a\">20951166</a></td>   <td>9</td><td>8</td><td>0</td></tr>\n",
              "<tr><td><a href=\"documents/20951167.html\" target=\"iframe_a\">20951167</a></td>   <td>1</td><td>0</td><td>0</td></tr>\n",
              "<tr><td><a href=\"documents/20951743.html\" target=\"iframe_a\">20951743</a></td>   <td>24</td><td>3</td><td>0</td></tr>\n",
              "<tr><td><a href=\"documents/20951744.html\" target=\"iframe_a\">20951744</a></td>   <td>9</td><td>2</td><td>0</td></tr>\n",
              "<tr><td><a href=\"documents/20951745.html\" target=\"iframe_a\">20951745</a></td>   <td>2</td><td>1</td><td>0</td></tr>\n",
              "<tr><td><a href=\"documents/20955222.html\" target=\"iframe_a\">20955222</a></td>   <td>5</td><td>0</td><td>0</td></tr>\n",
              "<tr><td><a href=\"documents/20955223.html\" target=\"iframe_a\">20955223</a></td>   <td>1</td><td>0</td><td>0</td></tr>\n",
              "<tr><td><a href=\"documents/20955224.html\" target=\"iframe_a\">20955224</a></td>   <td>2</td><td>0</td><td>0</td></tr>\n",
              "<tr><td><a href=\"documents/20955225.html\" target=\"iframe_a\">20955225</a></td>   <td>3</td><td>1</td><td>0</td></tr>\n",
              "<tr><td><a href=\"documents/20955227.html\" target=\"iframe_a\">20955227</a></td>   <td>1</td><td>1</td><td>0</td></tr>\n",
              "<tr><td><a href=\"documents/20955810.html\" target=\"iframe_a\">20955810</a></td>   <td>3</td><td>0</td><td>0</td></tr>\n",
              "<tr><td><a href=\"documents/20955812.html\" target=\"iframe_a\">20955812</a></td>   <td>5</td><td>0</td><td>0</td></tr>\n",
              "<tr><td><a href=\"documents/20955813.html\" target=\"iframe_a\">20955813</a></td>   <td>18</td><td>1</td><td>0</td></tr>\n",
              "<tr><td><a href=\"documents/20958305.html\" target=\"iframe_a\">20958305</a></td>   <td>0</td><td>0</td><td>0</td></tr>\n",
              "<tr><td><a href=\"documents/20958807.html\" target=\"iframe_a\">20958807</a></td>   <td>3</td><td>0</td><td>0</td></tr>\n",
              "<tr><td><a href=\"documents/20958808.html\" target=\"iframe_a\">20958808</a></td>   <td>6</td><td>0</td><td>0</td></tr>\n",
              "<tr><td><a href=\"documents/20961294.html\" target=\"iframe_a\">20961294</a></td>   <td>3</td><td>4</td><td>0</td></tr>\n",
              "<tr><td><a href=\"documents/20961741.html\" target=\"iframe_a\">20961741</a></td>   <td>1</td><td>0</td><td>0</td></tr>\n",
              "<tr><td><a href=\"documents/20962076.html\" target=\"iframe_a\">20962076</a></td>   <td>5</td><td>4</td><td>0</td></tr>\n",
              "<tr><td><a href=\"documents/20962078.html\" target=\"iframe_a\">20962078</a></td>   <td>10</td><td>3</td><td>0</td></tr>\n",
              "<tr><td><a href=\"documents/20962079.html\" target=\"iframe_a\">20962079</a></td>   <td>8</td><td>4</td><td>0</td></tr>\n",
              "<tr><td><a href=\"documents/20962080.html\" target=\"iframe_a\">20962080</a></td>   <td>10</td><td>1</td><td>0</td></tr>\n",
              "<tr><td><a href=\"documents/20962084.html\" target=\"iframe_a\">20962084</a></td>   <td>13</td><td>15</td><td>0</td></tr>\n",
              "<tr><td><a href=\"documents/20962085.html\" target=\"iframe_a\">20962085</a></td>   <td>3</td><td>5</td><td>4</td></tr>\n",
              "<tr><td><a href=\"documents/20962086.html\" target=\"iframe_a\">20962086</a></td>   <td>8</td><td>4</td><td>0</td></tr>\n",
              "<tr><td><a href=\"documents/20962087.html\" target=\"iframe_a\">20962087</a></td>   <td>6</td><td>6</td><td>0</td></tr>\n",
              "<tr><td><a href=\"documents/20962088.html\" target=\"iframe_a\">20962088</a></td>   <td>0</td><td>6</td><td>0</td></tr>\n",
              "<tr><td><a href=\"documents/20962090.html\" target=\"iframe_a\">20962090</a></td>   <td>9</td><td>5</td><td>0</td></tr>\n",
              "<tr><td><a href=\"documents/20962091.html\" target=\"iframe_a\">20962091</a></td>   <td>8</td><td>4</td><td>0</td></tr>\n",
              "<tr><td><a href=\"documents/20962092.html\" target=\"iframe_a\">20962092</a></td>   <td>22</td><td>5</td><td>3</td></tr>\n",
              "<tr><td><a href=\"documents/20962093.html\" target=\"iframe_a\">20962093</a></td>   <td>9</td><td>3</td><td>0</td></tr>\n",
              "<tr><td><a href=\"documents/20962094.html\" target=\"iframe_a\">20962094</a></td>   <td>7</td><td>5</td><td>0</td></tr>\n",
              "<tr><td><a href=\"documents/20962095.html\" target=\"iframe_a\">20962095</a></td>   <td>12</td><td>5</td><td>0</td></tr>\n",
              "<tr><td><a href=\"documents/20962096.html\" target=\"iframe_a\">20962096</a></td>   <td>6</td><td>3</td><td>0</td></tr>\n",
              "<tr><td><a href=\"documents/20962097.html\" target=\"iframe_a\">20962097</a></td>   <td>15</td><td>1</td><td>1</td></tr>\n",
              "<tr><td><a href=\"documents/20962099.html\" target=\"iframe_a\">20962099</a></td>   <td>25</td><td>11</td><td>8</td></tr>\n",
              "<tr><td><a href=\"documents/20962100.html\" target=\"iframe_a\">20962100</a></td>   <td>12</td><td>0</td><td>0</td></tr>\n",
              "<tr><td><a href=\"documents/20964684.html\" target=\"iframe_a\">20964684</a></td>   <td>1</td><td>0</td><td>0</td></tr>\n",
              "<tr><td><a href=\"documents/20964685.html\" target=\"iframe_a\">20964685</a></td>   <td>2</td><td>0</td><td>0</td></tr>\n",
              "<tr><td><a href=\"documents/20964687.html\" target=\"iframe_a\">20964687</a></td>   <td>1</td><td>0</td><td>0</td></tr>\n",
              "<tr><td><a href=\"documents/20964691.html\" target=\"iframe_a\">20964691</a></td>   <td>7</td><td>0</td><td>0</td></tr>\n",
              "<tr><td><a href=\"documents/20964693.html\" target=\"iframe_a\">20964693</a></td>   <td>7</td><td>0</td><td>0</td></tr>\n",
              "<tr><td><a href=\"documents/20965267.html\" target=\"iframe_a\">20965267</a></td>   <td>9</td><td>1</td><td>0</td></tr>\n",
              "<tr><td><a href=\"documents/20970456.html\" target=\"iframe_a\">20970456</a></td>   <td>8</td><td>0</td><td>0</td></tr>\n",
              "<tr><td><a href=\"documents/20970457.html\" target=\"iframe_a\">20970457</a></td>   <td>10</td><td>2</td><td>2</td></tr>\n",
              "<tr><td><a href=\"documents/20971037.html\" target=\"iframe_a\">20971037</a></td>   <td>0</td><td>0</td><td>0</td></tr>\n",
              "<tr><td><a href=\"documents/20971202.html\" target=\"iframe_a\">20971202</a></td>   <td>9</td><td>2</td><td>1</td></tr>\n",
              "<tr><td><a href=\"documents/20971898.html\" target=\"iframe_a\">20971898</a></td>   <td>5</td><td>0</td><td>0</td></tr>\n",
              "<tr><td><a href=\"documents/20971899.html\" target=\"iframe_a\">20971899</a></td>   <td>4</td><td>1</td><td>0</td></tr>\n",
              "<tr><td><a href=\"documents/20971900.html\" target=\"iframe_a\">20971900</a></td>   <td>1</td><td>3</td><td>0</td></tr>\n",
              "<tr><td><a href=\"documents/20971901.html\" target=\"iframe_a\">20971901</a></td>   <td>5</td><td>0</td><td>0</td></tr>\n",
              "<tr><td><a href=\"documents/20971902.html\" target=\"iframe_a\">20971902</a></td>   <td>3</td><td>0</td><td>0</td></tr>\n",
              "<tr><td><a href=\"documents/20971904.html\" target=\"iframe_a\">20971904</a></td>   <td>11</td><td>2</td><td>0</td></tr>\n",
              "<tr><td><a href=\"documents/20971906.html\" target=\"iframe_a\">20971906</a></td>   <td>3</td><td>2</td><td>0</td></tr>\n",
              "<tr><td><a href=\"documents/20971907.html\" target=\"iframe_a\">20971907</a></td>   <td>4</td><td>0</td><td>0</td></tr>\n",
              "<tr><td><a href=\"documents/20971909.html\" target=\"iframe_a\">20971909</a></td>   <td>10</td><td>0</td><td>0</td></tr>\n",
              "<tr><td><a href=\"documents/20971910.html\" target=\"iframe_a\">20971910</a></td>   <td>3</td><td>0</td><td>0</td></tr>\n",
              "<tr><td><a href=\"documents/20971911.html\" target=\"iframe_a\">20971911</a></td>   <td>7</td><td>0</td><td>0</td></tr>\n",
              "<tr><td><a href=\"documents/20971913.html\" target=\"iframe_a\">20971913</a></td>   <td>11</td><td>1</td><td>0</td></tr>\n",
              "<tr><td><a href=\"documents/20971915.html\" target=\"iframe_a\">20971915</a></td>   <td>3</td><td>0</td><td>0</td></tr>\n",
              "<tr><td><a href=\"documents/20971916.html\" target=\"iframe_a\">20971916</a></td>   <td>2</td><td>0</td><td>0</td></tr>\n",
              "<tr><td><a href=\"documents/20974179.html\" target=\"iframe_a\">20974179</a></td>   <td>6</td><td>3</td><td>0</td></tr>\n",
              "<tr><td><a href=\"documents/20977507.html\" target=\"iframe_a\">20977507</a></td>   <td>0</td><td>1</td><td>0</td></tr>\n",
              "<tr><td><a href=\"documents/20977508.html\" target=\"iframe_a\">20977508</a></td>   <td>3</td><td>0</td><td>0</td></tr>\n",
              "<tr><td><a href=\"documents/20980497.html\" target=\"iframe_a\">20980497</a></td>   <td>10</td><td>1</td><td>0</td></tr>\n",
              "<tr><td><a href=\"documents/20980498.html\" target=\"iframe_a\">20980498</a></td>   <td>4</td><td>6</td><td>0</td></tr>\n",
              "<tr><td><a href=\"documents/20980499.html\" target=\"iframe_a\">20980499</a></td>   <td>3</td><td>2</td><td>0</td></tr>\n",
              "<tr><td><a href=\"documents/20980500.html\" target=\"iframe_a\">20980500</a></td>   <td>13</td><td>4</td><td>2</td></tr>\n",
              "<tr><td><a href=\"documents/20980502.html\" target=\"iframe_a\">20980502</a></td>   <td>8</td><td>5</td><td>0</td></tr>\n",
              "<tr><td><a href=\"documents/20980503.html\" target=\"iframe_a\">20980503</a></td>   <td>11</td><td>1</td><td>0</td></tr>\n",
              "<tr><td><a href=\"documents/20980504.html\" target=\"iframe_a\">20980504</a></td>   <td>1</td><td>0</td><td>0</td></tr>\n",
              "<tr><td><a href=\"documents/20980507.html\" target=\"iframe_a\">20980507</a></td>   <td>12</td><td>5</td><td>0</td></tr>\n",
              "<tr><td><a href=\"documents/20980509.html\" target=\"iframe_a\">20980509</a></td>   <td>2</td><td>0</td><td>0</td></tr>\n",
              "<tr><td><a href=\"documents/20980510.html\" target=\"iframe_a\">20980510</a></td>   <td>23</td><td>3</td><td>2</td></tr>\n",
              "<tr><td><a href=\"documents/20980514.html\" target=\"iframe_a\">20980514</a></td>   <td>4</td><td>1</td><td>0</td></tr>\n",
              "<tr><td><a href=\"documents/20980515.html\" target=\"iframe_a\">20980515</a></td>   <td>14</td><td>4</td><td>1</td></tr>\n",
              "<tr><td><a href=\"documents/20980516.html\" target=\"iframe_a\">20980516</a></td>   <td>1</td><td>2</td><td>0</td></tr>\n",
              "<tr><td><a href=\"documents/20980518.html\" target=\"iframe_a\">20980518</a></td>   <td>5</td><td>1</td><td>0</td></tr>\n",
              "<tr><td><a href=\"documents/20980520.html\" target=\"iframe_a\">20980520</a></td>   <td>9</td><td>3</td><td>0</td></tr>\n",
              "<tr><td><a href=\"documents/20980521.html\" target=\"iframe_a\">20980521</a></td>   <td>18</td><td>13</td><td>0</td></tr>\n",
              "<tr><td><a href=\"documents/20980523.html\" target=\"iframe_a\">20980523</a></td>   <td>11</td><td>7</td><td>0</td></tr>\n",
              "<tr><td><a href=\"documents/20980524.html\" target=\"iframe_a\">20980524</a></td>   <td>12</td><td>10</td><td>5</td></tr>\n",
              "<tr><td><a href=\"documents/20980525.html\" target=\"iframe_a\">20980525</a></td>   <td>2</td><td>2</td><td>0</td></tr>\n",
              "<tr><td><a href=\"documents/21029103.html\" target=\"iframe_a\">21029103</a></td>   <td>6</td><td>0</td><td>0</td></tr>\n",
              "<tr><td><a href=\"documents/21029104.html\" target=\"iframe_a\">21029104</a></td>   <td>2</td><td>2</td><td>0</td></tr>\n",
              "<tr><td><a href=\"documents/21029117.html\" target=\"iframe_a\">21029117</a></td>   <td>2</td><td>0</td><td>0</td></tr>\n",
              "<tr><td><a href=\"documents/21029232.html\" target=\"iframe_a\">21029232</a></td>   <td>6</td><td>0</td><td>0</td></tr>\n",
              "<tr><td><a href=\"documents/21029749.html\" target=\"iframe_a\">21029749</a></td>   <td>11</td><td>1</td><td>1</td></tr>\n",
              "<tr><td><a href=\"documents/21029750.html\" target=\"iframe_a\">21029750</a></td>   <td>14</td><td>8</td><td>4</td></tr>\n",
              "<tr><td><a href=\"documents/21029751.html\" target=\"iframe_a\">21029751</a></td>   <td>13</td><td>1</td><td>0</td></tr>\n",
              "<tr><td><a href=\"documents/21029752.html\" target=\"iframe_a\">21029752</a></td>   <td>3</td><td>3</td><td>0</td></tr>\n",
              "<tr><td><a href=\"documents/21034772.html\" target=\"iframe_a\">21034772</a></td>   <td>12</td><td>1</td><td>0</td></tr>\n",
              "<tr><td><a href=\"documents/21034774.html\" target=\"iframe_a\">21034774</a></td>   <td>5</td><td>1</td><td>0</td></tr>\n",
              "<tr><td><a href=\"documents/21034775.html\" target=\"iframe_a\">21034775</a></td>   <td>9</td><td>5</td><td>2</td></tr>\n",
              "<tr><td><a href=\"documents/21034776.html\" target=\"iframe_a\">21034776</a></td>   <td>5</td><td>2</td><td>1</td></tr>\n",
              "<tr><td><a href=\"documents/21036992.html\" target=\"iframe_a\">21036992</a></td>   <td>4</td><td>2</td><td>0</td></tr>\n",
              "<tr><td><a href=\"documents/21036993.html\" target=\"iframe_a\">21036993</a></td>   <td>0</td><td>0</td><td>0</td></tr>\n",
              "<tr><td><a href=\"documents/21036994.html\" target=\"iframe_a\">21036994</a></td>   <td>1</td><td>2</td><td>0</td></tr>\n",
              "<tr><td><a href=\"documents/21036997.html\" target=\"iframe_a\">21036997</a></td>   <td>2</td><td>1</td><td>1</td></tr>\n",
              "<tr><td><a href=\"documents/21037000.html\" target=\"iframe_a\">21037000</a></td>   <td>0</td><td>0</td><td>0</td></tr>\n",
              "<tr><td><a href=\"documents/21037002.html\" target=\"iframe_a\">21037002</a></td>   <td>4</td><td>0</td><td>0</td></tr>\n",
              "<tr><td><a href=\"documents/21037006.html\" target=\"iframe_a\">21037006</a></td>   <td>4</td><td>1</td><td>1</td></tr>\n",
              "<tr><td><a href=\"documents/21037007.html\" target=\"iframe_a\">21037007</a></td>   <td>2</td><td>0</td><td>0</td></tr>\n",
              "<tr><td><a href=\"documents/21037011.html\" target=\"iframe_a\">21037011</a></td>   <td>3</td><td>1</td><td>1</td></tr>\n",
              "<tr><td><a href=\"documents/21037013.html\" target=\"iframe_a\">21037013</a></td>   <td>5</td><td>0</td><td>0</td></tr>\n",
              "<tr><td><a href=\"documents/21037014.html\" target=\"iframe_a\">21037014</a></td>   <td>1</td><td>1</td><td>0</td></tr>\n",
              "<tr><td><a href=\"documents/21037015.html\" target=\"iframe_a\">21037015</a></td>   <td>3</td><td>0</td><td>0</td></tr>\n",
              "<tr><td><a href=\"documents/21039479.html\" target=\"iframe_a\">21039479</a></td>   <td>3</td><td>0</td><td>0</td></tr>\n",
              "<tr><td><a href=\"documents/21039558.html\" target=\"iframe_a\">21039558</a></td>   <td>3</td><td>0</td><td>0</td></tr>\n",
              "<tr><td><a href=\"documents/21039559.html\" target=\"iframe_a\">21039559</a></td>   <td>15</td><td>5</td><td>0</td></tr>\n",
              "<tr><td><a href=\"documents/21039560.html\" target=\"iframe_a\">21039560</a></td>   <td>6</td><td>2</td><td>0</td></tr>\n",
              "<tr><td><a href=\"documents/21039562.html\" target=\"iframe_a\">21039562</a></td>   <td>4</td><td>0</td><td>0</td></tr>\n",
              "<tr><td><a href=\"documents/21039563.html\" target=\"iframe_a\">21039563</a></td>   <td>0</td><td>0</td><td>0</td></tr>\n",
              "<tr><td><a href=\"documents/21039564.html\" target=\"iframe_a\">21039564</a></td>   <td>5</td><td>1</td><td>1</td></tr>\n",
              "<tr><td><a href=\"documents/21039565.html\" target=\"iframe_a\">21039565</a></td>   <td>6</td><td>1</td><td>0</td></tr>\n",
              "<tr><td><a href=\"documents/21039566.html\" target=\"iframe_a\">21039566</a></td>   <td>3</td><td>1</td><td>0</td></tr>\n",
              "<tr><td><a href=\"documents/21039568.html\" target=\"iframe_a\">21039568</a></td>   <td>7</td><td>4</td><td>0</td></tr>\n",
              "<tr><td><a href=\"documents/21039570.html\" target=\"iframe_a\">21039570</a></td>   <td>4</td><td>1</td><td>0</td></tr>\n",
              "<tr><td><a href=\"documents/21039609.html\" target=\"iframe_a\">21039609</a></td>   <td>0</td><td>0</td><td>0</td></tr>\n",
              "<tr><td><a href=\"documents/21047954.html\" target=\"iframe_a\">21047954</a></td>   <td>2</td><td>7</td><td>0</td></tr>\n",
              "<tr><td><a href=\"documents/21047956.html\" target=\"iframe_a\">21047956</a></td>   <td>5</td><td>2</td><td>0</td></tr>\n",
              "<tr><td><a href=\"documents/21047958.html\" target=\"iframe_a\">21047958</a></td>   <td>5</td><td>2</td><td>0</td></tr>\n",
              "<tr><td><a href=\"documents/21054380.html\" target=\"iframe_a\">21054380</a></td>   <td>0</td><td>0</td><td>0</td></tr>\n",
              "<tr><td><a href=\"documents/21054381.html\" target=\"iframe_a\">21054381</a></td>   <td>6</td><td>0</td><td>0</td></tr>\n",
              "<tr><td><a href=\"documents/21054410.html\" target=\"iframe_a\">21054410</a></td>   <td>5</td><td>1</td><td>0</td></tr>\n",
              "<tr><td><a href=\"documents/21054436.html\" target=\"iframe_a\">21054436</a></td>   <td>2</td><td>0</td><td>0</td></tr>\n",
              "<tr><td><a href=\"documents/21054437.html\" target=\"iframe_a\">21054437</a></td>   <td>2</td><td>0</td><td>0</td></tr>\n",
              "<tr><td><a href=\"documents/21054438.html\" target=\"iframe_a\">21054438</a></td>   <td>0</td><td>3</td><td>0</td></tr>\n",
              "<tr><td><a href=\"documents/21057007.html\" target=\"iframe_a\">21057007</a></td>   <td>2</td><td>0</td><td>0</td></tr>\n",
              "<tr><td><a href=\"documents/21057009.html\" target=\"iframe_a\">21057009</a></td>   <td>1</td><td>3</td><td>0</td></tr>\n",
              "<tr><td><a href=\"documents/21057010.html\" target=\"iframe_a\">21057010</a></td>   <td>6</td><td>5</td><td>0</td></tr>\n",
              "<tr><td><a href=\"documents/21062316.html\" target=\"iframe_a\">21062316</a></td>   <td>3</td><td>1</td><td>0</td></tr>\n",
              "<tr><td><a href=\"documents/21062318.html\" target=\"iframe_a\">21062318</a></td>   <td>2</td><td>1</td><td>0</td></tr>\n",
              "<tr><td><a href=\"documents/21062319.html\" target=\"iframe_a\">21062319</a></td>   <td>0</td><td>0</td><td>0</td></tr>\n",
              "<tr><td><a href=\"documents/21062320.html\" target=\"iframe_a\">21062320</a></td>   <td>0</td><td>0</td><td>0</td></tr>\n",
              "<tr><td><a href=\"documents/21067973.html\" target=\"iframe_a\">21067973</a></td>   <td>0</td><td>2</td><td>0</td></tr>\n",
              "<tr><td><a href=\"documents/21070858.html\" target=\"iframe_a\">21070858</a></td>   <td>2</td><td>0</td><td>0</td></tr>\n",
              "<tr><td><a href=\"documents/21071191.html\" target=\"iframe_a\">21071191</a></td>   <td>3</td><td>0</td><td>0</td></tr>\n",
              "<tr><td><a href=\"documents/21073454.html\" target=\"iframe_a\">21073454</a></td>   <td>0</td><td>0</td><td>0</td></tr>\n",
              "<tr><td><a href=\"documents/21073455.html\" target=\"iframe_a\">21073455</a></td>   <td>4</td><td>1</td><td>0</td></tr>\n",
              "<tr><td><a href=\"documents/21073976.html\" target=\"iframe_a\">21073976</a></td>   <td>2</td><td>3</td><td>0</td></tr>\n",
              "<tr><td><a href=\"documents/21073977.html\" target=\"iframe_a\">21073977</a></td>   <td>8</td><td>1</td><td>0</td></tr>\n",
              "<tr><td><a href=\"documents/21074256.html\" target=\"iframe_a\">21074256</a></td>   <td>0</td><td>0</td><td>0</td></tr>\n",
              "<tr><td><a href=\"documents/21074391.html\" target=\"iframe_a\">21074391</a></td>   <td>1</td><td>0</td><td>0</td></tr>\n",
              "<tr><td><a href=\"documents/21075922.html\" target=\"iframe_a\">21075922</a></td>   <td>2</td><td>0</td><td>0</td></tr>\n",
              "<tr><td><a href=\"documents/21075924.html\" target=\"iframe_a\">21075924</a></td>   <td>11</td><td>0</td><td>0</td></tr>\n",
              "<tr><td><a href=\"documents/21075925.html\" target=\"iframe_a\">21075925</a></td>   <td>2</td><td>0</td><td>0</td></tr>\n",
              "<tr><td><a href=\"documents/21075927.html\" target=\"iframe_a\">21075927</a></td>   <td>3</td><td>1</td><td>0</td></tr>\n",
              "<tr><td><a href=\"documents/21075929.html\" target=\"iframe_a\">21075929</a></td>   <td>2</td><td>0</td><td>0</td></tr>\n",
              "<tr><td><a href=\"documents/21083871.html\" target=\"iframe_a\">21083871</a></td>   <td>3</td><td>0</td><td>0</td></tr>\n",
              "<tr><td><a href=\"documents/21084112.html\" target=\"iframe_a\">21084112</a></td>   <td>6</td><td>3</td><td>2</td></tr>\n",
              "<tr><td><a href=\"documents/21087459.html\" target=\"iframe_a\">21087459</a></td>   <td>0</td><td>1</td><td>0</td></tr>\n",
              "<tr><td><a href=\"documents/21091811.html\" target=\"iframe_a\">21091811</a></td>   <td>7</td><td>1</td><td>1</td></tr>\n",
              "<tr><td><a href=\"documents/21093904.html\" target=\"iframe_a\">21093904</a></td>   <td>0</td><td>2</td><td>2</td></tr>\n",
              "<tr><td><a href=\"documents/21094264.html\" target=\"iframe_a\">21094264</a></td>   <td>4</td><td>1</td><td>0</td></tr>\n",
              "<tr><td><a href=\"documents/21097609.html\" target=\"iframe_a\">21097609</a></td>   <td>4</td><td>1</td><td>0</td></tr>\n",
              "<tr><td><a href=\"documents/21097612.html\" target=\"iframe_a\">21097612</a></td>   <td>3</td><td>0</td><td>0</td></tr>\n",
              "<tr><td><a href=\"documents/21097613.html\" target=\"iframe_a\">21097613</a></td>   <td>3</td><td>0</td><td>0</td></tr>\n",
              "<tr><td><a href=\"documents/21097616.html\" target=\"iframe_a\">21097616</a></td>   <td>1</td><td>0</td><td>0</td></tr>\n",
              "<tr><td><a href=\"documents/21097618.html\" target=\"iframe_a\">21097618</a></td>   <td>2</td><td>1</td><td>0</td></tr>\n",
              "<tr><td><a href=\"documents/21097623.html\" target=\"iframe_a\">21097623</a></td>   <td>3</td><td>0</td><td>0</td></tr>\n",
              "<tr><td><a href=\"documents/21097625.html\" target=\"iframe_a\">21097625</a></td>   <td>3</td><td>0</td><td>0</td></tr>\n",
              "<tr><td><a href=\"documents/21097626.html\" target=\"iframe_a\">21097626</a></td>   <td>6</td><td>1</td><td>0</td></tr>\n",
              "<tr><td><a href=\"documents/21097627.html\" target=\"iframe_a\">21097627</a></td>   <td>4</td><td>0</td><td>0</td></tr>\n",
              "<tr><td><a href=\"documents/21097629.html\" target=\"iframe_a\">21097629</a></td>   <td>11</td><td>2</td><td>0</td></tr>\n",
              "<tr><td><a href=\"documents/21097630.html\" target=\"iframe_a\">21097630</a></td>   <td>0</td><td>0</td><td>0</td></tr>\n",
              "<tr><td><a href=\"documents/21097631.html\" target=\"iframe_a\">21097631</a></td>   <td>3</td><td>0</td><td>0</td></tr>\n",
              "<tr><td><a href=\"documents/21097632.html\" target=\"iframe_a\">21097632</a></td>   <td>4</td><td>0</td><td>0</td></tr>\n",
              "<tr><td><a href=\"documents/21097633.html\" target=\"iframe_a\">21097633</a></td>   <td>3</td><td>1</td><td>0</td></tr>\n",
              "<tr><td><a href=\"documents/21097634.html\" target=\"iframe_a\">21097634</a></td>   <td>2</td><td>0</td><td>0</td></tr>\n",
              "<tr><td><a href=\"documents/21109013.html\" target=\"iframe_a\">21109013</a></td>   <td>3</td><td>0</td><td>0</td></tr>\n",
              "<tr><td><a href=\"documents/21109491.html\" target=\"iframe_a\">21109491</a></td>   <td>0</td><td>0</td><td>0</td></tr>\n",
              "<tr><td><a href=\"documents/21111055.html\" target=\"iframe_a\">21111055</a></td>   <td>8</td><td>1</td><td>0</td></tr>\n",
              "<tr><td><a href=\"documents/21112814.html\" target=\"iframe_a\">21112814</a></td>   <td>10</td><td>1</td><td>0</td></tr>\n",
              "<tr><td><a href=\"documents/21114562.html\" target=\"iframe_a\">21114562</a></td>   <td>4</td><td>0</td><td>0</td></tr>\n",
              "<tr><td><a href=\"documents/21115656.html\" target=\"iframe_a\">21115656</a></td>   <td>2</td><td>0</td><td>0</td></tr>\n",
              "<tr><td><a href=\"documents/21115657.html\" target=\"iframe_a\">21115657</a></td>   <td>5</td><td>0</td><td>0</td></tr>\n",
              "<tr><td><a href=\"documents/21118200.html\" target=\"iframe_a\">21118200</a></td>   <td>1</td><td>0</td><td>0</td></tr>\n",
              "<tr><td><a href=\"documents/21118326.html\" target=\"iframe_a\">21118326</a></td>   <td>7</td><td>1</td><td>0</td></tr>\n",
              "<tr><td><a href=\"documents/21118421.html\" target=\"iframe_a\">21118421</a></td>   <td>5</td><td>0</td><td>0</td></tr>\n",
              "<tr><td><a href=\"documents/21118422.html\" target=\"iframe_a\">21118422</a></td>   <td>1</td><td>0</td><td>0</td></tr>\n",
              "<tr><td><a href=\"documents/21118423.html\" target=\"iframe_a\">21118423</a></td>   <td>1</td><td>0</td><td>0</td></tr>\n",
              "<tr><td><a href=\"documents/21118424.html\" target=\"iframe_a\">21118424</a></td>   <td>0</td><td>0</td><td>0</td></tr>\n",
              "<tr><td><a href=\"documents/21130034.html\" target=\"iframe_a\">21130034</a></td>   <td>0</td><td>0</td><td>0</td></tr>\n",
              "<tr><td><a href=\"documents/21131484.html\" target=\"iframe_a\">21131484</a></td>   <td>0</td><td>0</td><td>0</td></tr>\n",
              "<tr><td><a href=\"documents/21131485.html\" target=\"iframe_a\">21131485</a></td>   <td>6</td><td>1</td><td>0</td></tr>\n",
              "<tr><td><a href=\"documents/21131488.html\" target=\"iframe_a\">21131488</a></td>   <td>17</td><td>1</td><td>0</td></tr>\n",
              "<tr><td><a href=\"documents/21131490.html\" target=\"iframe_a\">21131490</a></td>   <td>2</td><td>0</td><td>0</td></tr>\n",
              "<tr><td><a href=\"documents/21131491.html\" target=\"iframe_a\">21131491</a></td>   <td>2</td><td>0</td><td>0</td></tr>\n",
              "<tr><td><a href=\"documents/21131496.html\" target=\"iframe_a\">21131496</a></td>   <td>15</td><td>0</td><td>0</td></tr>\n",
              "<tr><td><a href=\"documents/21131497.html\" target=\"iframe_a\">21131497</a></td>   <td>6</td><td>1</td><td>0</td></tr>\n",
              "<tr><td><a href=\"documents/21134480.html\" target=\"iframe_a\">21134480</a></td>   <td>3</td><td>1</td><td>0</td></tr>\n",
              "<tr><td><a href=\"documents/21145409.html\" target=\"iframe_a\">21145409</a></td>   <td>12</td><td>0</td><td>0</td></tr>\n",
              "<tr><td><a href=\"documents/21146624.html\" target=\"iframe_a\">21146624</a></td>   <td>6</td><td>0</td><td>0</td></tr>\n",
              "<tr><td><a href=\"documents/21147032.html\" target=\"iframe_a\">21147032</a></td>   <td>0</td><td>2</td><td>2</td></tr>\n",
              "<tr><td><a href=\"documents/21147038.html\" target=\"iframe_a\">21147038</a></td>   <td>1</td><td>1</td><td>0</td></tr>\n",
              "<tr><td><a href=\"documents/21147039.html\" target=\"iframe_a\">21147039</a></td>   <td>0</td><td>2</td><td>1</td></tr>\n",
              "<tr><td><a href=\"documents/21148724.html\" target=\"iframe_a\">21148724</a></td>   <td>2</td><td>1</td><td>0</td></tr>\n",
              "<tr><td><a href=\"documents/21148727.html\" target=\"iframe_a\">21148727</a></td>   <td>0</td><td>1</td><td>0</td></tr>\n",
              "<tr><td><a href=\"documents/21148729.html\" target=\"iframe_a\">21148729</a></td>   <td>1</td><td>0</td><td>0</td></tr>\n",
              "<tr><td><a href=\"documents/21148730.html\" target=\"iframe_a\">21148730</a></td>   <td>6</td><td>2</td><td>0</td></tr>\n",
              "<tr><td><a href=\"documents/21148732.html\" target=\"iframe_a\">21148732</a></td>   <td>10</td><td>0</td><td>0</td></tr>\n",
              "<tr><td><a href=\"documents/21148733.html\" target=\"iframe_a\">21148733</a></td>   <td>4</td><td>0</td><td>0</td></tr>\n",
              "<tr><td><a href=\"documents/21155769.html\" target=\"iframe_a\">21155769</a></td>   <td>1</td><td>0</td><td>0</td></tr>\n",
              "<tr><td><a href=\"documents/21155770.html\" target=\"iframe_a\">21155770</a></td>   <td>3</td><td>0</td><td>0</td></tr>\n",
              "<tr><td><a href=\"documents/21155773.html\" target=\"iframe_a\">21155773</a></td>   <td>0</td><td>0</td><td>0</td></tr>\n",
              "<tr><td><a href=\"documents/21163445.html\" target=\"iframe_a\">21163445</a></td>   <td>0</td><td>10</td><td>9</td></tr>\n",
              "<tr><td><a href=\"documents/21163447.html\" target=\"iframe_a\">21163447</a></td>   <td>0</td><td>1</td><td>1</td></tr>\n",
              "<tr><td><a href=\"documents/21163702.html\" target=\"iframe_a\">21163702</a></td>   <td>1</td><td>4</td><td>4</td></tr>\n",
              "<tr><td><a href=\"documents/21163703.html\" target=\"iframe_a\">21163703</a></td>   <td>0</td><td>1</td><td>1</td></tr>\n",
              "<tr><td><a href=\"documents/21166911.html\" target=\"iframe_a\">21166911</a></td>   <td>11</td><td>0</td><td>0</td></tr>\n",
              "<tr><td><a href=\"documents/21169481.html\" target=\"iframe_a\">21169481</a></td>   <td>6</td><td>0</td><td>0</td></tr>\n",
              "<tr><td><a href=\"documents/21169482.html\" target=\"iframe_a\">21169482</a></td>   <td>3</td><td>1</td><td>0</td></tr>\n",
              "<tr><td><a href=\"documents/21169483.html\" target=\"iframe_a\">21169483</a></td>   <td>8</td><td>0</td><td>0</td></tr>\n",
              "<tr><td><a href=\"documents/21169486.html\" target=\"iframe_a\">21169486</a></td>   <td>2</td><td>1</td><td>0</td></tr>\n",
              "<tr><td><a href=\"documents/21169488.html\" target=\"iframe_a\">21169488</a></td>   <td>5</td><td>2</td><td>2</td></tr>\n",
              "<tr><td><a href=\"documents/21176790.html\" target=\"iframe_a\">21176790</a></td>   <td>9</td><td>0</td><td>0</td></tr>\n",
              "<tr><td><a href=\"documents/21182519.html\" target=\"iframe_a\">21182519</a></td>   <td>1</td><td>0</td><td>0</td></tr>\n",
              "<tr><td><a href=\"documents/21182520.html\" target=\"iframe_a\">21182520</a></td>   <td>4</td><td>1</td><td>0</td></tr>\n",
              "<tr><td><a href=\"documents/21182521.html\" target=\"iframe_a\">21182521</a></td>   <td>0</td><td>0</td><td>0</td></tr>\n",
              "<tr><td><a href=\"documents/21182522.html\" target=\"iframe_a\">21182522</a></td>   <td>1</td><td>0</td><td>0</td></tr>\n",
              "<tr><td><a href=\"documents/21184840.html\" target=\"iframe_a\">21184840</a></td>   <td>3</td><td>2</td><td>0</td></tr>\n",
              "<tr><td><a href=\"documents/21185234.html\" target=\"iframe_a\">21185234</a></td>   <td>0</td><td>8</td><td>7</td></tr>\n",
              "<tr><td><a href=\"documents/21188839.html\" target=\"iframe_a\">21188839</a></td>   <td>0</td><td>2</td><td>1</td></tr>\n",
              "<tr><td><a href=\"documents/21195204.html\" target=\"iframe_a\">21195204</a></td>   <td>2</td><td>0</td><td>0</td></tr>\n",
              "<tr><td><a href=\"documents/21195251.html\" target=\"iframe_a\">21195251</a></td>   <td>0</td><td>1</td><td>1</td></tr>\n",
              "<tr><td><a href=\"documents/21198588.html\" target=\"iframe_a\">21198588</a></td>   <td>5</td><td>0</td><td>0</td></tr>\n",
              "<tr><td><a href=\"documents/21198589.html\" target=\"iframe_a\">21198589</a></td>   <td>21</td><td>1</td><td>0</td></tr>\n",
              "<tr><td><a href=\"documents/21198590.html\" target=\"iframe_a\">21198590</a></td>   <td>0</td><td>0</td><td>0</td></tr>\n",
              "<tr><td><a href=\"documents/21199018.html\" target=\"iframe_a\">21199018</a></td>   <td>18</td><td>1</td><td>0</td></tr>\n",
              "<tr><td><a href=\"documents/21199020.html\" target=\"iframe_a\">21199020</a></td>   <td>5</td><td>1</td><td>1</td></tr>\n",
              "<tr><td><a href=\"documents/21199022.html\" target=\"iframe_a\">21199022</a></td>   <td>1</td><td>0</td><td>0</td></tr>\n",
              "<tr><td><a href=\"documents/21215883.html\" target=\"iframe_a\">21215883</a></td>   <td>0</td><td>1</td><td>1</td></tr>\n",
              "<tr><td><a href=\"documents/21216300.html\" target=\"iframe_a\">21216300</a></td>   <td>3</td><td>1</td><td>0</td></tr>\n",
              "<tr><td><a href=\"documents/21219328.html\" target=\"iframe_a\">21219328</a></td>   <td>3</td><td>0</td><td>0</td></tr>\n",
              "<tr><td><a href=\"documents/21220037.html\" target=\"iframe_a\">21220037</a></td>   <td>4</td><td>0</td><td>0</td></tr>\n",
              "<tr><td><a href=\"documents/21227486.html\" target=\"iframe_a\">21227486</a></td>   <td>1</td><td>0</td><td>0</td></tr>\n",
              "<tr><td><a href=\"documents/21227492.html\" target=\"iframe_a\">21227492</a></td>   <td>1</td><td>1</td><td>1</td></tr>\n",
              "<tr><td><a href=\"documents/21227494.html\" target=\"iframe_a\">21227494</a></td>   <td>1</td><td>6</td><td>6</td></tr>\n",
              "<tr><td><a href=\"documents/21227499.html\" target=\"iframe_a\">21227499</a></td>   <td>4</td><td>1</td><td>0</td></tr>\n",
              "<tr><td><a href=\"documents/21239227.html\" target=\"iframe_a\">21239227</a></td>   <td>0</td><td>0</td><td>0</td></tr>\n",
              "<tr><td><a href=\"documents/21241326.html\" target=\"iframe_a\">21241326</a></td>   <td>3</td><td>1</td><td>0</td></tr>\n",
              "<tr><td><a href=\"documents/21241327.html\" target=\"iframe_a\">21241327</a></td>   <td>0</td><td>0</td><td>0</td></tr>\n",
              "<tr><td><a href=\"documents/21241328.html\" target=\"iframe_a\">21241328</a></td>   <td>2</td><td>0</td><td>0</td></tr>\n",
              "<tr><td><a href=\"documents/21241329.html\" target=\"iframe_a\">21241329</a></td>   <td>8</td><td>0</td><td>0</td></tr>\n",
              "<tr><td><a href=\"documents/21241330.html\" target=\"iframe_a\">21241330</a></td>   <td>3</td><td>0</td><td>0</td></tr>\n",
              "<tr><td><a href=\"documents/21244418.html\" target=\"iframe_a\">21244418</a></td>   <td>9</td><td>0</td><td>0</td></tr>\n",
              "<tr><td><a href=\"documents/21244419.html\" target=\"iframe_a\">21244419</a></td>   <td>5</td><td>0</td><td>0</td></tr>\n",
              "<tr><td><a href=\"documents/21244420.html\" target=\"iframe_a\">21244420</a></td>   <td>9</td><td>0</td><td>0</td></tr>\n",
              "<tr><td><a href=\"documents/21247806.html\" target=\"iframe_a\">21247806</a></td>   <td>0</td><td>0</td><td>0</td></tr>\n",
              "<tr><td><a href=\"documents/21250989.html\" target=\"iframe_a\">21250989</a></td>   <td>0</td><td>0</td><td>0</td></tr>\n",
              "<tr><td><a href=\"documents/21250990.html\" target=\"iframe_a\">21250990</a></td>   <td>0</td><td>0</td><td>0</td></tr>\n",
              "<tr><td><a href=\"documents/21250991.html\" target=\"iframe_a\">21250991</a></td>   <td>0</td><td>0</td><td>0</td></tr>\n",
              "<tr><td><a href=\"documents/21251017.html\" target=\"iframe_a\">21251017</a></td>   <td>0</td><td>4</td><td>0</td></tr>\n",
              "<tr><td><a href=\"documents/21256454.html\" target=\"iframe_a\">21256454</a></td>   <td>0</td><td>4</td><td>3</td></tr>\n",
              "<tr><td><a href=\"documents/21256455.html\" target=\"iframe_a\">21256455</a></td>   <td>0</td><td>0</td><td>0</td></tr>\n",
              "<tr><td><a href=\"documents/21269301.html\" target=\"iframe_a\">21269301</a></td>   <td>6</td><td>1</td><td>0</td></tr>\n",
              "<tr><td><a href=\"documents/21269674.html\" target=\"iframe_a\">21269674</a></td>   <td>2</td><td>3</td><td>2</td></tr>\n",
              "<tr><td><a href=\"documents/21269678.html\" target=\"iframe_a\">21269678</a></td>   <td>0</td><td>4</td><td>1</td></tr>\n",
              "<tr><td><a href=\"documents/21269682.html\" target=\"iframe_a\">21269682</a></td>   <td>1</td><td>0</td><td>0</td></tr>\n",
              "<tr><td><a href=\"documents/21269685.html\" target=\"iframe_a\">21269685</a></td>   <td>0</td><td>0</td><td>0</td></tr>\n",
              "<tr><td><a href=\"documents/21272001.html\" target=\"iframe_a\">21272001</a></td>   <td>7</td><td>0</td><td>0</td></tr>\n",
              "<tr><td><a href=\"documents/21272792.html\" target=\"iframe_a\">21272792</a></td>   <td>7</td><td>0</td><td>0</td></tr>\n",
              "<tr><td><a href=\"documents/21272793.html\" target=\"iframe_a\">21272793</a></td>   <td>0</td><td>0</td><td>0</td></tr>\n",
              "<tr><td><a href=\"documents/21272794.html\" target=\"iframe_a\">21272794</a></td>   <td>5</td><td>13</td><td>6</td></tr>\n",
              "<tr><td><a href=\"documents/21276719.html\" target=\"iframe_a\">21276719</a></td>   <td>0</td><td>1</td><td>0</td></tr>\n",
              "<tr><td><a href=\"documents/21276754.html\" target=\"iframe_a\">21276754</a></td>   <td>0</td><td>1</td><td>1</td></tr>\n",
              "<tr><td><a href=\"documents/21277552.html\" target=\"iframe_a\">21277552</a></td>   <td>0</td><td>1</td><td>1</td></tr>\n",
              "<tr><td><a href=\"documents/21277756.html\" target=\"iframe_a\">21277756</a></td>   <td>2</td><td>0</td><td>0</td></tr>\n",
              "<tr><td><a href=\"documents/21277986.html\" target=\"iframe_a\">21277986</a></td>   <td>5</td><td>1</td><td>0</td></tr>\n",
              "<tr><td><a href=\"documents/21281727.html\" target=\"iframe_a\">21281727</a></td>   <td>10</td><td>4</td><td>0</td></tr>\n",
              "<tr><td><a href=\"documents/21282046.html\" target=\"iframe_a\">21282046</a></td>   <td>3</td><td>1</td><td>0</td></tr>\n",
              "<tr><td><a href=\"documents/21284624.html\" target=\"iframe_a\">21284624</a></td>   <td>3</td><td>1</td><td>0</td></tr>\n",
              "<tr><td><a href=\"documents/21295519.html\" target=\"iframe_a\">21295519</a></td>   <td>6</td><td>0</td><td>0</td></tr>\n",
              "<tr><td><a href=\"documents/21296405.html\" target=\"iframe_a\">21296405</a></td>   <td>1</td><td>1</td><td>1</td></tr>\n",
              "<tr><td><a href=\"documents/21316301.html\" target=\"iframe_a\">21316301</a></td>   <td>2</td><td>0</td><td>0</td></tr>\n",
              "<tr><td><a href=\"documents/21320625.html\" target=\"iframe_a\">21320625</a></td>   <td>3</td><td>2</td><td>0</td></tr>\n",
              "<tr><td><a href=\"documents/21323920.html\" target=\"iframe_a\">21323920</a></td>   <td>0</td><td>0</td><td>0</td></tr>\n",
              "<tr><td><a href=\"documents/21323921.html\" target=\"iframe_a\">21323921</a></td>   <td>0</td><td>0</td><td>0</td></tr>\n",
              "<tr><td><a href=\"documents/21323923.html\" target=\"iframe_a\">21323923</a></td>   <td>2</td><td>0</td><td>0</td></tr>\n",
              "<tr><td><a href=\"documents/21333593.html\" target=\"iframe_a\">21333593</a></td>   <td>8</td><td>1</td><td>0</td></tr>\n",
              "<tr><td><a href=\"documents/21338353.html\" target=\"iframe_a\">21338353</a></td>   <td>3</td><td>0</td><td>0</td></tr>\n",
              "<tr><td><a href=\"documents/21349121.html\" target=\"iframe_a\">21349121</a></td>   <td>1</td><td>1</td><td>0</td></tr>\n",
              "<tr><td><a href=\"documents/21349441.html\" target=\"iframe_a\">21349441</a></td>   <td>0</td><td>3</td><td>2</td></tr>\n",
              "<tr><td><a href=\"documents/21349442.html\" target=\"iframe_a\">21349442</a></td>   <td>1</td><td>0</td><td>0</td></tr>\n",
              "<tr><td><a href=\"documents/21349577.html\" target=\"iframe_a\">21349577</a></td>   <td>0</td><td>1</td><td>1</td></tr>\n",
              "<tr><td><a href=\"documents/21349764.html\" target=\"iframe_a\">21349764</a></td>   <td>5</td><td>0</td><td>0</td></tr>\n",
              "<tr><td><a href=\"documents/21349766.html\" target=\"iframe_a\">21349766</a></td>   <td>0</td><td>2</td><td>2</td></tr>\n",
              "<tr><td><a href=\"documents/21353502.html\" target=\"iframe_a\">21353502</a></td>   <td>2</td><td>0</td><td>0</td></tr>\n",
              "<tr><td><a href=\"documents/21354373.html\" target=\"iframe_a\">21354373</a></td>   <td>0</td><td>1</td><td>1</td></tr>\n",
              "<tr><td><a href=\"documents/21361929.html\" target=\"iframe_a\">21361929</a></td>   <td>1</td><td>0</td><td>0</td></tr>\n",
              "<tr><td><a href=\"documents/21362491.html\" target=\"iframe_a\">21362491</a></td>   <td>1</td><td>0</td><td>0</td></tr>\n",
              "<tr><td><a href=\"documents/21362493.html\" target=\"iframe_a\">21362493</a></td>   <td>2</td><td>2</td><td>0</td></tr>\n",
              "<tr><td><a href=\"documents/21366562.html\" target=\"iframe_a\">21366562</a></td>   <td>2</td><td>0</td><td>0</td></tr>\n",
              "<tr><td><a href=\"documents/21366563.html\" target=\"iframe_a\">21366563</a></td>   <td>4</td><td>0</td><td>0</td></tr>\n",
              "<tr><td><a href=\"documents/21366565.html\" target=\"iframe_a\">21366565</a></td>   <td>0</td><td>0</td><td>0</td></tr>\n",
              "<tr><td><a href=\"documents/21371655.html\" target=\"iframe_a\">21371655</a></td>   <td>6</td><td>1</td><td>1</td></tr>\n",
              "<tr><td><a href=\"documents/21371656.html\" target=\"iframe_a\">21371656</a></td>   <td>1</td><td>13</td><td>2</td></tr>\n",
              "<tr><td><a href=\"documents/21371657.html\" target=\"iframe_a\">21371657</a></td>   <td>0</td><td>0</td><td>0</td></tr>\n",
              "<tr><td><a href=\"documents/21371658.html\" target=\"iframe_a\">21371658</a></td>   <td>0</td><td>6</td><td>5</td></tr>\n",
              "<tr><td><a href=\"documents/21371747.html\" target=\"iframe_a\">21371747</a></td>   <td>0</td><td>1</td><td>1</td></tr>\n",
              "<tr><td><a href=\"documents/21376291.html\" target=\"iframe_a\">21376291</a></td>   <td>0</td><td>5</td><td>4</td></tr>\n",
              "<tr><td><a href=\"documents/21376292.html\" target=\"iframe_a\">21376292</a></td>   <td>0</td><td>5</td><td>5</td></tr>\n",
              "<tr><td><a href=\"documents/21376670.html\" target=\"iframe_a\">21376670</a></td>   <td>1</td><td>1</td><td>0</td></tr>\n",
              "<tr><td><a href=\"documents/21377422.html\" target=\"iframe_a\">21377422</a></td>   <td>2</td><td>0</td><td>0</td></tr>\n",
              "<tr><td><a href=\"documents/21382108.html\" target=\"iframe_a\">21382108</a></td>   <td>9</td><td>0</td><td>0</td></tr>\n",
              "<tr><td><a href=\"documents/21382109.html\" target=\"iframe_a\">21382109</a></td>   <td>4</td><td>0</td><td>0</td></tr>\n",
              "<tr><td><a href=\"documents/21388371.html\" target=\"iframe_a\">21388371</a></td>   <td>1</td><td>0</td><td>0</td></tr>\n",
              "<tr><td><a href=\"documents/21388372.html\" target=\"iframe_a\">21388372</a></td>   <td>0</td><td>0</td><td>0</td></tr>\n",
              "<tr><td><a href=\"documents/21396477.html\" target=\"iframe_a\">21396477</a></td>   <td>8</td><td>1</td><td>0</td></tr>\n",
              "<tr><td><a href=\"documents/21397320.html\" target=\"iframe_a\">21397320</a></td>   <td>0</td><td>4</td><td>4</td></tr>\n",
              "<tr><td><a href=\"documents/21397475.html\" target=\"iframe_a\">21397475</a></td>   <td>0</td><td>0</td><td>0</td></tr>\n",
              "<tr><td><a href=\"documents/21401589.html\" target=\"iframe_a\">21401589</a></td>   <td>0</td><td>0</td><td>0</td></tr>\n",
              "<tr><td><a href=\"documents/21401590.html\" target=\"iframe_a\">21401590</a></td>   <td>0</td><td>0</td><td>0</td></tr>\n",
              "<tr><td><a href=\"documents/21401591.html\" target=\"iframe_a\">21401591</a></td>   <td>0</td><td>0</td><td>0</td></tr>\n",
              "<tr><td><a href=\"documents/21410804.html\" target=\"iframe_a\">21410804</a></td>   <td>5</td><td>0</td><td>0</td></tr>\n",
              "<tr><td><a href=\"documents/21418209.html\" target=\"iframe_a\">21418209</a></td>   <td>3</td><td>0</td><td>0</td></tr>\n",
              "<tr><td><a href=\"documents/21418210.html\" target=\"iframe_a\">21418210</a></td>   <td>2</td><td>0</td><td>0</td></tr>\n",
              "<tr><td><a href=\"documents/21418211.html\" target=\"iframe_a\">21418211</a></td>   <td>1</td><td>1</td><td>1</td></tr>\n",
              "<tr><td><a href=\"documents/21419234.html\" target=\"iframe_a\">21419234</a></td>   <td>3</td><td>0</td><td>0</td></tr>\n",
              "<tr><td><a href=\"documents/21420357.html\" target=\"iframe_a\">21420357</a></td>   <td>0</td><td>0</td><td>0</td></tr>\n",
              "<tr><td><a href=\"documents/21420905.html\" target=\"iframe_a\">21420905</a></td>   <td>4</td><td>1</td><td>0</td></tr>\n",
              "<tr><td><a href=\"documents/21426342.html\" target=\"iframe_a\">21426342</a></td>   <td>21</td><td>4</td><td>0</td></tr>\n",
              "<tr><td><a href=\"documents/21426343.html\" target=\"iframe_a\">21426343</a></td>   <td>3</td><td>0</td><td>0</td></tr>\n",
              "<tr><td><a href=\"documents/21426344.html\" target=\"iframe_a\">21426344</a></td>   <td>5</td><td>0</td><td>0</td></tr>\n",
              "<tr><td><a href=\"documents/21429718.html\" target=\"iframe_a\">21429718</a></td>   <td>3</td><td>0</td><td>0</td></tr>\n",
              "<tr><td><a href=\"documents/21429803.html\" target=\"iframe_a\">21429803</a></td>   <td>7</td><td>3</td><td>3</td></tr>\n",
              "<tr><td><a href=\"documents/21435062.html\" target=\"iframe_a\">21435062</a></td>   <td>4</td><td>0</td><td>0</td></tr>\n",
              "<tr><td><a href=\"documents/21435601.html\" target=\"iframe_a\">21435601</a></td>   <td>0</td><td>1</td><td>1</td></tr>\n",
              "<tr><td><a href=\"documents/21435708.html\" target=\"iframe_a\">21435708</a></td>   <td>3</td><td>14</td><td>4</td></tr>\n",
              "<tr><td><a href=\"documents/21441069.html\" target=\"iframe_a\">21441069</a></td>   <td>0</td><td>2</td><td>2</td></tr>\n",
              "<tr><td><a href=\"documents/21453780.html\" target=\"iframe_a\">21453780</a></td>   <td>2</td><td>0</td><td>0</td></tr>\n",
              "<tr><td><a href=\"documents/21453871.html\" target=\"iframe_a\">21453871</a></td>   <td>0</td><td>1</td><td>1</td></tr>\n",
              "<tr><td><a href=\"documents/21453872.html\" target=\"iframe_a\">21453872</a></td>   <td>0</td><td>1</td><td>0</td></tr>\n",
              "<tr><td><a href=\"documents/21453873.html\" target=\"iframe_a\">21453873</a></td>   <td>0</td><td>0</td><td>0</td></tr>\n",
              "<tr><td><a href=\"documents/21453963.html\" target=\"iframe_a\">21453963</a></td>   <td>0</td><td>1</td><td>1</td></tr>\n",
              "<tr><td><a href=\"documents/21463300.html\" target=\"iframe_a\">21463300</a></td>   <td>8</td><td>2</td><td>0</td></tr>\n",
              "<tr><td><a href=\"documents/21466552.html\" target=\"iframe_a\">21466552</a></td>   <td>0</td><td>1</td><td>0</td></tr>\n",
              "<tr><td><a href=\"documents/21474379.html\" target=\"iframe_a\">21474379</a></td>   <td>0</td><td>4</td><td>4</td></tr>\n",
              "<tr><td><a href=\"documents/21477200.html\" target=\"iframe_a\">21477200</a></td>   <td>8</td><td>1</td><td>0</td></tr>\n",
              "<tr><td><a href=\"documents/21477201.html\" target=\"iframe_a\">21477201</a></td>   <td>8</td><td>4</td><td>4</td></tr>\n",
              "<tr><td><a href=\"documents/21481448.html\" target=\"iframe_a\">21481448</a></td>   <td>0</td><td>0</td><td>0</td></tr>\n",
              "<tr><td><a href=\"documents/21488872.html\" target=\"iframe_a\">21488872</a></td>   <td>3</td><td>1</td><td>0</td></tr>\n",
              "<tr><td><a href=\"documents/21496127.html\" target=\"iframe_a\">21496127</a></td>   <td>4</td><td>6</td><td>0</td></tr>\n",
              "<tr><td><a href=\"documents/21496128.html\" target=\"iframe_a\">21496128</a></td>   <td>8</td><td>2</td><td>0</td></tr>\n",
              "<tr><td><a href=\"documents/21496907.html\" target=\"iframe_a\">21496907</a></td>   <td>0</td><td>2</td><td>2</td></tr>\n",
              "<tr><td><a href=\"documents/21496911.html\" target=\"iframe_a\">21496911</a></td>   <td>0</td><td>3</td><td>1</td></tr>\n",
              "<tr><td><a href=\"documents/21496912.html\" target=\"iframe_a\">21496912</a></td>   <td>0</td><td>0</td><td>0</td></tr>\n",
              "<tr><td><a href=\"documents/21496915.html\" target=\"iframe_a\">21496915</a></td>   <td>0</td><td>0</td><td>0</td></tr>\n",
              "<tr><td><a href=\"documents/21497073.html\" target=\"iframe_a\">21497073</a></td>   <td>4</td><td>0</td><td>0</td></tr>\n",
              "<tr><td><a href=\"documents/21497131.html\" target=\"iframe_a\">21497131</a></td>   <td>3</td><td>0</td><td>0</td></tr>\n",
              "<tr><td><a href=\"documents/21497133.html\" target=\"iframe_a\">21497133</a></td>   <td>7</td><td>0</td><td>0</td></tr>\n",
              "<tr><td><a href=\"documents/21498115.html\" target=\"iframe_a\">21498115</a></td>   <td>0</td><td>4</td><td>4</td></tr>\n",
              "<tr><td><a href=\"documents/21511047.html\" target=\"iframe_a\">21511047</a></td>   <td>5</td><td>0</td><td>0</td></tr>\n",
              "<tr><td><a href=\"documents/21511198.html\" target=\"iframe_a\">21511198</a></td>   <td>0</td><td>1</td><td>1</td></tr>\n",
              "<tr><td><a href=\"documents/21511199.html\" target=\"iframe_a\">21511199</a></td>   <td>0</td><td>1</td><td>1</td></tr>\n",
              "<tr><td><a href=\"documents/21511200.html\" target=\"iframe_a\">21511200</a></td>   <td>0</td><td>2</td><td>2</td></tr>\n",
              "<tr><td><a href=\"documents/21511329.html\" target=\"iframe_a\">21511329</a></td>   <td>13</td><td>4</td><td>1</td></tr>\n",
              "<tr><td><a href=\"documents/21514396.html\" target=\"iframe_a\">21514396</a></td>   <td>20</td><td>3</td><td>0</td></tr>\n",
              "<tr><td><a href=\"documents/21517842.html\" target=\"iframe_a\">21517842</a></td>   <td>3</td><td>0</td><td>0</td></tr>\n",
              "<tr><td><a href=\"documents/21521136.html\" target=\"iframe_a\">21521136</a></td>   <td>20</td><td>0</td><td>0</td></tr>\n",
              "<tr><td><a href=\"documents/21521137.html\" target=\"iframe_a\">21521137</a></td>   <td>4</td><td>0</td><td>0</td></tr>\n",
              "<tr><td><a href=\"documents/21521139.html\" target=\"iframe_a\">21521139</a></td>   <td>9</td><td>0</td><td>0</td></tr>\n",
              "<tr><td><a href=\"documents/21521140.html\" target=\"iframe_a\">21521140</a></td>   <td>1</td><td>0</td><td>0</td></tr>\n",
              "<tr><td><a href=\"documents/21521143.html\" target=\"iframe_a\">21521143</a></td>   <td>8</td><td>1</td><td>0</td></tr>\n",
              "<tr><td><a href=\"documents/21521144.html\" target=\"iframe_a\">21521144</a></td>   <td>2</td><td>0</td><td>0</td></tr>\n",
              "<tr><td><a href=\"documents/21521145.html\" target=\"iframe_a\">21521145</a></td>   <td>12</td><td>3</td><td>0</td></tr>\n",
              "<tr><td><a href=\"documents/21521214.html\" target=\"iframe_a\">21521214</a></td>   <td>2</td><td>1</td><td>0</td></tr>\n",
              "<tr><td><a href=\"documents/21521215.html\" target=\"iframe_a\">21521215</a></td>   <td>2</td><td>1</td><td>1</td></tr>\n",
              "<tr><td><a href=\"documents/21526926.html\" target=\"iframe_a\">21526926</a></td>   <td>0</td><td>1</td><td>0</td></tr>\n",
              "<tr><td><a href=\"documents/21526928.html\" target=\"iframe_a\">21526928</a></td>   <td>0</td><td>0</td><td>0</td></tr>\n",
              "<tr><td><a href=\"documents/21526929.html\" target=\"iframe_a\">21526929</a></td>   <td>8</td><td>0</td><td>0</td></tr>\n",
              "<tr><td><a href=\"documents/21526930.html\" target=\"iframe_a\">21526930</a></td>   <td>12</td><td>14</td><td>6</td></tr>\n",
              "<tr><td><a href=\"documents/21526934.html\" target=\"iframe_a\">21526934</a></td>   <td>6</td><td>5</td><td>4</td></tr>\n",
              "<tr><td><a href=\"documents/21526935.html\" target=\"iframe_a\">21526935</a></td>   <td>35</td><td>1</td><td>1</td></tr>\n",
              "<tr><td><a href=\"documents/21529148.html\" target=\"iframe_a\">21529148</a></td>   <td>0</td><td>0</td><td>0</td></tr>\n",
              "<tr><td><a href=\"documents/21529150.html\" target=\"iframe_a\">21529150</a></td>   <td>3</td><td>3</td><td>0</td></tr>\n",
              "<tr><td><a href=\"documents/21529151.html\" target=\"iframe_a\">21529151</a></td>   <td>3</td><td>0</td><td>0</td></tr>\n",
              "<tr><td><a href=\"documents/21529152.html\" target=\"iframe_a\">21529152</a></td>   <td>0</td><td>0</td><td>0</td></tr>\n",
              "<tr><td><a href=\"documents/21565476.html\" target=\"iframe_a\">21565476</a></td>   <td>1</td><td>1</td><td>0</td></tr>\n",
              "<tr><td><a href=\"documents/21565477.html\" target=\"iframe_a\">21565477</a></td>   <td>7</td><td>0</td><td>0</td></tr>\n",
              "<tr><td><a href=\"documents/21570267.html\" target=\"iframe_a\">21570267</a></td>   <td>0</td><td>0</td><td>0</td></tr>\n",
              "<tr><td><a href=\"documents/21585578.html\" target=\"iframe_a\">21585578</a></td>   <td>1</td><td>1</td><td>0</td></tr>\n",
              "<tr><td><a href=\"documents/21600845.html\" target=\"iframe_a\">21600845</a></td>   <td>4</td><td>0</td><td>0</td></tr>\n",
              "<tr><td><a href=\"documents/21601645.html\" target=\"iframe_a\">21601645</a></td>   <td>2</td><td>0</td><td>0</td></tr>\n",
              "<tr><td><a href=\"documents/21602035.html\" target=\"iframe_a\">21602035</a></td>   <td>0</td><td>0</td><td>0</td></tr>\n",
              "<tr><td><a href=\"documents/21615578.html\" target=\"iframe_a\">21615578</a></td>   <td>5</td><td>0</td><td>0</td></tr>\n",
              "<tr><td><a href=\"documents/21632222.html\" target=\"iframe_a\">21632222</a></td>   <td>1</td><td>0</td><td>0</td></tr>\n",
              "<tr><td><a href=\"documents/21632223.html\" target=\"iframe_a\">21632223</a></td>   <td>2</td><td>0</td><td>0</td></tr>\n",
              "<tr><td><a href=\"documents/21641779.html\" target=\"iframe_a\">21641779</a></td>   <td>5</td><td>0</td><td>0</td></tr>\n",
              "<tr><td><a href=\"documents/21641780.html\" target=\"iframe_a\">21641780</a></td>   <td>0</td><td>0</td><td>0</td></tr>\n",
              "<tr><td><a href=\"documents/21668550.html\" target=\"iframe_a\">21668550</a></td>   <td>5</td><td>5</td><td>0</td></tr>\n",
              "<tr><td><a href=\"documents/21672063.html\" target=\"iframe_a\">21672063</a></td>   <td>3</td><td>1</td><td>0</td></tr>\n",
              "<tr><td><a href=\"documents/21689183.html\" target=\"iframe_a\">21689183</a></td>   <td>3</td><td>0</td><td>0</td></tr>\n",
              "<tr><td><a href=\"documents/21699593.html\" target=\"iframe_a\">21699593</a></td>   <td>6</td><td>0</td><td>0</td></tr>\n",
              "<tr><td><a href=\"documents/21699594.html\" target=\"iframe_a\">21699594</a></td>   <td>4</td><td>0</td><td>0</td></tr>\n",
              "<tr><td><a href=\"documents/21699595.html\" target=\"iframe_a\">21699595</a></td>   <td>6</td><td>2</td><td>0</td></tr>\n",
              "<tr><td><a href=\"documents/21699597.html\" target=\"iframe_a\">21699597</a></td>   <td>2</td><td>1</td><td>0</td></tr>\n",
              "<tr><td><a href=\"documents/21700437.html\" target=\"iframe_a\">21700437</a></td>   <td>0</td><td>0</td><td>0</td></tr>\n",
              "<tr><td><a href=\"documents/21711401.html\" target=\"iframe_a\">21711401</a></td>   <td>7</td><td>0</td><td>0</td></tr>\n",
              "<tr><td><a href=\"documents/21784165.html\" target=\"iframe_a\">21784165</a></td>   <td>2</td><td>0</td><td>0</td></tr>\n",
              "<tr><td><a href=\"documents/21797944.html\" target=\"iframe_a\">21797944</a></td>   <td>7</td><td>1</td><td>0</td></tr>\n",
              "<tr><td><a href=\"documents/21801845.html\" target=\"iframe_a\">21801845</a></td>   <td>6</td><td>0</td><td>0</td></tr>\n",
              "<tr><td><a href=\"documents/21802913.html\" target=\"iframe_a\">21802913</a></td>   <td>1</td><td>0</td><td>0</td></tr>\n",
              "<tr><td><a href=\"documents/21807107.html\" target=\"iframe_a\">21807107</a></td>   <td>2</td><td>0</td><td>0</td></tr>\n",
              "<tr><td><a href=\"documents/21807108.html\" target=\"iframe_a\">21807108</a></td>   <td>10</td><td>2</td><td>1</td></tr>\n",
              "<tr><td><a href=\"documents/21815956.html\" target=\"iframe_a\">21815956</a></td>   <td>6</td><td>1</td><td>0</td></tr>\n",
              "<tr><td><a href=\"documents/21820070.html\" target=\"iframe_a\">21820070</a></td>   <td>5</td><td>3</td><td>0</td></tr>\n",
              "<tr><td><a href=\"documents/21840411.html\" target=\"iframe_a\">21840411</a></td>   <td>4</td><td>0</td><td>0</td></tr>\n",
              "<tr><td><a href=\"documents/21840412.html\" target=\"iframe_a\">21840412</a></td>   <td>7</td><td>1</td><td>0</td></tr>\n",
              "<tr><td><a href=\"documents/21840413.html\" target=\"iframe_a\">21840413</a></td>   <td>6</td><td>7</td><td>2</td></tr>\n",
              "<tr><td><a href=\"documents/21889597.html\" target=\"iframe_a\">21889597</a></td>   <td>3</td><td>0</td><td>0</td></tr>\n",
              "<tr><td><a href=\"documents/21895817.html\" target=\"iframe_a\">21895817</a></td>   <td>2</td><td>0</td><td>0</td></tr>\n",
              "<tr><td><a href=\"documents/21895819.html\" target=\"iframe_a\">21895819</a></td>   <td>0</td><td>0</td><td>0</td></tr>\n",
              "<tr><td><a href=\"documents/21907298.html\" target=\"iframe_a\">21907298</a></td>   <td>18</td><td>1</td><td>0</td></tr>\n",
              "<tr><td><a href=\"documents/21907818.html\" target=\"iframe_a\">21907818</a></td>   <td>4</td><td>0</td><td>0</td></tr>\n",
              "<tr><td><a href=\"documents/21929695.html\" target=\"iframe_a\">21929695</a></td>   <td>10</td><td>1</td><td>0</td></tr>\n",
              "<tr><td><a href=\"documents/21945996.html\" target=\"iframe_a\">21945996</a></td>   <td>4</td><td>4</td><td>0</td></tr>\n",
              "<tr><td><a href=\"documents/22001287.html\" target=\"iframe_a\">22001287</a></td>   <td>4</td><td>0</td><td>0</td></tr>\n",
              "<tr><td><a href=\"documents/22008745.html\" target=\"iframe_a\">22008745</a></td>   <td>4</td><td>0</td><td>0</td></tr>\n",
              "<tr><td><a href=\"documents/22056520.html\" target=\"iframe_a\">22056520</a></td>   <td>4</td><td>0</td><td>0</td></tr>\n",
              "<tr><td><a href=\"documents/22056521.html\" target=\"iframe_a\">22056521</a></td>   <td>6</td><td>2</td><td>0</td></tr>\n",
              "<tr><td><a href=\"documents/22056522.html\" target=\"iframe_a\">22056522</a></td>   <td>5</td><td>3</td><td>1</td></tr>\n",
              "<tr><td><a href=\"documents/22182605.html\" target=\"iframe_a\">22182605</a></td>   <td>7</td><td>0</td><td>0</td></tr>\n",
              "<tr><td><a href=\"documents/22182606.html\" target=\"iframe_a\">22182606</a></td>   <td>11</td><td>10</td><td>0</td></tr>\n",
              "<tr><td><a href=\"documents/22182610.html\" target=\"iframe_a\">22182610</a></td>   <td>12</td><td>2</td><td>0</td></tr>\n",
              "<tr><td><a href=\"documents/22182611.html\" target=\"iframe_a\">22182611</a></td>   <td>16</td><td>3</td><td>0</td></tr>\n",
              "<tr><td><a href=\"documents/22182614.html\" target=\"iframe_a\">22182614</a></td>   <td>5</td><td>4</td><td>2</td></tr>\n",
              "<tr><td><a href=\"documents/22182615.html\" target=\"iframe_a\">22182615</a></td>   <td>3</td><td>0</td><td>0</td></tr>\n",
              "<tr><td><a href=\"documents/22182617.html\" target=\"iframe_a\">22182617</a></td>   <td>11</td><td>0</td><td>0</td></tr>\n",
              "<tr><td><a href=\"documents/22182620.html\" target=\"iframe_a\">22182620</a></td>   <td>5</td><td>3</td><td>0</td></tr>\n",
              "<tr><td><a href=\"documents/22182621.html\" target=\"iframe_a\">22182621</a></td>   <td>2</td><td>2</td><td>0</td></tr>\n",
              "<tr><td><a href=\"documents/22182622.html\" target=\"iframe_a\">22182622</a></td>   <td>5</td><td>0</td><td>0</td></tr>\n",
              "<tr><td><a href=\"documents/22182623.html\" target=\"iframe_a\">22182623</a></td>   <td>22</td><td>3</td><td>0</td></tr>\n",
              "<tr><td><a href=\"documents/20139281.html\" target=\"iframe_a\">20139281</a></td>   <td>6</td><td>0</td><td>0</td></tr>\n",
              "<tr><td><a href=\"documents/20139284.html\" target=\"iframe_a\">20139284</a></td>   <td>10</td><td>2</td><td>2</td></tr>\n",
              "<tr><td><a href=\"documents/20173003.html\" target=\"iframe_a\">20173003</a></td>   <td>9</td><td>0</td><td>0</td></tr>\n",
              "<tr><td><a href=\"documents/20173005.html\" target=\"iframe_a\">20173005</a></td>   <td>19</td><td>1</td><td>0</td></tr>\n",
              "<tr><td><a href=\"documents/20173009.html\" target=\"iframe_a\">20173009</a></td>   <td>17</td><td>0</td><td>0</td></tr>\n",
              "<tr><td><a href=\"documents/20599424.html\" target=\"iframe_a\">20599424</a></td>   <td>0</td><td>2</td><td>2</td></tr>\n",
              "<tr><td><a href=\"documents/20619737.html\" target=\"iframe_a\">20619737</a></td>   <td>0</td><td>3</td><td>3</td></tr>\n",
              "<tr><td><a href=\"documents/20643580.html\" target=\"iframe_a\">20643580</a></td>   <td>5</td><td>0</td><td>0</td></tr>\n",
              "<tr><td><a href=\"documents/20650682.html\" target=\"iframe_a\">20650682</a></td>   <td>2</td><td>0</td><td>0</td></tr>\n",
              "<tr><td><a href=\"documents/20692868.html\" target=\"iframe_a\">20692868</a></td>   <td>0</td><td>1</td><td>0</td></tr>\n",
              "<tr><td><a href=\"documents/20702136.html\" target=\"iframe_a\">20702136</a></td>   <td>0</td><td>0</td><td>0</td></tr>\n",
              "<tr><td><a href=\"documents/20708960.html\" target=\"iframe_a\">20708960</a></td>   <td>1</td><td>0</td><td>0</td></tr>\n",
              "<tr><td><a href=\"documents/20719251.html\" target=\"iframe_a\">20719251</a></td>   <td>3</td><td>1</td><td>0</td></tr>\n",
              "<tr><td><a href=\"documents/20796205.html\" target=\"iframe_a\">20796205</a></td>   <td>4</td><td>0</td><td>0</td></tr>\n",
              "<tr><td><a href=\"documents/20796206.html\" target=\"iframe_a\">20796206</a></td>   <td>8</td><td>8</td><td>0</td></tr>\n",
              "<tr><td><a href=\"documents/20817000.html\" target=\"iframe_a\">20817000</a></td>   <td>3</td><td>2</td><td>0</td></tr>\n",
              "<tr><td><a href=\"documents/20817114.html\" target=\"iframe_a\">20817114</a></td>   <td>8</td><td>2</td><td>0</td></tr>\n",
              "<tr><td><a href=\"documents/20819175.html\" target=\"iframe_a\">20819175</a></td>   <td>2</td><td>0</td><td>0</td></tr>\n",
              "<tr><td><a href=\"documents/20831728.html\" target=\"iframe_a\">20831728</a></td>   <td>0</td><td>0</td><td>0</td></tr>\n",
              "<tr><td><a href=\"documents/20840511.html\" target=\"iframe_a\">20840511</a></td>   <td>0</td><td>1</td><td>0</td></tr>\n",
              "<tr><td><a href=\"documents/20840608.html\" target=\"iframe_a\">20840608</a></td>   <td>1</td><td>0</td><td>0</td></tr>\n",
              "<tr><td><a href=\"documents/20840609.html\" target=\"iframe_a\">20840609</a></td>   <td>2</td><td>0</td><td>0</td></tr>\n",
              "<tr><td><a href=\"documents/20854921.html\" target=\"iframe_a\">20854921</a></td>   <td>2</td><td>1</td><td>0</td></tr>\n",
              "<tr><td><a href=\"documents/20880022.html\" target=\"iframe_a\">20880022</a></td>   <td>4</td><td>0</td><td>0</td></tr>\n",
              "<tr><td><a href=\"documents/20880203.html\" target=\"iframe_a\">20880203</a></td>   <td>7</td><td>0</td><td>0</td></tr>\n",
              "<tr><td><a href=\"documents/20880223.html\" target=\"iframe_a\">20880223</a></td>   <td>4</td><td>3</td><td>0</td></tr>\n",
              "<tr><td><a href=\"documents/20884368.html\" target=\"iframe_a\">20884368</a></td>   <td>2</td><td>8</td><td>0</td></tr>\n",
              "<tr><td><a href=\"documents/20933542.html\" target=\"iframe_a\">20933542</a></td>   <td>12</td><td>5</td><td>1</td></tr>\n",
              "<tr><td><a href=\"documents/20934313.html\" target=\"iframe_a\">20934313</a></td>   <td>0</td><td>1</td><td>0</td></tr>\n",
              "<tr><td><a href=\"documents/20935092.html\" target=\"iframe_a\">20935092</a></td>   <td>4</td><td>0</td><td>0</td></tr>\n",
              "<tr><td><a href=\"documents/20946420.html\" target=\"iframe_a\">20946420</a></td>   <td>10</td><td>2</td><td>0</td></tr>\n",
              "<tr><td><a href=\"documents/20946587.html\" target=\"iframe_a\">20946587</a></td>   <td>0</td><td>1</td><td>0</td></tr>\n",
              "<tr><td><a href=\"documents/20951091.html\" target=\"iframe_a\">20951091</a></td>   <td>1</td><td>0</td><td>0</td></tr>\n",
              "<tr><td><a href=\"documents/20951165.html\" target=\"iframe_a\">20951165</a></td>   <td>7</td><td>22</td><td>0</td></tr>\n",
              "<tr><td><a href=\"documents/20955221.html\" target=\"iframe_a\">20955221</a></td>   <td>1</td><td>0</td><td>0</td></tr>\n",
              "<tr><td><a href=\"documents/20958303.html\" target=\"iframe_a\">20958303</a></td>   <td>4</td><td>0</td><td>0</td></tr>\n",
              "<tr><td><a href=\"documents/20958304.html\" target=\"iframe_a\">20958304</a></td>   <td>0</td><td>2</td><td>0</td></tr>\n",
              "<tr><td><a href=\"documents/20958806.html\" target=\"iframe_a\">20958806</a></td>   <td>5</td><td>0</td><td>0</td></tr>\n",
              "<tr><td><a href=\"documents/20962082.html\" target=\"iframe_a\">20962082</a></td>   <td>20</td><td>2</td><td>0</td></tr>\n",
              "<tr><td><a href=\"documents/20962083.html\" target=\"iframe_a\">20962083</a></td>   <td>13</td><td>8</td><td>0</td></tr>\n",
              "<tr><td><a href=\"documents/20962098.html\" target=\"iframe_a\">20962098</a></td>   <td>26</td><td>6</td><td>0</td></tr>\n",
              "<tr><td><a href=\"documents/20962101.html\" target=\"iframe_a\">20962101</a></td>   <td>4</td><td>5</td><td>0</td></tr>\n",
              "<tr><td><a href=\"documents/20964692.html\" target=\"iframe_a\">20964692</a></td>   <td>2</td><td>0</td><td>0</td></tr>\n",
              "<tr><td><a href=\"documents/20970458.html\" target=\"iframe_a\">20970458</a></td>   <td>0</td><td>3</td><td>0</td></tr>\n",
              "<tr><td><a href=\"documents/20971134.html\" target=\"iframe_a\">20971134</a></td>   <td>13</td><td>0</td><td>0</td></tr>\n",
              "<tr><td><a href=\"documents/20971620.html\" target=\"iframe_a\">20971620</a></td>   <td>8</td><td>0</td><td>0</td></tr>\n",
              "<tr><td><a href=\"documents/20971905.html\" target=\"iframe_a\">20971905</a></td>   <td>17</td><td>2</td><td>0</td></tr>\n",
              "<tr><td><a href=\"documents/20971912.html\" target=\"iframe_a\">20971912</a></td>   <td>3</td><td>0</td><td>0</td></tr>\n",
              "<tr><td><a href=\"documents/20971914.html\" target=\"iframe_a\">20971914</a></td>   <td>2</td><td>0</td><td>0</td></tr>\n",
              "<tr><td><a href=\"documents/20974180.html\" target=\"iframe_a\">20974180</a></td>   <td>8</td><td>12</td><td>0</td></tr>\n",
              "<tr><td><a href=\"documents/20980495.html\" target=\"iframe_a\">20980495</a></td>   <td>2</td><td>3</td><td>1</td></tr>\n",
              "<tr><td><a href=\"documents/20980501.html\" target=\"iframe_a\">20980501</a></td>   <td>3</td><td>3</td><td>0</td></tr>\n",
              "<tr><td><a href=\"documents/20980508.html\" target=\"iframe_a\">20980508</a></td>   <td>5</td><td>4</td><td>0</td></tr>\n",
              "<tr><td><a href=\"documents/20980511.html\" target=\"iframe_a\">20980511</a></td>   <td>6</td><td>3</td><td>0</td></tr>\n",
              "<tr><td><a href=\"documents/20980519.html\" target=\"iframe_a\">20980519</a></td>   <td>11</td><td>1</td><td>0</td></tr>\n",
              "<tr><td><a href=\"documents/20980526.html\" target=\"iframe_a\">20980526</a></td>   <td>10</td><td>3</td><td>1</td></tr>\n",
              "<tr><td><a href=\"documents/21029116.html\" target=\"iframe_a\">21029116</a></td>   <td>1</td><td>0</td><td>0</td></tr>\n",
              "<tr><td><a href=\"documents/21029747.html\" target=\"iframe_a\">21029747</a></td>   <td>6</td><td>3</td><td>0</td></tr>\n",
              "<tr><td><a href=\"documents/21029748.html\" target=\"iframe_a\">21029748</a></td>   <td>18</td><td>4</td><td>0</td></tr>\n",
              "<tr><td><a href=\"documents/21034773.html\" target=\"iframe_a\">21034773</a></td>   <td>9</td><td>1</td><td>0</td></tr>\n",
              "<tr><td><a href=\"documents/21036392.html\" target=\"iframe_a\">21036392</a></td>   <td>0</td><td>2</td><td>2</td></tr>\n",
              "<tr><td><a href=\"documents/21036995.html\" target=\"iframe_a\">21036995</a></td>   <td>2</td><td>0</td><td>0</td></tr>\n",
              "<tr><td><a href=\"documents/21037004.html\" target=\"iframe_a\">21037004</a></td>   <td>1</td><td>0</td><td>0</td></tr>\n",
              "<tr><td><a href=\"documents/21037010.html\" target=\"iframe_a\">21037010</a></td>   <td>11</td><td>0</td><td>0</td></tr>\n",
              "<tr><td><a href=\"documents/21039480.html\" target=\"iframe_a\">21039480</a></td>   <td>0</td><td>0</td><td>0</td></tr>\n",
              "<tr><td><a href=\"documents/21039557.html\" target=\"iframe_a\">21039557</a></td>   <td>0</td><td>0</td><td>0</td></tr>\n",
              "<tr><td><a href=\"documents/21047955.html\" target=\"iframe_a\">21047955</a></td>   <td>9</td><td>0</td><td>0</td></tr>\n",
              "<tr><td><a href=\"documents/21047957.html\" target=\"iframe_a\">21047957</a></td>   <td>10</td><td>3</td><td>0</td></tr>\n",
              "<tr><td><a href=\"documents/21054434.html\" target=\"iframe_a\">21054434</a></td>   <td>3</td><td>0</td><td>0</td></tr>\n",
              "<tr><td><a href=\"documents/21054435.html\" target=\"iframe_a\">21054435</a></td>   <td>6</td><td>0</td><td>0</td></tr>\n",
              "<tr><td><a href=\"documents/21057008.html\" target=\"iframe_a\">21057008</a></td>   <td>1</td><td>0</td><td>0</td></tr>\n",
              "<tr><td><a href=\"documents/21062315.html\" target=\"iframe_a\">21062315</a></td>   <td>3</td><td>1</td><td>0</td></tr>\n",
              "<tr><td><a href=\"documents/21067947.html\" target=\"iframe_a\">21067947</a></td>   <td>6</td><td>4</td><td>0</td></tr>\n",
              "<tr><td><a href=\"documents/21075923.html\" target=\"iframe_a\">21075923</a></td>   <td>2</td><td>1</td><td>0</td></tr>\n",
              "<tr><td><a href=\"documents/21075931.html\" target=\"iframe_a\">21075931</a></td>   <td>0</td><td>4</td><td>0</td></tr>\n",
              "<tr><td><a href=\"documents/21097610.html\" target=\"iframe_a\">21097610</a></td>   <td>3</td><td>0</td><td>0</td></tr>\n",
              "<tr><td><a href=\"documents/21097611.html\" target=\"iframe_a\">21097611</a></td>   <td>7</td><td>3</td><td>0</td></tr>\n",
              "<tr><td><a href=\"documents/21097628.html\" target=\"iframe_a\">21097628</a></td>   <td>2</td><td>3</td><td>0</td></tr>\n",
              "<tr><td><a href=\"documents/21105872.html\" target=\"iframe_a\">21105872</a></td>   <td>2</td><td>0</td><td>0</td></tr>\n",
              "<tr><td><a href=\"documents/21115655.html\" target=\"iframe_a\">21115655</a></td>   <td>4</td><td>2</td><td>0</td></tr>\n",
              "<tr><td><a href=\"documents/21115658.html\" target=\"iframe_a\">21115658</a></td>   <td>10</td><td>1</td><td>0</td></tr>\n",
              "<tr><td><a href=\"documents/21118199.html\" target=\"iframe_a\">21118199</a></td>   <td>0</td><td>1</td><td>0</td></tr>\n",
              "<tr><td><a href=\"documents/21118420.html\" target=\"iframe_a\">21118420</a></td>   <td>0</td><td>0</td><td>0</td></tr>\n",
              "<tr><td><a href=\"documents/21126599.html\" target=\"iframe_a\">21126599</a></td>   <td>5</td><td>1</td><td>0</td></tr>\n",
              "<tr><td><a href=\"documents/21126914.html\" target=\"iframe_a\">21126914</a></td>   <td>9</td><td>1</td><td>1</td></tr>\n",
              "<tr><td><a href=\"documents/21131487.html\" target=\"iframe_a\">21131487</a></td>   <td>3</td><td>2</td><td>0</td></tr>\n",
              "<tr><td><a href=\"documents/21131495.html\" target=\"iframe_a\">21131495</a></td>   <td>5</td><td>2</td><td>0</td></tr>\n",
              "<tr><td><a href=\"documents/21143226.html\" target=\"iframe_a\">21143226</a></td>   <td>0</td><td>0</td><td>0</td></tr>\n",
              "<tr><td><a href=\"documents/21145408.html\" target=\"iframe_a\">21145408</a></td>   <td>0</td><td>0</td><td>0</td></tr>\n",
              "<tr><td><a href=\"documents/21145410.html\" target=\"iframe_a\">21145410</a></td>   <td>4</td><td>1</td><td>0</td></tr>\n",
              "<tr><td><a href=\"documents/21148734.html\" target=\"iframe_a\">21148734</a></td>   <td>6</td><td>3</td><td>0</td></tr>\n",
              "<tr><td><a href=\"documents/21148736.html\" target=\"iframe_a\">21148736</a></td>   <td>4</td><td>0</td><td>0</td></tr>\n",
              "<tr><td><a href=\"documents/21155771.html\" target=\"iframe_a\">21155771</a></td>   <td>3</td><td>1</td><td>0</td></tr>\n",
              "<tr><td><a href=\"documents/21163446.html\" target=\"iframe_a\">21163446</a></td>   <td>0</td><td>0</td><td>0</td></tr>\n",
              "<tr><td><a href=\"documents/21166910.html\" target=\"iframe_a\">21166910</a></td>   <td>13</td><td>0</td><td>0</td></tr>\n",
              "<tr><td><a href=\"documents/21169487.html\" target=\"iframe_a\">21169487</a></td>   <td>3</td><td>0</td><td>0</td></tr>\n",
              "<tr><td><a href=\"documents/21176788.html\" target=\"iframe_a\">21176788</a></td>   <td>4</td><td>3</td><td>0</td></tr>\n",
              "<tr><td><a href=\"documents/21199019.html\" target=\"iframe_a\">21199019</a></td>   <td>4</td><td>0</td><td>0</td></tr>\n",
              "<tr><td><a href=\"documents/21199021.html\" target=\"iframe_a\">21199021</a></td>   <td>0</td><td>0</td><td>0</td></tr>\n",
              "<tr><td><a href=\"documents/21220038.html\" target=\"iframe_a\">21220038</a></td>   <td>9</td><td>1</td><td>0</td></tr>\n",
              "<tr><td><a href=\"documents/21227489.html\" target=\"iframe_a\">21227489</a></td>   <td>1</td><td>2</td><td>2</td></tr>\n",
              "<tr><td><a href=\"documents/21227490.html\" target=\"iframe_a\">21227490</a></td>   <td>0</td><td>1</td><td>1</td></tr>\n",
              "<tr><td><a href=\"documents/21227500.html\" target=\"iframe_a\">21227500</a></td>   <td>5</td><td>2</td><td>0</td></tr>\n",
              "<tr><td><a href=\"documents/21237280.html\" target=\"iframe_a\">21237280</a></td>   <td>2</td><td>0</td><td>0</td></tr>\n",
              "<tr><td><a href=\"documents/21241331.html\" target=\"iframe_a\">21241331</a></td>   <td>7</td><td>0</td><td>0</td></tr>\n",
              "<tr><td><a href=\"documents/21241332.html\" target=\"iframe_a\">21241332</a></td>   <td>0</td><td>1</td><td>0</td></tr>\n",
              "<tr><td><a href=\"documents/21251019.html\" target=\"iframe_a\">21251019</a></td>   <td>5</td><td>0</td><td>0</td></tr>\n",
              "<tr><td><a href=\"documents/21269677.html\" target=\"iframe_a\">21269677</a></td>   <td>1</td><td>0</td><td>0</td></tr>\n",
              "<tr><td><a href=\"documents/21272658.html\" target=\"iframe_a\">21272658</a></td>   <td>2</td><td>0</td><td>0</td></tr>\n",
              "<tr><td><a href=\"documents/21277379.html\" target=\"iframe_a\">21277379</a></td>   <td>10</td><td>1</td><td>0</td></tr>\n",
              "<tr><td><a href=\"documents/21294724.html\" target=\"iframe_a\">21294724</a></td>   <td>0</td><td>0</td><td>0</td></tr>\n",
              "<tr><td><a href=\"documents/21303365.html\" target=\"iframe_a\">21303365</a></td>   <td>1</td><td>0</td><td>0</td></tr>\n",
              "<tr><td><a href=\"documents/21323922.html\" target=\"iframe_a\">21323922</a></td>   <td>2</td><td>0</td><td>0</td></tr>\n",
              "<tr><td><a href=\"documents/21324422.html\" target=\"iframe_a\">21324422</a></td>   <td>3</td><td>2</td><td>0</td></tr>\n",
              "<tr><td><a href=\"documents/21334865.html\" target=\"iframe_a\">21334865</a></td>   <td>4</td><td>0</td><td>0</td></tr>\n",
              "<tr><td><a href=\"documents/21349119.html\" target=\"iframe_a\">21349119</a></td>   <td>3</td><td>1</td><td>0</td></tr>\n",
              "<tr><td><a href=\"documents/21349120.html\" target=\"iframe_a\">21349120</a></td>   <td>0</td><td>3</td><td>0</td></tr>\n",
              "<tr><td><a href=\"documents/21349439.html\" target=\"iframe_a\">21349439</a></td>   <td>0</td><td>0</td><td>0</td></tr>\n",
              "<tr><td><a href=\"documents/21366564.html\" target=\"iframe_a\">21366564</a></td>   <td>2</td><td>0</td><td>0</td></tr>\n",
              "<tr><td><a href=\"documents/21388373.html\" target=\"iframe_a\">21388373</a></td>   <td>1</td><td>3</td><td>1</td></tr>\n",
              "<tr><td><a href=\"documents/21397712.html\" target=\"iframe_a\">21397712</a></td>   <td>5</td><td>2</td><td>0</td></tr>\n",
              "<tr><td><a href=\"documents/21398102.html\" target=\"iframe_a\">21398102</a></td>   <td>6</td><td>0</td><td>0</td></tr>\n",
              "<tr><td><a href=\"documents/21401592.html\" target=\"iframe_a\">21401592</a></td>   <td>9</td><td>0</td><td>0</td></tr>\n",
              "<tr><td><a href=\"documents/21401593.html\" target=\"iframe_a\">21401593</a></td>   <td>6</td><td>0</td><td>0</td></tr>\n",
              "<tr><td><a href=\"documents/21418207.html\" target=\"iframe_a\">21418207</a></td>   <td>0</td><td>0</td><td>0</td></tr>\n",
              "<tr><td><a href=\"documents/21420161.html\" target=\"iframe_a\">21420161</a></td>   <td>0</td><td>2</td><td>0</td></tr>\n",
              "<tr><td><a href=\"documents/21435060.html\" target=\"iframe_a\">21435060</a></td>   <td>3</td><td>1</td><td>0</td></tr>\n",
              "<tr><td><a href=\"documents/21435600.html\" target=\"iframe_a\">21435600</a></td>   <td>0</td><td>3</td><td>3</td></tr>\n",
              "<tr><td><a href=\"documents/21440497.html\" target=\"iframe_a\">21440497</a></td>   <td>0</td><td>0</td><td>0</td></tr>\n",
              "<tr><td><a href=\"documents/21450337.html\" target=\"iframe_a\">21450337</a></td>   <td>0</td><td>1</td><td>0</td></tr>\n",
              "<tr><td><a href=\"documents/21459211.html\" target=\"iframe_a\">21459211</a></td>   <td>0</td><td>5</td><td>1</td></tr>\n",
              "<tr><td><a href=\"documents/21466553.html\" target=\"iframe_a\">21466553</a></td>   <td>12</td><td>0</td><td>0</td></tr>\n",
              "<tr><td><a href=\"documents/21466554.html\" target=\"iframe_a\">21466554</a></td>   <td>3</td><td>0</td><td>0</td></tr>\n",
              "<tr><td><a href=\"documents/21474172.html\" target=\"iframe_a\">21474172</a></td>   <td>0</td><td>1</td><td>1</td></tr>\n",
              "<tr><td><a href=\"documents/21474174.html\" target=\"iframe_a\">21474174</a></td>   <td>4</td><td>2</td><td>1</td></tr>\n",
              "<tr><td><a href=\"documents/21492929.html\" target=\"iframe_a\">21492929</a></td>   <td>0</td><td>5</td><td>0</td></tr>\n",
              "<tr><td><a href=\"documents/21496910.html\" target=\"iframe_a\">21496910</a></td>   <td>0</td><td>1</td><td>1</td></tr>\n",
              "<tr><td><a href=\"documents/21511048.html\" target=\"iframe_a\">21511048</a></td>   <td>7</td><td>1</td><td>1</td></tr>\n",
              "<tr><td><a href=\"documents/21514890.html\" target=\"iframe_a\">21514890</a></td>   <td>0</td><td>2</td><td>2</td></tr>\n",
              "<tr><td><a href=\"documents/21521138.html\" target=\"iframe_a\">21521138</a></td>   <td>7</td><td>3</td><td>0</td></tr>\n",
              "<tr><td><a href=\"documents/21521142.html\" target=\"iframe_a\">21521142</a></td>   <td>2</td><td>0</td><td>0</td></tr>\n",
              "<tr><td><a href=\"documents/21526927.html\" target=\"iframe_a\">21526927</a></td>   <td>10</td><td>1</td><td>0</td></tr>\n",
              "<tr><td><a href=\"documents/21529147.html\" target=\"iframe_a\">21529147</a></td>   <td>20</td><td>5</td><td>0</td></tr>\n",
              "<tr><td><a href=\"documents/21558012.html\" target=\"iframe_a\">21558012</a></td>   <td>4</td><td>0</td><td>0</td></tr>\n",
              "<tr><td><a href=\"documents/21561747.html\" target=\"iframe_a\">21561747</a></td>   <td>4</td><td>4</td><td>0</td></tr>\n",
              "<tr><td><a href=\"documents/21585579.html\" target=\"iframe_a\">21585579</a></td>   <td>1</td><td>1</td><td>0</td></tr>\n",
              "<tr><td><a href=\"documents/21600998.html\" target=\"iframe_a\">21600998</a></td>   <td>13</td><td>1</td><td>0</td></tr>\n",
              "<tr><td><a href=\"documents/21601521.html\" target=\"iframe_a\">21601521</a></td>   <td>2</td><td>0</td><td>0</td></tr>\n",
              "<tr><td><a href=\"documents/21601644.html\" target=\"iframe_a\">21601644</a></td>   <td>28</td><td>1</td><td>0</td></tr>\n",
              "<tr><td><a href=\"documents/21641778.html\" target=\"iframe_a\">21641778</a></td>   <td>11</td><td>1</td><td>0</td></tr>\n",
              "<tr><td><a href=\"documents/21689185.html\" target=\"iframe_a\">21689185</a></td>   <td>4</td><td>1</td><td>0</td></tr>\n",
              "<tr><td><a href=\"documents/21696928.html\" target=\"iframe_a\">21696928</a></td>   <td>3</td><td>0</td><td>0</td></tr>\n",
              "<tr><td><a href=\"documents/21699592.html\" target=\"iframe_a\">21699592</a></td>   <td>5</td><td>0</td><td>0</td></tr>\n",
              "<tr><td><a href=\"documents/21793956.html\" target=\"iframe_a\">21793956</a></td>   <td>6</td><td>1</td><td>1</td></tr>\n",
              "<tr><td><a href=\"documents/21855306.html\" target=\"iframe_a\">21855306</a></td>   <td>4</td><td>0</td><td>0</td></tr>\n",
              "<tr><td><a href=\"documents/21906194.html\" target=\"iframe_a\">21906194</a></td>   <td>7</td><td>0</td><td>0</td></tr>\n",
              "<tr><td><a href=\"documents/22182604.html\" target=\"iframe_a\">22182604</a></td>   <td>4</td><td>0</td><td>0</td></tr>\n",
              "<tr><td><a href=\"documents/22182607.html\" target=\"iframe_a\">22182607</a></td>   <td>8</td><td>0</td><td>0</td></tr>\n",
              "<tr><td><a href=\"documents/22182609.html\" target=\"iframe_a\">22182609</a></td>   <td>5</td><td>3</td><td>0</td></tr>\n",
              "<tr><td><a href=\"documents/22182616.html\" target=\"iframe_a\">22182616</a></td>   <td>11</td><td>1</td><td>1</td></tr>\n",
              "<tr><td><a href=\"documents/20118284.html\" target=\"iframe_a\">20118284</a></td>   <td>0</td><td>0</td><td>0</td></tr>\n",
              "<tr><td><a href=\"documents/20173002.html\" target=\"iframe_a\">20173002</a></td>   <td>17</td><td>0</td><td>0</td></tr>\n",
              "<tr><td><a href=\"documents/20173004.html\" target=\"iframe_a\">20173004</a></td>   <td>5</td><td>0</td><td>0</td></tr>\n",
              "<tr><td><a href=\"documents/20173006.html\" target=\"iframe_a\">20173006</a></td>   <td>11</td><td>0</td><td>0</td></tr>\n",
              "<tr><td><a href=\"documents/20601041.html\" target=\"iframe_a\">20601041</a></td>   <td>0</td><td>3</td><td>0</td></tr>\n",
              "<tr><td><a href=\"documents/20807375.html\" target=\"iframe_a\">20807375</a></td>   <td>7</td><td>1</td><td>0</td></tr>\n",
              "<tr><td><a href=\"documents/20825517.html\" target=\"iframe_a\">20825517</a></td>   <td>2</td><td>0</td><td>0</td></tr>\n",
              "<tr><td><a href=\"documents/20840508.html\" target=\"iframe_a\">20840508</a></td>   <td>2</td><td>0</td><td>0</td></tr>\n",
              "<tr><td><a href=\"documents/20868393.html\" target=\"iframe_a\">20868393</a></td>   <td>0</td><td>0</td><td>0</td></tr>\n",
              "<tr><td><a href=\"documents/20884290.html\" target=\"iframe_a\">20884290</a></td>   <td>2</td><td>0</td><td>0</td></tr>\n",
              "<tr><td><a href=\"documents/20946384.html\" target=\"iframe_a\">20946384</a></td>   <td>0</td><td>0</td><td>0</td></tr>\n",
              "<tr><td><a href=\"documents/20946419.html\" target=\"iframe_a\">20946419</a></td>   <td>5</td><td>0</td><td>0</td></tr>\n",
              "<tr><td><a href=\"documents/20946534.html\" target=\"iframe_a\">20946534</a></td>   <td>5</td><td>0</td><td>0</td></tr>\n",
              "<tr><td><a href=\"documents/20946589.html\" target=\"iframe_a\">20946589</a></td>   <td>2</td><td>1</td><td>0</td></tr>\n",
              "<tr><td><a href=\"documents/20950650.html\" target=\"iframe_a\">20950650</a></td>   <td>4</td><td>2</td><td>2</td></tr>\n",
              "<tr><td><a href=\"documents/20955226.html\" target=\"iframe_a\">20955226</a></td>   <td>1</td><td>2</td><td>0</td></tr>\n",
              "<tr><td><a href=\"documents/20955241.html\" target=\"iframe_a\">20955241</a></td>   <td>2</td><td>2</td><td>0</td></tr>\n",
              "<tr><td><a href=\"documents/20962077.html\" target=\"iframe_a\">20962077</a></td>   <td>28</td><td>9</td><td>0</td></tr>\n",
              "<tr><td><a href=\"documents/20962081.html\" target=\"iframe_a\">20962081</a></td>   <td>9</td><td>6</td><td>0</td></tr>\n",
              "<tr><td><a href=\"documents/20962089.html\" target=\"iframe_a\">20962089</a></td>   <td>6</td><td>3</td><td>0</td></tr>\n",
              "<tr><td><a href=\"documents/20964686.html\" target=\"iframe_a\">20964686</a></td>   <td>3</td><td>0</td><td>0</td></tr>\n",
              "<tr><td><a href=\"documents/20964694.html\" target=\"iframe_a\">20964694</a></td>   <td>4</td><td>1</td><td>0</td></tr>\n",
              "<tr><td><a href=\"documents/20971903.html\" target=\"iframe_a\">20971903</a></td>   <td>1</td><td>0</td><td>0</td></tr>\n",
              "<tr><td><a href=\"documents/20980505.html\" target=\"iframe_a\">20980505</a></td>   <td>12</td><td>3</td><td>0</td></tr>\n",
              "<tr><td><a href=\"documents/20980506.html\" target=\"iframe_a\">20980506</a></td>   <td>10</td><td>6</td><td>0</td></tr>\n",
              "<tr><td><a href=\"documents/20980512.html\" target=\"iframe_a\">20980512</a></td>   <td>2</td><td>0</td><td>0</td></tr>\n",
              "<tr><td><a href=\"documents/20980513.html\" target=\"iframe_a\">20980513</a></td>   <td>18</td><td>0</td><td>0</td></tr>\n",
              "<tr><td><a href=\"documents/20980517.html\" target=\"iframe_a\">20980517</a></td>   <td>13</td><td>5</td><td>1</td></tr>\n",
              "<tr><td><a href=\"documents/20980522.html\" target=\"iframe_a\">20980522</a></td>   <td>7</td><td>1</td><td>0</td></tr>\n",
              "<tr><td><a href=\"documents/21035400.html\" target=\"iframe_a\">21035400</a></td>   <td>0</td><td>1</td><td>1</td></tr>\n",
              "<tr><td><a href=\"documents/21037003.html\" target=\"iframe_a\">21037003</a></td>   <td>2</td><td>0</td><td>0</td></tr>\n",
              "<tr><td><a href=\"documents/21037009.html\" target=\"iframe_a\">21037009</a></td>   <td>5</td><td>0</td><td>0</td></tr>\n",
              "<tr><td><a href=\"documents/21039561.html\" target=\"iframe_a\">21039561</a></td>   <td>13</td><td>1</td><td>1</td></tr>\n",
              "<tr><td><a href=\"documents/21054379.html\" target=\"iframe_a\">21054379</a></td>   <td>4</td><td>0</td><td>0</td></tr>\n",
              "<tr><td><a href=\"documents/21062317.html\" target=\"iframe_a\">21062317</a></td>   <td>3</td><td>0</td><td>0</td></tr>\n",
              "<tr><td><a href=\"documents/21070238.html\" target=\"iframe_a\">21070238</a></td>   <td>0</td><td>0</td><td>0</td></tr>\n",
              "<tr><td><a href=\"documents/21075926.html\" target=\"iframe_a\">21075926</a></td>   <td>2</td><td>1</td><td>0</td></tr>\n",
              "<tr><td><a href=\"documents/21075928.html\" target=\"iframe_a\">21075928</a></td>   <td>3</td><td>1</td><td>0</td></tr>\n",
              "<tr><td><a href=\"documents/21097608.html\" target=\"iframe_a\">21097608</a></td>   <td>11</td><td>0</td><td>0</td></tr>\n",
              "<tr><td><a href=\"documents/21097617.html\" target=\"iframe_a\">21097617</a></td>   <td>4</td><td>0</td><td>0</td></tr>\n",
              "<tr><td><a href=\"documents/21097635.html\" target=\"iframe_a\">21097635</a></td>   <td>3</td><td>0</td><td>0</td></tr>\n",
              "<tr><td><a href=\"documents/21148728.html\" target=\"iframe_a\">21148728</a></td>   <td>9</td><td>1</td><td>0</td></tr>\n",
              "<tr><td><a href=\"documents/21148731.html\" target=\"iframe_a\">21148731</a></td>   <td>1</td><td>0</td><td>0</td></tr>\n",
              "<tr><td><a href=\"documents/21155772.html\" target=\"iframe_a\">21155772</a></td>   <td>7</td><td>0</td><td>0</td></tr>\n",
              "<tr><td><a href=\"documents/21176789.html\" target=\"iframe_a\">21176789</a></td>   <td>2</td><td>0</td><td>0</td></tr>\n",
              "<tr><td><a href=\"documents/21183147.html\" target=\"iframe_a\">21183147</a></td>   <td>5</td><td>0</td><td>0</td></tr>\n",
              "<tr><td><a href=\"documents/21183148.html\" target=\"iframe_a\">21183148</a></td>   <td>0</td><td>2</td><td>1</td></tr>\n",
              "<tr><td><a href=\"documents/21183405.html\" target=\"iframe_a\">21183405</a></td>   <td>6</td><td>0</td><td>0</td></tr>\n",
              "<tr><td><a href=\"documents/21205278.html\" target=\"iframe_a\">21205278</a></td>   <td>8</td><td>0</td><td>0</td></tr>\n",
              "<tr><td><a href=\"documents/21226710.html\" target=\"iframe_a\">21226710</a></td>   <td>0</td><td>0</td><td>0</td></tr>\n",
              "<tr><td><a href=\"documents/21239228.html\" target=\"iframe_a\">21239228</a></td>   <td>0</td><td>0</td><td>0</td></tr>\n",
              "<tr><td><a href=\"documents/21241815.html\" target=\"iframe_a\">21241815</a></td>   <td>5</td><td>1</td><td>0</td></tr>\n",
              "<tr><td><a href=\"documents/21251018.html\" target=\"iframe_a\">21251018</a></td>   <td>0</td><td>3</td><td>0</td></tr>\n",
              "<tr><td><a href=\"documents/21269675.html\" target=\"iframe_a\">21269675</a></td>   <td>0</td><td>5</td><td>5</td></tr>\n",
              "<tr><td><a href=\"documents/21281728.html\" target=\"iframe_a\">21281728</a></td>   <td>8</td><td>0</td><td>0</td></tr>\n",
              "<tr><td><a href=\"documents/21281729.html\" target=\"iframe_a\">21281729</a></td>   <td>3</td><td>4</td><td>0</td></tr>\n",
              "<tr><td><a href=\"documents/21295520.html\" target=\"iframe_a\">21295520</a></td>   <td>8</td><td>0</td><td>0</td></tr>\n",
              "<tr><td><a href=\"documents/21296615.html\" target=\"iframe_a\">21296615</a></td>   <td>0</td><td>0</td><td>0</td></tr>\n",
              "<tr><td><a href=\"documents/21349440.html\" target=\"iframe_a\">21349440</a></td>   <td>1</td><td>0</td><td>0</td></tr>\n",
              "<tr><td><a href=\"documents/21406243.html\" target=\"iframe_a\">21406243</a></td>   <td>4</td><td>2</td><td>0</td></tr>\n",
              "<tr><td><a href=\"documents/21418208.html\" target=\"iframe_a\">21418208</a></td>   <td>10</td><td>0</td><td>0</td></tr>\n",
              "<tr><td><a href=\"documents/21435061.html\" target=\"iframe_a\">21435061</a></td>   <td>4</td><td>0</td><td>0</td></tr>\n",
              "<tr><td><a href=\"documents/21435599.html\" target=\"iframe_a\">21435599</a></td>   <td>0</td><td>3</td><td>3</td></tr>\n",
              "<tr><td><a href=\"documents/21458376.html\" target=\"iframe_a\">21458376</a></td>   <td>0</td><td>1</td><td>1</td></tr>\n",
              "<tr><td><a href=\"documents/21459562.html\" target=\"iframe_a\">21459562</a></td>   <td>4</td><td>0</td><td>0</td></tr>\n",
              "<tr><td><a href=\"documents/21463301.html\" target=\"iframe_a\">21463301</a></td>   <td>1</td><td>0</td><td>0</td></tr>\n",
              "<tr><td><a href=\"documents/21463833.html\" target=\"iframe_a\">21463833</a></td>   <td>0</td><td>2</td><td>2</td></tr>\n",
              "<tr><td><a href=\"documents/21496906.html\" target=\"iframe_a\">21496906</a></td>   <td>0</td><td>0</td><td>0</td></tr>\n",
              "<tr><td><a href=\"documents/21498113.html\" target=\"iframe_a\">21498113</a></td>   <td>2</td><td>5</td><td>4</td></tr>\n",
              "<tr><td><a href=\"documents/21521141.html\" target=\"iframe_a\">21521141</a></td>   <td>3</td><td>0</td><td>0</td></tr>\n",
              "<tr><td><a href=\"documents/21521216.html\" target=\"iframe_a\">21521216</a></td>   <td>1</td><td>0</td><td>0</td></tr>\n",
              "<tr><td><a href=\"documents/21526932.html\" target=\"iframe_a\">21526932</a></td>   <td>11</td><td>0</td><td>0</td></tr>\n",
              "<tr><td><a href=\"documents/21526933.html\" target=\"iframe_a\">21526933</a></td>   <td>5</td><td>0</td><td>0</td></tr>\n",
              "<tr><td><a href=\"documents/21699596.html\" target=\"iframe_a\">21699596</a></td>   <td>0</td><td>0</td><td>0</td></tr>\n",
              "<tr><td><a href=\"documents/21839848.html\" target=\"iframe_a\">21839848</a></td>   <td>6</td><td>0</td><td>0</td></tr>\n",
              "<tr><td><a href=\"documents/21907817.html\" target=\"iframe_a\">21907817</a></td>   <td>4</td><td>3</td><td>0</td></tr>\n",
              "<tr><td><a href=\"documents/22001288.html\" target=\"iframe_a\">22001288</a></td>   <td>2</td><td>2</td><td>0</td></tr>\n",
              "<tr><td><a href=\"documents/22004876.html\" target=\"iframe_a\">22004876</a></td>   <td>12</td><td>1</td><td>0</td></tr>\n",
              "<tr><td><a href=\"documents/22182612.html\" target=\"iframe_a\">22182612</a></td>   <td>17</td><td>2</td><td>0</td></tr>\n",
              "<tr><td><a href=\"documents/22182619.html\" target=\"iframe_a\">22182619</a></td>   <td>7</td><td>0</td><td>0</td></tr>\n",
              "</tbody></table> \n",
              "\t\n",
              "\t</div> <!-- END column : species list-->\n",
              "\t<div class=\"column2\"> <!-- show one species -->\n",
              "\t\t<iframe width=\"100%\" style=\"position:absolute; height: 100%; width: 70%; border: none\" src=\"blank.html\" id=\"iFrame1\" name=\"iframe_a\" title=\"Iframe Example\"></iframe>\n",
              "\t</div> <!-- END column : show one species -->\n",
              "</div> <!-- END row -->\n",
              "</body>\n",
              "\n",
              "\n",
              "  <script type=\"application/javascript\">\n",
              "  \n",
              "filter.onkeyup = function myFunction(e) {\n",
              "  // Declare variables\n",
              "  var input, filter, table, tr, td, i, txtValue;\n",
              "  input = document.getElementById(\"filter\");\n",
              "  filter = input.value.toUpperCase();\n",
              "  table = document.getElementById(\"grid\");\n",
              "  tr = table.getElementsByTagName(\"tr\");\n",
              "\n",
              "  // Loop through all table rows, and hide those who don't match the search query\n",
              "  for (i = 0; i < tr.length; i++) {\n",
              "    td = tr[i].getElementsByTagName(\"td\")[0];\n",
              "    if (td) {\n",
              "      txtValue = td.textContent || td.innerText;\n",
              "      if (txtValue.toUpperCase().indexOf(filter) > -1) {\n",
              "        tr[i].style.display = \"\";\n",
              "      } else {\n",
              "        tr[i].style.display = \"none\";\n",
              "      }\n",
              "    }\n",
              "  }\n",
              "}\n",
              "\n",
              "    grid.onclick = function(e) {\n",
              "      if (e.target.tagName != 'TH') return;\n",
              "\n",
              "      let th = e.target;\n",
              "      // if TH, then sort\n",
              "      // cellIndex is the number of th:\n",
              "      //   0 for the first column\n",
              "      //   1 for the second column, etc\n",
              "      sortGrid(th.cellIndex, th.dataset.type);\n",
              "    };\n",
              "\n",
              "    function sortGrid(colNum, type) {\n",
              "      let tbody = grid.querySelector('tbody');\n",
              "\n",
              "      let rowsArray = Array.from(tbody.rows);\n",
              "\n",
              "      // compare(a, b) compares two rows, need for sorting\n",
              "      let compare;\n",
              "\n",
              "      switch (type) {\n",
              "        case 'number':\n",
              "          compare = function(rowA, rowB) {\n",
              "            return rowB.cells[colNum].innerHTML - rowA.cells[colNum].innerHTML;\n",
              "          };\n",
              "          break;\n",
              "        case 'string':\n",
              "          compare = function(rowA, rowB) {\n",
              "            return rowA.cells[colNum].innerHTML > rowB.cells[colNum].innerHTML ? 1 : -1;\n",
              "          };\n",
              "          break;\n",
              "      }\n",
              "\n",
              "      // sort\n",
              "      rowsArray.sort(compare);\n",
              "\n",
              "      tbody.append(...rowsArray);\n",
              "    }\n",
              "  </script>\n",
              "  \n",
              "</html> \n"
            ],
            "text/plain": [
              "<IPython.core.display.HTML object>"
            ]
          },
          "metadata": {
            "tags": []
          },
          "execution_count": 115
        }
      ]
    },
    {
      "cell_type": "markdown",
      "metadata": {
        "id": "edMiB7hY1XZu"
      },
      "source": [
        "## Tar and download"
      ]
    },
    {
      "cell_type": "code",
      "metadata": {
        "id": "2ujfR-oul2MJ",
        "colab": {
          "base_uri": "https://localhost:8080/"
        },
        "outputId": "29c82ba7-e183-4b68-d540-3052441d25d4"
      },
      "source": [
        "ls -la s800_ambiguous_html"
      ],
      "execution_count": null,
      "outputs": [
        {
          "output_type": "stream",
          "text": [
            "total 2700\n",
            "drwxr-sr-x  4 root     2001426    4096 May 28 17:54 \u001b[0m\u001b[01;34m.\u001b[0m/\n",
            "drwxrws--- 11 10010226 2001426    4096 May 28 17:54 \u001b[01;34m..\u001b[0m/\n",
            "-rw-r--r--  1 root     2001426      13 May 28 17:54 blank.html\n",
            "drwxr-sr-x  2 root     2001426   36864 May 28 17:54 \u001b[01;34mdocuments\u001b[0m/\n",
            "-rw-r--r--  1 root     2001426 1532475 May 28 17:54 index_document_all.html\n",
            "-rw-r--r--  1 root     2001426   83195 May 28 17:54 index_document.html\n",
            "-rw-r--r--  1 root     2001426   98008 May 28 17:54 index_document_iframe.html\n",
            "-rw-r--r--  1 root     2001426  445287 May 28 17:54 index.html\n",
            "-rw-r--r--  1 root     2001426  478321 May 28 17:54 index_species_iframe.html\n",
            "drwxr-sr-x  2 root     2001426   69632 May 28 17:54 \u001b[01;34mspecies\u001b[0m/\n"
          ],
          "name": "stdout"
        }
      ]
    },
    {
      "cell_type": "code",
      "metadata": {
        "id": "cA34_1slns52"
      },
      "source": [
        "html_tar_file=\"s800_ambiguous_html.tar.gz\"\n",
        "!tar -czvf $html_tar_file s800_ambiguous_html  1> /dev/null"
      ],
      "execution_count": null,
      "outputs": []
    },
    {
      "cell_type": "code",
      "metadata": {
        "id": "WYNwWBNPEa5z",
        "colab": {
          "base_uri": "https://localhost:8080/"
        },
        "outputId": "1282b4b7-8e07-4b2a-eaa9-f3a4793dd52c"
      },
      "source": [
        "ls -la"
      ],
      "execution_count": null,
      "outputs": [
        {
          "output_type": "stream",
          "text": [
            "total 4688\n",
            "drwxrws--- 11 10010226 2001426    4096 May 28 17:54 \u001b[0m\u001b[01;34m.\u001b[0m/\n",
            "drwxr-xr-x  1 root     root       4096 May 28 17:06 \u001b[01;34m..\u001b[0m/\n",
            "-rw-r--r--  1 root     2001426  792190 May 28 17:50 common_names.txt\n",
            "drwxrws---  2 10010226 2001426    4096 Aug 18  2020 \u001b[01;34mconll\u001b[0m/\n",
            "-rwxrwx---  1 10010226 2001426     661 Aug  3  2020 \u001b[01;32mconvert_s800.sh\u001b[0m*\n",
            "drwxrws---  8 10010226 2001426    4096 Aug  3  2020 \u001b[01;34m.git\u001b[0m/\n",
            "drwxrws---  4 10010226 2001426    4096 Aug  3  2020 \u001b[01;34moriginal-data\u001b[0m/\n",
            "-rw-rw----  1 10010226 2001426     569 Aug  3  2020 README.md\n",
            "-rw-rw----  1 10010226 2001426 1005433 Nov 20  2015 S800-1.0.tar.gz\n",
            "drwxr-sr-x  4 root     2001426    4096 May 28 17:54 \u001b[01;34ms800_ambiguous_html\u001b[0m/\n",
            "-rw-r--r--  1 root     2001426 2895123 May 28 17:54 s800_ambiguous_html.tar.gz\n",
            "drwxrws---  2 10010226 2001426    4096 Aug  3  2020 \u001b[01;34msplit\u001b[0m/\n",
            "-rwxrwx---  1 10010226 2001426     342 Aug  3  2020 \u001b[01;32msplit_s800.sh\u001b[0m*\n",
            "drwxrws---  5 10010226 2001426    4096 Aug  3  2020 \u001b[01;34msplit-standoff\u001b[0m/\n",
            "drwxrws---  2 10010226 2001426   49152 Aug  3  2020 \u001b[01;34mstandoff\u001b[0m/\n",
            "drwxrws---  4 10010226 2001426    4096 Aug  3  2020 \u001b[01;34mstandoff2conll\u001b[0m/\n",
            "drwxrws---  2 10010226 2001426    4096 Aug  3  2020 \u001b[01;34mtools\u001b[0m/\n"
          ],
          "name": "stdout"
        }
      ]
    },
    {
      "cell_type": "code",
      "metadata": {
        "id": "TQlMpZ1zKcZl",
        "colab": {
          "base_uri": "https://localhost:8080/"
        },
        "outputId": "61ff8c09-6cba-4214-b4d5-f4183d1f4d25"
      },
      "source": [
        "files.download(html_tar_file)"
      ],
      "execution_count": null,
      "outputs": [
        {
          "output_type": "display_data",
          "data": {
            "application/javascript": [
              "\n",
              "    async function download(id, filename, size) {\n",
              "      if (!google.colab.kernel.accessAllowed) {\n",
              "        return;\n",
              "      }\n",
              "      const div = document.createElement('div');\n",
              "      const label = document.createElement('label');\n",
              "      label.textContent = `Downloading \"${filename}\": `;\n",
              "      div.appendChild(label);\n",
              "      const progress = document.createElement('progress');\n",
              "      progress.max = size;\n",
              "      div.appendChild(progress);\n",
              "      document.body.appendChild(div);\n",
              "\n",
              "      const buffers = [];\n",
              "      let downloaded = 0;\n",
              "\n",
              "      const channel = await google.colab.kernel.comms.open(id);\n",
              "      // Send a message to notify the kernel that we're ready.\n",
              "      channel.send({})\n",
              "\n",
              "      for await (const message of channel.messages) {\n",
              "        // Send a message to notify the kernel that we're ready.\n",
              "        channel.send({})\n",
              "        if (message.buffers) {\n",
              "          for (const buffer of message.buffers) {\n",
              "            buffers.push(buffer);\n",
              "            downloaded += buffer.byteLength;\n",
              "            progress.value = downloaded;\n",
              "          }\n",
              "        }\n",
              "      }\n",
              "      const blob = new Blob(buffers, {type: 'application/binary'});\n",
              "      const a = document.createElement('a');\n",
              "      a.href = window.URL.createObjectURL(blob);\n",
              "      a.download = filename;\n",
              "      div.appendChild(a);\n",
              "      a.click();\n",
              "      div.remove();\n",
              "    }\n",
              "  "
            ],
            "text/plain": [
              "<IPython.core.display.Javascript object>"
            ]
          },
          "metadata": {
            "tags": []
          }
        },
        {
          "output_type": "display_data",
          "data": {
            "application/javascript": [
              "download(\"download_c4b7a6aa-7fbe-48ac-9c58-27c710e7f4af\", \"s800_ambiguous_html.tar.gz\", 2895123)"
            ],
            "text/plain": [
              "<IPython.core.display.Javascript object>"
            ]
          },
          "metadata": {
            "tags": []
          }
        }
      ]
    },
    {
      "cell_type": "code",
      "metadata": {
        "id": "1QfoEvRonnnI"
      },
      "source": [
        ""
      ],
      "execution_count": null,
      "outputs": []
    }
  ]
}